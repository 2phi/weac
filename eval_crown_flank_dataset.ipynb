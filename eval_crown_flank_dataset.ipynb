{
 "cells": [
  {
   "cell_type": "code",
   "execution_count": 1,
   "id": "3bf64450",
   "metadata": {},
   "outputs": [],
   "source": [
    "# Auto reload modules\n",
    "%load_ext autoreload\n",
    "%autoreload all"
   ]
  },
  {
   "cell_type": "code",
   "execution_count": 2,
   "id": "fda4fdf9",
   "metadata": {},
   "outputs": [],
   "source": [
    "import os\n",
    "from typing import List\n",
    "import numpy as np\n",
    "from numpy.linalg import LinAlgError\n",
    "import pandas as pd\n",
    "from pprint import pprint\n",
    "import copy\n",
    "from tqdm.notebook import tqdm\n",
    "\n",
    "from weac_2.analysis import Analyzer, CriteriaEvaluator, CoupledCriterionResult, SSERRResult\n",
    "from weac_2.core.system_model import SystemModel\n",
    "from weac_2.components import ModelInput, Segment, ScenarioConfig, WeakLayer, Layer, CriteriaConfig\n",
    "from weac_2.utils.snowpilot_parser import SnowPilotParser, convert_to_mm, convert_to_deg"
   ]
  },
  {
   "cell_type": "code",
   "execution_count": null,
   "id": "241bc355",
   "metadata": {},
   "outputs": [
    {
     "name": "stdout",
     "output_type": "stream",
     "text": [
      "\n",
      "Found 31170 files\n",
      "\n",
      "Found 945 pits near avalanche\n",
      "\n",
      "Found 848 pits near avalanche with layer of concern\n"
     ]
    }
   ],
   "source": [
    "# Process multiple files\n",
    "file_paths = []\n",
    "for directory in os.listdir(\"data/snowpits\"):\n",
    "    for file in os.listdir(f\"data/snowpits/{directory}\"):\n",
    "        if file.endswith(\".xml\"):\n",
    "            file_paths.append(f\"data/snowpits/{directory}/{file}\")\n",
    "\n",
    "paths: List[str] = []\n",
    "parsers: List[SnowPilotParser] = []\n",
    "\n",
    "for file_path in file_paths:\n",
    "    snowpilot_parser = SnowPilotParser(file_path)\n",
    "    paths.append(file_path)\n",
    "    parsers.append(snowpilot_parser)\n",
    "\n",
    "print(f\"\\nFound {len(paths)} files\")\n",
    "\n"
   ]
  },
  {
   "cell_type": "code",
   "execution_count": 22,
   "id": "830f51ea",
   "metadata": {},
   "outputs": [
    {
     "name": "stdout",
     "output_type": "stream",
     "text": [
      "\n",
      "Found 945 pits near avalanche\n",
      "\n",
      "Found 848 pits near avalanche with layer of concern\n"
     ]
    }
   ],
   "source": [
    "pits_near_avalanche: List[SnowPilotParser] = []\n",
    "for parser in parsers:\n",
    "    # Avalanche pits\n",
    "    if parser.snowpit.core_info.location.pit_near_avalanche:\n",
    "        # print(parser.snowpit.core_info.location.pit_near_avalanche_location)\n",
    "        pits_near_avalanche.append(parser)\n",
    "\n",
    "print(f\"\\nFound {len(pits_near_avalanche)} pits near avalanche\")\n",
    "\n",
    "avalanche_pits_with_layer_of_concern: List[SnowPilotParser] = []\n",
    "for pit in pits_near_avalanche:\n",
    "    if pit.snowpit.snow_profile.layer_of_concern:\n",
    "        # print(pit.snowpit.snow_profile.layer_of_concern)\n",
    "        avalanche_pits_with_layer_of_concern.append(pit)\n",
    "\n",
    "print(f\"\\nFound {len(avalanche_pits_with_layer_of_concern)} pits near avalanche with layer of concern\")\n"
   ]
  },
  {
   "cell_type": "code",
   "execution_count": 27,
   "id": "8cdab0c1",
   "metadata": {},
   "outputs": [
    {
     "name": "stdout",
     "output_type": "stream",
     "text": [
      "[{'Slope Angle': '23', 'HS': None, 'Profile Depth': 1000.0, 'Pit Near Avalanche Location': 'crown', 'WL_Depth': 800.0, 'WL_Thickness': 10.0}, {'Slope Angle': '42', 'HS': 930.0, 'Profile Depth': 930.0, 'Pit Near Avalanche Location': 'crown', 'WL_Depth': 390.0, 'WL_Thickness': 10.0}, {'Slope Angle': '28', 'HS': 1350.0, 'Profile Depth': 1350.0, 'Pit Near Avalanche Location': 'crown', 'WL_Depth': 300.0, 'WL_Thickness': 10.0}, {'Slope Angle': '24', 'HS': 740.0, 'Profile Depth': 740.0, 'Pit Near Avalanche Location': 'flank', 'WL_Depth': 480.0, 'WL_Thickness': 260.0}, {'Slope Angle': '28', 'HS': 2000.0, 'Profile Depth': 1250.0, 'Pit Near Avalanche Location': 'flank', 'WL_Depth': 90.0, 'WL_Thickness': 290.0}, {'Slope Angle': '27', 'HS': 1750.0, 'Profile Depth': 1750.0, 'Pit Near Avalanche Location': 'flank', 'WL_Depth': 1170.0, 'WL_Thickness': 10.0}, {'Slope Angle': '38', 'HS': 710.0, 'Profile Depth': 710.0, 'Pit Near Avalanche Location': 'crown', 'WL_Depth': 350.0, 'WL_Thickness': 10.0}, {'Slope Angle': '17', 'HS': 1250.0, 'Profile Depth': 1250.0, 'Pit Near Avalanche Location': 'other', 'WL_Depth': 770.0, 'WL_Thickness': 60.0}, {'Slope Angle': '27', 'HS': 710.0, 'Profile Depth': 710.0, 'Pit Near Avalanche Location': 'crown', 'WL_Depth': 520.0, 'WL_Thickness': 190.0}, {'Slope Angle': '15', 'HS': 2200.0, 'Profile Depth': 2200.0, 'Pit Near Avalanche Location': 'other', 'WL_Depth': 1700.0, 'WL_Thickness': 500.0}, {'Slope Angle': '30', 'HS': 1700.0, 'Profile Depth': 1700.0, 'Pit Near Avalanche Location': 'crown', 'WL_Depth': 1500.0, 'WL_Thickness': 20.0}, {'Slope Angle': '27', 'HS': 1080.0, 'Profile Depth': 1080.0, 'Pit Near Avalanche Location': 'flank', 'WL_Depth': 20.0, 'WL_Thickness': 150.0}, {'Slope Angle': '25', 'HS': 3050.0, 'Profile Depth': 1000.0, 'Pit Near Avalanche Location': 'crown', 'WL_Depth': 210.0, 'WL_Thickness': 390.0}, {'Slope Angle': '37', 'HS': 1100.0, 'Profile Depth': 1100.0, 'Pit Near Avalanche Location': 'flank', 'WL_Depth': 640.0, 'WL_Thickness': 20.0}, {'Slope Angle': '36', 'HS': 2670.0, 'Profile Depth': 1250.0, 'Pit Near Avalanche Location': 'crown', 'WL_Depth': 960.0, 'WL_Thickness': 10.0}, {'Slope Angle': '37', 'HS': 2420.0, 'Profile Depth': 2420.0, 'Pit Near Avalanche Location': 'flank', 'WL_Depth': 620.0, 'WL_Thickness': 30.0}, {'Slope Angle': '30', 'HS': 900.0, 'Profile Depth': 700.0, 'Pit Near Avalanche Location': 'flank', 'WL_Depth': 230.0, 'WL_Thickness': 70.0}, {'Slope Angle': '29', 'HS': 1250.0, 'Profile Depth': 1250.0, 'Pit Near Avalanche Location': None, 'WL_Depth': 700.0, 'WL_Thickness': 2.0}, {'Slope Angle': '35', 'HS': 1050.0, 'Profile Depth': 1050.0, 'Pit Near Avalanche Location': 'crown', 'WL_Depth': 310.0, 'WL_Thickness': 10.0}, {'Slope Angle': '47', 'HS': 1660.0, 'Profile Depth': 1660.0, 'Pit Near Avalanche Location': 'crown', 'WL_Depth': 960.0, 'WL_Thickness': 50.0}, {'Slope Angle': '49', 'HS': 2110.0, 'Profile Depth': 2110.0, 'Pit Near Avalanche Location': 'crown', 'WL_Depth': 550.0, 'WL_Thickness': 30.0}, {'Slope Angle': '33', 'HS': 2070.0, 'Profile Depth': 2070.0, 'Pit Near Avalanche Location': 'crown', 'WL_Depth': 680.0, 'WL_Thickness': 40.0}, {'Slope Angle': '35', 'HS': 1700.0, 'Profile Depth': 1700.0, 'Pit Near Avalanche Location': 'crown', 'WL_Depth': 350.0, 'WL_Thickness': 5.0}, {'Slope Angle': '32', 'HS': 1350.0, 'Profile Depth': 1350.0, 'Pit Near Avalanche Location': 'crown', 'WL_Depth': 650.0, 'WL_Thickness': 10.0}, {'Slope Angle': '30', 'HS': 2650.0, 'Profile Depth': 2650.0, 'Pit Near Avalanche Location': 'other', 'WL_Depth': 500.0, 'WL_Thickness': 50.0}, {'Slope Angle': '35', 'HS': 2200.0, 'Profile Depth': 1300.0, 'Pit Near Avalanche Location': 'crown', 'WL_Depth': 950.0, 'WL_Thickness': 50.0}, {'Slope Angle': '38', 'HS': 1200.0, 'Profile Depth': 1200.0, 'Pit Near Avalanche Location': 'crown', 'WL_Depth': 780.0, 'WL_Thickness': 220.0}, {'Slope Angle': '25', 'HS': 1700.0, 'Profile Depth': 1700.0, 'Pit Near Avalanche Location': 'crown', 'WL_Depth': 1330.0, 'WL_Thickness': 60.0}, {'Slope Angle': '24', 'HS': 1680.0, 'Profile Depth': 1680.0, 'Pit Near Avalanche Location': 'other', 'WL_Depth': 1020.0, 'WL_Thickness': 660.0}, {'Slope Angle': '30', 'HS': 3400.0, 'Profile Depth': 3400.0, 'Pit Near Avalanche Location': 'flank', 'WL_Depth': 900.0, 'WL_Thickness': 100.0}, {'Slope Angle': '37', 'HS': 1100.0, 'Profile Depth': 1100.0, 'Pit Near Avalanche Location': 'crown', 'WL_Depth': 300.0, 'WL_Thickness': 20.0}, {'Slope Angle': '15', 'HS': 2350.0, 'Profile Depth': 800.0, 'Pit Near Avalanche Location': 'flank', 'WL_Depth': 470.0, 'WL_Thickness': 100.0}, {'Slope Angle': '34', 'HS': 1210.0, 'Profile Depth': 1210.0, 'Pit Near Avalanche Location': 'other', 'WL_Depth': 950.0, 'WL_Thickness': 100.0}, {'Slope Angle': '38', 'HS': 1200.0, 'Profile Depth': 1200.0, 'Pit Near Avalanche Location': 'crown', 'WL_Depth': 650.0, 'WL_Thickness': 270.0}, {'Slope Angle': '38', 'HS': 1180.0, 'Profile Depth': 1180.0, 'Pit Near Avalanche Location': 'flank', 'WL_Depth': 330.0, 'WL_Thickness': 230.0}, {'Slope Angle': '15', 'HS': 1250.0, 'Profile Depth': 1250.0, 'Pit Near Avalanche Location': 'crown', 'WL_Depth': 1015.0, 'WL_Thickness': 85.0}, {'Slope Angle': '28', 'HS': 750.0, 'Profile Depth': 750.0, 'Pit Near Avalanche Location': 'flank', 'WL_Depth': 510.0, 'WL_Thickness': 240.0}, {'Slope Angle': '35', 'HS': 1850.0, 'Profile Depth': 1850.0, 'Pit Near Avalanche Location': 'flank', 'WL_Depth': 300.0, 'WL_Thickness': 20.0}, {'Slope Angle': '30', 'HS': 1400.0, 'Profile Depth': 1400.0, 'Pit Near Avalanche Location': None, 'WL_Depth': 400.0, 'WL_Thickness': 1000.0}, {'Slope Angle': '30', 'HS': 670.0, 'Profile Depth': 670.0, 'Pit Near Avalanche Location': 'crown', 'WL_Depth': 300.0, 'WL_Thickness': 370.0}, {'Slope Angle': None, 'HS': 1380.0, 'Profile Depth': 1380.0, 'Pit Near Avalanche Location': 'other', 'WL_Depth': 260.0, 'WL_Thickness': 20.0}, {'Slope Angle': '24', 'HS': None, 'Profile Depth': 950.0, 'Pit Near Avalanche Location': 'crown', 'WL_Depth': 500.0, 'WL_Thickness': 5.0}, {'Slope Angle': '30', 'HS': 2360.0, 'Profile Depth': 2360.0, 'Pit Near Avalanche Location': 'flank', 'WL_Depth': 1060.0, 'WL_Thickness': 50.0}, {'Slope Angle': '32', 'HS': 3000.0, 'Profile Depth': 600.0, 'Pit Near Avalanche Location': 'crown', 'WL_Depth': 400.0, 'WL_Thickness': 80.0}, {'Slope Angle': '27', 'HS': 1150.0, 'Profile Depth': 1150.0, 'Pit Near Avalanche Location': 'flank', 'WL_Depth': 340.0, 'WL_Thickness': 240.0}, {'Slope Angle': '31', 'HS': None, 'Profile Depth': 870.0, 'Pit Near Avalanche Location': 'crown', 'WL_Depth': 530.0, 'WL_Thickness': 10.0}, {'Slope Angle': '43', 'HS': 2400.0, 'Profile Depth': 2400.0, 'Pit Near Avalanche Location': 'crown', 'WL_Depth': 660.0, 'WL_Thickness': 120.0}, {'Slope Angle': '36', 'HS': 2700.0, 'Profile Depth': 1100.0, 'Pit Near Avalanche Location': 'crown', 'WL_Depth': 250.0, 'WL_Thickness': 20.0}, {'Slope Angle': '34', 'HS': 4000.0, 'Profile Depth': 1100.0, 'Pit Near Avalanche Location': 'crown', 'WL_Depth': 820.0, 'WL_Thickness': 10.0}, {'Slope Angle': '39', 'HS': 2400.0, 'Profile Depth': 1000.0, 'Pit Near Avalanche Location': 'crown', 'WL_Depth': 600.0, 'WL_Thickness': 20.0}, {'Slope Angle': '35', 'HS': 1360.0, 'Profile Depth': 1360.0, 'Pit Near Avalanche Location': 'flank', 'WL_Depth': 610.0, 'WL_Thickness': 10.0}, {'Slope Angle': '17', 'HS': 1260.0, 'Profile Depth': 1260.0, 'Pit Near Avalanche Location': None, 'WL_Depth': 780.0, 'WL_Thickness': 60.0}, {'Slope Angle': '37', 'HS': 1560.0, 'Profile Depth': 1560.0, 'Pit Near Avalanche Location': 'flank', 'WL_Depth': 960.0, 'WL_Thickness': 130.0}, {'Slope Angle': '36', 'HS': 1850.0, 'Profile Depth': 1850.0, 'Pit Near Avalanche Location': 'crown', 'WL_Depth': 1390.0, 'WL_Thickness': 50.0}, {'Slope Angle': '34', 'HS': 920.0, 'Profile Depth': 920.0, 'Pit Near Avalanche Location': 'crown', 'WL_Depth': 640.0, 'WL_Thickness': 280.0}, {'Slope Angle': '42', 'HS': 2800.0, 'Profile Depth': 1500.0, 'Pit Near Avalanche Location': 'crown', 'WL_Depth': 200.0, 'WL_Thickness': 60.0}, {'Slope Angle': '15', 'HS': 3200.0, 'Profile Depth': 900.0, 'Pit Near Avalanche Location': 'flank', 'WL_Depth': 410.0, 'WL_Thickness': 50.0}, {'Slope Angle': '24', 'HS': 1420.0, 'Profile Depth': 1420.0, 'Pit Near Avalanche Location': 'flank', 'WL_Depth': 1020.0, 'WL_Thickness': 40.0}, {'Slope Angle': '37', 'HS': 720.0, 'Profile Depth': 720.0, 'Pit Near Avalanche Location': 'flank', 'WL_Depth': 420.0, 'WL_Thickness': 300.0}, {'Slope Angle': '40', 'HS': 1450.0, 'Profile Depth': 1450.0, 'Pit Near Avalanche Location': 'crown', 'WL_Depth': 955.0, 'WL_Thickness': 195.0}, {'Slope Angle': '26', 'HS': 470.0, 'Profile Depth': 470.0, 'Pit Near Avalanche Location': 'crown', 'WL_Depth': 0.0, 'WL_Thickness': 190.0}, {'Slope Angle': '35', 'HS': 1800.0, 'Profile Depth': 1800.0, 'Pit Near Avalanche Location': 'crown', 'WL_Depth': 510.0, 'WL_Thickness': 5.0}, {'Slope Angle': '26', 'HS': 1050.0, 'Profile Depth': 1050.0, 'Pit Near Avalanche Location': 'crown', 'WL_Depth': 900.0, 'WL_Thickness': 150.0}, {'Slope Angle': None, 'HS': 2700.0, 'Profile Depth': 2700.0, 'Pit Near Avalanche Location': 'crown', 'WL_Depth': 1930.0, 'WL_Thickness': 50.0}, {'Slope Angle': '34', 'HS': 2000.0, 'Profile Depth': 2000.0, 'Pit Near Avalanche Location': None, 'WL_Depth': 800.0, 'WL_Thickness': 50.0}, {'Slope Angle': '25', 'HS': 2400.0, 'Profile Depth': 2400.0, 'Pit Near Avalanche Location': 'crown', 'WL_Depth': 1600.0, 'WL_Thickness': 10.0}, {'Slope Angle': '29', 'HS': 1750.0, 'Profile Depth': 1750.0, 'Pit Near Avalanche Location': None, 'WL_Depth': 460.0, 'WL_Thickness': 5.0}, {'Slope Angle': '40', 'HS': 1750.0, 'Profile Depth': 1750.0, 'Pit Near Avalanche Location': 'crown', 'WL_Depth': 740.0, 'WL_Thickness': 60.0}, {'Slope Angle': '39', 'HS': 1230.0, 'Profile Depth': 1230.0, 'Pit Near Avalanche Location': 'crown', 'WL_Depth': 700.0, 'WL_Thickness': 20.0}, {'Slope Angle': '33', 'HS': 1550.0, 'Profile Depth': 1550.0, 'Pit Near Avalanche Location': 'crown', 'WL_Depth': 580.0, 'WL_Thickness': 10.0}, {'Slope Angle': '20', 'HS': 1500.0, 'Profile Depth': 1500.0, 'Pit Near Avalanche Location': 'flank', 'WL_Depth': 700.0, 'WL_Thickness': 20.0}, {'Slope Angle': '35', 'HS': 900.0, 'Profile Depth': 900.0, 'Pit Near Avalanche Location': 'crown', 'WL_Depth': 550.0, 'WL_Thickness': 30.0}, {'Slope Angle': '35', 'HS': 1100.0, 'Profile Depth': 1100.0, 'Pit Near Avalanche Location': 'flank', 'WL_Depth': 800.0, 'WL_Thickness': 200.0}, {'Slope Angle': '30', 'HS': 500.0, 'Profile Depth': 500.0, 'Pit Near Avalanche Location': 'flank', 'WL_Depth': 150.0, 'WL_Thickness': 40.0}, {'Slope Angle': '36', 'HS': 2080.0, 'Profile Depth': 2080.0, 'Pit Near Avalanche Location': 'crown', 'WL_Depth': 500.0, 'WL_Thickness': 70.0}, {'Slope Angle': '24', 'HS': 980.0, 'Profile Depth': 980.0, 'Pit Near Avalanche Location': 'crown', 'WL_Depth': 260.0, 'WL_Thickness': 10.0}, {'Slope Angle': None, 'HS': 1210.0, 'Profile Depth': 1210.0, 'Pit Near Avalanche Location': 'crown', 'WL_Depth': 870.0, 'WL_Thickness': 30.0}, {'Slope Angle': '32', 'HS': 1050.0, 'Profile Depth': 1050.0, 'Pit Near Avalanche Location': 'other', 'WL_Depth': 20.0, 'WL_Thickness': 260.0}, {'Slope Angle': '5', 'HS': 910.0, 'Profile Depth': 910.0, 'Pit Near Avalanche Location': 'other', 'WL_Depth': 550.0, 'WL_Thickness': 360.0}, {'Slope Angle': None, 'HS': 1200.0, 'Profile Depth': 1200.0, 'Pit Near Avalanche Location': 'crown', 'WL_Depth': 250.0, 'WL_Thickness': 10.0}, {'Slope Angle': '37', 'HS': 1250.0, 'Profile Depth': 1250.0, 'Pit Near Avalanche Location': 'flank', 'WL_Depth': 530.0, 'WL_Thickness': 20.0}, {'Slope Angle': '32', 'HS': 670.0, 'Profile Depth': 670.0, 'Pit Near Avalanche Location': None, 'WL_Depth': 270.0, 'WL_Thickness': 80.0}, {'Slope Angle': '35', 'HS': 3200.0, 'Profile Depth': 1200.0, 'Pit Near Avalanche Location': 'crown', 'WL_Depth': 440.0, 'WL_Thickness': 5.0}, {'Slope Angle': '39', 'HS': 890.0, 'Profile Depth': 890.0, 'Pit Near Avalanche Location': 'crown', 'WL_Depth': 650.0, 'WL_Thickness': 240.0}, {'Slope Angle': '36', 'HS': 1720.0, 'Profile Depth': 1720.0, 'Pit Near Avalanche Location': 'crown', 'WL_Depth': 250.0, 'WL_Thickness': 190.0}, {'Slope Angle': '30', 'HS': 390.0, 'Profile Depth': 390.0, 'Pit Near Avalanche Location': 'crown', 'WL_Depth': 270.0, 'WL_Thickness': 5.0}, {'Slope Angle': '20', 'HS': 1420.0, 'Profile Depth': 1420.0, 'Pit Near Avalanche Location': 'crown', 'WL_Depth': 370.0, 'WL_Thickness': 50.0}, {'Slope Angle': '34', 'HS': 1300.0, 'Profile Depth': 1300.0, 'Pit Near Avalanche Location': 'crown', 'WL_Depth': 900.0, 'WL_Thickness': 10.0}, {'Slope Angle': '40', 'HS': 3500.0, 'Profile Depth': 980.0, 'Pit Near Avalanche Location': 'other', 'WL_Depth': 960.0, 'WL_Thickness': 10.0}, {'Slope Angle': '40', 'HS': 2700.0, 'Profile Depth': 2700.0, 'Pit Near Avalanche Location': 'crown', 'WL_Depth': 350.0, 'WL_Thickness': 10.0}, {'Slope Angle': None, 'HS': 1120.0, 'Profile Depth': 1120.0, 'Pit Near Avalanche Location': 'crown', 'WL_Depth': 570.0, 'WL_Thickness': 550.0}, {'Slope Angle': '36', 'HS': 1230.0, 'Profile Depth': 1230.0, 'Pit Near Avalanche Location': 'other', 'WL_Depth': 730.0, 'WL_Thickness': 50.0}, {'Slope Angle': '20', 'HS': 1950.0, 'Profile Depth': 1950.0, 'Pit Near Avalanche Location': 'other', 'WL_Depth': 280.0, 'WL_Thickness': 170.0}, {'Slope Angle': '34', 'HS': 1520.0, 'Profile Depth': 1520.0, 'Pit Near Avalanche Location': 'other', 'WL_Depth': 680.0, 'WL_Thickness': 80.0}, {'Slope Angle': None, 'HS': 1140.0, 'Profile Depth': 1140.0, 'Pit Near Avalanche Location': 'flank', 'WL_Depth': 790.0, 'WL_Thickness': 50.0}, {'Slope Angle': '38', 'HS': 550.0, 'Profile Depth': 550.0, 'Pit Near Avalanche Location': 'flank', 'WL_Depth': 0.0, 'WL_Thickness': 50.0}, {'Slope Angle': '26', 'HS': 650.0, 'Profile Depth': 650.0, 'Pit Near Avalanche Location': 'other', 'WL_Depth': 200.0, 'WL_Thickness': 290.0}, {'Slope Angle': '40', 'HS': 1550.0, 'Profile Depth': 1550.0, 'Pit Near Avalanche Location': 'flank', 'WL_Depth': 450.0, 'WL_Thickness': 100.0}, {'Slope Angle': '25', 'HS': 5000.0, 'Profile Depth': 1000.0, 'Pit Near Avalanche Location': 'crown', 'WL_Depth': 70.0, 'WL_Thickness': 360.0}, {'Slope Angle': None, 'HS': 2300.0, 'Profile Depth': 980.0, 'Pit Near Avalanche Location': None, 'WL_Depth': 500.0, 'WL_Thickness': 180.0}, {'Slope Angle': '39', 'HS': 1450.0, 'Profile Depth': 1450.0, 'Pit Near Avalanche Location': None, 'WL_Depth': 1030.0, 'WL_Thickness': 20.0}, {'Slope Angle': '25', 'HS': 1800.0, 'Profile Depth': 1800.0, 'Pit Near Avalanche Location': 'crown', 'WL_Depth': 60.0, 'WL_Thickness': 840.0}, {'Slope Angle': None, 'HS': 2450.0, 'Profile Depth': 2450.0, 'Pit Near Avalanche Location': 'crown', 'WL_Depth': 2130.0, 'WL_Thickness': 20.0}, {'Slope Angle': '33', 'HS': 1330.0, 'Profile Depth': 1330.0, 'Pit Near Avalanche Location': 'crown', 'WL_Depth': 720.0, 'WL_Thickness': 10.0}, {'Slope Angle': '30', 'HS': 1470.0, 'Profile Depth': 1470.0, 'Pit Near Avalanche Location': 'other', 'WL_Depth': 920.0, 'WL_Thickness': 20.0}, {'Slope Angle': '38', 'HS': 1450.0, 'Profile Depth': 1450.0, 'Pit Near Avalanche Location': 'flank', 'WL_Depth': 1050.0, 'WL_Thickness': 50.0}, {'Slope Angle': None, 'HS': None, 'Profile Depth': 1600.0, 'Pit Near Avalanche Location': 'crown', 'WL_Depth': 930.0, 'WL_Thickness': 70.0}, {'Slope Angle': '44', 'HS': 1760.0, 'Profile Depth': 1760.0, 'Pit Near Avalanche Location': 'crown', 'WL_Depth': 500.0, 'WL_Thickness': 10.0}, {'Slope Angle': '26', 'HS': 1490.0, 'Profile Depth': 1490.0, 'Pit Near Avalanche Location': 'other', 'WL_Depth': 280.0, 'WL_Thickness': 5.0}, {'Slope Angle': '32', 'HS': 1400.0, 'Profile Depth': 1400.0, 'Pit Near Avalanche Location': 'flank', 'WL_Depth': 1270.0, 'WL_Thickness': 130.0}, {'Slope Angle': '40', 'HS': 3000.0, 'Profile Depth': 3000.0, 'Pit Near Avalanche Location': 'crown', 'WL_Depth': 240.0, 'WL_Thickness': 20.0}, {'Slope Angle': '27', 'HS': 1750.0, 'Profile Depth': 1750.0, 'Pit Near Avalanche Location': 'crown', 'WL_Depth': 700.0, 'WL_Thickness': 20.0}, {'Slope Angle': '42', 'HS': 650.0, 'Profile Depth': 650.0, 'Pit Near Avalanche Location': 'other', 'WL_Depth': 500.0, 'WL_Thickness': 150.0}, {'Slope Angle': '23', 'HS': 2000.0, 'Profile Depth': 2000.0, 'Pit Near Avalanche Location': 'crown', 'WL_Depth': 940.0, 'WL_Thickness': 140.0}, {'Slope Angle': '41', 'HS': 950.0, 'Profile Depth': 950.0, 'Pit Near Avalanche Location': 'flank', 'WL_Depth': 600.0, 'WL_Thickness': 350.0}, {'Slope Angle': '32', 'HS': 2200.0, 'Profile Depth': 1400.0, 'Pit Near Avalanche Location': 'other', 'WL_Depth': 400.0, 'WL_Thickness': 5.0}, {'Slope Angle': '43', 'HS': 950.0, 'Profile Depth': 950.0, 'Pit Near Avalanche Location': 'crown', 'WL_Depth': 750.0, 'WL_Thickness': 50.0}, {'Slope Angle': '24', 'HS': 650.0, 'Profile Depth': 650.0, 'Pit Near Avalanche Location': 'crown', 'WL_Depth': 370.0, 'WL_Thickness': 30.0}, {'Slope Angle': '20', 'HS': 3800.0, 'Profile Depth': 1300.0, 'Pit Near Avalanche Location': None, 'WL_Depth': 820.0, 'WL_Thickness': 90.0}, {'Slope Angle': None, 'HS': 390.0, 'Profile Depth': 390.0, 'Pit Near Avalanche Location': 'crown', 'WL_Depth': 290.0, 'WL_Thickness': 100.0}, {'Slope Angle': '10', 'HS': 1000.0, 'Profile Depth': 1000.0, 'Pit Near Avalanche Location': 'other', 'WL_Depth': 390.0, 'WL_Thickness': 40.0}, {'Slope Angle': '35', 'HS': 1550.0, 'Profile Depth': 1550.0, 'Pit Near Avalanche Location': 'crown', 'WL_Depth': 1002.5, 'WL_Thickness': 122.5}, {'Slope Angle': '15', 'HS': 900.0, 'Profile Depth': 900.0, 'Pit Near Avalanche Location': 'other', 'WL_Depth': 490.0, 'WL_Thickness': 90.0}, {'Slope Angle': '38', 'HS': 1170.0, 'Profile Depth': 1170.0, 'Pit Near Avalanche Location': 'crown', 'WL_Depth': 630.0, 'WL_Thickness': 90.0}, {'Slope Angle': '26', 'HS': 730.0, 'Profile Depth': 730.0, 'Pit Near Avalanche Location': 'other', 'WL_Depth': 330.0, 'WL_Thickness': 180.0}, {'Slope Angle': '10', 'HS': 2970.0, 'Profile Depth': 1000.0, 'Pit Near Avalanche Location': 'crown', 'WL_Depth': 600.0, 'WL_Thickness': 10.0}, {'Slope Angle': '41', 'HS': None, 'Profile Depth': 1750.0, 'Pit Near Avalanche Location': 'crown', 'WL_Depth': 650.0, 'WL_Thickness': 50.0}, {'Slope Angle': '29', 'HS': 650.0, 'Profile Depth': 650.0, 'Pit Near Avalanche Location': 'flank', 'WL_Depth': 330.0, 'WL_Thickness': 110.0}, {'Slope Angle': None, 'HS': 1140.0, 'Profile Depth': 1140.0, 'Pit Near Avalanche Location': 'crown', 'WL_Depth': 740.0, 'WL_Thickness': 10.0}, {'Slope Angle': '23', 'HS': 1550.0, 'Profile Depth': 1550.0, 'Pit Near Avalanche Location': 'crown', 'WL_Depth': 0.0, 'WL_Thickness': 250.0}, {'Slope Angle': '32', 'HS': 960.0, 'Profile Depth': 960.0, 'Pit Near Avalanche Location': 'crown', 'WL_Depth': 520.0, 'WL_Thickness': 160.0}, {'Slope Angle': '33', 'HS': 1000.0, 'Profile Depth': 1000.0, 'Pit Near Avalanche Location': 'crown', 'WL_Depth': 500.0, 'WL_Thickness': 100.0}, {'Slope Angle': '25', 'HS': 680.0, 'Profile Depth': 680.0, 'Pit Near Avalanche Location': 'flank', 'WL_Depth': 230.0, 'WL_Thickness': 350.0}, {'Slope Angle': '40', 'HS': 750.0, 'Profile Depth': 750.0, 'Pit Near Avalanche Location': 'other', 'WL_Depth': 220.0, 'WL_Thickness': 20.0}, {'Slope Angle': '36', 'HS': 1200.0, 'Profile Depth': 1200.0, 'Pit Near Avalanche Location': 'flank', 'WL_Depth': 310.0, 'WL_Thickness': 10.0}, {'Slope Angle': None, 'HS': 580.0, 'Profile Depth': 580.0, 'Pit Near Avalanche Location': 'crown', 'WL_Depth': 140.0, 'WL_Thickness': 60.0}, {'Slope Angle': '34', 'HS': 1060.0, 'Profile Depth': 1060.0, 'Pit Near Avalanche Location': 'crown', 'WL_Depth': 710.0, 'WL_Thickness': 120.0}, {'Slope Angle': '38', 'HS': 1800.0, 'Profile Depth': 1800.0, 'Pit Near Avalanche Location': None, 'WL_Depth': 150.0, 'WL_Thickness': 120.0}, {'Slope Angle': '10', 'HS': 1000.0, 'Profile Depth': 1000.0, 'Pit Near Avalanche Location': 'other', 'WL_Depth': 390.0, 'WL_Thickness': 40.0}, {'Slope Angle': '44', 'HS': 1140.0, 'Profile Depth': 1140.0, 'Pit Near Avalanche Location': 'crown', 'WL_Depth': 1000.0, 'WL_Thickness': 40.0}, {'Slope Angle': '30', 'HS': 900.0, 'Profile Depth': 900.0, 'Pit Near Avalanche Location': 'crown', 'WL_Depth': 430.0, 'WL_Thickness': 30.0}, {'Slope Angle': '10', 'HS': 1000.0, 'Profile Depth': 1000.0, 'Pit Near Avalanche Location': 'other', 'WL_Depth': 390.0, 'WL_Thickness': 40.0}, {'Slope Angle': '29', 'HS': 850.0, 'Profile Depth': 850.0, 'Pit Near Avalanche Location': 'crown', 'WL_Depth': 450.0, 'WL_Thickness': 250.0}, {'Slope Angle': None, 'HS': 1200.0, 'Profile Depth': 1200.0, 'Pit Near Avalanche Location': 'flank', 'WL_Depth': 500.0, 'WL_Thickness': 10.0}, {'Slope Angle': '38', 'HS': 740.0, 'Profile Depth': 740.0, 'Pit Near Avalanche Location': 'crown', 'WL_Depth': 420.0, 'WL_Thickness': 30.0}, {'Slope Angle': '11', 'HS': 550.0, 'Profile Depth': 550.0, 'Pit Near Avalanche Location': 'other', 'WL_Depth': 270.0, 'WL_Thickness': 80.0}, {'Slope Angle': '37', 'HS': 1010.0, 'Profile Depth': 1010.0, 'Pit Near Avalanche Location': 'crown', 'WL_Depth': 740.0, 'WL_Thickness': 120.0}, {'Slope Angle': '15', 'HS': 900.0, 'Profile Depth': 900.0, 'Pit Near Avalanche Location': 'other', 'WL_Depth': 490.0, 'WL_Thickness': 90.0}, {'Slope Angle': '10', 'HS': 1000.0, 'Profile Depth': 1000.0, 'Pit Near Avalanche Location': None, 'WL_Depth': 390.0, 'WL_Thickness': 40.0}, {'Slope Angle': '39', 'HS': 700.0, 'Profile Depth': 700.0, 'Pit Near Avalanche Location': None, 'WL_Depth': 330.0, 'WL_Thickness': 20.0}, {'Slope Angle': '32', 'HS': 1570.0, 'Profile Depth': 1570.0, 'Pit Near Avalanche Location': 'crown', 'WL_Depth': 920.0, 'WL_Thickness': 150.0}, {'Slope Angle': '40', 'HS': 3500.0, 'Profile Depth': 3500.0, 'Pit Near Avalanche Location': 'flank', 'WL_Depth': 450.0, 'WL_Thickness': 40.0}, {'Slope Angle': '25', 'HS': 1380.0, 'Profile Depth': 1380.0, 'Pit Near Avalanche Location': 'other', 'WL_Depth': 1080.0, 'WL_Thickness': 300.0}, {'Slope Angle': '37', 'HS': 2150.0, 'Profile Depth': 2150.0, 'Pit Near Avalanche Location': 'flank', 'WL_Depth': 450.0, 'WL_Thickness': 150.0}, {'Slope Angle': '10', 'HS': 1000.0, 'Profile Depth': 1000.0, 'Pit Near Avalanche Location': 'other', 'WL_Depth': 390.0, 'WL_Thickness': 40.0}, {'Slope Angle': '36', 'HS': 1700.0, 'Profile Depth': 1700.0, 'Pit Near Avalanche Location': 'crown', 'WL_Depth': 950.0, 'WL_Thickness': 50.0}, {'Slope Angle': '21', 'HS': 1120.0, 'Profile Depth': 1120.0, 'Pit Near Avalanche Location': None, 'WL_Depth': 770.0, 'WL_Thickness': 90.0}, {'Slope Angle': '10', 'HS': 1000.0, 'Profile Depth': 1000.0, 'Pit Near Avalanche Location': 'other', 'WL_Depth': 390.0, 'WL_Thickness': 40.0}, {'Slope Angle': '23', 'HS': 1070.0, 'Profile Depth': 1070.0, 'Pit Near Avalanche Location': 'other', 'WL_Depth': 470.0, 'WL_Thickness': 100.0}, {'Slope Angle': '40', 'HS': 1280.0, 'Profile Depth': 1280.0, 'Pit Near Avalanche Location': 'crown', 'WL_Depth': 440.0, 'WL_Thickness': 20.0}, {'Slope Angle': '30', 'HS': 2600.0, 'Profile Depth': 2600.0, 'Pit Near Avalanche Location': 'crown', 'WL_Depth': 1350.0, 'WL_Thickness': 100.0}, {'Slope Angle': '30', 'HS': 780.0, 'Profile Depth': 780.0, 'Pit Near Avalanche Location': 'other', 'WL_Depth': 430.0, 'WL_Thickness': 20.0}, {'Slope Angle': '26', 'HS': 1230.0, 'Profile Depth': 1230.0, 'Pit Near Avalanche Location': 'crown', 'WL_Depth': 890.0, 'WL_Thickness': 90.0}, {'Slope Angle': '34', 'HS': 1300.0, 'Profile Depth': 1000.0, 'Pit Near Avalanche Location': 'crown', 'WL_Depth': 350.0, 'WL_Thickness': 10.0}, {'Slope Angle': '25', 'HS': 1070.0, 'Profile Depth': 1070.0, 'Pit Near Avalanche Location': 'other', 'WL_Depth': 220.0, 'WL_Thickness': 5.0}, {'Slope Angle': None, 'HS': 760.0, 'Profile Depth': 760.0, 'Pit Near Avalanche Location': 'crown', 'WL_Depth': 340.0, 'WL_Thickness': 20.0}, {'Slope Angle': '15', 'HS': 900.0, 'Profile Depth': 900.0, 'Pit Near Avalanche Location': None, 'WL_Depth': 490.0, 'WL_Thickness': 90.0}, {'Slope Angle': '10', 'HS': 1000.0, 'Profile Depth': 1000.0, 'Pit Near Avalanche Location': 'other', 'WL_Depth': 390.0, 'WL_Thickness': 40.0}, {'Slope Angle': '32', 'HS': 910.0, 'Profile Depth': 910.0, 'Pit Near Avalanche Location': 'other', 'WL_Depth': 290.0, 'WL_Thickness': 30.0}, {'Slope Angle': '40', 'HS': 2000.0, 'Profile Depth': 2000.0, 'Pit Near Avalanche Location': 'crown', 'WL_Depth': 1180.0, 'WL_Thickness': 200.0}, {'Slope Angle': '15', 'HS': 900.0, 'Profile Depth': 900.0, 'Pit Near Avalanche Location': None, 'WL_Depth': 30.0, 'WL_Thickness': 160.0}, {'Slope Angle': '32', 'HS': 950.0, 'Profile Depth': 950.0, 'Pit Near Avalanche Location': 'flank', 'WL_Depth': 580.0, 'WL_Thickness': 20.0}, {'Slope Angle': '34', 'HS': 2150.0, 'Profile Depth': 2150.0, 'Pit Near Avalanche Location': 'crown', 'WL_Depth': 1460.0, 'WL_Thickness': 20.0}, {'Slope Angle': '24', 'HS': 740.0, 'Profile Depth': 740.0, 'Pit Near Avalanche Location': 'other', 'WL_Depth': 330.0, 'WL_Thickness': 70.0}, {'Slope Angle': '22', 'HS': 900.0, 'Profile Depth': 900.0, 'Pit Near Avalanche Location': 'crown', 'WL_Depth': 300.0, 'WL_Thickness': 100.0}, {'Slope Angle': '10', 'HS': 1000.0, 'Profile Depth': 1000.0, 'Pit Near Avalanche Location': 'other', 'WL_Depth': 390.0, 'WL_Thickness': 40.0}, {'Slope Angle': '18', 'HS': 1240.0, 'Profile Depth': 1240.0, 'Pit Near Avalanche Location': 'other', 'WL_Depth': 570.0, 'WL_Thickness': 150.0}, {'Slope Angle': '38', 'HS': 1460.0, 'Profile Depth': 1460.0, 'Pit Near Avalanche Location': 'crown', 'WL_Depth': 960.0, 'WL_Thickness': 500.0}, {'Slope Angle': '36', 'HS': 1000.0, 'Profile Depth': 1000.0, 'Pit Near Avalanche Location': 'crown', 'WL_Depth': 600.0, 'WL_Thickness': 100.0}, {'Slope Angle': '32', 'HS': 1200.0, 'Profile Depth': 900.0, 'Pit Near Avalanche Location': None, 'WL_Depth': 350.0, 'WL_Thickness': 30.0}, {'Slope Angle': '36', 'HS': 2000.0, 'Profile Depth': 750.0, 'Pit Near Avalanche Location': 'crown', 'WL_Depth': 400.0, 'WL_Thickness': 200.0}, {'Slope Angle': '28', 'HS': 1700.0, 'Profile Depth': 1700.0, 'Pit Near Avalanche Location': 'other', 'WL_Depth': 390.0, 'WL_Thickness': 10.0}, {'Slope Angle': '38', 'HS': 990.0, 'Profile Depth': 990.0, 'Pit Near Avalanche Location': 'crown', 'WL_Depth': 600.0, 'WL_Thickness': 390.0}, {'Slope Angle': '31', 'HS': 2700.0, 'Profile Depth': 2700.0, 'Pit Near Avalanche Location': 'crown', 'WL_Depth': 910.0, 'WL_Thickness': 20.0}, {'Slope Angle': '16', 'HS': 1250.0, 'Profile Depth': 1000.0, 'Pit Near Avalanche Location': 'flank', 'WL_Depth': 430.0, 'WL_Thickness': 10.0}, {'Slope Angle': '40', 'HS': None, 'Profile Depth': 1300.0, 'Pit Near Avalanche Location': 'crown', 'WL_Depth': 440.0, 'WL_Thickness': 20.0}, {'Slope Angle': '33', 'HS': 1100.0, 'Profile Depth': 1100.0, 'Pit Near Avalanche Location': 'flank', 'WL_Depth': 0.0, 'WL_Thickness': 300.0}, {'Slope Angle': '29', 'HS': 2050.0, 'Profile Depth': 1100.0, 'Pit Near Avalanche Location': 'flank', 'WL_Depth': 1000.0, 'WL_Thickness': 100.0}, {'Slope Angle': '37', 'HS': 1020.0, 'Profile Depth': 1020.0, 'Pit Near Avalanche Location': 'crown', 'WL_Depth': 250.0, 'WL_Thickness': 60.0}, {'Slope Angle': '41', 'HS': None, 'Profile Depth': 660.0, 'Pit Near Avalanche Location': 'crown', 'WL_Depth': 480.0, 'WL_Thickness': 50.0}, {'Slope Angle': '33', 'HS': 2400.0, 'Profile Depth': 2400.0, 'Pit Near Avalanche Location': 'other', 'WL_Depth': 1400.0, 'WL_Thickness': 5.0}, {'Slope Angle': '26', 'HS': 1370.0, 'Profile Depth': 1370.0, 'Pit Near Avalanche Location': None, 'WL_Depth': 440.0, 'WL_Thickness': 10.0}, {'Slope Angle': '28', 'HS': 900.0, 'Profile Depth': 900.0, 'Pit Near Avalanche Location': 'crown', 'WL_Depth': 410.0, 'WL_Thickness': 190.0}, {'Slope Angle': '10', 'HS': 1000.0, 'Profile Depth': 1000.0, 'Pit Near Avalanche Location': 'other', 'WL_Depth': 390.0, 'WL_Thickness': 40.0}, {'Slope Angle': '38', 'HS': 1400.0, 'Profile Depth': 1400.0, 'Pit Near Avalanche Location': 'crown', 'WL_Depth': 350.0, 'WL_Thickness': 40.0}, {'Slope Angle': '21', 'HS': 850.0, 'Profile Depth': 850.0, 'Pit Near Avalanche Location': 'flank', 'WL_Depth': 530.0, 'WL_Thickness': 320.0}, {'Slope Angle': '38', 'HS': 1000.0, 'Profile Depth': 1000.0, 'Pit Near Avalanche Location': None, 'WL_Depth': 700.0, 'WL_Thickness': 300.0}, {'Slope Angle': '32', 'HS': 1500.0, 'Profile Depth': 1500.0, 'Pit Near Avalanche Location': 'crown', 'WL_Depth': 700.0, 'WL_Thickness': 70.0}, {'Slope Angle': '32', 'HS': 950.0, 'Profile Depth': 950.0, 'Pit Near Avalanche Location': 'flank', 'WL_Depth': 900.0, 'WL_Thickness': 50.0}, {'Slope Angle': '34', 'HS': 1330.0, 'Profile Depth': 1330.0, 'Pit Near Avalanche Location': 'crown', 'WL_Depth': 480.0, 'WL_Thickness': 10.0}, {'Slope Angle': '18', 'HS': 1240.0, 'Profile Depth': 1240.0, 'Pit Near Avalanche Location': 'other', 'WL_Depth': 290.0, 'WL_Thickness': 280.0}, {'Slope Angle': '6', 'HS': 840.0, 'Profile Depth': 840.0, 'Pit Near Avalanche Location': 'other', 'WL_Depth': 410.0, 'WL_Thickness': 20.0}, {'Slope Angle': '38', 'HS': None, 'Profile Depth': 400.0, 'Pit Near Avalanche Location': None, 'WL_Depth': 300.0, 'WL_Thickness': 50.0}, {'Slope Angle': None, 'HS': 1410.0, 'Profile Depth': 1410.0, 'Pit Near Avalanche Location': 'flank', 'WL_Depth': 910.0, 'WL_Thickness': 500.0}, {'Slope Angle': '32', 'HS': None, 'Profile Depth': 1000.0, 'Pit Near Avalanche Location': 'flank', 'WL_Depth': 500.0, 'WL_Thickness': 400.0}, {'Slope Angle': '32', 'HS': None, 'Profile Depth': 1600.0, 'Pit Near Avalanche Location': 'crown', 'WL_Depth': 1410.0, 'WL_Thickness': 10.0}, {'Slope Angle': '26', 'HS': None, 'Profile Depth': 2600.0, 'Pit Near Avalanche Location': None, 'WL_Depth': 800.0, 'WL_Thickness': 20.0}, {'Slope Angle': '36', 'HS': 1210.0, 'Profile Depth': 1210.0, 'Pit Near Avalanche Location': None, 'WL_Depth': 580.0, 'WL_Thickness': 220.0}, {'Slope Angle': '28', 'HS': 1100.0, 'Profile Depth': 1100.0, 'Pit Near Avalanche Location': 'flank', 'WL_Depth': 270.0, 'WL_Thickness': 110.0}, {'Slope Angle': '32', 'HS': 700.0, 'Profile Depth': 700.0, 'Pit Near Avalanche Location': 'crown', 'WL_Depth': 420.0, 'WL_Thickness': 280.0}, {'Slope Angle': '25', 'HS': 1150.0, 'Profile Depth': 1150.0, 'Pit Near Avalanche Location': 'other', 'WL_Depth': 25.0, 'WL_Thickness': 10.0}, {'Slope Angle': '32', 'HS': 2000.0, 'Profile Depth': 2000.0, 'Pit Near Avalanche Location': 'crown', 'WL_Depth': 450.0, 'WL_Thickness': 300.0}, {'Slope Angle': '32', 'HS': 2600.0, 'Profile Depth': 2600.0, 'Pit Near Avalanche Location': 'flank', 'WL_Depth': 1170.0, 'WL_Thickness': 5.0}, {'Slope Angle': None, 'HS': 1700.0, 'Profile Depth': 1700.0, 'Pit Near Avalanche Location': None, 'WL_Depth': 800.0, 'WL_Thickness': 50.0}, {'Slope Angle': '37', 'HS': 1010.0, 'Profile Depth': 1010.0, 'Pit Near Avalanche Location': 'crown', 'WL_Depth': 480.0, 'WL_Thickness': 20.0}, {'Slope Angle': '38', 'HS': 1110.0, 'Profile Depth': 1110.0, 'Pit Near Avalanche Location': 'crown', 'WL_Depth': 700.0, 'WL_Thickness': 30.0}, {'Slope Angle': '31', 'HS': 600.0, 'Profile Depth': 600.0, 'Pit Near Avalanche Location': 'crown', 'WL_Depth': 240.0, 'WL_Thickness': 190.0}, {'Slope Angle': '35', 'HS': 1050.0, 'Profile Depth': 1050.0, 'Pit Near Avalanche Location': 'crown', 'WL_Depth': 550.0, 'WL_Thickness': 50.0}, {'Slope Angle': '41', 'HS': 680.0, 'Profile Depth': 680.0, 'Pit Near Avalanche Location': 'flank', 'WL_Depth': 200.0, 'WL_Thickness': 40.0}, {'Slope Angle': '32', 'HS': 1600.0, 'Profile Depth': 1100.0, 'Pit Near Avalanche Location': 'crown', 'WL_Depth': 50.0, 'WL_Thickness': 100.0}, {'Slope Angle': '21', 'HS': 1120.0, 'Profile Depth': 1120.0, 'Pit Near Avalanche Location': None, 'WL_Depth': 860.0, 'WL_Thickness': 260.0}, {'Slope Angle': '29', 'HS': 750.0, 'Profile Depth': 750.0, 'Pit Near Avalanche Location': 'other', 'WL_Depth': 160.0, 'WL_Thickness': 50.0}, {'Slope Angle': '44', 'HS': 540.0, 'Profile Depth': 540.0, 'Pit Near Avalanche Location': None, 'WL_Depth': 250.0, 'WL_Thickness': 30.0}, {'Slope Angle': '28', 'HS': 1360.0, 'Profile Depth': 1360.0, 'Pit Near Avalanche Location': None, 'WL_Depth': 650.0, 'WL_Thickness': 10.0}, {'Slope Angle': '30', 'HS': 1200.0, 'Profile Depth': 1200.0, 'Pit Near Avalanche Location': 'crown', 'WL_Depth': 700.0, 'WL_Thickness': 500.0}, {'Slope Angle': '32', 'HS': 700.0, 'Profile Depth': 700.0, 'Pit Near Avalanche Location': 'other', 'WL_Depth': 180.0, 'WL_Thickness': 60.0}, {'Slope Angle': '30', 'HS': 1500.0, 'Profile Depth': 1500.0, 'Pit Near Avalanche Location': 'flank', 'WL_Depth': 1112.0, 'WL_Thickness': 108.0}, {'Slope Angle': '35', 'HS': 1000.0, 'Profile Depth': 1000.0, 'Pit Near Avalanche Location': 'flank', 'WL_Depth': 650.0, 'WL_Thickness': 250.0}, {'Slope Angle': '30', 'HS': 1050.0, 'Profile Depth': 1050.0, 'Pit Near Avalanche Location': 'crown', 'WL_Depth': 400.0, 'WL_Thickness': 450.0}, {'Slope Angle': '38', 'HS': 1230.0, 'Profile Depth': 1230.0, 'Pit Near Avalanche Location': 'flank', 'WL_Depth': 850.0, 'WL_Thickness': 80.0}, {'Slope Angle': '25', 'HS': 1500.0, 'Profile Depth': 1500.0, 'Pit Near Avalanche Location': 'crown', 'WL_Depth': 850.0, 'WL_Thickness': 70.0}, {'Slope Angle': '36', 'HS': 1590.0, 'Profile Depth': 1590.0, 'Pit Near Avalanche Location': 'crown', 'WL_Depth': 410.0, 'WL_Thickness': 40.0}, {'Slope Angle': '10', 'HS': 1000.0, 'Profile Depth': 1000.0, 'Pit Near Avalanche Location': 'other', 'WL_Depth': 390.0, 'WL_Thickness': 40.0}, {'Slope Angle': None, 'HS': 650.0, 'Profile Depth': 650.0, 'Pit Near Avalanche Location': 'other', 'WL_Depth': 350.0, 'WL_Thickness': 250.0}, {'Slope Angle': '33', 'HS': 1500.0, 'Profile Depth': 1500.0, 'Pit Near Avalanche Location': 'crown', 'WL_Depth': 800.0, 'WL_Thickness': 190.0}, {'Slope Angle': '25', 'HS': 1440.0, 'Profile Depth': 1440.0, 'Pit Near Avalanche Location': 'flank', 'WL_Depth': 810.0, 'WL_Thickness': 30.0}, {'Slope Angle': '38', 'HS': 5000.0, 'Profile Depth': 5000.0, 'Pit Near Avalanche Location': 'flank', 'WL_Depth': 800.0, 'WL_Thickness': 10.0}, {'Slope Angle': '39', 'HS': 3000.0, 'Profile Depth': 1600.0, 'Pit Near Avalanche Location': 'crown', 'WL_Depth': 600.0, 'WL_Thickness': 20.0}, {'Slope Angle': '10', 'HS': 1000.0, 'Profile Depth': 1000.0, 'Pit Near Avalanche Location': 'other', 'WL_Depth': 390.0, 'WL_Thickness': 40.0}, {'Slope Angle': '36', 'HS': 1550.0, 'Profile Depth': 1090.0, 'Pit Near Avalanche Location': 'flank', 'WL_Depth': 370.0, 'WL_Thickness': 10.0}, {'Slope Angle': '30', 'HS': 1030.0, 'Profile Depth': 1030.0, 'Pit Near Avalanche Location': 'other', 'WL_Depth': 400.0, 'WL_Thickness': 10.0}, {'Slope Angle': '30', 'HS': None, 'Profile Depth': 2000.0, 'Pit Near Avalanche Location': 'crown', 'WL_Depth': 500.0, 'WL_Thickness': 50.0}, {'Slope Angle': '31', 'HS': 950.0, 'Profile Depth': 950.0, 'Pit Near Avalanche Location': 'flank', 'WL_Depth': 470.0, 'WL_Thickness': 120.0}, {'Slope Angle': '25', 'HS': 1200.0, 'Profile Depth': 1200.0, 'Pit Near Avalanche Location': None, 'WL_Depth': 920.0, 'WL_Thickness': 280.0}, {'Slope Angle': None, 'HS': 1750.0, 'Profile Depth': 1750.0, 'Pit Near Avalanche Location': 'flank', 'WL_Depth': 1300.0, 'WL_Thickness': 450.0}, {'Slope Angle': '27', 'HS': 3750.0, 'Profile Depth': 3750.0, 'Pit Near Avalanche Location': 'crown', 'WL_Depth': 1300.0, 'WL_Thickness': 20.0}, {'Slope Angle': '35', 'HS': 1600.0, 'Profile Depth': 1600.0, 'Pit Near Avalanche Location': 'crown', 'WL_Depth': 840.0, 'WL_Thickness': 10.0}, {'Slope Angle': '35', 'HS': None, 'Profile Depth': 380.0, 'Pit Near Avalanche Location': 'crown', 'WL_Depth': 300.0, 'WL_Thickness': 30.0}, {'Slope Angle': None, 'HS': 680.0, 'Profile Depth': 680.0, 'Pit Near Avalanche Location': 'other', 'WL_Depth': 320.0, 'WL_Thickness': 200.0}, {'Slope Angle': None, 'HS': 1270.0, 'Profile Depth': 1270.0, 'Pit Near Avalanche Location': 'crown', 'WL_Depth': 740.0, 'WL_Thickness': 530.0}, {'Slope Angle': '34', 'HS': 700.0, 'Profile Depth': 700.0, 'Pit Near Avalanche Location': 'other', 'WL_Depth': 270.0, 'WL_Thickness': 180.0}, {'Slope Angle': '26', 'HS': 600.0, 'Profile Depth': 600.0, 'Pit Near Avalanche Location': 'other', 'WL_Depth': 100.0, 'WL_Thickness': 170.0}, {'Slope Angle': '27', 'HS': 1190.0, 'Profile Depth': 1190.0, 'Pit Near Avalanche Location': 'crown', 'WL_Depth': 990.0, 'WL_Thickness': 100.0}, {'Slope Angle': '24', 'HS': 600.0, 'Profile Depth': 600.0, 'Pit Near Avalanche Location': 'other', 'WL_Depth': 290.0, 'WL_Thickness': 220.0}, {'Slope Angle': '10', 'HS': 1000.0, 'Profile Depth': 1000.0, 'Pit Near Avalanche Location': 'other', 'WL_Depth': 390.0, 'WL_Thickness': 40.0}, {'Slope Angle': '31', 'HS': 1400.0, 'Profile Depth': 1400.0, 'Pit Near Avalanche Location': None, 'WL_Depth': 990.0, 'WL_Thickness': 20.0}, {'Slope Angle': '25', 'HS': 4550.0, 'Profile Depth': 4550.0, 'Pit Near Avalanche Location': 'other', 'WL_Depth': 0.0, 'WL_Thickness': 150.0}, {'Slope Angle': '38', 'HS': 1500.0, 'Profile Depth': 1500.0, 'Pit Near Avalanche Location': 'flank', 'WL_Depth': 470.0, 'WL_Thickness': 10.0}, {'Slope Angle': '10', 'HS': 1000.0, 'Profile Depth': 1000.0, 'Pit Near Avalanche Location': 'other', 'WL_Depth': 390.0, 'WL_Thickness': 40.0}, {'Slope Angle': '35', 'HS': 1550.0, 'Profile Depth': 1550.0, 'Pit Near Avalanche Location': 'crown', 'WL_Depth': 930.0, 'WL_Thickness': 10.0}, {'Slope Angle': '25', 'HS': 2650.0, 'Profile Depth': 1450.0, 'Pit Near Avalanche Location': None, 'WL_Depth': 670.0, 'WL_Thickness': 30.0}, {'Slope Angle': '10', 'HS': 1000.0, 'Profile Depth': 1000.0, 'Pit Near Avalanche Location': None, 'WL_Depth': 390.0, 'WL_Thickness': 40.0}, {'Slope Angle': None, 'HS': 1000.0, 'Profile Depth': 1000.0, 'Pit Near Avalanche Location': 'other', 'WL_Depth': 390.0, 'WL_Thickness': 40.0}, {'Slope Angle': '32', 'HS': 6000.0, 'Profile Depth': 1200.0, 'Pit Near Avalanche Location': 'crown', 'WL_Depth': 590.0, 'WL_Thickness': 220.0}, {'Slope Angle': '30', 'HS': 1450.0, 'Profile Depth': 1450.0, 'Pit Near Avalanche Location': 'flank', 'WL_Depth': 450.0, 'WL_Thickness': 300.0}, {'Slope Angle': None, 'HS': 600.0, 'Profile Depth': 600.0, 'Pit Near Avalanche Location': 'flank', 'WL_Depth': 210.0, 'WL_Thickness': 130.0}, {'Slope Angle': '36', 'HS': 1050.0, 'Profile Depth': 1050.0, 'Pit Near Avalanche Location': 'flank', 'WL_Depth': 600.0, 'WL_Thickness': 350.0}, {'Slope Angle': '35', 'HS': 2050.0, 'Profile Depth': 2050.0, 'Pit Near Avalanche Location': 'crown', 'WL_Depth': 1320.0, 'WL_Thickness': 60.0}, {'Slope Angle': '35', 'HS': 930.0, 'Profile Depth': 930.0, 'Pit Near Avalanche Location': 'crown', 'WL_Depth': 720.0, 'WL_Thickness': 160.0}, {'Slope Angle': '33', 'HS': 1750.0, 'Profile Depth': 1750.0, 'Pit Near Avalanche Location': 'flank', 'WL_Depth': 900.0, 'WL_Thickness': 30.0}, {'Slope Angle': '9', 'HS': 810.0, 'Profile Depth': 810.0, 'Pit Near Avalanche Location': 'other', 'WL_Depth': 500.0, 'WL_Thickness': 60.0}, {'Slope Angle': '15', 'HS': 900.0, 'Profile Depth': 900.0, 'Pit Near Avalanche Location': 'other', 'WL_Depth': 30.0, 'WL_Thickness': 160.0}, {'Slope Angle': '31', 'HS': 1630.0, 'Profile Depth': 1630.0, 'Pit Near Avalanche Location': 'crown', 'WL_Depth': 630.0, 'WL_Thickness': 50.0}, {'Slope Angle': '35', 'HS': 1500.0, 'Profile Depth': 1500.0, 'Pit Near Avalanche Location': 'crown', 'WL_Depth': 1070.0, 'WL_Thickness': 20.0}, {'Slope Angle': '21', 'HS': 1120.0, 'Profile Depth': 1120.0, 'Pit Near Avalanche Location': None, 'WL_Depth': 770.0, 'WL_Thickness': 90.0}, {'Slope Angle': '10', 'HS': 1000.0, 'Profile Depth': 1000.0, 'Pit Near Avalanche Location': 'other', 'WL_Depth': 390.0, 'WL_Thickness': 40.0}, {'Slope Angle': '38', 'HS': 2090.0, 'Profile Depth': 2090.0, 'Pit Near Avalanche Location': None, 'WL_Depth': 760.0, 'WL_Thickness': 150.0}, {'Slope Angle': None, 'HS': 1260.0, 'Profile Depth': 1260.0, 'Pit Near Avalanche Location': 'flank', 'WL_Depth': 430.0, 'WL_Thickness': 220.0}, {'Slope Angle': '32', 'HS': 840.0, 'Profile Depth': 840.0, 'Pit Near Avalanche Location': None, 'WL_Depth': 110.0, 'WL_Thickness': 90.0}, {'Slope Angle': '35', 'HS': 2800.0, 'Profile Depth': 2800.0, 'Pit Near Avalanche Location': 'other', 'WL_Depth': 570.0, 'WL_Thickness': 50.0}, {'Slope Angle': '40', 'HS': 2860.0, 'Profile Depth': 2860.0, 'Pit Near Avalanche Location': 'crown', 'WL_Depth': 960.0, 'WL_Thickness': 40.0}, {'Slope Angle': '25', 'HS': None, 'Profile Depth': 1500.0, 'Pit Near Avalanche Location': None, 'WL_Depth': 1390.0, 'WL_Thickness': 110.0}, {'Slope Angle': '30', 'HS': None, 'Profile Depth': 1000.0, 'Pit Near Avalanche Location': 'crown', 'WL_Depth': 440.0, 'WL_Thickness': 60.0}, {'Slope Angle': '32', 'HS': 1450.0, 'Profile Depth': 1450.0, 'Pit Near Avalanche Location': 'crown', 'WL_Depth': 970.0, 'WL_Thickness': 30.0}, {'Slope Angle': '40', 'HS': 1180.0, 'Profile Depth': 1180.0, 'Pit Near Avalanche Location': 'crown', 'WL_Depth': 800.0, 'WL_Thickness': 20.0}, {'Slope Angle': '35', 'HS': 3000.0, 'Profile Depth': 3000.0, 'Pit Near Avalanche Location': 'crown', 'WL_Depth': 1250.0, 'WL_Thickness': 50.0}, {'Slope Angle': '10', 'HS': 1000.0, 'Profile Depth': 1000.0, 'Pit Near Avalanche Location': 'other', 'WL_Depth': 390.0, 'WL_Thickness': 40.0}, {'Slope Angle': '27', 'HS': 1000.0, 'Profile Depth': 1000.0, 'Pit Near Avalanche Location': 'flank', 'WL_Depth': 820.0, 'WL_Thickness': 30.0}, {'Slope Angle': '35', 'HS': 850.0, 'Profile Depth': 850.0, 'Pit Near Avalanche Location': 'crown', 'WL_Depth': 480.0, 'WL_Thickness': 30.0}, {'Slope Angle': '35', 'HS': 950.0, 'Profile Depth': 950.0, 'Pit Near Avalanche Location': 'crown', 'WL_Depth': 650.0, 'WL_Thickness': 20.0}, {'Slope Angle': '15', 'HS': 900.0, 'Profile Depth': 900.0, 'Pit Near Avalanche Location': 'other', 'WL_Depth': 490.0, 'WL_Thickness': 90.0}, {'Slope Angle': '36', 'HS': 1200.0, 'Profile Depth': 1200.0, 'Pit Near Avalanche Location': 'flank', 'WL_Depth': 310.0, 'WL_Thickness': 10.0}, {'Slope Angle': '27', 'HS': 1300.0, 'Profile Depth': 1300.0, 'Pit Near Avalanche Location': 'crown', 'WL_Depth': 780.0, 'WL_Thickness': 110.0}, {'Slope Angle': '15', 'HS': 900.0, 'Profile Depth': 900.0, 'Pit Near Avalanche Location': 'other', 'WL_Depth': 190.0, 'WL_Thickness': 140.0}, {'Slope Angle': '32', 'HS': 430.0, 'Profile Depth': 430.0, 'Pit Near Avalanche Location': 'other', 'WL_Depth': 240.0, 'WL_Thickness': 90.0}, {'Slope Angle': '42', 'HS': 1200.0, 'Profile Depth': 1200.0, 'Pit Near Avalanche Location': 'crown', 'WL_Depth': 500.0, 'WL_Thickness': 10.0}, {'Slope Angle': '35', 'HS': 1410.0, 'Profile Depth': 1410.0, 'Pit Near Avalanche Location': 'flank', 'WL_Depth': 730.0, 'WL_Thickness': 350.0}, {'Slope Angle': '37', 'HS': 860.0, 'Profile Depth': 860.0, 'Pit Near Avalanche Location': 'crown', 'WL_Depth': 500.0, 'WL_Thickness': 100.0}, {'Slope Angle': '35', 'HS': 750.0, 'Profile Depth': 750.0, 'Pit Near Avalanche Location': 'crown', 'WL_Depth': 510.0, 'WL_Thickness': 20.0}, {'Slope Angle': '40', 'HS': 1130.0, 'Profile Depth': 1130.0, 'Pit Near Avalanche Location': 'crown', 'WL_Depth': 1010.0, 'WL_Thickness': 120.0}, {'Slope Angle': '37', 'HS': 2700.0, 'Profile Depth': 1000.0, 'Pit Near Avalanche Location': 'crown', 'WL_Depth': 670.0, 'WL_Thickness': 10.0}, {'Slope Angle': '42', 'HS': 920.0, 'Profile Depth': 920.0, 'Pit Near Avalanche Location': 'crown', 'WL_Depth': 440.0, 'WL_Thickness': 30.0}, {'Slope Angle': None, 'HS': 1430.0, 'Profile Depth': 1430.0, 'Pit Near Avalanche Location': 'crown', 'WL_Depth': 950.0, 'WL_Thickness': 480.0}, {'Slope Angle': None, 'HS': 1000.0, 'Profile Depth': 1000.0, 'Pit Near Avalanche Location': 'crown', 'WL_Depth': 560.0, 'WL_Thickness': 60.0}, {'Slope Angle': '30', 'HS': 750.0, 'Profile Depth': 750.0, 'Pit Near Avalanche Location': 'flank', 'WL_Depth': 400.0, 'WL_Thickness': 350.0}, {'Slope Angle': '45', 'HS': 900.0, 'Profile Depth': 900.0, 'Pit Near Avalanche Location': 'crown', 'WL_Depth': 330.0, 'WL_Thickness': 10.0}, {'Slope Angle': '33', 'HS': 1380.0, 'Profile Depth': 1380.0, 'Pit Near Avalanche Location': 'flank', 'WL_Depth': 230.0, 'WL_Thickness': 10.0}, {'Slope Angle': '30', 'HS': 2650.0, 'Profile Depth': 2650.0, 'Pit Near Avalanche Location': 'crown', 'WL_Depth': 380.0, 'WL_Thickness': 350.0}, {'Slope Angle': '37', 'HS': 1000.0, 'Profile Depth': 1000.0, 'Pit Near Avalanche Location': 'other', 'WL_Depth': 450.0, 'WL_Thickness': 450.0}, {'Slope Angle': '37', 'HS': 1550.0, 'Profile Depth': 1550.0, 'Pit Near Avalanche Location': 'crown', 'WL_Depth': 650.0, 'WL_Thickness': 10.0}, {'Slope Angle': '36', 'HS': 1080.0, 'Profile Depth': 1080.0, 'Pit Near Avalanche Location': 'crown', 'WL_Depth': 530.0, 'WL_Thickness': 140.0}, {'Slope Angle': '38', 'HS': 1450.0, 'Profile Depth': 1450.0, 'Pit Near Avalanche Location': 'crown', 'WL_Depth': 850.0, 'WL_Thickness': 350.0}, {'Slope Angle': '39', 'HS': 1830.0, 'Profile Depth': 1830.0, 'Pit Near Avalanche Location': 'crown', 'WL_Depth': 280.0, 'WL_Thickness': 200.0}, {'Slope Angle': '32', 'HS': 810.0, 'Profile Depth': 810.0, 'Pit Near Avalanche Location': None, 'WL_Depth': 470.0, 'WL_Thickness': 340.0}, {'Slope Angle': '25', 'HS': 1020.0, 'Profile Depth': 1020.0, 'Pit Near Avalanche Location': 'crown', 'WL_Depth': 260.0, 'WL_Thickness': 50.0}, {'Slope Angle': '15', 'HS': 900.0, 'Profile Depth': 900.0, 'Pit Near Avalanche Location': 'other', 'WL_Depth': 490.0, 'WL_Thickness': 90.0}, {'Slope Angle': '36', 'HS': 840.0, 'Profile Depth': 840.0, 'Pit Near Avalanche Location': 'crown', 'WL_Depth': 640.0, 'WL_Thickness': 200.0}, {'Slope Angle': '24', 'HS': 540.0, 'Profile Depth': 540.0, 'Pit Near Avalanche Location': 'flank', 'WL_Depth': 330.0, 'WL_Thickness': 80.0}, {'Slope Angle': '28', 'HS': 3270.0, 'Profile Depth': 3270.0, 'Pit Near Avalanche Location': 'flank', 'WL_Depth': 320.0, 'WL_Thickness': 90.0}, {'Slope Angle': None, 'HS': 1450.0, 'Profile Depth': 1450.0, 'Pit Near Avalanche Location': 'flank', 'WL_Depth': 630.0, 'WL_Thickness': 100.0}, {'Slope Angle': '33', 'HS': 1420.0, 'Profile Depth': 1420.0, 'Pit Near Avalanche Location': 'crown', 'WL_Depth': 1040.0, 'WL_Thickness': 30.0}, {'Slope Angle': '25', 'HS': 2380.0, 'Profile Depth': 2380.0, 'Pit Near Avalanche Location': 'crown', 'WL_Depth': 500.0, 'WL_Thickness': 10.0}, {'Slope Angle': '38', 'HS': 1300.0, 'Profile Depth': 1300.0, 'Pit Near Avalanche Location': 'crown', 'WL_Depth': 450.0, 'WL_Thickness': 20.0}, {'Slope Angle': '34', 'HS': 1420.0, 'Profile Depth': 1420.0, 'Pit Near Avalanche Location': 'crown', 'WL_Depth': 680.0, 'WL_Thickness': 260.0}, {'Slope Angle': '44', 'HS': 1350.0, 'Profile Depth': 1350.0, 'Pit Near Avalanche Location': None, 'WL_Depth': 1200.0, 'WL_Thickness': 150.0}, {'Slope Angle': '33', 'HS': 1460.0, 'Profile Depth': 1460.0, 'Pit Near Avalanche Location': 'crown', 'WL_Depth': 640.0, 'WL_Thickness': 10.0}, {'Slope Angle': '35', 'HS': 3600.0, 'Profile Depth': 3600.0, 'Pit Near Avalanche Location': 'crown', 'WL_Depth': 2260.0, 'WL_Thickness': 30.0}, {'Slope Angle': '35', 'HS': 3900.0, 'Profile Depth': 3900.0, 'Pit Near Avalanche Location': 'other', 'WL_Depth': 220.0, 'WL_Thickness': 20.0}, {'Slope Angle': '30', 'HS': 2100.0, 'Profile Depth': 2100.0, 'Pit Near Avalanche Location': None, 'WL_Depth': 335.0, 'WL_Thickness': 5.0}, {'Slope Angle': '24', 'HS': 1600.0, 'Profile Depth': 1600.0, 'Pit Near Avalanche Location': 'other', 'WL_Depth': 1100.0, 'WL_Thickness': 500.0}, {'Slope Angle': '36', 'HS': 1450.0, 'Profile Depth': 1450.0, 'Pit Near Avalanche Location': 'flank', 'WL_Depth': 1330.0, 'WL_Thickness': 120.0}, {'Slope Angle': '37', 'HS': 2580.0, 'Profile Depth': 2580.0, 'Pit Near Avalanche Location': 'flank', 'WL_Depth': 1090.0, 'WL_Thickness': 60.0}, {'Slope Angle': '25', 'HS': 2400.0, 'Profile Depth': 800.0, 'Pit Near Avalanche Location': 'other', 'WL_Depth': 380.0, 'WL_Thickness': 20.0}, {'Slope Angle': '33', 'HS': 1500.0, 'Profile Depth': 1500.0, 'Pit Near Avalanche Location': 'flank', 'WL_Depth': 500.0, 'WL_Thickness': 10.0}, {'Slope Angle': '27', 'HS': 1440.0, 'Profile Depth': 1440.0, 'Pit Near Avalanche Location': 'crown', 'WL_Depth': 560.0, 'WL_Thickness': 30.0}, {'Slope Angle': '25', 'HS': 1170.0, 'Profile Depth': 1170.0, 'Pit Near Avalanche Location': 'crown', 'WL_Depth': 640.0, 'WL_Thickness': 10.0}, {'Slope Angle': None, 'HS': None, 'Profile Depth': 2000.0, 'Pit Near Avalanche Location': 'crown', 'WL_Depth': 1800.0, 'WL_Thickness': 30.0}, {'Slope Angle': '37', 'HS': 2430.0, 'Profile Depth': 2430.0, 'Pit Near Avalanche Location': 'crown', 'WL_Depth': 800.0, 'WL_Thickness': 10.0}, {'Slope Angle': '25', 'HS': 1300.0, 'Profile Depth': 1300.0, 'Pit Near Avalanche Location': 'other', 'WL_Depth': 260.0, 'WL_Thickness': 20.0}, {'Slope Angle': '31', 'HS': 1200.0, 'Profile Depth': 1200.0, 'Pit Near Avalanche Location': 'other', 'WL_Depth': 200.0, 'WL_Thickness': 200.0}, {'Slope Angle': '46', 'HS': 1720.0, 'Profile Depth': 1720.0, 'Pit Near Avalanche Location': 'crown', 'WL_Depth': 679.0, 'WL_Thickness': 1.0}, {'Slope Angle': '35', 'HS': 1180.0, 'Profile Depth': 1180.0, 'Pit Near Avalanche Location': 'crown', 'WL_Depth': 430.0, 'WL_Thickness': 10.0}, {'Slope Angle': '30', 'HS': 2200.0, 'Profile Depth': 2200.0, 'Pit Near Avalanche Location': 'flank', 'WL_Depth': 700.0, 'WL_Thickness': 50.0}, {'Slope Angle': None, 'HS': 1350.0, 'Profile Depth': 1350.0, 'Pit Near Avalanche Location': 'flank', 'WL_Depth': 1100.0, 'WL_Thickness': 250.0}, {'Slope Angle': '34', 'HS': 1200.0, 'Profile Depth': 1200.0, 'Pit Near Avalanche Location': 'crown', 'WL_Depth': 1100.0, 'WL_Thickness': 100.0}, {'Slope Angle': '20', 'HS': 970.0, 'Profile Depth': 970.0, 'Pit Near Avalanche Location': 'flank', 'WL_Depth': 470.0, 'WL_Thickness': 30.0}, {'Slope Angle': None, 'HS': 1900.0, 'Profile Depth': 1900.0, 'Pit Near Avalanche Location': 'flank', 'WL_Depth': 250.0, 'WL_Thickness': 130.0}, {'Slope Angle': '36', 'HS': 2040.0, 'Profile Depth': 2040.0, 'Pit Near Avalanche Location': 'crown', 'WL_Depth': 450.0, 'WL_Thickness': 50.0}, {'Slope Angle': '30', 'HS': 450.0, 'Profile Depth': 450.0, 'Pit Near Avalanche Location': 'crown', 'WL_Depth': 410.0, 'WL_Thickness': 40.0}, {'Slope Angle': '25', 'HS': 1780.0, 'Profile Depth': 800.0, 'Pit Near Avalanche Location': 'crown', 'WL_Depth': 350.0, 'WL_Thickness': 150.0}, {'Slope Angle': '40', 'HS': 1800.0, 'Profile Depth': 1000.0, 'Pit Near Avalanche Location': None, 'WL_Depth': 300.0, 'WL_Thickness': 10.0}, {'Slope Angle': '37', 'HS': 1650.0, 'Profile Depth': 1650.0, 'Pit Near Avalanche Location': 'crown', 'WL_Depth': 650.0, 'WL_Thickness': 10.0}, {'Slope Angle': '47', 'HS': 2400.0, 'Profile Depth': 2000.0, 'Pit Near Avalanche Location': 'other', 'WL_Depth': 600.0, 'WL_Thickness': 20.0}, {'Slope Angle': '42', 'HS': 2490.0, 'Profile Depth': 2490.0, 'Pit Near Avalanche Location': 'flank', 'WL_Depth': 730.0, 'WL_Thickness': 10.0}, {'Slope Angle': '32', 'HS': 550.0, 'Profile Depth': 550.0, 'Pit Near Avalanche Location': 'crown', 'WL_Depth': 450.0, 'WL_Thickness': 100.0}, {'Slope Angle': '31', 'HS': 2200.0, 'Profile Depth': 2200.0, 'Pit Near Avalanche Location': 'crown', 'WL_Depth': 1200.0, 'WL_Thickness': 5.0}, {'Slope Angle': '38', 'HS': 2500.0, 'Profile Depth': 2500.0, 'Pit Near Avalanche Location': 'crown', 'WL_Depth': 950.0, 'WL_Thickness': 50.0}, {'Slope Angle': '39', 'HS': 1630.0, 'Profile Depth': 1630.0, 'Pit Near Avalanche Location': 'crown', 'WL_Depth': 680.0, 'WL_Thickness': 30.0}, {'Slope Angle': '33', 'HS': 1000.0, 'Profile Depth': 1000.0, 'Pit Near Avalanche Location': 'crown', 'WL_Depth': 650.0, 'WL_Thickness': 350.0}, {'Slope Angle': '30', 'HS': 2200.0, 'Profile Depth': 2200.0, 'Pit Near Avalanche Location': 'other', 'WL_Depth': 600.0, 'WL_Thickness': 10.0}, {'Slope Angle': '45', 'HS': 1650.0, 'Profile Depth': 1650.0, 'Pit Near Avalanche Location': 'crown', 'WL_Depth': 1010.0, 'WL_Thickness': 140.0}, {'Slope Angle': None, 'HS': 1800.0, 'Profile Depth': 1800.0, 'Pit Near Avalanche Location': 'crown', 'WL_Depth': 800.0, 'WL_Thickness': 200.0}, {'Slope Angle': '22', 'HS': 750.0, 'Profile Depth': 750.0, 'Pit Near Avalanche Location': 'other', 'WL_Depth': 250.0, 'WL_Thickness': 60.0}, {'Slope Angle': '35', 'HS': 3120.0, 'Profile Depth': 3120.0, 'Pit Near Avalanche Location': 'other', 'WL_Depth': 420.0, 'WL_Thickness': 60.0}, {'Slope Angle': '35', 'HS': 2520.0, 'Profile Depth': 2520.0, 'Pit Near Avalanche Location': 'crown', 'WL_Depth': 1010.0, 'WL_Thickness': 10.0}, {'Slope Angle': '38', 'HS': 1640.0, 'Profile Depth': 1640.0, 'Pit Near Avalanche Location': 'crown', 'WL_Depth': 1020.0, 'WL_Thickness': 60.0}, {'Slope Angle': '11', 'HS': 1600.0, 'Profile Depth': 1400.0, 'Pit Near Avalanche Location': 'other', 'WL_Depth': 660.0, 'WL_Thickness': 6.0}, {'Slope Angle': '34', 'HS': None, 'Profile Depth': 930.0, 'Pit Near Avalanche Location': 'flank', 'WL_Depth': 570.0, 'WL_Thickness': 120.0}, {'Slope Angle': '35', 'HS': 3000.0, 'Profile Depth': 800.0, 'Pit Near Avalanche Location': 'flank', 'WL_Depth': 600.0, 'WL_Thickness': 50.0}, {'Slope Angle': '35', 'HS': None, 'Profile Depth': 2130.0, 'Pit Near Avalanche Location': 'crown', 'WL_Depth': 2100.0, 'WL_Thickness': 30.0}, {'Slope Angle': '38', 'HS': 750.0, 'Profile Depth': 750.0, 'Pit Near Avalanche Location': 'flank', 'WL_Depth': 420.0, 'WL_Thickness': 10.0}, {'Slope Angle': '30', 'HS': 3200.0, 'Profile Depth': 780.0, 'Pit Near Avalanche Location': 'crown', 'WL_Depth': 430.0, 'WL_Thickness': 30.0}, {'Slope Angle': '32', 'HS': 1000.0, 'Profile Depth': 1000.0, 'Pit Near Avalanche Location': 'crown', 'WL_Depth': 480.0, 'WL_Thickness': 110.0}, {'Slope Angle': '40', 'HS': 1840.0, 'Profile Depth': 1840.0, 'Pit Near Avalanche Location': 'crown', 'WL_Depth': 1430.0, 'WL_Thickness': 410.0}, {'Slope Angle': '37', 'HS': 1370.0, 'Profile Depth': 1370.0, 'Pit Near Avalanche Location': 'crown', 'WL_Depth': 970.0, 'WL_Thickness': 400.0}, {'Slope Angle': '33', 'HS': 750.0, 'Profile Depth': 750.0, 'Pit Near Avalanche Location': 'flank', 'WL_Depth': 0.0, 'WL_Thickness': 100.0}, {'Slope Angle': '34', 'HS': 1470.0, 'Profile Depth': 1470.0, 'Pit Near Avalanche Location': 'crown', 'WL_Depth': 620.0, 'WL_Thickness': 250.0}, {'Slope Angle': '42', 'HS': 1000.0, 'Profile Depth': 1000.0, 'Pit Near Avalanche Location': 'crown', 'WL_Depth': 590.0, 'WL_Thickness': 10.0}, {'Slope Angle': '35', 'HS': None, 'Profile Depth': 800.0, 'Pit Near Avalanche Location': 'crown', 'WL_Depth': 200.0, 'WL_Thickness': 400.0}, {'Slope Angle': '33', 'HS': 2400.0, 'Profile Depth': 2400.0, 'Pit Near Avalanche Location': 'crown', 'WL_Depth': 710.0, 'WL_Thickness': 50.0}, {'Slope Angle': '20', 'HS': 1410.0, 'Profile Depth': 1410.0, 'Pit Near Avalanche Location': 'crown', 'WL_Depth': 380.0, 'WL_Thickness': 10.0}, {'Slope Angle': '36', 'HS': 2650.0, 'Profile Depth': 2650.0, 'Pit Near Avalanche Location': 'crown', 'WL_Depth': 1180.0, 'WL_Thickness': 50.0}, {'Slope Angle': '35', 'HS': 2450.0, 'Profile Depth': 2450.0, 'Pit Near Avalanche Location': 'crown', 'WL_Depth': 560.0, 'WL_Thickness': 10.0}, {'Slope Angle': '34', 'HS': 850.0, 'Profile Depth': 850.0, 'Pit Near Avalanche Location': 'crown', 'WL_Depth': 550.0, 'WL_Thickness': 60.0}, {'Slope Angle': '32', 'HS': 1600.0, 'Profile Depth': 1600.0, 'Pit Near Avalanche Location': 'crown', 'WL_Depth': 0.0, 'WL_Thickness': 100.0}, {'Slope Angle': '37', 'HS': 2500.0, 'Profile Depth': 2500.0, 'Pit Near Avalanche Location': 'crown', 'WL_Depth': 970.0, 'WL_Thickness': 70.0}, {'Slope Angle': '36', 'HS': 1000.0, 'Profile Depth': 1000.0, 'Pit Near Avalanche Location': None, 'WL_Depth': 450.0, 'WL_Thickness': 100.0}, {'Slope Angle': '38', 'HS': 1360.0, 'Profile Depth': 1360.0, 'Pit Near Avalanche Location': 'crown', 'WL_Depth': 1010.0, 'WL_Thickness': 350.0}, {'Slope Angle': '39', 'HS': 2550.0, 'Profile Depth': 2550.0, 'Pit Near Avalanche Location': 'crown', 'WL_Depth': 540.0, 'WL_Thickness': 10.0}, {'Slope Angle': '43', 'HS': 2140.0, 'Profile Depth': 2140.0, 'Pit Near Avalanche Location': 'crown', 'WL_Depth': 190.0, 'WL_Thickness': 100.0}, {'Slope Angle': '18', 'HS': 1250.0, 'Profile Depth': 1250.0, 'Pit Near Avalanche Location': 'other', 'WL_Depth': 1000.0, 'WL_Thickness': 250.0}, {'Slope Angle': '34', 'HS': 1050.0, 'Profile Depth': 1050.0, 'Pit Near Avalanche Location': 'flank', 'WL_Depth': 700.0, 'WL_Thickness': 60.0}, {'Slope Angle': '42', 'HS': 780.0, 'Profile Depth': 780.0, 'Pit Near Avalanche Location': 'crown', 'WL_Depth': 480.0, 'WL_Thickness': 300.0}, {'Slope Angle': '40', 'HS': 700.0, 'Profile Depth': 700.0, 'Pit Near Avalanche Location': 'crown', 'WL_Depth': 520.0, 'WL_Thickness': 180.0}, {'Slope Angle': '35', 'HS': 650.0, 'Profile Depth': 650.0, 'Pit Near Avalanche Location': None, 'WL_Depth': 500.0, 'WL_Thickness': 150.0}, {'Slope Angle': '25', 'HS': 980.0, 'Profile Depth': 980.0, 'Pit Near Avalanche Location': 'flank', 'WL_Depth': 220.0, 'WL_Thickness': 50.0}, {'Slope Angle': '35', 'HS': 1850.0, 'Profile Depth': 1850.0, 'Pit Near Avalanche Location': 'flank', 'WL_Depth': 70.0, 'WL_Thickness': 110.0}, {'Slope Angle': '25', 'HS': 1000.0, 'Profile Depth': 1000.0, 'Pit Near Avalanche Location': 'flank', 'WL_Depth': 400.0, 'WL_Thickness': 20.0}, {'Slope Angle': '30', 'HS': 3340.0, 'Profile Depth': 3340.0, 'Pit Near Avalanche Location': 'flank', 'WL_Depth': 40.0, 'WL_Thickness': 600.0}, {'Slope Angle': None, 'HS': 650.0, 'Profile Depth': 650.0, 'Pit Near Avalanche Location': 'other', 'WL_Depth': 370.0, 'WL_Thickness': 180.0}, {'Slope Angle': '42', 'HS': 1150.0, 'Profile Depth': 1150.0, 'Pit Near Avalanche Location': None, 'WL_Depth': 450.0, 'WL_Thickness': 10.0}, {'Slope Angle': '47', 'HS': 3000.0, 'Profile Depth': 1600.0, 'Pit Near Avalanche Location': 'crown', 'WL_Depth': 10.0, 'WL_Thickness': 60.0}, {'Slope Angle': None, 'HS': 900.0, 'Profile Depth': 900.0, 'Pit Near Avalanche Location': 'crown', 'WL_Depth': 530.0, 'WL_Thickness': 170.0}, {'Slope Angle': '33', 'HS': 820.0, 'Profile Depth': 820.0, 'Pit Near Avalanche Location': 'crown', 'WL_Depth': 550.0, 'WL_Thickness': 10.0}, {'Slope Angle': '25', 'HS': 1710.0, 'Profile Depth': 1710.0, 'Pit Near Avalanche Location': 'other', 'WL_Depth': 460.0, 'WL_Thickness': 30.0}, {'Slope Angle': '30', 'HS': 2520.0, 'Profile Depth': 2520.0, 'Pit Near Avalanche Location': 'flank', 'WL_Depth': 280.0, 'WL_Thickness': 770.0}, {'Slope Angle': None, 'HS': 1840.0, 'Profile Depth': 1840.0, 'Pit Near Avalanche Location': 'crown', 'WL_Depth': 380.0, 'WL_Thickness': 450.0}, {'Slope Angle': '37', 'HS': 1160.0, 'Profile Depth': 1160.0, 'Pit Near Avalanche Location': 'crown', 'WL_Depth': 555.0, 'WL_Thickness': 15.0}, {'Slope Angle': '34', 'HS': 2150.0, 'Profile Depth': 2150.0, 'Pit Near Avalanche Location': 'crown', 'WL_Depth': 1820.0, 'WL_Thickness': 330.0}, {'Slope Angle': '40', 'HS': 1080.0, 'Profile Depth': 1080.0, 'Pit Near Avalanche Location': 'crown', 'WL_Depth': 400.0, 'WL_Thickness': 270.0}, {'Slope Angle': '29', 'HS': 1300.0, 'Profile Depth': 1300.0, 'Pit Near Avalanche Location': 'flank', 'WL_Depth': 660.0, 'WL_Thickness': 40.0}, {'Slope Angle': '42', 'HS': 3150.0, 'Profile Depth': 3150.0, 'Pit Near Avalanche Location': 'crown', 'WL_Depth': 1450.0, 'WL_Thickness': 20.0}, {'Slope Angle': '40', 'HS': 1100.0, 'Profile Depth': 1100.0, 'Pit Near Avalanche Location': 'crown', 'WL_Depth': 690.0, 'WL_Thickness': 10.0}, {'Slope Angle': '33', 'HS': 1340.0, 'Profile Depth': 1340.0, 'Pit Near Avalanche Location': 'flank', 'WL_Depth': 820.0, 'WL_Thickness': 250.0}, {'Slope Angle': '28', 'HS': 1050.0, 'Profile Depth': 1050.0, 'Pit Near Avalanche Location': 'other', 'WL_Depth': 350.0, 'WL_Thickness': 10.0}, {'Slope Angle': '35', 'HS': 1400.0, 'Profile Depth': 1400.0, 'Pit Near Avalanche Location': 'crown', 'WL_Depth': 570.0, 'WL_Thickness': 60.0}, {'Slope Angle': '20', 'HS': 1900.0, 'Profile Depth': 1900.0, 'Pit Near Avalanche Location': 'crown', 'WL_Depth': 0.0, 'WL_Thickness': 300.0}, {'Slope Angle': '30', 'HS': 2850.0, 'Profile Depth': 1350.0, 'Pit Near Avalanche Location': 'flank', 'WL_Depth': 550.0, 'WL_Thickness': 250.0}, {'Slope Angle': '35', 'HS': 1700.0, 'Profile Depth': 1214.0, 'Pit Near Avalanche Location': 'flank', 'WL_Depth': 450.0, 'WL_Thickness': 18.0}, {'Slope Angle': '38', 'HS': 2550.0, 'Profile Depth': 2550.0, 'Pit Near Avalanche Location': 'flank', 'WL_Depth': 1050.0, 'WL_Thickness': 10.0}, {'Slope Angle': '15', 'HS': None, 'Profile Depth': 1000.0, 'Pit Near Avalanche Location': None, 'WL_Depth': 380.0, 'WL_Thickness': 10.0}, {'Slope Angle': '30', 'HS': 620.0, 'Profile Depth': 620.0, 'Pit Near Avalanche Location': 'crown', 'WL_Depth': 420.0, 'WL_Thickness': 200.0}, {'Slope Angle': '32', 'HS': 1650.0, 'Profile Depth': 1200.0, 'Pit Near Avalanche Location': 'other', 'WL_Depth': 250.0, 'WL_Thickness': 200.0}, {'Slope Angle': '23', 'HS': 3100.0, 'Profile Depth': 1400.0, 'Pit Near Avalanche Location': 'other', 'WL_Depth': 400.0, 'WL_Thickness': 100.0}, {'Slope Angle': None, 'HS': 3400.0, 'Profile Depth': 3400.0, 'Pit Near Avalanche Location': 'other', 'WL_Depth': 1700.0, 'WL_Thickness': 20.0}, {'Slope Angle': '30', 'HS': 1030.0, 'Profile Depth': 1030.0, 'Pit Near Avalanche Location': None, 'WL_Depth': 590.0, 'WL_Thickness': 40.0}, {'Slope Angle': '34', 'HS': 1090.0, 'Profile Depth': 1090.0, 'Pit Near Avalanche Location': 'flank', 'WL_Depth': 280.0, 'WL_Thickness': 210.0}, {'Slope Angle': '29', 'HS': 1800.0, 'Profile Depth': 1800.0, 'Pit Near Avalanche Location': 'crown', 'WL_Depth': 120.0, 'WL_Thickness': 130.0}, {'Slope Angle': None, 'HS': 2900.0, 'Profile Depth': 2900.0, 'Pit Near Avalanche Location': 'flank', 'WL_Depth': 700.0, 'WL_Thickness': 350.0}, {'Slope Angle': '38', 'HS': 1250.0, 'Profile Depth': 1250.0, 'Pit Near Avalanche Location': 'crown', 'WL_Depth': 390.0, 'WL_Thickness': 20.0}, {'Slope Angle': '32', 'HS': 1230.0, 'Profile Depth': 1230.0, 'Pit Near Avalanche Location': 'flank', 'WL_Depth': 60.0, 'WL_Thickness': 620.0}, {'Slope Angle': '35', 'HS': 1040.0, 'Profile Depth': 1040.0, 'Pit Near Avalanche Location': 'crown', 'WL_Depth': 770.0, 'WL_Thickness': 30.0}, {'Slope Angle': '39', 'HS': 870.0, 'Profile Depth': 870.0, 'Pit Near Avalanche Location': 'crown', 'WL_Depth': 500.0, 'WL_Thickness': 170.0}, {'Slope Angle': '41', 'HS': 2050.0, 'Profile Depth': 2050.0, 'Pit Near Avalanche Location': 'crown', 'WL_Depth': 340.0, 'WL_Thickness': 10.0}, {'Slope Angle': '40', 'HS': 1300.0, 'Profile Depth': 1300.0, 'Pit Near Avalanche Location': 'crown', 'WL_Depth': 490.0, 'WL_Thickness': 10.0}, {'Slope Angle': '36', 'HS': 1940.0, 'Profile Depth': 1940.0, 'Pit Near Avalanche Location': 'other', 'WL_Depth': 210.0, 'WL_Thickness': 30.0}, {'Slope Angle': '20', 'HS': 600.0, 'Profile Depth': 600.0, 'Pit Near Avalanche Location': 'crown', 'WL_Depth': 120.0, 'WL_Thickness': 30.0}, {'Slope Angle': '40', 'HS': 3550.0, 'Profile Depth': 1350.0, 'Pit Near Avalanche Location': 'crown', 'WL_Depth': 1100.0, 'WL_Thickness': 170.0}, {'Slope Angle': '33', 'HS': 1420.0, 'Profile Depth': 1420.0, 'Pit Near Avalanche Location': 'crown', 'WL_Depth': 1040.0, 'WL_Thickness': 30.0}, {'Slope Angle': '41', 'HS': 2450.0, 'Profile Depth': 1420.0, 'Pit Near Avalanche Location': 'crown', 'WL_Depth': 780.0, 'WL_Thickness': 20.0}, {'Slope Angle': '38', 'HS': 2900.0, 'Profile Depth': 1430.0, 'Pit Near Avalanche Location': 'crown', 'WL_Depth': 470.0, 'WL_Thickness': 10.0}, {'Slope Angle': '37', 'HS': 1850.0, 'Profile Depth': 1850.0, 'Pit Near Avalanche Location': 'crown', 'WL_Depth': 1160.0, 'WL_Thickness': 20.0}, {'Slope Angle': '38', 'HS': 1200.0, 'Profile Depth': 1200.0, 'Pit Near Avalanche Location': 'crown', 'WL_Depth': 700.0, 'WL_Thickness': 130.0}, {'Slope Angle': '25', 'HS': 900.0, 'Profile Depth': 900.0, 'Pit Near Avalanche Location': 'crown', 'WL_Depth': 220.0, 'WL_Thickness': 40.0}, {'Slope Angle': '40', 'HS': 1930.0, 'Profile Depth': 1930.0, 'Pit Near Avalanche Location': 'crown', 'WL_Depth': 710.0, 'WL_Thickness': 10.0}, {'Slope Angle': '23', 'HS': 5450.0, 'Profile Depth': 2400.0, 'Pit Near Avalanche Location': 'other', 'WL_Depth': 1250.0, 'WL_Thickness': 20.0}, {'Slope Angle': '23', 'HS': 2450.0, 'Profile Depth': 1450.0, 'Pit Near Avalanche Location': 'other', 'WL_Depth': 400.0, 'WL_Thickness': 210.0}, {'Slope Angle': '36', 'HS': 1400.0, 'Profile Depth': 1400.0, 'Pit Near Avalanche Location': 'crown', 'WL_Depth': 750.0, 'WL_Thickness': 20.0}, {'Slope Angle': '30', 'HS': 600.0, 'Profile Depth': 600.0, 'Pit Near Avalanche Location': 'flank', 'WL_Depth': 400.0, 'WL_Thickness': 200.0}, {'Slope Angle': '17', 'HS': 1400.0, 'Profile Depth': 1400.0, 'Pit Near Avalanche Location': 'other', 'WL_Depth': 1250.0, 'WL_Thickness': 150.0}, {'Slope Angle': '30', 'HS': 1220.0, 'Profile Depth': 1220.0, 'Pit Near Avalanche Location': 'flank', 'WL_Depth': 220.0, 'WL_Thickness': 50.0}, {'Slope Angle': '25', 'HS': 850.0, 'Profile Depth': 850.0, 'Pit Near Avalanche Location': 'flank', 'WL_Depth': 450.0, 'WL_Thickness': 20.0}, {'Slope Angle': None, 'HS': 1300.0, 'Profile Depth': 1300.0, 'Pit Near Avalanche Location': 'crown', 'WL_Depth': 450.0, 'WL_Thickness': 20.0}, {'Slope Angle': '35', 'HS': None, 'Profile Depth': 1320.0, 'Pit Near Avalanche Location': 'crown', 'WL_Depth': 1200.0, 'WL_Thickness': 20.0}, {'Slope Angle': '41', 'HS': 2450.0, 'Profile Depth': 1420.0, 'Pit Near Avalanche Location': 'crown', 'WL_Depth': 780.0, 'WL_Thickness': 20.0}, {'Slope Angle': '38', 'HS': 900.0, 'Profile Depth': 900.0, 'Pit Near Avalanche Location': 'flank', 'WL_Depth': 530.0, 'WL_Thickness': 70.0}, {'Slope Angle': '25', 'HS': None, 'Profile Depth': 800.0, 'Pit Near Avalanche Location': 'crown', 'WL_Depth': 400.0, 'WL_Thickness': 100.0}, {'Slope Angle': '35', 'HS': 1100.0, 'Profile Depth': 1100.0, 'Pit Near Avalanche Location': None, 'WL_Depth': 800.0, 'WL_Thickness': 20.0}, {'Slope Angle': '35', 'HS': 1680.0, 'Profile Depth': 1250.0, 'Pit Near Avalanche Location': 'flank', 'WL_Depth': 510.0, 'WL_Thickness': 50.0}, {'Slope Angle': '33', 'HS': 2000.0, 'Profile Depth': 2000.0, 'Pit Near Avalanche Location': 'flank', 'WL_Depth': 200.0, 'WL_Thickness': 250.0}, {'Slope Angle': '22', 'HS': None, 'Profile Depth': 650.0, 'Pit Near Avalanche Location': 'flank', 'WL_Depth': 270.0, 'WL_Thickness': 10.0}, {'Slope Angle': '30', 'HS': 1640.0, 'Profile Depth': 1000.0, 'Pit Near Avalanche Location': 'crown', 'WL_Depth': 480.0, 'WL_Thickness': 5.0}, {'Slope Angle': '40', 'HS': 1450.0, 'Profile Depth': 1450.0, 'Pit Near Avalanche Location': 'crown', 'WL_Depth': 500.0, 'WL_Thickness': 400.0}, {'Slope Angle': '32', 'HS': 1040.0, 'Profile Depth': 1040.0, 'Pit Near Avalanche Location': 'crown', 'WL_Depth': 760.0, 'WL_Thickness': 20.0}, {'Slope Angle': None, 'HS': 1300.0, 'Profile Depth': 1300.0, 'Pit Near Avalanche Location': 'other', 'WL_Depth': 950.0, 'WL_Thickness': 230.0}, {'Slope Angle': '46', 'HS': 3550.0, 'Profile Depth': 2000.0, 'Pit Near Avalanche Location': 'crown', 'WL_Depth': 1190.0, 'WL_Thickness': 240.0}, {'Slope Angle': '22', 'HS': 1700.0, 'Profile Depth': 1200.0, 'Pit Near Avalanche Location': 'flank', 'WL_Depth': 90.0, 'WL_Thickness': 10.0}, {'Slope Angle': '27', 'HS': 2370.0, 'Profile Depth': 2370.0, 'Pit Near Avalanche Location': 'flank', 'WL_Depth': 2120.0, 'WL_Thickness': 250.0}, {'Slope Angle': '38', 'HS': 1170.0, 'Profile Depth': 1170.0, 'Pit Near Avalanche Location': 'flank', 'WL_Depth': 540.0, 'WL_Thickness': 30.0}, {'Slope Angle': '35', 'HS': 1300.0, 'Profile Depth': 1300.0, 'Pit Near Avalanche Location': 'crown', 'WL_Depth': 450.0, 'WL_Thickness': 50.0}, {'Slope Angle': '38', 'HS': 3380.0, 'Profile Depth': 3380.0, 'Pit Near Avalanche Location': 'crown', 'WL_Depth': 930.0, 'WL_Thickness': 10.0}, {'Slope Angle': '34', 'HS': 700.0, 'Profile Depth': 700.0, 'Pit Near Avalanche Location': 'other', 'WL_Depth': 220.0, 'WL_Thickness': 100.0}, {'Slope Angle': '30', 'HS': 490.0, 'Profile Depth': 490.0, 'Pit Near Avalanche Location': 'other', 'WL_Depth': 0.0, 'WL_Thickness': 30.0}, {'Slope Angle': '40', 'HS': 750.0, 'Profile Depth': 750.0, 'Pit Near Avalanche Location': 'crown', 'WL_Depth': 600.0, 'WL_Thickness': 10.0}, {'Slope Angle': None, 'HS': 920.0, 'Profile Depth': 920.0, 'Pit Near Avalanche Location': 'flank', 'WL_Depth': 440.0, 'WL_Thickness': 30.0}, {'Slope Angle': '28', 'HS': 2600.0, 'Profile Depth': 2000.0, 'Pit Near Avalanche Location': 'crown', 'WL_Depth': 870.0, 'WL_Thickness': 1110.0}, {'Slope Angle': '35', 'HS': None, 'Profile Depth': 3500.0, 'Pit Near Avalanche Location': 'crown', 'WL_Depth': 200.0, 'WL_Thickness': 60.0}, {'Slope Angle': '37', 'HS': 800.0, 'Profile Depth': 800.0, 'Pit Near Avalanche Location': 'crown', 'WL_Depth': 580.0, 'WL_Thickness': 40.0}, {'Slope Angle': '39', 'HS': 1010.0, 'Profile Depth': 1010.0, 'Pit Near Avalanche Location': 'crown', 'WL_Depth': 570.0, 'WL_Thickness': 120.0}, {'Slope Angle': '26', 'HS': 1400.0, 'Profile Depth': 1400.0, 'Pit Near Avalanche Location': 'crown', 'WL_Depth': 840.0, 'WL_Thickness': 80.0}, {'Slope Angle': '37', 'HS': 960.0, 'Profile Depth': 960.0, 'Pit Near Avalanche Location': 'other', 'WL_Depth': 810.0, 'WL_Thickness': 150.0}, {'Slope Angle': '30', 'HS': 1300.0, 'Profile Depth': 1300.0, 'Pit Near Avalanche Location': 'flank', 'WL_Depth': 920.0, 'WL_Thickness': 100.0}, {'Slope Angle': '30', 'HS': 660.0, 'Profile Depth': 660.0, 'Pit Near Avalanche Location': 'flank', 'WL_Depth': 160.0, 'WL_Thickness': 210.0}, {'Slope Angle': '35', 'HS': 1100.0, 'Profile Depth': 1100.0, 'Pit Near Avalanche Location': 'flank', 'WL_Depth': 880.0, 'WL_Thickness': 120.0}, {'Slope Angle': '38', 'HS': 1700.0, 'Profile Depth': 1700.0, 'Pit Near Avalanche Location': 'crown', 'WL_Depth': 730.0, 'WL_Thickness': 140.0}, {'Slope Angle': '34', 'HS': 1310.0, 'Profile Depth': 1310.0, 'Pit Near Avalanche Location': 'other', 'WL_Depth': 570.0, 'WL_Thickness': 10.0}, {'Slope Angle': '23', 'HS': 1900.0, 'Profile Depth': 1900.0, 'Pit Near Avalanche Location': 'crown', 'WL_Depth': 800.0, 'WL_Thickness': 300.0}, {'Slope Angle': '20', 'HS': 1650.0, 'Profile Depth': 1000.0, 'Pit Near Avalanche Location': 'crown', 'WL_Depth': 410.0, 'WL_Thickness': 60.0}, {'Slope Angle': '42', 'HS': 1240.0, 'Profile Depth': 1240.0, 'Pit Near Avalanche Location': 'crown', 'WL_Depth': 1030.0, 'WL_Thickness': 60.0}, {'Slope Angle': '38', 'HS': 1800.0, 'Profile Depth': 1800.0, 'Pit Near Avalanche Location': 'flank', 'WL_Depth': 150.0, 'WL_Thickness': 20.0}, {'Slope Angle': '30', 'HS': 3000.0, 'Profile Depth': 1200.0, 'Pit Near Avalanche Location': None, 'WL_Depth': 250.0, 'WL_Thickness': 10.0}, {'Slope Angle': None, 'HS': 1400.0, 'Profile Depth': 1400.0, 'Pit Near Avalanche Location': 'crown', 'WL_Depth': 700.0, 'WL_Thickness': 30.0}, {'Slope Angle': '38', 'HS': 1350.0, 'Profile Depth': 1350.0, 'Pit Near Avalanche Location': 'crown', 'WL_Depth': 650.0, 'WL_Thickness': 100.0}, {'Slope Angle': '31', 'HS': 1420.0, 'Profile Depth': 1420.0, 'Pit Near Avalanche Location': 'other', 'WL_Depth': 440.0, 'WL_Thickness': 500.0}, {'Slope Angle': '38', 'HS': 3800.0, 'Profile Depth': 3800.0, 'Pit Near Avalanche Location': 'crown', 'WL_Depth': 1050.0, 'WL_Thickness': 50.0}, {'Slope Angle': '34', 'HS': None, 'Profile Depth': 780.0, 'Pit Near Avalanche Location': 'crown', 'WL_Depth': 440.0, 'WL_Thickness': 90.0}, {'Slope Angle': '35', 'HS': 1980.0, 'Profile Depth': 1980.0, 'Pit Near Avalanche Location': 'crown', 'WL_Depth': 760.0, 'WL_Thickness': 30.0}, {'Slope Angle': '42', 'HS': 2200.0, 'Profile Depth': 2200.0, 'Pit Near Avalanche Location': 'crown', 'WL_Depth': 1050.0, 'WL_Thickness': 10.0}, {'Slope Angle': '40', 'HS': 1450.0, 'Profile Depth': 1450.0, 'Pit Near Avalanche Location': 'crown', 'WL_Depth': 540.0, 'WL_Thickness': 10.0}, {'Slope Angle': '30', 'HS': 460.0, 'Profile Depth': 460.0, 'Pit Near Avalanche Location': 'crown', 'WL_Depth': 280.0, 'WL_Thickness': 160.0}, {'Slope Angle': '20', 'HS': 1120.0, 'Profile Depth': 1120.0, 'Pit Near Avalanche Location': 'crown', 'WL_Depth': 440.0, 'WL_Thickness': 10.0}, {'Slope Angle': '33', 'HS': 2700.0, 'Profile Depth': 2700.0, 'Pit Near Avalanche Location': 'crown', 'WL_Depth': 590.0, 'WL_Thickness': 370.0}, {'Slope Angle': '37', 'HS': 2350.0, 'Profile Depth': 2350.0, 'Pit Near Avalanche Location': 'flank', 'WL_Depth': 880.0, 'WL_Thickness': 50.0}, {'Slope Angle': '26', 'HS': 1850.0, 'Profile Depth': 1850.0, 'Pit Near Avalanche Location': 'flank', 'WL_Depth': 1260.0, 'WL_Thickness': 70.0}, {'Slope Angle': '37', 'HS': 1370.0, 'Profile Depth': 1370.0, 'Pit Near Avalanche Location': 'crown', 'WL_Depth': 320.0, 'WL_Thickness': 10.0}, {'Slope Angle': '30', 'HS': 400.0, 'Profile Depth': 400.0, 'Pit Near Avalanche Location': 'crown', 'WL_Depth': 230.0, 'WL_Thickness': 170.0}, {'Slope Angle': '35', 'HS': 2350.0, 'Profile Depth': 1000.0, 'Pit Near Avalanche Location': 'crown', 'WL_Depth': 700.0, 'WL_Thickness': 30.0}, {'Slope Angle': '31', 'HS': 1520.0, 'Profile Depth': 1520.0, 'Pit Near Avalanche Location': 'other', 'WL_Depth': 910.0, 'WL_Thickness': 150.0}, {'Slope Angle': '30', 'HS': 2400.0, 'Profile Depth': 2400.0, 'Pit Near Avalanche Location': 'flank', 'WL_Depth': 50.0, 'WL_Thickness': 150.0}, {'Slope Angle': '40', 'HS': 1020.0, 'Profile Depth': 1020.0, 'Pit Near Avalanche Location': 'crown', 'WL_Depth': 450.0, 'WL_Thickness': 20.0}, {'Slope Angle': '34', 'HS': 1800.0, 'Profile Depth': 1800.0, 'Pit Near Avalanche Location': 'flank', 'WL_Depth': 250.0, 'WL_Thickness': 20.0}, {'Slope Angle': '32', 'HS': 900.0, 'Profile Depth': 900.0, 'Pit Near Avalanche Location': 'crown', 'WL_Depth': 600.0, 'WL_Thickness': 10.0}, {'Slope Angle': '28', 'HS': 2620.0, 'Profile Depth': 2600.0, 'Pit Near Avalanche Location': 'crown', 'WL_Depth': 890.0, 'WL_Thickness': 100.0}, {'Slope Angle': '34', 'HS': 1510.0, 'Profile Depth': 1510.0, 'Pit Near Avalanche Location': 'other', 'WL_Depth': 560.0, 'WL_Thickness': 80.0}, {'Slope Angle': '35', 'HS': 1700.0, 'Profile Depth': 1700.0, 'Pit Near Avalanche Location': 'flank', 'WL_Depth': 1120.0, 'WL_Thickness': 92.0}, {'Slope Angle': '39', 'HS': 1230.0, 'Profile Depth': 1230.0, 'Pit Near Avalanche Location': 'flank', 'WL_Depth': 540.0, 'WL_Thickness': 20.0}, {'Slope Angle': '31', 'HS': 890.0, 'Profile Depth': 890.0, 'Pit Near Avalanche Location': 'crown', 'WL_Depth': 390.0, 'WL_Thickness': 20.0}, {'Slope Angle': '38', 'HS': 1190.0, 'Profile Depth': 1190.0, 'Pit Near Avalanche Location': 'crown', 'WL_Depth': 540.0, 'WL_Thickness': 30.0}, {'Slope Angle': '35', 'HS': 1570.0, 'Profile Depth': 1570.0, 'Pit Near Avalanche Location': 'crown', 'WL_Depth': 275.0, 'WL_Thickness': 5.0}, {'Slope Angle': '30', 'HS': 4500.0, 'Profile Depth': 1242.0, 'Pit Near Avalanche Location': None, 'WL_Depth': 698.0, 'WL_Thickness': 24.0}, {'Slope Angle': '38', 'HS': 2200.0, 'Profile Depth': 800.0, 'Pit Near Avalanche Location': 'crown', 'WL_Depth': 280.0, 'WL_Thickness': 20.0}, {'Slope Angle': '39', 'HS': 1070.0, 'Profile Depth': 1070.0, 'Pit Near Avalanche Location': 'crown', 'WL_Depth': 420.0, 'WL_Thickness': 30.0}, {'Slope Angle': '22', 'HS': 1250.0, 'Profile Depth': 1250.0, 'Pit Near Avalanche Location': 'flank', 'WL_Depth': 650.0, 'WL_Thickness': 200.0}, {'Slope Angle': '40', 'HS': 1600.0, 'Profile Depth': 1600.0, 'Pit Near Avalanche Location': 'crown', 'WL_Depth': 440.0, 'WL_Thickness': 20.0}, {'Slope Angle': '15', 'HS': 850.0, 'Profile Depth': 850.0, 'Pit Near Avalanche Location': 'other', 'WL_Depth': 450.0, 'WL_Thickness': 230.0}, {'Slope Angle': '20', 'HS': 1200.0, 'Profile Depth': 1200.0, 'Pit Near Avalanche Location': 'crown', 'WL_Depth': 150.0, 'WL_Thickness': 190.0}, {'Slope Angle': '45', 'HS': 1350.0, 'Profile Depth': 1350.0, 'Pit Near Avalanche Location': 'other', 'WL_Depth': 450.0, 'WL_Thickness': 10.0}, {'Slope Angle': '38', 'HS': 1230.0, 'Profile Depth': 1230.0, 'Pit Near Avalanche Location': 'crown', 'WL_Depth': 610.0, 'WL_Thickness': 20.0}, {'Slope Angle': '28', 'HS': 1930.0, 'Profile Depth': 1930.0, 'Pit Near Avalanche Location': None, 'WL_Depth': 1050.0, 'WL_Thickness': 230.0}, {'Slope Angle': '45', 'HS': 1450.0, 'Profile Depth': 1450.0, 'Pit Near Avalanche Location': 'crown', 'WL_Depth': 870.0, 'WL_Thickness': 10.0}, {'Slope Angle': '21', 'HS': 1780.0, 'Profile Depth': 1080.0, 'Pit Near Avalanche Location': 'crown', 'WL_Depth': 1050.0, 'WL_Thickness': 30.0}, {'Slope Angle': '30', 'HS': 750.0, 'Profile Depth': 750.0, 'Pit Near Avalanche Location': 'flank', 'WL_Depth': 410.0, 'WL_Thickness': 20.0}, {'Slope Angle': '30', 'HS': 800.0, 'Profile Depth': 800.0, 'Pit Near Avalanche Location': 'flank', 'WL_Depth': 440.0, 'WL_Thickness': 10.0}, {'Slope Angle': None, 'HS': 2450.0, 'Profile Depth': 2450.0, 'Pit Near Avalanche Location': 'crown', 'WL_Depth': 1300.0, 'WL_Thickness': 20.0}, {'Slope Angle': '39', 'HS': 1710.0, 'Profile Depth': 1710.0, 'Pit Near Avalanche Location': 'crown', 'WL_Depth': 1140.0, 'WL_Thickness': 20.0}, {'Slope Angle': '32', 'HS': 4000.0, 'Profile Depth': 1100.0, 'Pit Near Avalanche Location': 'other', 'WL_Depth': 200.0, 'WL_Thickness': 50.0}, {'Slope Angle': '38', 'HS': 1300.0, 'Profile Depth': 1300.0, 'Pit Near Avalanche Location': 'crown', 'WL_Depth': 470.0, 'WL_Thickness': 10.0}, {'Slope Angle': '29', 'HS': 1250.0, 'Profile Depth': 1250.0, 'Pit Near Avalanche Location': 'other', 'WL_Depth': 900.0, 'WL_Thickness': 70.0}, {'Slope Angle': '35', 'HS': 1150.0, 'Profile Depth': 1150.0, 'Pit Near Avalanche Location': 'crown', 'WL_Depth': 650.0, 'WL_Thickness': 150.0}, {'Slope Angle': '40', 'HS': 4350.0, 'Profile Depth': 1400.0, 'Pit Near Avalanche Location': 'crown', 'WL_Depth': 600.0, 'WL_Thickness': 30.0}, {'Slope Angle': '31', 'HS': 1600.0, 'Profile Depth': 1600.0, 'Pit Near Avalanche Location': 'flank', 'WL_Depth': 320.0, 'WL_Thickness': 20.0}, {'Slope Angle': '34', 'HS': 920.0, 'Profile Depth': 920.0, 'Pit Near Avalanche Location': 'crown', 'WL_Depth': 500.0, 'WL_Thickness': 20.0}, {'Slope Angle': '38', 'HS': 1800.0, 'Profile Depth': 1800.0, 'Pit Near Avalanche Location': 'flank', 'WL_Depth': 1570.0, 'WL_Thickness': 230.0}, {'Slope Angle': '35', 'HS': 3250.0, 'Profile Depth': 3250.0, 'Pit Near Avalanche Location': 'crown', 'WL_Depth': 2650.0, 'WL_Thickness': 20.0}, {'Slope Angle': '24', 'HS': 1750.0, 'Profile Depth': 1750.0, 'Pit Near Avalanche Location': 'other', 'WL_Depth': 880.0, 'WL_Thickness': 70.0}, {'Slope Angle': '40', 'HS': 1700.0, 'Profile Depth': 550.0, 'Pit Near Avalanche Location': 'flank', 'WL_Depth': 450.0, 'WL_Thickness': 50.0}, {'Slope Angle': '30', 'HS': None, 'Profile Depth': 1600.0, 'Pit Near Avalanche Location': 'crown', 'WL_Depth': 400.0, 'WL_Thickness': 50.0}, {'Slope Angle': '33', 'HS': 1510.0, 'Profile Depth': 1510.0, 'Pit Near Avalanche Location': 'crown', 'WL_Depth': 1070.0, 'WL_Thickness': 290.0}, {'Slope Angle': '30', 'HS': 1540.0, 'Profile Depth': 1540.0, 'Pit Near Avalanche Location': 'flank', 'WL_Depth': 640.0, 'WL_Thickness': 400.0}, {'Slope Angle': '35', 'HS': 2180.0, 'Profile Depth': 2180.0, 'Pit Near Avalanche Location': 'flank', 'WL_Depth': 930.0, 'WL_Thickness': 10.0}, {'Slope Angle': '35', 'HS': 3200.0, 'Profile Depth': 1250.0, 'Pit Near Avalanche Location': 'crown', 'WL_Depth': 800.0, 'WL_Thickness': 10.0}, {'Slope Angle': '25', 'HS': 3500.0, 'Profile Depth': 900.0, 'Pit Near Avalanche Location': 'crown', 'WL_Depth': 380.0, 'WL_Thickness': 140.0}, {'Slope Angle': '18', 'HS': 700.0, 'Profile Depth': 700.0, 'Pit Near Avalanche Location': 'crown', 'WL_Depth': 450.0, 'WL_Thickness': 40.0}, {'Slope Angle': '45', 'HS': 2100.0, 'Profile Depth': 2100.0, 'Pit Near Avalanche Location': 'crown', 'WL_Depth': 690.0, 'WL_Thickness': 100.0}, {'Slope Angle': '44', 'HS': 1040.0, 'Profile Depth': 1040.0, 'Pit Near Avalanche Location': 'crown', 'WL_Depth': 410.0, 'WL_Thickness': 200.0}, {'Slope Angle': '34', 'HS': 750.0, 'Profile Depth': 750.0, 'Pit Near Avalanche Location': 'flank', 'WL_Depth': 510.0, 'WL_Thickness': 240.0}, {'Slope Angle': '32', 'HS': 2680.0, 'Profile Depth': 1550.0, 'Pit Near Avalanche Location': 'other', 'WL_Depth': 250.0, 'WL_Thickness': 220.0}, {'Slope Angle': '36', 'HS': 710.0, 'Profile Depth': 710.0, 'Pit Near Avalanche Location': 'crown', 'WL_Depth': 520.0, 'WL_Thickness': 190.0}, {'Slope Angle': '30', 'HS': 750.0, 'Profile Depth': 750.0, 'Pit Near Avalanche Location': 'crown', 'WL_Depth': 460.0, 'WL_Thickness': 40.0}, {'Slope Angle': '25', 'HS': 1200.0, 'Profile Depth': 1200.0, 'Pit Near Avalanche Location': 'flank', 'WL_Depth': 800.0, 'WL_Thickness': 100.0}, {'Slope Angle': '33', 'HS': 1570.0, 'Profile Depth': 1570.0, 'Pit Near Avalanche Location': 'crown', 'WL_Depth': 470.0, 'WL_Thickness': 20.0}, {'Slope Angle': '20', 'HS': 1250.0, 'Profile Depth': 1250.0, 'Pit Near Avalanche Location': 'other', 'WL_Depth': 530.0, 'WL_Thickness': 10.0}, {'Slope Angle': '26', 'HS': 830.0, 'Profile Depth': 830.0, 'Pit Near Avalanche Location': 'flank', 'WL_Depth': 30.0, 'WL_Thickness': 40.0}, {'Slope Angle': '35', 'HS': 960.0, 'Profile Depth': 960.0, 'Pit Near Avalanche Location': 'crown', 'WL_Depth': 480.0, 'WL_Thickness': 90.0}, {'Slope Angle': '34', 'HS': 700.0, 'Profile Depth': 700.0, 'Pit Near Avalanche Location': 'other', 'WL_Depth': 300.0, 'WL_Thickness': 150.0}, {'Slope Angle': '40', 'HS': 1500.0, 'Profile Depth': 1200.0, 'Pit Near Avalanche Location': 'crown', 'WL_Depth': 900.0, 'WL_Thickness': 20.0}, {'Slope Angle': '20', 'HS': 1300.0, 'Profile Depth': 1266.0, 'Pit Near Avalanche Location': None, 'WL_Depth': 698.0, 'WL_Thickness': 106.0}, {'Slope Angle': '38', 'HS': 1160.0, 'Profile Depth': 1160.0, 'Pit Near Avalanche Location': 'crown', 'WL_Depth': 490.0, 'WL_Thickness': 10.0}, {'Slope Angle': '37', 'HS': 1750.0, 'Profile Depth': 1750.0, 'Pit Near Avalanche Location': 'crown', 'WL_Depth': 520.0, 'WL_Thickness': 20.0}, {'Slope Angle': '35', 'HS': 3000.0, 'Profile Depth': 1210.0, 'Pit Near Avalanche Location': 'flank', 'WL_Depth': 242.0, 'WL_Thickness': 30.0}, {'Slope Angle': '25', 'HS': 930.0, 'Profile Depth': 930.0, 'Pit Near Avalanche Location': 'flank', 'WL_Depth': 500.0, 'WL_Thickness': 60.0}, {'Slope Angle': '42', 'HS': 1350.0, 'Profile Depth': 1350.0, 'Pit Near Avalanche Location': 'crown', 'WL_Depth': 650.0, 'WL_Thickness': 10.0}, {'Slope Angle': '40', 'HS': 1540.0, 'Profile Depth': 1540.0, 'Pit Near Avalanche Location': 'crown', 'WL_Depth': 1060.0, 'WL_Thickness': 40.0}, {'Slope Angle': '32', 'HS': 300.0, 'Profile Depth': 300.0, 'Pit Near Avalanche Location': 'flank', 'WL_Depth': 100.0, 'WL_Thickness': 50.0}, {'Slope Angle': '15', 'HS': None, 'Profile Depth': 600.0, 'Pit Near Avalanche Location': 'other', 'WL_Depth': 20.0, 'WL_Thickness': 430.0}, {'Slope Angle': '17', 'HS': 600.0, 'Profile Depth': 600.0, 'Pit Near Avalanche Location': 'flank', 'WL_Depth': 440.0, 'WL_Thickness': 160.0}, {'Slope Angle': '38', 'HS': 1670.0, 'Profile Depth': 1670.0, 'Pit Near Avalanche Location': 'crown', 'WL_Depth': 740.0, 'WL_Thickness': 10.0}, {'Slope Angle': '32', 'HS': 1270.0, 'Profile Depth': 1270.0, 'Pit Near Avalanche Location': 'crown', 'WL_Depth': 660.0, 'WL_Thickness': 10.0}, {'Slope Angle': '33', 'HS': 1790.0, 'Profile Depth': 1790.0, 'Pit Near Avalanche Location': 'crown', 'WL_Depth': 930.0, 'WL_Thickness': 10.0}, {'Slope Angle': '25', 'HS': 1300.0, 'Profile Depth': 1300.0, 'Pit Near Avalanche Location': 'crown', 'WL_Depth': 990.0, 'WL_Thickness': 310.0}, {'Slope Angle': '36', 'HS': 1250.0, 'Profile Depth': 1250.0, 'Pit Near Avalanche Location': 'crown', 'WL_Depth': 790.0, 'WL_Thickness': 30.0}, {'Slope Angle': '31', 'HS': 1450.0, 'Profile Depth': 1450.0, 'Pit Near Avalanche Location': 'crown', 'WL_Depth': 380.0, 'WL_Thickness': 10.0}, {'Slope Angle': '30', 'HS': 2500.0, 'Profile Depth': 2500.0, 'Pit Near Avalanche Location': 'flank', 'WL_Depth': 180.0, 'WL_Thickness': 170.0}, {'Slope Angle': '30', 'HS': 2400.0, 'Profile Depth': 2400.0, 'Pit Near Avalanche Location': 'crown', 'WL_Depth': 700.0, 'WL_Thickness': 10.0}, {'Slope Angle': '35', 'HS': 2270.0, 'Profile Depth': 2270.0, 'Pit Near Avalanche Location': 'flank', 'WL_Depth': 1220.0, 'WL_Thickness': 40.0}, {'Slope Angle': '29', 'HS': 1450.0, 'Profile Depth': 1450.0, 'Pit Near Avalanche Location': 'crown', 'WL_Depth': 710.0, 'WL_Thickness': 30.0}, {'Slope Angle': '32', 'HS': 1400.0, 'Profile Depth': 1400.0, 'Pit Near Avalanche Location': 'crown', 'WL_Depth': 790.0, 'WL_Thickness': 20.0}, {'Slope Angle': '30', 'HS': 1970.0, 'Profile Depth': 1970.0, 'Pit Near Avalanche Location': 'crown', 'WL_Depth': 360.0, 'WL_Thickness': 50.0}, {'Slope Angle': '38', 'HS': 2300.0, 'Profile Depth': 2300.0, 'Pit Near Avalanche Location': 'crown', 'WL_Depth': 730.0, 'WL_Thickness': 10.0}, {'Slope Angle': '38', 'HS': 870.0, 'Profile Depth': 870.0, 'Pit Near Avalanche Location': 'crown', 'WL_Depth': 300.0, 'WL_Thickness': 20.0}, {'Slope Angle': '28', 'HS': 1930.0, 'Profile Depth': 1930.0, 'Pit Near Avalanche Location': 'flank', 'WL_Depth': 1280.0, 'WL_Thickness': 50.0}, {'Slope Angle': '20', 'HS': 2350.0, 'Profile Depth': 2350.0, 'Pit Near Avalanche Location': 'other', 'WL_Depth': 100.0, 'WL_Thickness': 10.0}, {'Slope Angle': '17', 'HS': 1950.0, 'Profile Depth': 1950.0, 'Pit Near Avalanche Location': 'flank', 'WL_Depth': 1150.0, 'WL_Thickness': 800.0}, {'Slope Angle': '37', 'HS': 1110.0, 'Profile Depth': 1110.0, 'Pit Near Avalanche Location': 'crown', 'WL_Depth': 680.0, 'WL_Thickness': 40.0}, {'Slope Angle': '28', 'HS': 1210.0, 'Profile Depth': 1210.0, 'Pit Near Avalanche Location': 'other', 'WL_Depth': 530.0, 'WL_Thickness': 80.0}, {'Slope Angle': '35', 'HS': 900.0, 'Profile Depth': 900.0, 'Pit Near Avalanche Location': 'crown', 'WL_Depth': 720.0, 'WL_Thickness': 180.0}, {'Slope Angle': '35', 'HS': 1360.0, 'Profile Depth': 1360.0, 'Pit Near Avalanche Location': 'flank', 'WL_Depth': 940.0, 'WL_Thickness': 20.0}, {'Slope Angle': '37', 'HS': 1180.0, 'Profile Depth': 1180.0, 'Pit Near Avalanche Location': 'crown', 'WL_Depth': 510.0, 'WL_Thickness': 70.0}, {'Slope Angle': '41', 'HS': None, 'Profile Depth': 2000.0, 'Pit Near Avalanche Location': 'crown', 'WL_Depth': 850.0, 'WL_Thickness': 50.0}, {'Slope Angle': '34', 'HS': 2800.0, 'Profile Depth': 300.0, 'Pit Near Avalanche Location': 'crown', 'WL_Depth': 105.0, 'WL_Thickness': 15.0}, {'Slope Angle': '31', 'HS': 1710.0, 'Profile Depth': 1100.0, 'Pit Near Avalanche Location': 'flank', 'WL_Depth': 300.0, 'WL_Thickness': 110.0}, {'Slope Angle': None, 'HS': 1810.0, 'Profile Depth': 1810.0, 'Pit Near Avalanche Location': 'crown', 'WL_Depth': 690.0, 'WL_Thickness': 20.0}, {'Slope Angle': '30', 'HS': 2300.0, 'Profile Depth': 2300.0, 'Pit Near Avalanche Location': 'flank', 'WL_Depth': 740.0, 'WL_Thickness': 110.0}, {'Slope Angle': '32', 'HS': 2100.0, 'Profile Depth': 734.0, 'Pit Near Avalanche Location': None, 'WL_Depth': 590.0, 'WL_Thickness': 102.0}, {'Slope Angle': '34', 'HS': 2150.0, 'Profile Depth': 2150.0, 'Pit Near Avalanche Location': 'flank', 'WL_Depth': 1200.0, 'WL_Thickness': 80.0}, {'Slope Angle': '5', 'HS': 1100.0, 'Profile Depth': 1100.0, 'Pit Near Avalanche Location': None, 'WL_Depth': 300.0, 'WL_Thickness': 60.0}, {'Slope Angle': '25', 'HS': None, 'Profile Depth': 1000.0, 'Pit Near Avalanche Location': 'crown', 'WL_Depth': 500.0, 'WL_Thickness': 200.0}, {'Slope Angle': '25', 'HS': 3100.0, 'Profile Depth': 1000.0, 'Pit Near Avalanche Location': 'other', 'WL_Depth': 550.0, 'WL_Thickness': 100.0}, {'Slope Angle': '33', 'HS': 800.0, 'Profile Depth': 800.0, 'Pit Near Avalanche Location': 'flank', 'WL_Depth': 370.0, 'WL_Thickness': 100.0}, {'Slope Angle': '39', 'HS': 800.0, 'Profile Depth': 800.0, 'Pit Near Avalanche Location': 'flank', 'WL_Depth': 500.0, 'WL_Thickness': 200.0}, {'Slope Angle': '25', 'HS': 2620.0, 'Profile Depth': 700.0, 'Pit Near Avalanche Location': 'crown', 'WL_Depth': 500.0, 'WL_Thickness': 20.0}, {'Slope Angle': '41', 'HS': 1530.0, 'Profile Depth': 1530.0, 'Pit Near Avalanche Location': 'crown', 'WL_Depth': 360.0, 'WL_Thickness': 30.0}, {'Slope Angle': '40', 'HS': 1800.0, 'Profile Depth': 1800.0, 'Pit Near Avalanche Location': 'flank', 'WL_Depth': 950.0, 'WL_Thickness': 40.0}, {'Slope Angle': '40', 'HS': 1400.0, 'Profile Depth': 1400.0, 'Pit Near Avalanche Location': 'crown', 'WL_Depth': 600.0, 'WL_Thickness': 10.0}, {'Slope Angle': '39', 'HS': 1490.0, 'Profile Depth': 1490.0, 'Pit Near Avalanche Location': 'crown', 'WL_Depth': 760.0, 'WL_Thickness': 130.0}, {'Slope Angle': '25', 'HS': 760.0, 'Profile Depth': 760.0, 'Pit Near Avalanche Location': 'flank', 'WL_Depth': 290.0, 'WL_Thickness': 10.0}, {'Slope Angle': '40', 'HS': 1470.0, 'Profile Depth': 1470.0, 'Pit Near Avalanche Location': 'flank', 'WL_Depth': 380.0, 'WL_Thickness': 140.0}, {'Slope Angle': '32', 'HS': 2200.0, 'Profile Depth': 700.0, 'Pit Near Avalanche Location': 'crown', 'WL_Depth': 510.0, 'WL_Thickness': 30.0}, {'Slope Angle': '38', 'HS': 1320.0, 'Profile Depth': 1320.0, 'Pit Near Avalanche Location': 'crown', 'WL_Depth': 600.0, 'WL_Thickness': 40.0}, {'Slope Angle': '40', 'HS': 4460.0, 'Profile Depth': 2000.0, 'Pit Near Avalanche Location': 'crown', 'WL_Depth': 1670.0, 'WL_Thickness': 20.0}, {'Slope Angle': '15', 'HS': 4150.0, 'Profile Depth': 1600.0, 'Pit Near Avalanche Location': 'flank', 'WL_Depth': 1050.0, 'WL_Thickness': 10.0}, {'Slope Angle': '32', 'HS': 865.0, 'Profile Depth': 865.0, 'Pit Near Avalanche Location': 'flank', 'WL_Depth': 365.0, 'WL_Thickness': 100.0}, {'Slope Angle': '40', 'HS': None, 'Profile Depth': 950.0, 'Pit Near Avalanche Location': 'flank', 'WL_Depth': 160.0, 'WL_Thickness': 340.0}, {'Slope Angle': None, 'HS': 4500.0, 'Profile Depth': 1400.0, 'Pit Near Avalanche Location': 'flank', 'WL_Depth': 750.0, 'WL_Thickness': 30.0}, {'Slope Angle': None, 'HS': 1700.0, 'Profile Depth': 1700.0, 'Pit Near Avalanche Location': 'crown', 'WL_Depth': 1030.0, 'WL_Thickness': 30.0}, {'Slope Angle': '35', 'HS': 1950.0, 'Profile Depth': 1250.0, 'Pit Near Avalanche Location': 'crown', 'WL_Depth': 850.0, 'WL_Thickness': 100.0}, {'Slope Angle': '20', 'HS': 1600.0, 'Profile Depth': 1100.0, 'Pit Near Avalanche Location': 'crown', 'WL_Depth': 750.0, 'WL_Thickness': 10.0}, {'Slope Angle': '30', 'HS': 1210.0, 'Profile Depth': 1210.0, 'Pit Near Avalanche Location': 'crown', 'WL_Depth': 470.0, 'WL_Thickness': 160.0}, {'Slope Angle': '37', 'HS': 1100.0, 'Profile Depth': 1100.0, 'Pit Near Avalanche Location': 'crown', 'WL_Depth': 670.0, 'WL_Thickness': 30.0}, {'Slope Angle': '42', 'HS': 3650.0, 'Profile Depth': 1480.0, 'Pit Near Avalanche Location': 'crown', 'WL_Depth': 940.0, 'WL_Thickness': 20.0}, {'Slope Angle': '20', 'HS': 2800.0, 'Profile Depth': 1450.0, 'Pit Near Avalanche Location': 'crown', 'WL_Depth': 560.0, 'WL_Thickness': 60.0}, {'Slope Angle': None, 'HS': 2400.0, 'Profile Depth': 490.0, 'Pit Near Avalanche Location': 'other', 'WL_Depth': 320.0, 'WL_Thickness': 10.0}, {'Slope Angle': '34', 'HS': 560.0, 'Profile Depth': 560.0, 'Pit Near Avalanche Location': 'flank', 'WL_Depth': 310.0, 'WL_Thickness': 100.0}, {'Slope Angle': '44', 'HS': 2000.0, 'Profile Depth': 2000.0, 'Pit Near Avalanche Location': 'crown', 'WL_Depth': 1300.0, 'WL_Thickness': 30.0}, {'Slope Angle': '34', 'HS': 1600.0, 'Profile Depth': 1600.0, 'Pit Near Avalanche Location': 'crown', 'WL_Depth': 800.0, 'WL_Thickness': 100.0}, {'Slope Angle': '47', 'HS': 2580.0, 'Profile Depth': 800.0, 'Pit Near Avalanche Location': 'crown', 'WL_Depth': 600.0, 'WL_Thickness': 100.0}, {'Slope Angle': None, 'HS': 1200.0, 'Profile Depth': 1200.0, 'Pit Near Avalanche Location': 'other', 'WL_Depth': 600.0, 'WL_Thickness': 10.0}, {'Slope Angle': None, 'HS': 3250.0, 'Profile Depth': 1600.0, 'Pit Near Avalanche Location': 'flank', 'WL_Depth': 900.0, 'WL_Thickness': 700.0}, {'Slope Angle': '28', 'HS': 600.0, 'Profile Depth': 600.0, 'Pit Near Avalanche Location': 'crown', 'WL_Depth': 460.0, 'WL_Thickness': 140.0}, {'Slope Angle': '35', 'HS': 2350.0, 'Profile Depth': 590.0, 'Pit Near Avalanche Location': 'crown', 'WL_Depth': 230.0, 'WL_Thickness': 20.0}, {'Slope Angle': '20', 'HS': 2250.0, 'Profile Depth': 1300.0, 'Pit Near Avalanche Location': 'other', 'WL_Depth': 560.0, 'WL_Thickness': 40.0}, {'Slope Angle': '31', 'HS': 2850.0, 'Profile Depth': 2850.0, 'Pit Near Avalanche Location': 'crown', 'WL_Depth': 1110.0, 'WL_Thickness': 10.0}, {'Slope Angle': '25', 'HS': 1250.0, 'Profile Depth': 1250.0, 'Pit Near Avalanche Location': 'other', 'WL_Depth': 600.0, 'WL_Thickness': 50.0}, {'Slope Angle': '40', 'HS': 1850.0, 'Profile Depth': 1850.0, 'Pit Near Avalanche Location': None, 'WL_Depth': 650.0, 'WL_Thickness': 100.0}, {'Slope Angle': '30', 'HS': 1890.0, 'Profile Depth': 1890.0, 'Pit Near Avalanche Location': 'flank', 'WL_Depth': 620.0, 'WL_Thickness': 20.0}, {'Slope Angle': '20', 'HS': 690.0, 'Profile Depth': 690.0, 'Pit Near Avalanche Location': 'flank', 'WL_Depth': 470.0, 'WL_Thickness': 10.0}, {'Slope Angle': '33', 'HS': 1040.0, 'Profile Depth': 1040.0, 'Pit Near Avalanche Location': 'crown', 'WL_Depth': 300.0, 'WL_Thickness': 40.0}, {'Slope Angle': '35', 'HS': 1500.0, 'Profile Depth': 1500.0, 'Pit Near Avalanche Location': 'crown', 'WL_Depth': 400.0, 'WL_Thickness': 10.0}, {'Slope Angle': '38', 'HS': 2200.0, 'Profile Depth': 800.0, 'Pit Near Avalanche Location': 'crown', 'WL_Depth': 280.0, 'WL_Thickness': 20.0}, {'Slope Angle': '35', 'HS': 3000.0, 'Profile Depth': 3000.0, 'Pit Near Avalanche Location': 'flank', 'WL_Depth': 900.0, 'WL_Thickness': 500.0}, {'Slope Angle': '38', 'HS': 600.0, 'Profile Depth': 600.0, 'Pit Near Avalanche Location': 'crown', 'WL_Depth': 240.0, 'WL_Thickness': 10.0}, {'Slope Angle': '30', 'HS': 1200.0, 'Profile Depth': 1200.0, 'Pit Near Avalanche Location': 'flank', 'WL_Depth': 750.0, 'WL_Thickness': 230.0}, {'Slope Angle': '28', 'HS': 1000.0, 'Profile Depth': 1000.0, 'Pit Near Avalanche Location': 'crown', 'WL_Depth': 230.0, 'WL_Thickness': 120.0}, {'Slope Angle': '25', 'HS': 900.0, 'Profile Depth': 900.0, 'Pit Near Avalanche Location': 'crown', 'WL_Depth': 370.0, 'WL_Thickness': 20.0}, {'Slope Angle': '28', 'HS': 910.0, 'Profile Depth': 910.0, 'Pit Near Avalanche Location': 'other', 'WL_Depth': 340.0, 'WL_Thickness': 30.0}, {'Slope Angle': '35', 'HS': 1350.0, 'Profile Depth': 1350.0, 'Pit Near Avalanche Location': 'flank', 'WL_Depth': 700.0, 'WL_Thickness': 80.0}, {'Slope Angle': '15', 'HS': 580.0, 'Profile Depth': 580.0, 'Pit Near Avalanche Location': None, 'WL_Depth': 380.0, 'WL_Thickness': 5.0}, {'Slope Angle': '30', 'HS': 4600.0, 'Profile Depth': 1600.0, 'Pit Near Avalanche Location': 'other', 'WL_Depth': 310.0, 'WL_Thickness': 120.0}, {'Slope Angle': '42', 'HS': 1500.0, 'Profile Depth': 1500.0, 'Pit Near Avalanche Location': 'crown', 'WL_Depth': 1050.0, 'WL_Thickness': 250.0}, {'Slope Angle': '28', 'HS': 1850.0, 'Profile Depth': 1850.0, 'Pit Near Avalanche Location': 'crown', 'WL_Depth': 830.0, 'WL_Thickness': 40.0}, {'Slope Angle': '20', 'HS': 1200.0, 'Profile Depth': 1200.0, 'Pit Near Avalanche Location': 'crown', 'WL_Depth': 150.0, 'WL_Thickness': 190.0}, {'Slope Angle': '33', 'HS': 1420.0, 'Profile Depth': 1420.0, 'Pit Near Avalanche Location': 'crown', 'WL_Depth': 610.0, 'WL_Thickness': 10.0}, {'Slope Angle': '36', 'HS': 470.0, 'Profile Depth': 470.0, 'Pit Near Avalanche Location': 'crown', 'WL_Depth': 200.0, 'WL_Thickness': 40.0}, {'Slope Angle': '28', 'HS': 3030.0, 'Profile Depth': 3030.0, 'Pit Near Avalanche Location': 'flank', 'WL_Depth': 720.0, 'WL_Thickness': 10.0}, {'Slope Angle': '30', 'HS': 3500.0, 'Profile Depth': 1400.0, 'Pit Near Avalanche Location': 'crown', 'WL_Depth': 1060.0, 'WL_Thickness': 10.0}, {'Slope Angle': '37', 'HS': 950.0, 'Profile Depth': 950.0, 'Pit Near Avalanche Location': 'flank', 'WL_Depth': 800.0, 'WL_Thickness': 150.0}, {'Slope Angle': None, 'HS': 1520.0, 'Profile Depth': 1520.0, 'Pit Near Avalanche Location': 'other', 'WL_Depth': 1070.0, 'WL_Thickness': 450.0}, {'Slope Angle': '33', 'HS': 2800.0, 'Profile Depth': 2800.0, 'Pit Near Avalanche Location': 'flank', 'WL_Depth': 250.0, 'WL_Thickness': 400.0}, {'Slope Angle': '23', 'HS': 1200.0, 'Profile Depth': 1200.0, 'Pit Near Avalanche Location': 'flank', 'WL_Depth': 950.0, 'WL_Thickness': 90.0}, {'Slope Angle': None, 'HS': 1050.0, 'Profile Depth': 1050.0, 'Pit Near Avalanche Location': 'crown', 'WL_Depth': 150.0, 'WL_Thickness': 50.0}, {'Slope Angle': '30', 'HS': 1900.0, 'Profile Depth': 1900.0, 'Pit Near Avalanche Location': 'flank', 'WL_Depth': 460.0, 'WL_Thickness': 80.0}, {'Slope Angle': '25', 'HS': 1120.0, 'Profile Depth': 1120.0, 'Pit Near Avalanche Location': 'other', 'WL_Depth': 480.0, 'WL_Thickness': 10.0}, {'Slope Angle': '45', 'HS': 790.0, 'Profile Depth': 790.0, 'Pit Near Avalanche Location': 'crown', 'WL_Depth': 350.0, 'WL_Thickness': 20.0}, {'Slope Angle': '37', 'HS': 950.0, 'Profile Depth': 950.0, 'Pit Near Avalanche Location': 'crown', 'WL_Depth': 490.0, 'WL_Thickness': 10.0}, {'Slope Angle': '20', 'HS': 900.0, 'Profile Depth': 900.0, 'Pit Near Avalanche Location': 'other', 'WL_Depth': 650.0, 'WL_Thickness': 70.0}, {'Slope Angle': '33', 'HS': 1870.0, 'Profile Depth': 1870.0, 'Pit Near Avalanche Location': 'crown', 'WL_Depth': 1220.0, 'WL_Thickness': 30.0}, {'Slope Angle': '35', 'HS': 1130.0, 'Profile Depth': 1130.0, 'Pit Near Avalanche Location': 'crown', 'WL_Depth': 610.0, 'WL_Thickness': 60.0}, {'Slope Angle': '28', 'HS': 1350.0, 'Profile Depth': 1350.0, 'Pit Near Avalanche Location': 'other', 'WL_Depth': 1200.0, 'WL_Thickness': 150.0}, {'Slope Angle': '38', 'HS': 1200.0, 'Profile Depth': 1200.0, 'Pit Near Avalanche Location': None, 'WL_Depth': 928.0, 'WL_Thickness': 74.0}, {'Slope Angle': '24', 'HS': 670.0, 'Profile Depth': 670.0, 'Pit Near Avalanche Location': 'other', 'WL_Depth': 570.0, 'WL_Thickness': 100.0}, {'Slope Angle': None, 'HS': 1150.0, 'Profile Depth': 1150.0, 'Pit Near Avalanche Location': 'crown', 'WL_Depth': 1050.0, 'WL_Thickness': 100.0}, {'Slope Angle': '31', 'HS': 1120.0, 'Profile Depth': 1120.0, 'Pit Near Avalanche Location': 'crown', 'WL_Depth': 530.0, 'WL_Thickness': 30.0}, {'Slope Angle': None, 'HS': 2470.0, 'Profile Depth': 2470.0, 'Pit Near Avalanche Location': 'crown', 'WL_Depth': 800.0, 'WL_Thickness': 10.0}, {'Slope Angle': '30', 'HS': 970.0, 'Profile Depth': 970.0, 'Pit Near Avalanche Location': 'flank', 'WL_Depth': 50.0, 'WL_Thickness': 220.0}, {'Slope Angle': '29', 'HS': 2780.0, 'Profile Depth': 2780.0, 'Pit Near Avalanche Location': 'flank', 'WL_Depth': 470.0, 'WL_Thickness': 10.0}, {'Slope Angle': '23', 'HS': 1450.0, 'Profile Depth': 1450.0, 'Pit Near Avalanche Location': 'crown', 'WL_Depth': 970.0, 'WL_Thickness': 480.0}, {'Slope Angle': '25', 'HS': 900.0, 'Profile Depth': 900.0, 'Pit Near Avalanche Location': 'crown', 'WL_Depth': 390.0, 'WL_Thickness': 220.0}, {'Slope Angle': '35', 'HS': None, 'Profile Depth': 1000.0, 'Pit Near Avalanche Location': 'crown', 'WL_Depth': 700.0, 'WL_Thickness': 50.0}, {'Slope Angle': '36', 'HS': 640.0, 'Profile Depth': 640.0, 'Pit Near Avalanche Location': 'flank', 'WL_Depth': 410.0, 'WL_Thickness': 40.0}, {'Slope Angle': '33', 'HS': 650.0, 'Profile Depth': 650.0, 'Pit Near Avalanche Location': 'other', 'WL_Depth': 260.0, 'WL_Thickness': 90.0}, {'Slope Angle': '34', 'HS': 1080.0, 'Profile Depth': 1080.0, 'Pit Near Avalanche Location': None, 'WL_Depth': 600.0, 'WL_Thickness': 100.0}, {'Slope Angle': '43', 'HS': 3550.0, 'Profile Depth': 470.0, 'Pit Near Avalanche Location': 'crown', 'WL_Depth': 410.0, 'WL_Thickness': 60.0}, {'Slope Angle': '38', 'HS': 1500.0, 'Profile Depth': 600.0, 'Pit Near Avalanche Location': 'crown', 'WL_Depth': 400.0, 'WL_Thickness': 140.0}, {'Slope Angle': '36', 'HS': 1600.0, 'Profile Depth': 1600.0, 'Pit Near Avalanche Location': 'flank', 'WL_Depth': 1150.0, 'WL_Thickness': 50.0}, {'Slope Angle': '33', 'HS': 1350.0, 'Profile Depth': 1350.0, 'Pit Near Avalanche Location': 'flank', 'WL_Depth': 60.0, 'WL_Thickness': 20.0}, {'Slope Angle': '30', 'HS': 910.0, 'Profile Depth': 910.0, 'Pit Near Avalanche Location': None, 'WL_Depth': 760.0, 'WL_Thickness': 150.0}, {'Slope Angle': '38', 'HS': 1400.0, 'Profile Depth': 1400.0, 'Pit Near Avalanche Location': 'crown', 'WL_Depth': 950.0, 'WL_Thickness': 450.0}, {'Slope Angle': '25', 'HS': 700.0, 'Profile Depth': 700.0, 'Pit Near Avalanche Location': 'flank', 'WL_Depth': 300.0, 'WL_Thickness': 50.0}, {'Slope Angle': '35', 'HS': 1400.0, 'Profile Depth': 1400.0, 'Pit Near Avalanche Location': 'flank', 'WL_Depth': 850.0, 'WL_Thickness': 20.0}, {'Slope Angle': '25', 'HS': 650.0, 'Profile Depth': 650.0, 'Pit Near Avalanche Location': 'crown', 'WL_Depth': 450.0, 'WL_Thickness': 200.0}, {'Slope Angle': '32', 'HS': 3170.0, 'Profile Depth': 1450.0, 'Pit Near Avalanche Location': 'crown', 'WL_Depth': 1060.0, 'WL_Thickness': 30.0}, {'Slope Angle': '32', 'HS': 1320.0, 'Profile Depth': 1320.0, 'Pit Near Avalanche Location': 'crown', 'WL_Depth': 430.0, 'WL_Thickness': 30.0}, {'Slope Angle': '35', 'HS': 1700.0, 'Profile Depth': 1700.0, 'Pit Near Avalanche Location': 'crown', 'WL_Depth': 900.0, 'WL_Thickness': 5.0}, {'Slope Angle': '30', 'HS': 1500.0, 'Profile Depth': 1500.0, 'Pit Near Avalanche Location': 'crown', 'WL_Depth': 700.0, 'WL_Thickness': 40.0}, {'Slope Angle': '42', 'HS': 1250.0, 'Profile Depth': 1250.0, 'Pit Near Avalanche Location': 'crown', 'WL_Depth': 510.0, 'WL_Thickness': 40.0}, {'Slope Angle': '30', 'HS': 2400.0, 'Profile Depth': 1000.0, 'Pit Near Avalanche Location': 'crown', 'WL_Depth': 300.0, 'WL_Thickness': 50.0}, {'Slope Angle': '34', 'HS': 2600.0, 'Profile Depth': 2600.0, 'Pit Near Avalanche Location': 'flank', 'WL_Depth': 580.0, 'WL_Thickness': 20.0}, {'Slope Angle': '33', 'HS': 1630.0, 'Profile Depth': 1630.0, 'Pit Near Avalanche Location': 'crown', 'WL_Depth': 1230.0, 'WL_Thickness': 400.0}, {'Slope Angle': '39', 'HS': 1250.0, 'Profile Depth': 1250.0, 'Pit Near Avalanche Location': 'crown', 'WL_Depth': 120.0, 'WL_Thickness': 290.0}, {'Slope Angle': '35', 'HS': 1820.0, 'Profile Depth': 1820.0, 'Pit Near Avalanche Location': 'flank', 'WL_Depth': 840.0, 'WL_Thickness': 150.0}, {'Slope Angle': '40', 'HS': 5000.0, 'Profile Depth': 1600.0, 'Pit Near Avalanche Location': 'crown', 'WL_Depth': 1400.0, 'WL_Thickness': 50.0}, {'Slope Angle': '35', 'HS': 1550.0, 'Profile Depth': 1550.0, 'Pit Near Avalanche Location': 'crown', 'WL_Depth': 440.0, 'WL_Thickness': 130.0}, {'Slope Angle': '30', 'HS': 1690.0, 'Profile Depth': 1690.0, 'Pit Near Avalanche Location': 'flank', 'WL_Depth': 500.0, 'WL_Thickness': 40.0}, {'Slope Angle': '39', 'HS': 1130.0, 'Profile Depth': 1130.0, 'Pit Near Avalanche Location': 'other', 'WL_Depth': 800.0, 'WL_Thickness': 330.0}, {'Slope Angle': '36', 'HS': 1280.0, 'Profile Depth': 1280.0, 'Pit Near Avalanche Location': 'crown', 'WL_Depth': 630.0, 'WL_Thickness': 50.0}, {'Slope Angle': '37', 'HS': None, 'Profile Depth': 1000.0, 'Pit Near Avalanche Location': 'flank', 'WL_Depth': 230.0, 'WL_Thickness': 20.0}, {'Slope Angle': '29', 'HS': 2050.0, 'Profile Depth': 2050.0, 'Pit Near Avalanche Location': 'flank', 'WL_Depth': 500.0, 'WL_Thickness': 150.0}, {'Slope Angle': '38', 'HS': 1000.0, 'Profile Depth': 400.0, 'Pit Near Avalanche Location': 'flank', 'WL_Depth': 130.0, 'WL_Thickness': 70.0}, {'Slope Angle': '27', 'HS': 1050.0, 'Profile Depth': 1050.0, 'Pit Near Avalanche Location': 'other', 'WL_Depth': 200.0, 'WL_Thickness': 600.0}, {'Slope Angle': '38', 'HS': 2150.0, 'Profile Depth': 1600.0, 'Pit Near Avalanche Location': 'crown', 'WL_Depth': 800.0, 'WL_Thickness': 30.0}, {'Slope Angle': '32', 'HS': 880.0, 'Profile Depth': 880.0, 'Pit Near Avalanche Location': 'flank', 'WL_Depth': 610.0, 'WL_Thickness': 30.0}, {'Slope Angle': None, 'HS': 2370.0, 'Profile Depth': 2370.0, 'Pit Near Avalanche Location': 'crown', 'WL_Depth': 830.0, 'WL_Thickness': 120.0}, {'Slope Angle': '33', 'HS': 3100.0, 'Profile Depth': 3100.0, 'Pit Near Avalanche Location': 'flank', 'WL_Depth': 770.0, 'WL_Thickness': 40.0}, {'Slope Angle': '34', 'HS': 1200.0, 'Profile Depth': 1200.0, 'Pit Near Avalanche Location': 'crown', 'WL_Depth': 680.0, 'WL_Thickness': 10.0}, {'Slope Angle': '24', 'HS': 2470.0, 'Profile Depth': 2470.0, 'Pit Near Avalanche Location': 'other', 'WL_Depth': 730.0, 'WL_Thickness': 340.0}, {'Slope Angle': '32', 'HS': 1580.0, 'Profile Depth': 1580.0, 'Pit Near Avalanche Location': 'crown', 'WL_Depth': 1250.0, 'WL_Thickness': 60.0}, {'Slope Angle': '35', 'HS': 1500.0, 'Profile Depth': 550.0, 'Pit Near Avalanche Location': 'crown', 'WL_Depth': 330.0, 'WL_Thickness': 30.0}, {'Slope Angle': '35', 'HS': 970.0, 'Profile Depth': 970.0, 'Pit Near Avalanche Location': 'crown', 'WL_Depth': 690.0, 'WL_Thickness': 150.0}, {'Slope Angle': '30', 'HS': 1700.0, 'Profile Depth': 1700.0, 'Pit Near Avalanche Location': 'crown', 'WL_Depth': 750.0, 'WL_Thickness': 150.0}, {'Slope Angle': None, 'HS': 2500.0, 'Profile Depth': 2500.0, 'Pit Near Avalanche Location': None, 'WL_Depth': 2100.0, 'WL_Thickness': 400.0}, {'Slope Angle': '40', 'HS': 1820.0, 'Profile Depth': 1820.0, 'Pit Near Avalanche Location': 'crown', 'WL_Depth': 690.0, 'WL_Thickness': 170.0}, {'Slope Angle': '30', 'HS': 700.0, 'Profile Depth': 700.0, 'Pit Near Avalanche Location': None, 'WL_Depth': 580.0, 'WL_Thickness': 120.0}, {'Slope Angle': '32', 'HS': 1310.0, 'Profile Depth': 1310.0, 'Pit Near Avalanche Location': 'crown', 'WL_Depth': 930.0, 'WL_Thickness': 280.0}, {'Slope Angle': '26', 'HS': 1100.0, 'Profile Depth': 650.0, 'Pit Near Avalanche Location': 'other', 'WL_Depth': 500.0, 'WL_Thickness': 20.0}, {'Slope Angle': '41', 'HS': 2400.0, 'Profile Depth': 1140.0, 'Pit Near Avalanche Location': 'flank', 'WL_Depth': 200.0, 'WL_Thickness': 20.0}, {'Slope Angle': '37', 'HS': 1900.0, 'Profile Depth': 1900.0, 'Pit Near Avalanche Location': 'flank', 'WL_Depth': 250.0, 'WL_Thickness': 50.0}, {'Slope Angle': '38', 'HS': 1350.0, 'Profile Depth': 1350.0, 'Pit Near Avalanche Location': 'crown', 'WL_Depth': 800.0, 'WL_Thickness': 250.0}, {'Slope Angle': '36', 'HS': 1650.0, 'Profile Depth': 1650.0, 'Pit Near Avalanche Location': 'flank', 'WL_Depth': 1300.0, 'WL_Thickness': 350.0}, {'Slope Angle': '20', 'HS': 2600.0, 'Profile Depth': 2600.0, 'Pit Near Avalanche Location': 'crown', 'WL_Depth': 1050.0, 'WL_Thickness': 10.0}, {'Slope Angle': '25', 'HS': 6000.0, 'Profile Depth': 1350.0, 'Pit Near Avalanche Location': 'flank', 'WL_Depth': 150.0, 'WL_Thickness': 100.0}, {'Slope Angle': '35', 'HS': 3000.0, 'Profile Depth': 3000.0, 'Pit Near Avalanche Location': 'other', 'WL_Depth': 300.0, 'WL_Thickness': 10.0}, {'Slope Angle': '26', 'HS': None, 'Profile Depth': 1050.0, 'Pit Near Avalanche Location': None, 'WL_Depth': 730.0, 'WL_Thickness': 50.0}, {'Slope Angle': '39', 'HS': 1500.0, 'Profile Depth': 1500.0, 'Pit Near Avalanche Location': 'crown', 'WL_Depth': 430.0, 'WL_Thickness': 180.0}, {'Slope Angle': '35', 'HS': 3200.0, 'Profile Depth': 1000.0, 'Pit Near Avalanche Location': 'flank', 'WL_Depth': 600.0, 'WL_Thickness': 20.0}, {'Slope Angle': '42', 'HS': 1350.0, 'Profile Depth': 1350.0, 'Pit Near Avalanche Location': 'crown', 'WL_Depth': 320.0, 'WL_Thickness': 230.0}, {'Slope Angle': '35', 'HS': 3800.0, 'Profile Depth': 1400.0, 'Pit Near Avalanche Location': 'flank', 'WL_Depth': 570.0, 'WL_Thickness': 30.0}, {'Slope Angle': '36', 'HS': 990.0, 'Profile Depth': 990.0, 'Pit Near Avalanche Location': 'crown', 'WL_Depth': 320.0, 'WL_Thickness': 20.0}, {'Slope Angle': '20', 'HS': None, 'Profile Depth': 400.0, 'Pit Near Avalanche Location': 'other', 'WL_Depth': 130.0, 'WL_Thickness': 5.0}, {'Slope Angle': '34', 'HS': 1090.0, 'Profile Depth': 1090.0, 'Pit Near Avalanche Location': 'crown', 'WL_Depth': 630.0, 'WL_Thickness': 20.0}, {'Slope Angle': None, 'HS': 700.0, 'Profile Depth': 700.0, 'Pit Near Avalanche Location': 'crown', 'WL_Depth': 450.0, 'WL_Thickness': 250.0}, {'Slope Angle': '35', 'HS': 3700.0, 'Profile Depth': 1000.0, 'Pit Near Avalanche Location': 'crown', 'WL_Depth': 690.0, 'WL_Thickness': 10.0}, {'Slope Angle': '41', 'HS': 1200.0, 'Profile Depth': 1200.0, 'Pit Near Avalanche Location': 'crown', 'WL_Depth': 500.0, 'WL_Thickness': 130.0}, {'Slope Angle': '30', 'HS': 480.0, 'Profile Depth': 480.0, 'Pit Near Avalanche Location': None, 'WL_Depth': 370.0, 'WL_Thickness': 110.0}, {'Slope Angle': '20', 'HS': 3250.0, 'Profile Depth': 1000.0, 'Pit Near Avalanche Location': 'flank', 'WL_Depth': 480.0, 'WL_Thickness': 70.0}, {'Slope Angle': '26', 'HS': 1380.0, 'Profile Depth': 1380.0, 'Pit Near Avalanche Location': 'flank', 'WL_Depth': 970.0, 'WL_Thickness': 410.0}, {'Slope Angle': '24', 'HS': 1000.0, 'Profile Depth': 800.0, 'Pit Near Avalanche Location': 'flank', 'WL_Depth': 340.0, 'WL_Thickness': 190.0}, {'Slope Angle': '22', 'HS': 1500.0, 'Profile Depth': 1500.0, 'Pit Near Avalanche Location': 'other', 'WL_Depth': 360.0, 'WL_Thickness': 10.0}, {'Slope Angle': '33', 'HS': 2750.0, 'Profile Depth': 2750.0, 'Pit Near Avalanche Location': 'crown', 'WL_Depth': 750.0, 'WL_Thickness': 10.0}, {'Slope Angle': '30', 'HS': 1670.0, 'Profile Depth': 1670.0, 'Pit Near Avalanche Location': 'other', 'WL_Depth': 390.0, 'WL_Thickness': 80.0}, {'Slope Angle': '32', 'HS': 950.0, 'Profile Depth': 950.0, 'Pit Near Avalanche Location': None, 'WL_Depth': 440.0, 'WL_Thickness': 10.0}, {'Slope Angle': '28', 'HS': 7000.0, 'Profile Depth': 1100.0, 'Pit Near Avalanche Location': None, 'WL_Depth': 770.0, 'WL_Thickness': 50.0}, {'Slope Angle': '30', 'HS': 3000.0, 'Profile Depth': 700.0, 'Pit Near Avalanche Location': 'crown', 'WL_Depth': 430.0, 'WL_Thickness': 10.0}, {'Slope Angle': '35', 'HS': 670.0, 'Profile Depth': 670.0, 'Pit Near Avalanche Location': 'flank', 'WL_Depth': 490.0, 'WL_Thickness': 2.0}, {'Slope Angle': '34', 'HS': 3200.0, 'Profile Depth': 3200.0, 'Pit Near Avalanche Location': 'flank', 'WL_Depth': 670.0, 'WL_Thickness': 30.0}, {'Slope Angle': '35', 'HS': 3000.0, 'Profile Depth': 3000.0, 'Pit Near Avalanche Location': 'flank', 'WL_Depth': 322.0, 'WL_Thickness': 36.0}, {'Slope Angle': '36', 'HS': 3070.0, 'Profile Depth': 3070.0, 'Pit Near Avalanche Location': 'crown', 'WL_Depth': 400.0, 'WL_Thickness': 180.0}, {'Slope Angle': '34', 'HS': 800.0, 'Profile Depth': 800.0, 'Pit Near Avalanche Location': None, 'WL_Depth': 600.0, 'WL_Thickness': 20.0}, {'Slope Angle': '39', 'HS': 1600.0, 'Profile Depth': 1600.0, 'Pit Near Avalanche Location': 'crown', 'WL_Depth': 550.0, 'WL_Thickness': 150.0}, {'Slope Angle': '28', 'HS': 630.0, 'Profile Depth': 630.0, 'Pit Near Avalanche Location': 'crown', 'WL_Depth': 290.0, 'WL_Thickness': 20.0}, {'Slope Angle': '33', 'HS': 1150.0, 'Profile Depth': 1150.0, 'Pit Near Avalanche Location': 'other', 'WL_Depth': 950.0, 'WL_Thickness': 200.0}, {'Slope Angle': '43', 'HS': 1400.0, 'Profile Depth': 1400.0, 'Pit Near Avalanche Location': 'crown', 'WL_Depth': 1010.0, 'WL_Thickness': 20.0}, {'Slope Angle': '47', 'HS': 4500.0, 'Profile Depth': 1020.0, 'Pit Near Avalanche Location': 'crown', 'WL_Depth': 850.0, 'WL_Thickness': 20.0}, {'Slope Angle': '27', 'HS': 1250.0, 'Profile Depth': 1250.0, 'Pit Near Avalanche Location': 'flank', 'WL_Depth': 700.0, 'WL_Thickness': 50.0}, {'Slope Angle': '30', 'HS': 1670.0, 'Profile Depth': 1670.0, 'Pit Near Avalanche Location': 'other', 'WL_Depth': 390.0, 'WL_Thickness': 80.0}, {'Slope Angle': '42', 'HS': 2400.0, 'Profile Depth': 2400.0, 'Pit Near Avalanche Location': 'crown', 'WL_Depth': 1900.0, 'WL_Thickness': 50.0}, {'Slope Angle': '38', 'HS': 120.0, 'Profile Depth': 120.0, 'Pit Near Avalanche Location': 'other', 'WL_Depth': 50.0, 'WL_Thickness': 20.0}, {'Slope Angle': '30', 'HS': 710.0, 'Profile Depth': 710.0, 'Pit Near Avalanche Location': 'flank', 'WL_Depth': 400.0, 'WL_Thickness': 310.0}, {'Slope Angle': '32', 'HS': 2500.0, 'Profile Depth': 2500.0, 'Pit Near Avalanche Location': 'flank', 'WL_Depth': 1070.0, 'WL_Thickness': 30.0}, {'Slope Angle': '20', 'HS': 1500.0, 'Profile Depth': 1500.0, 'Pit Near Avalanche Location': 'crown', 'WL_Depth': 300.0, 'WL_Thickness': 50.0}, {'Slope Angle': '38', 'HS': 1650.0, 'Profile Depth': 1650.0, 'Pit Near Avalanche Location': 'crown', 'WL_Depth': 1120.0, 'WL_Thickness': 80.0}, {'Slope Angle': '30', 'HS': 2450.0, 'Profile Depth': 2450.0, 'Pit Near Avalanche Location': 'crown', 'WL_Depth': 0.0, 'WL_Thickness': 32.0}, {'Slope Angle': '40', 'HS': 1700.0, 'Profile Depth': 1700.0, 'Pit Near Avalanche Location': 'crown', 'WL_Depth': 623.0, 'WL_Thickness': 127.0}, {'Slope Angle': '34', 'HS': 2150.0, 'Profile Depth': 2150.0, 'Pit Near Avalanche Location': 'flank', 'WL_Depth': 50.0, 'WL_Thickness': 200.0}, {'Slope Angle': '38', 'HS': 1980.0, 'Profile Depth': 1980.0, 'Pit Near Avalanche Location': 'crown', 'WL_Depth': 810.0, 'WL_Thickness': 50.0}, {'Slope Angle': '34', 'HS': 1300.0, 'Profile Depth': 1300.0, 'Pit Near Avalanche Location': 'flank', 'WL_Depth': 500.0, 'WL_Thickness': 300.0}, {'Slope Angle': '40', 'HS': 1000.0, 'Profile Depth': 1000.0, 'Pit Near Avalanche Location': 'crown', 'WL_Depth': 410.0, 'WL_Thickness': 60.0}, {'Slope Angle': None, 'HS': 2020.0, 'Profile Depth': 2020.0, 'Pit Near Avalanche Location': 'crown', 'WL_Depth': 850.0, 'WL_Thickness': 120.0}, {'Slope Angle': '40', 'HS': 1750.0, 'Profile Depth': 1750.0, 'Pit Near Avalanche Location': 'crown', 'WL_Depth': 850.0, 'WL_Thickness': 10.0}, {'Slope Angle': '40', 'HS': 2800.0, 'Profile Depth': 2800.0, 'Pit Near Avalanche Location': 'crown', 'WL_Depth': 950.0, 'WL_Thickness': 150.0}, {'Slope Angle': '43', 'HS': 1260.0, 'Profile Depth': 1260.0, 'Pit Near Avalanche Location': 'crown', 'WL_Depth': 195.0, 'WL_Thickness': 365.0}, {'Slope Angle': '43', 'HS': 1440.0, 'Profile Depth': 1440.0, 'Pit Near Avalanche Location': 'crown', 'WL_Depth': 1190.0, 'WL_Thickness': 250.0}, {'Slope Angle': '42', 'HS': 4500.0, 'Profile Depth': 950.0, 'Pit Near Avalanche Location': 'crown', 'WL_Depth': 570.0, 'WL_Thickness': 150.0}, {'Slope Angle': '32', 'HS': 1210.0, 'Profile Depth': 1210.0, 'Pit Near Avalanche Location': 'flank', 'WL_Depth': 730.0, 'WL_Thickness': 180.0}, {'Slope Angle': '40', 'HS': 910.0, 'Profile Depth': 910.0, 'Pit Near Avalanche Location': 'crown', 'WL_Depth': 440.0, 'WL_Thickness': 140.0}, {'Slope Angle': '41', 'HS': 1260.0, 'Profile Depth': 1260.0, 'Pit Near Avalanche Location': None, 'WL_Depth': 1060.0, 'WL_Thickness': 200.0}, {'Slope Angle': '38', 'HS': 1050.0, 'Profile Depth': 1050.0, 'Pit Near Avalanche Location': 'crown', 'WL_Depth': 320.0, 'WL_Thickness': 20.0}, {'Slope Angle': '40', 'HS': 670.0, 'Profile Depth': 670.0, 'Pit Near Avalanche Location': 'crown', 'WL_Depth': 610.0, 'WL_Thickness': 50.0}, {'Slope Angle': '36', 'HS': 1100.0, 'Profile Depth': 1100.0, 'Pit Near Avalanche Location': 'crown', 'WL_Depth': 260.0, 'WL_Thickness': 20.0}, {'Slope Angle': '33', 'HS': 690.0, 'Profile Depth': 690.0, 'Pit Near Avalanche Location': 'crown', 'WL_Depth': 535.0, 'WL_Thickness': 155.0}, {'Slope Angle': '33', 'HS': 1500.0, 'Profile Depth': 1500.0, 'Pit Near Avalanche Location': 'crown', 'WL_Depth': 450.0, 'WL_Thickness': 750.0}, {'Slope Angle': '12', 'HS': 900.0, 'Profile Depth': 900.0, 'Pit Near Avalanche Location': 'flank', 'WL_Depth': 630.0, 'WL_Thickness': 270.0}, {'Slope Angle': None, 'HS': 1470.0, 'Profile Depth': 1470.0, 'Pit Near Avalanche Location': 'flank', 'WL_Depth': 590.0, 'WL_Thickness': 180.0}, {'Slope Angle': None, 'HS': None, 'Profile Depth': 500.0, 'Pit Near Avalanche Location': None, 'WL_Depth': 370.0, 'WL_Thickness': 30.0}, {'Slope Angle': '40', 'HS': 1200.0, 'Profile Depth': 1200.0, 'Pit Near Avalanche Location': 'flank', 'WL_Depth': 510.0, 'WL_Thickness': 20.0}, {'Slope Angle': '39', 'HS': None, 'Profile Depth': 500.0, 'Pit Near Avalanche Location': 'crown', 'WL_Depth': 250.0, 'WL_Thickness': 5.0}, {'Slope Angle': '35', 'HS': 1930.0, 'Profile Depth': 1930.0, 'Pit Near Avalanche Location': 'flank', 'WL_Depth': 1170.0, 'WL_Thickness': 80.0}, {'Slope Angle': '26', 'HS': None, 'Profile Depth': 1050.0, 'Pit Near Avalanche Location': 'crown', 'WL_Depth': 730.0, 'WL_Thickness': 50.0}, {'Slope Angle': None, 'HS': 1600.0, 'Profile Depth': 1600.0, 'Pit Near Avalanche Location': 'flank', 'WL_Depth': 600.0, 'WL_Thickness': 10.0}, {'Slope Angle': '27', 'HS': 3400.0, 'Profile Depth': 1030.0, 'Pit Near Avalanche Location': 'flank', 'WL_Depth': 60.0, 'WL_Thickness': 180.0}, {'Slope Angle': '35', 'HS': 1130.0, 'Profile Depth': 1130.0, 'Pit Near Avalanche Location': 'crown', 'WL_Depth': 240.0, 'WL_Thickness': 10.0}, {'Slope Angle': '44', 'HS': 2250.0, 'Profile Depth': 2250.0, 'Pit Near Avalanche Location': 'crown', 'WL_Depth': 1250.0, 'WL_Thickness': 150.0}, {'Slope Angle': '35', 'HS': 1300.0, 'Profile Depth': 1300.0, 'Pit Near Avalanche Location': 'flank', 'WL_Depth': 1000.0, 'WL_Thickness': 300.0}, {'Slope Angle': '33', 'HS': 2750.0, 'Profile Depth': 1130.0, 'Pit Near Avalanche Location': 'crown', 'WL_Depth': 910.0, 'WL_Thickness': 20.0}, {'Slope Angle': '15', 'HS': 2400.0, 'Profile Depth': 1000.0, 'Pit Near Avalanche Location': None, 'WL_Depth': 690.0, 'WL_Thickness': 80.0}, {'Slope Angle': '41', 'HS': 2200.0, 'Profile Depth': 2200.0, 'Pit Near Avalanche Location': 'crown', 'WL_Depth': 1100.0, 'WL_Thickness': 100.0}, {'Slope Angle': '30', 'HS': 1080.0, 'Profile Depth': 1080.0, 'Pit Near Avalanche Location': 'crown', 'WL_Depth': 960.0, 'WL_Thickness': 120.0}, {'Slope Angle': '33', 'HS': 990.0, 'Profile Depth': 990.0, 'Pit Near Avalanche Location': 'crown', 'WL_Depth': 720.0, 'WL_Thickness': 20.0}, {'Slope Angle': '33', 'HS': 940.0, 'Profile Depth': 940.0, 'Pit Near Avalanche Location': 'flank', 'WL_Depth': 670.0, 'WL_Thickness': 270.0}, {'Slope Angle': '36', 'HS': 550.0, 'Profile Depth': 550.0, 'Pit Near Avalanche Location': 'crown', 'WL_Depth': 340.0, 'WL_Thickness': 60.0}, {'Slope Angle': '31', 'HS': 680.0, 'Profile Depth': 680.0, 'Pit Near Avalanche Location': 'other', 'WL_Depth': 430.0, 'WL_Thickness': 70.0}, {'Slope Angle': '42', 'HS': 1200.0, 'Profile Depth': 990.0, 'Pit Near Avalanche Location': 'crown', 'WL_Depth': 400.0, 'WL_Thickness': 30.0}, {'Slope Angle': '15', 'HS': 1950.0, 'Profile Depth': 1400.0, 'Pit Near Avalanche Location': 'flank', 'WL_Depth': 1000.0, 'WL_Thickness': 20.0}, {'Slope Angle': '34', 'HS': 1850.0, 'Profile Depth': 1850.0, 'Pit Near Avalanche Location': 'flank', 'WL_Depth': 350.0, 'WL_Thickness': 100.0}, {'Slope Angle': '25', 'HS': 1850.0, 'Profile Depth': 1850.0, 'Pit Near Avalanche Location': 'flank', 'WL_Depth': 400.0, 'WL_Thickness': 100.0}, {'Slope Angle': '39', 'HS': 1650.0, 'Profile Depth': 1650.0, 'Pit Near Avalanche Location': None, 'WL_Depth': 940.0, 'WL_Thickness': 330.0}, {'Slope Angle': '42', 'HS': 1100.0, 'Profile Depth': 1100.0, 'Pit Near Avalanche Location': 'other', 'WL_Depth': 750.0, 'WL_Thickness': 150.0}, {'Slope Angle': '22', 'HS': 6000.0, 'Profile Depth': 1350.0, 'Pit Near Avalanche Location': None, 'WL_Depth': 150.0, 'WL_Thickness': 100.0}, {'Slope Angle': '36', 'HS': 950.0, 'Profile Depth': 950.0, 'Pit Near Avalanche Location': 'crown', 'WL_Depth': 630.0, 'WL_Thickness': 320.0}, {'Slope Angle': '30', 'HS': 800.0, 'Profile Depth': 800.0, 'Pit Near Avalanche Location': 'other', 'WL_Depth': 200.0, 'WL_Thickness': 150.0}, {'Slope Angle': '38', 'HS': 2450.0, 'Profile Depth': 2450.0, 'Pit Near Avalanche Location': 'crown', 'WL_Depth': 1150.0, 'WL_Thickness': 150.0}, {'Slope Angle': '34', 'HS': 1200.0, 'Profile Depth': 1200.0, 'Pit Near Avalanche Location': None, 'WL_Depth': 0.0, 'WL_Thickness': 100.0}, {'Slope Angle': '30', 'HS': 710.0, 'Profile Depth': 710.0, 'Pit Near Avalanche Location': 'flank', 'WL_Depth': 360.0, 'WL_Thickness': 350.0}, {'Slope Angle': '38', 'HS': 480.0, 'Profile Depth': 480.0, 'Pit Near Avalanche Location': 'crown', 'WL_Depth': 270.0, 'WL_Thickness': 20.0}, {'Slope Angle': '32', 'HS': 1440.0, 'Profile Depth': 1440.0, 'Pit Near Avalanche Location': 'crown', 'WL_Depth': 960.0, 'WL_Thickness': 230.0}, {'Slope Angle': '31', 'HS': 4500.0, 'Profile Depth': 1500.0, 'Pit Near Avalanche Location': 'crown', 'WL_Depth': 920.0, 'WL_Thickness': 10.0}, {'Slope Angle': '40', 'HS': 1950.0, 'Profile Depth': 1950.0, 'Pit Near Avalanche Location': 'crown', 'WL_Depth': 1000.0, 'WL_Thickness': 100.0}, {'Slope Angle': '29', 'HS': 1100.0, 'Profile Depth': 1100.0, 'Pit Near Avalanche Location': 'flank', 'WL_Depth': 330.0, 'WL_Thickness': 70.0}, {'Slope Angle': '23', 'HS': 1030.0, 'Profile Depth': 1030.0, 'Pit Near Avalanche Location': 'flank', 'WL_Depth': 280.0, 'WL_Thickness': 50.0}, {'Slope Angle': '42', 'HS': 1700.0, 'Profile Depth': 1700.0, 'Pit Near Avalanche Location': 'crown', 'WL_Depth': 470.0, 'WL_Thickness': 230.0}, {'Slope Angle': '38', 'HS': 1330.0, 'Profile Depth': 1330.0, 'Pit Near Avalanche Location': 'crown', 'WL_Depth': 610.0, 'WL_Thickness': 50.0}, {'Slope Angle': '36', 'HS': None, 'Profile Depth': 1600.0, 'Pit Near Avalanche Location': 'other', 'WL_Depth': 0.0, 'WL_Thickness': 300.0}, {'Slope Angle': '38', 'HS': 900.0, 'Profile Depth': 900.0, 'Pit Near Avalanche Location': 'crown', 'WL_Depth': 240.0, 'WL_Thickness': 20.0}, {'Slope Angle': '17', 'HS': 2350.0, 'Profile Depth': 700.0, 'Pit Near Avalanche Location': 'flank', 'WL_Depth': 200.0, 'WL_Thickness': 40.0}, {'Slope Angle': '40', 'HS': 2800.0, 'Profile Depth': 2800.0, 'Pit Near Avalanche Location': 'crown', 'WL_Depth': 200.0, 'WL_Thickness': 30.0}, {'Slope Angle': '33', 'HS': 1500.0, 'Profile Depth': 1000.0, 'Pit Near Avalanche Location': 'other', 'WL_Depth': 0.0, 'WL_Thickness': 200.0}, {'Slope Angle': '36', 'HS': 1300.0, 'Profile Depth': 1300.0, 'Pit Near Avalanche Location': 'other', 'WL_Depth': 230.0, 'WL_Thickness': 130.0}, {'Slope Angle': '38', 'HS': 900.0, 'Profile Depth': 900.0, 'Pit Near Avalanche Location': 'crown', 'WL_Depth': 670.0, 'WL_Thickness': 230.0}, {'Slope Angle': '35', 'HS': 4200.0, 'Profile Depth': 4200.0, 'Pit Near Avalanche Location': 'crown', 'WL_Depth': 350.0, 'WL_Thickness': 100.0}]\n"
     ]
    }
   ],
   "source": [
    "pit_info_list = []\n",
    "for pit in avalanche_pits_with_layer_of_concern:\n",
    "    depth_top = pit.snowpit.snow_profile.layer_of_concern.depth_top\n",
    "    if depth_top:\n",
    "        depth_top_mm = depth_top[0] * convert_to_mm[depth_top[1]]\n",
    "    else:\n",
    "        depth_top_mm = None\n",
    "    thickness = pit.snowpit.snow_profile.layer_of_concern.thickness\n",
    "    if thickness:\n",
    "        thickness_mm = thickness[0] * convert_to_mm[thickness[1]]\n",
    "    else:\n",
    "        thickness_mm = None\n",
    "    slope_angle = pit.snowpit.core_info.location.slope_angle\n",
    "    if slope_angle:\n",
    "        slope_angle_deg = slope_angle[0] * convert_to_deg[slope_angle[1]]\n",
    "    else:\n",
    "        slope_angle_deg = None\n",
    "    hs = pit.snowpit.snow_profile.hs\n",
    "    if hs:\n",
    "        hs_mm = hs[0] * convert_to_mm[hs[1]]\n",
    "    else:\n",
    "        hs_mm = None\n",
    "    profile_depth = pit.snowpit.snow_profile.profile_depth\n",
    "    if profile_depth:\n",
    "        profile_depth_mm = profile_depth[0] * convert_to_mm[profile_depth[1]]\n",
    "    else:\n",
    "        profile_depth_mm = None\n",
    "    pit_near_avalanche_location = pit.snowpit.core_info.location.pit_near_avalanche_location\n",
    "    pit_info_dict = {\n",
    "        \"Slope Angle\": slope_angle_deg,\n",
    "        \"HS\": hs_mm,\n",
    "        \"Profile Depth\": profile_depth_mm,\n",
    "        \"Pit Near Avalanche Location\": pit_near_avalanche_location,\n",
    "        \"WL_Depth\": depth_top_mm,\n",
    "        \"WL_Thickness\": thickness_mm,\n",
    "    }\n",
    "    pit_info_list.append(pit_info_dict)\n",
    "\n",
    "print(pit_info_list)"
   ]
  },
  {
   "cell_type": "code",
   "execution_count": 28,
   "id": "4fe65692",
   "metadata": {},
   "outputs": [],
   "source": [
    "# Setup standard values\n",
    "wl_spacing = 50 # mm\n",
    "phi = 0.0\n",
    "standard_scenario_config = ScenarioConfig(system_type=\"skier\", phi=phi)\n",
    "standard_weak_layer = WeakLayer(rho=125, h=20, E=1.0, sigma_c=6.16, tau_c=5.09)\n",
    "standard_segments = [\n",
    "    Segment(length=10000, has_foundation=True, m=0.0),\n",
    "    Segment(\n",
    "        length=10000,\n",
    "        has_foundation=True,\n",
    "        m=0.0,\n",
    "    ),\n",
    "]\n",
    "standard_criteria_config = CriteriaConfig()\n",
    "standard_criteria_evaluator = CriteriaEvaluator(standard_criteria_config)"
   ]
  },
  {
   "cell_type": "code",
   "execution_count": 36,
   "id": "fceb2cc6",
   "metadata": {},
   "outputs": [],
   "source": [
    "def eval_avalanche_pit(parser: SnowPilotParser, pit_info_dict: dict, scenario_config: ScenarioConfig, segments: list[Segment], weaklayer: WeakLayer):\n",
    "    # Extract layers\n",
    "    layers, density_method = parser.extract_layers()\n",
    "    heights = np.cumsum([layer.h for layer in layers])\n",
    "    \n",
    "    wl_depth = pit_info_dict[\"WL_Depth\"]\n",
    "    mask = heights <= wl_depth\n",
    "    new_layers = [layer for layer, keep in zip(layers, mask) if keep]\n",
    "    # Add truncated layer if needed\n",
    "    depth = np.sum([layer.h for layer in new_layers]) if new_layers else 0.0\n",
    "    if depth < wl_depth:\n",
    "        additional_layer = copy.deepcopy(layers[len(new_layers) if new_layers else 0])\n",
    "        additional_layer.h = wl_depth - depth\n",
    "        new_layers.append(additional_layer)\n",
    "    \n",
    "    try:\n",
    "        model_input = ModelInput(\n",
    "            weak_layer=weaklayer,\n",
    "            layers=new_layers,\n",
    "            scenario_config=scenario_config,\n",
    "            segments=segments,\n",
    "        )\n",
    "        system = SystemModel(model_input=model_input)\n",
    "        \n",
    "        cc_result: CoupledCriterionResult = standard_criteria_evaluator.evaluate_coupled_criterion(system, print_call_stats=False)\n",
    "        sserr_result: SSERRResult = standard_criteria_evaluator.evaluate_SSERR(system, vertical=False, print_call_stats=False)\n",
    "\n",
    "        pit_info_dict[\"impact_criterion\"] = cc_result.initial_critical_skier_weight\n",
    "        pit_info_dict[\"coupled_criterion\"] = cc_result.critical_skier_weight\n",
    "        pit_info_dict[\"sserr_result\"] = sserr_result.SSERR\n",
    "        pit_info_dict[\"touchdown_distance\"] = sserr_result.touchdown_distance\n",
    "    except Exception as e:\n",
    "        print(f\"Error processing pit {parser.snowpit.core_info.pit_id}: {e}\")\n",
    "        \n",
    "    return pit_info_dict, layers, weaklayer"
   ]
  },
  {
   "cell_type": "code",
   "execution_count": 37,
   "id": "d9fa774a",
   "metadata": {},
   "outputs": [
    {
     "data": {
      "application/vnd.jupyter.widget-view+json": {
       "model_id": "f13d6affe94048faa65998a97c8ac0aa",
       "version_major": 2,
       "version_minor": 0
      },
      "text/plain": [
       "Processing avalanche pits:   0%|          | 0/848 [00:00<?, ?it/s]"
      ]
     },
     "metadata": {},
     "output_type": "display_data"
    },
    {
     "name": "stdout",
     "output_type": "stream",
     "text": [
      "Error processing pit 21585: 1 validation error for ModelInput\n",
      "  Value error, At least one layer is required [type=value_error, input_value={'weak_layer': WeakLayer(...oundation=True, m=0.0)]}, input_type=dict]\n",
      "    For further information visit https://errors.pydantic.dev/2.11/v/value_error\n",
      "Error processing pit 21142: Layer is missing density information; density profile, hand hardness and grain type are all missing. Excluding SnowPit from calculations.\n",
      "Error processing pit 17994: 1 validation error for ModelInput\n",
      "  Value error, At least one layer is required [type=value_error, input_value={'weak_layer': WeakLayer(...oundation=True, m=0.0)]}, input_type=dict]\n",
      "    For further information visit https://errors.pydantic.dev/2.11/v/value_error\n",
      "Error processing pit 24190: Layer is missing density information; density profile, hand hardness and grain type are all missing. Excluding SnowPit from calculations.\n",
      "Error processing pit 27244: 1 validation error for ModelInput\n",
      "  Value error, At least one layer is required [type=value_error, input_value={'weak_layer': WeakLayer(...oundation=True, m=0.0)]}, input_type=dict]\n",
      "    For further information visit https://errors.pydantic.dev/2.11/v/value_error\n",
      "Error processing pit 26059: Layer is missing density information; density profile, hand hardness and grain type are all missing. Excluding SnowPit from calculations.\n",
      "Error processing pit 27493: Layer is missing density information; density profile, hand hardness and grain type are all missing. Excluding SnowPit from calculations.\n",
      "Error processing pit 30310: Layer is missing density information; density profile, hand hardness and grain type are all missing. Excluding SnowPit from calculations.\n",
      "Error processing pit 33377: 1 validation error for ModelInput\n",
      "  Value error, At least one layer is required [type=value_error, input_value={'weak_layer': WeakLayer(...oundation=True, m=0.0)]}, input_type=dict]\n",
      "    For further information visit https://errors.pydantic.dev/2.11/v/value_error\n",
      "Error processing pit 47564: 1 validation error for ModelInput\n",
      "  Value error, At least one layer is required [type=value_error, input_value={'weak_layer': WeakLayer(...oundation=True, m=0.0)]}, input_type=dict]\n",
      "    For further information visit https://errors.pydantic.dev/2.11/v/value_error\n",
      "Error processing pit 47022: 1 validation error for ModelInput\n",
      "  Value error, At least one layer is required [type=value_error, input_value={'weak_layer': WeakLayer(...oundation=True, m=0.0)]}, input_type=dict]\n",
      "    For further information visit https://errors.pydantic.dev/2.11/v/value_error\n",
      "Error processing pit 47915: 1 validation error for ModelInput\n",
      "  Value error, At least one layer is required [type=value_error, input_value={'weak_layer': WeakLayer(...oundation=True, m=0.0)]}, input_type=dict]\n",
      "    For further information visit https://errors.pydantic.dev/2.11/v/value_error\n",
      "Error processing pit 44589: 1 validation error for ModelInput\n",
      "  Value error, At least one layer is required [type=value_error, input_value={'weak_layer': WeakLayer(...oundation=True, m=0.0)]}, input_type=dict]\n",
      "    For further information visit https://errors.pydantic.dev/2.11/v/value_error\n",
      "Error processing pit 47720: Layer is missing density information; density profile, hand hardness and grain type are all missing. Excluding SnowPit from calculations.\n",
      "Error processing pit 53623: Layer is missing density information; density profile, hand hardness and grain type are all missing. Excluding SnowPit from calculations.\n",
      "Error processing pit 48183: Layer is missing density information; density profile, hand hardness and grain type are all missing. Excluding SnowPit from calculations.\n",
      "Error processing pit 55781: Layer is missing density information; density profile, hand hardness and grain type are all missing. Excluding SnowPit from calculations.\n",
      "Error processing pit 62966: Layer is missing density information; density profile, hand hardness and grain type are all missing. Excluding SnowPit from calculations.\n",
      "Error processing pit 58347: Layer is missing density information; density profile, hand hardness and grain type are all missing. Excluding SnowPit from calculations.\n",
      "Error processing pit 41957: Layer is missing density information; density profile, hand hardness and grain type are all missing. Excluding SnowPit from calculations.\n",
      "Error processing pit 43901: 1 validation error for ModelInput\n",
      "  Value error, At least one layer is required [type=value_error, input_value={'weak_layer': WeakLayer(...oundation=True, m=0.0)]}, input_type=dict]\n",
      "    For further information visit https://errors.pydantic.dev/2.11/v/value_error\n",
      "Error processing pit 37892: 1 validation error for ModelInput\n",
      "  Value error, At least one layer is required [type=value_error, input_value={'weak_layer': WeakLayer(...oundation=True, m=0.0)]}, input_type=dict]\n",
      "    For further information visit https://errors.pydantic.dev/2.11/v/value_error\n",
      "Error processing pit 41824: Layer is missing density information; density profile, hand hardness and grain type are all missing. Excluding SnowPit from calculations.\n",
      "Error processing pit 41393: 1 validation error for ModelInput\n",
      "  Value error, At least one layer is required [type=value_error, input_value={'weak_layer': WeakLayer(...oundation=True, m=0.0)]}, input_type=dict]\n",
      "    For further information visit https://errors.pydantic.dev/2.11/v/value_error\n",
      "Error processing pit 41001: Layer is missing density information; density profile, hand hardness and grain type are all missing. Excluding SnowPit from calculations.\n",
      "Error processing pit 39450: 1 validation error for ModelInput\n",
      "  Value error, At least one layer is required [type=value_error, input_value={'weak_layer': WeakLayer(...oundation=True, m=0.0)]}, input_type=dict]\n",
      "    For further information visit https://errors.pydantic.dev/2.11/v/value_error\n",
      "  Slope Angle      HS  Profile Depth Pit Near Avalanche Location  WL_Depth  \\\n",
      "0          23     NaN         1000.0                       crown     800.0   \n",
      "1          42   930.0          930.0                       crown     390.0   \n",
      "2          28  1350.0         1350.0                       crown     300.0   \n",
      "3          24   740.0          740.0                       flank     480.0   \n",
      "4          28  2000.0         1250.0                       flank      90.0   \n",
      "\n",
      "   WL_Thickness  impact_criterion  coupled_criterion  sserr_result  \\\n",
      "0          10.0        318.918925         402.963717      9.853521   \n",
      "1          10.0         53.888782          68.188682      2.124732   \n",
      "2          10.0         33.693110          42.880426      1.374374   \n",
      "3         260.0        154.531064         190.920375      3.782220   \n",
      "4         290.0         48.178666          56.865308      0.477438   \n",
      "\n",
      "   touchdown_distance  \n",
      "0         3028.199049  \n",
      "1          875.736102  \n",
      "2          681.124755  \n",
      "3         1506.038357  \n",
      "4          630.086819  \n"
     ]
    }
   ],
   "source": [
    "data_rows = []\n",
    "error_pits = []\n",
    "for pit, pit_info_dict in tqdm(zip(avalanche_pits_with_layer_of_concern, pit_info_list), total=len(avalanche_pits_with_layer_of_concern), desc=\"Processing avalanche pits\"):\n",
    "    try:\n",
    "        pit_info_dict, layers, weaklayer = eval_avalanche_pit(\n",
    "            pit, \n",
    "            pit_info_dict, \n",
    "            standard_scenario_config, \n",
    "            standard_segments, \n",
    "            standard_weak_layer)\n",
    "        data_rows.append(pit_info_dict)\n",
    "    except Exception as e:\n",
    "        error_pits.append(pit)\n",
    "        print(f\"Error processing pit {pit.snowpit.core_info.pit_id}: {e}\")\n",
    "        continue\n",
    "\n",
    "print(f\"Number of pits with errors: {len(error_pits)}\")\n",
    "print(f\"Number of pits processed: {len(data_rows)}\")\n",
    "print(f\"Number of pits total: {len(avalanche_pits_with_layer_of_concern)}\")\n",
    "\n",
    "df = pd.DataFrame(data_rows)\n",
    "print(df.head())"
   ]
  },
  {
   "cell_type": "code",
   "execution_count": 47,
   "id": "3b937b0a",
   "metadata": {},
   "outputs": [
    {
     "data": {
      "application/vnd.plotly.v1+json": {
       "config": {
        "plotlyServerURL": "https://plot.ly"
       },
       "data": [
        {
         "marker": {
          "color": "red"
         },
         "mode": "markers",
         "name": "Impact Criterion",
         "type": "scatter",
         "x": {
          "bdata": "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",
          "dtype": "f8"
         },
         "y": {
          "bdata": "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",
          "dtype": "f8"
         }
        }
       ],
       "layout": {
        "template": {
         "data": {
          "bar": [
           {
            "error_x": {
             "color": "#2a3f5f"
            },
            "error_y": {
             "color": "#2a3f5f"
            },
            "marker": {
             "line": {
              "color": "#E5ECF6",
              "width": 0.5
             },
             "pattern": {
              "fillmode": "overlay",
              "size": 10,
              "solidity": 0.2
             }
            },
            "type": "bar"
           }
          ],
          "barpolar": [
           {
            "marker": {
             "line": {
              "color": "#E5ECF6",
              "width": 0.5
             },
             "pattern": {
              "fillmode": "overlay",
              "size": 10,
              "solidity": 0.2
             }
            },
            "type": "barpolar"
           }
          ],
          "carpet": [
           {
            "aaxis": {
             "endlinecolor": "#2a3f5f",
             "gridcolor": "white",
             "linecolor": "white",
             "minorgridcolor": "white",
             "startlinecolor": "#2a3f5f"
            },
            "baxis": {
             "endlinecolor": "#2a3f5f",
             "gridcolor": "white",
             "linecolor": "white",
             "minorgridcolor": "white",
             "startlinecolor": "#2a3f5f"
            },
            "type": "carpet"
           }
          ],
          "choropleth": [
           {
            "colorbar": {
             "outlinewidth": 0,
             "ticks": ""
            },
            "type": "choropleth"
           }
          ],
          "contour": [
           {
            "colorbar": {
             "outlinewidth": 0,
             "ticks": ""
            },
            "colorscale": [
             [
              0,
              "#0d0887"
             ],
             [
              0.1111111111111111,
              "#46039f"
             ],
             [
              0.2222222222222222,
              "#7201a8"
             ],
             [
              0.3333333333333333,
              "#9c179e"
             ],
             [
              0.4444444444444444,
              "#bd3786"
             ],
             [
              0.5555555555555556,
              "#d8576b"
             ],
             [
              0.6666666666666666,
              "#ed7953"
             ],
             [
              0.7777777777777778,
              "#fb9f3a"
             ],
             [
              0.8888888888888888,
              "#fdca26"
             ],
             [
              1,
              "#f0f921"
             ]
            ],
            "type": "contour"
           }
          ],
          "contourcarpet": [
           {
            "colorbar": {
             "outlinewidth": 0,
             "ticks": ""
            },
            "type": "contourcarpet"
           }
          ],
          "heatmap": [
           {
            "colorbar": {
             "outlinewidth": 0,
             "ticks": ""
            },
            "colorscale": [
             [
              0,
              "#0d0887"
             ],
             [
              0.1111111111111111,
              "#46039f"
             ],
             [
              0.2222222222222222,
              "#7201a8"
             ],
             [
              0.3333333333333333,
              "#9c179e"
             ],
             [
              0.4444444444444444,
              "#bd3786"
             ],
             [
              0.5555555555555556,
              "#d8576b"
             ],
             [
              0.6666666666666666,
              "#ed7953"
             ],
             [
              0.7777777777777778,
              "#fb9f3a"
             ],
             [
              0.8888888888888888,
              "#fdca26"
             ],
             [
              1,
              "#f0f921"
             ]
            ],
            "type": "heatmap"
           }
          ],
          "histogram": [
           {
            "marker": {
             "pattern": {
              "fillmode": "overlay",
              "size": 10,
              "solidity": 0.2
             }
            },
            "type": "histogram"
           }
          ],
          "histogram2d": [
           {
            "colorbar": {
             "outlinewidth": 0,
             "ticks": ""
            },
            "colorscale": [
             [
              0,
              "#0d0887"
             ],
             [
              0.1111111111111111,
              "#46039f"
             ],
             [
              0.2222222222222222,
              "#7201a8"
             ],
             [
              0.3333333333333333,
              "#9c179e"
             ],
             [
              0.4444444444444444,
              "#bd3786"
             ],
             [
              0.5555555555555556,
              "#d8576b"
             ],
             [
              0.6666666666666666,
              "#ed7953"
             ],
             [
              0.7777777777777778,
              "#fb9f3a"
             ],
             [
              0.8888888888888888,
              "#fdca26"
             ],
             [
              1,
              "#f0f921"
             ]
            ],
            "type": "histogram2d"
           }
          ],
          "histogram2dcontour": [
           {
            "colorbar": {
             "outlinewidth": 0,
             "ticks": ""
            },
            "colorscale": [
             [
              0,
              "#0d0887"
             ],
             [
              0.1111111111111111,
              "#46039f"
             ],
             [
              0.2222222222222222,
              "#7201a8"
             ],
             [
              0.3333333333333333,
              "#9c179e"
             ],
             [
              0.4444444444444444,
              "#bd3786"
             ],
             [
              0.5555555555555556,
              "#d8576b"
             ],
             [
              0.6666666666666666,
              "#ed7953"
             ],
             [
              0.7777777777777778,
              "#fb9f3a"
             ],
             [
              0.8888888888888888,
              "#fdca26"
             ],
             [
              1,
              "#f0f921"
             ]
            ],
            "type": "histogram2dcontour"
           }
          ],
          "mesh3d": [
           {
            "colorbar": {
             "outlinewidth": 0,
             "ticks": ""
            },
            "type": "mesh3d"
           }
          ],
          "parcoords": [
           {
            "line": {
             "colorbar": {
              "outlinewidth": 0,
              "ticks": ""
             }
            },
            "type": "parcoords"
           }
          ],
          "pie": [
           {
            "automargin": true,
            "type": "pie"
           }
          ],
          "scatter": [
           {
            "fillpattern": {
             "fillmode": "overlay",
             "size": 10,
             "solidity": 0.2
            },
            "type": "scatter"
           }
          ],
          "scatter3d": [
           {
            "line": {
             "colorbar": {
              "outlinewidth": 0,
              "ticks": ""
             }
            },
            "marker": {
             "colorbar": {
              "outlinewidth": 0,
              "ticks": ""
             }
            },
            "type": "scatter3d"
           }
          ],
          "scattercarpet": [
           {
            "marker": {
             "colorbar": {
              "outlinewidth": 0,
              "ticks": ""
             }
            },
            "type": "scattercarpet"
           }
          ],
          "scattergeo": [
           {
            "marker": {
             "colorbar": {
              "outlinewidth": 0,
              "ticks": ""
             }
            },
            "type": "scattergeo"
           }
          ],
          "scattergl": [
           {
            "marker": {
             "colorbar": {
              "outlinewidth": 0,
              "ticks": ""
             }
            },
            "type": "scattergl"
           }
          ],
          "scattermap": [
           {
            "marker": {
             "colorbar": {
              "outlinewidth": 0,
              "ticks": ""
             }
            },
            "type": "scattermap"
           }
          ],
          "scattermapbox": [
           {
            "marker": {
             "colorbar": {
              "outlinewidth": 0,
              "ticks": ""
             }
            },
            "type": "scattermapbox"
           }
          ],
          "scatterpolar": [
           {
            "marker": {
             "colorbar": {
              "outlinewidth": 0,
              "ticks": ""
             }
            },
            "type": "scatterpolar"
           }
          ],
          "scatterpolargl": [
           {
            "marker": {
             "colorbar": {
              "outlinewidth": 0,
              "ticks": ""
             }
            },
            "type": "scatterpolargl"
           }
          ],
          "scatterternary": [
           {
            "marker": {
             "colorbar": {
              "outlinewidth": 0,
              "ticks": ""
             }
            },
            "type": "scatterternary"
           }
          ],
          "surface": [
           {
            "colorbar": {
             "outlinewidth": 0,
             "ticks": ""
            },
            "colorscale": [
             [
              0,
              "#0d0887"
             ],
             [
              0.1111111111111111,
              "#46039f"
             ],
             [
              0.2222222222222222,
              "#7201a8"
             ],
             [
              0.3333333333333333,
              "#9c179e"
             ],
             [
              0.4444444444444444,
              "#bd3786"
             ],
             [
              0.5555555555555556,
              "#d8576b"
             ],
             [
              0.6666666666666666,
              "#ed7953"
             ],
             [
              0.7777777777777778,
              "#fb9f3a"
             ],
             [
              0.8888888888888888,
              "#fdca26"
             ],
             [
              1,
              "#f0f921"
             ]
            ],
            "type": "surface"
           }
          ],
          "table": [
           {
            "cells": {
             "fill": {
              "color": "#EBF0F8"
             },
             "line": {
              "color": "white"
             }
            },
            "header": {
             "fill": {
              "color": "#C8D4E3"
             },
             "line": {
              "color": "white"
             }
            },
            "type": "table"
           }
          ]
         },
         "layout": {
          "annotationdefaults": {
           "arrowcolor": "#2a3f5f",
           "arrowhead": 0,
           "arrowwidth": 1
          },
          "autotypenumbers": "strict",
          "coloraxis": {
           "colorbar": {
            "outlinewidth": 0,
            "ticks": ""
           }
          },
          "colorscale": {
           "diverging": [
            [
             0,
             "#8e0152"
            ],
            [
             0.1,
             "#c51b7d"
            ],
            [
             0.2,
             "#de77ae"
            ],
            [
             0.3,
             "#f1b6da"
            ],
            [
             0.4,
             "#fde0ef"
            ],
            [
             0.5,
             "#f7f7f7"
            ],
            [
             0.6,
             "#e6f5d0"
            ],
            [
             0.7,
             "#b8e186"
            ],
            [
             0.8,
             "#7fbc41"
            ],
            [
             0.9,
             "#4d9221"
            ],
            [
             1,
             "#276419"
            ]
           ],
           "sequential": [
            [
             0,
             "#0d0887"
            ],
            [
             0.1111111111111111,
             "#46039f"
            ],
            [
             0.2222222222222222,
             "#7201a8"
            ],
            [
             0.3333333333333333,
             "#9c179e"
            ],
            [
             0.4444444444444444,
             "#bd3786"
            ],
            [
             0.5555555555555556,
             "#d8576b"
            ],
            [
             0.6666666666666666,
             "#ed7953"
            ],
            [
             0.7777777777777778,
             "#fb9f3a"
            ],
            [
             0.8888888888888888,
             "#fdca26"
            ],
            [
             1,
             "#f0f921"
            ]
           ],
           "sequentialminus": [
            [
             0,
             "#0d0887"
            ],
            [
             0.1111111111111111,
             "#46039f"
            ],
            [
             0.2222222222222222,
             "#7201a8"
            ],
            [
             0.3333333333333333,
             "#9c179e"
            ],
            [
             0.4444444444444444,
             "#bd3786"
            ],
            [
             0.5555555555555556,
             "#d8576b"
            ],
            [
             0.6666666666666666,
             "#ed7953"
            ],
            [
             0.7777777777777778,
             "#fb9f3a"
            ],
            [
             0.8888888888888888,
             "#fdca26"
            ],
            [
             1,
             "#f0f921"
            ]
           ]
          },
          "colorway": [
           "#636efa",
           "#EF553B",
           "#00cc96",
           "#ab63fa",
           "#FFA15A",
           "#19d3f3",
           "#FF6692",
           "#B6E880",
           "#FF97FF",
           "#FECB52"
          ],
          "font": {
           "color": "#2a3f5f"
          },
          "geo": {
           "bgcolor": "white",
           "lakecolor": "white",
           "landcolor": "#E5ECF6",
           "showlakes": true,
           "showland": true,
           "subunitcolor": "white"
          },
          "hoverlabel": {
           "align": "left"
          },
          "hovermode": "closest",
          "mapbox": {
           "style": "light"
          },
          "paper_bgcolor": "white",
          "plot_bgcolor": "#E5ECF6",
          "polar": {
           "angularaxis": {
            "gridcolor": "white",
            "linecolor": "white",
            "ticks": ""
           },
           "bgcolor": "#E5ECF6",
           "radialaxis": {
            "gridcolor": "white",
            "linecolor": "white",
            "ticks": ""
           }
          },
          "scene": {
           "xaxis": {
            "backgroundcolor": "#E5ECF6",
            "gridcolor": "white",
            "gridwidth": 2,
            "linecolor": "white",
            "showbackground": true,
            "ticks": "",
            "zerolinecolor": "white"
           },
           "yaxis": {
            "backgroundcolor": "#E5ECF6",
            "gridcolor": "white",
            "gridwidth": 2,
            "linecolor": "white",
            "showbackground": true,
            "ticks": "",
            "zerolinecolor": "white"
           },
           "zaxis": {
            "backgroundcolor": "#E5ECF6",
            "gridcolor": "white",
            "gridwidth": 2,
            "linecolor": "white",
            "showbackground": true,
            "ticks": "",
            "zerolinecolor": "white"
           }
          },
          "shapedefaults": {
           "line": {
            "color": "#2a3f5f"
           }
          },
          "ternary": {
           "aaxis": {
            "gridcolor": "white",
            "linecolor": "white",
            "ticks": ""
           },
           "baxis": {
            "gridcolor": "white",
            "linecolor": "white",
            "ticks": ""
           },
           "bgcolor": "#E5ECF6",
           "caxis": {
            "gridcolor": "white",
            "linecolor": "white",
            "ticks": ""
           }
          },
          "title": {
           "x": 0.05
          },
          "xaxis": {
           "automargin": true,
           "gridcolor": "white",
           "linecolor": "white",
           "ticks": "",
           "title": {
            "standoff": 15
           },
           "zerolinecolor": "white",
           "zerolinewidth": 2
          },
          "yaxis": {
           "automargin": true,
           "gridcolor": "white",
           "linecolor": "white",
           "ticks": "",
           "title": {
            "standoff": 15
           },
           "zerolinecolor": "white",
           "zerolinewidth": 2
          }
         }
        },
        "xaxis": {
         "title": {
          "text": "WL Depth (mm)"
         }
        },
        "yaxis": {
         "title": {
          "text": "Impact Criterion"
         }
        }
       }
      }
     },
     "metadata": {},
     "output_type": "display_data"
    },
    {
     "data": {
      "application/vnd.plotly.v1+json": {
       "config": {
        "plotlyServerURL": "https://plot.ly"
       },
       "data": [
        {
         "marker": {
          "color": "blue"
         },
         "mode": "markers",
         "name": "Coupled Criterion",
         "type": "scatter",
         "x": {
          "bdata": "AAAAAAAAiUAAAAAAAGB4QAAAAAAAwHJAAAAAAAAAfkAAAAAAAIBWQAAAAAAASJJAAAAAAADgdUAAAAAAABCIQAAAAAAAQIBAAAAAAACQmkAAAAAAAHCXQAAAAAAAADRAAAAAAABAakAAAAAAAACEQAAAAAAAAI5AAAAAAABgg0AAAAAAAMBsQAAAAAAA4IVAAAAAAABgc0AAAAAAAACOQAAAAAAAMIFAAAAAAABAhUAAAAAAAOB1QAAAAAAAUIRAAAAAAABAf0AAAAAAALCNQAAAAAAAYIhAAAAAAADIlEAAAAAAAOCPQAAAAAAAIIxAAAAAAADAckAAAAAAAGB9QAAAAAAAsI1AAAAAAABQhEAAAAAAAKB0QAAAAAAAuI9AAAAAAADgf0AAAAAAAMByQAAAAAAAAHlAAAAAAADAckAAAAAAAEBwQAAAAAAAQH9AAAAAAACQkEAAAAAAAAB5QAAAAAAAQHVAAAAAAACQgEAAAAAAAKCEQAAAAAAAQG9AAAAAAACgiUAAAAAAAMCCQAAAAAAAEINAAAAAAABgiEAAAAAAAACOQAAAAAAAuJVAAAAAAAAAhEAAAAAAAABpQAAAAAAAoHlAAAAAAADgj0AAAAAAAEB6QAAAAAAA2I1AAAAAAAAAAAAAAAAAAOB/QAAAAAAAIIxAAAAAAAAonkAAAAAAAACJQAAAAAAAAJlAAAAAAADAfEAAAAAAACCHQAAAAAAA4IVAAAAAAAAggkAAAAAAAOCFQAAAAAAAMIFAAAAAAAAAiUAAAAAAAMBiQAAAAAAAQH9AAAAAAABAcEAAAAAAADCLQAAAAAAAADRAAAAAAAAwgUAAAAAAAJCAQAAAAAAA4HBAAAAAAACAe0AAAAAAAFCEQAAAAAAAQG9AAAAAAADgcEAAAAAAACB3QAAAAAAAIIxAAAAAAAAAjkAAAAAAAOB1QAAAAAAA0IFAAAAAAADQhkAAAAAAAIBxQAAAAAAAQIVAAAAAAACwiEAAAAAAAAAAAAAAAAAAAGlAAAAAAAAgfEAAAAAAAIBRQAAAAAAAQH9AAAAAAAAYkEAAAAAAAABOQAAAAAAApKBAAAAAAACAhkAAAAAAAMCMQAAAAAAAaJBAAAAAAAAQjUAAAAAAAEB/QAAAAAAAgHFAAAAAAADYk0AAAAAAAABuQAAAAAAA4IVAAAAAAABAf0AAAAAAAMCCQAAAAAAAAHlAAAAAAABwh0AAAAAAACB3QAAAAAAAoIlAAAAAAAAgckAAAAAAAGB4QAAAAAAAVI9AAAAAAACgfkAAAAAAALCDQAAAAAAAoHRAAAAAAADAgkAAAAAAAFCEQAAAAAAAoHRAAAAAAAAgh0AAAAAAAAAAAAAAAAAAQIBAAAAAAABAf0AAAAAAAMBsQAAAAAAAgGtAAAAAAABgc0AAAAAAAIBhQAAAAAAAMIZAAAAAAADAYkAAAAAAAGB4QAAAAAAAQI9AAAAAAADgekAAAAAAAGB4QAAAAAAAIHxAAAAAAABAf0AAAAAAAEB6QAAAAAAA4HBAAAAAAAAgh0AAAAAAAKB+QAAAAAAAYHhAAAAAAACgdEAAAAAAAMCMQAAAAAAAIHxAAAAAAADgkEAAAAAAACB8QAAAAAAAYHhAAAAAAACwjUAAAAAAABCIQAAAAAAAYHhAAAAAAABgfUAAAAAAAIB7QAAAAAAAGJVAAAAAAADgekAAAAAAANCLQAAAAAAA4HVAAAAAAACAa0AAAAAAAEB1QAAAAAAAoH5AAAAAAABgeEAAAAAAACByQAAAAAAAcJJAAAAAAAAAPkAAAAAAACCCQAAAAAAA0JZAAAAAAACgdEAAAAAAAMByQAAAAAAAYHhAAAAAAADQgUAAAAAAAACOQAAAAAAAwIJAAAAAAADgdUAAAAAAAAB5QAAAAAAAYHhAAAAAAADAgkAAAAAAAHCMQAAAAAAA4HpAAAAAAACAe0AAAAAAAECPQAAAAAAAQG9AAAAAAAAAfkAAAAAAAOCVQAAAAAAAgHtAAAAAAACgeUAAAAAAAGB4QAAAAAAAkIBAAAAAAADghUAAAAAAAOCFQAAAAAAAIIxAAAAAAAAAfkAAAAAAACByQAAAAAAAoHlAAAAAAADAckAAAAAAAHCMQAAAAAAAQH9AAAAAAAAIlkAAAAAAACCCQAAAAAAA4HBAAAAAAABAekAAAAAAAAA5QAAAAAAAIHxAAAAAAABIkkAAAAAAAACJQAAAAAAAAH5AAAAAAADghUAAAAAAAABuQAAAAAAAMIFAAAAAAAAAaUAAAAAAAABJQAAAAAAA4IpAAAAAAAAAZEAAAAAAAEBvQAAAAAAAUIRAAAAAAADghUAAAAAAAIBmQAAAAAAAYJFAAAAAAABQhEAAAAAAAAB5QAAAAAAAkIpAAAAAAACQikAAAAAAAKB5QAAAAAAAYHhAAAAAAADgdUAAAAAAAACJQAAAAAAAUIlAAAAAAAAAiUAAAAAAAMCCQAAAAAAAYHhAAAAAAAAgd0AAAAAAAAB5QAAAAAAAQH9AAAAAAABgfUAAAAAAAMCMQAAAAAAAUJRAAAAAAABQlEAAAAAAAECKQAAAAAAAwHJAAAAAAAAAdEAAAAAAACCHQAAAAAAA4HBAAAAAAAAAWUAAAAAAAPCOQAAAAAAAIHJAAAAAAABgeEAAAAAAAPCOQAAAAAAAAAAAAAAAAABgfUAAAAAAAGB4QAAAAAAAEI1AAAAAAADwhEAAAAAAAGB4QAAAAAAAYHhAAAAAAABwgkAAAAAAACB8QAAAAAAAQGpAAAAAAADAgkAAAAAAAKCUQAAAAAAAgIZAAAAAAAAgjEAAAAAAAEB/QAAAAAAAAD5AAAAAAACwg0AAAAAAALiQQAAAAAAAEIhAAAAAAABgeEAAAAAAAMCHQAAAAAAA4HpAAAAAAACAW0AAAAAAANCBQAAAAAAAAI5AAAAAAAC4lUAAAAAAAIB7QAAAAAAAUI5AAAAAAAAAiUAAAAAAAIiTQAAAAAAAYHhAAAAAAACgiUAAAAAAAAB+QAAAAAAAUIRAAAAAAACgfkAAAAAAAGBzQAAAAAAAYIhAAAAAAADAZ0AAAAAAAABuQAAAAAAAQH9AAAAAAADQhkAAAAAAAEB/QAAAAAAA4H9AAAAAAACQj0AAAAAAAPCEQAAAAAAAgHtAAAAAAACwjUAAAAAAAICBQAAAAAAAAHlAAAAAAACgdEAAAAAAAMBsQAAAAAAAwHdAAAAAAAAgfEAAAAAAAFCEQAAAAAAAkIBAAAAAAACQikAAAAAAAIBxQAAAAAAAYH1AAAAAAABAcEAAAAAAAKB+QAAAAAAAAIRAAAAAAACgdEAAAAAAAAB0QAAAAAAAsINAAAAAAABAkEAAAAAAAEB/QAAAAAAAIHxAAAAAAABAhUAAAAAAAMCSQAAAAAAAAIRAAAAAAACooUAAAAAAAIBrQAAAAAAA8HRAAAAAAAAwkUAAAAAAAMiUQAAAAAAACJFAAAAAAADAd0AAAAAAAEB/QAAAAAAAgIFAAAAAAAAAhEAAAAAAACCcQAAAAAAAAIlAAAAAAABAcEAAAAAAAABpQAAAAAAAOIVAAAAAAADgekAAAAAAAOCFQAAAAAAAMJFAAAAAAAAwkUAAAAAAAGB9QAAAAAAAQG9AAAAAAAAgfEAAAAAAAKB5QAAAAAAA4HVAAAAAAADAckAAAAAAAFCEQAAAAAAAwIJAAAAAAADQhkAAAAAAACB8QAAAAAAAwJJAAAAAAACwjUAAAAAAAECFQAAAAAAAUIRAAAAAAADAgkAAAAAAAJCPQAAAAAAAAIlAAAAAAABAb0AAAAAAAEB6QAAAAAAAkI9AAAAAAADgj0AAAAAAAKCEQAAAAAAA0IFAAAAAAADAgkAAAAAAAGigQAAAAAAAQHpAAAAAAADgekAAAAAAAAB+QAAAAAAAWJZAAAAAAABQjkAAAAAAAAAAAAAAAAAAYINAAAAAAABwgkAAAAAAAABpQAAAAAAAMIZAAAAAAADAd0AAAAAAAHCSQAAAAAAAgIFAAAAAAAAwgUAAAAAAAAAAAAAAAAAAUI5AAAAAAAAgfEAAAAAAAJCPQAAAAAAA4IBAAAAAAADAZ0AAAAAAAECPQAAAAAAA4IVAAAAAAAAAfkAAAAAAAECAQAAAAAAAQH9AAAAAAACAa0AAAAAAAIBRQAAAAAAAAHlAAAAAAAAAREAAAAAAACB3QAAAAAAAIHxAAAAAAAAAJEAAAAAAAJCAQAAAAAAAMIFAAAAAAADAfEAAAAAAAIBxQAAAAAAAwHdAAAAAAABYgUAAAAAAAHCcQAAAAAAAAHlAAAAAAACghEAAAAAAAKiWQAAAAAAAkIVAAAAAAACgiUAAAAAAAOB1QAAAAAAA0IFAAAAAAAAAAAAAAAAAADCBQAAAAAAAIHxAAAAAAABokEAAAAAAAMB3QAAAAAAAQHpAAAAAAABAb0AAAAAAAAB5QAAAAAAAkJpAAAAAAABwgkAAAAAAAIBxQAAAAAAAAF5AAAAAAADghUAAAAAAAGB4QAAAAAAAAE5AAAAAAAAQiEAAAAAAAEB/QAAAAAAAQHVAAAAAAACgfkAAAAAAAEBqQAAAAAAAAF5AAAAAAAAwkUAAAAAAAECQQAAAAAAAYIhAAAAAAABgfUAAAAAAACCSQAAAAAAA4IVAAAAAAACAa0AAAAAAADCGQAAAAAAAiJNAAAAAAAAAeUAAAAAAAHCHQAAAAAAAAHlAAAAAAACIk0AAAAAAAIBrQAAAAAAAIHxAAAAAAAAgfEAAAAAAAMCSQAAAAAAAYIhAAAAAAACQgEAAAAAAAAB5QAAAAAAAAIlAAAAAAADgf0AAAAAAAABpQAAAAAAA4HBAAAAAAAAAfkAAAAAAAEB/QAAAAAAAwIdAAAAAAACwjUAAAAAAAJiSQAAAAAAAgFZAAAAAAACQoEAAAAAAAOCAQAAAAAAAIHxAAAAAAAAQjUAAAAAAAIBrQAAAAAAAAAAAAAAAAADAgkAAAAAAAIB7QAAAAAAAIIJAAAAAAADQgUAAAAAAAECKQAAAAAAAUIlAAAAAAADAjEAAAAAAAABkQAAAAAAAgItAAAAAAADQhkAAAAAAAACJQAAAAAAAoHlAAAAAAAAYkEAAAAAAAMBiQAAAAAAAQG9AAAAAAADghUAAAAAAAFCEQAAAAAAAgHtAAAAAAABokEAAAAAAAIB7QAAAAAAAwIdAAAAAAABokEAAAAAAAOCAQAAAAAAAgHFAAAAAAACAe0AAAAAAAHCCQAAAAAAAgItAAAAAAACwk0AAAAAAAAB0QAAAAAAAwGxAAAAAAADghUAAAAAAAHCMQAAAAAAAAElAAAAAAAAgfEAAAAAAAEBvQAAAAAAAwIJAAAAAAACAgUAAAAAAAICRQAAAAAAA4IBAAAAAAABgeEAAAAAAAOCAQAAAAAAAMHFAAAAAAADQhUAAAAAAAIBxQAAAAAAAQHpAAAAAAABQhEAAAAAAAIB7QAAAAAAAIHxAAAAAAADAYkAAAAAAACB8QAAAAAAAEINAAAAAAABokEAAAAAAADCLQAAAAAAAaJBAAAAAAACgeUAAAAAAAIB7QAAAAAAAUJRAAAAAAADQkUAAAAAAAABpQAAAAAAAYH1AAAAAAAAgjEAAAAAAAFCEQAAAAAAAwIJAAAAAAAAAdEAAAAAAAEB/QAAAAAAAiJhAAAAAAAC0pEAAAAAAACB8QAAAAAAAAHlAAAAAAAC4kEAAAAAAAACEQAAAAAAAEI1AAAAAAAAAiUAAAAAAAMB3QAAAAAAAIHxAAAAAAACQhUAAAAAAAKB5QAAAAAAA4H9AAAAAAABAb0AAAAAAAECAQAAAAAAAwHxAAAAAAAAAiUAAAAAAAGB9QAAAAAAAkIBAAAAAAAAAPkAAAAAAAAB+QAAAAAAAwHJAAAAAAAAgjEAAAAAAANCFQAAAAAAAoH5AAAAAAABAgEAAAAAAAEBuQAAAAAAAQH9AAAAAAABQhEAAAAAAAJCQQAAAAAAAAFlAAAAAAAAANEAAAAAAAIB7QAAAAAAAIIdAAAAAAACghEAAAAAAABCNQAAAAAAA8I5AAAAAAACwiEAAAAAAAMB3QAAAAAAAgGZAAAAAAADghUAAAAAAABCTQAAAAAAAMIZAAAAAAACwiEAAAAAAAIB2QAAAAAAA0IZAAAAAAADAckAAAAAAAACUQAAAAAAAAFlAAAAAAAD4kUAAAAAAAECFQAAAAAAAkIBAAAAAAACAhkAAAAAAAGCNQAAAAAAA4H9AAAAAAACQikAAAAAAAEBaQAAAAAAAwHJAAAAAAACQhUAAAAAAACCHQAAAAAAAcIJAAAAAAADAkkAAAAAAAMByQAAAAAAAQH9AAAAAAAAwgUAAAAAAACB3QAAAAAAAQH9AAAAAAABAf0AAAAAAAIB2QAAAAAAAsI1AAAAAAADAgkAAAAAAAMCHQAAAAAAAIHJAAAAAAADAd0AAAAAAAOB/QAAAAAAAwIJAAAAAAAAYmkAAAAAAAGiQQAAAAAAA0HZAAAAAAAAAZEAAAAAAAHCHQAAAAAAAGJBAAAAAAACQikAAAAAAAHCHQAAAAAAAYH1AAAAAAADwhEAAAAAAAGCNQAAAAAAAgIFAAAAAAAAAdEAAAAAAAGBzQAAAAAAAUJRAAAAAAAAAiUAAAAAAAMCCQAAAAAAAwIJAAAAAAAAgjEAAAAAAAMB8QAAAAAAAwGxAAAAAAACAgUAAAAAAAFiRQAAAAAAAwIJAAAAAAABQhEAAAAAAAGCDQAAAAAAAYH1AAAAAAADAckAAAAAAAAB5QAAAAAAAgHFAAAAAAAAgjEAAAAAAAABuQAAAAAAAcIdAAAAAAADAbEAAAAAAACB3QAAAAAAAQHVAAAAAAADghUAAAAAAAMB3QAAAAAAAYHNAAAAAAABokEAAAAAAAPCJQAAAAAAAwGJAAAAAAAAQg0AAAAAAAABpQAAAAAAAgIZAAAAAAACQkEAAAAAAAACJQAAAAAAAuJBAAAAAAABAb0AAAAAAALCNQAAAAAAAwGJAAAAAAADAfEAAAAAAAAB+QAAAAAAA4HVAAAAAAACgfkAAAAAAAFCEQAAAAAAAEJNAAAAAAAAQg0AAAAAAAMCSQAAAAAAAAI1AAAAAAADQgUAAAAAAAGiQQAAAAAAAkIBAAAAAAAAAiUAAAAAAAABJQAAAAAAAUI5AAAAAAABgeEAAAAAAAOCFQAAAAAAAoHlAAAAAAABAcEAAAAAAAMCCQAAAAAAAoHlAAAAAAAAAeUAAAAAAAPiRQAAAAAAAAE5AAAAAAADAh0AAAAAAALCNQAAAAAAAwHJAAAAAAACQikAAAAAAACB8QAAAAAAAkJBAAAAAAADgekAAAAAAACCMQAAAAAAA4IVAAAAAAADgf0AAAAAAAMByQAAAAAAAIIJAAAAAAAA4k0AAAAAAAABeQAAAAAAAQIpAAAAAAADglUAAAAAAAIB7QAAAAAAAQH9AAAAAAAAAiUAAAAAAALCDQAAAAAAAwGxAAAAAAABAf0AAAAAAAEBgQAAAAAAAAGlAAAAAAAAAiUAAAAAAABCDQAAAAAAA8IlAAAAAAAAQiEAAAAAAAECFQAAAAAAA0IZAAAAAAACIk0AAAAAAAKB0QAAAAAAAkIVAAAAAAABwh0AAAAAAAGigQAAAAAAAkIVAAAAAAAAggkAAAAAAABCNQAAAAAAAQH9AAAAAAAAAaUAAAAAAAEBvQAAAAAAAAIlAAAAAAABQlEAAAAAAAGiQQAAAAAAAwGJAAAAAAADAckAAAAAAANCGQAAAAAAA4HpAAAAAAADAgkAAAAAAAAB0QAAAAAAA0IFAAAAAAAAAdEAAAAAAAEBgQAAAAAAAsINAAAAAAAAgfEAAAAAAAJCFQAAAAAAAQH9AAAAAAAAgd0AAAAAAAAB+QAAAAAAAUI5AAAAAAABAdUAAAAAAAIB2QAAAAAAAYHhAAAAAAACAe0AAAAAAABCIQAAAAAAA4HpAAAAAAACgfkAAAAAAAPCEQAAAAAAAIHRAAAAAAAAAeUAAAAAAAMCCQAAAAAAAMIFAAAAAAAAgckAAAAAAALCNQAAAAAAAkI9AAAAAAACQikAAAAAAAOCFQAAAAAAAYHhAAAAAAACwnUAAAAAAAABJQAAAAAAAAHlAAAAAAAC4kEAAAAAAAMByQAAAAAAAgJFAAAAAAAAAAAAAAAAAAHiDQAAAAAAAAElAAAAAAABQiUAAAAAAAEB/QAAAAAAAoHlAAAAAAACQikAAAAAAAJCKQAAAAAAAsI1AAAAAAABgaEAAAAAAAJiSQAAAAAAA0IFAAAAAAADQhkAAAAAAAIB7QAAAAAAAkJBAAAAAAAAAdEAAAAAAABCDQAAAAAAAQHBAAAAAAAC4gEAAAAAAACB8QAAAAAAAsINAAAAAAABwgkAAAAAAACB3QAAAAAAA4H9AAAAAAABAb0AAAAAAAEiSQAAAAAAA0IZAAAAAAADAgkAAAAAAAABOQAAAAAAAAG5AAAAAAACIk0AAAAAAAECPQAAAAAAAcIxAAAAAAACQhUAAAAAAADCRQAAAAAAAAI5AAAAAAACAhkAAAAAAAPCEQAAAAAAAQHVAAAAAAADgekAAAAAAAAB5QAAAAAAAQI9AAAAAAADgdUAAAAAAAAB5QAAAAAAAYI1AAAAAAABwh0AAAAAAAMBiQAAAAAAAsINAAAAAAAAAaUAAAAAAAPiRQAAAAAAAAAAAAAAAAACAdkAAAAAAAOBwQAAAAAAAAI5AAAAAAADAjEAAAAAAAECPQAAAAAAAoHRAAAAAAACAcUAAAAAAABCDQAAAAAAAAAAAAAAAAAAAbkAAAAAAAABpQAAAAAAAAAAAAAAAAADAbEAAAAAAAPCEQAAAAAAA4HVA",
          "dtype": "f8"
         },
         "y": {
          "bdata": "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",
          "dtype": "f8"
         }
        }
       ],
       "layout": {
        "template": {
         "data": {
          "bar": [
           {
            "error_x": {
             "color": "#2a3f5f"
            },
            "error_y": {
             "color": "#2a3f5f"
            },
            "marker": {
             "line": {
              "color": "#E5ECF6",
              "width": 0.5
             },
             "pattern": {
              "fillmode": "overlay",
              "size": 10,
              "solidity": 0.2
             }
            },
            "type": "bar"
           }
          ],
          "barpolar": [
           {
            "marker": {
             "line": {
              "color": "#E5ECF6",
              "width": 0.5
             },
             "pattern": {
              "fillmode": "overlay",
              "size": 10,
              "solidity": 0.2
             }
            },
            "type": "barpolar"
           }
          ],
          "carpet": [
           {
            "aaxis": {
             "endlinecolor": "#2a3f5f",
             "gridcolor": "white",
             "linecolor": "white",
             "minorgridcolor": "white",
             "startlinecolor": "#2a3f5f"
            },
            "baxis": {
             "endlinecolor": "#2a3f5f",
             "gridcolor": "white",
             "linecolor": "white",
             "minorgridcolor": "white",
             "startlinecolor": "#2a3f5f"
            },
            "type": "carpet"
           }
          ],
          "choropleth": [
           {
            "colorbar": {
             "outlinewidth": 0,
             "ticks": ""
            },
            "type": "choropleth"
           }
          ],
          "contour": [
           {
            "colorbar": {
             "outlinewidth": 0,
             "ticks": ""
            },
            "colorscale": [
             [
              0,
              "#0d0887"
             ],
             [
              0.1111111111111111,
              "#46039f"
             ],
             [
              0.2222222222222222,
              "#7201a8"
             ],
             [
              0.3333333333333333,
              "#9c179e"
             ],
             [
              0.4444444444444444,
              "#bd3786"
             ],
             [
              0.5555555555555556,
              "#d8576b"
             ],
             [
              0.6666666666666666,
              "#ed7953"
             ],
             [
              0.7777777777777778,
              "#fb9f3a"
             ],
             [
              0.8888888888888888,
              "#fdca26"
             ],
             [
              1,
              "#f0f921"
             ]
            ],
            "type": "contour"
           }
          ],
          "contourcarpet": [
           {
            "colorbar": {
             "outlinewidth": 0,
             "ticks": ""
            },
            "type": "contourcarpet"
           }
          ],
          "heatmap": [
           {
            "colorbar": {
             "outlinewidth": 0,
             "ticks": ""
            },
            "colorscale": [
             [
              0,
              "#0d0887"
             ],
             [
              0.1111111111111111,
              "#46039f"
             ],
             [
              0.2222222222222222,
              "#7201a8"
             ],
             [
              0.3333333333333333,
              "#9c179e"
             ],
             [
              0.4444444444444444,
              "#bd3786"
             ],
             [
              0.5555555555555556,
              "#d8576b"
             ],
             [
              0.6666666666666666,
              "#ed7953"
             ],
             [
              0.7777777777777778,
              "#fb9f3a"
             ],
             [
              0.8888888888888888,
              "#fdca26"
             ],
             [
              1,
              "#f0f921"
             ]
            ],
            "type": "heatmap"
           }
          ],
          "histogram": [
           {
            "marker": {
             "pattern": {
              "fillmode": "overlay",
              "size": 10,
              "solidity": 0.2
             }
            },
            "type": "histogram"
           }
          ],
          "histogram2d": [
           {
            "colorbar": {
             "outlinewidth": 0,
             "ticks": ""
            },
            "colorscale": [
             [
              0,
              "#0d0887"
             ],
             [
              0.1111111111111111,
              "#46039f"
             ],
             [
              0.2222222222222222,
              "#7201a8"
             ],
             [
              0.3333333333333333,
              "#9c179e"
             ],
             [
              0.4444444444444444,
              "#bd3786"
             ],
             [
              0.5555555555555556,
              "#d8576b"
             ],
             [
              0.6666666666666666,
              "#ed7953"
             ],
             [
              0.7777777777777778,
              "#fb9f3a"
             ],
             [
              0.8888888888888888,
              "#fdca26"
             ],
             [
              1,
              "#f0f921"
             ]
            ],
            "type": "histogram2d"
           }
          ],
          "histogram2dcontour": [
           {
            "colorbar": {
             "outlinewidth": 0,
             "ticks": ""
            },
            "colorscale": [
             [
              0,
              "#0d0887"
             ],
             [
              0.1111111111111111,
              "#46039f"
             ],
             [
              0.2222222222222222,
              "#7201a8"
             ],
             [
              0.3333333333333333,
              "#9c179e"
             ],
             [
              0.4444444444444444,
              "#bd3786"
             ],
             [
              0.5555555555555556,
              "#d8576b"
             ],
             [
              0.6666666666666666,
              "#ed7953"
             ],
             [
              0.7777777777777778,
              "#fb9f3a"
             ],
             [
              0.8888888888888888,
              "#fdca26"
             ],
             [
              1,
              "#f0f921"
             ]
            ],
            "type": "histogram2dcontour"
           }
          ],
          "mesh3d": [
           {
            "colorbar": {
             "outlinewidth": 0,
             "ticks": ""
            },
            "type": "mesh3d"
           }
          ],
          "parcoords": [
           {
            "line": {
             "colorbar": {
              "outlinewidth": 0,
              "ticks": ""
             }
            },
            "type": "parcoords"
           }
          ],
          "pie": [
           {
            "automargin": true,
            "type": "pie"
           }
          ],
          "scatter": [
           {
            "fillpattern": {
             "fillmode": "overlay",
             "size": 10,
             "solidity": 0.2
            },
            "type": "scatter"
           }
          ],
          "scatter3d": [
           {
            "line": {
             "colorbar": {
              "outlinewidth": 0,
              "ticks": ""
             }
            },
            "marker": {
             "colorbar": {
              "outlinewidth": 0,
              "ticks": ""
             }
            },
            "type": "scatter3d"
           }
          ],
          "scattercarpet": [
           {
            "marker": {
             "colorbar": {
              "outlinewidth": 0,
              "ticks": ""
             }
            },
            "type": "scattercarpet"
           }
          ],
          "scattergeo": [
           {
            "marker": {
             "colorbar": {
              "outlinewidth": 0,
              "ticks": ""
             }
            },
            "type": "scattergeo"
           }
          ],
          "scattergl": [
           {
            "marker": {
             "colorbar": {
              "outlinewidth": 0,
              "ticks": ""
             }
            },
            "type": "scattergl"
           }
          ],
          "scattermap": [
           {
            "marker": {
             "colorbar": {
              "outlinewidth": 0,
              "ticks": ""
             }
            },
            "type": "scattermap"
           }
          ],
          "scattermapbox": [
           {
            "marker": {
             "colorbar": {
              "outlinewidth": 0,
              "ticks": ""
             }
            },
            "type": "scattermapbox"
           }
          ],
          "scatterpolar": [
           {
            "marker": {
             "colorbar": {
              "outlinewidth": 0,
              "ticks": ""
             }
            },
            "type": "scatterpolar"
           }
          ],
          "scatterpolargl": [
           {
            "marker": {
             "colorbar": {
              "outlinewidth": 0,
              "ticks": ""
             }
            },
            "type": "scatterpolargl"
           }
          ],
          "scatterternary": [
           {
            "marker": {
             "colorbar": {
              "outlinewidth": 0,
              "ticks": ""
             }
            },
            "type": "scatterternary"
           }
          ],
          "surface": [
           {
            "colorbar": {
             "outlinewidth": 0,
             "ticks": ""
            },
            "colorscale": [
             [
              0,
              "#0d0887"
             ],
             [
              0.1111111111111111,
              "#46039f"
             ],
             [
              0.2222222222222222,
              "#7201a8"
             ],
             [
              0.3333333333333333,
              "#9c179e"
             ],
             [
              0.4444444444444444,
              "#bd3786"
             ],
             [
              0.5555555555555556,
              "#d8576b"
             ],
             [
              0.6666666666666666,
              "#ed7953"
             ],
             [
              0.7777777777777778,
              "#fb9f3a"
             ],
             [
              0.8888888888888888,
              "#fdca26"
             ],
             [
              1,
              "#f0f921"
             ]
            ],
            "type": "surface"
           }
          ],
          "table": [
           {
            "cells": {
             "fill": {
              "color": "#EBF0F8"
             },
             "line": {
              "color": "white"
             }
            },
            "header": {
             "fill": {
              "color": "#C8D4E3"
             },
             "line": {
              "color": "white"
             }
            },
            "type": "table"
           }
          ]
         },
         "layout": {
          "annotationdefaults": {
           "arrowcolor": "#2a3f5f",
           "arrowhead": 0,
           "arrowwidth": 1
          },
          "autotypenumbers": "strict",
          "coloraxis": {
           "colorbar": {
            "outlinewidth": 0,
            "ticks": ""
           }
          },
          "colorscale": {
           "diverging": [
            [
             0,
             "#8e0152"
            ],
            [
             0.1,
             "#c51b7d"
            ],
            [
             0.2,
             "#de77ae"
            ],
            [
             0.3,
             "#f1b6da"
            ],
            [
             0.4,
             "#fde0ef"
            ],
            [
             0.5,
             "#f7f7f7"
            ],
            [
             0.6,
             "#e6f5d0"
            ],
            [
             0.7,
             "#b8e186"
            ],
            [
             0.8,
             "#7fbc41"
            ],
            [
             0.9,
             "#4d9221"
            ],
            [
             1,
             "#276419"
            ]
           ],
           "sequential": [
            [
             0,
             "#0d0887"
            ],
            [
             0.1111111111111111,
             "#46039f"
            ],
            [
             0.2222222222222222,
             "#7201a8"
            ],
            [
             0.3333333333333333,
             "#9c179e"
            ],
            [
             0.4444444444444444,
             "#bd3786"
            ],
            [
             0.5555555555555556,
             "#d8576b"
            ],
            [
             0.6666666666666666,
             "#ed7953"
            ],
            [
             0.7777777777777778,
             "#fb9f3a"
            ],
            [
             0.8888888888888888,
             "#fdca26"
            ],
            [
             1,
             "#f0f921"
            ]
           ],
           "sequentialminus": [
            [
             0,
             "#0d0887"
            ],
            [
             0.1111111111111111,
             "#46039f"
            ],
            [
             0.2222222222222222,
             "#7201a8"
            ],
            [
             0.3333333333333333,
             "#9c179e"
            ],
            [
             0.4444444444444444,
             "#bd3786"
            ],
            [
             0.5555555555555556,
             "#d8576b"
            ],
            [
             0.6666666666666666,
             "#ed7953"
            ],
            [
             0.7777777777777778,
             "#fb9f3a"
            ],
            [
             0.8888888888888888,
             "#fdca26"
            ],
            [
             1,
             "#f0f921"
            ]
           ]
          },
          "colorway": [
           "#636efa",
           "#EF553B",
           "#00cc96",
           "#ab63fa",
           "#FFA15A",
           "#19d3f3",
           "#FF6692",
           "#B6E880",
           "#FF97FF",
           "#FECB52"
          ],
          "font": {
           "color": "#2a3f5f"
          },
          "geo": {
           "bgcolor": "white",
           "lakecolor": "white",
           "landcolor": "#E5ECF6",
           "showlakes": true,
           "showland": true,
           "subunitcolor": "white"
          },
          "hoverlabel": {
           "align": "left"
          },
          "hovermode": "closest",
          "mapbox": {
           "style": "light"
          },
          "paper_bgcolor": "white",
          "plot_bgcolor": "#E5ECF6",
          "polar": {
           "angularaxis": {
            "gridcolor": "white",
            "linecolor": "white",
            "ticks": ""
           },
           "bgcolor": "#E5ECF6",
           "radialaxis": {
            "gridcolor": "white",
            "linecolor": "white",
            "ticks": ""
           }
          },
          "scene": {
           "xaxis": {
            "backgroundcolor": "#E5ECF6",
            "gridcolor": "white",
            "gridwidth": 2,
            "linecolor": "white",
            "showbackground": true,
            "ticks": "",
            "zerolinecolor": "white"
           },
           "yaxis": {
            "backgroundcolor": "#E5ECF6",
            "gridcolor": "white",
            "gridwidth": 2,
            "linecolor": "white",
            "showbackground": true,
            "ticks": "",
            "zerolinecolor": "white"
           },
           "zaxis": {
            "backgroundcolor": "#E5ECF6",
            "gridcolor": "white",
            "gridwidth": 2,
            "linecolor": "white",
            "showbackground": true,
            "ticks": "",
            "zerolinecolor": "white"
           }
          },
          "shapedefaults": {
           "line": {
            "color": "#2a3f5f"
           }
          },
          "ternary": {
           "aaxis": {
            "gridcolor": "white",
            "linecolor": "white",
            "ticks": ""
           },
           "baxis": {
            "gridcolor": "white",
            "linecolor": "white",
            "ticks": ""
           },
           "bgcolor": "#E5ECF6",
           "caxis": {
            "gridcolor": "white",
            "linecolor": "white",
            "ticks": ""
           }
          },
          "title": {
           "x": 0.05
          },
          "xaxis": {
           "automargin": true,
           "gridcolor": "white",
           "linecolor": "white",
           "ticks": "",
           "title": {
            "standoff": 15
           },
           "zerolinecolor": "white",
           "zerolinewidth": 2
          },
          "yaxis": {
           "automargin": true,
           "gridcolor": "white",
           "linecolor": "white",
           "ticks": "",
           "title": {
            "standoff": 15
           },
           "zerolinecolor": "white",
           "zerolinewidth": 2
          }
         }
        },
        "xaxis": {
         "title": {
          "text": "WL Depth (mm)"
         }
        },
        "yaxis": {
         "title": {
          "text": "Coupled Criterion"
         }
        }
       }
      }
     },
     "metadata": {},
     "output_type": "display_data"
    },
    {
     "data": {
      "application/vnd.plotly.v1+json": {
       "config": {
        "plotlyServerURL": "https://plot.ly"
       },
       "data": [
        {
         "marker": {
          "color": "green"
         },
         "mode": "markers",
         "name": "SSERR",
         "type": "scatter",
         "x": {
          "bdata": "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",
          "dtype": "f8"
         },
         "y": {
          "bdata": "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",
          "dtype": "f8"
         }
        }
       ],
       "layout": {
        "template": {
         "data": {
          "bar": [
           {
            "error_x": {
             "color": "#2a3f5f"
            },
            "error_y": {
             "color": "#2a3f5f"
            },
            "marker": {
             "line": {
              "color": "#E5ECF6",
              "width": 0.5
             },
             "pattern": {
              "fillmode": "overlay",
              "size": 10,
              "solidity": 0.2
             }
            },
            "type": "bar"
           }
          ],
          "barpolar": [
           {
            "marker": {
             "line": {
              "color": "#E5ECF6",
              "width": 0.5
             },
             "pattern": {
              "fillmode": "overlay",
              "size": 10,
              "solidity": 0.2
             }
            },
            "type": "barpolar"
           }
          ],
          "carpet": [
           {
            "aaxis": {
             "endlinecolor": "#2a3f5f",
             "gridcolor": "white",
             "linecolor": "white",
             "minorgridcolor": "white",
             "startlinecolor": "#2a3f5f"
            },
            "baxis": {
             "endlinecolor": "#2a3f5f",
             "gridcolor": "white",
             "linecolor": "white",
             "minorgridcolor": "white",
             "startlinecolor": "#2a3f5f"
            },
            "type": "carpet"
           }
          ],
          "choropleth": [
           {
            "colorbar": {
             "outlinewidth": 0,
             "ticks": ""
            },
            "type": "choropleth"
           }
          ],
          "contour": [
           {
            "colorbar": {
             "outlinewidth": 0,
             "ticks": ""
            },
            "colorscale": [
             [
              0,
              "#0d0887"
             ],
             [
              0.1111111111111111,
              "#46039f"
             ],
             [
              0.2222222222222222,
              "#7201a8"
             ],
             [
              0.3333333333333333,
              "#9c179e"
             ],
             [
              0.4444444444444444,
              "#bd3786"
             ],
             [
              0.5555555555555556,
              "#d8576b"
             ],
             [
              0.6666666666666666,
              "#ed7953"
             ],
             [
              0.7777777777777778,
              "#fb9f3a"
             ],
             [
              0.8888888888888888,
              "#fdca26"
             ],
             [
              1,
              "#f0f921"
             ]
            ],
            "type": "contour"
           }
          ],
          "contourcarpet": [
           {
            "colorbar": {
             "outlinewidth": 0,
             "ticks": ""
            },
            "type": "contourcarpet"
           }
          ],
          "heatmap": [
           {
            "colorbar": {
             "outlinewidth": 0,
             "ticks": ""
            },
            "colorscale": [
             [
              0,
              "#0d0887"
             ],
             [
              0.1111111111111111,
              "#46039f"
             ],
             [
              0.2222222222222222,
              "#7201a8"
             ],
             [
              0.3333333333333333,
              "#9c179e"
             ],
             [
              0.4444444444444444,
              "#bd3786"
             ],
             [
              0.5555555555555556,
              "#d8576b"
             ],
             [
              0.6666666666666666,
              "#ed7953"
             ],
             [
              0.7777777777777778,
              "#fb9f3a"
             ],
             [
              0.8888888888888888,
              "#fdca26"
             ],
             [
              1,
              "#f0f921"
             ]
            ],
            "type": "heatmap"
           }
          ],
          "histogram": [
           {
            "marker": {
             "pattern": {
              "fillmode": "overlay",
              "size": 10,
              "solidity": 0.2
             }
            },
            "type": "histogram"
           }
          ],
          "histogram2d": [
           {
            "colorbar": {
             "outlinewidth": 0,
             "ticks": ""
            },
            "colorscale": [
             [
              0,
              "#0d0887"
             ],
             [
              0.1111111111111111,
              "#46039f"
             ],
             [
              0.2222222222222222,
              "#7201a8"
             ],
             [
              0.3333333333333333,
              "#9c179e"
             ],
             [
              0.4444444444444444,
              "#bd3786"
             ],
             [
              0.5555555555555556,
              "#d8576b"
             ],
             [
              0.6666666666666666,
              "#ed7953"
             ],
             [
              0.7777777777777778,
              "#fb9f3a"
             ],
             [
              0.8888888888888888,
              "#fdca26"
             ],
             [
              1,
              "#f0f921"
             ]
            ],
            "type": "histogram2d"
           }
          ],
          "histogram2dcontour": [
           {
            "colorbar": {
             "outlinewidth": 0,
             "ticks": ""
            },
            "colorscale": [
             [
              0,
              "#0d0887"
             ],
             [
              0.1111111111111111,
              "#46039f"
             ],
             [
              0.2222222222222222,
              "#7201a8"
             ],
             [
              0.3333333333333333,
              "#9c179e"
             ],
             [
              0.4444444444444444,
              "#bd3786"
             ],
             [
              0.5555555555555556,
              "#d8576b"
             ],
             [
              0.6666666666666666,
              "#ed7953"
             ],
             [
              0.7777777777777778,
              "#fb9f3a"
             ],
             [
              0.8888888888888888,
              "#fdca26"
             ],
             [
              1,
              "#f0f921"
             ]
            ],
            "type": "histogram2dcontour"
           }
          ],
          "mesh3d": [
           {
            "colorbar": {
             "outlinewidth": 0,
             "ticks": ""
            },
            "type": "mesh3d"
           }
          ],
          "parcoords": [
           {
            "line": {
             "colorbar": {
              "outlinewidth": 0,
              "ticks": ""
             }
            },
            "type": "parcoords"
           }
          ],
          "pie": [
           {
            "automargin": true,
            "type": "pie"
           }
          ],
          "scatter": [
           {
            "fillpattern": {
             "fillmode": "overlay",
             "size": 10,
             "solidity": 0.2
            },
            "type": "scatter"
           }
          ],
          "scatter3d": [
           {
            "line": {
             "colorbar": {
              "outlinewidth": 0,
              "ticks": ""
             }
            },
            "marker": {
             "colorbar": {
              "outlinewidth": 0,
              "ticks": ""
             }
            },
            "type": "scatter3d"
           }
          ],
          "scattercarpet": [
           {
            "marker": {
             "colorbar": {
              "outlinewidth": 0,
              "ticks": ""
             }
            },
            "type": "scattercarpet"
           }
          ],
          "scattergeo": [
           {
            "marker": {
             "colorbar": {
              "outlinewidth": 0,
              "ticks": ""
             }
            },
            "type": "scattergeo"
           }
          ],
          "scattergl": [
           {
            "marker": {
             "colorbar": {
              "outlinewidth": 0,
              "ticks": ""
             }
            },
            "type": "scattergl"
           }
          ],
          "scattermap": [
           {
            "marker": {
             "colorbar": {
              "outlinewidth": 0,
              "ticks": ""
             }
            },
            "type": "scattermap"
           }
          ],
          "scattermapbox": [
           {
            "marker": {
             "colorbar": {
              "outlinewidth": 0,
              "ticks": ""
             }
            },
            "type": "scattermapbox"
           }
          ],
          "scatterpolar": [
           {
            "marker": {
             "colorbar": {
              "outlinewidth": 0,
              "ticks": ""
             }
            },
            "type": "scatterpolar"
           }
          ],
          "scatterpolargl": [
           {
            "marker": {
             "colorbar": {
              "outlinewidth": 0,
              "ticks": ""
             }
            },
            "type": "scatterpolargl"
           }
          ],
          "scatterternary": [
           {
            "marker": {
             "colorbar": {
              "outlinewidth": 0,
              "ticks": ""
             }
            },
            "type": "scatterternary"
           }
          ],
          "surface": [
           {
            "colorbar": {
             "outlinewidth": 0,
             "ticks": ""
            },
            "colorscale": [
             [
              0,
              "#0d0887"
             ],
             [
              0.1111111111111111,
              "#46039f"
             ],
             [
              0.2222222222222222,
              "#7201a8"
             ],
             [
              0.3333333333333333,
              "#9c179e"
             ],
             [
              0.4444444444444444,
              "#bd3786"
             ],
             [
              0.5555555555555556,
              "#d8576b"
             ],
             [
              0.6666666666666666,
              "#ed7953"
             ],
             [
              0.7777777777777778,
              "#fb9f3a"
             ],
             [
              0.8888888888888888,
              "#fdca26"
             ],
             [
              1,
              "#f0f921"
             ]
            ],
            "type": "surface"
           }
          ],
          "table": [
           {
            "cells": {
             "fill": {
              "color": "#EBF0F8"
             },
             "line": {
              "color": "white"
             }
            },
            "header": {
             "fill": {
              "color": "#C8D4E3"
             },
             "line": {
              "color": "white"
             }
            },
            "type": "table"
           }
          ]
         },
         "layout": {
          "annotationdefaults": {
           "arrowcolor": "#2a3f5f",
           "arrowhead": 0,
           "arrowwidth": 1
          },
          "autotypenumbers": "strict",
          "coloraxis": {
           "colorbar": {
            "outlinewidth": 0,
            "ticks": ""
           }
          },
          "colorscale": {
           "diverging": [
            [
             0,
             "#8e0152"
            ],
            [
             0.1,
             "#c51b7d"
            ],
            [
             0.2,
             "#de77ae"
            ],
            [
             0.3,
             "#f1b6da"
            ],
            [
             0.4,
             "#fde0ef"
            ],
            [
             0.5,
             "#f7f7f7"
            ],
            [
             0.6,
             "#e6f5d0"
            ],
            [
             0.7,
             "#b8e186"
            ],
            [
             0.8,
             "#7fbc41"
            ],
            [
             0.9,
             "#4d9221"
            ],
            [
             1,
             "#276419"
            ]
           ],
           "sequential": [
            [
             0,
             "#0d0887"
            ],
            [
             0.1111111111111111,
             "#46039f"
            ],
            [
             0.2222222222222222,
             "#7201a8"
            ],
            [
             0.3333333333333333,
             "#9c179e"
            ],
            [
             0.4444444444444444,
             "#bd3786"
            ],
            [
             0.5555555555555556,
             "#d8576b"
            ],
            [
             0.6666666666666666,
             "#ed7953"
            ],
            [
             0.7777777777777778,
             "#fb9f3a"
            ],
            [
             0.8888888888888888,
             "#fdca26"
            ],
            [
             1,
             "#f0f921"
            ]
           ],
           "sequentialminus": [
            [
             0,
             "#0d0887"
            ],
            [
             0.1111111111111111,
             "#46039f"
            ],
            [
             0.2222222222222222,
             "#7201a8"
            ],
            [
             0.3333333333333333,
             "#9c179e"
            ],
            [
             0.4444444444444444,
             "#bd3786"
            ],
            [
             0.5555555555555556,
             "#d8576b"
            ],
            [
             0.6666666666666666,
             "#ed7953"
            ],
            [
             0.7777777777777778,
             "#fb9f3a"
            ],
            [
             0.8888888888888888,
             "#fdca26"
            ],
            [
             1,
             "#f0f921"
            ]
           ]
          },
          "colorway": [
           "#636efa",
           "#EF553B",
           "#00cc96",
           "#ab63fa",
           "#FFA15A",
           "#19d3f3",
           "#FF6692",
           "#B6E880",
           "#FF97FF",
           "#FECB52"
          ],
          "font": {
           "color": "#2a3f5f"
          },
          "geo": {
           "bgcolor": "white",
           "lakecolor": "white",
           "landcolor": "#E5ECF6",
           "showlakes": true,
           "showland": true,
           "subunitcolor": "white"
          },
          "hoverlabel": {
           "align": "left"
          },
          "hovermode": "closest",
          "mapbox": {
           "style": "light"
          },
          "paper_bgcolor": "white",
          "plot_bgcolor": "#E5ECF6",
          "polar": {
           "angularaxis": {
            "gridcolor": "white",
            "linecolor": "white",
            "ticks": ""
           },
           "bgcolor": "#E5ECF6",
           "radialaxis": {
            "gridcolor": "white",
            "linecolor": "white",
            "ticks": ""
           }
          },
          "scene": {
           "xaxis": {
            "backgroundcolor": "#E5ECF6",
            "gridcolor": "white",
            "gridwidth": 2,
            "linecolor": "white",
            "showbackground": true,
            "ticks": "",
            "zerolinecolor": "white"
           },
           "yaxis": {
            "backgroundcolor": "#E5ECF6",
            "gridcolor": "white",
            "gridwidth": 2,
            "linecolor": "white",
            "showbackground": true,
            "ticks": "",
            "zerolinecolor": "white"
           },
           "zaxis": {
            "backgroundcolor": "#E5ECF6",
            "gridcolor": "white",
            "gridwidth": 2,
            "linecolor": "white",
            "showbackground": true,
            "ticks": "",
            "zerolinecolor": "white"
           }
          },
          "shapedefaults": {
           "line": {
            "color": "#2a3f5f"
           }
          },
          "ternary": {
           "aaxis": {
            "gridcolor": "white",
            "linecolor": "white",
            "ticks": ""
           },
           "baxis": {
            "gridcolor": "white",
            "linecolor": "white",
            "ticks": ""
           },
           "bgcolor": "#E5ECF6",
           "caxis": {
            "gridcolor": "white",
            "linecolor": "white",
            "ticks": ""
           }
          },
          "title": {
           "x": 0.05
          },
          "xaxis": {
           "automargin": true,
           "gridcolor": "white",
           "linecolor": "white",
           "ticks": "",
           "title": {
            "standoff": 15
           },
           "zerolinecolor": "white",
           "zerolinewidth": 2
          },
          "yaxis": {
           "automargin": true,
           "gridcolor": "white",
           "linecolor": "white",
           "ticks": "",
           "title": {
            "standoff": 15
           },
           "zerolinecolor": "white",
           "zerolinewidth": 2
          }
         }
        },
        "xaxis": {
         "title": {
          "text": "WL Depth (mm)"
         }
        },
        "yaxis": {
         "title": {
          "text": "SSERR"
         }
        }
       }
      }
     },
     "metadata": {},
     "output_type": "display_data"
    },
    {
     "data": {
      "application/vnd.plotly.v1+json": {
       "config": {
        "plotlyServerURL": "https://plot.ly"
       },
       "data": [
        {
         "marker": {
          "color": "yellow"
         },
         "mode": "markers",
         "name": "Touchdown Distance",
         "type": "scatter",
         "x": {
          "bdata": "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",
          "dtype": "f8"
         },
         "y": {
          "bdata": "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",
          "dtype": "f8"
         }
        }
       ],
       "layout": {
        "template": {
         "data": {
          "bar": [
           {
            "error_x": {
             "color": "#2a3f5f"
            },
            "error_y": {
             "color": "#2a3f5f"
            },
            "marker": {
             "line": {
              "color": "#E5ECF6",
              "width": 0.5
             },
             "pattern": {
              "fillmode": "overlay",
              "size": 10,
              "solidity": 0.2
             }
            },
            "type": "bar"
           }
          ],
          "barpolar": [
           {
            "marker": {
             "line": {
              "color": "#E5ECF6",
              "width": 0.5
             },
             "pattern": {
              "fillmode": "overlay",
              "size": 10,
              "solidity": 0.2
             }
            },
            "type": "barpolar"
           }
          ],
          "carpet": [
           {
            "aaxis": {
             "endlinecolor": "#2a3f5f",
             "gridcolor": "white",
             "linecolor": "white",
             "minorgridcolor": "white",
             "startlinecolor": "#2a3f5f"
            },
            "baxis": {
             "endlinecolor": "#2a3f5f",
             "gridcolor": "white",
             "linecolor": "white",
             "minorgridcolor": "white",
             "startlinecolor": "#2a3f5f"
            },
            "type": "carpet"
           }
          ],
          "choropleth": [
           {
            "colorbar": {
             "outlinewidth": 0,
             "ticks": ""
            },
            "type": "choropleth"
           }
          ],
          "contour": [
           {
            "colorbar": {
             "outlinewidth": 0,
             "ticks": ""
            },
            "colorscale": [
             [
              0,
              "#0d0887"
             ],
             [
              0.1111111111111111,
              "#46039f"
             ],
             [
              0.2222222222222222,
              "#7201a8"
             ],
             [
              0.3333333333333333,
              "#9c179e"
             ],
             [
              0.4444444444444444,
              "#bd3786"
             ],
             [
              0.5555555555555556,
              "#d8576b"
             ],
             [
              0.6666666666666666,
              "#ed7953"
             ],
             [
              0.7777777777777778,
              "#fb9f3a"
             ],
             [
              0.8888888888888888,
              "#fdca26"
             ],
             [
              1,
              "#f0f921"
             ]
            ],
            "type": "contour"
           }
          ],
          "contourcarpet": [
           {
            "colorbar": {
             "outlinewidth": 0,
             "ticks": ""
            },
            "type": "contourcarpet"
           }
          ],
          "heatmap": [
           {
            "colorbar": {
             "outlinewidth": 0,
             "ticks": ""
            },
            "colorscale": [
             [
              0,
              "#0d0887"
             ],
             [
              0.1111111111111111,
              "#46039f"
             ],
             [
              0.2222222222222222,
              "#7201a8"
             ],
             [
              0.3333333333333333,
              "#9c179e"
             ],
             [
              0.4444444444444444,
              "#bd3786"
             ],
             [
              0.5555555555555556,
              "#d8576b"
             ],
             [
              0.6666666666666666,
              "#ed7953"
             ],
             [
              0.7777777777777778,
              "#fb9f3a"
             ],
             [
              0.8888888888888888,
              "#fdca26"
             ],
             [
              1,
              "#f0f921"
             ]
            ],
            "type": "heatmap"
           }
          ],
          "histogram": [
           {
            "marker": {
             "pattern": {
              "fillmode": "overlay",
              "size": 10,
              "solidity": 0.2
             }
            },
            "type": "histogram"
           }
          ],
          "histogram2d": [
           {
            "colorbar": {
             "outlinewidth": 0,
             "ticks": ""
            },
            "colorscale": [
             [
              0,
              "#0d0887"
             ],
             [
              0.1111111111111111,
              "#46039f"
             ],
             [
              0.2222222222222222,
              "#7201a8"
             ],
             [
              0.3333333333333333,
              "#9c179e"
             ],
             [
              0.4444444444444444,
              "#bd3786"
             ],
             [
              0.5555555555555556,
              "#d8576b"
             ],
             [
              0.6666666666666666,
              "#ed7953"
             ],
             [
              0.7777777777777778,
              "#fb9f3a"
             ],
             [
              0.8888888888888888,
              "#fdca26"
             ],
             [
              1,
              "#f0f921"
             ]
            ],
            "type": "histogram2d"
           }
          ],
          "histogram2dcontour": [
           {
            "colorbar": {
             "outlinewidth": 0,
             "ticks": ""
            },
            "colorscale": [
             [
              0,
              "#0d0887"
             ],
             [
              0.1111111111111111,
              "#46039f"
             ],
             [
              0.2222222222222222,
              "#7201a8"
             ],
             [
              0.3333333333333333,
              "#9c179e"
             ],
             [
              0.4444444444444444,
              "#bd3786"
             ],
             [
              0.5555555555555556,
              "#d8576b"
             ],
             [
              0.6666666666666666,
              "#ed7953"
             ],
             [
              0.7777777777777778,
              "#fb9f3a"
             ],
             [
              0.8888888888888888,
              "#fdca26"
             ],
             [
              1,
              "#f0f921"
             ]
            ],
            "type": "histogram2dcontour"
           }
          ],
          "mesh3d": [
           {
            "colorbar": {
             "outlinewidth": 0,
             "ticks": ""
            },
            "type": "mesh3d"
           }
          ],
          "parcoords": [
           {
            "line": {
             "colorbar": {
              "outlinewidth": 0,
              "ticks": ""
             }
            },
            "type": "parcoords"
           }
          ],
          "pie": [
           {
            "automargin": true,
            "type": "pie"
           }
          ],
          "scatter": [
           {
            "fillpattern": {
             "fillmode": "overlay",
             "size": 10,
             "solidity": 0.2
            },
            "type": "scatter"
           }
          ],
          "scatter3d": [
           {
            "line": {
             "colorbar": {
              "outlinewidth": 0,
              "ticks": ""
             }
            },
            "marker": {
             "colorbar": {
              "outlinewidth": 0,
              "ticks": ""
             }
            },
            "type": "scatter3d"
           }
          ],
          "scattercarpet": [
           {
            "marker": {
             "colorbar": {
              "outlinewidth": 0,
              "ticks": ""
             }
            },
            "type": "scattercarpet"
           }
          ],
          "scattergeo": [
           {
            "marker": {
             "colorbar": {
              "outlinewidth": 0,
              "ticks": ""
             }
            },
            "type": "scattergeo"
           }
          ],
          "scattergl": [
           {
            "marker": {
             "colorbar": {
              "outlinewidth": 0,
              "ticks": ""
             }
            },
            "type": "scattergl"
           }
          ],
          "scattermap": [
           {
            "marker": {
             "colorbar": {
              "outlinewidth": 0,
              "ticks": ""
             }
            },
            "type": "scattermap"
           }
          ],
          "scattermapbox": [
           {
            "marker": {
             "colorbar": {
              "outlinewidth": 0,
              "ticks": ""
             }
            },
            "type": "scattermapbox"
           }
          ],
          "scatterpolar": [
           {
            "marker": {
             "colorbar": {
              "outlinewidth": 0,
              "ticks": ""
             }
            },
            "type": "scatterpolar"
           }
          ],
          "scatterpolargl": [
           {
            "marker": {
             "colorbar": {
              "outlinewidth": 0,
              "ticks": ""
             }
            },
            "type": "scatterpolargl"
           }
          ],
          "scatterternary": [
           {
            "marker": {
             "colorbar": {
              "outlinewidth": 0,
              "ticks": ""
             }
            },
            "type": "scatterternary"
           }
          ],
          "surface": [
           {
            "colorbar": {
             "outlinewidth": 0,
             "ticks": ""
            },
            "colorscale": [
             [
              0,
              "#0d0887"
             ],
             [
              0.1111111111111111,
              "#46039f"
             ],
             [
              0.2222222222222222,
              "#7201a8"
             ],
             [
              0.3333333333333333,
              "#9c179e"
             ],
             [
              0.4444444444444444,
              "#bd3786"
             ],
             [
              0.5555555555555556,
              "#d8576b"
             ],
             [
              0.6666666666666666,
              "#ed7953"
             ],
             [
              0.7777777777777778,
              "#fb9f3a"
             ],
             [
              0.8888888888888888,
              "#fdca26"
             ],
             [
              1,
              "#f0f921"
             ]
            ],
            "type": "surface"
           }
          ],
          "table": [
           {
            "cells": {
             "fill": {
              "color": "#EBF0F8"
             },
             "line": {
              "color": "white"
             }
            },
            "header": {
             "fill": {
              "color": "#C8D4E3"
             },
             "line": {
              "color": "white"
             }
            },
            "type": "table"
           }
          ]
         },
         "layout": {
          "annotationdefaults": {
           "arrowcolor": "#2a3f5f",
           "arrowhead": 0,
           "arrowwidth": 1
          },
          "autotypenumbers": "strict",
          "coloraxis": {
           "colorbar": {
            "outlinewidth": 0,
            "ticks": ""
           }
          },
          "colorscale": {
           "diverging": [
            [
             0,
             "#8e0152"
            ],
            [
             0.1,
             "#c51b7d"
            ],
            [
             0.2,
             "#de77ae"
            ],
            [
             0.3,
             "#f1b6da"
            ],
            [
             0.4,
             "#fde0ef"
            ],
            [
             0.5,
             "#f7f7f7"
            ],
            [
             0.6,
             "#e6f5d0"
            ],
            [
             0.7,
             "#b8e186"
            ],
            [
             0.8,
             "#7fbc41"
            ],
            [
             0.9,
             "#4d9221"
            ],
            [
             1,
             "#276419"
            ]
           ],
           "sequential": [
            [
             0,
             "#0d0887"
            ],
            [
             0.1111111111111111,
             "#46039f"
            ],
            [
             0.2222222222222222,
             "#7201a8"
            ],
            [
             0.3333333333333333,
             "#9c179e"
            ],
            [
             0.4444444444444444,
             "#bd3786"
            ],
            [
             0.5555555555555556,
             "#d8576b"
            ],
            [
             0.6666666666666666,
             "#ed7953"
            ],
            [
             0.7777777777777778,
             "#fb9f3a"
            ],
            [
             0.8888888888888888,
             "#fdca26"
            ],
            [
             1,
             "#f0f921"
            ]
           ],
           "sequentialminus": [
            [
             0,
             "#0d0887"
            ],
            [
             0.1111111111111111,
             "#46039f"
            ],
            [
             0.2222222222222222,
             "#7201a8"
            ],
            [
             0.3333333333333333,
             "#9c179e"
            ],
            [
             0.4444444444444444,
             "#bd3786"
            ],
            [
             0.5555555555555556,
             "#d8576b"
            ],
            [
             0.6666666666666666,
             "#ed7953"
            ],
            [
             0.7777777777777778,
             "#fb9f3a"
            ],
            [
             0.8888888888888888,
             "#fdca26"
            ],
            [
             1,
             "#f0f921"
            ]
           ]
          },
          "colorway": [
           "#636efa",
           "#EF553B",
           "#00cc96",
           "#ab63fa",
           "#FFA15A",
           "#19d3f3",
           "#FF6692",
           "#B6E880",
           "#FF97FF",
           "#FECB52"
          ],
          "font": {
           "color": "#2a3f5f"
          },
          "geo": {
           "bgcolor": "white",
           "lakecolor": "white",
           "landcolor": "#E5ECF6",
           "showlakes": true,
           "showland": true,
           "subunitcolor": "white"
          },
          "hoverlabel": {
           "align": "left"
          },
          "hovermode": "closest",
          "mapbox": {
           "style": "light"
          },
          "paper_bgcolor": "white",
          "plot_bgcolor": "#E5ECF6",
          "polar": {
           "angularaxis": {
            "gridcolor": "white",
            "linecolor": "white",
            "ticks": ""
           },
           "bgcolor": "#E5ECF6",
           "radialaxis": {
            "gridcolor": "white",
            "linecolor": "white",
            "ticks": ""
           }
          },
          "scene": {
           "xaxis": {
            "backgroundcolor": "#E5ECF6",
            "gridcolor": "white",
            "gridwidth": 2,
            "linecolor": "white",
            "showbackground": true,
            "ticks": "",
            "zerolinecolor": "white"
           },
           "yaxis": {
            "backgroundcolor": "#E5ECF6",
            "gridcolor": "white",
            "gridwidth": 2,
            "linecolor": "white",
            "showbackground": true,
            "ticks": "",
            "zerolinecolor": "white"
           },
           "zaxis": {
            "backgroundcolor": "#E5ECF6",
            "gridcolor": "white",
            "gridwidth": 2,
            "linecolor": "white",
            "showbackground": true,
            "ticks": "",
            "zerolinecolor": "white"
           }
          },
          "shapedefaults": {
           "line": {
            "color": "#2a3f5f"
           }
          },
          "ternary": {
           "aaxis": {
            "gridcolor": "white",
            "linecolor": "white",
            "ticks": ""
           },
           "baxis": {
            "gridcolor": "white",
            "linecolor": "white",
            "ticks": ""
           },
           "bgcolor": "#E5ECF6",
           "caxis": {
            "gridcolor": "white",
            "linecolor": "white",
            "ticks": ""
           }
          },
          "title": {
           "x": 0.05
          },
          "xaxis": {
           "automargin": true,
           "gridcolor": "white",
           "linecolor": "white",
           "ticks": "",
           "title": {
            "standoff": 15
           },
           "zerolinecolor": "white",
           "zerolinewidth": 2
          },
          "yaxis": {
           "automargin": true,
           "gridcolor": "white",
           "linecolor": "white",
           "ticks": "",
           "title": {
            "standoff": 15
           },
           "zerolinecolor": "white",
           "zerolinewidth": 2
          }
         }
        },
        "xaxis": {
         "title": {
          "text": "WL Depth (mm)"
         }
        },
        "yaxis": {
         "title": {
          "text": "Touchdown Distance"
         }
        }
       }
      }
     },
     "metadata": {},
     "output_type": "display_data"
    }
   ],
   "source": [
    "import plotly.graph_objects as go\n",
    "\n",
    "fig = go.Figure()\n",
    "fig.add_trace(go.Scatter(x=df[\"WL_Depth\"], y=df[\"impact_criterion\"], mode=\"markers\", name=\"Impact Criterion\", marker=dict(color=\"red\")))\n",
    "fig.update_layout(xaxis_title=\"WL Depth (mm)\", yaxis_title=\"Impact Criterion\")\n",
    "fig.show()\n",
    "\n",
    "fig = go.Figure()\n",
    "fig.add_trace(go.Scatter(x=df[\"WL_Depth\"], y=df[\"coupled_criterion\"], mode=\"markers\", name=\"Coupled Criterion\", marker=dict(color=\"blue\")))\n",
    "fig.update_layout(xaxis_title=\"WL Depth (mm)\", yaxis_title=\"Coupled Criterion\")\n",
    "fig.show()\n",
    "\n",
    "fig = go.Figure()\n",
    "fig.add_trace(go.Scatter(x=df[\"WL_Depth\"], y=df[\"sserr_result\"], mode=\"markers\", name=\"SSERR\", marker=dict(color=\"green\")))\n",
    "fig.update_layout(xaxis_title=\"WL Depth (mm)\", yaxis_title=\"SSERR\")\n",
    "fig.show()\n",
    "\n",
    "fig = go.Figure()\n",
    "fig.add_trace(go.Scatter(x=df[\"WL_Depth\"], y=df[\"touchdown_distance\"], mode=\"markers\", name=\"Touchdown Distance\", marker=dict(color=\"yellow\")))\n",
    "fig.update_layout(xaxis_title=\"WL Depth (mm)\", yaxis_title=\"Touchdown Distance\")\n",
    "fig.show()\n"
   ]
  },
  {
   "cell_type": "code",
   "execution_count": 46,
   "id": "6d3d2ca8",
   "metadata": {},
   "outputs": [
    {
     "data": {
      "image/png": "[encoded data removed]",
      "text/plain": [
       "<Figure size 640x480 with 1 Axes>"
      ]
     },
     "metadata": {},
     "output_type": "display_data"
    }
   ],
   "source": [
    "import matplotlib.pyplot as plt\n",
    "\n",
    "# Bin wl depths according to 10 mm intervals\n",
    "wl_depths = df[\"WL_Depth\"]\n",
    "max_wl_depth = max(wl_depths)\n",
    "min_wl_depth = min(wl_depths)\n",
    "\n",
    "# Create bins\n",
    "bin_width = 50\n",
    "bins = np.arange(min_wl_depth, max_wl_depth + bin_width, bin_width)\n",
    "\n",
    "# Use matplotlib's histogram which handles this automatically\n",
    "plt.hist(wl_depths, bins=bins, edgecolor='black', alpha=0.7)\n",
    "plt.xlabel(\"WL Depth (mm)\")\n",
    "plt.ylabel(\"Number of Pits\")\n",
    "plt.title(\"Number of Pits in Each WL Depth Bin\")\n",
    "plt.show()"
   ]
  }
 ],
 "metadata": {
  "kernelspec": {
   "display_name": "weac",
   "language": "python",
   "name": "python3"
  },
  "language_info": {
   "codemirror_mode": {
    "name": "ipython",
    "version": 3
   },
   "file_extension": ".py",
   "mimetype": "text/x-python",
   "name": "python",
   "nbconvert_exporter": "python",
   "pygments_lexer": "ipython3",
   "version": "3.10.18"
  }
 },
 "nbformat": 4,
 "nbformat_minor": 5
}
