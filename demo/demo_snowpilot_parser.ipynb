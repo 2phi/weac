{
 "cells": [
  {
   "cell_type": "markdown",
   "id": "81dea804",
   "metadata": {},
   "source": [
    "# Parameterization: $\\rho \\rightarrow G_{Ic}$"
   ]
  },
  {
   "cell_type": "code",
   "execution_count": 1,
   "id": "45811f95",
   "metadata": {},
   "outputs": [],
   "source": [
    "# Auto reload modules\n",
    "%load_ext autoreload\n",
    "%autoreload all"
   ]
  },
  {
   "cell_type": "code",
   "execution_count": 5,
   "id": "05122947",
   "metadata": {},
   "outputs": [
    {
     "name": "stdout",
     "output_type": "stream",
     "text": [
      "weak_layer=WeakLayer(rho=137.0, h=10.0, nu=0.25, collapse_height=3.4001934248981445, E=1.515947056821604, G=0.6063788227286416, kn=0.16170101939430442, kt=0.060637882272864166, G_c=1.0, G_Ic=0.56, G_IIc=0.79, sigma_c=6.16, tau_c=5.09, E_method='bergfeld') layers=[Layer(rho=191.0, h=220.0, nu=0.25, E=6.541244078383098, G=2.6164976313532393, tensile_strength=5.225143393751576, tensile_strength_method='sigrist', E_method='bergfeld'), Layer(rho=137.0, h=70.0, nu=0.25, E=1.515947056821604, G=0.6063788227286416, tensile_strength=2.3226029915382136, tensile_strength_method='sigrist', E_method='bergfeld')] scenario_config=ScenarioConfig(phi=18.0, system_type='skier', crack_length=0.0, stiffness_ratio=1000, surface_load=0.0) segments=[Segment(length=1000.0, has_foundation=True, m=0.0), Segment(length=1000.0, has_foundation=True, m=0.0)]\n"
     ]
    }
   ],
   "source": [
    "from weac_2.utils.snowpilot_parser import SnowPilotParser\n",
    "\n",
    "file_path = \"data/Cairn Gully-10-Jun.caaml\"\n",
    "snowpit_parser = SnowPilotParser(file_path)\n",
    "model_inputs = snowpit_parser.run()\n",
    "\n",
    "for model_input in model_inputs:\n",
    "    print(model_input)"
   ]
  },
  {
   "cell_type": "markdown",
   "id": "46aa1a1d",
   "metadata": {},
   "source": [
    "---\n",
    "## Extract all PSTs\n",
    "\n",
    "From the large dataset provided by `snowpylot` extract all available PSTs."
   ]
  },
  {
   "cell_type": "code",
   "execution_count": null,
   "id": "57779e47",
   "metadata": {},
   "outputs": [],
   "source": []
  }
 ],
 "metadata": {
  "kernelspec": {
   "display_name": "weac",
   "language": "python",
   "name": "python3"
  },
  "language_info": {
   "codemirror_mode": {
    "name": "ipython",
    "version": 3
   },
   "file_extension": ".py",
   "mimetype": "text/x-python",
   "name": "python",
   "nbconvert_exporter": "python",
   "pygments_lexer": "ipython3",
   "version": "3.10.18"
  }
 },
 "nbformat": 4,
 "nbformat_minor": 5
}
