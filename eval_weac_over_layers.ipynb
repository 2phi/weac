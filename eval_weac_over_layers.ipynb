{
 "cells": [
  {
   "cell_type": "markdown",
   "id": "b89b0130",
   "metadata": {},
   "source": [
    "# Eval WEAC\n",
    "\n",
    "Initialize models, run over a resolution of 5cm with a standardized weak layer.\n"
   ]
  },
  {
   "cell_type": "code",
   "execution_count": 7,
   "id": "702d9bf5",
   "metadata": {},
   "outputs": [
    {
     "name": "stdout",
     "output_type": "stream",
     "text": [
      "The autoreload extension is already loaded. To reload it, use:\n",
      "  %reload_ext autoreload\n"
     ]
    }
   ],
   "source": [
    "# Auto reload modules\n",
    "%load_ext autoreload\n",
    "%autoreload all"
   ]
  },
  {
   "cell_type": "code",
   "execution_count": 8,
   "id": "1e07d9a5",
   "metadata": {},
   "outputs": [],
   "source": [
    "import os\n",
    "from typing import List\n",
    "import numpy as np\n",
    "from numpy.linalg import LinAlgError\n",
    "import pandas as pd\n",
    "from pprint import pprint\n",
    "import copy\n",
    "from tqdm.notebook import tqdm\n",
    "\n",
    "from weac_2.analysis import Analyzer, CriteriaEvaluator, CoupledCriterionResult, SSERRResult\n",
    "from weac_2.core.system_model import SystemModel\n",
    "from weac_2.components import ModelInput, Segment, ScenarioConfig, WeakLayer, Layer, CriteriaConfig\n",
    "from weac_2.utils.snowpilot_parser import SnowPilotParser, convert_to_mm, convert_to_deg"
   ]
  },
  {
   "cell_type": "code",
   "execution_count": 9,
   "id": "ca4092ad",
   "metadata": {},
   "outputs": [
    {
     "name": "stdout",
     "output_type": "stream",
     "text": [
      "\n",
      "Found 100 files\n"
     ]
    }
   ],
   "source": [
    "number_of_files = 100\n",
    "\n",
    "# Process multiple files\n",
    "file_paths = []\n",
    "for directory in os.listdir(\"data/snowpits\"):\n",
    "    for file in os.listdir(f\"data/snowpits/{directory}\"):\n",
    "        if file.endswith(\".xml\"):\n",
    "            file_paths.append(f\"data/snowpits/{directory}/{file}\")\n",
    "\n",
    "paths: List[str] = []\n",
    "parsers: List[SnowPilotParser] = []\n",
    "\n",
    "for file_path in file_paths[:number_of_files]:\n",
    "    snowpilot_parser = SnowPilotParser(file_path)\n",
    "    paths.append(file_path)\n",
    "    parsers.append(snowpilot_parser)\n",
    "\n",
    "print(f\"\\nFound {len(paths)} files\")"
   ]
  },
  {
   "cell_type": "code",
   "execution_count": null,
   "id": "1c50535a",
   "metadata": {},
   "outputs": [],
   "source": [
    "# Setup standard values\n",
    "wl_spacing = 50 # mm\n",
    "phi = 0.0\n",
    "standard_scenario_config = ScenarioConfig(system_type=\"skier\", phi=phi)\n",
    "standard_weak_layer = WeakLayer(rho=125, h=20, E=1.0, sigma_c=6.16, tau_c=5.09)\n",
    "standard_segments = [\n",
    "    Segment(length=10000, has_foundation=True, m=0.0),\n",
    "    Segment(\n",
    "        length=10000,\n",
    "        has_foundation=True,\n",
    "        m=0.0,\n",
    "    ),\n",
    "]\n",
    "standard_criteria_config = CriteriaConfig()\n",
    "standard_criteria_evaluator = CriteriaEvaluator(standard_criteria_config)"
   ]
  },
  {
   "cell_type": "code",
   "execution_count": 11,
   "id": "29a5c086",
   "metadata": {},
   "outputs": [
    {
     "data": {
      "application/vnd.jupyter.widget-view+json": {
       "model_id": "9833fe860a214adf92a5b475ebda8d55",
       "version_major": 2,
       "version_minor": 0
      },
      "text/plain": [
       "Processing files:   0%|          | 0/1 [00:00<?, ?it/s]"
      ]
     },
     "metadata": {},
     "output_type": "display_data"
    },
    {
     "name": "stdout",
     "output_type": "stream",
     "text": [
      "layers:  [Layer(rho=101.0, h=100.0, nu=0.25, E=0.3963944665536936, G=0.15855778662147743, tensile_strength=1.103877672602255, tensile_strength_method='sigrist', E_method='bergfeld', grain_type='DF', grain_size=None, hand_hardness='F'), Layer(rho=173.0, h=170.0, nu=0.25, E=4.231714820461142, G=1.6926859281844568, tensile_strength=4.1040183019389715, tensile_strength_method='sigrist', E_method='bergfeld', grain_type='DF', grain_size=None, hand_hardness='1F'), Layer(rho=137.0, h=30.0, nu=0.25, E=1.515947056821604, G=0.6063788227286416, tensile_strength=2.3226029915382136, tensile_strength_method='sigrist', E_method='bergfeld', grain_type='DF', grain_size=None, hand_hardness='4F'), Layer(rho=209.0, h=300.0, nu=0.25, E=9.722035388607377, G=3.888814155442951, tensile_strength=6.509291720550219, tensile_strength_method='sigrist', E_method='bergfeld', grain_type='DF', grain_size=None, hand_hardness='P'), Layer(rho=163.7, h=20.0, nu=0.25, E=3.318392308727041, G=1.3273569234908165, tensile_strength=3.586373980194787, tensile_strength_method='sigrist', E_method='bergfeld', grain_type=None, grain_size=None, hand_hardness='4F+'), Layer(rho=292.25, h=2380.0, nu=0.25, E=42.50435458798165, G=17.00174183519266, tensile_strength=14.750876454728399, tensile_strength_method='sigrist', E_method='bergfeld', grain_type='MFcr', grain_size=None, hand_hardness='P+')]\n"
     ]
    },
    {
     "data": {
      "application/vnd.jupyter.widget-view+json": {
       "model_id": "d7c2980540744b879edfc2da0ae349a7",
       "version_major": 2,
       "version_minor": 0
      },
      "text/plain": [
       "Processing weak layers:   0%|          | 0/60 [00:00<?, ?it/s]"
      ]
     },
     "metadata": {},
     "output_type": "display_data"
    },
    {
     "name": "stdout",
     "output_type": "stream",
     "text": [
      "--- find_minimum_force Call Statistics ---\n",
      "- rasterize_solution: called 16 times, total time 0.9895s, avg time 0.0618s\n",
      "---------------------------------\n",
      "--- evaluate_coupled_criterion Call Statistics ---\n",
      "- rasterize_solution: called 12 times, total time 0.7401s, avg time 0.0617s\n",
      "- incremental_ERR: called 13 times, total time 0.0893s, avg time 0.0069s\n",
      "---------------------------------\n",
      "sserr_result:  SSERRResult(converged=True, message='SSERR evaluation successful.', touchdown_distance=340.9303286056396, SSERR=0.2801979593274234)\n",
      "\n",
      "wl_depth:  50.0\n",
      "ImpactCriterion:  10.633684636007157\n",
      "CoupledCriterion:  17.144713622886936\n",
      "Touchdown distance:  340.9303286056396\n",
      "SSERR:  0.2801979593274234\n",
      "--- find_minimum_force Call Statistics ---\n",
      "- rasterize_solution: called 15 times, total time 0.8871s, avg time 0.0591s\n",
      "---------------------------------\n",
      "--- evaluate_coupled_criterion Call Statistics ---\n",
      "- rasterize_solution: called 13 times, total time 0.7718s, avg time 0.0594s\n",
      "- incremental_ERR: called 14 times, total time 0.0911s, avg time 0.0065s\n",
      "---------------------------------\n",
      "sserr_result:  SSERRResult(converged=True, message='SSERR evaluation successful.', touchdown_distance=456.3921355891057, SSERR=0.5348932605163854)\n",
      "\n",
      "wl_depth:  100.0\n",
      "ImpactCriterion:  15.486285410764427\n",
      "CoupledCriterion:  24.156506879366\n",
      "Touchdown distance:  456.3921355891057\n",
      "SSERR:  0.5348932605163854\n",
      "--- find_minimum_force Call Statistics ---\n",
      "- rasterize_solution: called 14 times, total time 0.9225s, avg time 0.0659s\n",
      "---------------------------------\n",
      "--- evaluate_coupled_criterion Call Statistics ---\n",
      "- rasterize_solution: called 14 times, total time 0.9515s, avg time 0.0680s\n",
      "- incremental_ERR: called 15 times, total time 0.1047s, avg time 0.0070s\n",
      "---------------------------------\n",
      "sserr_result:  SSERRResult(converged=True, message='SSERR evaluation successful.', touchdown_distance=685.7572374207093, SSERR=0.8502275046110237)\n",
      "\n",
      "wl_depth:  150.0\n",
      "ImpactCriterion:  37.193159952197284\n",
      "CoupledCriterion:  54.63723776910824\n",
      "Touchdown distance:  685.7572374207093\n",
      "SSERR:  0.8502275046110237\n",
      "--- find_minimum_force Call Statistics ---\n",
      "- rasterize_solution: called 13 times, total time 0.8919s, avg time 0.0686s\n",
      "---------------------------------\n",
      "--- evaluate_coupled_criterion Call Statistics ---\n",
      "- rasterize_solution: called 14 times, total time 0.9175s, avg time 0.0655s\n",
      "- incremental_ERR: called 15 times, total time 0.0985s, avg time 0.0066s\n",
      "---------------------------------\n",
      "sserr_result:  SSERRResult(converged=True, message='SSERR evaluation successful.', touchdown_distance=794.9664493571424, SSERR=1.2313439573192637)\n",
      "\n",
      "wl_depth:  200.0\n",
      "ImpactCriterion:  49.3965741902698\n",
      "CoupledCriterion:  72.38349791824021\n",
      "Touchdown distance:  794.9664493571424\n",
      "SSERR:  1.2313439573192637\n",
      "--- find_minimum_force Call Statistics ---\n",
      "- rasterize_solution: called 12 times, total time 0.7662s, avg time 0.0638s\n",
      "---------------------------------\n",
      "--- evaluate_coupled_criterion Call Statistics ---\n",
      "- rasterize_solution: called 6 times, total time 0.3878s, avg time 0.0646s\n",
      "- incremental_ERR: called 7 times, total time 0.0481s, avg time 0.0069s\n",
      "---------------------------------\n",
      "sserr_result:  SSERRResult(converged=True, message='SSERR evaluation successful.', touchdown_distance=905.856950452892, SSERR=1.6163200282825412)\n",
      "\n",
      "wl_depth:  250.0\n",
      "ImpactCriterion:  59.119723534201185\n",
      "CoupledCriterion:  87.09998018812233\n",
      "Touchdown distance:  905.856950452892\n",
      "SSERR:  1.6163200282825412\n",
      "--- find_minimum_force Call Statistics ---\n",
      "- rasterize_solution: called 12 times, total time 0.7655s, avg time 0.0638s\n",
      "---------------------------------\n",
      "--- evaluate_coupled_criterion Call Statistics ---\n",
      "- rasterize_solution: called 14 times, total time 0.9036s, avg time 0.0645s\n",
      "- incremental_ERR: called 15 times, total time 0.0967s, avg time 0.0064s\n",
      "---------------------------------\n",
      "sserr_result:  SSERRResult(converged=True, message='SSERR evaluation successful.', touchdown_distance=955.4715447227535, SSERR=1.9698974869466237)\n",
      "\n",
      "wl_depth:  300.0\n",
      "ImpactCriterion:  64.34418910217849\n",
      "CoupledCriterion:  95.54252012251303\n",
      "Touchdown distance:  955.4715447227535\n",
      "SSERR:  1.9698974869466237\n",
      "--- find_minimum_force Call Statistics ---\n",
      "- rasterize_solution: called 12 times, total time 0.7705s, avg time 0.0642s\n",
      "---------------------------------\n",
      "--- evaluate_coupled_criterion Call Statistics ---\n",
      "- rasterize_solution: called 14 times, total time 0.9205s, avg time 0.0658s\n",
      "- incremental_ERR: called 15 times, total time 0.0989s, avg time 0.0066s\n",
      "---------------------------------\n",
      "sserr_result:  SSERRResult(converged=True, message='SSERR evaluation successful.', touchdown_distance=1184.087316410105, SSERR=2.3917003708574227)\n",
      "\n",
      "wl_depth:  350.0\n",
      "ImpactCriterion:  79.64866952638313\n",
      "CoupledCriterion:  118.55901830583107\n",
      "Touchdown distance:  1184.087316410105\n",
      "SSERR:  2.3917003708574227\n",
      "--- find_minimum_force Call Statistics ---\n",
      "- rasterize_solution: called 12 times, total time 0.7687s, avg time 0.0641s\n",
      "---------------------------------\n",
      "--- evaluate_coupled_criterion Call Statistics ---\n",
      "- rasterize_solution: called 15 times, total time 0.9803s, avg time 0.0654s\n",
      "- incremental_ERR: called 16 times, total time 0.1083s, avg time 0.0068s\n",
      "---------------------------------\n",
      "sserr_result:  SSERRResult(converged=True, message='SSERR evaluation successful.', touchdown_distance=1293.5237515073652, SSERR=2.8384429121821686)\n",
      "\n",
      "wl_depth:  400.0\n",
      "ImpactCriterion:  90.98318960467856\n",
      "CoupledCriterion:  135.62489901559647\n",
      "Touchdown distance:  1293.5237515073652\n",
      "SSERR:  2.8384429121821686\n",
      "--- find_minimum_force Call Statistics ---\n",
      "- rasterize_solution: called 11 times, total time 0.7603s, avg time 0.0691s\n",
      "---------------------------------\n",
      "--- evaluate_coupled_criterion Call Statistics ---\n",
      "- rasterize_solution: called 12 times, total time 0.8100s, avg time 0.0675s\n",
      "- incremental_ERR: called 13 times, total time 0.0866s, avg time 0.0067s\n",
      "---------------------------------\n",
      "sserr_result:  SSERRResult(converged=True, message='SSERR evaluation successful.', touchdown_distance=1377.500708897982, SSERR=3.2920045127556627)\n",
      "\n",
      "wl_depth:  450.0\n",
      "ImpactCriterion:  100.16821851826155\n",
      "CoupledCriterion:  149.7747190597015\n",
      "Touchdown distance:  1377.500708897982\n",
      "SSERR:  3.2920045127556627\n",
      "--- find_minimum_force Call Statistics ---\n",
      "- rasterize_solution: called 11 times, total time 0.7793s, avg time 0.0708s\n",
      "---------------------------------\n",
      "--- evaluate_coupled_criterion Call Statistics ---\n",
      "- rasterize_solution: called 13 times, total time 0.9426s, avg time 0.0725s\n",
      "- incremental_ERR: called 14 times, total time 0.1072s, avg time 0.0077s\n",
      "---------------------------------\n",
      "sserr_result:  SSERRResult(converged=True, message='SSERR evaluation successful.', touchdown_distance=1451.9476817521809, SSERR=3.748376303056169)\n",
      "\n",
      "wl_depth:  500.0\n",
      "ImpactCriterion:  107.86822575248934\n",
      "CoupledCriterion:  161.94573279114178\n",
      "Touchdown distance:  1451.9476817521809\n",
      "SSERR:  3.748376303056169\n",
      "--- find_minimum_force Call Statistics ---\n",
      "- rasterize_solution: called 11 times, total time 0.7804s, avg time 0.0709s\n",
      "---------------------------------\n",
      "--- evaluate_coupled_criterion Call Statistics ---\n",
      "- rasterize_solution: called 14 times, total time 0.9401s, avg time 0.0672s\n",
      "- incremental_ERR: called 15 times, total time 0.1020s, avg time 0.0068s\n",
      "---------------------------------\n",
      "sserr_result:  SSERRResult(converged=True, message='SSERR evaluation successful.', touchdown_distance=1521.2583942394156, SSERR=4.206031982637832)\n",
      "\n",
      "wl_depth:  550.0\n",
      "ImpactCriterion:  114.41209971974278\n",
      "CoupledCriterion:  172.5376223072813\n",
      "Touchdown distance:  1521.2583942394156\n",
      "SSERR:  4.206031982637832\n",
      "--- find_minimum_force Call Statistics ---\n",
      "- rasterize_solution: called 11 times, total time 0.7960s, avg time 0.0724s\n",
      "---------------------------------\n",
      "--- evaluate_coupled_criterion Call Statistics ---\n",
      "- rasterize_solution: called 13 times, total time 0.9390s, avg time 0.0722s\n",
      "- incremental_ERR: called 14 times, total time 0.1036s, avg time 0.0074s\n",
      "---------------------------------\n",
      "sserr_result:  SSERRResult(converged=True, message='SSERR evaluation successful.', touchdown_distance=1586.8275809911938, SSERR=4.664211604332358)\n",
      "\n",
      "wl_depth:  600.0\n",
      "ImpactCriterion:  119.987617165656\n",
      "CoupledCriterion:  181.8968042515056\n",
      "Touchdown distance:  1586.8275809911938\n",
      "SSERR:  4.664211604332358\n",
      "--- find_minimum_force Call Statistics ---\n",
      "- rasterize_solution: called 10 times, total time 0.6616s, avg time 0.0662s\n",
      "---------------------------------\n",
      "--- evaluate_coupled_criterion Call Statistics ---\n",
      "- rasterize_solution: called 12 times, total time 0.7838s, avg time 0.0653s\n",
      "- incremental_ERR: called 13 times, total time 0.0849s, avg time 0.0065s\n",
      "---------------------------------\n",
      "sserr_result:  SSERRResult(converged=True, message='SSERR evaluation successful.', touchdown_distance=1791.9995605314436, SSERR=5.139421385592846)\n",
      "\n",
      "wl_depth:  650.0\n",
      "ImpactCriterion:  135.24201577352832\n",
      "CoupledCriterion:  205.51668596686434\n",
      "Touchdown distance:  1791.9995605314436\n",
      "SSERR:  5.139421385592846\n",
      "--- find_minimum_force Call Statistics ---\n",
      "- rasterize_solution: called 10 times, total time 0.6382s, avg time 0.0638s\n",
      "---------------------------------\n",
      "--- evaluate_coupled_criterion Call Statistics ---\n",
      "- rasterize_solution: called 14 times, total time 0.9336s, avg time 0.0667s\n",
      "- incremental_ERR: called 15 times, total time 0.1001s, avg time 0.0067s\n",
      "---------------------------------\n",
      "sserr_result:  SSERRResult(converged=True, message='SSERR evaluation successful.', touchdown_distance=1965.075447234066, SSERR=5.730822389942306)\n",
      "\n",
      "wl_depth:  700.0\n",
      "ImpactCriterion:  152.8914877489275\n",
      "CoupledCriterion:  231.87108328772632\n",
      "Touchdown distance:  1965.075447234066\n",
      "SSERR:  5.730822389942306\n",
      "--- find_minimum_force Call Statistics ---\n",
      "- rasterize_solution: called 10 times, total time 0.6507s, avg time 0.0651s\n",
      "---------------------------------\n",
      "--- evaluate_coupled_criterion Call Statistics ---\n",
      "- rasterize_solution: called 13 times, total time 0.8766s, avg time 0.0674s\n",
      "- incremental_ERR: called 14 times, total time 0.0969s, avg time 0.0069s\n",
      "---------------------------------\n",
      "sserr_result:  SSERRResult(converged=True, message='SSERR evaluation successful.', touchdown_distance=2072.514794576522, SSERR=6.342002793522919)\n",
      "\n",
      "wl_depth:  750.0\n",
      "ImpactCriterion:  165.22723745687617\n",
      "CoupledCriterion:  250.47840084379027\n",
      "Touchdown distance:  2072.514794576522\n",
      "SSERR:  6.342002793522919\n",
      "--- find_minimum_force Call Statistics ---\n",
      "- rasterize_solution: called 10 times, total time 0.6634s, avg time 0.0663s\n",
      "---------------------------------\n",
      "--- evaluate_coupled_criterion Call Statistics ---\n",
      "- rasterize_solution: called 11 times, total time 0.7266s, avg time 0.0661s\n",
      "- incremental_ERR: called 12 times, total time 0.0825s, avg time 0.0069s\n",
      "---------------------------------\n",
      "sserr_result:  SSERRResult(converged=True, message='SSERR evaluation successful.', touchdown_distance=2156.5253076297317, SSERR=6.959859725591557)\n",
      "\n",
      "wl_depth:  800.0\n",
      "ImpactCriterion:  174.14658685555847\n",
      "CoupledCriterion:  264.2121744197865\n",
      "Touchdown distance:  2156.5253076297317\n",
      "SSERR:  6.959859725591557\n",
      "--- find_minimum_force Call Statistics ---\n",
      "- rasterize_solution: called 10 times, total time 0.6628s, avg time 0.0663s\n",
      "---------------------------------\n",
      "--- evaluate_coupled_criterion Call Statistics ---\n",
      "- rasterize_solution: called 14 times, total time 0.9271s, avg time 0.0662s\n",
      "- incremental_ERR: called 15 times, total time 0.1015s, avg time 0.0068s\n",
      "---------------------------------\n",
      "sserr_result:  SSERRResult(converged=True, message='SSERR evaluation successful.', touchdown_distance=2231.0080991626305, SSERR=7.580567032402083)\n",
      "\n",
      "wl_depth:  850.0\n",
      "ImpactCriterion:  180.61078507456187\n",
      "CoupledCriterion:  274.79042446331096\n",
      "Touchdown distance:  2231.0080991626305\n",
      "SSERR:  7.580567032402083\n",
      "--- find_minimum_force Call Statistics ---\n",
      "- rasterize_solution: called 10 times, total time 0.6470s, avg time 0.0647s\n",
      "---------------------------------\n",
      "--- evaluate_coupled_criterion Call Statistics ---\n",
      "- rasterize_solution: called 14 times, total time 0.9493s, avg time 0.0678s\n",
      "- incremental_ERR: called 15 times, total time 0.1089s, avg time 0.0073s\n",
      "---------------------------------\n",
      "sserr_result:  SSERRResult(converged=True, message='SSERR evaluation successful.', touchdown_distance=2301.605808134264, SSERR=8.20256689269236)\n",
      "\n",
      "wl_depth:  900.0\n",
      "ImpactCriterion:  185.1565700221307\n",
      "CoupledCriterion:  282.83558854634833\n",
      "Touchdown distance:  2301.605808134264\n",
      "SSERR:  8.20256689269236\n",
      "--- find_minimum_force Call Statistics ---\n",
      "- rasterize_solution: called 9 times, total time 0.6107s, avg time 0.0679s\n",
      "---------------------------------\n",
      "--- evaluate_coupled_criterion Call Statistics ---\n",
      "- rasterize_solution: called 13 times, total time 0.8706s, avg time 0.0670s\n",
      "- incremental_ERR: called 14 times, total time 0.0977s, avg time 0.0070s\n",
      "---------------------------------\n",
      "sserr_result:  SSERRResult(converged=True, message='SSERR evaluation successful.', touchdown_distance=2370.7359795420443, SSERR=8.825079900095483)\n",
      "\n",
      "wl_depth:  950.0\n",
      "ImpactCriterion:  188.0996984490077\n",
      "CoupledCriterion:  288.82235692232325\n",
      "Touchdown distance:  2370.7359795420443\n",
      "SSERR:  8.825079900095483\n",
      "--- find_minimum_force Call Statistics ---\n",
      "- rasterize_solution: called 9 times, total time 0.5814s, avg time 0.0646s\n",
      "---------------------------------\n",
      "--- evaluate_coupled_criterion Call Statistics ---\n",
      "- rasterize_solution: called 13 times, total time 0.9487s, avg time 0.0730s\n",
      "- incremental_ERR: called 14 times, total time 0.1044s, avg time 0.0075s\n",
      "---------------------------------\n",
      "sserr_result:  SSERRResult(converged=True, message='SSERR evaluation successful.', touchdown_distance=2439.4004525660976, SSERR=9.447658244013775)\n",
      "\n",
      "wl_depth:  1000.0\n",
      "ImpactCriterion:  189.63404308491474\n",
      "CoupledCriterion:  293.0283475844342\n",
      "Touchdown distance:  2439.4004525660976\n",
      "SSERR:  9.447658244013775\n",
      "--- find_minimum_force Call Statistics ---\n",
      "- rasterize_solution: called 9 times, total time 0.6098s, avg time 0.0678s\n",
      "---------------------------------\n",
      "--- evaluate_coupled_criterion Call Statistics ---\n",
      "- rasterize_solution: called 11 times, total time 0.7133s, avg time 0.0648s\n",
      "- incremental_ERR: called 12 times, total time 0.0785s, avg time 0.0065s\n",
      "---------------------------------\n",
      "sserr_result:  SSERRResult(converged=True, message='SSERR evaluation successful.', touchdown_distance=2507.963887908616, SSERR=10.070020130358609)\n",
      "\n",
      "wl_depth:  1050.0\n",
      "ImpactCriterion:  189.88825887433524\n",
      "CoupledCriterion:  295.50525817430787\n",
      "Touchdown distance:  2507.963887908616\n",
      "SSERR:  10.070020130358609\n",
      "--- find_minimum_force Call Statistics ---\n",
      "- rasterize_solution: called 9 times, total time 0.5848s, avg time 0.0650s\n",
      "---------------------------------\n",
      "--- evaluate_coupled_criterion Call Statistics ---\n",
      "- rasterize_solution: called 12 times, total time 0.8025s, avg time 0.0669s\n",
      "- incremental_ERR: called 13 times, total time 0.0862s, avg time 0.0066s\n",
      "---------------------------------\n",
      "sserr_result:  SSERRResult(converged=True, message='SSERR evaluation successful.', touchdown_distance=2576.5193547205145, SSERR=10.691978059721649)\n",
      "\n",
      "wl_depth:  1100.0\n",
      "ImpactCriterion:  188.94957679461635\n",
      "CoupledCriterion:  296.3486823136402\n",
      "Touchdown distance:  2576.5193547205145\n",
      "SSERR:  10.691978059721649\n",
      "--- find_minimum_force Call Statistics ---\n",
      "- rasterize_solution: called 9 times, total time 0.5839s, avg time 0.0649s\n",
      "---------------------------------\n",
      "--- evaluate_coupled_criterion Call Statistics ---\n",
      "- rasterize_solution: called 13 times, total time 0.9579s, avg time 0.0737s\n",
      "- incremental_ERR: called 14 times, total time 0.1038s, avg time 0.0074s\n",
      "---------------------------------\n",
      "sserr_result:  SSERRResult(converged=True, message='SSERR evaluation successful.', touchdown_distance=2645.064874182861, SSERR=11.313405201924766)\n",
      "\n",
      "wl_depth:  1150.0\n",
      "ImpactCriterion:  186.8843238785505\n",
      "CoupledCriterion:  295.6164614517516\n",
      "Touchdown distance:  2645.064874182861\n",
      "SSERR:  11.313405201924766\n",
      "--- find_minimum_force Call Statistics ---\n",
      "- rasterize_solution: called 9 times, total time 0.6165s, avg time 0.0685s\n",
      "---------------------------------\n",
      "--- evaluate_coupled_criterion Call Statistics ---\n",
      "- rasterize_solution: called 13 times, total time 0.8949s, avg time 0.0688s\n",
      "- incremental_ERR: called 14 times, total time 0.1005s, avg time 0.0072s\n",
      "---------------------------------\n",
      "sserr_result:  SSERRResult(converged=True, message='SSERR evaluation successful.', touchdown_distance=2713.5869054860173, SSERR=11.934221523447787)\n",
      "\n",
      "wl_depth:  1200.0\n",
      "ImpactCriterion:  183.74575354476667\n",
      "CoupledCriterion:  293.3407198353696\n",
      "Touchdown distance:  2713.5869054860173\n",
      "SSERR:  11.934221523447787\n",
      "--- find_minimum_force Call Statistics ---\n",
      "- rasterize_solution: called 9 times, total time 0.5786s, avg time 0.0643s\n",
      "---------------------------------\n",
      "--- evaluate_coupled_criterion Call Statistics ---\n",
      "- rasterize_solution: called 12 times, total time 0.7739s, avg time 0.0645s\n",
      "- incremental_ERR: called 13 times, total time 0.0843s, avg time 0.0065s\n",
      "---------------------------------\n",
      "sserr_result:  SSERRResult(converged=True, message='SSERR evaluation successful.', touchdown_distance=2782.096581025633, SSERR=12.554392962804656)\n",
      "\n",
      "wl_depth:  1250.0\n",
      "ImpactCriterion:  179.57908167567288\n",
      "CoupledCriterion:  289.53575673714033\n",
      "Touchdown distance:  2782.096581025633\n",
      "SSERR:  12.554392962804656\n",
      "--- find_minimum_force Call Statistics ---\n",
      "- rasterize_solution: called 9 times, total time 0.5788s, avg time 0.0643s\n",
      "---------------------------------\n",
      "--- evaluate_coupled_criterion Call Statistics ---\n",
      "- rasterize_solution: called 4 times, total time 0.2664s, avg time 0.0666s\n",
      "- incremental_ERR: called 5 times, total time 0.0347s, avg time 0.0069s\n",
      "---------------------------------\n",
      "sserr_result:  SSERRResult(converged=True, message='SSERR evaluation successful.', touchdown_distance=2850.6420119705667, SSERR=13.173940435615343)\n",
      "\n",
      "wl_depth:  1300.0\n",
      "ImpactCriterion:  174.4242407220811\n",
      "CoupledCriterion:  284.2024972265409\n",
      "Touchdown distance:  2850.6420119705667\n",
      "SSERR:  13.173940435615343\n",
      "--- find_minimum_force Call Statistics ---\n",
      "- rasterize_solution: called 9 times, total time 0.5963s, avg time 0.0663s\n",
      "---------------------------------\n",
      "--- evaluate_coupled_criterion Call Statistics ---\n",
      "- rasterize_solution: called 13 times, total time 0.8583s, avg time 0.0660s\n",
      "- incremental_ERR: called 14 times, total time 0.0961s, avg time 0.0069s\n",
      "---------------------------------\n",
      "sserr_result:  SSERRResult(converged=True, message='SSERR evaluation successful.', touchdown_distance=2919.3089897701307, SSERR=13.792956357266434)\n",
      "\n",
      "wl_depth:  1350.0\n",
      "ImpactCriterion:  168.31757375372055\n",
      "CoupledCriterion:  277.3313515722481\n",
      "Touchdown distance:  2919.3089897701307\n",
      "SSERR:  13.792956357266434\n",
      "--- find_minimum_force Call Statistics ---\n",
      "- rasterize_solution: called 9 times, total time 0.5779s, avg time 0.0642s\n",
      "---------------------------------\n",
      "--- evaluate_coupled_criterion Call Statistics ---\n",
      "- rasterize_solution: called 13 times, total time 0.8768s, avg time 0.0674s\n",
      "- incremental_ERR: called 14 times, total time 0.0957s, avg time 0.0068s\n",
      "---------------------------------\n",
      "sserr_result:  SSERRResult(converged=True, message='SSERR evaluation successful.', touchdown_distance=2985.292108201615, SSERR=14.411030700336406)\n",
      "\n",
      "wl_depth:  1400.0\n",
      "ImpactCriterion:  161.29242669836052\n",
      "CoupledCriterion:  268.90333940498766\n",
      "Touchdown distance:  2985.292108201615\n",
      "SSERR:  14.411030700336406\n",
      "--- find_minimum_force Call Statistics ---\n",
      "- rasterize_solution: called 9 times, total time 0.6586s, avg time 0.0732s\n",
      "---------------------------------\n",
      "--- evaluate_coupled_criterion Call Statistics ---\n",
      "- rasterize_solution: called 9 times, total time 0.6550s, avg time 0.0728s\n",
      "- incremental_ERR: called 10 times, total time 0.0774s, avg time 0.0077s\n",
      "---------------------------------\n",
      "sserr_result:  SSERRResult(converged=True, message='SSERR evaluation successful.', touchdown_distance=3036.698791924795, SSERR=15.025263420827875)\n",
      "\n",
      "wl_depth:  1450.0\n",
      "ImpactCriterion:  153.3798895202211\n",
      "CoupledCriterion:  258.89147328568407\n",
      "Touchdown distance:  3036.698791924795\n",
      "SSERR:  15.025263420827875\n",
      "--- find_minimum_force Call Statistics ---\n",
      "- rasterize_solution: called 9 times, total time 0.5808s, avg time 0.0645s\n",
      "---------------------------------\n",
      "--- evaluate_coupled_criterion Call Statistics ---\n",
      "- rasterize_solution: called 13 times, total time 0.8462s, avg time 0.0651s\n",
      "- incremental_ERR: called 14 times, total time 0.0909s, avg time 0.0065s\n",
      "---------------------------------\n",
      "sserr_result:  SSERRResult(converged=True, message='SSERR evaluation successful.', touchdown_distance=3085.9455925240027, SSERR=15.637577998519358)\n",
      "\n",
      "wl_depth:  1500.0\n",
      "ImpactCriterion:  144.6090333226412\n",
      "CoupledCriterion:  247.43767134022542\n",
      "Touchdown distance:  3085.9455925240027\n",
      "SSERR:  15.637577998519358\n",
      "--- find_minimum_force Call Statistics ---\n",
      "- rasterize_solution: called 9 times, total time 0.5768s, avg time 0.0641s\n",
      "---------------------------------\n",
      "--- evaluate_coupled_criterion Call Statistics ---\n",
      "- rasterize_solution: called 14 times, total time 0.9170s, avg time 0.0655s\n",
      "- incremental_ERR: called 15 times, total time 0.0993s, avg time 0.0066s\n",
      "---------------------------------\n",
      "sserr_result:  SSERRResult(converged=True, message='SSERR evaluation successful.', touchdown_distance=3132.989733073824, SSERR=16.24773177119566)\n",
      "\n",
      "wl_depth:  1550.0\n",
      "ImpactCriterion:  135.0071200534617\n",
      "CoupledCriterion:  234.21848327902794\n",
      "Touchdown distance:  3132.989733073824\n",
      "SSERR:  16.24773177119566\n",
      "--- find_minimum_force Call Statistics ---\n",
      "- rasterize_solution: called 9 times, total time 0.5784s, avg time 0.0643s\n",
      "---------------------------------\n",
      "--- evaluate_coupled_criterion Call Statistics ---\n",
      "- rasterize_solution: called 11 times, total time 0.7065s, avg time 0.0642s\n",
      "- incremental_ERR: called 12 times, total time 0.0766s, avg time 0.0064s\n",
      "---------------------------------\n",
      "sserr_result:  SSERRResult(converged=True, message='SSERR evaluation successful.', touchdown_distance=3177.784253333449, SSERR=16.855497003880995)\n",
      "\n",
      "wl_depth:  1600.0\n",
      "ImpactCriterion:  124.5997570092042\n",
      "CoupledCriterion:  219.4300281286751\n",
      "Touchdown distance:  3177.784253333449\n",
      "SSERR:  16.855497003880995\n",
      "--- find_minimum_force Call Statistics ---\n",
      "- rasterize_solution: called 9 times, total time 0.5685s, avg time 0.0632s\n",
      "---------------------------------\n",
      "--- evaluate_coupled_criterion Call Statistics ---\n",
      "- rasterize_solution: called 13 times, total time 0.8487s, avg time 0.0653s\n",
      "- incremental_ERR: called 14 times, total time 0.0906s, avg time 0.0065s\n",
      "---------------------------------\n",
      "sserr_result:  SSERRResult(converged=True, message='SSERR evaluation successful.', touchdown_distance=3220.2753467145135, SSERR=17.460670056224302)\n",
      "\n",
      "wl_depth:  1650.0\n",
      "ImpactCriterion:  113.41102161619042\n",
      "CoupledCriterion:  202.906743243206\n",
      "Touchdown distance:  3220.2753467145135\n",
      "SSERR:  17.460670056224302\n",
      "--- find_minimum_force Call Statistics ---\n",
      "- rasterize_solution: called 9 times, total time 0.5944s, avg time 0.0660s\n",
      "---------------------------------\n",
      "--- evaluate_coupled_criterion Call Statistics ---\n",
      "- rasterize_solution: called 13 times, total time 0.9181s, avg time 0.0706s\n",
      "- incremental_ERR: called 14 times, total time 0.1010s, avg time 0.0072s\n",
      "---------------------------------\n",
      "sserr_result:  SSERRResult(converged=True, message='SSERR evaluation successful.', touchdown_distance=3260.4010169344674, SSERR=18.06308084857112)\n",
      "\n",
      "wl_depth:  1700.0\n",
      "ImpactCriterion:  101.46356949492899\n",
      "CoupledCriterion:  184.748290740982\n",
      "Touchdown distance:  3260.4010169344674\n",
      "SSERR:  18.06308084857112\n",
      "--- find_minimum_force Call Statistics ---\n",
      "- rasterize_solution: called 9 times, total time 0.6166s, avg time 0.0685s\n",
      "---------------------------------\n",
      "--- evaluate_coupled_criterion Call Statistics ---\n",
      "- rasterize_solution: called 13 times, total time 0.9175s, avg time 0.0706s\n",
      "- incremental_ERR: called 14 times, total time 0.0999s, avg time 0.0071s\n",
      "---------------------------------\n",
      "sserr_result:  SSERRResult(converged=True, message='SSERR evaluation successful.', touchdown_distance=3298.090796173215, SSERR=18.662602834188416)\n",
      "\n",
      "wl_depth:  1750.0\n",
      "ImpactCriterion:  88.77873224553986\n",
      "CoupledCriterion:  164.68270598338637\n",
      "Touchdown distance:  3298.090796173215\n",
      "SSERR:  18.662602834188416\n",
      "--- find_minimum_force Call Statistics ---\n",
      "- rasterize_solution: called 9 times, total time 0.6218s, avg time 0.0691s\n",
      "---------------------------------\n",
      "--- evaluate_coupled_criterion Call Statistics ---\n",
      "- rasterize_solution: called 13 times, total time 0.8555s, avg time 0.0658s\n",
      "- incremental_ERR: called 14 times, total time 0.0932s, avg time 0.0067s\n",
      "---------------------------------\n",
      "sserr_result:  SSERRResult(converged=True, message='SSERR evaluation successful.', touchdown_distance=3333.266287151105, SSERR=19.259163722356966)\n",
      "\n",
      "wl_depth:  1800.0\n",
      "ImpactCriterion:  75.37660801216252\n",
      "CoupledCriterion:  142.5796571054671\n",
      "Touchdown distance:  3333.266287151105\n",
      "SSERR:  19.259163722356966\n",
      "--- find_minimum_force Call Statistics ---\n",
      "- rasterize_solution: called 8 times, total time 0.5338s, avg time 0.0667s\n",
      "---------------------------------\n",
      "--- evaluate_coupled_criterion Call Statistics ---\n",
      "- rasterize_solution: called 12 times, total time 0.9255s, avg time 0.0771s\n",
      "- incremental_ERR: called 13 times, total time 0.1007s, avg time 0.0077s\n",
      "---------------------------------\n",
      "sserr_result:  SSERRResult(converged=True, message='SSERR evaluation successful.', touchdown_distance=3365.842328720123, SSERR=19.85275715232993)\n",
      "\n",
      "wl_depth:  1850.0\n",
      "ImpactCriterion:  61.27655026399487\n",
      "CoupledCriterion:  118.52389806641705\n",
      "Touchdown distance:  3365.842328720123\n",
      "SSERR:  19.85275715232993\n",
      "--- find_minimum_force Call Statistics ---\n",
      "- rasterize_solution: called 8 times, total time 0.6781s, avg time 0.0848s\n",
      "---------------------------------\n",
      "--- evaluate_coupled_criterion Call Statistics ---\n",
      "- rasterize_solution: called 14 times, total time 0.9209s, avg time 0.0658s\n",
      "- incremental_ERR: called 16 times, total time 0.1051s, avg time 0.0066s\n",
      "---------------------------------\n",
      "sserr_result:  SSERRResult(converged=True, message='SSERR evaluation successful.', touchdown_distance=3395.7286227276845, SSERR=20.443455406553912)\n",
      "\n",
      "wl_depth:  1900.0\n",
      "ImpactCriterion:  46.494308696195354\n",
      "CoupledCriterion:  92.09372113705956\n",
      "Touchdown distance:  3395.7286227276845\n",
      "SSERR:  20.443455406553912\n",
      "--- find_minimum_force Call Statistics ---\n",
      "- rasterize_solution: called 8 times, total time 0.5104s, avg time 0.0638s\n",
      "---------------------------------\n",
      "--- evaluate_coupled_criterion Call Statistics ---\n",
      "- rasterize_solution: called 13 times, total time 0.8576s, avg time 0.0660s\n",
      "- incremental_ERR: called 15 times, total time 0.1056s, avg time 0.0070s\n",
      "---------------------------------\n",
      "sserr_result:  SSERRResult(converged=True, message='SSERR evaluation successful.', touchdown_distance=3422.83169172769, SSERR=21.031423092874036)\n",
      "\n",
      "wl_depth:  1950.0\n",
      "ImpactCriterion:  31.050461106181707\n",
      "CoupledCriterion:  63.12859695842287\n",
      "Touchdown distance:  3422.83169172769\n",
      "SSERR:  21.031423092874036\n",
      "--- find_minimum_force Call Statistics ---\n",
      "- rasterize_solution: called 8 times, total time 0.5101s, avg time 0.0638s\n",
      "---------------------------------\n",
      "--- evaluate_coupled_criterion Call Statistics ---\n",
      "- rasterize_solution: called 12 times, total time 0.8131s, avg time 0.0678s\n",
      "- incremental_ERR: called 15 times, total time 0.1052s, avg time 0.0070s\n",
      "---------------------------------\n",
      "sserr_result:  SSERRResult(converged=True, message='SSERR evaluation successful.', touchdown_distance=3447.0570601822715, SSERR=21.61693154249099)\n",
      "\n",
      "wl_depth:  2000.0\n",
      "ImpactCriterion:  14.958601723872738\n",
      "CoupledCriterion:  31.32508688294327\n",
      "Touchdown distance:  3447.0570601822715\n",
      "SSERR:  21.61693154249099\n",
      "--- min_dist_stress >= 1 in find_minimum_force Call Statistics ---\n",
      "- rasterize_solution: called 1 times, total time 0.0875s, avg time 0.0875s\n",
      "---------------------------------\n",
      "--- The entire solution is cracked ---\n",
      "--- evaluate_coupled_criterion Call Statistics ---\n",
      "- incremental_ERR: called 1 times, total time 0.0084s, avg time 0.0084s\n",
      "---------------------------------\n",
      "sserr_result:  SSERRResult(converged=True, message='SSERR evaluation successful.', touchdown_distance=3468.3115665554724, SSERR=22.200373487692133)\n",
      "\n",
      "wl_depth:  2050.0\n",
      "ImpactCriterion:  0.0\n",
      "CoupledCriterion:  0\n",
      "Touchdown distance:  3468.3115665554724\n",
      "SSERR:  22.200373487692133\n",
      "--- min_dist_stress >= 1 in find_minimum_force Call Statistics ---\n",
      "- rasterize_solution: called 1 times, total time 0.0862s, avg time 0.0862s\n",
      "---------------------------------\n",
      "--- The entire solution is cracked ---\n",
      "--- evaluate_coupled_criterion Call Statistics ---\n",
      "- incremental_ERR: called 1 times, total time 0.0090s, avg time 0.0090s\n",
      "---------------------------------\n",
      "sserr_result:  SSERRResult(converged=True, message='SSERR evaluation successful.', touchdown_distance=3486.5057220884396, SSERR=22.782277426041738)\n",
      "\n",
      "wl_depth:  2100.0\n",
      "ImpactCriterion:  0.0\n",
      "CoupledCriterion:  0\n",
      "Touchdown distance:  3486.5057220884396\n",
      "SSERR:  22.782277426041738\n",
      "--- min_dist_stress >= 1 in find_minimum_force Call Statistics ---\n",
      "- rasterize_solution: called 1 times, total time 0.0749s, avg time 0.0749s\n",
      "---------------------------------\n",
      "--- The entire solution is cracked ---\n",
      "--- evaluate_coupled_criterion Call Statistics ---\n",
      "- incremental_ERR: called 1 times, total time 0.0079s, avg time 0.0079s\n",
      "---------------------------------\n",
      "sserr_result:  SSERRResult(converged=True, message='SSERR evaluation successful.', touchdown_distance=3501.556036667109, SSERR=23.363320969557936)\n",
      "\n",
      "wl_depth:  2150.0\n",
      "ImpactCriterion:  0.0\n",
      "CoupledCriterion:  0\n",
      "Touchdown distance:  3501.556036667109\n",
      "SSERR:  23.363320969557936\n",
      "--- min_dist_stress >= 1 in find_minimum_force Call Statistics ---\n",
      "- rasterize_solution: called 1 times, total time 0.0714s, avg time 0.0714s\n",
      "---------------------------------\n",
      "--- The entire solution is cracked ---\n",
      "--- evaluate_coupled_criterion Call Statistics ---\n",
      "- incremental_ERR: called 1 times, total time 0.0092s, avg time 0.0092s\n",
      "---------------------------------\n",
      "sserr_result:  SSERRResult(converged=True, message='SSERR evaluation successful.', touchdown_distance=3513.3872357583436, SSERR=23.944342437833416)\n",
      "\n",
      "wl_depth:  2200.0\n",
      "ImpactCriterion:  0.0\n",
      "CoupledCriterion:  0\n",
      "Touchdown distance:  3513.3872357583436\n",
      "SSERR:  23.944342437833416\n",
      "--- min_dist_stress >= 1 in find_minimum_force Call Statistics ---\n",
      "- rasterize_solution: called 1 times, total time 0.0722s, avg time 0.0722s\n",
      "---------------------------------\n",
      "--- The entire solution is cracked ---\n",
      "--- evaluate_coupled_criterion Call Statistics ---\n",
      "- incremental_ERR: called 1 times, total time 0.0089s, avg time 0.0089s\n",
      "---------------------------------\n",
      "sserr_result:  SSERRResult(converged=True, message='SSERR evaluation successful.', touchdown_distance=3521.934297292718, SSERR=24.526349994574332)\n",
      "\n",
      "wl_depth:  2250.0\n",
      "ImpactCriterion:  0.0\n",
      "CoupledCriterion:  0\n",
      "Touchdown distance:  3521.934297292718\n",
      "SSERR:  24.526349994574332\n",
      "--- min_dist_stress >= 1 in find_minimum_force Call Statistics ---\n",
      "- rasterize_solution: called 1 times, total time 0.0664s, avg time 0.0664s\n",
      "---------------------------------\n",
      "--- The entire solution is cracked ---\n",
      "--- evaluate_coupled_criterion Call Statistics ---\n",
      "- incremental_ERR: called 1 times, total time 0.0073s, avg time 0.0073s\n",
      "---------------------------------\n",
      "sserr_result:  SSERRResult(converged=True, message='SSERR evaluation successful.', touchdown_distance=3527.144245358849, SSERR=25.110527748106744)\n",
      "\n",
      "wl_depth:  2300.0\n",
      "ImpactCriterion:  0.0\n",
      "CoupledCriterion:  0\n",
      "Touchdown distance:  3527.144245358849\n",
      "SSERR:  25.110527748106744\n",
      "--- min_dist_stress >= 1 in find_minimum_force Call Statistics ---\n",
      "- rasterize_solution: called 1 times, total time 0.0665s, avg time 0.0665s\n",
      "---------------------------------\n",
      "--- The entire solution is cracked ---\n",
      "--- evaluate_coupled_criterion Call Statistics ---\n",
      "- incremental_ERR: called 1 times, total time 0.0079s, avg time 0.0079s\n",
      "---------------------------------\n",
      "sserr_result:  SSERRResult(converged=True, message='SSERR evaluation successful.', touchdown_distance=3528.977649524736, SSERR=25.69823842582865)\n",
      "\n",
      "wl_depth:  2350.0\n",
      "ImpactCriterion:  0.0\n",
      "CoupledCriterion:  0\n",
      "Touchdown distance:  3528.977649524736\n",
      "SSERR:  25.69823842582865\n",
      "--- min_dist_stress >= 1 in find_minimum_force Call Statistics ---\n",
      "- rasterize_solution: called 1 times, total time 0.0730s, avg time 0.0730s\n",
      "---------------------------------\n",
      "--- The entire solution is cracked ---\n",
      "--- evaluate_coupled_criterion Call Statistics ---\n",
      "- incremental_ERR: called 1 times, total time 0.0095s, avg time 0.0095s\n",
      "---------------------------------\n",
      "sserr_result:  SSERRResult(converged=True, message='SSERR evaluation successful.', touchdown_distance=3527.4097943840266, SSERR=26.291022466455946)\n",
      "\n",
      "wl_depth:  2400.0\n",
      "ImpactCriterion:  0.0\n",
      "CoupledCriterion:  0\n",
      "Touchdown distance:  3527.4097943840266\n",
      "SSERR:  26.291022466455946\n",
      "--- min_dist_stress >= 1 in find_minimum_force Call Statistics ---\n",
      "- rasterize_solution: called 1 times, total time 0.1086s, avg time 0.1086s\n",
      "---------------------------------\n",
      "--- The entire solution is cracked ---\n",
      "--- evaluate_coupled_criterion Call Statistics ---\n",
      "- incremental_ERR: called 1 times, total time 0.0118s, avg time 0.0118s\n",
      "---------------------------------\n",
      "sserr_result:  SSERRResult(converged=True, message='SSERR evaluation successful.', touchdown_distance=3522.4315025064543, SSERR=26.890593620001066)\n",
      "\n",
      "wl_depth:  2450.0\n",
      "ImpactCriterion:  0.0\n",
      "CoupledCriterion:  0\n",
      "Touchdown distance:  3522.4315025064543\n",
      "SSERR:  26.890593620001066\n",
      "--- min_dist_stress >= 1 in find_minimum_force Call Statistics ---\n",
      "- rasterize_solution: called 1 times, total time 0.0951s, avg time 0.0951s\n",
      "---------------------------------\n",
      "--- The entire solution is cracked ---\n",
      "--- evaluate_coupled_criterion Call Statistics ---\n",
      "- incremental_ERR: called 1 times, total time 0.0101s, avg time 0.0101s\n",
      "---------------------------------\n",
      "sserr_result:  SSERRResult(converged=True, message='SSERR evaluation successful.', touchdown_distance=3514.0496135795156, SSERR=27.498831369129412)\n",
      "\n",
      "wl_depth:  2500.0\n",
      "ImpactCriterion:  0.0\n",
      "CoupledCriterion:  0\n",
      "Touchdown distance:  3514.0496135795156\n",
      "SSERR:  27.498831369129412\n",
      "--- min_dist_stress >= 1 in find_minimum_force Call Statistics ---\n",
      "- rasterize_solution: called 1 times, total time 0.0828s, avg time 0.0828s\n",
      "---------------------------------\n",
      "--- The entire solution is cracked ---\n",
      "--- evaluate_coupled_criterion Call Statistics ---\n",
      "- incremental_ERR: called 1 times, total time 0.0078s, avg time 0.0078s\n",
      "---------------------------------\n",
      "sserr_result:  SSERRResult(converged=True, message='SSERR evaluation successful.', touchdown_distance=3502.287141066103, SSERR=28.11777065618553)\n",
      "\n",
      "wl_depth:  2550.0\n",
      "ImpactCriterion:  0.0\n",
      "CoupledCriterion:  0\n",
      "Touchdown distance:  3502.287141066103\n",
      "SSERR:  28.11777065618553\n",
      "--- min_dist_stress >= 1 in find_minimum_force Call Statistics ---\n",
      "- rasterize_solution: called 1 times, total time 0.0792s, avg time 0.0792s\n",
      "---------------------------------\n",
      "--- The entire solution is cracked ---\n",
      "--- evaluate_coupled_criterion Call Statistics ---\n",
      "- incremental_ERR: called 1 times, total time 0.0080s, avg time 0.0080s\n",
      "---------------------------------\n",
      "sserr_result:  SSERRResult(converged=True, message='SSERR evaluation successful.', touchdown_distance=3487.1831431232144, SSERR=28.749589496923935)\n",
      "\n",
      "wl_depth:  2600.0\n",
      "ImpactCriterion:  0.0\n",
      "CoupledCriterion:  0\n",
      "Touchdown distance:  3487.1831431232144\n",
      "SSERR:  28.749589496923935\n",
      "--- min_dist_stress >= 1 in find_minimum_force Call Statistics ---\n",
      "- rasterize_solution: called 1 times, total time 0.0724s, avg time 0.0724s\n",
      "---------------------------------\n",
      "--- The entire solution is cracked ---\n",
      "--- evaluate_coupled_criterion Call Statistics ---\n",
      "- incremental_ERR: called 1 times, total time 0.0081s, avg time 0.0081s\n",
      "---------------------------------\n",
      "sserr_result:  SSERRResult(converged=True, message='SSERR evaluation successful.', touchdown_distance=3468.792355225961, SSERR=29.396595077093053)\n",
      "\n",
      "wl_depth:  2650.0\n",
      "ImpactCriterion:  0.0\n",
      "CoupledCriterion:  0\n",
      "Touchdown distance:  3468.792355225961\n",
      "SSERR:  29.396595077093053\n",
      "--- min_dist_stress >= 1 in find_minimum_force Call Statistics ---\n",
      "- rasterize_solution: called 1 times, total time 0.0773s, avg time 0.0773s\n",
      "---------------------------------\n",
      "--- The entire solution is cracked ---\n",
      "--- evaluate_coupled_criterion Call Statistics ---\n",
      "- incremental_ERR: called 1 times, total time 0.0074s, avg time 0.0074s\n",
      "---------------------------------\n",
      "sserr_result:  SSERRResult(converged=True, message='SSERR evaluation successful.', touchdown_distance=3447.184637036106, SSERR=30.061208867300714)\n",
      "\n",
      "wl_depth:  2700.0\n",
      "ImpactCriterion:  0.0\n",
      "CoupledCriterion:  0\n",
      "Touchdown distance:  3447.184637036106\n",
      "SSERR:  30.061208867300714\n",
      "--- min_dist_stress >= 1 in find_minimum_force Call Statistics ---\n",
      "- rasterize_solution: called 1 times, total time 0.0663s, avg time 0.0663s\n",
      "---------------------------------\n",
      "--- The entire solution is cracked ---\n",
      "--- evaluate_coupled_criterion Call Statistics ---\n",
      "- incremental_ERR: called 1 times, total time 0.0079s, avg time 0.0079s\n",
      "---------------------------------\n",
      "sserr_result:  SSERRResult(converged=True, message='SSERR evaluation successful.', touchdown_distance=3422.444285447562, SSERR=30.745951172164716)\n",
      "\n",
      "wl_depth:  2750.0\n",
      "ImpactCriterion:  0.0\n",
      "CoupledCriterion:  0\n",
      "Touchdown distance:  3422.444285447562\n",
      "SSERR:  30.745951172164716\n",
      "--- min_dist_stress >= 1 in find_minimum_force Call Statistics ---\n",
      "- rasterize_solution: called 1 times, total time 0.0811s, avg time 0.0811s\n",
      "---------------------------------\n",
      "--- The entire solution is cracked ---\n",
      "--- evaluate_coupled_criterion Call Statistics ---\n",
      "- incremental_ERR: called 1 times, total time 0.0107s, avg time 0.0107s\n",
      "---------------------------------\n",
      "sserr_result:  SSERRResult(converged=True, message='SSERR evaluation successful.', touchdown_distance=3394.6692600931756, SSERR=31.453425375626182)\n",
      "\n",
      "wl_depth:  2800.0\n",
      "ImpactCriterion:  0.0\n",
      "CoupledCriterion:  0\n",
      "Touchdown distance:  3394.6692600931756\n",
      "SSERR:  31.453425375626182\n",
      "--- min_dist_stress >= 1 in find_minimum_force Call Statistics ---\n",
      "- rasterize_solution: called 1 times, total time 0.0733s, avg time 0.0733s\n",
      "---------------------------------\n",
      "--- The entire solution is cracked ---\n",
      "--- evaluate_coupled_criterion Call Statistics ---\n",
      "- incremental_ERR: called 1 times, total time 0.0083s, avg time 0.0083s\n",
      "---------------------------------\n",
      "sserr_result:  SSERRResult(converged=True, message='SSERR evaluation successful.', touchdown_distance=3363.970358133671, SSERR=32.186301981563204)\n",
      "\n",
      "wl_depth:  2850.0\n",
      "ImpactCriterion:  0.0\n",
      "CoupledCriterion:  0\n",
      "Touchdown distance:  3363.970358133671\n",
      "SSERR:  32.186301981563204\n",
      "--- min_dist_stress >= 1 in find_minimum_force Call Statistics ---\n",
      "- rasterize_solution: called 1 times, total time 0.0785s, avg time 0.0785s\n",
      "---------------------------------\n",
      "--- The entire solution is cracked ---\n",
      "--- evaluate_coupled_criterion Call Statistics ---\n",
      "- incremental_ERR: called 1 times, total time 0.0099s, avg time 0.0099s\n",
      "---------------------------------\n",
      "sserr_result:  SSERRResult(converged=True, message='SSERR evaluation successful.', touchdown_distance=3330.4703633994686, SSERR=32.947302401461556)\n",
      "\n",
      "wl_depth:  2900.0\n",
      "ImpactCriterion:  0.0\n",
      "CoupledCriterion:  0\n",
      "Touchdown distance:  3330.4703633994686\n",
      "SSERR:  32.947302401461556\n",
      "new_layer heights:  [100.0, 170.0, 30.0, 300.0, 20.0, 2330.0]\n",
      "wl_depth:  2950.0\n",
      "new_layers:  [Layer(rho=101.0, h=100.0, nu=0.25, E=0.3963944665536936, G=0.15855778662147743, tensile_strength=1.103877672602255, tensile_strength_method='sigrist', E_method='bergfeld', grain_type='DF', grain_size=None, hand_hardness='F'), Layer(rho=173.0, h=170.0, nu=0.25, E=4.231714820461142, G=1.6926859281844568, tensile_strength=4.1040183019389715, tensile_strength_method='sigrist', E_method='bergfeld', grain_type='DF', grain_size=None, hand_hardness='1F'), Layer(rho=137.0, h=30.0, nu=0.25, E=1.515947056821604, G=0.6063788227286416, tensile_strength=2.3226029915382136, tensile_strength_method='sigrist', E_method='bergfeld', grain_type='DF', grain_size=None, hand_hardness='4F'), Layer(rho=209.0, h=300.0, nu=0.25, E=9.722035388607377, G=3.888814155442951, tensile_strength=6.509291720550219, tensile_strength_method='sigrist', E_method='bergfeld', grain_type='DF', grain_size=None, hand_hardness='P'), Layer(rho=163.7, h=20.0, nu=0.25, E=3.318392308727041, G=1.3273569234908165, tensile_strength=3.586373980194787, tensile_strength_method='sigrist', E_method='bergfeld', grain_type=None, grain_size=None, hand_hardness='4F+'), Layer(rho=292.25, h=2330.0, nu=0.25, E=42.50435458798165, G=17.00174183519266, tensile_strength=14.750876454728399, tensile_strength_method='sigrist', E_method='bergfeld', grain_type='MFcr', grain_size=None, hand_hardness='P+')]\n",
      "--- min_dist_stress >= 1 in find_minimum_force Call Statistics ---\n",
      "- rasterize_solution: called 1 times, total time 0.0851s, avg time 0.0851s\n",
      "---------------------------------\n",
      "--- The entire solution is cracked ---\n",
      "--- evaluate_coupled_criterion Call Statistics ---\n",
      "- incremental_ERR: called 1 times, total time 0.0085s, avg time 0.0085s\n",
      "---------------------------------\n",
      "sserr_result:  SSERRResult(converged=True, message='SSERR evaluation successful.', touchdown_distance=3294.303182515331, SSERR=33.73918232779348)\n",
      "\n",
      "wl_depth:  2950.0\n",
      "ImpactCriterion:  0.0\n",
      "CoupledCriterion:  0\n",
      "Touchdown distance:  3294.303182515331\n",
      "SSERR:  33.73918232779348\n",
      "new_layer heights:  [100.0, 170.0, 30.0, 300.0, 20.0, 2380.0]\n",
      "wl_depth:  3000.0\n",
      "new_layers:  [Layer(rho=101.0, h=100.0, nu=0.25, E=0.3963944665536936, G=0.15855778662147743, tensile_strength=1.103877672602255, tensile_strength_method='sigrist', E_method='bergfeld', grain_type='DF', grain_size=None, hand_hardness='F'), Layer(rho=173.0, h=170.0, nu=0.25, E=4.231714820461142, G=1.6926859281844568, tensile_strength=4.1040183019389715, tensile_strength_method='sigrist', E_method='bergfeld', grain_type='DF', grain_size=None, hand_hardness='1F'), Layer(rho=137.0, h=30.0, nu=0.25, E=1.515947056821604, G=0.6063788227286416, tensile_strength=2.3226029915382136, tensile_strength_method='sigrist', E_method='bergfeld', grain_type='DF', grain_size=None, hand_hardness='4F'), Layer(rho=209.0, h=300.0, nu=0.25, E=9.722035388607377, G=3.888814155442951, tensile_strength=6.509291720550219, tensile_strength_method='sigrist', E_method='bergfeld', grain_type='DF', grain_size=None, hand_hardness='P'), Layer(rho=163.7, h=20.0, nu=0.25, E=3.318392308727041, G=1.3273569234908165, tensile_strength=3.586373980194787, tensile_strength_method='sigrist', E_method='bergfeld', grain_type=None, grain_size=None, hand_hardness='4F+'), Layer(rho=292.25, h=2380.0, nu=0.25, E=42.50435458798165, G=17.00174183519266, tensile_strength=14.750876454728399, tensile_strength_method='sigrist', E_method='bergfeld', grain_type='MFcr', grain_size=None, hand_hardness='P+')]\n",
      "--- min_dist_stress >= 1 in find_minimum_force Call Statistics ---\n",
      "- rasterize_solution: called 1 times, total time 0.0736s, avg time 0.0736s\n",
      "---------------------------------\n",
      "--- The entire solution is cracked ---\n",
      "--- evaluate_coupled_criterion Call Statistics ---\n",
      "- incremental_ERR: called 1 times, total time 0.0078s, avg time 0.0078s\n",
      "---------------------------------\n",
      "sserr_result:  SSERRResult(converged=True, message='SSERR evaluation successful.', touchdown_distance=3255.6129690079083, SSERR=34.56471446464064)\n",
      "\n",
      "wl_depth:  3000.0\n",
      "ImpactCriterion:  0.0\n",
      "CoupledCriterion:  0\n",
      "Touchdown distance:  3255.6129690079083\n",
      "SSERR:  34.56471446464064\n"
     ]
    }
   ],
   "source": [
    "import time\n",
    "import weac\n",
    "from weac.tools import touchdown_distance\n",
    "\n",
    "paths1 = paths[:1]\n",
    "parsers1 = parsers[:1]\n",
    "\n",
    "data_rows = []\n",
    "for i, (file_path, parser) in tqdm(\n",
    "    enumerate(zip(paths1, parsers1)), total=len(paths1), desc=\"Processing files\"\n",
    "):\n",
    "    # Extract layers\n",
    "    layers, density_method = parser.extract_layers()\n",
    "    print(\"layers: \", layers)\n",
    "    # # TRIAL: make whole layering 6m deep\n",
    "    # heights = np.cumsum([layer.h for layer in layers])\n",
    "    # layers[-1].h = 2500 - heights[-2]\n",
    "    heights = np.cumsum([layer.h for layer in layers])\n",
    "    # space evenly and append the last height\n",
    "    wl_depths = np.arange(wl_spacing, heights[-1], wl_spacing).tolist()\n",
    "    wl_depths.append(heights[-1])\n",
    "    \n",
    "    # # Only look at depths where weak layer is 2500mm deep\n",
    "    # wl_depths = [depth for depth in wl_depths if depth > 2000]\n",
    "    \n",
    "    layers_copy = copy.deepcopy(layers)\n",
    "    for i, wl_depth in tqdm(enumerate(wl_depths), total=len(wl_depths), desc=\"Processing weak layers\", leave=False):\n",
    "        # only keep layers above the spacing\n",
    "        mask = heights <= wl_depth\n",
    "        new_layers = [layer for layer, keep in zip(layers_copy, mask) if keep]\n",
    "        # Add truncated layer if needed\n",
    "        depth = np.sum([layer.h for layer in new_layers]) if new_layers else 0.0\n",
    "        if depth < wl_depth:\n",
    "            additional_layer = copy.deepcopy(layers_copy[len(new_layers) if new_layers else 0])\n",
    "            additional_layer.h = wl_depth - depth\n",
    "            new_layers.append(additional_layer)\n",
    "        \n",
    "        if i >= len(wl_depths) - 2:\n",
    "            print(\"new_layer heights: \", [layer.h for layer in new_layers])\n",
    "            print(\"wl_depth: \", wl_depth)\n",
    "            print(\"new_layers: \", new_layers)\n",
    "        \n",
    "        model_input = ModelInput(\n",
    "            weak_layer=standard_weak_layer,\n",
    "            layers=new_layers,\n",
    "            scenario_config=standard_scenario_config,\n",
    "            segments=standard_segments,\n",
    "        )\n",
    "        system = SystemModel(model_input=model_input)\n",
    "        \n",
    "        cc_result: CoupledCriterionResult = standard_criteria_evaluator.evaluate_coupled_criterion(system, print_call_stats=True)\n",
    "\n",
    "        # Setup the scenario with the touchdown distance\n",
    "        # TODO: Bug in Vertical SSERR\n",
    "        time1 = time.time()\n",
    "        sserr_result: SSERRResult = standard_criteria_evaluator.evaluate_SSERR(system, vertical=False)\n",
    "        print(\"sserr_result: \", sserr_result)\n",
    "        # sserr_result: SSERRResult = standard_criteria_evaluator.evaluate_SSERR(system, vertical=True)\n",
    "        # time2 = time.time()\n",
    "        # print(\"sserr_result: \", sserr_result)\n",
    "\n",
    "        # breakpoint()\n",
    "        \n",
    "        # # Generate old weac layers from layers\n",
    "        # layers = [\n",
    "        #     [layer.rho, layer.h] for layer in new_layers\n",
    "        # ]\n",
    "        # time3 = time.time()\n",
    "        # touchdown_distances = touchdown_distance(layers=layers, phi=phi, Ewl=1.0, t=20, vertical=False)\n",
    "        # print(\"Touchdown distance old weac: \", touchdown_distances)\n",
    "        # touchdown_distances = touchdown_distance(layers=layers, phi=phi, Ewl=1.0, t=20, vertical=True)\n",
    "        # time4 = time.time()\n",
    "        # print(\"Touchdown distance old weac: \", touchdown_distances)\n",
    "        \n",
    "        # print(\"weac_2 time: \", time2 - time1)\n",
    "        # print(\"old_weac time: \", time4 - time3)\n",
    "        \n",
    "        # breakpoint()\n",
    "\n",
    "        # print(\"\\nwl_depth: \", wl_depth)\n",
    "        # print(\"ImpactCriterion: \", cc_result.initial_critical_skier_weight)\n",
    "        # print(\"CoupledCriterion: \", cc_result.critical_skier_weight)\n",
    "        # print(\"Touchdown distance: \", sserr_result.touchdown_distance)\n",
    "        # print(\"SSERR: \", sserr_result.SSERR)\n",
    "        data_rows.append({\n",
    "            \"wl_depth\": wl_depth,\n",
    "            \"impact_criterion\": cc_result.initial_critical_skier_weight,\n",
    "            \"coupled_criterion\": cc_result.critical_skier_weight,\n",
    "            \"sserr_result\": sserr_result.SSERR,\n",
    "            \"touchdown_distance\": sserr_result.touchdown_distance,\n",
    "        })\n",
    "\n",
    "plot_layers = layers\n",
    "plot_weaklayer = standard_weak_layer\n"
   ]
  },
  {
   "cell_type": "code",
   "execution_count": 12,
   "id": "56461958",
   "metadata": {},
   "outputs": [
    {
     "name": "stdout",
     "output_type": "stream",
     "text": [
      "292.25\n"
     ]
    },
    {
     "data": {
      "application/vnd.plotly.v1+json": {
       "config": {
        "plotlyServerURL": "https://plot.ly"
       },
       "data": [
        {
         "line": {
          "color": "lightgrey",
          "width": 1
         },
         "mode": "lines",
         "showlegend": false,
         "type": "scatter",
         "x": [
          0,
          -322.205625
         ],
         "y": [
          0,
          0
         ]
        },
        {
         "line": {
          "color": "lightgrey",
          "width": 1
         },
         "mode": "lines",
         "showlegend": false,
         "type": "scatter",
         "x": [
          0,
          -322.205625
         ],
         "y": [
          100,
          100
         ]
        },
        {
         "line": {
          "color": "lightgrey",
          "width": 1
         },
         "mode": "lines",
         "showlegend": false,
         "type": "scatter",
         "x": [
          0,
          -322.205625
         ],
         "y": [
          200,
          200
         ]
        },
        {
         "line": {
          "color": "lightgrey",
          "width": 1
         },
         "mode": "lines",
         "showlegend": false,
         "type": "scatter",
         "x": [
          0,
          -322.205625
         ],
         "y": [
          300,
          300
         ]
        },
        {
         "line": {
          "color": "lightgrey",
          "width": 1
         },
         "mode": "lines",
         "showlegend": false,
         "type": "scatter",
         "x": [
          0,
          -322.205625
         ],
         "y": [
          400,
          400
         ]
        },
        {
         "line": {
          "color": "lightgrey",
          "width": 1
         },
         "mode": "lines",
         "showlegend": false,
         "type": "scatter",
         "x": [
          0,
          -322.205625
         ],
         "y": [
          500,
          500
         ]
        },
        {
         "line": {
          "color": "lightgrey",
          "width": 1
         },
         "mode": "lines",
         "showlegend": false,
         "type": "scatter",
         "x": [
          0,
          -322.205625
         ],
         "y": [
          600,
          600
         ]
        },
        {
         "line": {
          "color": "lightgrey",
          "width": 1
         },
         "mode": "lines",
         "showlegend": false,
         "type": "scatter",
         "x": [
          0,
          -322.205625
         ],
         "y": [
          700,
          700
         ]
        },
        {
         "line": {
          "color": "lightgrey",
          "width": 1
         },
         "mode": "lines",
         "showlegend": false,
         "type": "scatter",
         "x": [
          0,
          -322.205625
         ],
         "y": [
          800,
          800
         ]
        },
        {
         "line": {
          "color": "lightgrey",
          "width": 1
         },
         "mode": "lines",
         "showlegend": false,
         "type": "scatter",
         "x": [
          0,
          -322.205625
         ],
         "y": [
          900,
          900
         ]
        },
        {
         "line": {
          "color": "lightgrey",
          "width": 1
         },
         "mode": "lines",
         "showlegend": false,
         "type": "scatter",
         "x": [
          0,
          -322.205625
         ],
         "y": [
          1000,
          1000
         ]
        },
        {
         "line": {
          "color": "lightgrey",
          "width": 1
         },
         "mode": "lines",
         "showlegend": false,
         "type": "scatter",
         "x": [
          0,
          -322.205625
         ],
         "y": [
          1100,
          1100
         ]
        },
        {
         "line": {
          "color": "lightgrey",
          "width": 1
         },
         "mode": "lines",
         "showlegend": false,
         "type": "scatter",
         "x": [
          0,
          -322.205625
         ],
         "y": [
          1200,
          1200
         ]
        },
        {
         "line": {
          "color": "lightgrey",
          "width": 1
         },
         "mode": "lines",
         "showlegend": false,
         "type": "scatter",
         "x": [
          0,
          -322.205625
         ],
         "y": [
          1300,
          1300
         ]
        },
        {
         "line": {
          "color": "lightgrey",
          "width": 1
         },
         "mode": "lines",
         "showlegend": false,
         "type": "scatter",
         "x": [
          0,
          -322.205625
         ],
         "y": [
          1400,
          1400
         ]
        },
        {
         "line": {
          "color": "lightgrey",
          "width": 1
         },
         "mode": "lines",
         "showlegend": false,
         "type": "scatter",
         "x": [
          0,
          -322.205625
         ],
         "y": [
          1500,
          1500
         ]
        },
        {
         "line": {
          "color": "lightgrey",
          "width": 1
         },
         "mode": "lines",
         "showlegend": false,
         "type": "scatter",
         "x": [
          0,
          -322.205625
         ],
         "y": [
          1600,
          1600
         ]
        },
        {
         "line": {
          "color": "lightgrey",
          "width": 1
         },
         "mode": "lines",
         "showlegend": false,
         "type": "scatter",
         "x": [
          0,
          -322.205625
         ],
         "y": [
          1700,
          1700
         ]
        },
        {
         "line": {
          "color": "lightgrey",
          "width": 1
         },
         "mode": "lines",
         "showlegend": false,
         "type": "scatter",
         "x": [
          0,
          -322.205625
         ],
         "y": [
          1800,
          1800
         ]
        },
        {
         "line": {
          "color": "lightgrey",
          "width": 1
         },
         "mode": "lines",
         "showlegend": false,
         "type": "scatter",
         "x": [
          0,
          -322.205625
         ],
         "y": [
          1900,
          1900
         ]
        },
        {
         "line": {
          "color": "lightgrey",
          "width": 1
         },
         "mode": "lines",
         "showlegend": false,
         "type": "scatter",
         "x": [
          0,
          -322.205625
         ],
         "y": [
          2000,
          2000
         ]
        },
        {
         "line": {
          "color": "lightgrey",
          "width": 1
         },
         "mode": "lines",
         "showlegend": false,
         "type": "scatter",
         "x": [
          0,
          -322.205625
         ],
         "y": [
          2100,
          2100
         ]
        },
        {
         "line": {
          "color": "lightgrey",
          "width": 1
         },
         "mode": "lines",
         "showlegend": false,
         "type": "scatter",
         "x": [
          0,
          -322.205625
         ],
         "y": [
          2200,
          2200
         ]
        },
        {
         "line": {
          "color": "lightgrey",
          "width": 1
         },
         "mode": "lines",
         "showlegend": false,
         "type": "scatter",
         "x": [
          0,
          -322.205625
         ],
         "y": [
          2300,
          2300
         ]
        },
        {
         "line": {
          "color": "lightgrey",
          "width": 1
         },
         "mode": "lines",
         "showlegend": false,
         "type": "scatter",
         "x": [
          0,
          -322.205625
         ],
         "y": [
          2400,
          2400
         ]
        },
        {
         "line": {
          "color": "lightgrey",
          "width": 1
         },
         "mode": "lines",
         "showlegend": false,
         "type": "scatter",
         "x": [
          0,
          -322.205625
         ],
         "y": [
          2500,
          2500
         ]
        },
        {
         "line": {
          "color": "lightgrey",
          "width": 1
         },
         "mode": "lines",
         "showlegend": false,
         "type": "scatter",
         "x": [
          0,
          -322.205625
         ],
         "y": [
          2600,
          2600
         ]
        },
        {
         "line": {
          "color": "lightgrey",
          "width": 1
         },
         "mode": "lines",
         "showlegend": false,
         "type": "scatter",
         "x": [
          0,
          -322.205625
         ],
         "y": [
          2700,
          2700
         ]
        },
        {
         "line": {
          "color": "lightgrey",
          "width": 1
         },
         "mode": "lines",
         "showlegend": false,
         "type": "scatter",
         "x": [
          0,
          -322.205625
         ],
         "y": [
          2800,
          2800
         ]
        },
        {
         "line": {
          "color": "lightgrey",
          "width": 1
         },
         "mode": "lines",
         "showlegend": false,
         "type": "scatter",
         "x": [
          0,
          -322.205625
         ],
         "y": [
          2900,
          2900
         ]
        }
       ],
       "layout": {
        "annotations": [
         {
          "font": {
           "size": 10
          },
          "showarrow": false,
          "text": "0",
          "x": 15,
          "xanchor": "center",
          "y": 0,
          "yanchor": "middle"
         },
         {
          "font": {
           "size": 10
          },
          "showarrow": false,
          "text": "101",
          "x": 45,
          "xanchor": "center",
          "y": 1350,
          "yanchor": "middle"
         },
         {
          "font": {
           "size": 10
          },
          "showarrow": false,
          "text": "DF",
          "x": 75,
          "xanchor": "center",
          "y": 1350,
          "yanchor": "middle"
         },
         {
          "font": {
           "size": 10
          },
          "showarrow": false,
          "text": "F",
          "x": 105,
          "xanchor": "center",
          "y": 1350,
          "yanchor": "middle"
         },
         {
          "font": {
           "size": 10
          },
          "showarrow": false,
          "text": "100",
          "x": 15,
          "xanchor": "center",
          "y": 100,
          "yanchor": "middle"
         },
         {
          "font": {
           "size": 10
          },
          "showarrow": false,
          "text": "173",
          "x": 45,
          "xanchor": "center",
          "y": 1650,
          "yanchor": "middle"
         },
         {
          "font": {
           "size": 10
          },
          "showarrow": false,
          "text": "DF",
          "x": 75,
          "xanchor": "center",
          "y": 1650,
          "yanchor": "middle"
         },
         {
          "font": {
           "size": 10
          },
          "showarrow": false,
          "text": "1F",
          "x": 105,
          "xanchor": "center",
          "y": 1650,
          "yanchor": "middle"
         },
         {
          "font": {
           "size": 10
          },
          "showarrow": false,
          "text": "270",
          "x": 15,
          "xanchor": "center",
          "y": 270,
          "yanchor": "middle"
         },
         {
          "font": {
           "size": 10
          },
          "showarrow": false,
          "text": "137",
          "x": 45,
          "xanchor": "center",
          "y": 1950,
          "yanchor": "middle"
         },
         {
          "font": {
           "size": 10
          },
          "showarrow": false,
          "text": "DF",
          "x": 75,
          "xanchor": "center",
          "y": 1950,
          "yanchor": "middle"
         },
         {
          "font": {
           "size": 10
          },
          "showarrow": false,
          "text": "4F",
          "x": 105,
          "xanchor": "center",
          "y": 1950,
          "yanchor": "middle"
         },
         {
          "font": {
           "size": 10
          },
          "showarrow": false,
          "text": "300",
          "x": 15,
          "xanchor": "center",
          "y": 300,
          "yanchor": "middle"
         },
         {
          "font": {
           "size": 10
          },
          "showarrow": false,
          "text": "209",
          "x": 45,
          "xanchor": "center",
          "y": 2250,
          "yanchor": "middle"
         },
         {
          "font": {
           "size": 10
          },
          "showarrow": false,
          "text": "DF",
          "x": 75,
          "xanchor": "center",
          "y": 2250,
          "yanchor": "middle"
         },
         {
          "font": {
           "size": 10
          },
          "showarrow": false,
          "text": "P",
          "x": 105,
          "xanchor": "center",
          "y": 2250,
          "yanchor": "middle"
         },
         {
          "font": {
           "size": 10
          },
          "showarrow": false,
          "text": "600",
          "x": 15,
          "xanchor": "center",
          "y": 600,
          "yanchor": "middle"
         },
         {
          "font": {
           "size": 10
          },
          "showarrow": false,
          "text": "164",
          "x": 45,
          "xanchor": "center",
          "y": 2550,
          "yanchor": "middle"
         },
         {
          "font": {
           "size": 10
          },
          "showarrow": false,
          "text": "-",
          "x": 75,
          "xanchor": "center",
          "y": 2550,
          "yanchor": "middle"
         },
         {
          "font": {
           "size": 10
          },
          "showarrow": false,
          "text": "4F+",
          "x": 105,
          "xanchor": "center",
          "y": 2550,
          "yanchor": "middle"
         },
         {
          "font": {
           "size": 10
          },
          "showarrow": false,
          "text": "620",
          "x": 15,
          "xanchor": "center",
          "y": 620,
          "yanchor": "middle"
         },
         {
          "font": {
           "size": 10
          },
          "showarrow": false,
          "text": "292",
          "x": 45,
          "xanchor": "center",
          "y": 2850,
          "yanchor": "middle"
         },
         {
          "font": {
           "size": 10
          },
          "showarrow": false,
          "text": "MFcr",
          "x": 75,
          "xanchor": "center",
          "y": 2850,
          "yanchor": "middle"
         },
         {
          "font": {
           "size": 10
          },
          "showarrow": false,
          "text": "P+",
          "x": 105,
          "xanchor": "center",
          "y": 2850,
          "yanchor": "middle"
         },
         {
          "font": {
           "size": 10
          },
          "showarrow": false,
          "text": "3000.0",
          "x": 0,
          "xanchor": "left",
          "y": 3000,
          "yanchor": "middle"
         },
         {
          "font": {
           "size": 10
          },
          "showarrow": false,
          "text": "H",
          "x": 15,
          "xanchor": "center",
          "y": -100,
          "yanchor": "middle"
         },
         {
          "font": {
           "size": 10
          },
          "showarrow": false,
          "text": "D",
          "x": 45,
          "xanchor": "center",
          "y": -100,
          "yanchor": "middle"
         },
         {
          "font": {
           "size": 10
          },
          "showarrow": false,
          "text": "F",
          "x": 75,
          "xanchor": "center",
          "y": -100,
          "yanchor": "middle"
         },
         {
          "font": {
           "size": 10
          },
          "showarrow": false,
          "text": "R",
          "x": 105,
          "xanchor": "center",
          "y": -100,
          "yanchor": "middle"
         },
         {
          "align": "left",
          "font": {
           "size": 10
          },
          "showarrow": false,
          "text": "H: Height (cm)  D: Density (kg/m³)  F: Grain Form  R: Hand Hardness",
          "x": 0,
          "xref": "paper",
          "y": -0.06,
          "yref": "paper"
         }
        ],
        "height": 600,
        "margin": {
         "b": 40,
         "l": 0,
         "r": 0,
         "t": 40
        },
        "paper_bgcolor": "white",
        "plot_bgcolor": "white",
        "shapes": [
         {
          "fillcolor": "#9ec1df",
          "layer": "above",
          "line": {
           "color": "#9ec1df",
           "width": 0.4
          },
          "type": "rect",
          "x0": -101,
          "x1": 0,
          "y0": 0,
          "y1": 100
         },
         {
          "line": {
           "color": "rgba(4, 110, 124, 0.812)",
           "width": 1.2
          },
          "type": "line",
          "x0": 0,
          "x1": -101,
          "y0": 0,
          "y1": 0
         },
         {
          "line": {
           "color": "rgba(4, 110, 124, 0.812)",
           "width": 1.2
          },
          "type": "line",
          "x0": -101,
          "x1": -101,
          "y0": 0,
          "y1": 100
         },
         {
          "line": {
           "color": "lightgrey",
           "width": 0.5
          },
          "type": "line",
          "x0": 30,
          "x1": 120,
          "y0": 1200,
          "y1": 1200
         },
         {
          "line": {
           "color": "lightgrey",
           "width": 0.5
          },
          "type": "line",
          "x0": 0,
          "x1": 30,
          "y0": 100,
          "y1": 1500
         },
         {
          "fillcolor": "#9ec1df",
          "layer": "above",
          "line": {
           "color": "#9ec1df",
           "width": 0.4
          },
          "type": "rect",
          "x0": -173,
          "x1": 0,
          "y0": 100,
          "y1": 270
         },
         {
          "line": {
           "color": "rgba(4, 110, 124, 0.812)",
           "width": 1.2
          },
          "type": "line",
          "x0": -101,
          "x1": -173,
          "y0": 100,
          "y1": 100
         },
         {
          "line": {
           "color": "rgba(4, 110, 124, 0.812)",
           "width": 1.2
          },
          "type": "line",
          "x0": -173,
          "x1": -173,
          "y0": 100,
          "y1": 270
         },
         {
          "line": {
           "color": "lightgrey",
           "width": 0.5
          },
          "type": "line",
          "x0": 30,
          "x1": 120,
          "y0": 1500,
          "y1": 1500
         },
         {
          "line": {
           "color": "lightgrey",
           "width": 0.5
          },
          "type": "line",
          "x0": 0,
          "x1": 30,
          "y0": 270,
          "y1": 1800
         },
         {
          "fillcolor": "#9ec1df",
          "layer": "above",
          "line": {
           "color": "#9ec1df",
           "width": 0.4
          },
          "type": "rect",
          "x0": -137,
          "x1": 0,
          "y0": 270,
          "y1": 300
         },
         {
          "line": {
           "color": "rgba(4, 110, 124, 0.812)",
           "width": 1.2
          },
          "type": "line",
          "x0": -173,
          "x1": -137,
          "y0": 270,
          "y1": 270
         },
         {
          "line": {
           "color": "rgba(4, 110, 124, 0.812)",
           "width": 1.2
          },
          "type": "line",
          "x0": -137,
          "x1": -137,
          "y0": 270,
          "y1": 300
         },
         {
          "line": {
           "color": "lightgrey",
           "width": 0.5
          },
          "type": "line",
          "x0": 30,
          "x1": 120,
          "y0": 1800,
          "y1": 1800
         },
         {
          "line": {
           "color": "lightgrey",
           "width": 0.5
          },
          "type": "line",
          "x0": 0,
          "x1": 30,
          "y0": 300,
          "y1": 2100
         },
         {
          "fillcolor": "#9ec1df",
          "layer": "above",
          "line": {
           "color": "#9ec1df",
           "width": 0.4
          },
          "type": "rect",
          "x0": -209,
          "x1": 0,
          "y0": 300,
          "y1": 600
         },
         {
          "line": {
           "color": "rgba(4, 110, 124, 0.812)",
           "width": 1.2
          },
          "type": "line",
          "x0": -137,
          "x1": -209,
          "y0": 300,
          "y1": 300
         },
         {
          "line": {
           "color": "rgba(4, 110, 124, 0.812)",
           "width": 1.2
          },
          "type": "line",
          "x0": -209,
          "x1": -209,
          "y0": 300,
          "y1": 600
         },
         {
          "line": {
           "color": "lightgrey",
           "width": 0.5
          },
          "type": "line",
          "x0": 30,
          "x1": 120,
          "y0": 2100,
          "y1": 2100
         },
         {
          "line": {
           "color": "lightgrey",
           "width": 0.5
          },
          "type": "line",
          "x0": 0,
          "x1": 30,
          "y0": 600,
          "y1": 2400
         },
         {
          "fillcolor": "#9ec1df",
          "layer": "above",
          "line": {
           "color": "#9ec1df",
           "width": 0.4
          },
          "type": "rect",
          "x0": -163.7,
          "x1": 0,
          "y0": 600,
          "y1": 620
         },
         {
          "line": {
           "color": "rgba(4, 110, 124, 0.812)",
           "width": 1.2
          },
          "type": "line",
          "x0": -209,
          "x1": -163.7,
          "y0": 600,
          "y1": 600
         },
         {
          "line": {
           "color": "rgba(4, 110, 124, 0.812)",
           "width": 1.2
          },
          "type": "line",
          "x0": -163.7,
          "x1": -163.7,
          "y0": 600,
          "y1": 620
         },
         {
          "line": {
           "color": "lightgrey",
           "width": 0.5
          },
          "type": "line",
          "x0": 30,
          "x1": 120,
          "y0": 2400,
          "y1": 2400
         },
         {
          "line": {
           "color": "lightgrey",
           "width": 0.5
          },
          "type": "line",
          "x0": 0,
          "x1": 30,
          "y0": 620,
          "y1": 2700
         },
         {
          "fillcolor": "#9ec1df",
          "layer": "above",
          "line": {
           "color": "#9ec1df",
           "width": 0.4
          },
          "type": "rect",
          "x0": -292.25,
          "x1": 0,
          "y0": 620,
          "y1": 3000
         },
         {
          "line": {
           "color": "rgba(4, 110, 124, 0.812)",
           "width": 1.2
          },
          "type": "line",
          "x0": -163.7,
          "x1": -292.25,
          "y0": 620,
          "y1": 620
         },
         {
          "line": {
           "color": "rgba(4, 110, 124, 0.812)",
           "width": 1.2
          },
          "type": "line",
          "x0": -292.25,
          "x1": -292.25,
          "y0": 620,
          "y1": 3000
         },
         {
          "line": {
           "color": "lightgrey",
           "width": 0.5
          },
          "type": "line",
          "x0": 30,
          "x1": 120,
          "y0": 2700,
          "y1": 2700
         },
         {
          "line": {
           "color": "lightgrey",
           "width": 0.5
          },
          "type": "line",
          "x0": 0,
          "x1": 30,
          "y0": 3000,
          "y1": 3000
         },
         {
          "line": {
           "color": "rgba(4, 110, 124, 0.812)",
           "width": 1.2
          },
          "type": "line",
          "x0": -292.25,
          "x1": 0,
          "y0": 3000,
          "y1": 3000
         },
         {
          "line": {
           "color": "lightgrey",
           "width": 0.5
          },
          "type": "line",
          "x0": 30,
          "x1": 120,
          "y0": 3000,
          "y1": 3000
         },
         {
          "line": {
           "color": "lightgrey",
           "width": 0.5
          },
          "type": "line",
          "x0": 0,
          "x1": 30,
          "y0": 0,
          "y1": 1200
         },
         {
          "line": {
           "color": "lightgrey",
           "width": 0.5
          },
          "type": "line",
          "x0": 30,
          "x1": 30,
          "y0": 0,
          "y1": 3000
         },
         {
          "line": {
           "color": "lightgrey",
           "width": 0.5
          },
          "type": "line",
          "x0": 60,
          "x1": 60,
          "y0": 0,
          "y1": 3000
         },
         {
          "line": {
           "color": "lightgrey",
           "width": 0.5
          },
          "type": "line",
          "x0": 90,
          "x1": 90,
          "y0": 0,
          "y1": 3000
         },
         {
          "line": {
           "color": "lightgrey",
           "width": 0.5
          },
          "type": "line",
          "x0": 0,
          "x1": 120,
          "y0": -200,
          "y1": -200
         }
        ],
        "template": {
         "data": {
          "bar": [
           {
            "error_x": {
             "color": "#2a3f5f"
            },
            "error_y": {
             "color": "#2a3f5f"
            },
            "marker": {
             "line": {
              "color": "#E5ECF6",
              "width": 0.5
             },
             "pattern": {
              "fillmode": "overlay",
              "size": 10,
              "solidity": 0.2
             }
            },
            "type": "bar"
           }
          ],
          "barpolar": [
           {
            "marker": {
             "line": {
              "color": "#E5ECF6",
              "width": 0.5
             },
             "pattern": {
              "fillmode": "overlay",
              "size": 10,
              "solidity": 0.2
             }
            },
            "type": "barpolar"
           }
          ],
          "carpet": [
           {
            "aaxis": {
             "endlinecolor": "#2a3f5f",
             "gridcolor": "white",
             "linecolor": "white",
             "minorgridcolor": "white",
             "startlinecolor": "#2a3f5f"
            },
            "baxis": {
             "endlinecolor": "#2a3f5f",
             "gridcolor": "white",
             "linecolor": "white",
             "minorgridcolor": "white",
             "startlinecolor": "#2a3f5f"
            },
            "type": "carpet"
           }
          ],
          "choropleth": [
           {
            "colorbar": {
             "outlinewidth": 0,
             "ticks": ""
            },
            "type": "choropleth"
           }
          ],
          "contour": [
           {
            "colorbar": {
             "outlinewidth": 0,
             "ticks": ""
            },
            "colorscale": [
             [
              0,
              "#0d0887"
             ],
             [
              0.1111111111111111,
              "#46039f"
             ],
             [
              0.2222222222222222,
              "#7201a8"
             ],
             [
              0.3333333333333333,
              "#9c179e"
             ],
             [
              0.4444444444444444,
              "#bd3786"
             ],
             [
              0.5555555555555556,
              "#d8576b"
             ],
             [
              0.6666666666666666,
              "#ed7953"
             ],
             [
              0.7777777777777778,
              "#fb9f3a"
             ],
             [
              0.8888888888888888,
              "#fdca26"
             ],
             [
              1,
              "#f0f921"
             ]
            ],
            "type": "contour"
           }
          ],
          "contourcarpet": [
           {
            "colorbar": {
             "outlinewidth": 0,
             "ticks": ""
            },
            "type": "contourcarpet"
           }
          ],
          "heatmap": [
           {
            "colorbar": {
             "outlinewidth": 0,
             "ticks": ""
            },
            "colorscale": [
             [
              0,
              "#0d0887"
             ],
             [
              0.1111111111111111,
              "#46039f"
             ],
             [
              0.2222222222222222,
              "#7201a8"
             ],
             [
              0.3333333333333333,
              "#9c179e"
             ],
             [
              0.4444444444444444,
              "#bd3786"
             ],
             [
              0.5555555555555556,
              "#d8576b"
             ],
             [
              0.6666666666666666,
              "#ed7953"
             ],
             [
              0.7777777777777778,
              "#fb9f3a"
             ],
             [
              0.8888888888888888,
              "#fdca26"
             ],
             [
              1,
              "#f0f921"
             ]
            ],
            "type": "heatmap"
           }
          ],
          "histogram": [
           {
            "marker": {
             "pattern": {
              "fillmode": "overlay",
              "size": 10,
              "solidity": 0.2
             }
            },
            "type": "histogram"
           }
          ],
          "histogram2d": [
           {
            "colorbar": {
             "outlinewidth": 0,
             "ticks": ""
            },
            "colorscale": [
             [
              0,
              "#0d0887"
             ],
             [
              0.1111111111111111,
              "#46039f"
             ],
             [
              0.2222222222222222,
              "#7201a8"
             ],
             [
              0.3333333333333333,
              "#9c179e"
             ],
             [
              0.4444444444444444,
              "#bd3786"
             ],
             [
              0.5555555555555556,
              "#d8576b"
             ],
             [
              0.6666666666666666,
              "#ed7953"
             ],
             [
              0.7777777777777778,
              "#fb9f3a"
             ],
             [
              0.8888888888888888,
              "#fdca26"
             ],
             [
              1,
              "#f0f921"
             ]
            ],
            "type": "histogram2d"
           }
          ],
          "histogram2dcontour": [
           {
            "colorbar": {
             "outlinewidth": 0,
             "ticks": ""
            },
            "colorscale": [
             [
              0,
              "#0d0887"
             ],
             [
              0.1111111111111111,
              "#46039f"
             ],
             [
              0.2222222222222222,
              "#7201a8"
             ],
             [
              0.3333333333333333,
              "#9c179e"
             ],
             [
              0.4444444444444444,
              "#bd3786"
             ],
             [
              0.5555555555555556,
              "#d8576b"
             ],
             [
              0.6666666666666666,
              "#ed7953"
             ],
             [
              0.7777777777777778,
              "#fb9f3a"
             ],
             [
              0.8888888888888888,
              "#fdca26"
             ],
             [
              1,
              "#f0f921"
             ]
            ],
            "type": "histogram2dcontour"
           }
          ],
          "mesh3d": [
           {
            "colorbar": {
             "outlinewidth": 0,
             "ticks": ""
            },
            "type": "mesh3d"
           }
          ],
          "parcoords": [
           {
            "line": {
             "colorbar": {
              "outlinewidth": 0,
              "ticks": ""
             }
            },
            "type": "parcoords"
           }
          ],
          "pie": [
           {
            "automargin": true,
            "type": "pie"
           }
          ],
          "scatter": [
           {
            "fillpattern": {
             "fillmode": "overlay",
             "size": 10,
             "solidity": 0.2
            },
            "type": "scatter"
           }
          ],
          "scatter3d": [
           {
            "line": {
             "colorbar": {
              "outlinewidth": 0,
              "ticks": ""
             }
            },
            "marker": {
             "colorbar": {
              "outlinewidth": 0,
              "ticks": ""
             }
            },
            "type": "scatter3d"
           }
          ],
          "scattercarpet": [
           {
            "marker": {
             "colorbar": {
              "outlinewidth": 0,
              "ticks": ""
             }
            },
            "type": "scattercarpet"
           }
          ],
          "scattergeo": [
           {
            "marker": {
             "colorbar": {
              "outlinewidth": 0,
              "ticks": ""
             }
            },
            "type": "scattergeo"
           }
          ],
          "scattergl": [
           {
            "marker": {
             "colorbar": {
              "outlinewidth": 0,
              "ticks": ""
             }
            },
            "type": "scattergl"
           }
          ],
          "scattermap": [
           {
            "marker": {
             "colorbar": {
              "outlinewidth": 0,
              "ticks": ""
             }
            },
            "type": "scattermap"
           }
          ],
          "scattermapbox": [
           {
            "marker": {
             "colorbar": {
              "outlinewidth": 0,
              "ticks": ""
             }
            },
            "type": "scattermapbox"
           }
          ],
          "scatterpolar": [
           {
            "marker": {
             "colorbar": {
              "outlinewidth": 0,
              "ticks": ""
             }
            },
            "type": "scatterpolar"
           }
          ],
          "scatterpolargl": [
           {
            "marker": {
             "colorbar": {
              "outlinewidth": 0,
              "ticks": ""
             }
            },
            "type": "scatterpolargl"
           }
          ],
          "scatterternary": [
           {
            "marker": {
             "colorbar": {
              "outlinewidth": 0,
              "ticks": ""
             }
            },
            "type": "scatterternary"
           }
          ],
          "surface": [
           {
            "colorbar": {
             "outlinewidth": 0,
             "ticks": ""
            },
            "colorscale": [
             [
              0,
              "#0d0887"
             ],
             [
              0.1111111111111111,
              "#46039f"
             ],
             [
              0.2222222222222222,
              "#7201a8"
             ],
             [
              0.3333333333333333,
              "#9c179e"
             ],
             [
              0.4444444444444444,
              "#bd3786"
             ],
             [
              0.5555555555555556,
              "#d8576b"
             ],
             [
              0.6666666666666666,
              "#ed7953"
             ],
             [
              0.7777777777777778,
              "#fb9f3a"
             ],
             [
              0.8888888888888888,
              "#fdca26"
             ],
             [
              1,
              "#f0f921"
             ]
            ],
            "type": "surface"
           }
          ],
          "table": [
           {
            "cells": {
             "fill": {
              "color": "#EBF0F8"
             },
             "line": {
              "color": "white"
             }
            },
            "header": {
             "fill": {
              "color": "#C8D4E3"
             },
             "line": {
              "color": "white"
             }
            },
            "type": "table"
           }
          ]
         },
         "layout": {
          "annotationdefaults": {
           "arrowcolor": "#2a3f5f",
           "arrowhead": 0,
           "arrowwidth": 1
          },
          "autotypenumbers": "strict",
          "coloraxis": {
           "colorbar": {
            "outlinewidth": 0,
            "ticks": ""
           }
          },
          "colorscale": {
           "diverging": [
            [
             0,
             "#8e0152"
            ],
            [
             0.1,
             "#c51b7d"
            ],
            [
             0.2,
             "#de77ae"
            ],
            [
             0.3,
             "#f1b6da"
            ],
            [
             0.4,
             "#fde0ef"
            ],
            [
             0.5,
             "#f7f7f7"
            ],
            [
             0.6,
             "#e6f5d0"
            ],
            [
             0.7,
             "#b8e186"
            ],
            [
             0.8,
             "#7fbc41"
            ],
            [
             0.9,
             "#4d9221"
            ],
            [
             1,
             "#276419"
            ]
           ],
           "sequential": [
            [
             0,
             "#0d0887"
            ],
            [
             0.1111111111111111,
             "#46039f"
            ],
            [
             0.2222222222222222,
             "#7201a8"
            ],
            [
             0.3333333333333333,
             "#9c179e"
            ],
            [
             0.4444444444444444,
             "#bd3786"
            ],
            [
             0.5555555555555556,
             "#d8576b"
            ],
            [
             0.6666666666666666,
             "#ed7953"
            ],
            [
             0.7777777777777778,
             "#fb9f3a"
            ],
            [
             0.8888888888888888,
             "#fdca26"
            ],
            [
             1,
             "#f0f921"
            ]
           ],
           "sequentialminus": [
            [
             0,
             "#0d0887"
            ],
            [
             0.1111111111111111,
             "#46039f"
            ],
            [
             0.2222222222222222,
             "#7201a8"
            ],
            [
             0.3333333333333333,
             "#9c179e"
            ],
            [
             0.4444444444444444,
             "#bd3786"
            ],
            [
             0.5555555555555556,
             "#d8576b"
            ],
            [
             0.6666666666666666,
             "#ed7953"
            ],
            [
             0.7777777777777778,
             "#fb9f3a"
            ],
            [
             0.8888888888888888,
             "#fdca26"
            ],
            [
             1,
             "#f0f921"
            ]
           ]
          },
          "colorway": [
           "#636efa",
           "#EF553B",
           "#00cc96",
           "#ab63fa",
           "#FFA15A",
           "#19d3f3",
           "#FF6692",
           "#B6E880",
           "#FF97FF",
           "#FECB52"
          ],
          "font": {
           "color": "#2a3f5f"
          },
          "geo": {
           "bgcolor": "white",
           "lakecolor": "white",
           "landcolor": "#E5ECF6",
           "showlakes": true,
           "showland": true,
           "subunitcolor": "white"
          },
          "hoverlabel": {
           "align": "left"
          },
          "hovermode": "closest",
          "mapbox": {
           "style": "light"
          },
          "paper_bgcolor": "white",
          "plot_bgcolor": "#E5ECF6",
          "polar": {
           "angularaxis": {
            "gridcolor": "white",
            "linecolor": "white",
            "ticks": ""
           },
           "bgcolor": "#E5ECF6",
           "radialaxis": {
            "gridcolor": "white",
            "linecolor": "white",
            "ticks": ""
           }
          },
          "scene": {
           "xaxis": {
            "backgroundcolor": "#E5ECF6",
            "gridcolor": "white",
            "gridwidth": 2,
            "linecolor": "white",
            "showbackground": true,
            "ticks": "",
            "zerolinecolor": "white"
           },
           "yaxis": {
            "backgroundcolor": "#E5ECF6",
            "gridcolor": "white",
            "gridwidth": 2,
            "linecolor": "white",
            "showbackground": true,
            "ticks": "",
            "zerolinecolor": "white"
           },
           "zaxis": {
            "backgroundcolor": "#E5ECF6",
            "gridcolor": "white",
            "gridwidth": 2,
            "linecolor": "white",
            "showbackground": true,
            "ticks": "",
            "zerolinecolor": "white"
           }
          },
          "shapedefaults": {
           "line": {
            "color": "#2a3f5f"
           }
          },
          "ternary": {
           "aaxis": {
            "gridcolor": "white",
            "linecolor": "white",
            "ticks": ""
           },
           "baxis": {
            "gridcolor": "white",
            "linecolor": "white",
            "ticks": ""
           },
           "bgcolor": "#E5ECF6",
           "caxis": {
            "gridcolor": "white",
            "linecolor": "white",
            "ticks": ""
           }
          },
          "title": {
           "x": 0.05
          },
          "xaxis": {
           "automargin": true,
           "gridcolor": "white",
           "linecolor": "white",
           "ticks": "",
           "title": {
            "standoff": 15
           },
           "zerolinecolor": "white",
           "zerolinewidth": 2
          },
          "yaxis": {
           "automargin": true,
           "gridcolor": "white",
           "linecolor": "white",
           "ticks": "",
           "title": {
            "standoff": 15
           },
           "zerolinecolor": "white",
           "zerolinewidth": 2
          }
         }
        },
        "width": 600,
        "xaxis": {
         "autorange": false,
         "range": [
          -322.205625,
          120
         ],
         "ticktext": [
          "400",
          "300",
          "200",
          "100",
          "0"
         ],
         "tickvals": [
          -400,
          -300,
          -200,
          -100,
          0
         ]
        },
        "yaxis": {
         "domain": [
          0,
          1
         ],
         "range": [
          3000,
          -200
         ],
         "showticklabels": false,
         "zeroline": false,
         "zerolinecolor": "gray",
         "zerolinewidth": 1
        }
       }
      }
     },
     "metadata": {},
     "output_type": "display_data"
    }
   ],
   "source": [
    "from plotly_snow_profile import snow_profile\n",
    "import pandas as pd\n",
    "\n",
    "dataframe = pd.DataFrame(data_rows)\n",
    "snow_profile_fig = snow_profile(weaklayer=plot_weaklayer, layers=plot_layers)\n",
    "snow_profile_fig.show()"
   ]
  },
  {
   "cell_type": "code",
   "execution_count": 13,
   "id": "9d4978f5",
   "metadata": {},
   "outputs": [
    {
     "data": {
      "application/vnd.plotly.v1+json": {
       "config": {
        "plotlyServerURL": "https://plot.ly"
       },
       "data": [
        {
         "line": {
          "color": "blue",
          "width": 3
         },
         "marker": {
          "color": "blue",
          "size": 6
         },
         "mode": "lines",
         "name": "Energy Release Rate",
         "type": "scatter",
         "x": {
          "bdata": "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",
          "dtype": "f8"
         },
         "xaxis": "x",
         "y": {
          "bdata": "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",
          "dtype": "f8"
         }
        },
        {
         "line": {
          "color": "orange",
          "width": 3
         },
         "marker": {
          "color": "orange",
          "size": 6
         },
         "mode": "lines",
         "name": "Critical Coupling",
         "type": "scatter",
         "x": {
          "bdata": "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",
          "dtype": "f8"
         },
         "xaxis": "x",
         "y": {
          "bdata": "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",
          "dtype": "f8"
         }
        },
        {
         "line": {
          "color": "black",
          "width": 2
         },
         "mode": "lines",
         "name": "Critical Point",
         "showlegend": false,
         "type": "scatter",
         "x": [
          1,
          1
         ],
         "y": [
          0,
          3000
         ]
        },
        {
         "marker": {
          "color": "black",
          "size": 10
         },
         "mode": "markers",
         "name": "Critical Point",
         "showlegend": false,
         "type": "scatter",
         "x": [
          1
         ],
         "y": [
          0
         ]
        },
        {
         "fill": "toself",
         "fillcolor": "rgba(0, 0, 255, 0.2)",
         "hoverinfo": "skip",
         "line": {
          "width": 0
         },
         "name": "Shaded Criticality",
         "showlegend": false,
         "type": "scatter",
         "x": {
          "bdata": "tZLiiXYH8D9V7daVpRDwP6cMP5DbGfA/+SunihEj8D9MSw+FRyzwP55qd399NfA/8onfebM+8D9EqUd06UfwP5bIr24fUfA/6ecXaVVa8D87B4Bji2PwPzGllBP8bPA/XG2NVYB28D+GNYaXBIDwP7L9ftmIifA/3MV3Gw2T8D8IjnBdkZzwPzNWaZ8VpvA/XR5i4Zmv8D+J5lojHrnwP7OuU2WiwvA/oM+QI1vM8D9l1lDfNtbwPyndEJsS4PA/7ePQVu7p8D+x6pASyvPwP3XxUM6l/fA/OfgQioEH8T/9/tBFXRHxP8IFkQE5G/E/hQxRvRQl8T9UqtsNHC/xPxVWeqJYOfE/1QEZN5VD8T+WrbfL0U3xP1ZZVmAOWPE/FwX19Epi8T/ZsJOJh2zxP5lcMh7EdvE/WgjRsgCB8T8atG9HPYvxP+HxtcKZlfE/EC+DrUCg8T8+bFCY56rxP22pHYOOtfE/m+bqbTXA8T/JI7hY3MrxP/dghUOD1fE/JZ5SLirg8T9U2x8Z0erxP4IY7QN49fE/tJWzUDAA8j+nff4dSwvyP5llSetlFvI/jE2UuIAh8j99Nd+FmyzyP28dKlO2N/I/YgV1INFC8j9T7b/t603yP0XVCrsGWfI/N71ViCFk8j8qpaBVPG/yPwAAAAAAAPA/AAAAAAAA8D8AAAAAAADwPwAAAAAAAPA/AAAAAAAA8D8AAAAAAADwPwAAAAAAAPA/AAAAAAAA8D8AAAAAAADwPwAAAAAAAPA/AAAAAAAA8D8AAAAAAADwPwAAAAAAAPA/AAAAAAAA8D8AAAAAAADwPwAAAAAAAPA/AAAAAAAA8D8AAAAAAADwPwAAAAAAAPA/AAAAAAAA8D8AAAAAAADwPwAAAAAAAPA/AAAAAAAA8D8AAAAAAADwPwAAAAAAAPA/AAAAAAAA8D8AAAAAAADwPwAAAAAAAPA/AAAAAAAA8D8AAAAAAADwPwAAAAAAAPA/AAAAAAAA8D8AAAAAAADwPwAAAAAAAPA/AAAAAAAA8D8AAAAAAADwPwAAAAAAAPA/AAAAAAAA8D8AAAAAAADwPwAAAAAAAPA/AAAAAAAA8D8AAAAAAADwPwAAAAAAAPA/AAAAAAAA8D8AAAAAAADwPwAAAAAAAPA/AAAAAAAA8D8AAAAAAADwPwAAAAAAAPA/AAAAAAAA8D8AAAAAAADwPwAAAAAAAPA/AAAAAAAA8D8AAAAAAADwPwAAAAAAAPA/AAAAAAAA8D8AAAAAAADwPwAAAAAAAPA/AAAAAAAA8D8AAAAAAADwPwAAAAAAAPA/AAAAAAAA8D8AAAAAAADwPwAAAAAAAPA/AAAAAAAA8D8AAAAAAADwPwAAAAAAAPA/AAAAAAAA8D8AAAAAAADwPwAAAAAAAPA/AAAAAAAA8D8AAAAAAADwPwAAAAAAAPA/AAAAAAAA8D8AAAAAAADwPwAAAAAAAPA/AAAAAAAA8D8AAAAAAADwPwAAAAAAAPA/AAAAAAAA8D8AAAAAAADwPwAAAAAAAPA/AAAAAAAA8D8AAAAAAADwPwAAAAAAAPA/AAAAAAAA8D8AAAAAAADwPwAAAAAAAPA/AAAAAAAA8D8AAAAAAADwPwAAAAAAAPA/AAAAAAAA8D8AAAAAAADwPwAAAAAAAPA/AAAAAAAA8D8AAAAAAADwPwAAAAAAAPA/AAAAAAAA8D8AAAAAAADwPwAAAAAAAPA/AAAAAAAA8D8AAAAAAADwPwAAAAAAAPA/AAAAAAAA8D8AAAAAAADwPwAAAAAAAPA/AAAAAAAA8D8AAAAAAADwPwAAAAAAAPA/AAAAAAAA8D8AAAAAAADwPwAAAAAAAPA/AAAAAAAA8D8AAAAAAADwPwAAAAAAAPA/AAAAAAAA8D8AAAAAAADwPwAAAAAAAPA/AAAAAAAA8D8AAAAAAADwPwAAAAAAAPA/AAAAAAAA8D8AAAAAAADwPwAAAAAAAPA/AAAAAAAA8D8AAAAAAADwPwAAAAAAAPA/AAAAAAAA8D8AAAAAAADwPwAAAAAAAPA/AAAAAAAA8D8AAAAAAADwPwAAAAAAAPA/AAAAAAAA8D8AAAAAAADwPwAAAAAAAPA/AAAAAAAA8D8AAAAAAADwPwAAAAAAAPA/AAAAAAAA8D8AAAAAAADwPwAAAAAAAPA/AAAAAAAA8D8AAAAAAADwPwAAAAAAAPA/AAAAAAAA8D8AAAAAAADwPwAAAAAAAPA/AAAAAAAA8D8AAAAAAADwPwAAAAAAAPA/AAAAAAAA8D8AAAAAAADwPwAAAAAAAPA/AAAAAAAA8D8AAAAAAADwPwAAAAAAAPA/AAAAAAAA8D8AAAAAAADwPwAAAAAAAPA/AAAAAAAA8D8AAAAAAADwPwAAAAAAAPA/AAAAAAAA8D8AAAAAAADwPwAAAAAAAPA/AAAAAAAA8D8AAAAAAADwPwAAAAAAAPA/AAAAAAAA8D8AAAAAAADwPwAAAAAAAPA/AAAAAAAA8D8AAAAAAADwPwAAAAAAAPA/AAAAAAAA8D8AAAAAAADwPwAAAAAAAPA/AAAAAAAA8D8AAAAAAADwPwAAAAAAAPA/AAAAAAAA8D8AAAAAAADwPwAAAAAAAPA/AAAAAAAA8D8AAAAAAADwPwAAAAAAAPA/AAAAAAAA8D8AAAAAAADwPwAAAAAAAPA/AAAAAAAA8D8AAAAAAADwPwAAAAAAAPA/AAAAAAAA8D8AAAAAAADwPwAAAAAAAPA/AAAAAAAA8D8AAAAAAADwPwAAAAAAAPA/AAAAAAAA8D8AAAAAAADwPwAAAAAAAPA/AAAAAAAA8D8AAAAAAADwPwAAAAAAAPA/AAAAAAAA8D8AAAAAAADwPwAAAAAAAPA/AAAAAAAA8D8AAAAAAADwPwAAAAAAAPA/AAAAAAAA8D8AAAAAAADwPwAAAAAAAPA/AAAAAAAA8D8AAAAAAADwPwAAAAAAAPA/AAAAAAAA8D8AAAAAAADwPwAAAAAAAPA/AAAAAAAA8D8AAAAAAADwPwAAAAAAAPA/AAAAAAAA8D8AAAAAAADwPwAAAAAAAPA/AAAAAAAA8D8AAAAAAADwPwAAAAAAAPA/AAAAAAAA8D8AAAAAAADwPwAAAAAAAPA/AAAAAAAA8D8AAAAAAADwPwAAAAAAAPA/AAAAAAAA8D8AAAAAAADwPwAAAAAAAPA/AAAAAAAA8D8AAAAAAADwPwAAAAAAAPA/AAAAAAAA8D8AAAAAAADwPwAAAAAAAPA/AAAAAAAA8D8AAAAAAADwPwAAAAAAAPA/AAAAAAAA8D8AAAAAAADwPwAAAAAAAPA/AAAAAAAA8D8AAAAAAADwPwAAAAAAAPA/AAAAAAAA8D8AAAAAAADwPwAAAAAAAPA/AAAAAAAA8D8AAAAAAADwPwAAAAAAAPA/AAAAAAAA8D8AAAAAAADwPwAAAAAAAPA/AAAAAAAA8D8AAAAAAADwPwAAAAAAAPA/AAAAAAAA8D8AAAAAAADwPwAAAAAAAPA/AAAAAAAA8D8AAAAAAADwPwAAAAAAAPA/AAAAAAAA8D8AAAAAAADwPwAAAAAAAPA/AAAAAAAA8D8AAAAAAADwPwAAAAAAAPA/AAAAAAAA8D8AAAAAAADwPwAAAAAAAPA/AAAAAAAA8D8AAAAAAADwPwAAAAAAAPA/AAAAAAAA8D8AAAAAAADwPwAAAAAAAPA/AAAAAAAA8D8AAAAAAADwPwAAAAAAAPA/AAAAAAAA8D8AAAAAAADwPwAAAAAAAPA/AAAAAAAA8D8AAAAAAADwPwAAAAAAAPA/AAAAAAAA8D8AAAAAAADwPwAAAAAAAPA/AAAAAAAA8D8AAAAAAADwPwAAAAAAAPA/AAAAAAAA8D8AAAAAAADwPwAAAAAAAPA/AAAAAAAA8D8AAAAAAADwPwAAAAAAAPA/AAAAAAAA8D8AAAAAAADwPwAAAAAAAPA/AAAAAAAA8D8AAAAAAADwPwAAAAAAAPA/AAAAAAAA8D8AAAAAAADwPwAAAAAAAPA/AAAAAAAA8D8AAAAAAADwPwAAAAAAAPA/AAAAAAAA8D8AAAAAAADwPwAAAAAAAPA/AAAAAAAA8D8AAAAAAADwPwAAAAAAAPA/AAAAAAAA8D8AAAAAAADwPwAAAAAAAPA/AAAAAAAA8D8AAAAAAADwPwAAAAAAAPA/AAAAAAAA8D8AAAAAAADwPwAAAAAAAPA/AAAAAAAA8D8AAAAAAADwPwAAAAAAAPA/AAAAAAAA8D8AAAAAAADwPwAAAAAAAPA/AAAAAAAA8D8AAAAAAADwPwAAAAAAAPA/AAAAAAAA8D8AAAAAAADwPwAAAAAAAPA/AAAAAAAA8D8AAAAAAADwPwAAAAAAAPA/AAAAAAAA8D8AAAAAAADwPwAAAAAAAPA/AAAAAAAA8D8AAAAAAADwPwAAAAAAAPA/AAAAAAAA8D8AAAAAAADwPwAAAAAAAPA/AAAAAAAA8D8AAAAAAADwPwAAAAAAAPA/AAAAAAAA8D8AAAAAAADwPwAAAAAAAPA/AAAAAAAA8D8AAAAAAADwPwAAAAAAAPA/AAAAAAAA8D8AAAAAAADwPwAAAAAAAPA/AAAAAAAA8D8AAAAAAADwPwAAAAAAAPA/AAAAAAAA8D8AAAAAAADwPwAAAAAAAPA/AAAAAAAA8D8AAAAAAADwPwAAAAAAAPA/AAAAAAAA8D8AAAAAAADwPwAAAAAAAPA/AAAAAAAA8D8AAAAAAADwPwAAAAAAAPA/AAAAAAAA8D8AAAAAAADwPwAAAAAAAPA/AAAAAAAA8D8AAAAAAADwPwAAAAAAAPA/AAAAAAAA8D8AAAAAAADwPwAAAAAAAPA/AAAAAAAA8D8AAAAAAADwPwAAAAAAAPA/AAAAAAAA8D8AAAAAAADwPwAAAAAAAPA/AAAAAAAA8D8AAAAAAADwPwAAAAAAAPA/AAAAAAAA8D8AAAAAAADwPwAAAAAAAPA/AAAAAAAA8D8AAAAAAADwPwAAAAAAAPA/AAAAAAAA8D8AAAAAAADwPwAAAAAAAPA/AAAAAAAA8D8AAAAAAADwPwAAAAAAAPA/AAAAAAAA8D8AAAAAAADwPwAAAAAAAPA/AAAAAAAA8D8AAAAAAADwPwAAAAAAAPA/AAAAAAAA8D8AAAAAAADwPwAAAAAAAPA/AAAAAAAA8D8AAAAAAADwPwAAAAAAAPA/AAAAAAAA8D8AAAAAAADwPwAAAAAAAPA/AAAAAAAA8D8AAAAAAADwPwAAAAAAAPA/AAAAAAAA8D8AAAAAAADwPwAAAAAAAPA/AAAAAAAA8D8AAAAAAADwPwAAAAAAAPA/AAAAAAAA8D8AAAAAAADwPwAAAAAAAPA/AAAAAAAA8D8AAAAAAADwPwAAAAAAAPA/AAAAAAAA8D8AAAAAAADwPwAAAAAAAPA/AAAAAAAA8D8AAAAAAADwPwAAAAAAAPA/AAAAAAAA8D8AAAAAAADwPwAAAAAAAPA/AAAAAAAA8D8AAAAAAADwPwAAAAAAAPA/AAAAAAAA8D8AAAAAAADwPwAAAAAAAPA/AAAAAAAA8D8AAAAAAADwPwAAAAAAAPA/AAAAAAAA8D8AAAAAAADwPwAAAAAAAPA/AAAAAAAA8D8AAAAAAADwPwAAAAAAAPA/AAAAAAAA8D8AAAAAAADwPwAAAAAAAPA/AAAAAAAA8D8AAAAAAADwPwAAAAAAAPA/AAAAAAAA8D8AAAAAAADwPwAAAAAAAPA/AAAAAAAA8D8AAAAAAADwPwAAAAAAAPA/AAAAAAAA8D8AAAAAAADwPwAAAAAAAPA/AAAAAAAA8D8AAAAAAADwPwAAAAAAAPA/AAAAAAAA8D8AAAAAAADwPwAAAAAAAPA/AAAAAAAA8D8AAAAAAADwPwAAAAAAAPA/AAAAAAAA8D8AAAAAAADwPwAAAAAAAPA/AAAAAAAA8D8AAAAAAADwPwAAAAAAAPA/AAAAAAAA8D8AAAAAAADwPwAAAAAAAPA/AAAAAAAA8D8AAAAAAADwPwAAAAAAAPA/AAAAAAAA8D8AAAAAAADwPwAAAAAAAPA/AAAAAAAA8D8AAAAAAADwPwAAAAAAAPA/AAAAAAAA8D8AAAAAAADwPwAAAAAAAPA/AAAAAAAA8D8AAAAAAADwPwAAAAAAAPA/AAAAAAAA8D8AAAAAAADwPwAAAAAAAPA/AAAAAAAA8D8AAAAAAADwPwAAAAAAAPA/AAAAAAAA8D8AAAAAAADwPwAAAAAAAPA/AAAAAAAA8D8AAAAAAADwPwAAAAAAAPA/AAAAAAAA8D8AAAAAAADwPwAAAAAAAPA/AAAAAAAA8D8AAAAAAADwPwAAAAAAAPA/AAAAAAAA8D8AAAAAAADwPwAAAAAAAPA/AAAAAAAA8D8AAAAAAADwPwAAAAAAAPA/AAAAAAAA8D8AAAAAAADwPwAAAAAAAPA/AAAAAAAA8D8AAAAAAADwPwAAAAAAAPA/AAAAAAAA8D8AAAAAAADwPwAAAAAAAPA/AAAAAAAA8D8AAAAAAADwPwAAAAAAAPA/AAAAAAAA8D8AAAAAAADwPwAAAAAAAPA/AAAAAAAA8D8AAAAAAADwPwAAAAAAAPA/AAAAAAAA8D8AAAAAAADwPwAAAAAAAPA/AAAAAAAA8D8AAAAAAADwPwAAAAAAAPA/AAAAAAAA8D8AAAAAAADwPwAAAAAAAPA/AAAAAAAA8D8AAAAAAADwPwAAAAAAAPA/AAAAAAAA8D8AAAAAAADwPwAAAAAAAPA/AAAAAAAA8D8AAAAAAADwPwAAAAAAAPA/AAAAAAAA8D8AAAAAAADwPwAAAAAAAPA/AAAAAAAA8D8AAAAAAADwPwAAAAAAAPA/AAAAAAAA8D8AAAAAAADwPwAAAAAAAPA/AAAAAAAA8D8AAAAAAADwPwAAAAAAAPA/AAAAAAAA8D8AAAAAAADwPwAAAAAAAPA/AAAAAAAA8D8AAAAAAADwPwAAAAAAAPA/AAAAAAAA8D8AAAAAAADwPwAAAAAAAPA/AAAAAAAA8D8AAAAAAADwPwAAAAAAAPA/AAAAAAAA8D8AAAAAAADwPwAAAAAAAPA/AAAAAAAA8D8AAAAAAADwPwAAAAAAAPA/AAAAAAAA8D8AAAAAAADwPwAAAAAAAPA/",
          "dtype": "f8"
         },
         "y": {
          "bdata": "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",
          "dtype": "f8"
         }
        },
        {
         "fill": "toself",
         "fillcolor": "rgba(255, 165, 0, 0.2)",
         "hoverinfo": "skip",
         "line": {
          "width": 0
         },
         "name": "Shaded Criticality",
         "showlegend": false,
         "type": "scatter",
         "x": {
          "bdata": "IbculdiZTUAhty6V2Jk9QGzPybjluzNAIbculdiZLUDo+L7dRq4nQGzPybjluyNAXNZjnjLqIEAhty6V2JkdQOVpYvbcTxpA6Pi+3UauF0D45C105o4WQPETBDtathVA1kOpP3XtFEBjFGYqlDIUQD1PPS1MhBNA89MtzGHhEkCoi4tkwUgSQBJVohN5uRFA/1mZs7MyEUDA5me2tLMQQARN4nxXdw5AD4lcvetWC0DKrwd5f8sIQNZSEf4CrwZAwapi4FjnBEBN6ghl/WEDQO/clq9yEQJAgHBEZKjrAECOL2U+69H/P5ID7gzXBv4/H4dTzQ7H/D+RbwGNc+b7P0rAIaMiE/s/LctOwfZL+j/1irZe64/5P0IUNkQY3vg/Capkza01+D8syum98ZX3P3VECZE8/vY/1aJtLvdt9j/INFnfxO31P5+hwVpjgPU/X2HeKjAX9T997vYX77H0P13Ib1loUPQ/ZY0zL2jy8z9o0gmGvpfzP0UShqU+QPM/Fe1n5r7r8j9tr21wGJryP/vQ2PZwU/I/boyRACsn8j9T2VH1uPvxP31YpfEU0fE/9+xtSTmn8T+hnF+FIH7xP7dEn2DFVfE/DPWBxiIu8T/n62rQMwfxP+9QxsPz4PA/IwqrB/K08D9huaCTBFLwPwAAAAAAAPA/AAAAAAAA8D8AAAAAAADwPwAAAAAAAPA/AAAAAAAA8D8AAAAAAADwPwAAAAAAAPA/AAAAAAAA8D8AAAAAAADwPwAAAAAAAPA/AAAAAAAA8D8AAAAAAADwPwAAAAAAAPA/AAAAAAAA8D8AAAAAAADwPwAAAAAAAPA/AAAAAAAA8D8AAAAAAADwPwAAAAAAAPA/AAAAAAAA8D8AAAAAAADwPwAAAAAAAPA/AAAAAAAA8D8AAAAAAADwPwAAAAAAAPA/AAAAAAAA8D8AAAAAAADwPwAAAAAAAPA/AAAAAAAA8D8AAAAAAADwPwAAAAAAAPA/AAAAAAAA8D8AAAAAAADwPwAAAAAAAPA/AAAAAAAA8D8AAAAAAADwPwAAAAAAAPA/AAAAAAAA8D8AAAAAAADwPwAAAAAAAPA/AAAAAAAA8D8AAAAAAADwPwAAAAAAAPA/AAAAAAAA8D8AAAAAAADwPwAAAAAAAPA/AAAAAAAA8D8AAAAAAADwPwAAAAAAAPA/AAAAAAAA8D8AAAAAAADwPwAAAAAAAPA/AAAAAAAA8D8AAAAAAADwPwAAAAAAAPA/AAAAAAAA8D8AAAAAAADwPwAAAAAAAPA/AAAAAAAA8D8AAAAAAADwPwAAAAAAAPA/AAAAAAAA8D8=",
          "dtype": "f8"
         },
         "y": {
          "bdata": "yiDywFW0E0DKIPLAVbQjQC8xa6GAji1AyiDywFW0M0D8qC4xa6E4QC8xa6GAjj1AsdzTCMs9QUDKIPLAVbRDQONkEHngKkZA/KguMWuhSEAW7Uzp9RdLQC8xa6GAjk1ApLrErIUCUECx3NMIyz1RQL3+4mQQeVJAyiDywFW0U0DXQgEdm+9UQONkEHngKlZA8IYf1SVmV0D8qC4xa6FYQAnLPY2w3FlAFu1M6fUXW0AiD1xFO1NcQC8xa6GAjl1APFN6/cXJXkCkusSshQJgQKpLzFoooGBAsdzTCMs9YUC3bdu2bdthQL3+4mQQeWJAxI/qErMWY0DKIPLAVbRjQNCx+W74UWRA10IBHZvvZEDd0wjLPY1lQONkEHngKmZA6vUXJ4PIZkDwhh/VJWZnQPYXJ4PIA2hA/KguMWuhaEADOjbfDT9pQAnLPY2w3GlAD1xFO1N6akAW7Uzp9RdrQBx+VJeYtWtAIg9cRTtTbEApoGPz3fBsQC8xa6GAjm1ANcJyTyMsbkA8U3r9xcluQELkgatoZ29ApLrErIUCcEAng8gDV1FwQKpLzFoooHBALhTQsfnucECx3NMIyz1xQDSl11+cjHFAt23btm3bcUA6Nt8NPypyQL3+4mQQeXJAQcfmu+HHckDEj+oSsxZzQMSP6hKzFnNAQcfmu+HHckC9/uJkEHlyQDo23w0/KnJAt23btm3bcUA0pddfnIxxQLHc0wjLPXFALhTQsfnucECqS8xaKKBwQCeDyANXUXBApLrErIUCcEBC5IGraGdvQDxTev3FyW5ANcJyTyMsbkAvMWuhgI5tQCmgY/Pd8GxAIg9cRTtTbEAcflSXmLVrQBbtTOn1F2tAD1xFO1N6akAJyz2NsNxpQAM6Nt8NP2lA/KguMWuhaED2FyeDyANoQPCGH9UlZmdA6vUXJ4PIZkDjZBB54CpmQN3TCMs9jWVA10IBHZvvZEDQsflu+FFkQMog8sBVtGNAxI/qErMWY0C9/uJkEHliQLdt27Zt22FAsdzTCMs9YUCqS8xaKKBgQKS6xKyFAmBAPFN6/cXJXkAvMWuhgI5dQCIPXEU7U1xAFu1M6fUXW0AJyz2NsNxZQPyoLjFroVhA8IYf1SVmV0DjZBB54CpWQNdCAR2b71RAyiDywFW0U0C9/uJkEHlSQLHc0wjLPVFApLrErIUCUEAvMWuhgI5NQBbtTOn1F0tA/KguMWuhSEDjZBB54CpGQMog8sBVtENAsdzTCMs9QUAvMWuhgI49QPyoLjFroThAyiDywFW0M0AvMWuhgI4tQMog8sBVtCNAyiDywFW0E0A=",
          "dtype": "f8"
         }
        },
        {
         "fill": "toself",
         "fillcolor": "rgba(255, 165, 0, 0.2)",
         "hoverinfo": "skip",
         "line": {
          "width": 0
         },
         "name": "Shaded Criticality",
         "showlegend": false,
         "type": "scatter",
         "x": {
          "bdata": "eC9yVy4k8D+MSWUHqZPwPxMt8kJSCfE/Hwb7cWCJ8T/MPvL8UxryPxU3zbXztPI/9I3bBEBa8z97ECH9XQv0P+xfcSieyfQ/cC6M5YSW9T/iWurI1HP2P1Kuh5abY/c/A2lMn0Jo+D+sWQ8kA4n5P11DUT0d4fo/yV+llnRf/D/mt775yAr+P1+XUDWK6/8/pTmqEjQGAUDMzl88kD0CQFX0hLrVpANAoJ4Lkv9HBUDrvUhVZDcHQKkGCBHkiQlAx0BJG2pUDEA1PF0CSM4PQNpq3euHIBJAbjPivBYTFUA96zDLrSoZQKfyILIhOx9AvpMNY6KSJEDcxqJPOyQuQMAzccr/LDxAy9IBInUAa0AAAAAAAADwPwAAAAAAAPA/AAAAAAAA8D8AAAAAAADwPwAAAAAAAPA/AAAAAAAA8D8AAAAAAADwPwAAAAAAAPA/AAAAAAAA8D8AAAAAAADwPwAAAAAAAPA/AAAAAAAA8D8AAAAAAADwPwAAAAAAAPA/AAAAAAAA8D8AAAAAAADwPwAAAAAAAPA/AAAAAAAA8D8AAAAAAADwPwAAAAAAAPA/AAAAAAAA8D8AAAAAAADwPwAAAAAAAPA/AAAAAAAA8D8AAAAAAADwPwAAAAAAAPA/AAAAAAAA8D8AAAAAAADwPwAAAAAAAPA/AAAAAAAA8D8AAAAAAADwPwAAAAAAAPA/AAAAAAAA8D8AAAAAAADwPw==",
          "dtype": "f8"
         },
         "y": {
          "bdata": "Dj+qS8x6nUAvMWuhgI6dQFAjLPc0op1AcRXtTOm1nUCRB66incmdQLL5bvhR3Z1A0+svTgbxnUD03fCjugSeQBXQsfluGJ5ANcJyTyMsnkBWtDOl1z+eQHem9PqLU55AmJi1UEBnnkC4inam9HqeQNl8N/yojp5A+m74UV2inkAbYbmnEbaeQDxTev3FyZ5AXEU7U3rdnkB9N/yoLvGeQJ4pvf7iBJ9Avxt+VJcYn0DgDT+qSyyfQAAAAAAAQJ9AIfLAVbRTn0BC5IGraGefQGPWQgEde59AhMgDV9GOn0CkusSshaKfQMWshQI6tp9A5p5GWO7Jn0AHkQeuot2fQCeDyANX8Z9ApLrErIUCoECkusSshQKgQCeDyANX8Z9AB5EHrqLdn0DmnkZY7smfQMWshQI6tp9ApLrErIWin0CEyANX0Y6fQGPWQgEde59AQuSBq2hnn0Ah8sBVtFOfQAAAAAAAQJ9A4A0/qkssn0C/G35UlxifQJ4pvf7iBJ9AfTf8qC7xnkBcRTtTet2eQDxTev3FyZ5AG2G5pxG2nkD6bvhRXaKeQNl8N/yojp5AuIp2pvR6nkCYmLVQQGeeQHem9PqLU55AVrQzpdc/nkA1wnJPIyyeQBXQsfluGJ5A9N3wo7oEnkDT6y9OBvGdQLL5bvhR3Z1AkQeuop3JnUBxFe1M6bWdQFAjLPc0op1ALzFroYCOnUAOP6pLzHqdQA==",
          "dtype": "f8"
         }
        },
        {
         "fill": "toself",
         "fillcolor": "rgba(0, 0, 0, 0.1)",
         "hoverinfo": "skip",
         "line": {
          "width": 0
         },
         "name": "Self-Collapsed",
         "showlegend": false,
         "type": "scatter",
         "x": {
          "bdata": "AAAAAITXl0EAAAAAAADwPw==",
          "dtype": "f8"
         },
         "y": {
          "bdata": "AAAAAAAAAAAAAAAAAAAAAA==",
          "dtype": "f8"
         }
        },
        {
         "fill": "toself",
         "fillcolor": "rgba(0, 0, 0, 0.1)",
         "hoverinfo": "skip",
         "line": {
          "width": 0
         },
         "name": "Self-Collapsed",
         "showlegend": false,
         "type": "scatter",
         "x": {
          "bdata": "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",
          "dtype": "f8"
         },
         "y": {
          "bdata": "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",
          "dtype": "f8"
         }
        }
       ],
       "layout": {
        "annotations": [
         {
          "ax": 0,
          "ay": 20,
          "font": {
           "size": 12
          },
          "text": "Criticality",
          "x": 0.5,
          "xref": "paper",
          "y": 0,
          "yref": "paper"
         },
         {
          "ax": 0,
          "ay": -10,
          "font": {
           "color": "black"
          },
          "text": "Critical Point",
          "x": 0.5,
          "xref": "paper",
          "y": 1,
          "yref": "paper"
         }
        ],
        "height": 600,
        "margin": {
         "b": 40,
         "l": 0,
         "r": 0,
         "t": 40
        },
        "paper_bgcolor": "white",
        "plot_bgcolor": "white",
        "showlegend": false,
        "template": {
         "data": {
          "bar": [
           {
            "error_x": {
             "color": "#2a3f5f"
            },
            "error_y": {
             "color": "#2a3f5f"
            },
            "marker": {
             "line": {
              "color": "#E5ECF6",
              "width": 0.5
             },
             "pattern": {
              "fillmode": "overlay",
              "size": 10,
              "solidity": 0.2
             }
            },
            "type": "bar"
           }
          ],
          "barpolar": [
           {
            "marker": {
             "line": {
              "color": "#E5ECF6",
              "width": 0.5
             },
             "pattern": {
              "fillmode": "overlay",
              "size": 10,
              "solidity": 0.2
             }
            },
            "type": "barpolar"
           }
          ],
          "carpet": [
           {
            "aaxis": {
             "endlinecolor": "#2a3f5f",
             "gridcolor": "white",
             "linecolor": "white",
             "minorgridcolor": "white",
             "startlinecolor": "#2a3f5f"
            },
            "baxis": {
             "endlinecolor": "#2a3f5f",
             "gridcolor": "white",
             "linecolor": "white",
             "minorgridcolor": "white",
             "startlinecolor": "#2a3f5f"
            },
            "type": "carpet"
           }
          ],
          "choropleth": [
           {
            "colorbar": {
             "outlinewidth": 0,
             "ticks": ""
            },
            "type": "choropleth"
           }
          ],
          "contour": [
           {
            "colorbar": {
             "outlinewidth": 0,
             "ticks": ""
            },
            "colorscale": [
             [
              0,
              "#0d0887"
             ],
             [
              0.1111111111111111,
              "#46039f"
             ],
             [
              0.2222222222222222,
              "#7201a8"
             ],
             [
              0.3333333333333333,
              "#9c179e"
             ],
             [
              0.4444444444444444,
              "#bd3786"
             ],
             [
              0.5555555555555556,
              "#d8576b"
             ],
             [
              0.6666666666666666,
              "#ed7953"
             ],
             [
              0.7777777777777778,
              "#fb9f3a"
             ],
             [
              0.8888888888888888,
              "#fdca26"
             ],
             [
              1,
              "#f0f921"
             ]
            ],
            "type": "contour"
           }
          ],
          "contourcarpet": [
           {
            "colorbar": {
             "outlinewidth": 0,
             "ticks": ""
            },
            "type": "contourcarpet"
           }
          ],
          "heatmap": [
           {
            "colorbar": {
             "outlinewidth": 0,
             "ticks": ""
            },
            "colorscale": [
             [
              0,
              "#0d0887"
             ],
             [
              0.1111111111111111,
              "#46039f"
             ],
             [
              0.2222222222222222,
              "#7201a8"
             ],
             [
              0.3333333333333333,
              "#9c179e"
             ],
             [
              0.4444444444444444,
              "#bd3786"
             ],
             [
              0.5555555555555556,
              "#d8576b"
             ],
             [
              0.6666666666666666,
              "#ed7953"
             ],
             [
              0.7777777777777778,
              "#fb9f3a"
             ],
             [
              0.8888888888888888,
              "#fdca26"
             ],
             [
              1,
              "#f0f921"
             ]
            ],
            "type": "heatmap"
           }
          ],
          "histogram": [
           {
            "marker": {
             "pattern": {
              "fillmode": "overlay",
              "size": 10,
              "solidity": 0.2
             }
            },
            "type": "histogram"
           }
          ],
          "histogram2d": [
           {
            "colorbar": {
             "outlinewidth": 0,
             "ticks": ""
            },
            "colorscale": [
             [
              0,
              "#0d0887"
             ],
             [
              0.1111111111111111,
              "#46039f"
             ],
             [
              0.2222222222222222,
              "#7201a8"
             ],
             [
              0.3333333333333333,
              "#9c179e"
             ],
             [
              0.4444444444444444,
              "#bd3786"
             ],
             [
              0.5555555555555556,
              "#d8576b"
             ],
             [
              0.6666666666666666,
              "#ed7953"
             ],
             [
              0.7777777777777778,
              "#fb9f3a"
             ],
             [
              0.8888888888888888,
              "#fdca26"
             ],
             [
              1,
              "#f0f921"
             ]
            ],
            "type": "histogram2d"
           }
          ],
          "histogram2dcontour": [
           {
            "colorbar": {
             "outlinewidth": 0,
             "ticks": ""
            },
            "colorscale": [
             [
              0,
              "#0d0887"
             ],
             [
              0.1111111111111111,
              "#46039f"
             ],
             [
              0.2222222222222222,
              "#7201a8"
             ],
             [
              0.3333333333333333,
              "#9c179e"
             ],
             [
              0.4444444444444444,
              "#bd3786"
             ],
             [
              0.5555555555555556,
              "#d8576b"
             ],
             [
              0.6666666666666666,
              "#ed7953"
             ],
             [
              0.7777777777777778,
              "#fb9f3a"
             ],
             [
              0.8888888888888888,
              "#fdca26"
             ],
             [
              1,
              "#f0f921"
             ]
            ],
            "type": "histogram2dcontour"
           }
          ],
          "mesh3d": [
           {
            "colorbar": {
             "outlinewidth": 0,
             "ticks": ""
            },
            "type": "mesh3d"
           }
          ],
          "parcoords": [
           {
            "line": {
             "colorbar": {
              "outlinewidth": 0,
              "ticks": ""
             }
            },
            "type": "parcoords"
           }
          ],
          "pie": [
           {
            "automargin": true,
            "type": "pie"
           }
          ],
          "scatter": [
           {
            "fillpattern": {
             "fillmode": "overlay",
             "size": 10,
             "solidity": 0.2
            },
            "type": "scatter"
           }
          ],
          "scatter3d": [
           {
            "line": {
             "colorbar": {
              "outlinewidth": 0,
              "ticks": ""
             }
            },
            "marker": {
             "colorbar": {
              "outlinewidth": 0,
              "ticks": ""
             }
            },
            "type": "scatter3d"
           }
          ],
          "scattercarpet": [
           {
            "marker": {
             "colorbar": {
              "outlinewidth": 0,
              "ticks": ""
             }
            },
            "type": "scattercarpet"
           }
          ],
          "scattergeo": [
           {
            "marker": {
             "colorbar": {
              "outlinewidth": 0,
              "ticks": ""
             }
            },
            "type": "scattergeo"
           }
          ],
          "scattergl": [
           {
            "marker": {
             "colorbar": {
              "outlinewidth": 0,
              "ticks": ""
             }
            },
            "type": "scattergl"
           }
          ],
          "scattermap": [
           {
            "marker": {
             "colorbar": {
              "outlinewidth": 0,
              "ticks": ""
             }
            },
            "type": "scattermap"
           }
          ],
          "scattermapbox": [
           {
            "marker": {
             "colorbar": {
              "outlinewidth": 0,
              "ticks": ""
             }
            },
            "type": "scattermapbox"
           }
          ],
          "scatterpolar": [
           {
            "marker": {
             "colorbar": {
              "outlinewidth": 0,
              "ticks": ""
             }
            },
            "type": "scatterpolar"
           }
          ],
          "scatterpolargl": [
           {
            "marker": {
             "colorbar": {
              "outlinewidth": 0,
              "ticks": ""
             }
            },
            "type": "scatterpolargl"
           }
          ],
          "scatterternary": [
           {
            "marker": {
             "colorbar": {
              "outlinewidth": 0,
              "ticks": ""
             }
            },
            "type": "scatterternary"
           }
          ],
          "surface": [
           {
            "colorbar": {
             "outlinewidth": 0,
             "ticks": ""
            },
            "colorscale": [
             [
              0,
              "#0d0887"
             ],
             [
              0.1111111111111111,
              "#46039f"
             ],
             [
              0.2222222222222222,
              "#7201a8"
             ],
             [
              0.3333333333333333,
              "#9c179e"
             ],
             [
              0.4444444444444444,
              "#bd3786"
             ],
             [
              0.5555555555555556,
              "#d8576b"
             ],
             [
              0.6666666666666666,
              "#ed7953"
             ],
             [
              0.7777777777777778,
              "#fb9f3a"
             ],
             [
              0.8888888888888888,
              "#fdca26"
             ],
             [
              1,
              "#f0f921"
             ]
            ],
            "type": "surface"
           }
          ],
          "table": [
           {
            "cells": {
             "fill": {
              "color": "#EBF0F8"
             },
             "line": {
              "color": "white"
             }
            },
            "header": {
             "fill": {
              "color": "#C8D4E3"
             },
             "line": {
              "color": "white"
             }
            },
            "type": "table"
           }
          ]
         },
         "layout": {
          "annotationdefaults": {
           "arrowcolor": "#2a3f5f",
           "arrowhead": 0,
           "arrowwidth": 1
          },
          "autotypenumbers": "strict",
          "coloraxis": {
           "colorbar": {
            "outlinewidth": 0,
            "ticks": ""
           }
          },
          "colorscale": {
           "diverging": [
            [
             0,
             "#8e0152"
            ],
            [
             0.1,
             "#c51b7d"
            ],
            [
             0.2,
             "#de77ae"
            ],
            [
             0.3,
             "#f1b6da"
            ],
            [
             0.4,
             "#fde0ef"
            ],
            [
             0.5,
             "#f7f7f7"
            ],
            [
             0.6,
             "#e6f5d0"
            ],
            [
             0.7,
             "#b8e186"
            ],
            [
             0.8,
             "#7fbc41"
            ],
            [
             0.9,
             "#4d9221"
            ],
            [
             1,
             "#276419"
            ]
           ],
           "sequential": [
            [
             0,
             "#0d0887"
            ],
            [
             0.1111111111111111,
             "#46039f"
            ],
            [
             0.2222222222222222,
             "#7201a8"
            ],
            [
             0.3333333333333333,
             "#9c179e"
            ],
            [
             0.4444444444444444,
             "#bd3786"
            ],
            [
             0.5555555555555556,
             "#d8576b"
            ],
            [
             0.6666666666666666,
             "#ed7953"
            ],
            [
             0.7777777777777778,
             "#fb9f3a"
            ],
            [
             0.8888888888888888,
             "#fdca26"
            ],
            [
             1,
             "#f0f921"
            ]
           ],
           "sequentialminus": [
            [
             0,
             "#0d0887"
            ],
            [
             0.1111111111111111,
             "#46039f"
            ],
            [
             0.2222222222222222,
             "#7201a8"
            ],
            [
             0.3333333333333333,
             "#9c179e"
            ],
            [
             0.4444444444444444,
             "#bd3786"
            ],
            [
             0.5555555555555556,
             "#d8576b"
            ],
            [
             0.6666666666666666,
             "#ed7953"
            ],
            [
             0.7777777777777778,
             "#fb9f3a"
            ],
            [
             0.8888888888888888,
             "#fdca26"
            ],
            [
             1,
             "#f0f921"
            ]
           ]
          },
          "colorway": [
           "#636efa",
           "#EF553B",
           "#00cc96",
           "#ab63fa",
           "#FFA15A",
           "#19d3f3",
           "#FF6692",
           "#B6E880",
           "#FF97FF",
           "#FECB52"
          ],
          "font": {
           "color": "#2a3f5f"
          },
          "geo": {
           "bgcolor": "white",
           "lakecolor": "white",
           "landcolor": "#E5ECF6",
           "showlakes": true,
           "showland": true,
           "subunitcolor": "white"
          },
          "hoverlabel": {
           "align": "left"
          },
          "hovermode": "closest",
          "mapbox": {
           "style": "light"
          },
          "paper_bgcolor": "white",
          "plot_bgcolor": "#E5ECF6",
          "polar": {
           "angularaxis": {
            "gridcolor": "white",
            "linecolor": "white",
            "ticks": ""
           },
           "bgcolor": "#E5ECF6",
           "radialaxis": {
            "gridcolor": "white",
            "linecolor": "white",
            "ticks": ""
           }
          },
          "scene": {
           "xaxis": {
            "backgroundcolor": "#E5ECF6",
            "gridcolor": "white",
            "gridwidth": 2,
            "linecolor": "white",
            "showbackground": true,
            "ticks": "",
            "zerolinecolor": "white"
           },
           "yaxis": {
            "backgroundcolor": "#E5ECF6",
            "gridcolor": "white",
            "gridwidth": 2,
            "linecolor": "white",
            "showbackground": true,
            "ticks": "",
            "zerolinecolor": "white"
           },
           "zaxis": {
            "backgroundcolor": "#E5ECF6",
            "gridcolor": "white",
            "gridwidth": 2,
            "linecolor": "white",
            "showbackground": true,
            "ticks": "",
            "zerolinecolor": "white"
           }
          },
          "shapedefaults": {
           "line": {
            "color": "#2a3f5f"
           }
          },
          "ternary": {
           "aaxis": {
            "gridcolor": "white",
            "linecolor": "white",
            "ticks": ""
           },
           "baxis": {
            "gridcolor": "white",
            "linecolor": "white",
            "ticks": ""
           },
           "bgcolor": "#E5ECF6",
           "caxis": {
            "gridcolor": "white",
            "linecolor": "white",
            "ticks": ""
           }
          },
          "title": {
           "x": 0.05
          },
          "xaxis": {
           "automargin": true,
           "gridcolor": "white",
           "linecolor": "white",
           "ticks": "",
           "title": {
            "standoff": 15
           },
           "zerolinecolor": "white",
           "zerolinewidth": 2
          },
          "yaxis": {
           "automargin": true,
           "gridcolor": "white",
           "linecolor": "white",
           "ticks": "",
           "title": {
            "standoff": 15
           },
           "zerolinecolor": "white",
           "zerolinewidth": 2
          }
         }
        },
        "width": 400,
        "xaxis": {
         "dtick": 0.2,
         "gridcolor": "lightblue",
         "gridwidth": 1,
         "linecolor": "black",
         "linewidth": 2,
         "range": [
          0,
          2
         ],
         "showgrid": true,
         "side": "bottom",
         "tick0": 0,
         "tickcolor": "black",
         "tickfont": {
          "color": "black",
          "size": 10
         },
         "ticklen": 8,
         "tickmode": "linear",
         "tickwidth": 2,
         "title": {
          "text": ""
         }
        },
        "yaxis": {
         "domain": [
          0,
          1
         ],
         "dtick": 100,
         "gridcolor": "lightgray",
         "gridwidth": 1,
         "range": [
          3000,
          -200
         ],
         "showgrid": true,
         "tick0": 0,
         "tickcolor": "black",
         "ticklen": 5,
         "tickmode": "linear",
         "tickwidth": 2,
         "title": {
          "text": "Depth [mm]"
         },
         "zeroline": true,
         "zerolinecolor": "gray",
         "zerolinewidth": 2
        }
       }
      }
     },
     "metadata": {},
     "output_type": "display_data"
    }
   ],
   "source": [
    "from plotly_snow_profile import criticality_plots\n",
    "\n",
    "crit_plots_fig = criticality_plots(plot_weaklayer, plot_layers, dataframe)\n",
    "crit_plots_fig.show()"
   ]
  },
  {
   "cell_type": "code",
   "execution_count": 14,
   "id": "a31980f1",
   "metadata": {},
   "outputs": [
    {
     "data": {
      "application/vnd.plotly.v1+json": {
       "config": {
        "plotlyServerURL": "https://plot.ly"
       },
       "data": [
        {
         "colorscale": [
          [
           0,
           "rgb(255,245,240)"
          ],
          [
           0.125,
           "rgb(254,224,210)"
          ],
          [
           0.25,
           "rgb(252,187,161)"
          ],
          [
           0.375,
           "rgb(252,146,114)"
          ],
          [
           0.5,
           "rgb(251,106,74)"
          ],
          [
           0.625,
           "rgb(239,59,44)"
          ],
          [
           0.75,
           "rgb(203,24,29)"
          ],
          [
           0.875,
           "rgb(165,15,21)"
          ],
          [
           1,
           "rgb(103,0,13)"
          ]
         ],
         "hoverinfo": "skip",
         "reversescale": false,
         "showscale": false,
         "type": "heatmap",
         "x": [
          0,
          0.5,
          1
         ],
         "y": {
          "bdata": "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",
          "dtype": "f8"
         },
         "z": {
          "bdata": "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",
          "dtype": "f8",
          "shape": "610, 2"
         },
         "zmax": 1,
         "zmin": 0
        },
        {
         "colorscale": [
          [
           0,
           "rgb(255,245,240)"
          ],
          [
           0.125,
           "rgb(254,224,210)"
          ],
          [
           0.25,
           "rgb(252,187,161)"
          ],
          [
           0.375,
           "rgb(252,146,114)"
          ],
          [
           0.5,
           "rgb(251,106,74)"
          ],
          [
           0.625,
           "rgb(239,59,44)"
          ],
          [
           0.75,
           "rgb(203,24,29)"
          ],
          [
           0.875,
           "rgb(165,15,21)"
          ],
          [
           1,
           "rgb(103,0,13)"
          ]
         ],
         "hoverinfo": "skip",
         "reversescale": false,
         "showscale": false,
         "type": "heatmap",
         "x": [
          1,
          1.5,
          2
         ],
         "y": {
          "bdata": "AAAAAAAAAADKIPLAVbQTQMog8sBVtCNALzFroYCOLUDKIPLAVbQzQPyoLjFroThALzFroYCOPUCx3NMIyz1BQMog8sBVtENA42QQeeAqRkD8qC4xa6FIQBbtTOn1F0tALzFroYCOTUCkusSshQJQQLHc0wjLPVFAvf7iZBB5UkDKIPLAVbRTQNdCAR2b71RA42QQeeAqVkDwhh/VJWZXQPyoLjFroVhACcs9jbDcWUAW7Uzp9RdbQCIPXEU7U1xALzFroYCOXUA8U3r9xcleQKS6xKyFAmBAqkvMWiigYECx3NMIyz1hQLdt27Zt22FAvf7iZBB5YkDEj+oSsxZjQMog8sBVtGNA0LH5bvhRZEDXQgEdm+9kQN3TCMs9jWVA42QQeeAqZkDq9Rcng8hmQPCGH9UlZmdA9hcng8gDaED8qC4xa6FoQAM6Nt8NP2lACcs9jbDcaUAPXEU7U3pqQBbtTOn1F2tAHH5Ul5i1a0AiD1xFO1NsQCmgY/Pd8GxALzFroYCObUA1wnJPIyxuQDxTev3FyW5AQuSBq2hnb0CkusSshQJwQCeDyANXUXBAqkvMWiigcEAuFNCx+e5wQLHc0wjLPXFANKXXX5yMcUC3bdu2bdtxQDo23w0/KnJAvf7iZBB5ckBBx+a74cdyQMSP6hKzFnNAR1juaYRlc0DKIPLAVbRzQE3p9RcnA3RA0LH5bvhRdEBTev3FyaB0QNdCAR2b73RAWgsFdGw+dUDd0wjLPY11QGCcDCIP3HVA42QQeeAqdkBmLRTQsXl2QOr1FyeDyHZAbb4bflQXd0Dwhh/VJWZ3QHNPIyz3tHdA9hcng8gDeEB54CramVJ4QPyoLjFroXhAgHEyiDzweEADOjbfDT95QIYCOjbfjXlACcs9jbDceUCMk0HkgSt6QA9cRTtTenpAkyRJkiTJekAW7Uzp9Rd7QJm1UEDHZntAHH5Ul5i1e0CfRljuaQR8QCIPXEU7U3xAptdfnAyifEApoGPz3fB8QKxoZ0qvP31ALzFroYCOfUCy+W74Ud19QDXCck8jLH5AuIp2pvR6fkA8U3r9xcl+QL8bflSXGH9AQuSBq2hnf0DFrIUCOrZ/QKS6xKyFAoBA5p5GWO4pgEAng8gDV1GAQGlnSq+/eIBAqkvMWiiggEDsL04GkceAQC4U0LH57oBAb/hRXWIWgUCx3NMIyz2BQPLAVbQzZYFANKXXX5yMgUB1iVkLBbSBQLdt27Zt24FA+VFdYtYCgkA6Nt8NPyqCQHwaYbmnUYJAvf7iZBB5gkD/4mQQeaCCQEHH5rvhx4JAgqtoZ0rvgkDEj+oSsxaDQAV0bL4bPoNAR1juaYRlg0CIPHAV7YyDQMog8sBVtINADAV0bL7bg0BN6fUXJwOEQI/Nd8OPKoRA0LH5bvhRhEASlnsaYXmEQFN6/cXJoIRAlV5/cTLIhEDXQgEdm++EQBgng8gDF4VAWgsFdGw+hUCb74Yf1WWFQN3TCMs9jYVAH7iKdqa0hUBgnAwiD9yFQKKAjs13A4ZA42QQeeAqhkAlSZIkSVKGQGYtFNCxeYZAqBGWexqhhkDq9Rcng8iGQCvamdLr74ZAbb4bflQXh0Cuop0pvT6HQPCGH9UlZodAMWuhgI6Nh0BzTyMs97SHQLUzpddf3IdA9hcng8gDiEA4/KguMSuIQHngKtqZUohAu8SshQJ6iED8qC4xa6GIQD6NsNzTyIhAgHEyiDzwiEDBVbQzpReJQAM6Nt8NP4lARB64inZmiUCGAjo2342JQMjmu+FHtYlACcs9jbDciUBLr784GQSKQIyTQeSBK4pAznfDj+pSikAPXEU7U3qKQFFAx+a7oYpAkyRJkiTJikDUCMs9jfCKQBbtTOn1F4tAV9HOlF4/i0CZtVBAx2aLQNqZ0usvjotAHH5Ul5i1i0BeYtZCAd2LQJ9GWO5pBIxA4SramdIrjEAiD1xFO1OMQGTz3fCjeoxAptdfnAyijEDnu+FHdcmMQCmgY/Pd8IxAaoTlnkYYjUCsaGdKrz+NQO1M6fUXZ41ALzFroYCOjUBxFe1M6bWNQLL5bvhR3Y1A9N3wo7oEjkA1wnJPIyyOQHem9PqLU45AuIp2pvR6jkD6bvhRXaKOQDxTev3FyY5AfTf8qC7xjkC/G35UlxiPQAAAAAAAQI9AQuSBq2hnj0CEyANX0Y6PQMWshQI6to9AB5EHrqLdj0CkusSshQKQQMWshQI6FpBA5p5GWO4pkEAGkQeuoj2QQCeDyANXUZBASHWJWQtlkEBpZ0qvv3iQQIpZCwV0jJBAqkvMWiigkEDLPY2w3LOQQOwvTgaRx5BADSIPXEXbkEAuFNCx+e6QQE4GkQeuApFAb/hRXWIWkUCQ6hKzFiqRQLHc0wjLPZFA0s6UXn9RkUDywFW0M2WRQBOzFgroeJFANKXXX5yMkUBVl5i1UKCRQHWJWQsFtJFAlnsaYbnHkUC3bdu2bduRQNhfnAwi75FA+VFdYtYCkkAZRB64ihaSQDo23w0/KpJAWyigY/M9kkB8GmG5p1GSQJ0MIg9cZZJAvf7iZBB5kkDe8KO6xIySQP/iZBB5oJJAINUlZi20kkBBx+a74ceSQGG5pxGW25JAgqtoZ0rvkkCjnSm9/gKTQMSP6hKzFpNA5IGraGcqk0AFdGy+Gz6TQCZmLRTQUZNAR1juaYRlk0BoSq+/OHmTQIg8cBXtjJNAqS4xa6Ggk0DKIPLAVbSTQOsSsxYKyJNADAV0bL7bk0As9zTCcu+TQE3p9RcnA5RAbtu2bdsWlECPzXfDjyqUQLC/OBlEPpRA0LH5bvhRlEDxo7rErGWUQBKWexpheZRAM4g8cBWNlEBTev3FyaCUQHRsvht+tJRAlV5/cTLIlEC2UEDH5tuUQNdCAR2b75RA9zTCck8DlUAYJ4PIAxeVQDkZRB64KpVAWgsFdGw+lUB7/cXJIFKVQJvvhh/VZZVAvOFHdYl5lUDd0wjLPY2VQP7FySDyoJVAH7iKdqa0lUA/qkvMWsiVQGCcDCIP3JVAgY7Nd8PvlUCigI7NdwOWQMJyTyMsF5ZA42QQeeAqlkAEV9HOlD6WQCVJkiRJUpZARjtTev1llkBmLRTQsXmWQIcf1SVmjZZAqBGWexqhlkDJA1fRzrSWQOr1FyeDyJZACujYfDfclkAr2pnS6++WQEzMWiigA5dAbb4bflQXl0COsNzTCCuXQK6inSm9PpdAz5Ref3FSl0Dwhh/VJWaXQBF54CraeZdAMWuhgI6Nl0BSXWLWQqGXQHNPIyz3tJdAlEHkgavIl0C1M6XXX9yXQNUlZi0U8JdA9hcng8gDmEAXCujYfBeYQDj8qC4xK5hAWe5phOU+mEB54CramVKYQJrS6y9OZphAu8SshQJ6mEDctm3bto2YQPyoLjFroZhAHZvvhh+1mEA+jbDc08iYQF9/cTKI3JhAgHEyiDzwmECgY/Pd8AOZQMFVtDOlF5lA4kd1iVkrmUADOjbfDT+ZQCQs9zTCUplARB64inZmmUBlEHngKnqZQIYCOjbfjZlAp/T6i5OhmUDI5rvhR7WZQOjYfDf8yJlACcs9jbDcmUAqvf7iZPCZQEuvvzgZBJpAa6GAjs0XmkCMk0HkgSuaQK2FAjo2P5pAznfDj+pSmkDvaYTlnmaaQA9cRTtTeppAME4GkQeOmkBRQMfmu6GaQHIyiDxwtZpAkyRJkiTJmkCzFgro2NyaQNQIyz2N8JpA9fqLk0EEm0AW7Uzp9RebQDffDT+qK5tAV9HOlF4/m0B4w4/qElObQJm1UEDHZptAuqcRlnt6m0DamdLrL46bQPuLk0HkoZtAHH5Ul5i1m0A9cBXtTMmbQF5i1kIB3ZtAflSXmLXwm0CfRljuaQScQMA4GUQeGJxA4SramdIrnEACHZvvhj+cQCIPXEU7U5xAQwEdm+9mnEBk893wo3qcQIXlnkZYjpxAptdfnAyinEDGySDywLWcQOe74Ud1yZxACK6inSndnEApoGPz3fCcQEmSJEmSBJ1AaoTlnkYYnUCLdqb0+iudQKxoZ0qvP51AzVoooGNTnUDtTOn1F2edQA4/qkvMep1ALzFroYCOnUBQIyz3NKKdQHEV7UzptZ1AkQeuop3JnUCy+W74Ud2dQNPrL04G8Z1A9N3wo7oEnkAV0LH5bhieQDXCck8jLJ5AVrQzpdc/nkB3pvT6i1OeQJiYtVBAZ55AuIp2pvR6nkDZfDf8qI6eQPpu+FFdop5AG2G5pxG2nkA8U3r9xcmeQFxFO1N63Z5AfTf8qC7xnkCeKb3+4gSfQL8bflSXGJ9A4A0/qkssn0AAAAAAAECfQCHywFW0U59AQuSBq2hnn0Bj1kIBHXufQITIA1fRjp9ApLrErIWin0DFrIUCOrafQOaeRljuyZ9AB5EHrqLdn0Ang8gDV/GfQKS6xKyFAqBAtTOl118MoEDFrIUCOhagQNUlZi0UIKBA5p5GWO4poED2FyeDyDOgQAaRB66iPaBAFwro2HxHoEAng8gDV1GgQDj8qC4xW6BASHWJWQtloEBY7mmE5W6gQGlnSq+/eKBAeeAq2pmCoECKWQsFdIygQJrS6y9OlqBAqkvMWiigoEC7xKyFAqqgQMs9jbDcs6BA3LZt27a9oEDsL04GkcegQPyoLjFr0aBADSIPXEXboEAdm++GH+WgQC4U0LH57qBAPo2w3NP4oEBOBpEHrgKhQF9/cTKIDKFAb/hRXWIWoUCAcTKIPCChQJDqErMWKqFAoGPz3fAzoUCx3NMIyz2hQMFVtDOlR6FA0s6UXn9RoUDiR3WJWVuhQPLAVbQzZaFAAzo23w1voUATsxYK6HihQCQs9zTCgqFANKXXX5yMoUBEHriKdpahQFWXmLVQoKFAZRB54CqqoUB1iVkLBbShQIYCOjbfvaFAlnsaYbnHoUCn9PqLk9GhQLdt27Zt26FAx+a74UfloUDYX5wMIu+hQOjYfDf8+KFA+VFdYtYCokAJyz2NsAyiQBlEHriKFqJAKr3+4mQgokA6Nt8NPyqiQEuvvzgZNKJAWyigY/M9okBroYCOzUeiQHwaYbmnUaJAjJNB5IFbokCdDCIPXGWiQK2FAjo2b6JAvf7iZBB5okDOd8OP6oKiQN7wo7rEjKJA72mE5Z6WokD/4mQQeaCiQA9cRTtTqqJAINUlZi20okAwTgaRB76iQEHH5rvhx6JAUUDH5rvRokBhuacRltuiQHIyiDxw5aJAgqtoZ0rvokCTJEmSJPmiQKOdKb3+AqNAsxYK6NgMo0DEj+oSsxajQNQIyz2NIKNA5IGraGcqo0D1+ouTQTSjQAV0bL4bPqNAFu1M6fVHo0AmZi0U0FGjQDbfDT+qW6NAR1juaYRlo0BX0c6UXm+jQGhKr784eaNAeMOP6hKDo0CIPHAV7YyjQJm1UEDHlqNAqS4xa6Ggo0C6pxGWe6qjQMog8sBVtKNA2pnS6y++o0DrErMWCsijQPuLk0Hk0aNADAV0bL7bo0AcflSXmOWjQCz3NMJy76NAPXAV7Uz5o0BN6fUXJwOkQF5i1kIBDaRAbtu2bdsWpEB+VJeYtSCkQI/Nd8OPKqRAn0ZY7mk0pECwvzgZRD6kQMA4GUQeSKRA0LH5bvhRpEDhKtqZ0lukQPGjusSsZaRAAR2b74ZvpEASlnsaYXmkQCIPXEU7g6RAM4g8cBWNpEBDAR2b75akQFN6/cXJoKRAZPPd8KOqpEB0bL4bfrSkQIXlnkZYvqRAlV5/cTLIpECl11+cDNKkQLZQQMfm26RAxskg8sDlpEDXQgEdm++kQOe74Ud1+aRA9zTCck8DpUAIrqKdKQ2lQBgng8gDF6VAKaBj890gpUA5GUQeuCqlQEmSJEmSNKVAWgsFdGw+pUBqhOWeRkilQHv9xckgUqVAi3am9PpbpUCb74Yf1WWlQKxoZ0qvb6VAvOFHdYl5pUDNWiigY4OlQN3TCMs9jaVA7Uzp9ReXpUD+xckg8qClQA4/qkvMqqVAH7iKdqa0pUAvMWuhgL6lQD+qS8xayKVAUCMs9zTSpUBgnAwiD9ylQHAV7Uzp5aVAgY7Nd8PvpUCRB66infmlQKKAjs13A6ZAsvlu+FENpkDCck8jLBemQNPrL04GIaZA42QQeeAqpkD03fCjujSmQARX0c6UPqZAFNCx+W5IpkAlSZIkSVKmQDXCck8jXKZARjtTev1lpkBWtDOl12+mQGYtFNCxeaZAd6b0+ouDpkCHH9UlZo2mQJiYtVBAl6ZAqBGWexqhpkC4inam9KqmQMkDV9HOtKZA2Xw3/Ki+pkDq9Rcng8imQPpu+FFd0qZACujYfDfcpkAbYbmnEeamQCvamdLr76ZAPFN6/cX5pkBMzFoooAOnQFxFO1N6DadAbb4bflQXp0B9N/yoLiGnQI6w3NMIK6dAnim9/uI0p0Cuop0pvT6nQL8bflSXSKdAz5Ref3FSp0DfDT+qS1ynQPCGH9UlZqdAAAAAAABwp0A=",
          "dtype": "f8"
         },
         "z": {
          "bdata": "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",
          "dtype": "f8",
          "shape": "610, 2"
         },
         "zmax": 1,
         "zmin": 0
        },
        {
         "colorbar": {
          "title": {
           "text": "Cum."
          }
         },
         "colorscale": [
          [
           0,
           "rgb(0,180,0)"
          ],
          [
           0.1,
           "rgb(80,200,0)"
          ],
          [
           0.2,
           "rgb(170,220,0)"
          ],
          [
           0.33,
           "yellow"
          ],
          [
           0.45,
           "rgb(255,180,0)"
          ],
          [
           0.55,
           "orange"
          ],
          [
           0.7,
           "orangered"
          ],
          [
           0.85,
           "red"
          ],
          [
           1,
           "darkred"
          ]
         ],
         "showscale": true,
         "type": "heatmap",
         "x": [
          2,
          2.5,
          3
         ],
         "y": {
          "bdata": "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",
          "dtype": "f8"
         },
         "z": {
          "bdata": "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",
          "dtype": "f8",
          "shape": "610, 2"
         },
         "zmax": 1,
         "zmin": 0
        },
        {
         "line": {
          "color": "lightgrey",
          "width": 0.5
         },
         "mode": "lines",
         "showlegend": false,
         "type": "scatter",
         "x": [
          2,
          2
         ],
         "y": [
          0,
          3000
         ]
        },
        {
         "line": {
          "color": "lightgrey",
          "width": 0.5
         },
         "mode": "lines",
         "showlegend": false,
         "type": "scatter",
         "x": [
          2.3,
          2.3
         ],
         "y": [
          0,
          3000
         ]
        },
        {
         "line": {
          "color": "lightgrey",
          "width": 0.5
         },
         "mode": "lines",
         "showlegend": false,
         "type": "scatter",
         "x": [
          2.6,
          2.6
         ],
         "y": [
          0,
          3000
         ]
        },
        {
         "line": {
          "color": "lightgrey",
          "width": 0.5
         },
         "mode": "lines",
         "showlegend": false,
         "type": "scatter",
         "x": [
          2.9,
          2.9
         ],
         "y": [
          0,
          3000
         ]
        },
        {
         "hoverinfo": "skip",
         "line": {
          "color": "white",
          "width": 0.5
         },
         "mode": "lines",
         "showlegend": false,
         "type": "scatter",
         "x": [
          0,
          3
         ],
         "y": [
          0,
          0
         ]
        },
        {
         "hoverinfo": "skip",
         "line": {
          "color": "white",
          "width": 0.5
         },
         "mode": "lines",
         "showlegend": false,
         "type": "scatter",
         "x": [
          0,
          3
         ],
         "y": [
          100,
          100
         ]
        },
        {
         "hoverinfo": "skip",
         "line": {
          "color": "white",
          "width": 0.5
         },
         "mode": "lines",
         "showlegend": false,
         "type": "scatter",
         "x": [
          0,
          3
         ],
         "y": [
          200,
          200
         ]
        },
        {
         "hoverinfo": "skip",
         "line": {
          "color": "white",
          "width": 0.5
         },
         "mode": "lines",
         "showlegend": false,
         "type": "scatter",
         "x": [
          0,
          3
         ],
         "y": [
          300,
          300
         ]
        },
        {
         "hoverinfo": "skip",
         "line": {
          "color": "white",
          "width": 0.5
         },
         "mode": "lines",
         "showlegend": false,
         "type": "scatter",
         "x": [
          0,
          3
         ],
         "y": [
          400,
          400
         ]
        },
        {
         "hoverinfo": "skip",
         "line": {
          "color": "white",
          "width": 0.5
         },
         "mode": "lines",
         "showlegend": false,
         "type": "scatter",
         "x": [
          0,
          3
         ],
         "y": [
          500,
          500
         ]
        },
        {
         "hoverinfo": "skip",
         "line": {
          "color": "white",
          "width": 0.5
         },
         "mode": "lines",
         "showlegend": false,
         "type": "scatter",
         "x": [
          0,
          3
         ],
         "y": [
          600,
          600
         ]
        },
        {
         "hoverinfo": "skip",
         "line": {
          "color": "white",
          "width": 0.5
         },
         "mode": "lines",
         "showlegend": false,
         "type": "scatter",
         "x": [
          0,
          3
         ],
         "y": [
          700,
          700
         ]
        },
        {
         "hoverinfo": "skip",
         "line": {
          "color": "white",
          "width": 0.5
         },
         "mode": "lines",
         "showlegend": false,
         "type": "scatter",
         "x": [
          0,
          3
         ],
         "y": [
          800,
          800
         ]
        },
        {
         "hoverinfo": "skip",
         "line": {
          "color": "white",
          "width": 0.5
         },
         "mode": "lines",
         "showlegend": false,
         "type": "scatter",
         "x": [
          0,
          3
         ],
         "y": [
          900,
          900
         ]
        },
        {
         "hoverinfo": "skip",
         "line": {
          "color": "white",
          "width": 0.5
         },
         "mode": "lines",
         "showlegend": false,
         "type": "scatter",
         "x": [
          0,
          3
         ],
         "y": [
          1000,
          1000
         ]
        },
        {
         "hoverinfo": "skip",
         "line": {
          "color": "white",
          "width": 0.5
         },
         "mode": "lines",
         "showlegend": false,
         "type": "scatter",
         "x": [
          0,
          3
         ],
         "y": [
          1100,
          1100
         ]
        },
        {
         "hoverinfo": "skip",
         "line": {
          "color": "white",
          "width": 0.5
         },
         "mode": "lines",
         "showlegend": false,
         "type": "scatter",
         "x": [
          0,
          3
         ],
         "y": [
          1200,
          1200
         ]
        },
        {
         "hoverinfo": "skip",
         "line": {
          "color": "white",
          "width": 0.5
         },
         "mode": "lines",
         "showlegend": false,
         "type": "scatter",
         "x": [
          0,
          3
         ],
         "y": [
          1300,
          1300
         ]
        },
        {
         "hoverinfo": "skip",
         "line": {
          "color": "white",
          "width": 0.5
         },
         "mode": "lines",
         "showlegend": false,
         "type": "scatter",
         "x": [
          0,
          3
         ],
         "y": [
          1400,
          1400
         ]
        },
        {
         "hoverinfo": "skip",
         "line": {
          "color": "white",
          "width": 0.5
         },
         "mode": "lines",
         "showlegend": false,
         "type": "scatter",
         "x": [
          0,
          3
         ],
         "y": [
          1500,
          1500
         ]
        },
        {
         "hoverinfo": "skip",
         "line": {
          "color": "white",
          "width": 0.5
         },
         "mode": "lines",
         "showlegend": false,
         "type": "scatter",
         "x": [
          0,
          3
         ],
         "y": [
          1600,
          1600
         ]
        },
        {
         "hoverinfo": "skip",
         "line": {
          "color": "white",
          "width": 0.5
         },
         "mode": "lines",
         "showlegend": false,
         "type": "scatter",
         "x": [
          0,
          3
         ],
         "y": [
          1700,
          1700
         ]
        },
        {
         "hoverinfo": "skip",
         "line": {
          "color": "white",
          "width": 0.5
         },
         "mode": "lines",
         "showlegend": false,
         "type": "scatter",
         "x": [
          0,
          3
         ],
         "y": [
          1800,
          1800
         ]
        },
        {
         "hoverinfo": "skip",
         "line": {
          "color": "white",
          "width": 0.5
         },
         "mode": "lines",
         "showlegend": false,
         "type": "scatter",
         "x": [
          0,
          3
         ],
         "y": [
          1900,
          1900
         ]
        },
        {
         "hoverinfo": "skip",
         "line": {
          "color": "white",
          "width": 0.5
         },
         "mode": "lines",
         "showlegend": false,
         "type": "scatter",
         "x": [
          0,
          3
         ],
         "y": [
          2000,
          2000
         ]
        },
        {
         "hoverinfo": "skip",
         "line": {
          "color": "white",
          "width": 0.5
         },
         "mode": "lines",
         "showlegend": false,
         "type": "scatter",
         "x": [
          0,
          3
         ],
         "y": [
          2100,
          2100
         ]
        },
        {
         "hoverinfo": "skip",
         "line": {
          "color": "white",
          "width": 0.5
         },
         "mode": "lines",
         "showlegend": false,
         "type": "scatter",
         "x": [
          0,
          3
         ],
         "y": [
          2200,
          2200
         ]
        },
        {
         "hoverinfo": "skip",
         "line": {
          "color": "white",
          "width": 0.5
         },
         "mode": "lines",
         "showlegend": false,
         "type": "scatter",
         "x": [
          0,
          3
         ],
         "y": [
          2300,
          2300
         ]
        },
        {
         "hoverinfo": "skip",
         "line": {
          "color": "white",
          "width": 0.5
         },
         "mode": "lines",
         "showlegend": false,
         "type": "scatter",
         "x": [
          0,
          3
         ],
         "y": [
          2400,
          2400
         ]
        },
        {
         "hoverinfo": "skip",
         "line": {
          "color": "white",
          "width": 0.5
         },
         "mode": "lines",
         "showlegend": false,
         "type": "scatter",
         "x": [
          0,
          3
         ],
         "y": [
          2500,
          2500
         ]
        },
        {
         "hoverinfo": "skip",
         "line": {
          "color": "white",
          "width": 0.5
         },
         "mode": "lines",
         "showlegend": false,
         "type": "scatter",
         "x": [
          0,
          3
         ],
         "y": [
          2600,
          2600
         ]
        },
        {
         "hoverinfo": "skip",
         "line": {
          "color": "white",
          "width": 0.5
         },
         "mode": "lines",
         "showlegend": false,
         "type": "scatter",
         "x": [
          0,
          3
         ],
         "y": [
          2700,
          2700
         ]
        },
        {
         "hoverinfo": "skip",
         "line": {
          "color": "white",
          "width": 0.5
         },
         "mode": "lines",
         "showlegend": false,
         "type": "scatter",
         "x": [
          0,
          3
         ],
         "y": [
          2800,
          2800
         ]
        },
        {
         "hoverinfo": "skip",
         "line": {
          "color": "white",
          "width": 0.5
         },
         "mode": "lines",
         "showlegend": false,
         "type": "scatter",
         "x": [
          0,
          3
         ],
         "y": [
          2900,
          2900
         ]
        },
        {
         "hoverinfo": "skip",
         "line": {
          "color": "white",
          "width": 0.5
         },
         "mode": "lines",
         "showlegend": false,
         "type": "scatter",
         "x": [
          0,
          3
         ],
         "y": [
          3000,
          3000
         ]
        },
        {
         "line": {
          "color": "black",
          "width": 2
         },
         "mode": "lines",
         "showlegend": false,
         "type": "scatter",
         "x": {
          "bdata": "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",
          "dtype": "f8"
         },
         "y": {
          "bdata": "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",
          "dtype": "f8"
         }
        }
       ],
       "layout": {
        "height": 600,
        "margin": {
         "b": 40,
         "l": 0,
         "r": 0,
         "t": 40
        },
        "paper_bgcolor": "white",
        "plot_bgcolor": "white",
        "template": {
         "data": {
          "bar": [
           {
            "error_x": {
             "color": "#2a3f5f"
            },
            "error_y": {
             "color": "#2a3f5f"
            },
            "marker": {
             "line": {
              "color": "#E5ECF6",
              "width": 0.5
             },
             "pattern": {
              "fillmode": "overlay",
              "size": 10,
              "solidity": 0.2
             }
            },
            "type": "bar"
           }
          ],
          "barpolar": [
           {
            "marker": {
             "line": {
              "color": "#E5ECF6",
              "width": 0.5
             },
             "pattern": {
              "fillmode": "overlay",
              "size": 10,
              "solidity": 0.2
             }
            },
            "type": "barpolar"
           }
          ],
          "carpet": [
           {
            "aaxis": {
             "endlinecolor": "#2a3f5f",
             "gridcolor": "white",
             "linecolor": "white",
             "minorgridcolor": "white",
             "startlinecolor": "#2a3f5f"
            },
            "baxis": {
             "endlinecolor": "#2a3f5f",
             "gridcolor": "white",
             "linecolor": "white",
             "minorgridcolor": "white",
             "startlinecolor": "#2a3f5f"
            },
            "type": "carpet"
           }
          ],
          "choropleth": [
           {
            "colorbar": {
             "outlinewidth": 0,
             "ticks": ""
            },
            "type": "choropleth"
           }
          ],
          "contour": [
           {
            "colorbar": {
             "outlinewidth": 0,
             "ticks": ""
            },
            "colorscale": [
             [
              0,
              "#0d0887"
             ],
             [
              0.1111111111111111,
              "#46039f"
             ],
             [
              0.2222222222222222,
              "#7201a8"
             ],
             [
              0.3333333333333333,
              "#9c179e"
             ],
             [
              0.4444444444444444,
              "#bd3786"
             ],
             [
              0.5555555555555556,
              "#d8576b"
             ],
             [
              0.6666666666666666,
              "#ed7953"
             ],
             [
              0.7777777777777778,
              "#fb9f3a"
             ],
             [
              0.8888888888888888,
              "#fdca26"
             ],
             [
              1,
              "#f0f921"
             ]
            ],
            "type": "contour"
           }
          ],
          "contourcarpet": [
           {
            "colorbar": {
             "outlinewidth": 0,
             "ticks": ""
            },
            "type": "contourcarpet"
           }
          ],
          "heatmap": [
           {
            "colorbar": {
             "outlinewidth": 0,
             "ticks": ""
            },
            "colorscale": [
             [
              0,
              "#0d0887"
             ],
             [
              0.1111111111111111,
              "#46039f"
             ],
             [
              0.2222222222222222,
              "#7201a8"
             ],
             [
              0.3333333333333333,
              "#9c179e"
             ],
             [
              0.4444444444444444,
              "#bd3786"
             ],
             [
              0.5555555555555556,
              "#d8576b"
             ],
             [
              0.6666666666666666,
              "#ed7953"
             ],
             [
              0.7777777777777778,
              "#fb9f3a"
             ],
             [
              0.8888888888888888,
              "#fdca26"
             ],
             [
              1,
              "#f0f921"
             ]
            ],
            "type": "heatmap"
           }
          ],
          "histogram": [
           {
            "marker": {
             "pattern": {
              "fillmode": "overlay",
              "size": 10,
              "solidity": 0.2
             }
            },
            "type": "histogram"
           }
          ],
          "histogram2d": [
           {
            "colorbar": {
             "outlinewidth": 0,
             "ticks": ""
            },
            "colorscale": [
             [
              0,
              "#0d0887"
             ],
             [
              0.1111111111111111,
              "#46039f"
             ],
             [
              0.2222222222222222,
              "#7201a8"
             ],
             [
              0.3333333333333333,
              "#9c179e"
             ],
             [
              0.4444444444444444,
              "#bd3786"
             ],
             [
              0.5555555555555556,
              "#d8576b"
             ],
             [
              0.6666666666666666,
              "#ed7953"
             ],
             [
              0.7777777777777778,
              "#fb9f3a"
             ],
             [
              0.8888888888888888,
              "#fdca26"
             ],
             [
              1,
              "#f0f921"
             ]
            ],
            "type": "histogram2d"
           }
          ],
          "histogram2dcontour": [
           {
            "colorbar": {
             "outlinewidth": 0,
             "ticks": ""
            },
            "colorscale": [
             [
              0,
              "#0d0887"
             ],
             [
              0.1111111111111111,
              "#46039f"
             ],
             [
              0.2222222222222222,
              "#7201a8"
             ],
             [
              0.3333333333333333,
              "#9c179e"
             ],
             [
              0.4444444444444444,
              "#bd3786"
             ],
             [
              0.5555555555555556,
              "#d8576b"
             ],
             [
              0.6666666666666666,
              "#ed7953"
             ],
             [
              0.7777777777777778,
              "#fb9f3a"
             ],
             [
              0.8888888888888888,
              "#fdca26"
             ],
             [
              1,
              "#f0f921"
             ]
            ],
            "type": "histogram2dcontour"
           }
          ],
          "mesh3d": [
           {
            "colorbar": {
             "outlinewidth": 0,
             "ticks": ""
            },
            "type": "mesh3d"
           }
          ],
          "parcoords": [
           {
            "line": {
             "colorbar": {
              "outlinewidth": 0,
              "ticks": ""
             }
            },
            "type": "parcoords"
           }
          ],
          "pie": [
           {
            "automargin": true,
            "type": "pie"
           }
          ],
          "scatter": [
           {
            "fillpattern": {
             "fillmode": "overlay",
             "size": 10,
             "solidity": 0.2
            },
            "type": "scatter"
           }
          ],
          "scatter3d": [
           {
            "line": {
             "colorbar": {
              "outlinewidth": 0,
              "ticks": ""
             }
            },
            "marker": {
             "colorbar": {
              "outlinewidth": 0,
              "ticks": ""
             }
            },
            "type": "scatter3d"
           }
          ],
          "scattercarpet": [
           {
            "marker": {
             "colorbar": {
              "outlinewidth": 0,
              "ticks": ""
             }
            },
            "type": "scattercarpet"
           }
          ],
          "scattergeo": [
           {
            "marker": {
             "colorbar": {
              "outlinewidth": 0,
              "ticks": ""
             }
            },
            "type": "scattergeo"
           }
          ],
          "scattergl": [
           {
            "marker": {
             "colorbar": {
              "outlinewidth": 0,
              "ticks": ""
             }
            },
            "type": "scattergl"
           }
          ],
          "scattermap": [
           {
            "marker": {
             "colorbar": {
              "outlinewidth": 0,
              "ticks": ""
             }
            },
            "type": "scattermap"
           }
          ],
          "scattermapbox": [
           {
            "marker": {
             "colorbar": {
              "outlinewidth": 0,
              "ticks": ""
             }
            },
            "type": "scattermapbox"
           }
          ],
          "scatterpolar": [
           {
            "marker": {
             "colorbar": {
              "outlinewidth": 0,
              "ticks": ""
             }
            },
            "type": "scatterpolar"
           }
          ],
          "scatterpolargl": [
           {
            "marker": {
             "colorbar": {
              "outlinewidth": 0,
              "ticks": ""
             }
            },
            "type": "scatterpolargl"
           }
          ],
          "scatterternary": [
           {
            "marker": {
             "colorbar": {
              "outlinewidth": 0,
              "ticks": ""
             }
            },
            "type": "scatterternary"
           }
          ],
          "surface": [
           {
            "colorbar": {
             "outlinewidth": 0,
             "ticks": ""
            },
            "colorscale": [
             [
              0,
              "#0d0887"
             ],
             [
              0.1111111111111111,
              "#46039f"
             ],
             [
              0.2222222222222222,
              "#7201a8"
             ],
             [
              0.3333333333333333,
              "#9c179e"
             ],
             [
              0.4444444444444444,
              "#bd3786"
             ],
             [
              0.5555555555555556,
              "#d8576b"
             ],
             [
              0.6666666666666666,
              "#ed7953"
             ],
             [
              0.7777777777777778,
              "#fb9f3a"
             ],
             [
              0.8888888888888888,
              "#fdca26"
             ],
             [
              1,
              "#f0f921"
             ]
            ],
            "type": "surface"
           }
          ],
          "table": [
           {
            "cells": {
             "fill": {
              "color": "#EBF0F8"
             },
             "line": {
              "color": "white"
             }
            },
            "header": {
             "fill": {
              "color": "#C8D4E3"
             },
             "line": {
              "color": "white"
             }
            },
            "type": "table"
           }
          ]
         },
         "layout": {
          "annotationdefaults": {
           "arrowcolor": "#2a3f5f",
           "arrowhead": 0,
           "arrowwidth": 1
          },
          "autotypenumbers": "strict",
          "coloraxis": {
           "colorbar": {
            "outlinewidth": 0,
            "ticks": ""
           }
          },
          "colorscale": {
           "diverging": [
            [
             0,
             "#8e0152"
            ],
            [
             0.1,
             "#c51b7d"
            ],
            [
             0.2,
             "#de77ae"
            ],
            [
             0.3,
             "#f1b6da"
            ],
            [
             0.4,
             "#fde0ef"
            ],
            [
             0.5,
             "#f7f7f7"
            ],
            [
             0.6,
             "#e6f5d0"
            ],
            [
             0.7,
             "#b8e186"
            ],
            [
             0.8,
             "#7fbc41"
            ],
            [
             0.9,
             "#4d9221"
            ],
            [
             1,
             "#276419"
            ]
           ],
           "sequential": [
            [
             0,
             "#0d0887"
            ],
            [
             0.1111111111111111,
             "#46039f"
            ],
            [
             0.2222222222222222,
             "#7201a8"
            ],
            [
             0.3333333333333333,
             "#9c179e"
            ],
            [
             0.4444444444444444,
             "#bd3786"
            ],
            [
             0.5555555555555556,
             "#d8576b"
            ],
            [
             0.6666666666666666,
             "#ed7953"
            ],
            [
             0.7777777777777778,
             "#fb9f3a"
            ],
            [
             0.8888888888888888,
             "#fdca26"
            ],
            [
             1,
             "#f0f921"
            ]
           ],
           "sequentialminus": [
            [
             0,
             "#0d0887"
            ],
            [
             0.1111111111111111,
             "#46039f"
            ],
            [
             0.2222222222222222,
             "#7201a8"
            ],
            [
             0.3333333333333333,
             "#9c179e"
            ],
            [
             0.4444444444444444,
             "#bd3786"
            ],
            [
             0.5555555555555556,
             "#d8576b"
            ],
            [
             0.6666666666666666,
             "#ed7953"
            ],
            [
             0.7777777777777778,
             "#fb9f3a"
            ],
            [
             0.8888888888888888,
             "#fdca26"
            ],
            [
             1,
             "#f0f921"
            ]
           ]
          },
          "colorway": [
           "#636efa",
           "#EF553B",
           "#00cc96",
           "#ab63fa",
           "#FFA15A",
           "#19d3f3",
           "#FF6692",
           "#B6E880",
           "#FF97FF",
           "#FECB52"
          ],
          "font": {
           "color": "#2a3f5f"
          },
          "geo": {
           "bgcolor": "white",
           "lakecolor": "white",
           "landcolor": "#E5ECF6",
           "showlakes": true,
           "showland": true,
           "subunitcolor": "white"
          },
          "hoverlabel": {
           "align": "left"
          },
          "hovermode": "closest",
          "mapbox": {
           "style": "light"
          },
          "paper_bgcolor": "white",
          "plot_bgcolor": "#E5ECF6",
          "polar": {
           "angularaxis": {
            "gridcolor": "white",
            "linecolor": "white",
            "ticks": ""
           },
           "bgcolor": "#E5ECF6",
           "radialaxis": {
            "gridcolor": "white",
            "linecolor": "white",
            "ticks": ""
           }
          },
          "scene": {
           "xaxis": {
            "backgroundcolor": "#E5ECF6",
            "gridcolor": "white",
            "gridwidth": 2,
            "linecolor": "white",
            "showbackground": true,
            "ticks": "",
            "zerolinecolor": "white"
           },
           "yaxis": {
            "backgroundcolor": "#E5ECF6",
            "gridcolor": "white",
            "gridwidth": 2,
            "linecolor": "white",
            "showbackground": true,
            "ticks": "",
            "zerolinecolor": "white"
           },
           "zaxis": {
            "backgroundcolor": "#E5ECF6",
            "gridcolor": "white",
            "gridwidth": 2,
            "linecolor": "white",
            "showbackground": true,
            "ticks": "",
            "zerolinecolor": "white"
           }
          },
          "shapedefaults": {
           "line": {
            "color": "#2a3f5f"
           }
          },
          "ternary": {
           "aaxis": {
            "gridcolor": "white",
            "linecolor": "white",
            "ticks": ""
           },
           "baxis": {
            "gridcolor": "white",
            "linecolor": "white",
            "ticks": ""
           },
           "bgcolor": "#E5ECF6",
           "caxis": {
            "gridcolor": "white",
            "linecolor": "white",
            "ticks": ""
           }
          },
          "title": {
           "x": 0.05
          },
          "xaxis": {
           "automargin": true,
           "gridcolor": "white",
           "linecolor": "white",
           "ticks": "",
           "title": {
            "standoff": 15
           },
           "zerolinecolor": "white",
           "zerolinewidth": 2
          },
          "yaxis": {
           "automargin": true,
           "gridcolor": "white",
           "linecolor": "white",
           "ticks": "",
           "title": {
            "standoff": 15
           },
           "zerolinecolor": "white",
           "zerolinewidth": 2
          }
         }
        },
        "width": 300,
        "xaxis": {
         "range": [
          0,
          3
         ],
         "ticktext": [
          "Fracture",
          "Propagation",
          "0.0",
          "0.3",
          "0.6",
          "0.9"
         ],
         "tickvals": [
          0.5,
          1.5,
          2,
          2.3,
          2.6,
          2.9
         ]
        },
        "yaxis": {
         "autorange": false,
         "domain": [
          0,
          1
         ],
         "range": [
          3000,
          -200
         ],
         "showticklabels": false
        }
       }
      }
     },
     "metadata": {},
     "output_type": "display_data"
    }
   ],
   "source": [
    "from plotly_snow_profile import criticality_heatmap\n",
    "\n",
    "crit_hm_fig = criticality_heatmap(plot_weaklayer, plot_layers, dataframe)\n",
    "crit_hm_fig.show()"
   ]
  },
  {
   "cell_type": "code",
   "execution_count": 15,
   "id": "aad32184",
   "metadata": {},
   "outputs": [
    {
     "data": {
      "image/png": "[encoded data removed]",
      "text/plain": [
       "<Figure size 1000x1000 with 1 Axes>"
      ]
     },
     "metadata": {},
     "output_type": "display_data"
    },
    {
     "data": {
      "image/png": "[encoded data removed]",
      "text/plain": [
       "<Figure size 1000x1000 with 1 Axes>"
      ]
     },
     "metadata": {},
     "output_type": "display_data"
    },
    {
     "data": {
      "image/png": "[encoded data removed]",
      "text/plain": [
       "<Figure size 1000x1000 with 1 Axes>"
      ]
     },
     "metadata": {},
     "output_type": "display_data"
    }
   ],
   "source": [
    "import matplotlib.pyplot as plt\n",
    "plt.figure(figsize=(10, 10))\n",
    "plt.plot(dataframe[\"wl_depth\"], dataframe[\"impact_criterion\"], label=\"Impact Criterion\")\n",
    "plt.plot(dataframe[\"wl_depth\"], dataframe[\"coupled_criterion\"], label=\"Coupled Criterion\")\n",
    "# plot vertical lines at the end of each layer\n",
    "for i, height in enumerate(heights):\n",
    "    plt.axvline(x=height, color=\"black\", linestyle=\"--\")\n",
    "plt.legend()\n",
    "plt.show()\n",
    "\n",
    "plt.figure(figsize=(10, 10))\n",
    "plt.plot(dataframe[\"wl_depth\"], dataframe[\"sserr_result\"], label=\"SSERR\")\n",
    "# plt.ylim(0, 4000)\n",
    "plt.legend()\n",
    "plt.show()\n",
    "\n",
    "plt.figure(figsize=(10, 10))\n",
    "plt.plot(dataframe[\"wl_depth\"], dataframe[\"touchdown_distance\"], label=\"Touchdown Distance\")\n",
    "plt.legend()\n",
    "plt.show()"
   ]
  },
  {
   "cell_type": "code",
   "execution_count": 16,
   "id": "c413e74f",
   "metadata": {},
   "outputs": [],
   "source": [
    "from PIL import Image\n",
    "from io import BytesIO\n",
    "\n",
    "figures = [crit_plots_fig, snow_profile_fig, crit_hm_fig]\n",
    "\n",
    "images = []\n",
    "for fig in figures:\n",
    "    width = fig.layout.width*2\n",
    "    height = fig.layout.height*2\n",
    "    img_bytes = fig.to_image(format=\"png\", width=width, height=height, scale=2)\n",
    "    image = Image.open(BytesIO(img_bytes))\n",
    "    images.append(image)\n",
    "\n",
    "total_width = sum(im.width for im in images)\n",
    "max_height = max(im.height for im in images)\n",
    "combined = Image.new(\"RGB\", (total_width, max_height), color=(255, 255, 255))\n",
    "x_offset = 0\n",
    "for im in images:\n",
    "    combined.paste(im, (x_offset, 0))\n",
    "    x_offset += im.width\n",
    "\n",
    "combined.save(\"plots/combined.png\")"
   ]
  },
  {
   "cell_type": "code",
   "execution_count": null,
   "id": "51fbfead",
   "metadata": {},
   "outputs": [],
   "source": [
    "def eval_weac_over_layers(parser: SnowPilotParser, scenario_config: ScenarioConfig, segments: list[Segment], weaklayer: WeakLayer, wl_spacing=100):\n",
    "    data_rows = []\n",
    "    # Extract layers\n",
    "    layers, density_method = parser.extract_layers()\n",
    "    heights = np.cumsum([layer.h for layer in layers])\n",
    "    # space evenly and append the last height\n",
    "    wl_depths = np.arange(wl_spacing, heights[-1], wl_spacing).tolist()\n",
    "    wl_depths.append(heights[-1])\n",
    "    \n",
    "    layers_copy = copy.deepcopy(layers)\n",
    "    for i, wl_depth in tqdm(enumerate(wl_depths), total=len(wl_depths), desc=\"Processing weak layers\", leave=False):\n",
    "        # only keep layers above the spacing\n",
    "        mask = heights <= wl_depth\n",
    "        new_layers = [layer for layer, keep in zip(layers_copy, mask) if keep]\n",
    "        # Add truncated layer if needed\n",
    "        depth = np.sum([layer.h for layer in new_layers]) if new_layers else 0.0\n",
    "        if depth < wl_depth:\n",
    "            additional_layer = copy.deepcopy(layers_copy[len(new_layers) if new_layers else 0])\n",
    "            additional_layer.h = wl_depth - depth\n",
    "            new_layers.append(additional_layer)\n",
    "        \n",
    "        model_input = ModelInput(\n",
    "            weak_layer=weaklayer,\n",
    "            layers=new_layers,\n",
    "            scenario_config=scenario_config,\n",
    "            segments=segments,\n",
    "        )\n",
    "        system = SystemModel(model_input=model_input)\n",
    "        \n",
    "        cc_result: CoupledCriterionResult = standard_criteria_evaluator.evaluate_coupled_criterion(system, print_call_stats=False)\n",
    "        sserr_result: SSERRResult = standard_criteria_evaluator.evaluate_SSERR(system, vertical=False, print_call_stats=False)\n",
    "\n",
    "        data_rows.append({\n",
    "            \"wl_depth\": wl_depth,\n",
    "            \"impact_criterion\": cc_result.initial_critical_skier_weight,\n",
    "            \"coupled_criterion\": cc_result.critical_skier_weight,\n",
    "            \"sserr_result\": sserr_result.SSERR,\n",
    "            \"touchdown_distance\": sserr_result.touchdown_distance,\n",
    "        })\n",
    "    return data_rows, layers, weaklayer"
   ]
  },
  {
   "cell_type": "code",
   "execution_count": 18,
   "id": "607d5905",
   "metadata": {},
   "outputs": [],
   "source": [
    "from PIL import Image\n",
    "from io import BytesIO\n",
    "import plotly.graph_objects as go\n",
    "\n",
    "def combine_plots(file_path: str, name: str, figures: list[go.Figure]):\n",
    "\n",
    "    images = []\n",
    "    for fig in figures:\n",
    "        width = fig.layout.width*2\n",
    "        height = fig.layout.height*2\n",
    "        img_bytes = fig.to_image(format=\"png\", width=width, height=height, scale=2)\n",
    "        image = Image.open(BytesIO(img_bytes))\n",
    "        images.append(image)\n",
    "\n",
    "    total_width = sum(im.width for im in images)\n",
    "    max_height = max(im.height for im in images)\n",
    "    combined = Image.new(\"RGB\", (total_width, max_height), color=(255, 255, 255))\n",
    "    x_offset = 0\n",
    "    for im in images:\n",
    "        combined.paste(im, (x_offset, 0))\n",
    "        x_offset += im.width\n",
    "\n",
    "    combined.save(f\"{file_path}/{name}.png\")"
   ]
  },
  {
   "cell_type": "code",
   "execution_count": null,
   "id": "b6303e33",
   "metadata": {},
   "outputs": [
    {
     "data": {
      "application/vnd.jupyter.widget-view+json": {
       "model_id": "17111781581b439d8c7bd3b3175bdaba",
       "version_major": 2,
       "version_minor": 0
      },
      "text/plain": [
       "Processing files:   0%|          | 0/100 [00:00<?, ?it/s]"
      ]
     },
     "metadata": {},
     "output_type": "display_data"
    },
    {
     "data": {
      "application/vnd.jupyter.widget-view+json": {
       "model_id": "5a2d2751d6ac41b181e7d00120d6c49e",
       "version_major": 2,
       "version_minor": 0
      },
      "text/plain": [
       "Processing weak layers:   0%|          | 0/60 [00:00<?, ?it/s]"
      ]
     },
     "metadata": {},
     "output_type": "display_data"
    },
    {
     "name": "stdout",
     "output_type": "stream",
     "text": [
      "--- The entire solution is cracked ---\n",
      "--- The entire solution is cracked ---\n",
      "--- The entire solution is cracked ---\n",
      "--- The entire solution is cracked ---\n",
      "--- The entire solution is cracked ---\n",
      "--- The entire solution is cracked ---\n",
      "--- The entire solution is cracked ---\n",
      "--- The entire solution is cracked ---\n",
      "--- The entire solution is cracked ---\n",
      "--- The entire solution is cracked ---\n",
      "--- The entire solution is cracked ---\n",
      "--- The entire solution is cracked ---\n",
      "--- The entire solution is cracked ---\n",
      "--- The entire solution is cracked ---\n",
      "--- The entire solution is cracked ---\n",
      "--- The entire solution is cracked ---\n",
      "--- The entire solution is cracked ---\n",
      "--- The entire solution is cracked ---\n",
      "--- The entire solution is cracked ---\n",
      "--- The entire solution is cracked ---\n",
      "292.25\n"
     ]
    },
    {
     "data": {
      "application/vnd.jupyter.widget-view+json": {
       "model_id": "e3844405680a495e9d3747ccb7664df8",
       "version_major": 2,
       "version_minor": 0
      },
      "text/plain": [
       "Processing weak layers:   0%|          | 0/22 [00:00<?, ?it/s]"
      ]
     },
     "metadata": {},
     "output_type": "display_data"
    },
    {
     "name": "stdout",
     "output_type": "stream",
     "text": [
      "163.7\n"
     ]
    },
    {
     "data": {
      "application/vnd.jupyter.widget-view+json": {
       "model_id": "07d8ef5d48ce42cc8810627e103256bd",
       "version_major": 2,
       "version_minor": 0
      },
      "text/plain": [
       "Processing weak layers:   0%|          | 0/18 [00:00<?, ?it/s]"
      ]
     },
     "metadata": {},
     "output_type": "display_data"
    },
    {
     "name": "stdout",
     "output_type": "stream",
     "text": [
      "235.0\n"
     ]
    },
    {
     "data": {
      "application/vnd.jupyter.widget-view+json": {
       "model_id": "fe1af22162cb45e0a51b9a5affe8dd43",
       "version_major": 2,
       "version_minor": 0
      },
      "text/plain": [
       "Processing weak layers:   0%|          | 0/20 [00:00<?, ?it/s]"
      ]
     },
     "metadata": {},
     "output_type": "display_data"
    },
    {
     "name": "stdout",
     "output_type": "stream",
     "text": [
      "275.9\n"
     ]
    },
    {
     "data": {
      "application/vnd.jupyter.widget-view+json": {
       "model_id": "1d785edc75a7491b8e3d700ae18403d3",
       "version_major": 2,
       "version_minor": 0
      },
      "text/plain": [
       "Processing weak layers:   0%|          | 0/10 [00:00<?, ?it/s]"
      ]
     },
     "metadata": {},
     "output_type": "display_data"
    },
    {
     "name": "stdout",
     "output_type": "stream",
     "text": [
      "202.0738495144293\n"
     ]
    },
    {
     "data": {
      "application/vnd.jupyter.widget-view+json": {
       "model_id": "7bc7ab62b38d4a8f94aef2561b98686c",
       "version_major": 2,
       "version_minor": 0
      },
      "text/plain": [
       "Processing weak layers:   0%|          | 0/11 [00:00<?, ?it/s]"
      ]
     },
     "metadata": {},
     "output_type": "display_data"
    },
    {
     "name": "stdout",
     "output_type": "stream",
     "text": [
      "275.9\n"
     ]
    },
    {
     "data": {
      "application/vnd.jupyter.widget-view+json": {
       "model_id": "2f06be75b60941baba0e899890f1b18f",
       "version_major": 2,
       "version_minor": 0
      },
      "text/plain": [
       "Processing weak layers:   0%|          | 0/14 [00:00<?, ?it/s]"
      ]
     },
     "metadata": {},
     "output_type": "display_data"
    },
    {
     "name": "stdout",
     "output_type": "stream",
     "text": [
      "319.0\n"
     ]
    },
    {
     "data": {
      "application/vnd.jupyter.widget-view+json": {
       "model_id": "28599606290842f49647d644f0eb71d3",
       "version_major": 2,
       "version_minor": 0
      },
      "text/plain": [
       "Processing weak layers:   0%|          | 0/15 [00:00<?, ?it/s]"
      ]
     },
     "metadata": {},
     "output_type": "display_data"
    },
    {
     "name": "stdout",
     "output_type": "stream",
     "text": [
      "204.0\n"
     ]
    },
    {
     "data": {
      "application/vnd.jupyter.widget-view+json": {
       "model_id": "f502eb8a28a44604a7f56abe4d9683de",
       "version_major": 2,
       "version_minor": 0
      },
      "text/plain": [
       "Processing weak layers:   0%|          | 0/26 [00:00<?, ?it/s]"
      ]
     },
     "metadata": {},
     "output_type": "display_data"
    },
    {
     "name": "stdout",
     "output_type": "stream",
     "text": [
      "259.0\n"
     ]
    },
    {
     "data": {
      "application/vnd.jupyter.widget-view+json": {
       "model_id": "3aed9baa998641abbc2640a3fd88ad50",
       "version_major": 2,
       "version_minor": 0
      },
      "text/plain": [
       "Processing weak layers:   0%|          | 0/20 [00:00<?, ?it/s]"
      ]
     },
     "metadata": {},
     "output_type": "display_data"
    },
    {
     "name": "stdout",
     "output_type": "stream",
     "text": [
      "292.25\n"
     ]
    },
    {
     "data": {
      "application/vnd.jupyter.widget-view+json": {
       "model_id": "c4e9425a4ef04686a36671991ff79bc1",
       "version_major": 2,
       "version_minor": 0
      },
      "text/plain": [
       "Processing weak layers:   0%|          | 0/32 [00:00<?, ?it/s]"
      ]
     },
     "metadata": {},
     "output_type": "display_data"
    },
    {
     "name": "stdout",
     "output_type": "stream",
     "text": [
      "250.0\n"
     ]
    },
    {
     "data": {
      "application/vnd.jupyter.widget-view+json": {
       "model_id": "2285d38f16864d6c9577196487dd1918",
       "version_major": 2,
       "version_minor": 0
      },
      "text/plain": [
       "Processing weak layers:   0%|          | 0/48 [00:00<?, ?it/s]"
      ]
     },
     "metadata": {},
     "output_type": "display_data"
    },
    {
     "name": "stdout",
     "output_type": "stream",
     "text": [
      "--- The entire solution is cracked ---\n",
      "--- The entire solution is cracked ---\n",
      "--- The entire solution is cracked ---\n",
      "--- The entire solution is cracked ---\n",
      "--- The entire solution is cracked ---\n",
      "--- The entire solution is cracked ---\n",
      "--- The entire solution is cracked ---\n",
      "--- The entire solution is cracked ---\n",
      "--- The entire solution is cracked ---\n",
      "--- The entire solution is cracked ---\n",
      "--- The entire solution is cracked ---\n",
      "--- The entire solution is cracked ---\n",
      "--- The entire solution is cracked ---\n",
      "--- The entire solution is cracked ---\n",
      "--- The entire solution is cracked ---\n",
      "--- The entire solution is cracked ---\n",
      "367.5\n"
     ]
    },
    {
     "data": {
      "application/vnd.jupyter.widget-view+json": {
       "model_id": "82fd2c3fe9bd4cd8b9f23c5e15d7e758",
       "version_major": 2,
       "version_minor": 0
      },
      "text/plain": [
       "Processing weak layers:   0%|          | 0/28 [00:00<?, ?it/s]"
      ]
     },
     "metadata": {},
     "output_type": "display_data"
    },
    {
     "name": "stdout",
     "output_type": "stream",
     "text": [
      "158.0\n"
     ]
    },
    {
     "data": {
      "application/vnd.jupyter.widget-view+json": {
       "model_id": "bc7dfe385f6840b1995a36d2f6e01e7e",
       "version_major": 2,
       "version_minor": 0
      },
      "text/plain": [
       "Processing weak layers:   0%|          | 0/24 [00:00<?, ?it/s]"
      ]
     },
     "metadata": {},
     "output_type": "display_data"
    },
    {
     "name": "stdout",
     "output_type": "stream",
     "text": [
      "204.0\n"
     ]
    },
    {
     "data": {
      "application/vnd.jupyter.widget-view+json": {
       "model_id": "2d04ac3715d244cdbcc3456ec8a8647c",
       "version_major": 2,
       "version_minor": 0
      },
      "text/plain": [
       "Processing weak layers:   0%|          | 0/12 [00:00<?, ?it/s]"
      ]
     },
     "metadata": {},
     "output_type": "display_data"
    },
    {
     "name": "stdout",
     "output_type": "stream",
     "text": [
      "292.25\n"
     ]
    },
    {
     "ename": "AttributeError",
     "evalue": "Layer is missing density information; density profile, hand hardness and grain type are all missing. Excluding SnowPit from calculations.",
     "output_type": "error",
     "traceback": [
      "\u001b[0;31m---------------------------------------------------------------------------\u001b[0m",
      "\u001b[0;31mValueError\u001b[0m                                Traceback (most recent call last)",
      "File \u001b[0;32m~/Documents/weac/weac_2/utils/snowpilot_parser.py:205\u001b[0m, in \u001b[0;36mSnowPilotParser.extract_layers\u001b[0;34m(self)\u001b[0m\n\u001b[1;32m    204\u001b[0m     density_method \u001b[38;5;241m=\u001b[39m \u001b[38;5;124m\"\u001b[39m\u001b[38;5;124mgeldsetzer\u001b[39m\u001b[38;5;124m\"\u001b[39m\n\u001b[0;32m--> 205\u001b[0m     density \u001b[38;5;241m=\u001b[39m \u001b[43mcompute_density\u001b[49m\u001b[43m(\u001b[49m\u001b[43mgrain_type\u001b[49m\u001b[43m,\u001b[49m\u001b[43m \u001b[49m\u001b[43mhand_hardness\u001b[49m\u001b[43m)\u001b[49m\n\u001b[1;32m    206\u001b[0m \u001b[38;5;28;01mexcept\u001b[39;00m \u001b[38;5;167;01mException\u001b[39;00m:\n",
      "File \u001b[0;32m~/Documents/weac/weac_2/utils/geldsetzer.py:144\u001b[0m, in \u001b[0;36mcompute_density\u001b[0;34m(grainform, hardness)\u001b[0m\n\u001b[1;32m    143\u001b[0m \u001b[38;5;28;01mif\u001b[39;00m hardness \u001b[38;5;129;01mis\u001b[39;00m \u001b[38;5;28;01mNone\u001b[39;00m \u001b[38;5;129;01mand\u001b[39;00m grainform \u001b[38;5;129;01mis\u001b[39;00m \u001b[38;5;28;01mNone\u001b[39;00m:\n\u001b[0;32m--> 144\u001b[0m     \u001b[38;5;28;01mraise\u001b[39;00m \u001b[38;5;167;01mValueError\u001b[39;00m(\u001b[38;5;124m\"\u001b[39m\u001b[38;5;124mProvide at least one of grainform or hardness\u001b[39m\u001b[38;5;124m\"\u001b[39m)\n\u001b[1;32m    145\u001b[0m \u001b[38;5;28;01mif\u001b[39;00m hardness \u001b[38;5;129;01mis\u001b[39;00m \u001b[38;5;28;01mNone\u001b[39;00m:\n",
      "\u001b[0;31mValueError\u001b[0m: Provide at least one of grainform or hardness",
      "\nDuring handling of the above exception, another exception occurred:\n",
      "\u001b[0;31mAttributeError\u001b[0m                            Traceback (most recent call last)",
      "Cell \u001b[0;32mIn[19], line 29\u001b[0m\n\u001b[1;32m     25\u001b[0m data_rows \u001b[38;5;241m=\u001b[39m []\n\u001b[1;32m     26\u001b[0m \u001b[38;5;28;01mfor\u001b[39;00m i, (file_path, parser) \u001b[38;5;129;01min\u001b[39;00m tqdm(\n\u001b[1;32m     27\u001b[0m     \u001b[38;5;28menumerate\u001b[39m(\u001b[38;5;28mzip\u001b[39m(paths, parsers)), total\u001b[38;5;241m=\u001b[39m\u001b[38;5;28mlen\u001b[39m(paths), desc\u001b[38;5;241m=\u001b[39m\u001b[38;5;124m\"\u001b[39m\u001b[38;5;124mProcessing files\u001b[39m\u001b[38;5;124m\"\u001b[39m\n\u001b[1;32m     28\u001b[0m ):\n\u001b[0;32m---> 29\u001b[0m     data_rows, layers, weaklayer \u001b[38;5;241m=\u001b[39m \u001b[43meval_weac_over_layers\u001b[49m\u001b[43m(\u001b[49m\u001b[43mparser\u001b[49m\u001b[43m,\u001b[49m\u001b[43m \u001b[49m\u001b[43mscenario_config\u001b[49m\u001b[43m,\u001b[49m\u001b[43m \u001b[49m\u001b[43msegments\u001b[49m\u001b[43m,\u001b[49m\u001b[43m \u001b[49m\u001b[43mweaklayer\u001b[49m\u001b[43m,\u001b[49m\u001b[43m \u001b[49m\u001b[43mwl_spacing\u001b[49m\u001b[38;5;241;43m=\u001b[39;49m\u001b[43mwl_spacing\u001b[49m\u001b[43m)\u001b[49m\n\u001b[1;32m     30\u001b[0m     dataframe \u001b[38;5;241m=\u001b[39m pd\u001b[38;5;241m.\u001b[39mDataFrame(data_rows)\n\u001b[1;32m     31\u001b[0m     snow_profile_fig \u001b[38;5;241m=\u001b[39m snow_profile(weaklayer\u001b[38;5;241m=\u001b[39mweaklayer, layers\u001b[38;5;241m=\u001b[39mlayers)\n",
      "Cell \u001b[0;32mIn[17], line 4\u001b[0m, in \u001b[0;36meval_weac_over_layers\u001b[0;34m(parser, scenario_config, segments, weaklayer, wl_spacing)\u001b[0m\n\u001b[1;32m      2\u001b[0m data_rows \u001b[38;5;241m=\u001b[39m []\n\u001b[1;32m      3\u001b[0m \u001b[38;5;66;03m# Extract layers\u001b[39;00m\n\u001b[0;32m----> 4\u001b[0m layers, density_method \u001b[38;5;241m=\u001b[39m \u001b[43mparser\u001b[49m\u001b[38;5;241;43m.\u001b[39;49m\u001b[43mextract_layers\u001b[49m\u001b[43m(\u001b[49m\u001b[43m)\u001b[49m\n\u001b[1;32m      5\u001b[0m heights \u001b[38;5;241m=\u001b[39m np\u001b[38;5;241m.\u001b[39mcumsum([layer\u001b[38;5;241m.\u001b[39mh \u001b[38;5;28;01mfor\u001b[39;00m layer \u001b[38;5;129;01min\u001b[39;00m layers])\n\u001b[1;32m      6\u001b[0m \u001b[38;5;66;03m# space evenly and append the last height\u001b[39;00m\n",
      "File \u001b[0;32m~/Documents/weac/weac_2/utils/snowpilot_parser.py:207\u001b[0m, in \u001b[0;36mSnowPilotParser.extract_layers\u001b[0;34m(self)\u001b[0m\n\u001b[1;32m    205\u001b[0m                 density \u001b[38;5;241m=\u001b[39m compute_density(grain_type, hand_hardness)\n\u001b[1;32m    206\u001b[0m             \u001b[38;5;28;01mexcept\u001b[39;00m \u001b[38;5;167;01mException\u001b[39;00m:\n\u001b[0;32m--> 207\u001b[0m                 \u001b[38;5;28;01mraise\u001b[39;00m \u001b[38;5;167;01mAttributeError\u001b[39;00m(\n\u001b[1;32m    208\u001b[0m                     \u001b[38;5;124m\"\u001b[39m\u001b[38;5;124mLayer is missing density information; density profile, hand hardness and grain type are all missing. Excluding SnowPit from calculations.\u001b[39m\u001b[38;5;124m\"\u001b[39m\n\u001b[1;32m    209\u001b[0m                 )\n\u001b[1;32m    211\u001b[0m         layers\u001b[38;5;241m.\u001b[39mappend(\n\u001b[1;32m    212\u001b[0m             Layer(\n\u001b[1;32m    213\u001b[0m                 rho\u001b[38;5;241m=\u001b[39mdensity,\n\u001b[0;32m   (...)\u001b[0m\n\u001b[1;32m    218\u001b[0m             )\n\u001b[1;32m    219\u001b[0m         )\n\u001b[1;32m    221\u001b[0m \u001b[38;5;28;01mif\u001b[39;00m \u001b[38;5;28mlen\u001b[39m(layers) \u001b[38;5;241m==\u001b[39m \u001b[38;5;241m0\u001b[39m:\n",
      "\u001b[0;31mAttributeError\u001b[0m: Layer is missing density information; density profile, hand hardness and grain type are all missing. Excluding SnowPit from calculations."
     ]
    }
   ],
   "source": [
    "import os\n",
    "\n",
    "# Setup standard values\n",
    "wl_spacing = 50 # mm\n",
    "phi = 0.0\n",
    "standard_scenario_config = ScenarioConfig(system_type=\"skier\", phi=phi)\n",
    "standard_weak_layer = WeakLayer(rho=125, h=20, E=1.0, sigma_c=5.16, tau_c=4.09)\n",
    "standard_segments = [\n",
    "    Segment(length=10000, has_foundation=True, m=0.0),\n",
    "    Segment(\n",
    "        length=10000,\n",
    "        has_foundation=True,\n",
    "        m=0.0,\n",
    "    ),\n",
    "]\n",
    "standard_criteria_config = CriteriaConfig()\n",
    "standard_criteria_evaluator = CriteriaEvaluator(standard_criteria_config)\n",
    "\n",
    "scenario_config = standard_scenario_config\n",
    "segments = standard_segments\n",
    "weaklayer = standard_weak_layer\n",
    "\n",
    "plots_path = \"plots\"\n",
    "\n",
    "for i, (file_path, parser) in tqdm(\n",
    "    enumerate(zip(paths, parsers)), total=len(paths), desc=\"Processing files\"\n",
    "):  \n",
    "    try:\n",
    "        data_rows, layers, weaklayer = eval_weac_over_layers(parser, scenario_config, segments, weaklayer, wl_spacing=wl_spacing)\n",
    "        dataframe = pd.DataFrame(data_rows)\n",
    "        snow_profile_fig = snow_profile(weaklayer=weaklayer, layers=layers)\n",
    "        crit_plots_fig = criticality_plots(weaklayer, layers, dataframe)\n",
    "        crit_hm_fig = criticality_heatmap(weaklayer, layers, dataframe)\n",
    "        combine_plots(plots_path, os.path.basename(file_path), [crit_plots_fig, snow_profile_fig, crit_hm_fig])\n",
    "    except Exception as e:\n",
    "        print(f\"Error processing file {file_path}: {e}\")\n",
    "        continue\n"
   ]
  }
 ],
 "metadata": {
  "kernelspec": {
   "display_name": "weac",
   "language": "python",
   "name": "python3"
  },
  "language_info": {
   "codemirror_mode": {
    "name": "ipython",
    "version": 3
   },
   "file_extension": ".py",
   "mimetype": "text/x-python",
   "name": "python",
   "nbconvert_exporter": "python",
   "pygments_lexer": "ipython3",
   "version": "3.10.18"
  }
 },
 "nbformat": 4,
 "nbformat_minor": 5
}
