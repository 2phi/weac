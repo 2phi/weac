{
 "cells": [
  {
   "cell_type": "markdown",
   "id": "b89b0130",
   "metadata": {},
   "source": [
    "# Eval WEAC\n",
    "\n",
    "Initialize models, run over a resolution of 5cm with a standardized weak layer.\n"
   ]
  },
  {
   "cell_type": "code",
   "execution_count": 1,
   "id": "702d9bf5",
   "metadata": {},
   "outputs": [],
   "source": [
    "# Auto reload modules\n",
    "%load_ext autoreload\n",
    "%autoreload all"
   ]
  },
  {
   "cell_type": "code",
   "execution_count": 2,
   "id": "1e07d9a5",
   "metadata": {},
   "outputs": [],
   "source": [
    "import os\n",
    "from typing import List\n",
    "import numpy as np\n",
    "from numpy.linalg import LinAlgError\n",
    "import pandas as pd\n",
    "from pprint import pprint\n",
    "import copy\n",
    "from tqdm.notebook import tqdm\n",
    "\n",
    "from weac_2.analysis import Analyzer, CriteriaEvaluator, CoupledCriterionResult, SSERRResult\n",
    "from weac_2.core.system_model import SystemModel\n",
    "from weac_2.components import ModelInput, Segment, ScenarioConfig, WeakLayer, Layer, CriteriaConfig\n",
    "from weac_2.utils.snowpilot_parser import SnowPilotParser, convert_to_mm, convert_to_deg"
   ]
  },
  {
   "cell_type": "code",
   "execution_count": null,
   "id": "ca4092ad",
   "metadata": {},
   "outputs": [
    {
     "name": "stdout",
     "output_type": "stream",
     "text": [
      "\n",
      "Found 1 files\n"
     ]
    }
   ],
   "source": [
    "number_of_files = 200\n",
    "\n",
    "# Process multiple files\n",
    "file_paths = []\n",
    "for directory in os.listdir(\"data/snowpits\"):\n",
    "    for file in os.listdir(f\"data/snowpits/{directory}\"):\n",
    "        if file.endswith(\".xml\"):\n",
    "            file_paths.append(f\"data/snowpits/{directory}/{file}\")\n",
    "\n",
    "paths: List[str] = []\n",
    "parsers: List[SnowPilotParser] = []\n",
    "\n",
    "for file_path in file_paths[:number_of_files]:\n",
    "    snowpilot_parser = SnowPilotParser(file_path)\n",
    "    paths.append(file_path)\n",
    "    parsers.append(snowpilot_parser)\n",
    "\n",
    "print(f\"\\nFound {len(paths)} files\")"
   ]
  },
  {
   "cell_type": "code",
   "execution_count": 4,
   "id": "1c50535a",
   "metadata": {},
   "outputs": [],
   "source": [
    "# Setup standard values\n",
    "wl_spacing = 50 # mm\n",
    "phi = 0.0\n",
    "standard_scenario_config = ScenarioConfig(system_type=\"skier\", phi=phi)\n",
    "standard_weak_layer = WeakLayer(rho=125, h=20, E=1.0, sigma_c=5.16, tau_c=4.09)\n",
    "standard_segments = [\n",
    "    Segment(length=10000, has_foundation=True, m=0.0),\n",
    "    Segment(\n",
    "        length=10000,\n",
    "        has_foundation=True,\n",
    "        m=0.0,\n",
    "    ),\n",
    "]\n",
    "standard_criteria_config = CriteriaConfig()\n",
    "standard_criteria_evaluator = CriteriaEvaluator(standard_criteria_config)"
   ]
  },
  {
   "cell_type": "code",
   "execution_count": null,
   "id": "29a5c086",
   "metadata": {},
   "outputs": [
    {
     "data": {
      "application/vnd.jupyter.widget-view+json": {
       "model_id": "a826f512e7f94fd48b5e4588ecc255da",
       "version_major": 2,
       "version_minor": 0
      },
      "text/plain": [
       "Processing files:   0%|          | 0/1 [00:00<?, ?it/s]"
      ]
     },
     "metadata": {},
     "output_type": "display_data"
    },
    {
     "name": "stdout",
     "output_type": "stream",
     "text": [
      "layers:  [Layer(rho=101.0, h=100.0, nu=0.25, E=0.3963944665536936, G=0.15855778662147743, tensile_strength=1.103877672602255, tensile_strength_method='sigrist', E_method='bergfeld', grain_type='DF', grain_size=None, hand_hardness='F'), Layer(rho=173.0, h=170.0, nu=0.25, E=4.231714820461142, G=1.6926859281844568, tensile_strength=4.1040183019389715, tensile_strength_method='sigrist', E_method='bergfeld', grain_type='DF', grain_size=None, hand_hardness='1F'), Layer(rho=137.0, h=30.0, nu=0.25, E=1.515947056821604, G=0.6063788227286416, tensile_strength=2.3226029915382136, tensile_strength_method='sigrist', E_method='bergfeld', grain_type='DF', grain_size=None, hand_hardness='4F'), Layer(rho=209.0, h=300.0, nu=0.25, E=9.722035388607377, G=3.888814155442951, tensile_strength=6.509291720550219, tensile_strength_method='sigrist', E_method='bergfeld', grain_type='DF', grain_size=None, hand_hardness='P'), Layer(rho=163.7, h=20.0, nu=0.25, E=3.318392308727041, G=1.3273569234908165, tensile_strength=3.586373980194787, tensile_strength_method='sigrist', E_method='bergfeld', grain_type=None, grain_size=None, hand_hardness='4F+'), Layer(rho=292.25, h=2380.0, nu=0.25, E=42.50435458798165, G=17.00174183519266, tensile_strength=14.750876454728399, tensile_strength_method='sigrist', E_method='bergfeld', grain_type='MFcr', grain_size=None, hand_hardness='P+')]\n"
     ]
    },
    {
     "data": {
      "application/vnd.jupyter.widget-view+json": {
       "model_id": "efa08e7093fc4070b6bf25f16699280f",
       "version_major": 2,
       "version_minor": 0
      },
      "text/plain": [
       "Processing weak layers:   0%|          | 0/60 [00:00<?, ?it/s]"
      ]
     },
     "metadata": {},
     "output_type": "display_data"
    },
    {
     "name": "stdout",
     "output_type": "stream",
     "text": [
      "--- find_minimum_force Call Statistics ---\n",
      "- rasterize_solution: called 16 times, total time 0.9903s, avg time 0.0619s\n",
      "---------------------------------\n",
      "--- evaluate_coupled_criterion Call Statistics ---\n",
      "- rasterize_solution: called 12 times, total time 0.8116s, avg time 0.0676s\n",
      "- incremental_ERR: called 13 times, total time 0.0966s, avg time 0.0074s\n",
      "---------------------------------\n",
      "sserr_result:  SSERRResult(converged=True, message='SSERR evaluation successful.', touchdown_distance=340.9303286056396, SSERR=0.2801979593274234)\n",
      "\n",
      "wl_depth:  50.0\n",
      "ImpactCriterion:  10.633684636007157\n",
      "CoupledCriterion:  17.144713622886936\n",
      "Touchdown distance:  340.9303286056396\n",
      "SSERR:  0.2801979593274234\n",
      "--- find_minimum_force Call Statistics ---\n",
      "- rasterize_solution: called 15 times, total time 1.0728s, avg time 0.0715s\n",
      "---------------------------------\n",
      "--- evaluate_coupled_criterion Call Statistics ---\n",
      "- rasterize_solution: called 13 times, total time 0.8066s, avg time 0.0620s\n",
      "- incremental_ERR: called 14 times, total time 0.0949s, avg time 0.0068s\n",
      "---------------------------------\n",
      "sserr_result:  SSERRResult(converged=True, message='SSERR evaluation successful.', touchdown_distance=456.3921355891057, SSERR=0.5348932605163854)\n",
      "\n",
      "wl_depth:  100.0\n",
      "ImpactCriterion:  15.486285410764427\n",
      "CoupledCriterion:  24.156506879366\n",
      "Touchdown distance:  456.3921355891057\n",
      "SSERR:  0.5348932605163854\n",
      "--- find_minimum_force Call Statistics ---\n",
      "- rasterize_solution: called 14 times, total time 0.9242s, avg time 0.0660s\n",
      "---------------------------------\n",
      "--- evaluate_coupled_criterion Call Statistics ---\n",
      "- rasterize_solution: called 14 times, total time 0.9711s, avg time 0.0694s\n",
      "- incremental_ERR: called 15 times, total time 0.0989s, avg time 0.0066s\n",
      "---------------------------------\n",
      "sserr_result:  SSERRResult(converged=True, message='SSERR evaluation successful.', touchdown_distance=685.7572374207093, SSERR=0.8502275046110237)\n",
      "\n",
      "wl_depth:  150.0\n",
      "ImpactCriterion:  37.193159952197284\n",
      "CoupledCriterion:  54.63723776910824\n",
      "Touchdown distance:  685.7572374207093\n",
      "SSERR:  0.8502275046110237\n",
      "--- find_minimum_force Call Statistics ---\n",
      "- rasterize_solution: called 13 times, total time 0.8853s, avg time 0.0681s\n",
      "---------------------------------\n",
      "--- evaluate_coupled_criterion Call Statistics ---\n",
      "- rasterize_solution: called 14 times, total time 0.9687s, avg time 0.0692s\n",
      "- incremental_ERR: called 15 times, total time 0.1029s, avg time 0.0069s\n",
      "---------------------------------\n",
      "sserr_result:  SSERRResult(converged=True, message='SSERR evaluation successful.', touchdown_distance=794.9664493571424, SSERR=1.2313439573192637)\n",
      "\n",
      "wl_depth:  200.0\n",
      "ImpactCriterion:  49.3965741902698\n",
      "CoupledCriterion:  72.38349791824021\n",
      "Touchdown distance:  794.9664493571424\n",
      "SSERR:  1.2313439573192637\n",
      "--- find_minimum_force Call Statistics ---\n",
      "- rasterize_solution: called 12 times, total time 0.7887s, avg time 0.0657s\n",
      "---------------------------------\n",
      "--- evaluate_coupled_criterion Call Statistics ---\n",
      "- rasterize_solution: called 6 times, total time 0.3944s, avg time 0.0657s\n",
      "- incremental_ERR: called 7 times, total time 0.0477s, avg time 0.0068s\n",
      "---------------------------------\n",
      "sserr_result:  SSERRResult(converged=True, message='SSERR evaluation successful.', touchdown_distance=905.856950452892, SSERR=1.6163200282825412)\n",
      "\n",
      "wl_depth:  250.0\n",
      "ImpactCriterion:  59.119723534201185\n",
      "CoupledCriterion:  87.09998018812233\n",
      "Touchdown distance:  905.856950452892\n",
      "SSERR:  1.6163200282825412\n",
      "--- find_minimum_force Call Statistics ---\n",
      "- rasterize_solution: called 12 times, total time 0.7809s, avg time 0.0651s\n",
      "---------------------------------\n",
      "--- evaluate_coupled_criterion Call Statistics ---\n",
      "- rasterize_solution: called 14 times, total time 0.9467s, avg time 0.0676s\n",
      "- incremental_ERR: called 15 times, total time 0.1008s, avg time 0.0067s\n",
      "---------------------------------\n",
      "sserr_result:  SSERRResult(converged=True, message='SSERR evaluation successful.', touchdown_distance=955.4715447227535, SSERR=1.9698974869466237)\n",
      "\n",
      "wl_depth:  300.0\n",
      "ImpactCriterion:  64.34418910217849\n",
      "CoupledCriterion:  95.54252012251303\n",
      "Touchdown distance:  955.4715447227535\n",
      "SSERR:  1.9698974869466237\n",
      "--- find_minimum_force Call Statistics ---\n",
      "- rasterize_solution: called 12 times, total time 0.8375s, avg time 0.0698s\n",
      "---------------------------------\n",
      "--- evaluate_coupled_criterion Call Statistics ---\n",
      "- rasterize_solution: called 14 times, total time 0.9507s, avg time 0.0679s\n",
      "- incremental_ERR: called 15 times, total time 0.1001s, avg time 0.0067s\n",
      "---------------------------------\n",
      "sserr_result:  SSERRResult(converged=True, message='SSERR evaluation successful.', touchdown_distance=1184.087316410105, SSERR=2.3917003708574227)\n",
      "\n",
      "wl_depth:  350.0\n",
      "ImpactCriterion:  79.64866952638313\n",
      "CoupledCriterion:  118.55901830583107\n",
      "Touchdown distance:  1184.087316410105\n",
      "SSERR:  2.3917003708574227\n",
      "--- find_minimum_force Call Statistics ---\n",
      "- rasterize_solution: called 12 times, total time 0.8111s, avg time 0.0676s\n",
      "---------------------------------\n",
      "--- evaluate_coupled_criterion Call Statistics ---\n",
      "- rasterize_solution: called 15 times, total time 0.9850s, avg time 0.0657s\n",
      "- incremental_ERR: called 16 times, total time 0.1056s, avg time 0.0066s\n",
      "---------------------------------\n",
      "sserr_result:  SSERRResult(converged=True, message='SSERR evaluation successful.', touchdown_distance=1293.5237515073652, SSERR=2.8384429121821686)\n",
      "\n",
      "wl_depth:  400.0\n",
      "ImpactCriterion:  90.98318960467856\n",
      "CoupledCriterion:  135.62489901559647\n",
      "Touchdown distance:  1293.5237515073652\n",
      "SSERR:  2.8384429121821686\n",
      "--- find_minimum_force Call Statistics ---\n",
      "- rasterize_solution: called 11 times, total time 0.7173s, avg time 0.0652s\n",
      "---------------------------------\n",
      "--- evaluate_coupled_criterion Call Statistics ---\n",
      "- rasterize_solution: called 12 times, total time 0.7966s, avg time 0.0664s\n",
      "- incremental_ERR: called 13 times, total time 0.0854s, avg time 0.0066s\n",
      "---------------------------------\n",
      "sserr_result:  SSERRResult(converged=True, message='SSERR evaluation successful.', touchdown_distance=1377.500708897982, SSERR=3.2920045127556627)\n",
      "\n",
      "wl_depth:  450.0\n",
      "ImpactCriterion:  100.16821851826155\n",
      "CoupledCriterion:  149.7747190597015\n",
      "Touchdown distance:  1377.500708897982\n",
      "SSERR:  3.2920045127556627\n",
      "--- find_minimum_force Call Statistics ---\n",
      "- rasterize_solution: called 11 times, total time 0.7203s, avg time 0.0655s\n",
      "---------------------------------\n",
      "--- evaluate_coupled_criterion Call Statistics ---\n",
      "- rasterize_solution: called 13 times, total time 0.8783s, avg time 0.0676s\n",
      "- incremental_ERR: called 14 times, total time 0.0943s, avg time 0.0067s\n",
      "---------------------------------\n",
      "sserr_result:  SSERRResult(converged=True, message='SSERR evaluation successful.', touchdown_distance=1451.9476817521809, SSERR=3.748376303056169)\n",
      "\n",
      "wl_depth:  500.0\n",
      "ImpactCriterion:  107.86822575248934\n",
      "CoupledCriterion:  161.94573279114178\n",
      "Touchdown distance:  1451.9476817521809\n",
      "SSERR:  3.748376303056169\n",
      "--- find_minimum_force Call Statistics ---\n",
      "- rasterize_solution: called 11 times, total time 0.7297s, avg time 0.0663s\n",
      "---------------------------------\n",
      "--- evaluate_coupled_criterion Call Statistics ---\n",
      "- rasterize_solution: called 14 times, total time 0.9309s, avg time 0.0665s\n",
      "- incremental_ERR: called 15 times, total time 0.1005s, avg time 0.0067s\n",
      "---------------------------------\n",
      "sserr_result:  SSERRResult(converged=True, message='SSERR evaluation successful.', touchdown_distance=1521.2583942394156, SSERR=4.206031982637832)\n",
      "\n",
      "wl_depth:  550.0\n",
      "ImpactCriterion:  114.41209971974278\n",
      "CoupledCriterion:  172.5376223072813\n",
      "Touchdown distance:  1521.2583942394156\n",
      "SSERR:  4.206031982637832\n",
      "--- find_minimum_force Call Statistics ---\n",
      "- rasterize_solution: called 11 times, total time 0.7195s, avg time 0.0654s\n",
      "---------------------------------\n",
      "--- evaluate_coupled_criterion Call Statistics ---\n",
      "- rasterize_solution: called 13 times, total time 0.8515s, avg time 0.0655s\n",
      "- incremental_ERR: called 14 times, total time 0.0928s, avg time 0.0066s\n",
      "---------------------------------\n",
      "sserr_result:  SSERRResult(converged=True, message='SSERR evaluation successful.', touchdown_distance=1586.8275809911938, SSERR=4.664211604332358)\n",
      "\n",
      "wl_depth:  600.0\n",
      "ImpactCriterion:  119.987617165656\n",
      "CoupledCriterion:  181.8968042515056\n",
      "Touchdown distance:  1586.8275809911938\n",
      "SSERR:  4.664211604332358\n",
      "--- find_minimum_force Call Statistics ---\n",
      "- rasterize_solution: called 10 times, total time 0.6551s, avg time 0.0655s\n",
      "---------------------------------\n",
      "--- evaluate_coupled_criterion Call Statistics ---\n",
      "- rasterize_solution: called 12 times, total time 0.7904s, avg time 0.0659s\n",
      "- incremental_ERR: called 13 times, total time 0.0848s, avg time 0.0065s\n",
      "---------------------------------\n",
      "sserr_result:  SSERRResult(converged=True, message='SSERR evaluation successful.', touchdown_distance=1791.9995605314436, SSERR=5.139421385592846)\n",
      "\n",
      "wl_depth:  650.0\n",
      "ImpactCriterion:  135.24201577352832\n",
      "CoupledCriterion:  205.51668596686434\n",
      "Touchdown distance:  1791.9995605314436\n",
      "SSERR:  5.139421385592846\n",
      "--- find_minimum_force Call Statistics ---\n",
      "- rasterize_solution: called 10 times, total time 0.6491s, avg time 0.0649s\n",
      "---------------------------------\n",
      "--- evaluate_coupled_criterion Call Statistics ---\n",
      "- rasterize_solution: called 14 times, total time 0.9407s, avg time 0.0672s\n",
      "- incremental_ERR: called 15 times, total time 0.0996s, avg time 0.0066s\n",
      "---------------------------------\n",
      "sserr_result:  SSERRResult(converged=True, message='SSERR evaluation successful.', touchdown_distance=1965.075447234066, SSERR=5.730822389942306)\n",
      "\n",
      "wl_depth:  700.0\n",
      "ImpactCriterion:  152.8914877489275\n",
      "CoupledCriterion:  231.87108328772632\n",
      "Touchdown distance:  1965.075447234066\n",
      "SSERR:  5.730822389942306\n",
      "--- find_minimum_force Call Statistics ---\n",
      "- rasterize_solution: called 10 times, total time 0.6879s, avg time 0.0688s\n",
      "---------------------------------\n",
      "--- evaluate_coupled_criterion Call Statistics ---\n",
      "- rasterize_solution: called 13 times, total time 0.8524s, avg time 0.0656s\n",
      "- incremental_ERR: called 14 times, total time 0.0918s, avg time 0.0066s\n",
      "---------------------------------\n",
      "sserr_result:  SSERRResult(converged=True, message='SSERR evaluation successful.', touchdown_distance=2072.514794576522, SSERR=6.342002793522919)\n",
      "\n",
      "wl_depth:  750.0\n",
      "ImpactCriterion:  165.22723745687617\n",
      "CoupledCriterion:  250.47840084379027\n",
      "Touchdown distance:  2072.514794576522\n",
      "SSERR:  6.342002793522919\n",
      "--- find_minimum_force Call Statistics ---\n",
      "- rasterize_solution: called 10 times, total time 0.6504s, avg time 0.0650s\n",
      "---------------------------------\n",
      "--- evaluate_coupled_criterion Call Statistics ---\n",
      "- rasterize_solution: called 11 times, total time 0.7224s, avg time 0.0657s\n",
      "- incremental_ERR: called 12 times, total time 0.0782s, avg time 0.0065s\n",
      "---------------------------------\n",
      "sserr_result:  SSERRResult(converged=True, message='SSERR evaluation successful.', touchdown_distance=2156.5253076297317, SSERR=6.959859725591557)\n",
      "\n",
      "wl_depth:  800.0\n",
      "ImpactCriterion:  174.14658685555847\n",
      "CoupledCriterion:  264.2121744197865\n",
      "Touchdown distance:  2156.5253076297317\n",
      "SSERR:  6.959859725591557\n",
      "--- find_minimum_force Call Statistics ---\n",
      "- rasterize_solution: called 10 times, total time 0.6809s, avg time 0.0681s\n",
      "---------------------------------\n",
      "--- evaluate_coupled_criterion Call Statistics ---\n",
      "- rasterize_solution: called 14 times, total time 0.9143s, avg time 0.0653s\n",
      "- incremental_ERR: called 15 times, total time 0.0969s, avg time 0.0065s\n",
      "---------------------------------\n",
      "sserr_result:  SSERRResult(converged=True, message='SSERR evaluation successful.', touchdown_distance=2231.0080991626305, SSERR=7.580567032402083)\n",
      "\n",
      "wl_depth:  850.0\n",
      "ImpactCriterion:  180.61078507456187\n",
      "CoupledCriterion:  274.79042446331096\n",
      "Touchdown distance:  2231.0080991626305\n",
      "SSERR:  7.580567032402083\n",
      "--- find_minimum_force Call Statistics ---\n",
      "- rasterize_solution: called 10 times, total time 0.6516s, avg time 0.0652s\n",
      "---------------------------------\n",
      "--- evaluate_coupled_criterion Call Statistics ---\n",
      "- rasterize_solution: called 14 times, total time 0.9248s, avg time 0.0661s\n",
      "- incremental_ERR: called 15 times, total time 0.0994s, avg time 0.0066s\n",
      "---------------------------------\n",
      "sserr_result:  SSERRResult(converged=True, message='SSERR evaluation successful.', touchdown_distance=2301.605808134264, SSERR=8.20256689269236)\n",
      "\n",
      "wl_depth:  900.0\n",
      "ImpactCriterion:  185.1565700221307\n",
      "CoupledCriterion:  282.83558854634833\n",
      "Touchdown distance:  2301.605808134264\n",
      "SSERR:  8.20256689269236\n",
      "--- find_minimum_force Call Statistics ---\n",
      "- rasterize_solution: called 9 times, total time 0.5813s, avg time 0.0646s\n",
      "---------------------------------\n",
      "--- evaluate_coupled_criterion Call Statistics ---\n",
      "- rasterize_solution: called 13 times, total time 0.8550s, avg time 0.0658s\n",
      "- incremental_ERR: called 14 times, total time 0.0921s, avg time 0.0066s\n",
      "---------------------------------\n",
      "sserr_result:  SSERRResult(converged=True, message='SSERR evaluation successful.', touchdown_distance=2370.7359795420443, SSERR=8.825079900095483)\n",
      "\n",
      "wl_depth:  950.0\n",
      "ImpactCriterion:  188.0996984490077\n",
      "CoupledCriterion:  288.82235692232325\n",
      "Touchdown distance:  2370.7359795420443\n",
      "SSERR:  8.825079900095483\n",
      "--- find_minimum_force Call Statistics ---\n",
      "- rasterize_solution: called 9 times, total time 0.5837s, avg time 0.0649s\n",
      "---------------------------------\n",
      "--- evaluate_coupled_criterion Call Statistics ---\n",
      "- rasterize_solution: called 13 times, total time 0.8691s, avg time 0.0669s\n",
      "- incremental_ERR: called 14 times, total time 0.0921s, avg time 0.0066s\n",
      "---------------------------------\n",
      "sserr_result:  SSERRResult(converged=True, message='SSERR evaluation successful.', touchdown_distance=2439.4004525660976, SSERR=9.447658244013775)\n",
      "\n",
      "wl_depth:  1000.0\n",
      "ImpactCriterion:  189.63404308491474\n",
      "CoupledCriterion:  293.0283475844342\n",
      "Touchdown distance:  2439.4004525660976\n",
      "SSERR:  9.447658244013775\n",
      "--- find_minimum_force Call Statistics ---\n",
      "- rasterize_solution: called 9 times, total time 0.6017s, avg time 0.0669s\n",
      "---------------------------------\n",
      "--- evaluate_coupled_criterion Call Statistics ---\n",
      "- rasterize_solution: called 11 times, total time 0.7269s, avg time 0.0661s\n",
      "- incremental_ERR: called 12 times, total time 0.0785s, avg time 0.0065s\n",
      "---------------------------------\n",
      "sserr_result:  SSERRResult(converged=True, message='SSERR evaluation successful.', touchdown_distance=2507.963887908616, SSERR=10.070020130358609)\n",
      "\n",
      "wl_depth:  1050.0\n",
      "ImpactCriterion:  189.88825887433524\n",
      "CoupledCriterion:  295.50525817430787\n",
      "Touchdown distance:  2507.963887908616\n",
      "SSERR:  10.070020130358609\n",
      "--- find_minimum_force Call Statistics ---\n",
      "- rasterize_solution: called 9 times, total time 0.6414s, avg time 0.0713s\n",
      "---------------------------------\n",
      "--- evaluate_coupled_criterion Call Statistics ---\n",
      "- rasterize_solution: called 12 times, total time 0.8175s, avg time 0.0681s\n",
      "- incremental_ERR: called 13 times, total time 0.0879s, avg time 0.0068s\n",
      "---------------------------------\n",
      "sserr_result:  SSERRResult(converged=True, message='SSERR evaluation successful.', touchdown_distance=2576.5193547205145, SSERR=10.691978059721649)\n",
      "\n",
      "wl_depth:  1100.0\n",
      "ImpactCriterion:  188.94957679461635\n",
      "CoupledCriterion:  296.3486823136402\n",
      "Touchdown distance:  2576.5193547205145\n",
      "SSERR:  10.691978059721649\n",
      "--- find_minimum_force Call Statistics ---\n",
      "- rasterize_solution: called 9 times, total time 0.5845s, avg time 0.0649s\n",
      "---------------------------------\n",
      "--- evaluate_coupled_criterion Call Statistics ---\n",
      "- rasterize_solution: called 13 times, total time 0.8813s, avg time 0.0678s\n",
      "- incremental_ERR: called 14 times, total time 0.0931s, avg time 0.0067s\n",
      "---------------------------------\n",
      "sserr_result:  SSERRResult(converged=True, message='SSERR evaluation successful.', touchdown_distance=2645.064874182861, SSERR=11.313405201924766)\n",
      "\n",
      "wl_depth:  1150.0\n",
      "ImpactCriterion:  186.8843238785505\n",
      "CoupledCriterion:  295.6164614517516\n",
      "Touchdown distance:  2645.064874182861\n",
      "SSERR:  11.313405201924766\n",
      "--- find_minimum_force Call Statistics ---\n",
      "- rasterize_solution: called 9 times, total time 0.5863s, avg time 0.0651s\n",
      "---------------------------------\n",
      "--- evaluate_coupled_criterion Call Statistics ---\n",
      "- rasterize_solution: called 13 times, total time 0.8759s, avg time 0.0674s\n",
      "- incremental_ERR: called 14 times, total time 0.0944s, avg time 0.0067s\n",
      "---------------------------------\n",
      "sserr_result:  SSERRResult(converged=True, message='SSERR evaluation successful.', touchdown_distance=2713.5869054860173, SSERR=11.934221523447787)\n",
      "\n",
      "wl_depth:  1200.0\n",
      "ImpactCriterion:  183.74575354476667\n",
      "CoupledCriterion:  293.3407198353696\n",
      "Touchdown distance:  2713.5869054860173\n",
      "SSERR:  11.934221523447787\n",
      "--- find_minimum_force Call Statistics ---\n",
      "- rasterize_solution: called 9 times, total time 0.5814s, avg time 0.0646s\n",
      "---------------------------------\n",
      "--- evaluate_coupled_criterion Call Statistics ---\n",
      "- rasterize_solution: called 12 times, total time 0.7881s, avg time 0.0657s\n",
      "- incremental_ERR: called 13 times, total time 0.0850s, avg time 0.0065s\n",
      "---------------------------------\n",
      "sserr_result:  SSERRResult(converged=True, message='SSERR evaluation successful.', touchdown_distance=2782.096581025633, SSERR=12.554392962804656)\n",
      "\n",
      "wl_depth:  1250.0\n",
      "ImpactCriterion:  179.57908167567288\n",
      "CoupledCriterion:  289.53575673714033\n",
      "Touchdown distance:  2782.096581025633\n",
      "SSERR:  12.554392962804656\n",
      "--- find_minimum_force Call Statistics ---\n",
      "- rasterize_solution: called 9 times, total time 0.5876s, avg time 0.0653s\n",
      "---------------------------------\n",
      "--- evaluate_coupled_criterion Call Statistics ---\n",
      "- rasterize_solution: called 4 times, total time 0.2617s, avg time 0.0654s\n",
      "- incremental_ERR: called 5 times, total time 0.0338s, avg time 0.0068s\n",
      "---------------------------------\n",
      "sserr_result:  SSERRResult(converged=True, message='SSERR evaluation successful.', touchdown_distance=2850.6420119705667, SSERR=13.173940435615343)\n",
      "\n",
      "wl_depth:  1300.0\n",
      "ImpactCriterion:  174.4242407220811\n",
      "CoupledCriterion:  284.2024972265409\n",
      "Touchdown distance:  2850.6420119705667\n",
      "SSERR:  13.173940435615343\n",
      "--- find_minimum_force Call Statistics ---\n",
      "- rasterize_solution: called 9 times, total time 0.5899s, avg time 0.0655s\n",
      "---------------------------------\n",
      "--- evaluate_coupled_criterion Call Statistics ---\n",
      "- rasterize_solution: called 13 times, total time 0.8591s, avg time 0.0661s\n",
      "- incremental_ERR: called 14 times, total time 0.0911s, avg time 0.0065s\n",
      "---------------------------------\n",
      "sserr_result:  SSERRResult(converged=True, message='SSERR evaluation successful.', touchdown_distance=2919.3089897701307, SSERR=13.792956357266434)\n",
      "\n",
      "wl_depth:  1350.0\n",
      "ImpactCriterion:  168.31757375372055\n",
      "CoupledCriterion:  277.3313515722481\n",
      "Touchdown distance:  2919.3089897701307\n",
      "SSERR:  13.792956357266434\n",
      "--- find_minimum_force Call Statistics ---\n",
      "- rasterize_solution: called 9 times, total time 0.5862s, avg time 0.0651s\n",
      "---------------------------------\n",
      "--- evaluate_coupled_criterion Call Statistics ---\n",
      "- rasterize_solution: called 13 times, total time 0.8505s, avg time 0.0654s\n",
      "- incremental_ERR: called 14 times, total time 0.0922s, avg time 0.0066s\n",
      "---------------------------------\n",
      "sserr_result:  SSERRResult(converged=True, message='SSERR evaluation successful.', touchdown_distance=2985.292108201615, SSERR=14.411030700336406)\n",
      "\n",
      "wl_depth:  1400.0\n",
      "ImpactCriterion:  161.29242669836052\n",
      "CoupledCriterion:  268.90333940498766\n",
      "Touchdown distance:  2985.292108201615\n",
      "SSERR:  14.411030700336406\n",
      "--- find_minimum_force Call Statistics ---\n",
      "- rasterize_solution: called 9 times, total time 0.5833s, avg time 0.0648s\n",
      "---------------------------------\n",
      "--- evaluate_coupled_criterion Call Statistics ---\n",
      "- rasterize_solution: called 9 times, total time 0.5920s, avg time 0.0658s\n",
      "- incremental_ERR: called 10 times, total time 0.0655s, avg time 0.0065s\n",
      "---------------------------------\n",
      "sserr_result:  SSERRResult(converged=True, message='SSERR evaluation successful.', touchdown_distance=3036.698791924795, SSERR=15.025263420827875)\n",
      "\n",
      "wl_depth:  1450.0\n",
      "ImpactCriterion:  153.3798895202211\n",
      "CoupledCriterion:  258.89147328568407\n",
      "Touchdown distance:  3036.698791924795\n",
      "SSERR:  15.025263420827875\n",
      "--- find_minimum_force Call Statistics ---\n",
      "- rasterize_solution: called 9 times, total time 0.6002s, avg time 0.0667s\n",
      "---------------------------------\n",
      "--- evaluate_coupled_criterion Call Statistics ---\n",
      "- rasterize_solution: called 13 times, total time 0.9107s, avg time 0.0701s\n",
      "- incremental_ERR: called 14 times, total time 0.0940s, avg time 0.0067s\n",
      "---------------------------------\n",
      "sserr_result:  SSERRResult(converged=True, message='SSERR evaluation successful.', touchdown_distance=3085.9455925240027, SSERR=15.637577998519358)\n",
      "\n",
      "wl_depth:  1500.0\n",
      "ImpactCriterion:  144.6090333226412\n",
      "CoupledCriterion:  247.43767134022542\n",
      "Touchdown distance:  3085.9455925240027\n",
      "SSERR:  15.637577998519358\n",
      "--- find_minimum_force Call Statistics ---\n",
      "- rasterize_solution: called 9 times, total time 0.5893s, avg time 0.0655s\n",
      "---------------------------------\n",
      "--- evaluate_coupled_criterion Call Statistics ---\n",
      "- rasterize_solution: called 14 times, total time 0.9221s, avg time 0.0659s\n",
      "- incremental_ERR: called 15 times, total time 0.0987s, avg time 0.0066s\n",
      "---------------------------------\n",
      "sserr_result:  SSERRResult(converged=True, message='SSERR evaluation successful.', touchdown_distance=3132.989733073824, SSERR=16.24773177119566)\n",
      "\n",
      "wl_depth:  1550.0\n",
      "ImpactCriterion:  135.0071200534617\n",
      "CoupledCriterion:  234.21848327902794\n",
      "Touchdown distance:  3132.989733073824\n",
      "SSERR:  16.24773177119566\n",
      "--- find_minimum_force Call Statistics ---\n",
      "- rasterize_solution: called 9 times, total time 0.6203s, avg time 0.0689s\n",
      "---------------------------------\n",
      "--- evaluate_coupled_criterion Call Statistics ---\n",
      "- rasterize_solution: called 11 times, total time 0.7207s, avg time 0.0655s\n",
      "- incremental_ERR: called 12 times, total time 0.0785s, avg time 0.0065s\n",
      "---------------------------------\n",
      "sserr_result:  SSERRResult(converged=True, message='SSERR evaluation successful.', touchdown_distance=3177.784253333449, SSERR=16.855497003880995)\n",
      "\n",
      "wl_depth:  1600.0\n",
      "ImpactCriterion:  124.5997570092042\n",
      "CoupledCriterion:  219.4300281286751\n",
      "Touchdown distance:  3177.784253333449\n",
      "SSERR:  16.855497003880995\n",
      "--- find_minimum_force Call Statistics ---\n",
      "- rasterize_solution: called 9 times, total time 0.5906s, avg time 0.0656s\n",
      "---------------------------------\n",
      "--- evaluate_coupled_criterion Call Statistics ---\n",
      "- rasterize_solution: called 13 times, total time 0.8802s, avg time 0.0677s\n",
      "- incremental_ERR: called 14 times, total time 0.0928s, avg time 0.0066s\n",
      "---------------------------------\n",
      "sserr_result:  SSERRResult(converged=True, message='SSERR evaluation successful.', touchdown_distance=3220.2753467145135, SSERR=17.460670056224302)\n",
      "\n",
      "wl_depth:  1650.0\n",
      "ImpactCriterion:  113.41102161619042\n",
      "CoupledCriterion:  202.906743243206\n",
      "Touchdown distance:  3220.2753467145135\n",
      "SSERR:  17.460670056224302\n",
      "--- find_minimum_force Call Statistics ---\n",
      "- rasterize_solution: called 9 times, total time 0.6032s, avg time 0.0670s\n",
      "---------------------------------\n",
      "--- evaluate_coupled_criterion Call Statistics ---\n",
      "- rasterize_solution: called 13 times, total time 0.8919s, avg time 0.0686s\n",
      "- incremental_ERR: called 14 times, total time 0.0975s, avg time 0.0070s\n",
      "---------------------------------\n",
      "sserr_result:  SSERRResult(converged=True, message='SSERR evaluation successful.', touchdown_distance=3260.4010169344674, SSERR=18.06308084857112)\n",
      "\n",
      "wl_depth:  1700.0\n",
      "ImpactCriterion:  101.46356949492899\n",
      "CoupledCriterion:  184.748290740982\n",
      "Touchdown distance:  3260.4010169344674\n",
      "SSERR:  18.06308084857112\n",
      "--- find_minimum_force Call Statistics ---\n",
      "- rasterize_solution: called 9 times, total time 0.5958s, avg time 0.0662s\n",
      "---------------------------------\n",
      "--- evaluate_coupled_criterion Call Statistics ---\n",
      "- rasterize_solution: called 13 times, total time 0.8636s, avg time 0.0664s\n",
      "- incremental_ERR: called 14 times, total time 0.0922s, avg time 0.0066s\n",
      "---------------------------------\n",
      "sserr_result:  SSERRResult(converged=True, message='SSERR evaluation successful.', touchdown_distance=3298.090796173215, SSERR=18.662602834188416)\n",
      "\n",
      "wl_depth:  1750.0\n",
      "ImpactCriterion:  88.77873224553986\n",
      "CoupledCriterion:  164.68270598338637\n",
      "Touchdown distance:  3298.090796173215\n",
      "SSERR:  18.662602834188416\n",
      "--- find_minimum_force Call Statistics ---\n",
      "- rasterize_solution: called 9 times, total time 0.5974s, avg time 0.0664s\n",
      "---------------------------------\n",
      "--- evaluate_coupled_criterion Call Statistics ---\n",
      "- rasterize_solution: called 13 times, total time 0.8686s, avg time 0.0668s\n",
      "- incremental_ERR: called 14 times, total time 0.0926s, avg time 0.0066s\n",
      "---------------------------------\n",
      "sserr_result:  SSERRResult(converged=True, message='SSERR evaluation successful.', touchdown_distance=3333.266287151105, SSERR=19.259163722356966)\n",
      "\n",
      "wl_depth:  1800.0\n",
      "ImpactCriterion:  75.37660801216252\n",
      "CoupledCriterion:  142.5796571054671\n",
      "Touchdown distance:  3333.266287151105\n",
      "SSERR:  19.259163722356966\n",
      "--- find_minimum_force Call Statistics ---\n",
      "- rasterize_solution: called 8 times, total time 0.5283s, avg time 0.0660s\n",
      "---------------------------------\n",
      "--- evaluate_coupled_criterion Call Statistics ---\n",
      "- rasterize_solution: called 12 times, total time 0.7874s, avg time 0.0656s\n",
      "- incremental_ERR: called 13 times, total time 0.0862s, avg time 0.0066s\n",
      "---------------------------------\n",
      "sserr_result:  SSERRResult(converged=True, message='SSERR evaluation successful.', touchdown_distance=3365.842328720123, SSERR=19.85275715232993)\n",
      "\n",
      "wl_depth:  1850.0\n",
      "ImpactCriterion:  61.27655026399487\n",
      "CoupledCriterion:  118.52389806641705\n",
      "Touchdown distance:  3365.842328720123\n",
      "SSERR:  19.85275715232993\n",
      "--- find_minimum_force Call Statistics ---\n",
      "- rasterize_solution: called 8 times, total time 0.5219s, avg time 0.0652s\n",
      "---------------------------------\n",
      "--- evaluate_coupled_criterion Call Statistics ---\n",
      "- rasterize_solution: called 14 times, total time 0.9221s, avg time 0.0659s\n",
      "- incremental_ERR: called 16 times, total time 0.1065s, avg time 0.0067s\n",
      "---------------------------------\n",
      "sserr_result:  SSERRResult(converged=True, message='SSERR evaluation successful.', touchdown_distance=3395.7286227276845, SSERR=20.443455406553912)\n",
      "\n",
      "wl_depth:  1900.0\n",
      "ImpactCriterion:  46.494308696195354\n",
      "CoupledCriterion:  92.09372113705956\n",
      "Touchdown distance:  3395.7286227276845\n",
      "SSERR:  20.443455406553912\n",
      "--- find_minimum_force Call Statistics ---\n",
      "- rasterize_solution: called 8 times, total time 0.5323s, avg time 0.0665s\n",
      "---------------------------------\n",
      "--- evaluate_coupled_criterion Call Statistics ---\n",
      "- rasterize_solution: called 13 times, total time 0.9404s, avg time 0.0723s\n",
      "- incremental_ERR: called 15 times, total time 0.1054s, avg time 0.0070s\n",
      "---------------------------------\n",
      "sserr_result:  SSERRResult(converged=True, message='SSERR evaluation successful.', touchdown_distance=3422.83169172769, SSERR=21.031423092874036)\n",
      "\n",
      "wl_depth:  1950.0\n",
      "ImpactCriterion:  31.050461106181707\n",
      "CoupledCriterion:  63.12859695842287\n",
      "Touchdown distance:  3422.83169172769\n",
      "SSERR:  21.031423092874036\n",
      "--- find_minimum_force Call Statistics ---\n",
      "- rasterize_solution: called 8 times, total time 0.5655s, avg time 0.0707s\n",
      "---------------------------------\n",
      "--- evaluate_coupled_criterion Call Statistics ---\n",
      "- rasterize_solution: called 12 times, total time 0.8605s, avg time 0.0717s\n",
      "- incremental_ERR: called 15 times, total time 0.1132s, avg time 0.0075s\n",
      "---------------------------------\n",
      "sserr_result:  SSERRResult(converged=True, message='SSERR evaluation successful.', touchdown_distance=3447.0570601822715, SSERR=21.61693154249099)\n",
      "\n",
      "wl_depth:  2000.0\n",
      "ImpactCriterion:  14.958601723872738\n",
      "CoupledCriterion:  31.32508688294327\n",
      "Touchdown distance:  3447.0570601822715\n",
      "SSERR:  21.61693154249099\n",
      "--- min_dist_stress >= 1 in find_minimum_force Call Statistics ---\n",
      "- rasterize_solution: called 1 times, total time 0.0698s, avg time 0.0698s\n",
      "---------------------------------\n",
      "--- The entire solution is cracked ---\n",
      "--- evaluate_coupled_criterion Call Statistics ---\n",
      "- incremental_ERR: called 1 times, total time 0.0080s, avg time 0.0080s\n",
      "---------------------------------\n",
      "sserr_result:  SSERRResult(converged=True, message='SSERR evaluation successful.', touchdown_distance=3468.3115665554724, SSERR=22.200373487692133)\n",
      "\n",
      "wl_depth:  2050.0\n",
      "ImpactCriterion:  0.0\n",
      "CoupledCriterion:  0\n",
      "Touchdown distance:  3468.3115665554724\n",
      "SSERR:  22.200373487692133\n",
      "--- min_dist_stress >= 1 in find_minimum_force Call Statistics ---\n",
      "- rasterize_solution: called 1 times, total time 0.0761s, avg time 0.0761s\n",
      "---------------------------------\n",
      "--- The entire solution is cracked ---\n",
      "--- evaluate_coupled_criterion Call Statistics ---\n",
      "- incremental_ERR: called 1 times, total time 0.0087s, avg time 0.0087s\n",
      "---------------------------------\n",
      "sserr_result:  SSERRResult(converged=True, message='SSERR evaluation successful.', touchdown_distance=3486.5057220884396, SSERR=22.782277426041738)\n",
      "\n",
      "wl_depth:  2100.0\n",
      "ImpactCriterion:  0.0\n",
      "CoupledCriterion:  0\n",
      "Touchdown distance:  3486.5057220884396\n",
      "SSERR:  22.782277426041738\n",
      "--- min_dist_stress >= 1 in find_minimum_force Call Statistics ---\n",
      "- rasterize_solution: called 1 times, total time 0.0724s, avg time 0.0724s\n",
      "---------------------------------\n",
      "--- The entire solution is cracked ---\n",
      "--- evaluate_coupled_criterion Call Statistics ---\n",
      "- incremental_ERR: called 1 times, total time 0.0073s, avg time 0.0073s\n",
      "---------------------------------\n",
      "sserr_result:  SSERRResult(converged=True, message='SSERR evaluation successful.', touchdown_distance=3501.556036667109, SSERR=23.363320969557936)\n",
      "\n",
      "wl_depth:  2150.0\n",
      "ImpactCriterion:  0.0\n",
      "CoupledCriterion:  0\n",
      "Touchdown distance:  3501.556036667109\n",
      "SSERR:  23.363320969557936\n",
      "--- min_dist_stress >= 1 in find_minimum_force Call Statistics ---\n",
      "- rasterize_solution: called 1 times, total time 0.0670s, avg time 0.0670s\n",
      "---------------------------------\n",
      "--- The entire solution is cracked ---\n",
      "--- evaluate_coupled_criterion Call Statistics ---\n",
      "- incremental_ERR: called 1 times, total time 0.0081s, avg time 0.0081s\n",
      "---------------------------------\n",
      "sserr_result:  SSERRResult(converged=True, message='SSERR evaluation successful.', touchdown_distance=3513.3872357583436, SSERR=23.944342437833416)\n",
      "\n",
      "wl_depth:  2200.0\n",
      "ImpactCriterion:  0.0\n",
      "CoupledCriterion:  0\n",
      "Touchdown distance:  3513.3872357583436\n",
      "SSERR:  23.944342437833416\n",
      "--- min_dist_stress >= 1 in find_minimum_force Call Statistics ---\n",
      "- rasterize_solution: called 1 times, total time 0.0664s, avg time 0.0664s\n",
      "---------------------------------\n",
      "--- The entire solution is cracked ---\n",
      "--- evaluate_coupled_criterion Call Statistics ---\n",
      "- incremental_ERR: called 1 times, total time 0.0077s, avg time 0.0077s\n",
      "---------------------------------\n",
      "sserr_result:  SSERRResult(converged=True, message='SSERR evaluation successful.', touchdown_distance=3521.934297292718, SSERR=24.526349994574332)\n",
      "\n",
      "wl_depth:  2250.0\n",
      "ImpactCriterion:  0.0\n",
      "CoupledCriterion:  0\n",
      "Touchdown distance:  3521.934297292718\n",
      "SSERR:  24.526349994574332\n",
      "--- min_dist_stress >= 1 in find_minimum_force Call Statistics ---\n",
      "- rasterize_solution: called 1 times, total time 0.0665s, avg time 0.0665s\n",
      "---------------------------------\n",
      "--- The entire solution is cracked ---\n",
      "--- evaluate_coupled_criterion Call Statistics ---\n",
      "- incremental_ERR: called 1 times, total time 0.0081s, avg time 0.0081s\n",
      "---------------------------------\n",
      "sserr_result:  SSERRResult(converged=True, message='SSERR evaluation successful.', touchdown_distance=3527.144245358849, SSERR=25.110527748106744)\n",
      "\n",
      "wl_depth:  2300.0\n",
      "ImpactCriterion:  0.0\n",
      "CoupledCriterion:  0\n",
      "Touchdown distance:  3527.144245358849\n",
      "SSERR:  25.110527748106744\n",
      "--- min_dist_stress >= 1 in find_minimum_force Call Statistics ---\n",
      "- rasterize_solution: called 1 times, total time 0.0641s, avg time 0.0641s\n",
      "---------------------------------\n",
      "--- The entire solution is cracked ---\n",
      "--- evaluate_coupled_criterion Call Statistics ---\n",
      "- incremental_ERR: called 1 times, total time 0.0076s, avg time 0.0076s\n",
      "---------------------------------\n",
      "sserr_result:  SSERRResult(converged=True, message='SSERR evaluation successful.', touchdown_distance=3528.977649524736, SSERR=25.69823842582865)\n",
      "\n",
      "wl_depth:  2350.0\n",
      "ImpactCriterion:  0.0\n",
      "CoupledCriterion:  0\n",
      "Touchdown distance:  3528.977649524736\n",
      "SSERR:  25.69823842582865\n",
      "--- min_dist_stress >= 1 in find_minimum_force Call Statistics ---\n",
      "- rasterize_solution: called 1 times, total time 0.0718s, avg time 0.0718s\n",
      "---------------------------------\n",
      "--- The entire solution is cracked ---\n",
      "--- evaluate_coupled_criterion Call Statistics ---\n",
      "- incremental_ERR: called 1 times, total time 0.0080s, avg time 0.0080s\n",
      "---------------------------------\n",
      "sserr_result:  SSERRResult(converged=True, message='SSERR evaluation successful.', touchdown_distance=3527.4097943840266, SSERR=26.291022466455946)\n",
      "\n",
      "wl_depth:  2400.0\n",
      "ImpactCriterion:  0.0\n",
      "CoupledCriterion:  0\n",
      "Touchdown distance:  3527.4097943840266\n",
      "SSERR:  26.291022466455946\n",
      "--- min_dist_stress >= 1 in find_minimum_force Call Statistics ---\n",
      "- rasterize_solution: called 1 times, total time 0.0678s, avg time 0.0678s\n",
      "---------------------------------\n",
      "--- The entire solution is cracked ---\n",
      "--- evaluate_coupled_criterion Call Statistics ---\n",
      "- incremental_ERR: called 1 times, total time 0.0073s, avg time 0.0073s\n",
      "---------------------------------\n",
      "sserr_result:  SSERRResult(converged=True, message='SSERR evaluation successful.', touchdown_distance=3522.4315025064543, SSERR=26.890593620001066)\n",
      "\n",
      "wl_depth:  2450.0\n",
      "ImpactCriterion:  0.0\n",
      "CoupledCriterion:  0\n",
      "Touchdown distance:  3522.4315025064543\n",
      "SSERR:  26.890593620001066\n",
      "--- min_dist_stress >= 1 in find_minimum_force Call Statistics ---\n",
      "- rasterize_solution: called 1 times, total time 0.0670s, avg time 0.0670s\n",
      "---------------------------------\n",
      "--- The entire solution is cracked ---\n",
      "--- evaluate_coupled_criterion Call Statistics ---\n",
      "- incremental_ERR: called 1 times, total time 0.0078s, avg time 0.0078s\n",
      "---------------------------------\n",
      "sserr_result:  SSERRResult(converged=True, message='SSERR evaluation successful.', touchdown_distance=3514.0496135795156, SSERR=27.498831369129412)\n",
      "\n",
      "wl_depth:  2500.0\n",
      "ImpactCriterion:  0.0\n",
      "CoupledCriterion:  0\n",
      "Touchdown distance:  3514.0496135795156\n",
      "SSERR:  27.498831369129412\n",
      "--- min_dist_stress >= 1 in find_minimum_force Call Statistics ---\n",
      "- rasterize_solution: called 1 times, total time 0.0668s, avg time 0.0668s\n",
      "---------------------------------\n",
      "--- The entire solution is cracked ---\n",
      "--- evaluate_coupled_criterion Call Statistics ---\n",
      "- incremental_ERR: called 1 times, total time 0.0073s, avg time 0.0073s\n",
      "---------------------------------\n",
      "sserr_result:  SSERRResult(converged=True, message='SSERR evaluation successful.', touchdown_distance=3502.287141066103, SSERR=28.11777065618553)\n",
      "\n",
      "wl_depth:  2550.0\n",
      "ImpactCriterion:  0.0\n",
      "CoupledCriterion:  0\n",
      "Touchdown distance:  3502.287141066103\n",
      "SSERR:  28.11777065618553\n",
      "--- min_dist_stress >= 1 in find_minimum_force Call Statistics ---\n",
      "- rasterize_solution: called 1 times, total time 0.0678s, avg time 0.0678s\n",
      "---------------------------------\n",
      "--- The entire solution is cracked ---\n",
      "--- evaluate_coupled_criterion Call Statistics ---\n",
      "- incremental_ERR: called 1 times, total time 0.0077s, avg time 0.0077s\n",
      "---------------------------------\n",
      "sserr_result:  SSERRResult(converged=True, message='SSERR evaluation successful.', touchdown_distance=3487.1831431232144, SSERR=28.749589496923935)\n",
      "\n",
      "wl_depth:  2600.0\n",
      "ImpactCriterion:  0.0\n",
      "CoupledCriterion:  0\n",
      "Touchdown distance:  3487.1831431232144\n",
      "SSERR:  28.749589496923935\n",
      "--- min_dist_stress >= 1 in find_minimum_force Call Statistics ---\n",
      "- rasterize_solution: called 1 times, total time 0.0677s, avg time 0.0677s\n",
      "---------------------------------\n",
      "--- The entire solution is cracked ---\n",
      "--- evaluate_coupled_criterion Call Statistics ---\n",
      "- incremental_ERR: called 1 times, total time 0.0074s, avg time 0.0074s\n",
      "---------------------------------\n",
      "sserr_result:  SSERRResult(converged=True, message='SSERR evaluation successful.', touchdown_distance=3468.792355225961, SSERR=29.396595077093053)\n",
      "\n",
      "wl_depth:  2650.0\n",
      "ImpactCriterion:  0.0\n",
      "CoupledCriterion:  0\n",
      "Touchdown distance:  3468.792355225961\n",
      "SSERR:  29.396595077093053\n",
      "--- min_dist_stress >= 1 in find_minimum_force Call Statistics ---\n",
      "- rasterize_solution: called 1 times, total time 0.0683s, avg time 0.0683s\n",
      "---------------------------------\n",
      "--- The entire solution is cracked ---\n",
      "--- evaluate_coupled_criterion Call Statistics ---\n",
      "- incremental_ERR: called 1 times, total time 0.0084s, avg time 0.0084s\n",
      "---------------------------------\n",
      "sserr_result:  SSERRResult(converged=True, message='SSERR evaluation successful.', touchdown_distance=3447.184637036106, SSERR=30.061208867300714)\n",
      "\n",
      "wl_depth:  2700.0\n",
      "ImpactCriterion:  0.0\n",
      "CoupledCriterion:  0\n",
      "Touchdown distance:  3447.184637036106\n",
      "SSERR:  30.061208867300714\n",
      "--- min_dist_stress >= 1 in find_minimum_force Call Statistics ---\n",
      "- rasterize_solution: called 1 times, total time 0.0685s, avg time 0.0685s\n",
      "---------------------------------\n",
      "--- The entire solution is cracked ---\n",
      "--- evaluate_coupled_criterion Call Statistics ---\n",
      "- incremental_ERR: called 1 times, total time 0.0075s, avg time 0.0075s\n",
      "---------------------------------\n",
      "sserr_result:  SSERRResult(converged=True, message='SSERR evaluation successful.', touchdown_distance=3422.444285447562, SSERR=30.745951172164716)\n",
      "\n",
      "wl_depth:  2750.0\n",
      "ImpactCriterion:  0.0\n",
      "CoupledCriterion:  0\n",
      "Touchdown distance:  3422.444285447562\n",
      "SSERR:  30.745951172164716\n",
      "--- min_dist_stress >= 1 in find_minimum_force Call Statistics ---\n",
      "- rasterize_solution: called 1 times, total time 0.0687s, avg time 0.0687s\n",
      "---------------------------------\n",
      "--- The entire solution is cracked ---\n",
      "--- evaluate_coupled_criterion Call Statistics ---\n",
      "- incremental_ERR: called 1 times, total time 0.0079s, avg time 0.0079s\n",
      "---------------------------------\n",
      "sserr_result:  SSERRResult(converged=True, message='SSERR evaluation successful.', touchdown_distance=3394.6692600931756, SSERR=31.453425375626182)\n",
      "\n",
      "wl_depth:  2800.0\n",
      "ImpactCriterion:  0.0\n",
      "CoupledCriterion:  0\n",
      "Touchdown distance:  3394.6692600931756\n",
      "SSERR:  31.453425375626182\n",
      "--- min_dist_stress >= 1 in find_minimum_force Call Statistics ---\n",
      "- rasterize_solution: called 1 times, total time 0.0676s, avg time 0.0676s\n",
      "---------------------------------\n",
      "--- The entire solution is cracked ---\n",
      "--- evaluate_coupled_criterion Call Statistics ---\n",
      "- incremental_ERR: called 1 times, total time 0.0077s, avg time 0.0077s\n",
      "---------------------------------\n",
      "sserr_result:  SSERRResult(converged=True, message='SSERR evaluation successful.', touchdown_distance=3363.970358133671, SSERR=32.186301981563204)\n",
      "\n",
      "wl_depth:  2850.0\n",
      "ImpactCriterion:  0.0\n",
      "CoupledCriterion:  0\n",
      "Touchdown distance:  3363.970358133671\n",
      "SSERR:  32.186301981563204\n",
      "--- min_dist_stress >= 1 in find_minimum_force Call Statistics ---\n",
      "- rasterize_solution: called 1 times, total time 0.0684s, avg time 0.0684s\n",
      "---------------------------------\n",
      "--- The entire solution is cracked ---\n",
      "--- evaluate_coupled_criterion Call Statistics ---\n",
      "- incremental_ERR: called 1 times, total time 0.0081s, avg time 0.0081s\n",
      "---------------------------------\n",
      "sserr_result:  SSERRResult(converged=True, message='SSERR evaluation successful.', touchdown_distance=3330.4703633994686, SSERR=32.947302401461556)\n",
      "\n",
      "wl_depth:  2900.0\n",
      "ImpactCriterion:  0.0\n",
      "CoupledCriterion:  0\n",
      "Touchdown distance:  3330.4703633994686\n",
      "SSERR:  32.947302401461556\n",
      "new_layer heights:  [100.0, 170.0, 30.0, 300.0, 20.0, 2330.0]\n",
      "wl_depth:  2950.0\n",
      "new_layers:  [Layer(rho=101.0, h=100.0, nu=0.25, E=0.3963944665536936, G=0.15855778662147743, tensile_strength=1.103877672602255, tensile_strength_method='sigrist', E_method='bergfeld', grain_type='DF', grain_size=None, hand_hardness='F'), Layer(rho=173.0, h=170.0, nu=0.25, E=4.231714820461142, G=1.6926859281844568, tensile_strength=4.1040183019389715, tensile_strength_method='sigrist', E_method='bergfeld', grain_type='DF', grain_size=None, hand_hardness='1F'), Layer(rho=137.0, h=30.0, nu=0.25, E=1.515947056821604, G=0.6063788227286416, tensile_strength=2.3226029915382136, tensile_strength_method='sigrist', E_method='bergfeld', grain_type='DF', grain_size=None, hand_hardness='4F'), Layer(rho=209.0, h=300.0, nu=0.25, E=9.722035388607377, G=3.888814155442951, tensile_strength=6.509291720550219, tensile_strength_method='sigrist', E_method='bergfeld', grain_type='DF', grain_size=None, hand_hardness='P'), Layer(rho=163.7, h=20.0, nu=0.25, E=3.318392308727041, G=1.3273569234908165, tensile_strength=3.586373980194787, tensile_strength_method='sigrist', E_method='bergfeld', grain_type=None, grain_size=None, hand_hardness='4F+'), Layer(rho=292.25, h=2330.0, nu=0.25, E=42.50435458798165, G=17.00174183519266, tensile_strength=14.750876454728399, tensile_strength_method='sigrist', E_method='bergfeld', grain_type='MFcr', grain_size=None, hand_hardness='P+')]\n",
      "--- min_dist_stress >= 1 in find_minimum_force Call Statistics ---\n",
      "- rasterize_solution: called 1 times, total time 0.0672s, avg time 0.0672s\n",
      "---------------------------------\n",
      "--- The entire solution is cracked ---\n",
      "--- evaluate_coupled_criterion Call Statistics ---\n",
      "- incremental_ERR: called 1 times, total time 0.0074s, avg time 0.0074s\n",
      "---------------------------------\n",
      "sserr_result:  SSERRResult(converged=True, message='SSERR evaluation successful.', touchdown_distance=3294.303182515331, SSERR=33.73918232779348)\n",
      "\n",
      "wl_depth:  2950.0\n",
      "ImpactCriterion:  0.0\n",
      "CoupledCriterion:  0\n",
      "Touchdown distance:  3294.303182515331\n",
      "SSERR:  33.73918232779348\n",
      "new_layer heights:  [100.0, 170.0, 30.0, 300.0, 20.0, 2380.0]\n",
      "wl_depth:  3000.0\n",
      "new_layers:  [Layer(rho=101.0, h=100.0, nu=0.25, E=0.3963944665536936, G=0.15855778662147743, tensile_strength=1.103877672602255, tensile_strength_method='sigrist', E_method='bergfeld', grain_type='DF', grain_size=None, hand_hardness='F'), Layer(rho=173.0, h=170.0, nu=0.25, E=4.231714820461142, G=1.6926859281844568, tensile_strength=4.1040183019389715, tensile_strength_method='sigrist', E_method='bergfeld', grain_type='DF', grain_size=None, hand_hardness='1F'), Layer(rho=137.0, h=30.0, nu=0.25, E=1.515947056821604, G=0.6063788227286416, tensile_strength=2.3226029915382136, tensile_strength_method='sigrist', E_method='bergfeld', grain_type='DF', grain_size=None, hand_hardness='4F'), Layer(rho=209.0, h=300.0, nu=0.25, E=9.722035388607377, G=3.888814155442951, tensile_strength=6.509291720550219, tensile_strength_method='sigrist', E_method='bergfeld', grain_type='DF', grain_size=None, hand_hardness='P'), Layer(rho=163.7, h=20.0, nu=0.25, E=3.318392308727041, G=1.3273569234908165, tensile_strength=3.586373980194787, tensile_strength_method='sigrist', E_method='bergfeld', grain_type=None, grain_size=None, hand_hardness='4F+'), Layer(rho=292.25, h=2380.0, nu=0.25, E=42.50435458798165, G=17.00174183519266, tensile_strength=14.750876454728399, tensile_strength_method='sigrist', E_method='bergfeld', grain_type='MFcr', grain_size=None, hand_hardness='P+')]\n",
      "--- min_dist_stress >= 1 in find_minimum_force Call Statistics ---\n",
      "- rasterize_solution: called 1 times, total time 0.0711s, avg time 0.0711s\n",
      "---------------------------------\n",
      "--- The entire solution is cracked ---\n",
      "--- evaluate_coupled_criterion Call Statistics ---\n",
      "- incremental_ERR: called 1 times, total time 0.0075s, avg time 0.0075s\n",
      "---------------------------------\n",
      "sserr_result:  SSERRResult(converged=True, message='SSERR evaluation successful.', touchdown_distance=3255.6129690079083, SSERR=34.56471446464064)\n",
      "\n",
      "wl_depth:  3000.0\n",
      "ImpactCriterion:  0.0\n",
      "CoupledCriterion:  0\n",
      "Touchdown distance:  3255.6129690079083\n",
      "SSERR:  34.56471446464064\n"
     ]
    }
   ],
   "source": [
    "import time\n",
    "import weac\n",
    "from weac.tools import touchdown_distance\n",
    "\n",
    "paths = paths[:1]\n",
    "parsers = parsers[:1]\n",
    "\n",
    "data_rows = []\n",
    "for i, (file_path, parser) in tqdm(\n",
    "    enumerate(zip(paths, parsers)), total=len(paths), desc=\"Processing files\"\n",
    "):\n",
    "    # Extract layers\n",
    "    layers, density_method = parser.extract_layers()\n",
    "    print(\"layers: \", layers)\n",
    "    # # TRIAL: make whole layering 6m deep\n",
    "    # heights = np.cumsum([layer.h for layer in layers])\n",
    "    # layers[-1].h = 2500 - heights[-2]\n",
    "    heights = np.cumsum([layer.h for layer in layers])\n",
    "    # space evenly and append the last height\n",
    "    wl_depths = np.arange(wl_spacing, heights[-1], wl_spacing).tolist()\n",
    "    wl_depths.append(heights[-1])\n",
    "    \n",
    "    # # Only look at depths where weak layer is 2500mm deep\n",
    "    # wl_depths = [depth for depth in wl_depths if depth > 2000]\n",
    "    \n",
    "    layers_copy = copy.deepcopy(layers)\n",
    "    for i, wl_depth in tqdm(enumerate(wl_depths), total=len(wl_depths), desc=\"Processing weak layers\", leave=False):\n",
    "        # only keep layers above the spacing\n",
    "        mask = heights <= wl_depth\n",
    "        new_layers = [layer for layer, keep in zip(layers_copy, mask) if keep]\n",
    "        # Add truncated layer if needed\n",
    "        depth = np.sum([layer.h for layer in new_layers]) if new_layers else 0.0\n",
    "        if depth < wl_depth:\n",
    "            additional_layer = copy.deepcopy(layers_copy[len(new_layers) if new_layers else 0])\n",
    "            additional_layer.h = wl_depth - depth\n",
    "            new_layers.append(additional_layer)\n",
    "        \n",
    "        if i >= len(wl_depths) - 2:\n",
    "            print(\"new_layer heights: \", [layer.h for layer in new_layers])\n",
    "            print(\"wl_depth: \", wl_depth)\n",
    "            print(\"new_layers: \", new_layers)\n",
    "        \n",
    "        model_input = ModelInput(\n",
    "            weak_layer=standard_weak_layer,\n",
    "            layers=new_layers,\n",
    "            scenario_config=standard_scenario_config,\n",
    "            segments=standard_segments,\n",
    "        )\n",
    "        system = SystemModel(model_input=model_input)\n",
    "        \n",
    "        cc_result: CoupledCriterionResult = standard_criteria_evaluator.evaluate_coupled_criterion(system, print_call_stats=True)\n",
    "\n",
    "        # Setup the scenario with the touchdown distance\n",
    "        # TODO: Bug in Vertical SSERR\n",
    "        time1 = time.time()\n",
    "        sserr_result: SSERRResult = standard_criteria_evaluator.evaluate_SSERR(system, vertical=False)\n",
    "        print(\"sserr_result: \", sserr_result)\n",
    "        # sserr_result: SSERRResult = standard_criteria_evaluator.evaluate_SSERR(system, vertical=True)\n",
    "        # time2 = time.time()\n",
    "        # print(\"sserr_result: \", sserr_result)\n",
    "\n",
    "        # breakpoint()\n",
    "        \n",
    "        # # Generate old weac layers from layers\n",
    "        # layers = [\n",
    "        #     [layer.rho, layer.h] for layer in new_layers\n",
    "        # ]\n",
    "        # time3 = time.time()\n",
    "        # touchdown_distances = touchdown_distance(layers=layers, phi=phi, Ewl=1.0, t=20, vertical=False)\n",
    "        # print(\"Touchdown distance old weac: \", touchdown_distances)\n",
    "        # touchdown_distances = touchdown_distance(layers=layers, phi=phi, Ewl=1.0, t=20, vertical=True)\n",
    "        # time4 = time.time()\n",
    "        # print(\"Touchdown distance old weac: \", touchdown_distances)\n",
    "        \n",
    "        # print(\"weac_2 time: \", time2 - time1)\n",
    "        # print(\"old_weac time: \", time4 - time3)\n",
    "        \n",
    "        # breakpoint()\n",
    "\n",
    "        print(\"\\nwl_depth: \", wl_depth)\n",
    "        print(\"ImpactCriterion: \", cc_result.initial_critical_skier_weight)\n",
    "        print(\"CoupledCriterion: \", cc_result.critical_skier_weight)\n",
    "        print(\"Touchdown distance: \", sserr_result.touchdown_distance)\n",
    "        print(\"SSERR: \", sserr_result.SSERR)\n",
    "        data_rows.append({\n",
    "            \"wl_depth\": wl_depth,\n",
    "            \"impact_criterion\": cc_result.initial_critical_skier_weight,\n",
    "            \"coupled_criterion\": cc_result.critical_skier_weight,\n",
    "            \"sserr_result\": sserr_result.SSERR,\n",
    "            \"touchdown_distance\": sserr_result.touchdown_distance,\n",
    "        })\n",
    "\n",
    "plot_layers = layers\n",
    "plot_weaklayer = standard_weak_layer\n"
   ]
  },
  {
   "cell_type": "code",
   "execution_count": 260,
   "id": "56461958",
   "metadata": {},
   "outputs": [
    {
     "name": "stdout",
     "output_type": "stream",
     "text": [
      "292.25\n"
     ]
    },
    {
     "data": {
      "application/vnd.plotly.v1+json": {
       "config": {
        "plotlyServerURL": "https://plot.ly"
       },
       "data": [],
       "layout": {
        "annotations": [
         {
          "font": {
           "size": 10
          },
          "showarrow": false,
          "text": "0",
          "x": 15,
          "xanchor": "center",
          "y": 0,
          "yanchor": "middle"
         },
         {
          "font": {
           "size": 10
          },
          "showarrow": false,
          "text": "101",
          "x": 45,
          "xanchor": "center",
          "y": 1350,
          "yanchor": "middle"
         },
         {
          "font": {
           "size": 10
          },
          "showarrow": false,
          "text": "DF",
          "x": 75,
          "xanchor": "center",
          "y": 1350,
          "yanchor": "middle"
         },
         {
          "font": {
           "size": 10
          },
          "showarrow": false,
          "text": "F",
          "x": 105,
          "xanchor": "center",
          "y": 1350,
          "yanchor": "middle"
         },
         {
          "font": {
           "size": 10
          },
          "showarrow": false,
          "text": "100",
          "x": 15,
          "xanchor": "center",
          "y": 100,
          "yanchor": "middle"
         },
         {
          "font": {
           "size": 10
          },
          "showarrow": false,
          "text": "173",
          "x": 45,
          "xanchor": "center",
          "y": 1650,
          "yanchor": "middle"
         },
         {
          "font": {
           "size": 10
          },
          "showarrow": false,
          "text": "DF",
          "x": 75,
          "xanchor": "center",
          "y": 1650,
          "yanchor": "middle"
         },
         {
          "font": {
           "size": 10
          },
          "showarrow": false,
          "text": "1F",
          "x": 105,
          "xanchor": "center",
          "y": 1650,
          "yanchor": "middle"
         },
         {
          "font": {
           "size": 10
          },
          "showarrow": false,
          "text": "270",
          "x": 15,
          "xanchor": "center",
          "y": 270,
          "yanchor": "middle"
         },
         {
          "font": {
           "size": 10
          },
          "showarrow": false,
          "text": "137",
          "x": 45,
          "xanchor": "center",
          "y": 1950,
          "yanchor": "middle"
         },
         {
          "font": {
           "size": 10
          },
          "showarrow": false,
          "text": "DF",
          "x": 75,
          "xanchor": "center",
          "y": 1950,
          "yanchor": "middle"
         },
         {
          "font": {
           "size": 10
          },
          "showarrow": false,
          "text": "4F",
          "x": 105,
          "xanchor": "center",
          "y": 1950,
          "yanchor": "middle"
         },
         {
          "font": {
           "size": 10
          },
          "showarrow": false,
          "text": "300",
          "x": 15,
          "xanchor": "center",
          "y": 300,
          "yanchor": "middle"
         },
         {
          "font": {
           "size": 10
          },
          "showarrow": false,
          "text": "209",
          "x": 45,
          "xanchor": "center",
          "y": 2250,
          "yanchor": "middle"
         },
         {
          "font": {
           "size": 10
          },
          "showarrow": false,
          "text": "DF",
          "x": 75,
          "xanchor": "center",
          "y": 2250,
          "yanchor": "middle"
         },
         {
          "font": {
           "size": 10
          },
          "showarrow": false,
          "text": "P",
          "x": 105,
          "xanchor": "center",
          "y": 2250,
          "yanchor": "middle"
         },
         {
          "font": {
           "size": 10
          },
          "showarrow": false,
          "text": "600",
          "x": 15,
          "xanchor": "center",
          "y": 600,
          "yanchor": "middle"
         },
         {
          "font": {
           "size": 10
          },
          "showarrow": false,
          "text": "164",
          "x": 45,
          "xanchor": "center",
          "y": 2550,
          "yanchor": "middle"
         },
         {
          "font": {
           "size": 10
          },
          "showarrow": false,
          "text": "-",
          "x": 75,
          "xanchor": "center",
          "y": 2550,
          "yanchor": "middle"
         },
         {
          "font": {
           "size": 10
          },
          "showarrow": false,
          "text": "4F+",
          "x": 105,
          "xanchor": "center",
          "y": 2550,
          "yanchor": "middle"
         },
         {
          "font": {
           "size": 10
          },
          "showarrow": false,
          "text": "620",
          "x": 15,
          "xanchor": "center",
          "y": 620,
          "yanchor": "middle"
         },
         {
          "font": {
           "size": 10
          },
          "showarrow": false,
          "text": "292",
          "x": 45,
          "xanchor": "center",
          "y": 2850,
          "yanchor": "middle"
         },
         {
          "font": {
           "size": 10
          },
          "showarrow": false,
          "text": "MFcr",
          "x": 75,
          "xanchor": "center",
          "y": 2850,
          "yanchor": "middle"
         },
         {
          "font": {
           "size": 10
          },
          "showarrow": false,
          "text": "P+",
          "x": 105,
          "xanchor": "center",
          "y": 2850,
          "yanchor": "middle"
         },
         {
          "font": {
           "size": 10
          },
          "showarrow": false,
          "text": "0",
          "x": 0,
          "xanchor": "left",
          "y": 3000,
          "yanchor": "middle"
         },
         {
          "font": {
           "size": 10
          },
          "showarrow": false,
          "text": "H",
          "x": 15,
          "xanchor": "center",
          "y": -100,
          "yanchor": "middle"
         },
         {
          "font": {
           "size": 10
          },
          "showarrow": false,
          "text": "D",
          "x": 45,
          "xanchor": "center",
          "y": -100,
          "yanchor": "middle"
         },
         {
          "font": {
           "size": 10
          },
          "showarrow": false,
          "text": "F",
          "x": 75,
          "xanchor": "center",
          "y": -100,
          "yanchor": "middle"
         },
         {
          "font": {
           "size": 10
          },
          "showarrow": false,
          "text": "R",
          "x": 105,
          "xanchor": "center",
          "y": -100,
          "yanchor": "middle"
         },
         {
          "align": "left",
          "font": {
           "size": 10
          },
          "showarrow": false,
          "text": "H: Height (cm)  D: Density (kg/m³)  F: Grain Form  R: Hand Hardness",
          "x": 0,
          "xref": "paper",
          "y": -0.06,
          "yref": "paper"
         }
        ],
        "height": 600,
        "margin": {
         "b": 40,
         "l": 0,
         "r": 0,
         "t": 40
        },
        "paper_bgcolor": "white",
        "plot_bgcolor": "white",
        "shapes": [
         {
          "fillcolor": "#9ec1df",
          "layer": "above",
          "line": {
           "color": "#9ec1df",
           "width": 0.4
          },
          "type": "rect",
          "x0": -101,
          "x1": 0,
          "y0": 0,
          "y1": 100
         },
         {
          "line": {
           "color": "rgba(4, 110, 124, 0.812)",
           "width": 1.2
          },
          "type": "line",
          "x0": 0,
          "x1": -101,
          "y0": 0,
          "y1": 0
         },
         {
          "line": {
           "color": "rgba(4, 110, 124, 0.812)",
           "width": 1.2
          },
          "type": "line",
          "x0": -101,
          "x1": -101,
          "y0": 0,
          "y1": 100
         },
         {
          "line": {
           "color": "lightgrey",
           "width": 0.5
          },
          "type": "line",
          "x0": 30,
          "x1": 120,
          "y0": 1200,
          "y1": 1200
         },
         {
          "line": {
           "color": "lightgrey",
           "width": 0.5
          },
          "type": "line",
          "x0": 0,
          "x1": 30,
          "y0": 100,
          "y1": 1500
         },
         {
          "fillcolor": "#9ec1df",
          "layer": "above",
          "line": {
           "color": "#9ec1df",
           "width": 0.4
          },
          "type": "rect",
          "x0": -173,
          "x1": 0,
          "y0": 100,
          "y1": 270
         },
         {
          "line": {
           "color": "rgba(4, 110, 124, 0.812)",
           "width": 1.2
          },
          "type": "line",
          "x0": -101,
          "x1": -173,
          "y0": 100,
          "y1": 100
         },
         {
          "line": {
           "color": "rgba(4, 110, 124, 0.812)",
           "width": 1.2
          },
          "type": "line",
          "x0": -173,
          "x1": -173,
          "y0": 100,
          "y1": 270
         },
         {
          "line": {
           "color": "lightgrey",
           "width": 0.5
          },
          "type": "line",
          "x0": 30,
          "x1": 120,
          "y0": 1500,
          "y1": 1500
         },
         {
          "line": {
           "color": "lightgrey",
           "width": 0.5
          },
          "type": "line",
          "x0": 0,
          "x1": 30,
          "y0": 270,
          "y1": 1800
         },
         {
          "fillcolor": "#9ec1df",
          "layer": "above",
          "line": {
           "color": "#9ec1df",
           "width": 0.4
          },
          "type": "rect",
          "x0": -137,
          "x1": 0,
          "y0": 270,
          "y1": 300
         },
         {
          "line": {
           "color": "rgba(4, 110, 124, 0.812)",
           "width": 1.2
          },
          "type": "line",
          "x0": -173,
          "x1": -137,
          "y0": 270,
          "y1": 270
         },
         {
          "line": {
           "color": "rgba(4, 110, 124, 0.812)",
           "width": 1.2
          },
          "type": "line",
          "x0": -137,
          "x1": -137,
          "y0": 270,
          "y1": 300
         },
         {
          "line": {
           "color": "lightgrey",
           "width": 0.5
          },
          "type": "line",
          "x0": 30,
          "x1": 120,
          "y0": 1800,
          "y1": 1800
         },
         {
          "line": {
           "color": "lightgrey",
           "width": 0.5
          },
          "type": "line",
          "x0": 0,
          "x1": 30,
          "y0": 300,
          "y1": 2100
         },
         {
          "fillcolor": "#9ec1df",
          "layer": "above",
          "line": {
           "color": "#9ec1df",
           "width": 0.4
          },
          "type": "rect",
          "x0": -209,
          "x1": 0,
          "y0": 300,
          "y1": 600
         },
         {
          "line": {
           "color": "rgba(4, 110, 124, 0.812)",
           "width": 1.2
          },
          "type": "line",
          "x0": -137,
          "x1": -209,
          "y0": 300,
          "y1": 300
         },
         {
          "line": {
           "color": "rgba(4, 110, 124, 0.812)",
           "width": 1.2
          },
          "type": "line",
          "x0": -209,
          "x1": -209,
          "y0": 300,
          "y1": 600
         },
         {
          "line": {
           "color": "lightgrey",
           "width": 0.5
          },
          "type": "line",
          "x0": 30,
          "x1": 120,
          "y0": 2100,
          "y1": 2100
         },
         {
          "line": {
           "color": "lightgrey",
           "width": 0.5
          },
          "type": "line",
          "x0": 0,
          "x1": 30,
          "y0": 600,
          "y1": 2400
         },
         {
          "fillcolor": "#9ec1df",
          "layer": "above",
          "line": {
           "color": "#9ec1df",
           "width": 0.4
          },
          "type": "rect",
          "x0": -163.7,
          "x1": 0,
          "y0": 600,
          "y1": 620
         },
         {
          "line": {
           "color": "rgba(4, 110, 124, 0.812)",
           "width": 1.2
          },
          "type": "line",
          "x0": -209,
          "x1": -163.7,
          "y0": 600,
          "y1": 600
         },
         {
          "line": {
           "color": "rgba(4, 110, 124, 0.812)",
           "width": 1.2
          },
          "type": "line",
          "x0": -163.7,
          "x1": -163.7,
          "y0": 600,
          "y1": 620
         },
         {
          "line": {
           "color": "lightgrey",
           "width": 0.5
          },
          "type": "line",
          "x0": 30,
          "x1": 120,
          "y0": 2400,
          "y1": 2400
         },
         {
          "line": {
           "color": "lightgrey",
           "width": 0.5
          },
          "type": "line",
          "x0": 0,
          "x1": 30,
          "y0": 620,
          "y1": 2700
         },
         {
          "fillcolor": "#9ec1df",
          "layer": "above",
          "line": {
           "color": "#9ec1df",
           "width": 0.4
          },
          "type": "rect",
          "x0": -292.25,
          "x1": 0,
          "y0": 620,
          "y1": 3000
         },
         {
          "line": {
           "color": "rgba(4, 110, 124, 0.812)",
           "width": 1.2
          },
          "type": "line",
          "x0": -163.7,
          "x1": -292.25,
          "y0": 620,
          "y1": 620
         },
         {
          "line": {
           "color": "rgba(4, 110, 124, 0.812)",
           "width": 1.2
          },
          "type": "line",
          "x0": -292.25,
          "x1": -292.25,
          "y0": 620,
          "y1": 3000
         },
         {
          "line": {
           "color": "lightgrey",
           "width": 0.5
          },
          "type": "line",
          "x0": 30,
          "x1": 120,
          "y0": 2700,
          "y1": 2700
         },
         {
          "line": {
           "color": "lightgrey",
           "width": 0.5
          },
          "type": "line",
          "x0": 0,
          "x1": 30,
          "y0": 3000,
          "y1": 3000
         },
         {
          "line": {
           "color": "rgba(4, 110, 124, 0.812)",
           "width": 1.2
          },
          "type": "line",
          "x0": -292.25,
          "x1": 0,
          "y0": 3000,
          "y1": 3000
         },
         {
          "line": {
           "color": "lightgrey",
           "width": 0.5
          },
          "type": "line",
          "x0": 30,
          "x1": 120,
          "y0": 3000,
          "y1": 3000
         },
         {
          "line": {
           "color": "lightgrey",
           "width": 0.5
          },
          "type": "line",
          "x0": 0,
          "x1": 30,
          "y0": 0,
          "y1": 1200
         },
         {
          "line": {
           "color": "lightgrey",
           "width": 0.5
          },
          "type": "line",
          "x0": 30,
          "x1": 30,
          "y0": 0,
          "y1": 3000
         },
         {
          "line": {
           "color": "lightgrey",
           "width": 0.5
          },
          "type": "line",
          "x0": 60,
          "x1": 60,
          "y0": 0,
          "y1": 3000
         },
         {
          "line": {
           "color": "lightgrey",
           "width": 0.5
          },
          "type": "line",
          "x0": 90,
          "x1": 90,
          "y0": 0,
          "y1": 3000
         },
         {
          "line": {
           "color": "lightgrey",
           "width": 0.5
          },
          "type": "line",
          "x0": 0,
          "x1": 120,
          "y0": -200,
          "y1": -200
         }
        ],
        "template": {
         "data": {
          "bar": [
           {
            "error_x": {
             "color": "#2a3f5f"
            },
            "error_y": {
             "color": "#2a3f5f"
            },
            "marker": {
             "line": {
              "color": "#E5ECF6",
              "width": 0.5
             },
             "pattern": {
              "fillmode": "overlay",
              "size": 10,
              "solidity": 0.2
             }
            },
            "type": "bar"
           }
          ],
          "barpolar": [
           {
            "marker": {
             "line": {
              "color": "#E5ECF6",
              "width": 0.5
             },
             "pattern": {
              "fillmode": "overlay",
              "size": 10,
              "solidity": 0.2
             }
            },
            "type": "barpolar"
           }
          ],
          "carpet": [
           {
            "aaxis": {
             "endlinecolor": "#2a3f5f",
             "gridcolor": "white",
             "linecolor": "white",
             "minorgridcolor": "white",
             "startlinecolor": "#2a3f5f"
            },
            "baxis": {
             "endlinecolor": "#2a3f5f",
             "gridcolor": "white",
             "linecolor": "white",
             "minorgridcolor": "white",
             "startlinecolor": "#2a3f5f"
            },
            "type": "carpet"
           }
          ],
          "choropleth": [
           {
            "colorbar": {
             "outlinewidth": 0,
             "ticks": ""
            },
            "type": "choropleth"
           }
          ],
          "contour": [
           {
            "colorbar": {
             "outlinewidth": 0,
             "ticks": ""
            },
            "colorscale": [
             [
              0,
              "#0d0887"
             ],
             [
              0.1111111111111111,
              "#46039f"
             ],
             [
              0.2222222222222222,
              "#7201a8"
             ],
             [
              0.3333333333333333,
              "#9c179e"
             ],
             [
              0.4444444444444444,
              "#bd3786"
             ],
             [
              0.5555555555555556,
              "#d8576b"
             ],
             [
              0.6666666666666666,
              "#ed7953"
             ],
             [
              0.7777777777777778,
              "#fb9f3a"
             ],
             [
              0.8888888888888888,
              "#fdca26"
             ],
             [
              1,
              "#f0f921"
             ]
            ],
            "type": "contour"
           }
          ],
          "contourcarpet": [
           {
            "colorbar": {
             "outlinewidth": 0,
             "ticks": ""
            },
            "type": "contourcarpet"
           }
          ],
          "heatmap": [
           {
            "colorbar": {
             "outlinewidth": 0,
             "ticks": ""
            },
            "colorscale": [
             [
              0,
              "#0d0887"
             ],
             [
              0.1111111111111111,
              "#46039f"
             ],
             [
              0.2222222222222222,
              "#7201a8"
             ],
             [
              0.3333333333333333,
              "#9c179e"
             ],
             [
              0.4444444444444444,
              "#bd3786"
             ],
             [
              0.5555555555555556,
              "#d8576b"
             ],
             [
              0.6666666666666666,
              "#ed7953"
             ],
             [
              0.7777777777777778,
              "#fb9f3a"
             ],
             [
              0.8888888888888888,
              "#fdca26"
             ],
             [
              1,
              "#f0f921"
             ]
            ],
            "type": "heatmap"
           }
          ],
          "histogram": [
           {
            "marker": {
             "pattern": {
              "fillmode": "overlay",
              "size": 10,
              "solidity": 0.2
             }
            },
            "type": "histogram"
           }
          ],
          "histogram2d": [
           {
            "colorbar": {
             "outlinewidth": 0,
             "ticks": ""
            },
            "colorscale": [
             [
              0,
              "#0d0887"
             ],
             [
              0.1111111111111111,
              "#46039f"
             ],
             [
              0.2222222222222222,
              "#7201a8"
             ],
             [
              0.3333333333333333,
              "#9c179e"
             ],
             [
              0.4444444444444444,
              "#bd3786"
             ],
             [
              0.5555555555555556,
              "#d8576b"
             ],
             [
              0.6666666666666666,
              "#ed7953"
             ],
             [
              0.7777777777777778,
              "#fb9f3a"
             ],
             [
              0.8888888888888888,
              "#fdca26"
             ],
             [
              1,
              "#f0f921"
             ]
            ],
            "type": "histogram2d"
           }
          ],
          "histogram2dcontour": [
           {
            "colorbar": {
             "outlinewidth": 0,
             "ticks": ""
            },
            "colorscale": [
             [
              0,
              "#0d0887"
             ],
             [
              0.1111111111111111,
              "#46039f"
             ],
             [
              0.2222222222222222,
              "#7201a8"
             ],
             [
              0.3333333333333333,
              "#9c179e"
             ],
             [
              0.4444444444444444,
              "#bd3786"
             ],
             [
              0.5555555555555556,
              "#d8576b"
             ],
             [
              0.6666666666666666,
              "#ed7953"
             ],
             [
              0.7777777777777778,
              "#fb9f3a"
             ],
             [
              0.8888888888888888,
              "#fdca26"
             ],
             [
              1,
              "#f0f921"
             ]
            ],
            "type": "histogram2dcontour"
           }
          ],
          "mesh3d": [
           {
            "colorbar": {
             "outlinewidth": 0,
             "ticks": ""
            },
            "type": "mesh3d"
           }
          ],
          "parcoords": [
           {
            "line": {
             "colorbar": {
              "outlinewidth": 0,
              "ticks": ""
             }
            },
            "type": "parcoords"
           }
          ],
          "pie": [
           {
            "automargin": true,
            "type": "pie"
           }
          ],
          "scatter": [
           {
            "fillpattern": {
             "fillmode": "overlay",
             "size": 10,
             "solidity": 0.2
            },
            "type": "scatter"
           }
          ],
          "scatter3d": [
           {
            "line": {
             "colorbar": {
              "outlinewidth": 0,
              "ticks": ""
             }
            },
            "marker": {
             "colorbar": {
              "outlinewidth": 0,
              "ticks": ""
             }
            },
            "type": "scatter3d"
           }
          ],
          "scattercarpet": [
           {
            "marker": {
             "colorbar": {
              "outlinewidth": 0,
              "ticks": ""
             }
            },
            "type": "scattercarpet"
           }
          ],
          "scattergeo": [
           {
            "marker": {
             "colorbar": {
              "outlinewidth": 0,
              "ticks": ""
             }
            },
            "type": "scattergeo"
           }
          ],
          "scattergl": [
           {
            "marker": {
             "colorbar": {
              "outlinewidth": 0,
              "ticks": ""
             }
            },
            "type": "scattergl"
           }
          ],
          "scattermap": [
           {
            "marker": {
             "colorbar": {
              "outlinewidth": 0,
              "ticks": ""
             }
            },
            "type": "scattermap"
           }
          ],
          "scattermapbox": [
           {
            "marker": {
             "colorbar": {
              "outlinewidth": 0,
              "ticks": ""
             }
            },
            "type": "scattermapbox"
           }
          ],
          "scatterpolar": [
           {
            "marker": {
             "colorbar": {
              "outlinewidth": 0,
              "ticks": ""
             }
            },
            "type": "scatterpolar"
           }
          ],
          "scatterpolargl": [
           {
            "marker": {
             "colorbar": {
              "outlinewidth": 0,
              "ticks": ""
             }
            },
            "type": "scatterpolargl"
           }
          ],
          "scatterternary": [
           {
            "marker": {
             "colorbar": {
              "outlinewidth": 0,
              "ticks": ""
             }
            },
            "type": "scatterternary"
           }
          ],
          "surface": [
           {
            "colorbar": {
             "outlinewidth": 0,
             "ticks": ""
            },
            "colorscale": [
             [
              0,
              "#0d0887"
             ],
             [
              0.1111111111111111,
              "#46039f"
             ],
             [
              0.2222222222222222,
              "#7201a8"
             ],
             [
              0.3333333333333333,
              "#9c179e"
             ],
             [
              0.4444444444444444,
              "#bd3786"
             ],
             [
              0.5555555555555556,
              "#d8576b"
             ],
             [
              0.6666666666666666,
              "#ed7953"
             ],
             [
              0.7777777777777778,
              "#fb9f3a"
             ],
             [
              0.8888888888888888,
              "#fdca26"
             ],
             [
              1,
              "#f0f921"
             ]
            ],
            "type": "surface"
           }
          ],
          "table": [
           {
            "cells": {
             "fill": {
              "color": "#EBF0F8"
             },
             "line": {
              "color": "white"
             }
            },
            "header": {
             "fill": {
              "color": "#C8D4E3"
             },
             "line": {
              "color": "white"
             }
            },
            "type": "table"
           }
          ]
         },
         "layout": {
          "annotationdefaults": {
           "arrowcolor": "#2a3f5f",
           "arrowhead": 0,
           "arrowwidth": 1
          },
          "autotypenumbers": "strict",
          "coloraxis": {
           "colorbar": {
            "outlinewidth": 0,
            "ticks": ""
           }
          },
          "colorscale": {
           "diverging": [
            [
             0,
             "#8e0152"
            ],
            [
             0.1,
             "#c51b7d"
            ],
            [
             0.2,
             "#de77ae"
            ],
            [
             0.3,
             "#f1b6da"
            ],
            [
             0.4,
             "#fde0ef"
            ],
            [
             0.5,
             "#f7f7f7"
            ],
            [
             0.6,
             "#e6f5d0"
            ],
            [
             0.7,
             "#b8e186"
            ],
            [
             0.8,
             "#7fbc41"
            ],
            [
             0.9,
             "#4d9221"
            ],
            [
             1,
             "#276419"
            ]
           ],
           "sequential": [
            [
             0,
             "#0d0887"
            ],
            [
             0.1111111111111111,
             "#46039f"
            ],
            [
             0.2222222222222222,
             "#7201a8"
            ],
            [
             0.3333333333333333,
             "#9c179e"
            ],
            [
             0.4444444444444444,
             "#bd3786"
            ],
            [
             0.5555555555555556,
             "#d8576b"
            ],
            [
             0.6666666666666666,
             "#ed7953"
            ],
            [
             0.7777777777777778,
             "#fb9f3a"
            ],
            [
             0.8888888888888888,
             "#fdca26"
            ],
            [
             1,
             "#f0f921"
            ]
           ],
           "sequentialminus": [
            [
             0,
             "#0d0887"
            ],
            [
             0.1111111111111111,
             "#46039f"
            ],
            [
             0.2222222222222222,
             "#7201a8"
            ],
            [
             0.3333333333333333,
             "#9c179e"
            ],
            [
             0.4444444444444444,
             "#bd3786"
            ],
            [
             0.5555555555555556,
             "#d8576b"
            ],
            [
             0.6666666666666666,
             "#ed7953"
            ],
            [
             0.7777777777777778,
             "#fb9f3a"
            ],
            [
             0.8888888888888888,
             "#fdca26"
            ],
            [
             1,
             "#f0f921"
            ]
           ]
          },
          "colorway": [
           "#636efa",
           "#EF553B",
           "#00cc96",
           "#ab63fa",
           "#FFA15A",
           "#19d3f3",
           "#FF6692",
           "#B6E880",
           "#FF97FF",
           "#FECB52"
          ],
          "font": {
           "color": "#2a3f5f"
          },
          "geo": {
           "bgcolor": "white",
           "lakecolor": "white",
           "landcolor": "#E5ECF6",
           "showlakes": true,
           "showland": true,
           "subunitcolor": "white"
          },
          "hoverlabel": {
           "align": "left"
          },
          "hovermode": "closest",
          "mapbox": {
           "style": "light"
          },
          "paper_bgcolor": "white",
          "plot_bgcolor": "#E5ECF6",
          "polar": {
           "angularaxis": {
            "gridcolor": "white",
            "linecolor": "white",
            "ticks": ""
           },
           "bgcolor": "#E5ECF6",
           "radialaxis": {
            "gridcolor": "white",
            "linecolor": "white",
            "ticks": ""
           }
          },
          "scene": {
           "xaxis": {
            "backgroundcolor": "#E5ECF6",
            "gridcolor": "white",
            "gridwidth": 2,
            "linecolor": "white",
            "showbackground": true,
            "ticks": "",
            "zerolinecolor": "white"
           },
           "yaxis": {
            "backgroundcolor": "#E5ECF6",
            "gridcolor": "white",
            "gridwidth": 2,
            "linecolor": "white",
            "showbackground": true,
            "ticks": "",
            "zerolinecolor": "white"
           },
           "zaxis": {
            "backgroundcolor": "#E5ECF6",
            "gridcolor": "white",
            "gridwidth": 2,
            "linecolor": "white",
            "showbackground": true,
            "ticks": "",
            "zerolinecolor": "white"
           }
          },
          "shapedefaults": {
           "line": {
            "color": "#2a3f5f"
           }
          },
          "ternary": {
           "aaxis": {
            "gridcolor": "white",
            "linecolor": "white",
            "ticks": ""
           },
           "baxis": {
            "gridcolor": "white",
            "linecolor": "white",
            "ticks": ""
           },
           "bgcolor": "#E5ECF6",
           "caxis": {
            "gridcolor": "white",
            "linecolor": "white",
            "ticks": ""
           }
          },
          "title": {
           "x": 0.05
          },
          "xaxis": {
           "automargin": true,
           "gridcolor": "white",
           "linecolor": "white",
           "ticks": "",
           "title": {
            "standoff": 15
           },
           "zerolinecolor": "white",
           "zerolinewidth": 2
          },
          "yaxis": {
           "automargin": true,
           "gridcolor": "white",
           "linecolor": "white",
           "ticks": "",
           "title": {
            "standoff": 15
           },
           "zerolinecolor": "white",
           "zerolinewidth": 2
          }
         }
        },
        "width": 600,
        "xaxis": {
         "autorange": false,
         "range": [
          -322.205625,
          120
         ],
         "ticktext": [
          "400",
          "300",
          "200",
          "100",
          "0"
         ],
         "tickvals": [
          -400,
          -300,
          -200,
          -100,
          0
         ]
        },
        "yaxis": {
         "domain": [
          0,
          1
         ],
         "range": [
          3000,
          -200
         ],
         "showticklabels": false,
         "zeroline": true,
         "zerolinecolor": "gray",
         "zerolinewidth": 1
        }
       }
      }
     },
     "metadata": {},
     "output_type": "display_data"
    }
   ],
   "source": [
    "from plotly_snow_profile import snow_profile\n",
    "import pandas as pd\n",
    "\n",
    "dataframe = pd.DataFrame(data_rows)\n",
    "snow_profile_fig = snow_profile(weaklayer=plot_weaklayer, layers=plot_layers)\n",
    "snow_profile_fig.show()"
   ]
  },
  {
   "cell_type": "code",
   "execution_count": 246,
   "id": "9d4978f5",
   "metadata": {},
   "outputs": [
    {
     "data": {
      "application/vnd.plotly.v1+json": {
       "config": {
        "plotlyServerURL": "https://plot.ly"
       },
       "data": [
        {
         "line": {
          "color": "blue",
          "width": 3
         },
         "marker": {
          "color": "blue",
          "size": 6
         },
         "mode": "lines",
         "name": "Energy Release Rate",
         "type": "scatter",
         "x": {
          "bdata": "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",
          "dtype": "f8"
         },
         "xaxis": "x",
         "y": {
          "bdata": "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",
          "dtype": "f8"
         }
        },
        {
         "line": {
          "color": "orange",
          "width": 3
         },
         "marker": {
          "color": "orange",
          "size": 6
         },
         "mode": "lines",
         "name": "Critical Coupling",
         "type": "scatter",
         "x": {
          "bdata": "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",
          "dtype": "f8"
         },
         "xaxis": "x",
         "y": {
          "bdata": "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",
          "dtype": "f8"
         }
        },
        {
         "line": {
          "color": "black",
          "width": 2
         },
         "mode": "lines",
         "name": "Critical Point",
         "showlegend": false,
         "type": "scatter",
         "x": [
          1,
          1
         ],
         "y": [
          0,
          3000
         ]
        },
        {
         "marker": {
          "color": "black",
          "size": 10
         },
         "mode": "markers",
         "name": "Critical Point",
         "showlegend": false,
         "type": "scatter",
         "x": [
          1
         ],
         "y": [
          0
         ]
        },
        {
         "fill": "toself",
         "fillcolor": "rgba(0, 0, 255, 0.2)",
         "hoverinfo": "skip",
         "line": {
          "width": 0
         },
         "name": "Shaded Criticality",
         "showlegend": false,
         "type": "scatter",
         "x": {
          "bdata": "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",
          "dtype": "f8"
         },
         "y": {
          "bdata": "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",
          "dtype": "f8"
         }
        },
        {
         "fill": "toself",
         "fillcolor": "rgba(255, 165, 0, 0.2)",
         "hoverinfo": "skip",
         "line": {
          "width": 0
         },
         "name": "Shaded Criticality",
         "showlegend": false,
         "type": "scatter",
         "x": {
          "bdata": "IbculdiZTUAhty6V2Jk9QGzPybjluzNAIbculdiZLUDo+L7dRq4nQGzPybjluyNAXNZjnjLqIEAhty6V2JkdQOVpYvbcTxpA6Pi+3UauF0D45C105o4WQPETBDtathVA1kOpP3XtFEBjFGYqlDIUQD1PPS1MhBNA89MtzGHhEkCoi4tkwUgSQBJVohN5uRFA/1mZs7MyEUDA5me2tLMQQARN4nxXdw5AD4lcvetWC0DKrwd5f8sIQNZSEf4CrwZAwapi4FjnBEBN6ghl/WEDQO/clq9yEQJAgHBEZKjrAECOL2U+69H/P5ID7gzXBv4/H4dTzQ7H/D+RbwGNc+b7P0rAIaMiE/s/LctOwfZL+j/1irZe64/5P0IUNkQY3vg/Capkza01+D8syum98ZX3P3VECZE8/vY/1aJtLvdt9j/INFnfxO31P5+hwVpjgPU/X2HeKjAX9T997vYX77H0P13Ib1loUPQ/ZY0zL2jy8z9o0gmGvpfzP0UShqU+QPM/Fe1n5r7r8j9tr21wGJryP/vQ2PZwU/I/boyRACsn8j9T2VH1uPvxP31YpfEU0fE/9+xtSTmn8T+hnF+FIH7xP7dEn2DFVfE/DPWBxiIu8T/n62rQMwfxP+9QxsPz4PA/IwqrB/K08D9huaCTBFLwPwAAAAAAAPA/AAAAAAAA8D8AAAAAAADwPwAAAAAAAPA/AAAAAAAA8D8AAAAAAADwPwAAAAAAAPA/AAAAAAAA8D8AAAAAAADwPwAAAAAAAPA/AAAAAAAA8D8AAAAAAADwPwAAAAAAAPA/AAAAAAAA8D8AAAAAAADwPwAAAAAAAPA/AAAAAAAA8D8AAAAAAADwPwAAAAAAAPA/AAAAAAAA8D8AAAAAAADwPwAAAAAAAPA/AAAAAAAA8D8AAAAAAADwPwAAAAAAAPA/AAAAAAAA8D8AAAAAAADwPwAAAAAAAPA/AAAAAAAA8D8AAAAAAADwPwAAAAAAAPA/AAAAAAAA8D8AAAAAAADwPwAAAAAAAPA/AAAAAAAA8D8AAAAAAADwPwAAAAAAAPA/AAAAAAAA8D8AAAAAAADwPwAAAAAAAPA/AAAAAAAA8D8AAAAAAADwPwAAAAAAAPA/AAAAAAAA8D8AAAAAAADwPwAAAAAAAPA/AAAAAAAA8D8AAAAAAADwPwAAAAAAAPA/AAAAAAAA8D8AAAAAAADwPwAAAAAAAPA/AAAAAAAA8D8AAAAAAADwPwAAAAAAAPA/AAAAAAAA8D8AAAAAAADwPwAAAAAAAPA/AAAAAAAA8D8AAAAAAADwPwAAAAAAAPA/AAAAAAAA8D8=",
          "dtype": "f8"
         },
         "y": {
          "bdata": "yiDywFW0E0DKIPLAVbQjQC8xa6GAji1AyiDywFW0M0D8qC4xa6E4QC8xa6GAjj1AsdzTCMs9QUDKIPLAVbRDQONkEHngKkZA/KguMWuhSEAW7Uzp9RdLQC8xa6GAjk1ApLrErIUCUECx3NMIyz1RQL3+4mQQeVJAyiDywFW0U0DXQgEdm+9UQONkEHngKlZA8IYf1SVmV0D8qC4xa6FYQAnLPY2w3FlAFu1M6fUXW0AiD1xFO1NcQC8xa6GAjl1APFN6/cXJXkCkusSshQJgQKpLzFoooGBAsdzTCMs9YUC3bdu2bdthQL3+4mQQeWJAxI/qErMWY0DKIPLAVbRjQNCx+W74UWRA10IBHZvvZEDd0wjLPY1lQONkEHngKmZA6vUXJ4PIZkDwhh/VJWZnQPYXJ4PIA2hA/KguMWuhaEADOjbfDT9pQAnLPY2w3GlAD1xFO1N6akAW7Uzp9RdrQBx+VJeYtWtAIg9cRTtTbEApoGPz3fBsQC8xa6GAjm1ANcJyTyMsbkA8U3r9xcluQELkgatoZ29ApLrErIUCcEAng8gDV1FwQKpLzFoooHBALhTQsfnucECx3NMIyz1xQDSl11+cjHFAt23btm3bcUA6Nt8NPypyQL3+4mQQeXJAQcfmu+HHckDEj+oSsxZzQMSP6hKzFnNAQcfmu+HHckC9/uJkEHlyQDo23w0/KnJAt23btm3bcUA0pddfnIxxQLHc0wjLPXFALhTQsfnucECqS8xaKKBwQCeDyANXUXBApLrErIUCcEBC5IGraGdvQDxTev3FyW5ANcJyTyMsbkAvMWuhgI5tQCmgY/Pd8GxAIg9cRTtTbEAcflSXmLVrQBbtTOn1F2tAD1xFO1N6akAJyz2NsNxpQAM6Nt8NP2lA/KguMWuhaED2FyeDyANoQPCGH9UlZmdA6vUXJ4PIZkDjZBB54CpmQN3TCMs9jWVA10IBHZvvZEDQsflu+FFkQMog8sBVtGNAxI/qErMWY0C9/uJkEHliQLdt27Zt22FAsdzTCMs9YUCqS8xaKKBgQKS6xKyFAmBAPFN6/cXJXkAvMWuhgI5dQCIPXEU7U1xAFu1M6fUXW0AJyz2NsNxZQPyoLjFroVhA8IYf1SVmV0DjZBB54CpWQNdCAR2b71RAyiDywFW0U0C9/uJkEHlSQLHc0wjLPVFApLrErIUCUEAvMWuhgI5NQBbtTOn1F0tA/KguMWuhSEDjZBB54CpGQMog8sBVtENAsdzTCMs9QUAvMWuhgI49QPyoLjFroThAyiDywFW0M0AvMWuhgI4tQMog8sBVtCNAyiDywFW0E0A=",
          "dtype": "f8"
         }
        },
        {
         "fill": "toself",
         "fillcolor": "rgba(255, 165, 0, 0.2)",
         "hoverinfo": "skip",
         "line": {
          "width": 0
         },
         "name": "Shaded Criticality",
         "showlegend": false,
         "type": "scatter",
         "x": {
          "bdata": "eC9yVy4k8D+MSWUHqZPwPxMt8kJSCfE/Hwb7cWCJ8T/MPvL8UxryPxU3zbXztPI/9I3bBEBa8z97ECH9XQv0P+xfcSieyfQ/cC6M5YSW9T/iWurI1HP2P1Kuh5abY/c/A2lMn0Jo+D+sWQ8kA4n5P11DUT0d4fo/yV+llnRf/D/mt775yAr+P1+XUDWK6/8/pTmqEjQGAUDMzl88kD0CQFX0hLrVpANAoJ4Lkv9HBUDrvUhVZDcHQKkGCBHkiQlAx0BJG2pUDEA1PF0CSM4PQNpq3euHIBJAbjPivBYTFUA96zDLrSoZQKfyILIhOx9AvpMNY6KSJEDcxqJPOyQuQMAzccr/LDxAy9IBInUAa0AAAAAAAADwPwAAAAAAAPA/AAAAAAAA8D8AAAAAAADwPwAAAAAAAPA/AAAAAAAA8D8AAAAAAADwPwAAAAAAAPA/AAAAAAAA8D8AAAAAAADwPwAAAAAAAPA/AAAAAAAA8D8AAAAAAADwPwAAAAAAAPA/AAAAAAAA8D8AAAAAAADwPwAAAAAAAPA/AAAAAAAA8D8AAAAAAADwPwAAAAAAAPA/AAAAAAAA8D8AAAAAAADwPwAAAAAAAPA/AAAAAAAA8D8AAAAAAADwPwAAAAAAAPA/AAAAAAAA8D8AAAAAAADwPwAAAAAAAPA/AAAAAAAA8D8AAAAAAADwPwAAAAAAAPA/AAAAAAAA8D8AAAAAAADwPw==",
          "dtype": "f8"
         },
         "y": {
          "bdata": "Dj+qS8x6nUAvMWuhgI6dQFAjLPc0op1AcRXtTOm1nUCRB66incmdQLL5bvhR3Z1A0+svTgbxnUD03fCjugSeQBXQsfluGJ5ANcJyTyMsnkBWtDOl1z+eQHem9PqLU55AmJi1UEBnnkC4inam9HqeQNl8N/yojp5A+m74UV2inkAbYbmnEbaeQDxTev3FyZ5AXEU7U3rdnkB9N/yoLvGeQJ4pvf7iBJ9Avxt+VJcYn0DgDT+qSyyfQAAAAAAAQJ9AIfLAVbRTn0BC5IGraGefQGPWQgEde59AhMgDV9GOn0CkusSshaKfQMWshQI6tp9A5p5GWO7Jn0AHkQeuot2fQCeDyANX8Z9ApLrErIUCoECkusSshQKgQCeDyANX8Z9AB5EHrqLdn0DmnkZY7smfQMWshQI6tp9ApLrErIWin0CEyANX0Y6fQGPWQgEde59AQuSBq2hnn0Ah8sBVtFOfQAAAAAAAQJ9A4A0/qkssn0C/G35UlxifQJ4pvf7iBJ9AfTf8qC7xnkBcRTtTet2eQDxTev3FyZ5AG2G5pxG2nkD6bvhRXaKeQNl8N/yojp5AuIp2pvR6nkCYmLVQQGeeQHem9PqLU55AVrQzpdc/nkA1wnJPIyyeQBXQsfluGJ5A9N3wo7oEnkDT6y9OBvGdQLL5bvhR3Z1AkQeuop3JnUBxFe1M6bWdQFAjLPc0op1ALzFroYCOnUAOP6pLzHqdQA==",
          "dtype": "f8"
         }
        },
        {
         "fill": "toself",
         "fillcolor": "rgba(0, 0, 0, 0.1)",
         "hoverinfo": "skip",
         "line": {
          "width": 0
         },
         "name": "Self-Collapsed",
         "showlegend": false,
         "type": "scatter",
         "x": {
          "bdata": "AAAAAITXl0EAAAAAAADwPw==",
          "dtype": "f8"
         },
         "y": {
          "bdata": "AAAAAAAAAAAAAAAAAAAAAA==",
          "dtype": "f8"
         }
        },
        {
         "fill": "toself",
         "fillcolor": "rgba(0, 0, 0, 0.1)",
         "hoverinfo": "skip",
         "line": {
          "width": 0
         },
         "name": "Self-Collapsed",
         "showlegend": false,
         "type": "scatter",
         "x": {
          "bdata": "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",
          "dtype": "f8"
         },
         "y": {
          "bdata": "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",
          "dtype": "f8"
         }
        }
       ],
       "layout": {
        "annotations": [
         {
          "ax": 0,
          "ay": 20,
          "font": {
           "size": 12
          },
          "text": "Criticality",
          "x": 0.5,
          "xref": "paper",
          "y": 0,
          "yref": "paper"
         },
         {
          "ax": 0,
          "ay": -10,
          "font": {
           "color": "black"
          },
          "text": "Critical Point",
          "x": 0.5,
          "xref": "paper",
          "y": 1,
          "yref": "paper"
         }
        ],
        "height": 600,
        "margin": {
         "b": 40,
         "l": 0,
         "r": 0,
         "t": 40
        },
        "paper_bgcolor": "white",
        "plot_bgcolor": "white",
        "showlegend": false,
        "template": {
         "data": {
          "bar": [
           {
            "error_x": {
             "color": "#2a3f5f"
            },
            "error_y": {
             "color": "#2a3f5f"
            },
            "marker": {
             "line": {
              "color": "#E5ECF6",
              "width": 0.5
             },
             "pattern": {
              "fillmode": "overlay",
              "size": 10,
              "solidity": 0.2
             }
            },
            "type": "bar"
           }
          ],
          "barpolar": [
           {
            "marker": {
             "line": {
              "color": "#E5ECF6",
              "width": 0.5
             },
             "pattern": {
              "fillmode": "overlay",
              "size": 10,
              "solidity": 0.2
             }
            },
            "type": "barpolar"
           }
          ],
          "carpet": [
           {
            "aaxis": {
             "endlinecolor": "#2a3f5f",
             "gridcolor": "white",
             "linecolor": "white",
             "minorgridcolor": "white",
             "startlinecolor": "#2a3f5f"
            },
            "baxis": {
             "endlinecolor": "#2a3f5f",
             "gridcolor": "white",
             "linecolor": "white",
             "minorgridcolor": "white",
             "startlinecolor": "#2a3f5f"
            },
            "type": "carpet"
           }
          ],
          "choropleth": [
           {
            "colorbar": {
             "outlinewidth": 0,
             "ticks": ""
            },
            "type": "choropleth"
           }
          ],
          "contour": [
           {
            "colorbar": {
             "outlinewidth": 0,
             "ticks": ""
            },
            "colorscale": [
             [
              0,
              "#0d0887"
             ],
             [
              0.1111111111111111,
              "#46039f"
             ],
             [
              0.2222222222222222,
              "#7201a8"
             ],
             [
              0.3333333333333333,
              "#9c179e"
             ],
             [
              0.4444444444444444,
              "#bd3786"
             ],
             [
              0.5555555555555556,
              "#d8576b"
             ],
             [
              0.6666666666666666,
              "#ed7953"
             ],
             [
              0.7777777777777778,
              "#fb9f3a"
             ],
             [
              0.8888888888888888,
              "#fdca26"
             ],
             [
              1,
              "#f0f921"
             ]
            ],
            "type": "contour"
           }
          ],
          "contourcarpet": [
           {
            "colorbar": {
             "outlinewidth": 0,
             "ticks": ""
            },
            "type": "contourcarpet"
           }
          ],
          "heatmap": [
           {
            "colorbar": {
             "outlinewidth": 0,
             "ticks": ""
            },
            "colorscale": [
             [
              0,
              "#0d0887"
             ],
             [
              0.1111111111111111,
              "#46039f"
             ],
             [
              0.2222222222222222,
              "#7201a8"
             ],
             [
              0.3333333333333333,
              "#9c179e"
             ],
             [
              0.4444444444444444,
              "#bd3786"
             ],
             [
              0.5555555555555556,
              "#d8576b"
             ],
             [
              0.6666666666666666,
              "#ed7953"
             ],
             [
              0.7777777777777778,
              "#fb9f3a"
             ],
             [
              0.8888888888888888,
              "#fdca26"
             ],
             [
              1,
              "#f0f921"
             ]
            ],
            "type": "heatmap"
           }
          ],
          "histogram": [
           {
            "marker": {
             "pattern": {
              "fillmode": "overlay",
              "size": 10,
              "solidity": 0.2
             }
            },
            "type": "histogram"
           }
          ],
          "histogram2d": [
           {
            "colorbar": {
             "outlinewidth": 0,
             "ticks": ""
            },
            "colorscale": [
             [
              0,
              "#0d0887"
             ],
             [
              0.1111111111111111,
              "#46039f"
             ],
             [
              0.2222222222222222,
              "#7201a8"
             ],
             [
              0.3333333333333333,
              "#9c179e"
             ],
             [
              0.4444444444444444,
              "#bd3786"
             ],
             [
              0.5555555555555556,
              "#d8576b"
             ],
             [
              0.6666666666666666,
              "#ed7953"
             ],
             [
              0.7777777777777778,
              "#fb9f3a"
             ],
             [
              0.8888888888888888,
              "#fdca26"
             ],
             [
              1,
              "#f0f921"
             ]
            ],
            "type": "histogram2d"
           }
          ],
          "histogram2dcontour": [
           {
            "colorbar": {
             "outlinewidth": 0,
             "ticks": ""
            },
            "colorscale": [
             [
              0,
              "#0d0887"
             ],
             [
              0.1111111111111111,
              "#46039f"
             ],
             [
              0.2222222222222222,
              "#7201a8"
             ],
             [
              0.3333333333333333,
              "#9c179e"
             ],
             [
              0.4444444444444444,
              "#bd3786"
             ],
             [
              0.5555555555555556,
              "#d8576b"
             ],
             [
              0.6666666666666666,
              "#ed7953"
             ],
             [
              0.7777777777777778,
              "#fb9f3a"
             ],
             [
              0.8888888888888888,
              "#fdca26"
             ],
             [
              1,
              "#f0f921"
             ]
            ],
            "type": "histogram2dcontour"
           }
          ],
          "mesh3d": [
           {
            "colorbar": {
             "outlinewidth": 0,
             "ticks": ""
            },
            "type": "mesh3d"
           }
          ],
          "parcoords": [
           {
            "line": {
             "colorbar": {
              "outlinewidth": 0,
              "ticks": ""
             }
            },
            "type": "parcoords"
           }
          ],
          "pie": [
           {
            "automargin": true,
            "type": "pie"
           }
          ],
          "scatter": [
           {
            "fillpattern": {
             "fillmode": "overlay",
             "size": 10,
             "solidity": 0.2
            },
            "type": "scatter"
           }
          ],
          "scatter3d": [
           {
            "line": {
             "colorbar": {
              "outlinewidth": 0,
              "ticks": ""
             }
            },
            "marker": {
             "colorbar": {
              "outlinewidth": 0,
              "ticks": ""
             }
            },
            "type": "scatter3d"
           }
          ],
          "scattercarpet": [
           {
            "marker": {
             "colorbar": {
              "outlinewidth": 0,
              "ticks": ""
             }
            },
            "type": "scattercarpet"
           }
          ],
          "scattergeo": [
           {
            "marker": {
             "colorbar": {
              "outlinewidth": 0,
              "ticks": ""
             }
            },
            "type": "scattergeo"
           }
          ],
          "scattergl": [
           {
            "marker": {
             "colorbar": {
              "outlinewidth": 0,
              "ticks": ""
             }
            },
            "type": "scattergl"
           }
          ],
          "scattermap": [
           {
            "marker": {
             "colorbar": {
              "outlinewidth": 0,
              "ticks": ""
             }
            },
            "type": "scattermap"
           }
          ],
          "scattermapbox": [
           {
            "marker": {
             "colorbar": {
              "outlinewidth": 0,
              "ticks": ""
             }
            },
            "type": "scattermapbox"
           }
          ],
          "scatterpolar": [
           {
            "marker": {
             "colorbar": {
              "outlinewidth": 0,
              "ticks": ""
             }
            },
            "type": "scatterpolar"
           }
          ],
          "scatterpolargl": [
           {
            "marker": {
             "colorbar": {
              "outlinewidth": 0,
              "ticks": ""
             }
            },
            "type": "scatterpolargl"
           }
          ],
          "scatterternary": [
           {
            "marker": {
             "colorbar": {
              "outlinewidth": 0,
              "ticks": ""
             }
            },
            "type": "scatterternary"
           }
          ],
          "surface": [
           {
            "colorbar": {
             "outlinewidth": 0,
             "ticks": ""
            },
            "colorscale": [
             [
              0,
              "#0d0887"
             ],
             [
              0.1111111111111111,
              "#46039f"
             ],
             [
              0.2222222222222222,
              "#7201a8"
             ],
             [
              0.3333333333333333,
              "#9c179e"
             ],
             [
              0.4444444444444444,
              "#bd3786"
             ],
             [
              0.5555555555555556,
              "#d8576b"
             ],
             [
              0.6666666666666666,
              "#ed7953"
             ],
             [
              0.7777777777777778,
              "#fb9f3a"
             ],
             [
              0.8888888888888888,
              "#fdca26"
             ],
             [
              1,
              "#f0f921"
             ]
            ],
            "type": "surface"
           }
          ],
          "table": [
           {
            "cells": {
             "fill": {
              "color": "#EBF0F8"
             },
             "line": {
              "color": "white"
             }
            },
            "header": {
             "fill": {
              "color": "#C8D4E3"
             },
             "line": {
              "color": "white"
             }
            },
            "type": "table"
           }
          ]
         },
         "layout": {
          "annotationdefaults": {
           "arrowcolor": "#2a3f5f",
           "arrowhead": 0,
           "arrowwidth": 1
          },
          "autotypenumbers": "strict",
          "coloraxis": {
           "colorbar": {
            "outlinewidth": 0,
            "ticks": ""
           }
          },
          "colorscale": {
           "diverging": [
            [
             0,
             "#8e0152"
            ],
            [
             0.1,
             "#c51b7d"
            ],
            [
             0.2,
             "#de77ae"
            ],
            [
             0.3,
             "#f1b6da"
            ],
            [
             0.4,
             "#fde0ef"
            ],
            [
             0.5,
             "#f7f7f7"
            ],
            [
             0.6,
             "#e6f5d0"
            ],
            [
             0.7,
             "#b8e186"
            ],
            [
             0.8,
             "#7fbc41"
            ],
            [
             0.9,
             "#4d9221"
            ],
            [
             1,
             "#276419"
            ]
           ],
           "sequential": [
            [
             0,
             "#0d0887"
            ],
            [
             0.1111111111111111,
             "#46039f"
            ],
            [
             0.2222222222222222,
             "#7201a8"
            ],
            [
             0.3333333333333333,
             "#9c179e"
            ],
            [
             0.4444444444444444,
             "#bd3786"
            ],
            [
             0.5555555555555556,
             "#d8576b"
            ],
            [
             0.6666666666666666,
             "#ed7953"
            ],
            [
             0.7777777777777778,
             "#fb9f3a"
            ],
            [
             0.8888888888888888,
             "#fdca26"
            ],
            [
             1,
             "#f0f921"
            ]
           ],
           "sequentialminus": [
            [
             0,
             "#0d0887"
            ],
            [
             0.1111111111111111,
             "#46039f"
            ],
            [
             0.2222222222222222,
             "#7201a8"
            ],
            [
             0.3333333333333333,
             "#9c179e"
            ],
            [
             0.4444444444444444,
             "#bd3786"
            ],
            [
             0.5555555555555556,
             "#d8576b"
            ],
            [
             0.6666666666666666,
             "#ed7953"
            ],
            [
             0.7777777777777778,
             "#fb9f3a"
            ],
            [
             0.8888888888888888,
             "#fdca26"
            ],
            [
             1,
             "#f0f921"
            ]
           ]
          },
          "colorway": [
           "#636efa",
           "#EF553B",
           "#00cc96",
           "#ab63fa",
           "#FFA15A",
           "#19d3f3",
           "#FF6692",
           "#B6E880",
           "#FF97FF",
           "#FECB52"
          ],
          "font": {
           "color": "#2a3f5f"
          },
          "geo": {
           "bgcolor": "white",
           "lakecolor": "white",
           "landcolor": "#E5ECF6",
           "showlakes": true,
           "showland": true,
           "subunitcolor": "white"
          },
          "hoverlabel": {
           "align": "left"
          },
          "hovermode": "closest",
          "mapbox": {
           "style": "light"
          },
          "paper_bgcolor": "white",
          "plot_bgcolor": "#E5ECF6",
          "polar": {
           "angularaxis": {
            "gridcolor": "white",
            "linecolor": "white",
            "ticks": ""
           },
           "bgcolor": "#E5ECF6",
           "radialaxis": {
            "gridcolor": "white",
            "linecolor": "white",
            "ticks": ""
           }
          },
          "scene": {
           "xaxis": {
            "backgroundcolor": "#E5ECF6",
            "gridcolor": "white",
            "gridwidth": 2,
            "linecolor": "white",
            "showbackground": true,
            "ticks": "",
            "zerolinecolor": "white"
           },
           "yaxis": {
            "backgroundcolor": "#E5ECF6",
            "gridcolor": "white",
            "gridwidth": 2,
            "linecolor": "white",
            "showbackground": true,
            "ticks": "",
            "zerolinecolor": "white"
           },
           "zaxis": {
            "backgroundcolor": "#E5ECF6",
            "gridcolor": "white",
            "gridwidth": 2,
            "linecolor": "white",
            "showbackground": true,
            "ticks": "",
            "zerolinecolor": "white"
           }
          },
          "shapedefaults": {
           "line": {
            "color": "#2a3f5f"
           }
          },
          "ternary": {
           "aaxis": {
            "gridcolor": "white",
            "linecolor": "white",
            "ticks": ""
           },
           "baxis": {
            "gridcolor": "white",
            "linecolor": "white",
            "ticks": ""
           },
           "bgcolor": "#E5ECF6",
           "caxis": {
            "gridcolor": "white",
            "linecolor": "white",
            "ticks": ""
           }
          },
          "title": {
           "x": 0.05
          },
          "xaxis": {
           "automargin": true,
           "gridcolor": "white",
           "linecolor": "white",
           "ticks": "",
           "title": {
            "standoff": 15
           },
           "zerolinecolor": "white",
           "zerolinewidth": 2
          },
          "yaxis": {
           "automargin": true,
           "gridcolor": "white",
           "linecolor": "white",
           "ticks": "",
           "title": {
            "standoff": 15
           },
           "zerolinecolor": "white",
           "zerolinewidth": 2
          }
         }
        },
        "width": 400,
        "xaxis": {
         "dtick": 0.2,
         "gridcolor": "lightblue",
         "gridwidth": 1,
         "linecolor": "black",
         "linewidth": 2,
         "range": [
          0,
          2
         ],
         "showgrid": true,
         "side": "bottom",
         "tick0": 0,
         "tickcolor": "black",
         "tickfont": {
          "color": "black",
          "size": 10
         },
         "ticklen": 8,
         "tickmode": "linear",
         "tickwidth": 2,
         "title": {
          "text": ""
         }
        },
        "yaxis": {
         "domain": [
          0,
          1
         ],
         "dtick": 600,
         "gridcolor": "lightgray",
         "gridwidth": 1,
         "range": [
          3000,
          -200
         ],
         "showgrid": true,
         "tick0": 0,
         "tickcolor": "black",
         "ticklen": 5,
         "tickmode": "linear",
         "tickwidth": 2,
         "title": {
          "text": "Depth [mm]"
         },
         "zeroline": true,
         "zerolinecolor": "gray",
         "zerolinewidth": 2
        }
       }
      }
     },
     "metadata": {},
     "output_type": "display_data"
    }
   ],
   "source": [
    "from plotly_snow_profile import criticality_plots\n",
    "\n",
    "crit_plots_fig = criticality_plots(plot_weaklayer, plot_layers, dataframe)\n",
    "crit_plots_fig.show()"
   ]
  },
  {
   "cell_type": "code",
   "execution_count": 248,
   "id": "a31980f1",
   "metadata": {},
   "outputs": [
    {
     "data": {
      "application/vnd.plotly.v1+json": {
       "config": {
        "plotlyServerURL": "https://plot.ly"
       },
       "data": [
        {
         "colorscale": [
          [
           0,
           "rgb(255,245,240)"
          ],
          [
           0.125,
           "rgb(254,224,210)"
          ],
          [
           0.25,
           "rgb(252,187,161)"
          ],
          [
           0.375,
           "rgb(252,146,114)"
          ],
          [
           0.5,
           "rgb(251,106,74)"
          ],
          [
           0.625,
           "rgb(239,59,44)"
          ],
          [
           0.75,
           "rgb(203,24,29)"
          ],
          [
           0.875,
           "rgb(165,15,21)"
          ],
          [
           1,
           "rgb(103,0,13)"
          ]
         ],
         "hoverinfo": "skip",
         "reversescale": false,
         "showscale": false,
         "type": "heatmap",
         "x": [
          0,
          0.5,
          1
         ],
         "y": {
          "bdata": "AAAAAAAAAADKIPLAVbQTQMog8sBVtCNALzFroYCOLUDKIPLAVbQzQPyoLjFroThALzFroYCOPUCx3NMIyz1BQMog8sBVtENA42QQeeAqRkD8qC4xa6FIQBbtTOn1F0tALzFroYCOTUCkusSshQJQQLHc0wjLPVFAvf7iZBB5UkDKIPLAVbRTQNdCAR2b71RA42QQeeAqVkDwhh/VJWZXQPyoLjFroVhACcs9jbDcWUAW7Uzp9RdbQCIPXEU7U1xALzFroYCOXUA8U3r9xcleQKS6xKyFAmBAqkvMWiigYECx3NMIyz1hQLdt27Zt22FAvf7iZBB5YkDEj+oSsxZjQMog8sBVtGNA0LH5bvhRZEDXQgEdm+9kQN3TCMs9jWVA42QQeeAqZkDq9Rcng8hmQPCGH9UlZmdA9hcng8gDaED8qC4xa6FoQAM6Nt8NP2lACcs9jbDcaUAPXEU7U3pqQBbtTOn1F2tAHH5Ul5i1a0AiD1xFO1NsQCmgY/Pd8GxALzFroYCObUA1wnJPIyxuQDxTev3FyW5AQuSBq2hnb0CkusSshQJwQCeDyANXUXBAqkvMWiigcEAuFNCx+e5wQLHc0wjLPXFANKXXX5yMcUC3bdu2bdtxQDo23w0/KnJAvf7iZBB5ckBBx+a74cdyQMSP6hKzFnNAR1juaYRlc0DKIPLAVbRzQE3p9RcnA3RA0LH5bvhRdEBTev3FyaB0QNdCAR2b73RAWgsFdGw+dUDd0wjLPY11QGCcDCIP3HVA42QQeeAqdkBmLRTQsXl2QOr1FyeDyHZAbb4bflQXd0Dwhh/VJWZ3QHNPIyz3tHdA9hcng8gDeEB54CramVJ4QPyoLjFroXhAgHEyiDzweEADOjbfDT95QIYCOjbfjXlACcs9jbDceUCMk0HkgSt6QA9cRTtTenpAkyRJkiTJekAW7Uzp9Rd7QJm1UEDHZntAHH5Ul5i1e0CfRljuaQR8QCIPXEU7U3xAptdfnAyifEApoGPz3fB8QKxoZ0qvP31ALzFroYCOfUCy+W74Ud19QDXCck8jLH5AuIp2pvR6fkA8U3r9xcl+QL8bflSXGH9AQuSBq2hnf0DFrIUCOrZ/QKS6xKyFAoBA5p5GWO4pgEAng8gDV1GAQGlnSq+/eIBAqkvMWiiggEDsL04GkceAQC4U0LH57oBAb/hRXWIWgUCx3NMIyz2BQPLAVbQzZYFANKXXX5yMgUB1iVkLBbSBQLdt27Zt24FA+VFdYtYCgkA6Nt8NPyqCQHwaYbmnUYJAvf7iZBB5gkD/4mQQeaCCQEHH5rvhx4JAgqtoZ0rvgkDEj+oSsxaDQAV0bL4bPoNAR1juaYRlg0CIPHAV7YyDQMog8sBVtINADAV0bL7bg0BN6fUXJwOEQI/Nd8OPKoRA0LH5bvhRhEASlnsaYXmEQFN6/cXJoIRAlV5/cTLIhEDXQgEdm++EQBgng8gDF4VAWgsFdGw+hUCb74Yf1WWFQN3TCMs9jYVAH7iKdqa0hUBgnAwiD9yFQKKAjs13A4ZA42QQeeAqhkAlSZIkSVKGQGYtFNCxeYZAqBGWexqhhkDq9Rcng8iGQCvamdLr74ZAbb4bflQXh0Cuop0pvT6HQPCGH9UlZodAMWuhgI6Nh0BzTyMs97SHQLUzpddf3IdA9hcng8gDiEA4/KguMSuIQHngKtqZUohAu8SshQJ6iED8qC4xa6GIQD6NsNzTyIhAgHEyiDzwiEDBVbQzpReJQAM6Nt8NP4lARB64inZmiUCGAjo2342JQMjmu+FHtYlACcs9jbDciUBLr784GQSKQIyTQeSBK4pAznfDj+pSikAPXEU7U3qKQFFAx+a7oYpAkyRJkiTJikDUCMs9jfCKQBbtTOn1F4tAV9HOlF4/i0CZtVBAx2aLQNqZ0usvjotAHH5Ul5i1i0BeYtZCAd2LQJ9GWO5pBIxA4SramdIrjEAiD1xFO1OMQGTz3fCjeoxAptdfnAyijEDnu+FHdcmMQCmgY/Pd8IxAaoTlnkYYjUCsaGdKrz+NQO1M6fUXZ41ALzFroYCOjUBxFe1M6bWNQLL5bvhR3Y1A9N3wo7oEjkA1wnJPIyyOQHem9PqLU45AuIp2pvR6jkD6bvhRXaKOQDxTev3FyY5AfTf8qC7xjkC/G35UlxiPQAAAAAAAQI9AQuSBq2hnj0CEyANX0Y6PQMWshQI6to9AB5EHrqLdj0CkusSshQKQQMWshQI6FpBA5p5GWO4pkEAGkQeuoj2QQCeDyANXUZBASHWJWQtlkEBpZ0qvv3iQQIpZCwV0jJBAqkvMWiigkEDLPY2w3LOQQOwvTgaRx5BADSIPXEXbkEAuFNCx+e6QQE4GkQeuApFAb/hRXWIWkUCQ6hKzFiqRQLHc0wjLPZFA0s6UXn9RkUDywFW0M2WRQBOzFgroeJFANKXXX5yMkUBVl5i1UKCRQHWJWQsFtJFAlnsaYbnHkUC3bdu2bduRQNhfnAwi75FA+VFdYtYCkkAZRB64ihaSQDo23w0/KpJAWyigY/M9kkB8GmG5p1GSQJ0MIg9cZZJAvf7iZBB5kkDe8KO6xIySQP/iZBB5oJJAINUlZi20kkBBx+a74ceSQGG5pxGW25JAgqtoZ0rvkkCjnSm9/gKTQMSP6hKzFpNA5IGraGcqk0AFdGy+Gz6TQCZmLRTQUZNAR1juaYRlk0BoSq+/OHmTQIg8cBXtjJNAqS4xa6Ggk0DKIPLAVbSTQOsSsxYKyJNADAV0bL7bk0As9zTCcu+TQE3p9RcnA5RAbtu2bdsWlECPzXfDjyqUQLC/OBlEPpRA0LH5bvhRlEDxo7rErGWUQBKWexpheZRAM4g8cBWNlEBTev3FyaCUQHRsvht+tJRAlV5/cTLIlEC2UEDH5tuUQNdCAR2b75RA9zTCck8DlUAYJ4PIAxeVQDkZRB64KpVAWgsFdGw+lUB7/cXJIFKVQJvvhh/VZZVAvOFHdYl5lUDd0wjLPY2VQP7FySDyoJVAH7iKdqa0lUA/qkvMWsiVQGCcDCIP3JVAgY7Nd8PvlUCigI7NdwOWQMJyTyMsF5ZA42QQeeAqlkAEV9HOlD6WQCVJkiRJUpZARjtTev1llkBmLRTQsXmWQIcf1SVmjZZAqBGWexqhlkDJA1fRzrSWQOr1FyeDyJZACujYfDfclkAr2pnS6++WQEzMWiigA5dAbb4bflQXl0COsNzTCCuXQK6inSm9PpdAz5Ref3FSl0Dwhh/VJWaXQBF54CraeZdAMWuhgI6Nl0BSXWLWQqGXQHNPIyz3tJdAlEHkgavIl0C1M6XXX9yXQNUlZi0U8JdA9hcng8gDmEAXCujYfBeYQDj8qC4xK5hAWe5phOU+mEB54CramVKYQJrS6y9OZphAu8SshQJ6mEDctm3bto2YQPyoLjFroZhAHZvvhh+1mEA+jbDc08iYQF9/cTKI3JhAgHEyiDzwmECgY/Pd8AOZQMFVtDOlF5lA4kd1iVkrmUADOjbfDT+ZQCQs9zTCUplARB64inZmmUBlEHngKnqZQIYCOjbfjZlAp/T6i5OhmUDI5rvhR7WZQOjYfDf8yJlACcs9jbDcmUAqvf7iZPCZQEuvvzgZBJpAa6GAjs0XmkCMk0HkgSuaQK2FAjo2P5pAznfDj+pSmkDvaYTlnmaaQA9cRTtTeppAME4GkQeOmkBRQMfmu6GaQHIyiDxwtZpAkyRJkiTJmkCzFgro2NyaQNQIyz2N8JpA9fqLk0EEm0AW7Uzp9RebQDffDT+qK5tAV9HOlF4/m0B4w4/qElObQJm1UEDHZptAuqcRlnt6m0DamdLrL46bQPuLk0HkoZtAHH5Ul5i1m0A9cBXtTMmbQF5i1kIB3ZtAflSXmLXwm0CfRljuaQScQMA4GUQeGJxA4SramdIrnEACHZvvhj+cQCIPXEU7U5xAQwEdm+9mnEBk893wo3qcQIXlnkZYjpxAptdfnAyinEDGySDywLWcQOe74Ud1yZxACK6inSndnEApoGPz3fCcQEmSJEmSBJ1AaoTlnkYYnUCLdqb0+iudQKxoZ0qvP51AzVoooGNTnUDtTOn1F2edQA4/qkvMep1ALzFroYCOnUBQIyz3NKKdQHEV7UzptZ1AkQeuop3JnUCy+W74Ud2dQNPrL04G8Z1A9N3wo7oEnkAV0LH5bhieQDXCck8jLJ5AVrQzpdc/nkB3pvT6i1OeQJiYtVBAZ55AuIp2pvR6nkDZfDf8qI6eQPpu+FFdop5AG2G5pxG2nkA8U3r9xcmeQFxFO1N63Z5AfTf8qC7xnkCeKb3+4gSfQL8bflSXGJ9A4A0/qkssn0AAAAAAAECfQCHywFW0U59AQuSBq2hnn0Bj1kIBHXufQITIA1fRjp9ApLrErIWin0DFrIUCOrafQOaeRljuyZ9AB5EHrqLdn0Ang8gDV/GfQKS6xKyFAqBAtTOl118MoEDFrIUCOhagQNUlZi0UIKBA5p5GWO4poED2FyeDyDOgQAaRB66iPaBAFwro2HxHoEAng8gDV1GgQDj8qC4xW6BASHWJWQtloEBY7mmE5W6gQGlnSq+/eKBAeeAq2pmCoECKWQsFdIygQJrS6y9OlqBAqkvMWiigoEC7xKyFAqqgQMs9jbDcs6BA3LZt27a9oEDsL04GkcegQPyoLjFr0aBADSIPXEXboEAdm++GH+WgQC4U0LH57qBAPo2w3NP4oEBOBpEHrgKhQF9/cTKIDKFAb/hRXWIWoUCAcTKIPCChQJDqErMWKqFAoGPz3fAzoUCx3NMIyz2hQMFVtDOlR6FA0s6UXn9RoUDiR3WJWVuhQPLAVbQzZaFAAzo23w1voUATsxYK6HihQCQs9zTCgqFANKXXX5yMoUBEHriKdpahQFWXmLVQoKFAZRB54CqqoUB1iVkLBbShQIYCOjbfvaFAlnsaYbnHoUCn9PqLk9GhQLdt27Zt26FAx+a74UfloUDYX5wMIu+hQOjYfDf8+KFA+VFdYtYCokAJyz2NsAyiQBlEHriKFqJAKr3+4mQgokA6Nt8NPyqiQEuvvzgZNKJAWyigY/M9okBroYCOzUeiQHwaYbmnUaJAjJNB5IFbokCdDCIPXGWiQK2FAjo2b6JAvf7iZBB5okDOd8OP6oKiQN7wo7rEjKJA72mE5Z6WokD/4mQQeaCiQA9cRTtTqqJAINUlZi20okAwTgaRB76iQEHH5rvhx6JAUUDH5rvRokBhuacRltuiQHIyiDxw5aJAgqtoZ0rvokCTJEmSJPmiQKOdKb3+AqNAsxYK6NgMo0DEj+oSsxajQNQIyz2NIKNA5IGraGcqo0D1+ouTQTSjQAV0bL4bPqNAFu1M6fVHo0AmZi0U0FGjQDbfDT+qW6NAR1juaYRlo0BX0c6UXm+jQGhKr784eaNAeMOP6hKDo0CIPHAV7YyjQJm1UEDHlqNAqS4xa6Ggo0C6pxGWe6qjQMog8sBVtKNA2pnS6y++o0DrErMWCsijQPuLk0Hk0aNADAV0bL7bo0AcflSXmOWjQCz3NMJy76NAPXAV7Uz5o0BN6fUXJwOkQF5i1kIBDaRAbtu2bdsWpEB+VJeYtSCkQI/Nd8OPKqRAn0ZY7mk0pECwvzgZRD6kQMA4GUQeSKRA0LH5bvhRpEDhKtqZ0lukQPGjusSsZaRAAR2b74ZvpEASlnsaYXmkQCIPXEU7g6RAM4g8cBWNpEBDAR2b75akQFN6/cXJoKRAZPPd8KOqpEB0bL4bfrSkQIXlnkZYvqRAlV5/cTLIpECl11+cDNKkQLZQQMfm26RAxskg8sDlpEDXQgEdm++kQOe74Ud1+aRA9zTCck8DpUAIrqKdKQ2lQBgng8gDF6VAKaBj890gpUA5GUQeuCqlQEmSJEmSNKVAWgsFdGw+pUBqhOWeRkilQHv9xckgUqVAi3am9PpbpUCb74Yf1WWlQKxoZ0qvb6VAvOFHdYl5pUDNWiigY4OlQN3TCMs9jaVA7Uzp9ReXpUD+xckg8qClQA4/qkvMqqVAH7iKdqa0pUAvMWuhgL6lQD+qS8xayKVAUCMs9zTSpUBgnAwiD9ylQHAV7Uzp5aVAgY7Nd8PvpUCRB66infmlQKKAjs13A6ZAsvlu+FENpkDCck8jLBemQNPrL04GIaZA42QQeeAqpkD03fCjujSmQARX0c6UPqZAFNCx+W5IpkAlSZIkSVKmQDXCck8jXKZARjtTev1lpkBWtDOl12+mQGYtFNCxeaZAd6b0+ouDpkCHH9UlZo2mQJiYtVBAl6ZAqBGWexqhpkC4inam9KqmQMkDV9HOtKZA2Xw3/Ki+pkDq9Rcng8imQPpu+FFd0qZACujYfDfcpkAbYbmnEeamQCvamdLr76ZAPFN6/cX5pkBMzFoooAOnQFxFO1N6DadAbb4bflQXp0B9N/yoLiGnQI6w3NMIK6dAnim9/uI0p0Cuop0pvT6nQL8bflSXSKdAz5Ref3FSp0DfDT+qS1ynQPCGH9UlZqdAAAAAAABwp0A=",
          "dtype": "f8"
         },
         "z": {
          "bdata": "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",
          "dtype": "f8",
          "shape": "610, 2"
         },
         "zmax": 1,
         "zmin": 0
        },
        {
         "colorscale": [
          [
           0,
           "rgb(255,245,240)"
          ],
          [
           0.125,
           "rgb(254,224,210)"
          ],
          [
           0.25,
           "rgb(252,187,161)"
          ],
          [
           0.375,
           "rgb(252,146,114)"
          ],
          [
           0.5,
           "rgb(251,106,74)"
          ],
          [
           0.625,
           "rgb(239,59,44)"
          ],
          [
           0.75,
           "rgb(203,24,29)"
          ],
          [
           0.875,
           "rgb(165,15,21)"
          ],
          [
           1,
           "rgb(103,0,13)"
          ]
         ],
         "hoverinfo": "skip",
         "reversescale": false,
         "showscale": false,
         "type": "heatmap",
         "x": [
          1,
          1.5,
          2
         ],
         "y": {
          "bdata": "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",
          "dtype": "f8"
         },
         "z": {
          "bdata": "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",
          "dtype": "f8",
          "shape": "610, 2"
         },
         "zmax": 1,
         "zmin": 0
        },
        {
         "colorbar": {
          "title": {
           "text": "Cum."
          }
         },
         "colorscale": [
          [
           1,
           "rgb(255,240,150)"
          ],
          [
           0.9,
           "rgb(255,210,100)"
          ],
          [
           0.75,
           "rgb(255,180,120)"
          ],
          [
           0.6,
           "rgb(255,140,180)"
          ],
          [
           0.45,
           "rgb(200,90,220)"
          ],
          [
           0.3,
           "rgb(120,60,200)"
          ],
          [
           0.15,
           "rgb(60,50,150)"
          ],
          [
           0,
           "rgb(20,30,80)"
          ]
         ],
         "showscale": true,
         "type": "heatmap",
         "x": [
          2,
          2.5,
          3
         ],
         "y": {
          "bdata": "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",
          "dtype": "f8"
         },
         "z": {
          "bdata": "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",
          "dtype": "f8",
          "shape": "610, 2"
         },
         "zmax": 1,
         "zmin": 0
        },
        {
         "line": {
          "color": "lightgrey",
          "width": 0.5
         },
         "mode": "lines",
         "showlegend": false,
         "type": "scatter",
         "x": [
          2,
          2
         ],
         "y": [
          0,
          3000
         ]
        },
        {
         "line": {
          "color": "lightgrey",
          "width": 0.5
         },
         "mode": "lines",
         "showlegend": false,
         "type": "scatter",
         "x": [
          2.3,
          2.3
         ],
         "y": [
          0,
          3000
         ]
        },
        {
         "line": {
          "color": "lightgrey",
          "width": 0.5
         },
         "mode": "lines",
         "showlegend": false,
         "type": "scatter",
         "x": [
          2.6,
          2.6
         ],
         "y": [
          0,
          3000
         ]
        },
        {
         "line": {
          "color": "lightgrey",
          "width": 0.5
         },
         "mode": "lines",
         "showlegend": false,
         "type": "scatter",
         "x": [
          2.9,
          2.9
         ],
         "y": [
          0,
          3000
         ]
        },
        {
         "hoverinfo": "skip",
         "line": {
          "color": "white",
          "width": 0.5
         },
         "mode": "lines",
         "showlegend": false,
         "type": "scatter",
         "x": [
          0,
          3
         ],
         "y": [
          0,
          0
         ]
        },
        {
         "hoverinfo": "skip",
         "line": {
          "color": "white",
          "width": 0.5
         },
         "mode": "lines",
         "showlegend": false,
         "type": "scatter",
         "x": [
          0,
          3
         ],
         "y": [
          50,
          50
         ]
        },
        {
         "hoverinfo": "skip",
         "line": {
          "color": "white",
          "width": 0.5
         },
         "mode": "lines",
         "showlegend": false,
         "type": "scatter",
         "x": [
          0,
          3
         ],
         "y": [
          100,
          100
         ]
        },
        {
         "hoverinfo": "skip",
         "line": {
          "color": "white",
          "width": 0.5
         },
         "mode": "lines",
         "showlegend": false,
         "type": "scatter",
         "x": [
          0,
          3
         ],
         "y": [
          150,
          150
         ]
        },
        {
         "hoverinfo": "skip",
         "line": {
          "color": "white",
          "width": 0.5
         },
         "mode": "lines",
         "showlegend": false,
         "type": "scatter",
         "x": [
          0,
          3
         ],
         "y": [
          200,
          200
         ]
        },
        {
         "hoverinfo": "skip",
         "line": {
          "color": "white",
          "width": 0.5
         },
         "mode": "lines",
         "showlegend": false,
         "type": "scatter",
         "x": [
          0,
          3
         ],
         "y": [
          250,
          250
         ]
        },
        {
         "hoverinfo": "skip",
         "line": {
          "color": "white",
          "width": 0.5
         },
         "mode": "lines",
         "showlegend": false,
         "type": "scatter",
         "x": [
          0,
          3
         ],
         "y": [
          300,
          300
         ]
        },
        {
         "hoverinfo": "skip",
         "line": {
          "color": "white",
          "width": 0.5
         },
         "mode": "lines",
         "showlegend": false,
         "type": "scatter",
         "x": [
          0,
          3
         ],
         "y": [
          350,
          350
         ]
        },
        {
         "hoverinfo": "skip",
         "line": {
          "color": "white",
          "width": 0.5
         },
         "mode": "lines",
         "showlegend": false,
         "type": "scatter",
         "x": [
          0,
          3
         ],
         "y": [
          400,
          400
         ]
        },
        {
         "hoverinfo": "skip",
         "line": {
          "color": "white",
          "width": 0.5
         },
         "mode": "lines",
         "showlegend": false,
         "type": "scatter",
         "x": [
          0,
          3
         ],
         "y": [
          450,
          450
         ]
        },
        {
         "hoverinfo": "skip",
         "line": {
          "color": "white",
          "width": 0.5
         },
         "mode": "lines",
         "showlegend": false,
         "type": "scatter",
         "x": [
          0,
          3
         ],
         "y": [
          500,
          500
         ]
        },
        {
         "hoverinfo": "skip",
         "line": {
          "color": "white",
          "width": 0.5
         },
         "mode": "lines",
         "showlegend": false,
         "type": "scatter",
         "x": [
          0,
          3
         ],
         "y": [
          550,
          550
         ]
        },
        {
         "hoverinfo": "skip",
         "line": {
          "color": "white",
          "width": 0.5
         },
         "mode": "lines",
         "showlegend": false,
         "type": "scatter",
         "x": [
          0,
          3
         ],
         "y": [
          600,
          600
         ]
        },
        {
         "hoverinfo": "skip",
         "line": {
          "color": "white",
          "width": 0.5
         },
         "mode": "lines",
         "showlegend": false,
         "type": "scatter",
         "x": [
          0,
          3
         ],
         "y": [
          650,
          650
         ]
        },
        {
         "hoverinfo": "skip",
         "line": {
          "color": "white",
          "width": 0.5
         },
         "mode": "lines",
         "showlegend": false,
         "type": "scatter",
         "x": [
          0,
          3
         ],
         "y": [
          700,
          700
         ]
        },
        {
         "hoverinfo": "skip",
         "line": {
          "color": "white",
          "width": 0.5
         },
         "mode": "lines",
         "showlegend": false,
         "type": "scatter",
         "x": [
          0,
          3
         ],
         "y": [
          750,
          750
         ]
        },
        {
         "hoverinfo": "skip",
         "line": {
          "color": "white",
          "width": 0.5
         },
         "mode": "lines",
         "showlegend": false,
         "type": "scatter",
         "x": [
          0,
          3
         ],
         "y": [
          800,
          800
         ]
        },
        {
         "hoverinfo": "skip",
         "line": {
          "color": "white",
          "width": 0.5
         },
         "mode": "lines",
         "showlegend": false,
         "type": "scatter",
         "x": [
          0,
          3
         ],
         "y": [
          850,
          850
         ]
        },
        {
         "hoverinfo": "skip",
         "line": {
          "color": "white",
          "width": 0.5
         },
         "mode": "lines",
         "showlegend": false,
         "type": "scatter",
         "x": [
          0,
          3
         ],
         "y": [
          900,
          900
         ]
        },
        {
         "hoverinfo": "skip",
         "line": {
          "color": "white",
          "width": 0.5
         },
         "mode": "lines",
         "showlegend": false,
         "type": "scatter",
         "x": [
          0,
          3
         ],
         "y": [
          950,
          950
         ]
        },
        {
         "hoverinfo": "skip",
         "line": {
          "color": "white",
          "width": 0.5
         },
         "mode": "lines",
         "showlegend": false,
         "type": "scatter",
         "x": [
          0,
          3
         ],
         "y": [
          1000,
          1000
         ]
        },
        {
         "hoverinfo": "skip",
         "line": {
          "color": "white",
          "width": 0.5
         },
         "mode": "lines",
         "showlegend": false,
         "type": "scatter",
         "x": [
          0,
          3
         ],
         "y": [
          1050,
          1050
         ]
        },
        {
         "hoverinfo": "skip",
         "line": {
          "color": "white",
          "width": 0.5
         },
         "mode": "lines",
         "showlegend": false,
         "type": "scatter",
         "x": [
          0,
          3
         ],
         "y": [
          1100,
          1100
         ]
        },
        {
         "hoverinfo": "skip",
         "line": {
          "color": "white",
          "width": 0.5
         },
         "mode": "lines",
         "showlegend": false,
         "type": "scatter",
         "x": [
          0,
          3
         ],
         "y": [
          1150,
          1150
         ]
        },
        {
         "hoverinfo": "skip",
         "line": {
          "color": "white",
          "width": 0.5
         },
         "mode": "lines",
         "showlegend": false,
         "type": "scatter",
         "x": [
          0,
          3
         ],
         "y": [
          1200,
          1200
         ]
        },
        {
         "hoverinfo": "skip",
         "line": {
          "color": "white",
          "width": 0.5
         },
         "mode": "lines",
         "showlegend": false,
         "type": "scatter",
         "x": [
          0,
          3
         ],
         "y": [
          1250,
          1250
         ]
        },
        {
         "hoverinfo": "skip",
         "line": {
          "color": "white",
          "width": 0.5
         },
         "mode": "lines",
         "showlegend": false,
         "type": "scatter",
         "x": [
          0,
          3
         ],
         "y": [
          1300,
          1300
         ]
        },
        {
         "hoverinfo": "skip",
         "line": {
          "color": "white",
          "width": 0.5
         },
         "mode": "lines",
         "showlegend": false,
         "type": "scatter",
         "x": [
          0,
          3
         ],
         "y": [
          1350,
          1350
         ]
        },
        {
         "hoverinfo": "skip",
         "line": {
          "color": "white",
          "width": 0.5
         },
         "mode": "lines",
         "showlegend": false,
         "type": "scatter",
         "x": [
          0,
          3
         ],
         "y": [
          1400,
          1400
         ]
        },
        {
         "hoverinfo": "skip",
         "line": {
          "color": "white",
          "width": 0.5
         },
         "mode": "lines",
         "showlegend": false,
         "type": "scatter",
         "x": [
          0,
          3
         ],
         "y": [
          1450,
          1450
         ]
        },
        {
         "hoverinfo": "skip",
         "line": {
          "color": "white",
          "width": 0.5
         },
         "mode": "lines",
         "showlegend": false,
         "type": "scatter",
         "x": [
          0,
          3
         ],
         "y": [
          1500,
          1500
         ]
        },
        {
         "hoverinfo": "skip",
         "line": {
          "color": "white",
          "width": 0.5
         },
         "mode": "lines",
         "showlegend": false,
         "type": "scatter",
         "x": [
          0,
          3
         ],
         "y": [
          1550,
          1550
         ]
        },
        {
         "hoverinfo": "skip",
         "line": {
          "color": "white",
          "width": 0.5
         },
         "mode": "lines",
         "showlegend": false,
         "type": "scatter",
         "x": [
          0,
          3
         ],
         "y": [
          1600,
          1600
         ]
        },
        {
         "hoverinfo": "skip",
         "line": {
          "color": "white",
          "width": 0.5
         },
         "mode": "lines",
         "showlegend": false,
         "type": "scatter",
         "x": [
          0,
          3
         ],
         "y": [
          1650,
          1650
         ]
        },
        {
         "hoverinfo": "skip",
         "line": {
          "color": "white",
          "width": 0.5
         },
         "mode": "lines",
         "showlegend": false,
         "type": "scatter",
         "x": [
          0,
          3
         ],
         "y": [
          1700,
          1700
         ]
        },
        {
         "hoverinfo": "skip",
         "line": {
          "color": "white",
          "width": 0.5
         },
         "mode": "lines",
         "showlegend": false,
         "type": "scatter",
         "x": [
          0,
          3
         ],
         "y": [
          1750,
          1750
         ]
        },
        {
         "hoverinfo": "skip",
         "line": {
          "color": "white",
          "width": 0.5
         },
         "mode": "lines",
         "showlegend": false,
         "type": "scatter",
         "x": [
          0,
          3
         ],
         "y": [
          1800,
          1800
         ]
        },
        {
         "hoverinfo": "skip",
         "line": {
          "color": "white",
          "width": 0.5
         },
         "mode": "lines",
         "showlegend": false,
         "type": "scatter",
         "x": [
          0,
          3
         ],
         "y": [
          1850,
          1850
         ]
        },
        {
         "hoverinfo": "skip",
         "line": {
          "color": "white",
          "width": 0.5
         },
         "mode": "lines",
         "showlegend": false,
         "type": "scatter",
         "x": [
          0,
          3
         ],
         "y": [
          1900,
          1900
         ]
        },
        {
         "hoverinfo": "skip",
         "line": {
          "color": "white",
          "width": 0.5
         },
         "mode": "lines",
         "showlegend": false,
         "type": "scatter",
         "x": [
          0,
          3
         ],
         "y": [
          1950,
          1950
         ]
        },
        {
         "hoverinfo": "skip",
         "line": {
          "color": "white",
          "width": 0.5
         },
         "mode": "lines",
         "showlegend": false,
         "type": "scatter",
         "x": [
          0,
          3
         ],
         "y": [
          2000,
          2000
         ]
        },
        {
         "hoverinfo": "skip",
         "line": {
          "color": "white",
          "width": 0.5
         },
         "mode": "lines",
         "showlegend": false,
         "type": "scatter",
         "x": [
          0,
          3
         ],
         "y": [
          2050,
          2050
         ]
        },
        {
         "hoverinfo": "skip",
         "line": {
          "color": "white",
          "width": 0.5
         },
         "mode": "lines",
         "showlegend": false,
         "type": "scatter",
         "x": [
          0,
          3
         ],
         "y": [
          2100,
          2100
         ]
        },
        {
         "hoverinfo": "skip",
         "line": {
          "color": "white",
          "width": 0.5
         },
         "mode": "lines",
         "showlegend": false,
         "type": "scatter",
         "x": [
          0,
          3
         ],
         "y": [
          2150,
          2150
         ]
        },
        {
         "hoverinfo": "skip",
         "line": {
          "color": "white",
          "width": 0.5
         },
         "mode": "lines",
         "showlegend": false,
         "type": "scatter",
         "x": [
          0,
          3
         ],
         "y": [
          2200,
          2200
         ]
        },
        {
         "hoverinfo": "skip",
         "line": {
          "color": "white",
          "width": 0.5
         },
         "mode": "lines",
         "showlegend": false,
         "type": "scatter",
         "x": [
          0,
          3
         ],
         "y": [
          2250,
          2250
         ]
        },
        {
         "hoverinfo": "skip",
         "line": {
          "color": "white",
          "width": 0.5
         },
         "mode": "lines",
         "showlegend": false,
         "type": "scatter",
         "x": [
          0,
          3
         ],
         "y": [
          2300,
          2300
         ]
        },
        {
         "hoverinfo": "skip",
         "line": {
          "color": "white",
          "width": 0.5
         },
         "mode": "lines",
         "showlegend": false,
         "type": "scatter",
         "x": [
          0,
          3
         ],
         "y": [
          2350,
          2350
         ]
        },
        {
         "hoverinfo": "skip",
         "line": {
          "color": "white",
          "width": 0.5
         },
         "mode": "lines",
         "showlegend": false,
         "type": "scatter",
         "x": [
          0,
          3
         ],
         "y": [
          2400,
          2400
         ]
        },
        {
         "hoverinfo": "skip",
         "line": {
          "color": "white",
          "width": 0.5
         },
         "mode": "lines",
         "showlegend": false,
         "type": "scatter",
         "x": [
          0,
          3
         ],
         "y": [
          2450,
          2450
         ]
        },
        {
         "hoverinfo": "skip",
         "line": {
          "color": "white",
          "width": 0.5
         },
         "mode": "lines",
         "showlegend": false,
         "type": "scatter",
         "x": [
          0,
          3
         ],
         "y": [
          2500,
          2500
         ]
        },
        {
         "hoverinfo": "skip",
         "line": {
          "color": "white",
          "width": 0.5
         },
         "mode": "lines",
         "showlegend": false,
         "type": "scatter",
         "x": [
          0,
          3
         ],
         "y": [
          2550,
          2550
         ]
        },
        {
         "hoverinfo": "skip",
         "line": {
          "color": "white",
          "width": 0.5
         },
         "mode": "lines",
         "showlegend": false,
         "type": "scatter",
         "x": [
          0,
          3
         ],
         "y": [
          2600,
          2600
         ]
        },
        {
         "hoverinfo": "skip",
         "line": {
          "color": "white",
          "width": 0.5
         },
         "mode": "lines",
         "showlegend": false,
         "type": "scatter",
         "x": [
          0,
          3
         ],
         "y": [
          2650,
          2650
         ]
        },
        {
         "hoverinfo": "skip",
         "line": {
          "color": "white",
          "width": 0.5
         },
         "mode": "lines",
         "showlegend": false,
         "type": "scatter",
         "x": [
          0,
          3
         ],
         "y": [
          2700,
          2700
         ]
        },
        {
         "hoverinfo": "skip",
         "line": {
          "color": "white",
          "width": 0.5
         },
         "mode": "lines",
         "showlegend": false,
         "type": "scatter",
         "x": [
          0,
          3
         ],
         "y": [
          2750,
          2750
         ]
        },
        {
         "hoverinfo": "skip",
         "line": {
          "color": "white",
          "width": 0.5
         },
         "mode": "lines",
         "showlegend": false,
         "type": "scatter",
         "x": [
          0,
          3
         ],
         "y": [
          2800,
          2800
         ]
        },
        {
         "hoverinfo": "skip",
         "line": {
          "color": "white",
          "width": 0.5
         },
         "mode": "lines",
         "showlegend": false,
         "type": "scatter",
         "x": [
          0,
          3
         ],
         "y": [
          2850,
          2850
         ]
        },
        {
         "hoverinfo": "skip",
         "line": {
          "color": "white",
          "width": 0.5
         },
         "mode": "lines",
         "showlegend": false,
         "type": "scatter",
         "x": [
          0,
          3
         ],
         "y": [
          2900,
          2900
         ]
        },
        {
         "hoverinfo": "skip",
         "line": {
          "color": "white",
          "width": 0.5
         },
         "mode": "lines",
         "showlegend": false,
         "type": "scatter",
         "x": [
          0,
          3
         ],
         "y": [
          2950,
          2950
         ]
        },
        {
         "hoverinfo": "skip",
         "line": {
          "color": "white",
          "width": 0.5
         },
         "mode": "lines",
         "showlegend": false,
         "type": "scatter",
         "x": [
          0,
          3
         ],
         "y": [
          3000,
          3000
         ]
        },
        {
         "line": {
          "color": "black",
          "width": 2
         },
         "mode": "lines",
         "showlegend": false,
         "type": "scatter",
         "x": {
          "bdata": "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",
          "dtype": "f8"
         },
         "y": {
          "bdata": "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",
          "dtype": "f8"
         }
        }
       ],
       "layout": {
        "height": 600,
        "margin": {
         "b": 40,
         "l": 0,
         "r": 0,
         "t": 40
        },
        "paper_bgcolor": "white",
        "plot_bgcolor": "white",
        "template": {
         "data": {
          "bar": [
           {
            "error_x": {
             "color": "#2a3f5f"
            },
            "error_y": {
             "color": "#2a3f5f"
            },
            "marker": {
             "line": {
              "color": "#E5ECF6",
              "width": 0.5
             },
             "pattern": {
              "fillmode": "overlay",
              "size": 10,
              "solidity": 0.2
             }
            },
            "type": "bar"
           }
          ],
          "barpolar": [
           {
            "marker": {
             "line": {
              "color": "#E5ECF6",
              "width": 0.5
             },
             "pattern": {
              "fillmode": "overlay",
              "size": 10,
              "solidity": 0.2
             }
            },
            "type": "barpolar"
           }
          ],
          "carpet": [
           {
            "aaxis": {
             "endlinecolor": "#2a3f5f",
             "gridcolor": "white",
             "linecolor": "white",
             "minorgridcolor": "white",
             "startlinecolor": "#2a3f5f"
            },
            "baxis": {
             "endlinecolor": "#2a3f5f",
             "gridcolor": "white",
             "linecolor": "white",
             "minorgridcolor": "white",
             "startlinecolor": "#2a3f5f"
            },
            "type": "carpet"
           }
          ],
          "choropleth": [
           {
            "colorbar": {
             "outlinewidth": 0,
             "ticks": ""
            },
            "type": "choropleth"
           }
          ],
          "contour": [
           {
            "colorbar": {
             "outlinewidth": 0,
             "ticks": ""
            },
            "colorscale": [
             [
              0,
              "#0d0887"
             ],
             [
              0.1111111111111111,
              "#46039f"
             ],
             [
              0.2222222222222222,
              "#7201a8"
             ],
             [
              0.3333333333333333,
              "#9c179e"
             ],
             [
              0.4444444444444444,
              "#bd3786"
             ],
             [
              0.5555555555555556,
              "#d8576b"
             ],
             [
              0.6666666666666666,
              "#ed7953"
             ],
             [
              0.7777777777777778,
              "#fb9f3a"
             ],
             [
              0.8888888888888888,
              "#fdca26"
             ],
             [
              1,
              "#f0f921"
             ]
            ],
            "type": "contour"
           }
          ],
          "contourcarpet": [
           {
            "colorbar": {
             "outlinewidth": 0,
             "ticks": ""
            },
            "type": "contourcarpet"
           }
          ],
          "heatmap": [
           {
            "colorbar": {
             "outlinewidth": 0,
             "ticks": ""
            },
            "colorscale": [
             [
              0,
              "#0d0887"
             ],
             [
              0.1111111111111111,
              "#46039f"
             ],
             [
              0.2222222222222222,
              "#7201a8"
             ],
             [
              0.3333333333333333,
              "#9c179e"
             ],
             [
              0.4444444444444444,
              "#bd3786"
             ],
             [
              0.5555555555555556,
              "#d8576b"
             ],
             [
              0.6666666666666666,
              "#ed7953"
             ],
             [
              0.7777777777777778,
              "#fb9f3a"
             ],
             [
              0.8888888888888888,
              "#fdca26"
             ],
             [
              1,
              "#f0f921"
             ]
            ],
            "type": "heatmap"
           }
          ],
          "histogram": [
           {
            "marker": {
             "pattern": {
              "fillmode": "overlay",
              "size": 10,
              "solidity": 0.2
             }
            },
            "type": "histogram"
           }
          ],
          "histogram2d": [
           {
            "colorbar": {
             "outlinewidth": 0,
             "ticks": ""
            },
            "colorscale": [
             [
              0,
              "#0d0887"
             ],
             [
              0.1111111111111111,
              "#46039f"
             ],
             [
              0.2222222222222222,
              "#7201a8"
             ],
             [
              0.3333333333333333,
              "#9c179e"
             ],
             [
              0.4444444444444444,
              "#bd3786"
             ],
             [
              0.5555555555555556,
              "#d8576b"
             ],
             [
              0.6666666666666666,
              "#ed7953"
             ],
             [
              0.7777777777777778,
              "#fb9f3a"
             ],
             [
              0.8888888888888888,
              "#fdca26"
             ],
             [
              1,
              "#f0f921"
             ]
            ],
            "type": "histogram2d"
           }
          ],
          "histogram2dcontour": [
           {
            "colorbar": {
             "outlinewidth": 0,
             "ticks": ""
            },
            "colorscale": [
             [
              0,
              "#0d0887"
             ],
             [
              0.1111111111111111,
              "#46039f"
             ],
             [
              0.2222222222222222,
              "#7201a8"
             ],
             [
              0.3333333333333333,
              "#9c179e"
             ],
             [
              0.4444444444444444,
              "#bd3786"
             ],
             [
              0.5555555555555556,
              "#d8576b"
             ],
             [
              0.6666666666666666,
              "#ed7953"
             ],
             [
              0.7777777777777778,
              "#fb9f3a"
             ],
             [
              0.8888888888888888,
              "#fdca26"
             ],
             [
              1,
              "#f0f921"
             ]
            ],
            "type": "histogram2dcontour"
           }
          ],
          "mesh3d": [
           {
            "colorbar": {
             "outlinewidth": 0,
             "ticks": ""
            },
            "type": "mesh3d"
           }
          ],
          "parcoords": [
           {
            "line": {
             "colorbar": {
              "outlinewidth": 0,
              "ticks": ""
             }
            },
            "type": "parcoords"
           }
          ],
          "pie": [
           {
            "automargin": true,
            "type": "pie"
           }
          ],
          "scatter": [
           {
            "fillpattern": {
             "fillmode": "overlay",
             "size": 10,
             "solidity": 0.2
            },
            "type": "scatter"
           }
          ],
          "scatter3d": [
           {
            "line": {
             "colorbar": {
              "outlinewidth": 0,
              "ticks": ""
             }
            },
            "marker": {
             "colorbar": {
              "outlinewidth": 0,
              "ticks": ""
             }
            },
            "type": "scatter3d"
           }
          ],
          "scattercarpet": [
           {
            "marker": {
             "colorbar": {
              "outlinewidth": 0,
              "ticks": ""
             }
            },
            "type": "scattercarpet"
           }
          ],
          "scattergeo": [
           {
            "marker": {
             "colorbar": {
              "outlinewidth": 0,
              "ticks": ""
             }
            },
            "type": "scattergeo"
           }
          ],
          "scattergl": [
           {
            "marker": {
             "colorbar": {
              "outlinewidth": 0,
              "ticks": ""
             }
            },
            "type": "scattergl"
           }
          ],
          "scattermap": [
           {
            "marker": {
             "colorbar": {
              "outlinewidth": 0,
              "ticks": ""
             }
            },
            "type": "scattermap"
           }
          ],
          "scattermapbox": [
           {
            "marker": {
             "colorbar": {
              "outlinewidth": 0,
              "ticks": ""
             }
            },
            "type": "scattermapbox"
           }
          ],
          "scatterpolar": [
           {
            "marker": {
             "colorbar": {
              "outlinewidth": 0,
              "ticks": ""
             }
            },
            "type": "scatterpolar"
           }
          ],
          "scatterpolargl": [
           {
            "marker": {
             "colorbar": {
              "outlinewidth": 0,
              "ticks": ""
             }
            },
            "type": "scatterpolargl"
           }
          ],
          "scatterternary": [
           {
            "marker": {
             "colorbar": {
              "outlinewidth": 0,
              "ticks": ""
             }
            },
            "type": "scatterternary"
           }
          ],
          "surface": [
           {
            "colorbar": {
             "outlinewidth": 0,
             "ticks": ""
            },
            "colorscale": [
             [
              0,
              "#0d0887"
             ],
             [
              0.1111111111111111,
              "#46039f"
             ],
             [
              0.2222222222222222,
              "#7201a8"
             ],
             [
              0.3333333333333333,
              "#9c179e"
             ],
             [
              0.4444444444444444,
              "#bd3786"
             ],
             [
              0.5555555555555556,
              "#d8576b"
             ],
             [
              0.6666666666666666,
              "#ed7953"
             ],
             [
              0.7777777777777778,
              "#fb9f3a"
             ],
             [
              0.8888888888888888,
              "#fdca26"
             ],
             [
              1,
              "#f0f921"
             ]
            ],
            "type": "surface"
           }
          ],
          "table": [
           {
            "cells": {
             "fill": {
              "color": "#EBF0F8"
             },
             "line": {
              "color": "white"
             }
            },
            "header": {
             "fill": {
              "color": "#C8D4E3"
             },
             "line": {
              "color": "white"
             }
            },
            "type": "table"
           }
          ]
         },
         "layout": {
          "annotationdefaults": {
           "arrowcolor": "#2a3f5f",
           "arrowhead": 0,
           "arrowwidth": 1
          },
          "autotypenumbers": "strict",
          "coloraxis": {
           "colorbar": {
            "outlinewidth": 0,
            "ticks": ""
           }
          },
          "colorscale": {
           "diverging": [
            [
             0,
             "#8e0152"
            ],
            [
             0.1,
             "#c51b7d"
            ],
            [
             0.2,
             "#de77ae"
            ],
            [
             0.3,
             "#f1b6da"
            ],
            [
             0.4,
             "#fde0ef"
            ],
            [
             0.5,
             "#f7f7f7"
            ],
            [
             0.6,
             "#e6f5d0"
            ],
            [
             0.7,
             "#b8e186"
            ],
            [
             0.8,
             "#7fbc41"
            ],
            [
             0.9,
             "#4d9221"
            ],
            [
             1,
             "#276419"
            ]
           ],
           "sequential": [
            [
             0,
             "#0d0887"
            ],
            [
             0.1111111111111111,
             "#46039f"
            ],
            [
             0.2222222222222222,
             "#7201a8"
            ],
            [
             0.3333333333333333,
             "#9c179e"
            ],
            [
             0.4444444444444444,
             "#bd3786"
            ],
            [
             0.5555555555555556,
             "#d8576b"
            ],
            [
             0.6666666666666666,
             "#ed7953"
            ],
            [
             0.7777777777777778,
             "#fb9f3a"
            ],
            [
             0.8888888888888888,
             "#fdca26"
            ],
            [
             1,
             "#f0f921"
            ]
           ],
           "sequentialminus": [
            [
             0,
             "#0d0887"
            ],
            [
             0.1111111111111111,
             "#46039f"
            ],
            [
             0.2222222222222222,
             "#7201a8"
            ],
            [
             0.3333333333333333,
             "#9c179e"
            ],
            [
             0.4444444444444444,
             "#bd3786"
            ],
            [
             0.5555555555555556,
             "#d8576b"
            ],
            [
             0.6666666666666666,
             "#ed7953"
            ],
            [
             0.7777777777777778,
             "#fb9f3a"
            ],
            [
             0.8888888888888888,
             "#fdca26"
            ],
            [
             1,
             "#f0f921"
            ]
           ]
          },
          "colorway": [
           "#636efa",
           "#EF553B",
           "#00cc96",
           "#ab63fa",
           "#FFA15A",
           "#19d3f3",
           "#FF6692",
           "#B6E880",
           "#FF97FF",
           "#FECB52"
          ],
          "font": {
           "color": "#2a3f5f"
          },
          "geo": {
           "bgcolor": "white",
           "lakecolor": "white",
           "landcolor": "#E5ECF6",
           "showlakes": true,
           "showland": true,
           "subunitcolor": "white"
          },
          "hoverlabel": {
           "align": "left"
          },
          "hovermode": "closest",
          "mapbox": {
           "style": "light"
          },
          "paper_bgcolor": "white",
          "plot_bgcolor": "#E5ECF6",
          "polar": {
           "angularaxis": {
            "gridcolor": "white",
            "linecolor": "white",
            "ticks": ""
           },
           "bgcolor": "#E5ECF6",
           "radialaxis": {
            "gridcolor": "white",
            "linecolor": "white",
            "ticks": ""
           }
          },
          "scene": {
           "xaxis": {
            "backgroundcolor": "#E5ECF6",
            "gridcolor": "white",
            "gridwidth": 2,
            "linecolor": "white",
            "showbackground": true,
            "ticks": "",
            "zerolinecolor": "white"
           },
           "yaxis": {
            "backgroundcolor": "#E5ECF6",
            "gridcolor": "white",
            "gridwidth": 2,
            "linecolor": "white",
            "showbackground": true,
            "ticks": "",
            "zerolinecolor": "white"
           },
           "zaxis": {
            "backgroundcolor": "#E5ECF6",
            "gridcolor": "white",
            "gridwidth": 2,
            "linecolor": "white",
            "showbackground": true,
            "ticks": "",
            "zerolinecolor": "white"
           }
          },
          "shapedefaults": {
           "line": {
            "color": "#2a3f5f"
           }
          },
          "ternary": {
           "aaxis": {
            "gridcolor": "white",
            "linecolor": "white",
            "ticks": ""
           },
           "baxis": {
            "gridcolor": "white",
            "linecolor": "white",
            "ticks": ""
           },
           "bgcolor": "#E5ECF6",
           "caxis": {
            "gridcolor": "white",
            "linecolor": "white",
            "ticks": ""
           }
          },
          "title": {
           "x": 0.05
          },
          "xaxis": {
           "automargin": true,
           "gridcolor": "white",
           "linecolor": "white",
           "ticks": "",
           "title": {
            "standoff": 15
           },
           "zerolinecolor": "white",
           "zerolinewidth": 2
          },
          "yaxis": {
           "automargin": true,
           "gridcolor": "white",
           "linecolor": "white",
           "ticks": "",
           "title": {
            "standoff": 15
           },
           "zerolinecolor": "white",
           "zerolinewidth": 2
          }
         }
        },
        "width": 300,
        "xaxis": {
         "range": [
          0,
          3
         ],
         "ticktext": [
          "Fracture",
          "Propagation",
          "0.0",
          "0.3",
          "0.6",
          "0.9"
         ],
         "tickvals": [
          0.5,
          1.5,
          2,
          2.3,
          2.6,
          2.9
         ]
        },
        "yaxis": {
         "autorange": false,
         "domain": [
          0,
          1
         ],
         "range": [
          3000,
          -200
         ],
         "showticklabels": false
        }
       }
      }
     },
     "metadata": {},
     "output_type": "display_data"
    }
   ],
   "source": [
    "from plotly_snow_profile import criticality_heatmap\n",
    "\n",
    "crit_hm_fig = criticality_heatmap(plot_weaklayer, plot_layers, dataframe)\n",
    "crit_hm_fig.show()"
   ]
  },
  {
   "cell_type": "code",
   "execution_count": 31,
   "id": "aad32184",
   "metadata": {},
   "outputs": [
    {
     "data": {
      "image/png": "[encoded data removed]",
      "text/plain": [
       "<Figure size 1000x1000 with 1 Axes>"
      ]
     },
     "metadata": {},
     "output_type": "display_data"
    },
    {
     "data": {
      "image/png": "[encoded data removed]",
      "text/plain": [
       "<Figure size 1000x1000 with 1 Axes>"
      ]
     },
     "metadata": {},
     "output_type": "display_data"
    },
    {
     "data": {
      "image/png": "[encoded data removed]",
      "text/plain": [
       "<Figure size 1000x1000 with 1 Axes>"
      ]
     },
     "metadata": {},
     "output_type": "display_data"
    }
   ],
   "source": [
    "import matplotlib.pyplot as plt\n",
    "plt.figure(figsize=(10, 10))\n",
    "plt.plot(dataframe[\"wl_depth\"], dataframe[\"impact_criterion\"], label=\"Impact Criterion\")\n",
    "plt.plot(dataframe[\"wl_depth\"], dataframe[\"coupled_criterion\"], label=\"Coupled Criterion\")\n",
    "# plot vertical lines at the end of each layer\n",
    "for i, height in enumerate(heights):\n",
    "    plt.axvline(x=height, color=\"black\", linestyle=\"--\")\n",
    "plt.legend()\n",
    "plt.show()\n",
    "\n",
    "plt.figure(figsize=(10, 10))\n",
    "plt.plot(dataframe[\"wl_depth\"], dataframe[\"sserr_result\"], label=\"SSERR\")\n",
    "# plt.ylim(0, 4000)\n",
    "plt.legend()\n",
    "plt.show()\n",
    "\n",
    "plt.figure(figsize=(10, 10))\n",
    "plt.plot(dataframe[\"wl_depth\"], dataframe[\"touchdown_distance\"], label=\"Touchdown Distance\")\n",
    "plt.legend()\n",
    "plt.show()"
   ]
  },
  {
   "cell_type": "code",
   "execution_count": 261,
   "id": "c413e74f",
   "metadata": {},
   "outputs": [],
   "source": [
    "from PIL import Image\n",
    "from io import BytesIO\n",
    "\n",
    "figures = [crit_plots_fig, snow_profile_fig, crit_hm_fig]\n",
    "\n",
    "images = []\n",
    "for fig in figures:\n",
    "    width = fig.layout.width*2\n",
    "    height = fig.layout.height*2\n",
    "    img_bytes = fig.to_image(format=\"png\", width=width, height=height, scale=2)\n",
    "    image = Image.open(BytesIO(img_bytes))\n",
    "    images.append(image)\n",
    "\n",
    "total_width = sum(im.width for im in images)\n",
    "max_height = max(im.height for im in images)\n",
    "combined = Image.new(\"RGB\", (total_width, max_height), color=(255, 255, 255))\n",
    "x_offset = 0\n",
    "for im in images:\n",
    "    combined.paste(im, (x_offset, 0))\n",
    "    x_offset += im.width\n",
    "\n",
    "combined.save(\"combined.png\")"
   ]
  },
  {
   "cell_type": "code",
   "execution_count": null,
   "id": "51fbfead",
   "metadata": {},
   "outputs": [],
   "source": []
  }
 ],
 "metadata": {
  "kernelspec": {
   "display_name": "weac",
   "language": "python",
   "name": "python3"
  },
  "language_info": {
   "codemirror_mode": {
    "name": "ipython",
    "version": 3
   },
   "file_extension": ".py",
   "mimetype": "text/x-python",
   "name": "python",
   "nbconvert_exporter": "python",
   "pygments_lexer": "ipython3",
   "version": "3.10.18"
  }
 },
 "nbformat": 4,
 "nbformat_minor": 5
}
