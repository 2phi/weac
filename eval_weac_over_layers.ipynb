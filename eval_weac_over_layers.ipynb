{
 "cells": [
  {
   "cell_type": "markdown",
   "id": "b89b0130",
   "metadata": {},
   "source": [
    "# Eval WEAC\n",
    "\n",
    "Initialize models, run over a resolution of 5cm with a standardized weak layer.\n"
   ]
  },
  {
   "cell_type": "code",
   "execution_count": 30,
   "id": "702d9bf5",
   "metadata": {},
   "outputs": [
    {
     "name": "stdout",
     "output_type": "stream",
     "text": [
      "The autoreload extension is already loaded. To reload it, use:\n",
      "  %reload_ext autoreload\n"
     ]
    }
   ],
   "source": [
    "# Auto reload modules\n",
    "%load_ext autoreload\n",
    "%autoreload all"
   ]
  },
  {
   "cell_type": "code",
   "execution_count": 31,
   "id": "1e07d9a5",
   "metadata": {},
   "outputs": [],
   "source": [
    "import os\n",
    "from typing import List\n",
    "import numpy as np\n",
    "from numpy.linalg import LinAlgError\n",
    "import pandas as pd\n",
    "from pprint import pprint\n",
    "import copy\n",
    "from tqdm.notebook import tqdm\n",
    "\n",
    "from weac_2.analysis import Analyzer, CriteriaEvaluator, CoupledCriterionResult, SSERRResult\n",
    "from weac_2.core.system_model import SystemModel\n",
    "from weac_2.components import ModelInput, Segment, ScenarioConfig, WeakLayer, Layer, CriteriaConfig\n",
    "from weac_2.utils.snowpilot_parser import SnowPilotParser, convert_to_mm, convert_to_deg"
   ]
  },
  {
   "cell_type": "code",
   "execution_count": 32,
   "id": "ca4092ad",
   "metadata": {},
   "outputs": [
    {
     "name": "stdout",
     "output_type": "stream",
     "text": [
      "\n",
      "Found 1 files\n"
     ]
    }
   ],
   "source": [
    "number_of_files = 1\n",
    "\n",
    "# Process multiple files\n",
    "file_paths = []\n",
    "for directory in os.listdir(\"data/snowpits\"):\n",
    "    for file in os.listdir(f\"data/snowpits/{directory}\"):\n",
    "        if file.endswith(\".xml\"):\n",
    "            file_paths.append(f\"data/snowpits/{directory}/{file}\")\n",
    "\n",
    "paths: List[str] = []\n",
    "parsers: List[SnowPilotParser] = []\n",
    "\n",
    "for file_path in file_paths[:number_of_files]:\n",
    "    snowpilot_parser = SnowPilotParser(file_path)\n",
    "    paths.append(file_path)\n",
    "    parsers.append(snowpilot_parser)\n",
    "\n",
    "print(f\"\\nFound {len(paths)} files\")"
   ]
  },
  {
   "cell_type": "code",
   "execution_count": 33,
   "id": "1c50535a",
   "metadata": {},
   "outputs": [],
   "source": [
    "# Setup standard values\n",
    "wl_spacing = 50 # mm\n",
    "phi = 0.0\n",
    "standard_scenario_config = ScenarioConfig(system_type=\"skier\", phi=phi)\n",
    "standard_weak_layer = WeakLayer(rho=125, h=20, E=1.0, sigma_c=5.16, tau_c=4.09)\n",
    "standard_segments = [\n",
    "    Segment(length=10000, has_foundation=True, m=0.0),\n",
    "    Segment(\n",
    "        length=10000,\n",
    "        has_foundation=True,\n",
    "        m=0.0,\n",
    "    ),\n",
    "]\n",
    "standard_criteria_config = CriteriaConfig()\n",
    "standard_criteria_evaluator = CriteriaEvaluator(standard_criteria_config)"
   ]
  },
  {
   "cell_type": "code",
   "execution_count": 34,
   "id": "29a5c086",
   "metadata": {},
   "outputs": [
    {
     "data": {
      "application/vnd.jupyter.widget-view+json": {
       "model_id": "28cd3b1717e94c8a8205e3827db316dd",
       "version_major": 2,
       "version_minor": 0
      },
      "text/plain": [
       "Processing files:   0%|          | 0/1 [00:00<?, ?it/s]"
      ]
     },
     "metadata": {},
     "output_type": "display_data"
    },
    {
     "name": "stdout",
     "output_type": "stream",
     "text": [
      "layers:  [Layer(rho=101.0, h=100.0, nu=0.25, E=0.3963944665536936, G=0.15855778662147743, tensile_strength=1.103877672602255, tensile_strength_method='sigrist', E_method='bergfeld', grain_type='DF', grain_size=None, hand_hardness='F'), Layer(rho=173.0, h=170.0, nu=0.25, E=4.231714820461142, G=1.6926859281844568, tensile_strength=4.1040183019389715, tensile_strength_method='sigrist', E_method='bergfeld', grain_type='DF', grain_size=None, hand_hardness='1F'), Layer(rho=137.0, h=30.0, nu=0.25, E=1.515947056821604, G=0.6063788227286416, tensile_strength=2.3226029915382136, tensile_strength_method='sigrist', E_method='bergfeld', grain_type='DF', grain_size=None, hand_hardness='4F'), Layer(rho=209.0, h=300.0, nu=0.25, E=9.722035388607377, G=3.888814155442951, tensile_strength=6.509291720550219, tensile_strength_method='sigrist', E_method='bergfeld', grain_type='DF', grain_size=None, hand_hardness='P'), Layer(rho=163.7, h=20.0, nu=0.25, E=3.318392308727041, G=1.3273569234908165, tensile_strength=3.586373980194787, tensile_strength_method='sigrist', E_method='bergfeld', grain_type=None, grain_size=None, hand_hardness='4F+'), Layer(rho=292.25, h=2380.0, nu=0.25, E=42.50435458798165, G=17.00174183519266, tensile_strength=14.750876454728399, tensile_strength_method='sigrist', E_method='bergfeld', grain_type='MFcr', grain_size=None, hand_hardness='P+')]\n"
     ]
    },
    {
     "data": {
      "application/vnd.jupyter.widget-view+json": {
       "model_id": "4ac44ee4b8bc4c79a051cc3ec24573f5",
       "version_major": 2,
       "version_minor": 0
      },
      "text/plain": [
       "Processing weak layers:   0%|          | 0/60 [00:00<?, ?it/s]"
      ]
     },
     "metadata": {},
     "output_type": "display_data"
    },
    {
     "name": "stdout",
     "output_type": "stream",
     "text": [
      "skier_weight:  0.0\n",
      "skier_weight:  300.0\n",
      "skier_weight:  0.3833621036870978\n",
      "skier_weight:  150.19168105184355\n",
      "skier_weight:  1.1452221954307369\n",
      "skier_weight:  66.89661499163618\n",
      "skier_weight:  2.8094452520050845\n",
      "skier_weight:  27.93151754442327\n",
      "skier_weight:  6.25764937290583\n",
      "skier_weight:  13.52146858231281\n",
      "skier_weight:  10.000274801039712\n",
      "skier_weight:  10.556060966777528\n",
      "skier_weight:  10.633684636007157\n",
      "skier_weight:  10.631184636007152\n",
      "--- find_minimum_force Call Statistics ---\n",
      "- rasterize_solution: called 16 times, total time 0.7053s, avg time 0.0441s\n",
      "---------------------------------\n",
      "--- evaluate_coupled_criterion Call Statistics ---\n",
      "- rasterize_solution: called 12 times, total time 0.4918s, avg time 0.0410s\n",
      "- incremental_ERR: called 13 times, total time 0.0570s, avg time 0.0044s\n",
      "---------------------------------\n",
      "\n",
      "wl_depth:  50.0\n",
      "ImpactCriterion:  10.633684636007157\n",
      "CoupledCriterion:  17.144713622886936\n",
      "Touchdown distance:  491.8049937756792\n",
      "SSERR:  0.9953467633129917\n",
      "skier_weight:  0.0\n",
      "skier_weight:  300.0\n",
      "skier_weight:  0.8277811535025456\n",
      "skier_weight:  150.41389057675127\n",
      "skier_weight:  2.458960011837016\n",
      "skier_weight:  64.20200832307604\n",
      "skier_weight:  6.048128182100577\n",
      "skier_weight:  27.85230459010506\n",
      "skier_weight:  12.101445490319735\n",
      "skier_weight:  16.431715366051307\n",
      "skier_weight:  15.376366260322587\n",
      "skier_weight:  15.483076218934706\n",
      "skier_weight:  15.486285410764427\n",
      "--- find_minimum_force Call Statistics ---\n",
      "- rasterize_solution: called 15 times, total time 0.6406s, avg time 0.0427s\n",
      "---------------------------------\n",
      "--- evaluate_coupled_criterion Call Statistics ---\n",
      "- rasterize_solution: called 13 times, total time 0.5582s, avg time 0.0429s\n",
      "- incremental_ERR: called 14 times, total time 0.0656s, avg time 0.0047s\n",
      "---------------------------------\n",
      "\n",
      "wl_depth:  100.0\n",
      "ImpactCriterion:  15.486285410764427\n",
      "CoupledCriterion:  24.156506879366\n",
      "Touchdown distance:  668.8015294508851\n",
      "SSERR:  1.9102495884965296\n",
      "skier_weight:  0.0\n",
      "skier_weight:  300.0\n",
      "skier_weight:  4.905164375400165\n",
      "skier_weight:  152.4525821877001\n",
      "skier_weight:  13.946883742168946\n",
      "skier_weight:  68.86557762818518\n",
      "skier_weight:  28.58636144269945\n",
      "skier_weight:  39.70965604867801\n",
      "skier_weight:  36.888222704379665\n",
      "skier_weight:  37.18348445878651\n",
      "skier_weight:  37.193159952197284\n",
      "skier_weight:  37.190659952197265\n",
      "--- find_minimum_force Call Statistics ---\n",
      "- rasterize_solution: called 14 times, total time 0.6329s, avg time 0.0452s\n",
      "---------------------------------\n",
      "--- evaluate_coupled_criterion Call Statistics ---\n",
      "- rasterize_solution: called 14 times, total time 0.6191s, avg time 0.0442s\n",
      "- incremental_ERR: called 15 times, total time 0.0662s, avg time 0.0044s\n",
      "---------------------------------\n",
      "\n",
      "wl_depth:  150.0\n",
      "ImpactCriterion:  37.193159952197284\n",
      "CoupledCriterion:  54.63723776910824\n",
      "Touchdown distance:  995.9335661899373\n",
      "SSERR:  3.063542938011932\n",
      "skier_weight:  0.0\n",
      "skier_weight:  300.0\n",
      "skier_weight:  8.86447648435493\n",
      "skier_weight:  154.43223824217745\n",
      "skier_weight:  24.16178111304916\n",
      "skier_weight:  71.69754444623698\n",
      "skier_weight:  43.839794622608565\n",
      "skier_weight:  50.09213045490863\n",
      "skier_weight:  49.35793829451266\n",
      "skier_weight:  49.3965741902698\n",
      "skier_weight:  49.39907419026982\n",
      "--- find_minimum_force Call Statistics ---\n",
      "- rasterize_solution: called 13 times, total time 0.5807s, avg time 0.0447s\n",
      "---------------------------------\n",
      "--- evaluate_coupled_criterion Call Statistics ---\n",
      "- rasterize_solution: called 14 times, total time 0.6144s, avg time 0.0439s\n",
      "- incremental_ERR: called 15 times, total time 0.0655s, avg time 0.0044s\n",
      "---------------------------------\n",
      "\n",
      "wl_depth:  200.0\n",
      "ImpactCriterion:  49.3965741902698\n",
      "CoupledCriterion:  72.38349791824021\n",
      "Touchdown distance:  1159.1075495511768\n",
      "SSERR:  4.43090123090463\n",
      "skier_weight:  0.0\n",
      "skier_weight:  300.0\n",
      "skier_weight:  12.98515103829422\n",
      "skier_weight:  156.4925755191471\n",
      "skier_weight:  33.90457941808276\n",
      "skier_weight:  75.20479616205213\n",
      "skier_weight:  55.67647959597197\n",
      "skier_weight:  58.72297251282831\n",
      "skier_weight:  59.12222353420121\n",
      "skier_weight:  59.119723534201185\n",
      "--- find_minimum_force Call Statistics ---\n",
      "- rasterize_solution: called 12 times, total time 0.5275s, avg time 0.0440s\n",
      "---------------------------------\n",
      "--- evaluate_coupled_criterion Call Statistics ---\n",
      "- rasterize_solution: called 6 times, total time 0.2618s, avg time 0.0436s\n",
      "- incremental_ERR: called 7 times, total time 0.0306s, avg time 0.0044s\n",
      "---------------------------------\n",
      "\n",
      "wl_depth:  250.0\n",
      "ImpactCriterion:  59.119723534201185\n",
      "CoupledCriterion:  87.09998018812233\n",
      "Touchdown distance:  1328.2598930323156\n",
      "SSERR:  5.8139092062214\n",
      "skier_weight:  0.0\n",
      "skier_weight:  300.0\n",
      "skier_weight:  15.683783745675779\n",
      "skier_weight:  157.8418918728379\n",
      "skier_weight:  39.7693862145766\n",
      "skier_weight:  77.292049664426\n",
      "skier_weight:  61.87065328298596\n",
      "skier_weight:  64.1311933053672\n",
      "skier_weight:  64.34418910217849\n",
      "skier_weight:  64.34168910217846\n",
      "--- find_minimum_force Call Statistics ---\n",
      "- rasterize_solution: called 12 times, total time 0.5388s, avg time 0.0449s\n",
      "---------------------------------\n",
      "--- evaluate_coupled_criterion Call Statistics ---\n",
      "- rasterize_solution: called 14 times, total time 0.6578s, avg time 0.0470s\n",
      "- incremental_ERR: called 15 times, total time 0.0711s, avg time 0.0047s\n",
      "---------------------------------\n",
      "\n",
      "wl_depth:  300.0\n",
      "ImpactCriterion:  64.34418910217849\n",
      "CoupledCriterion:  95.54252012251303\n",
      "Touchdown distance:  1407.6574428595309\n",
      "SSERR:  7.075549621193993\n",
      "skier_weight:  0.0\n",
      "skier_weight:  300.0\n",
      "skier_weight:  24.49709922616351\n",
      "skier_weight:  171.1748928726168\n",
      "skier_weight:  56.049537002885444\n",
      "skier_weight:  88.09803676955538\n",
      "skier_weight:  78.42061750512808\n",
      "skier_weight:  79.59247077269399\n",
      "skier_weight:  79.64866952638313\n",
      "skier_weight:  79.64616952638309\n",
      "--- find_minimum_force Call Statistics ---\n",
      "- rasterize_solution: called 12 times, total time 0.5517s, avg time 0.0460s\n",
      "---------------------------------\n",
      "--- evaluate_coupled_criterion Call Statistics ---\n",
      "- rasterize_solution: called 14 times, total time 0.6323s, avg time 0.0452s\n",
      "- incremental_ERR: called 15 times, total time 0.0682s, avg time 0.0045s\n",
      "---------------------------------\n",
      "\n",
      "wl_depth:  350.0\n",
      "ImpactCriterion:  79.64866952638313\n",
      "CoupledCriterion:  118.55901830583107\n",
      "Touchdown distance:  1755.697995615746\n",
      "SSERR:  8.619626068731598\n",
      "skier_weight:  0.0\n",
      "skier_weight:  300.0\n",
      "skier_weight:  32.54410444103584\n",
      "skier_weight:  169.06503353406026\n",
      "skier_weight:  70.88395829123036\n",
      "skier_weight:  95.87843139902856\n",
      "skier_weight:  90.47121295609092\n",
      "skier_weight:  90.971353283657\n",
      "skier_weight:  90.98318960467856\n",
      "skier_weight:  90.98068960467852\n",
      "--- find_minimum_force Call Statistics ---\n",
      "- rasterize_solution: called 12 times, total time 0.5288s, avg time 0.0441s\n",
      "---------------------------------\n",
      "--- evaluate_coupled_criterion Call Statistics ---\n",
      "- rasterize_solution: called 15 times, total time 0.6856s, avg time 0.0457s\n",
      "- incremental_ERR: called 16 times, total time 0.0738s, avg time 0.0046s\n",
      "---------------------------------\n",
      "\n",
      "wl_depth:  400.0\n",
      "ImpactCriterion:  90.98318960467856\n",
      "CoupledCriterion:  135.62489901559647\n",
      "Touchdown distance:  1922.604346954442\n",
      "SSERR:  10.2350544486551\n",
      "skier_weight:  0.0\n",
      "skier_weight:  300.0\n",
      "skier_weight:  40.10715234589318\n",
      "skier_weight:  166.89583718490684\n",
      "skier_weight:  83.48858788961087\n",
      "skier_weight:  103.02680632074821\n",
      "skier_weight:  99.95128268277159\n",
      "skier_weight:  100.16559359434928\n",
      "skier_weight:  100.16821851826155\n",
      "--- find_minimum_force Call Statistics ---\n",
      "- rasterize_solution: called 11 times, total time 0.5051s, avg time 0.0459s\n",
      "---------------------------------\n",
      "--- evaluate_coupled_criterion Call Statistics ---\n",
      "- rasterize_solution: called 12 times, total time 0.5499s, avg time 0.0458s\n",
      "- incremental_ERR: called 13 times, total time 0.0602s, avg time 0.0046s\n",
      "---------------------------------\n",
      "\n",
      "wl_depth:  450.0\n",
      "ImpactCriterion:  100.16821851826155\n",
      "CoupledCriterion:  149.7747190597015\n",
      "Touchdown distance:  2052.5188749712047\n",
      "SSERR:  11.8735033679108\n",
      "skier_weight:  0.0\n",
      "skier_weight:  300.0\n",
      "skier_weight:  47.23412160898223\n",
      "skier_weight:  165.04911233209057\n",
      "skier_weight:  94.22328304479258\n",
      "skier_weight:  109.54940155617648\n",
      "skier_weight:  107.77544857353462\n",
      "skier_weight:  107.86822575248934\n",
      "skier_weight:  107.87072575248939\n",
      "--- find_minimum_force Call Statistics ---\n",
      "- rasterize_solution: called 11 times, total time 0.4967s, avg time 0.0452s\n",
      "---------------------------------\n",
      "--- evaluate_coupled_criterion Call Statistics ---\n",
      "- rasterize_solution: called 13 times, total time 0.5930s, avg time 0.0456s\n",
      "- incremental_ERR: called 14 times, total time 0.0646s, avg time 0.0046s\n",
      "---------------------------------\n",
      "\n",
      "wl_depth:  500.0\n",
      "ImpactCriterion:  107.86822575248934\n",
      "CoupledCriterion:  161.94573279114178\n",
      "Touchdown distance:  2169.3503232360845\n",
      "SSERR:  13.522958839375505\n",
      "skier_weight:  0.0\n",
      "skier_weight:  300.0\n",
      "skier_weight:  53.91331177222047\n",
      "skier_weight:  163.56230252225242\n",
      "skier_weight:  103.33555338764961\n",
      "skier_weight:  115.40800262339138\n",
      "skier_weight:  114.37135112822855\n",
      "skier_weight:  114.41209971974278\n",
      "skier_weight:  114.41459971974284\n",
      "--- find_minimum_force Call Statistics ---\n",
      "- rasterize_solution: called 11 times, total time 0.5141s, avg time 0.0467s\n",
      "---------------------------------\n",
      "--- evaluate_coupled_criterion Call Statistics ---\n",
      "- rasterize_solution: called 14 times, total time 0.6626s, avg time 0.0473s\n",
      "- incremental_ERR: called 15 times, total time 0.0724s, avg time 0.0048s\n",
      "---------------------------------\n",
      "\n",
      "wl_depth:  550.0\n",
      "ImpactCriterion:  114.41209971974278\n",
      "CoupledCriterion:  172.5376223072813\n",
      "Touchdown distance:  2279.46696103301\n",
      "SSERR:  15.17883210056106\n",
      "skier_weight:  0.0\n",
      "skier_weight:  300.0\n",
      "skier_weight:  60.116827070382236\n",
      "skier_weight:  162.37577105881257\n",
      "skier_weight:  111.02825525976931\n",
      "skier_weight:  120.58327405055626\n",
      "skier_weight:  119.9694013830938\n",
      "skier_weight:  119.987617165656\n",
      "skier_weight:  119.99011716565606\n",
      "--- find_minimum_force Call Statistics ---\n",
      "- rasterize_solution: called 11 times, total time 0.5086s, avg time 0.0462s\n",
      "---------------------------------\n",
      "--- evaluate_coupled_criterion Call Statistics ---\n",
      "- rasterize_solution: called 13 times, total time 0.6456s, avg time 0.0497s\n",
      "- incremental_ERR: called 14 times, total time 0.0663s, avg time 0.0047s\n",
      "---------------------------------\n",
      "\n",
      "wl_depth:  600.0\n",
      "ImpactCriterion:  119.987617165656\n",
      "CoupledCriterion:  181.8968042515056\n",
      "Touchdown distance:  2384.7644157355303\n",
      "SSERR:  16.838864751758685\n",
      "skier_weight:  0.0\n",
      "skier_weight:  300.0\n",
      "skier_weight:  76.37465622577041\n",
      "skier_weight:  168.13160474576537\n",
      "skier_weight:  129.24917382929289\n",
      "skier_weight:  134.71856011650712\n",
      "skier_weight:  135.24451577352838\n",
      "skier_weight:  135.24201577352832\n",
      "--- find_minimum_force Call Statistics ---\n",
      "- rasterize_solution: called 10 times, total time 0.4538s, avg time 0.0454s\n",
      "---------------------------------\n",
      "--- evaluate_coupled_criterion Call Statistics ---\n",
      "- rasterize_solution: called 12 times, total time 0.5347s, avg time 0.0446s\n",
      "- incremental_ERR: called 13 times, total time 0.0606s, avg time 0.0047s\n",
      "---------------------------------\n",
      "\n",
      "wl_depth:  650.0\n",
      "ImpactCriterion:  135.24201577352832\n",
      "CoupledCriterion:  205.51668596686434\n",
      "Touchdown distance:  2699.2129483409212\n",
      "SSERR:  18.579195222368906\n",
      "skier_weight:  0.0\n",
      "skier_weight:  300.0\n",
      "skier_weight:  97.14042394240583\n",
      "skier_weight:  176.32299452124283\n",
      "skier_weight:  149.42526145384468\n",
      "skier_weight:  152.70208220193507\n",
      "skier_weight:  152.8914877489275\n",
      "skier_weight:  152.88898774892743\n",
      "--- find_minimum_force Call Statistics ---\n",
      "- rasterize_solution: called 10 times, total time 0.4374s, avg time 0.0437s\n",
      "---------------------------------\n",
      "--- evaluate_coupled_criterion Call Statistics ---\n",
      "- rasterize_solution: called 14 times, total time 0.6347s, avg time 0.0453s\n",
      "- incremental_ERR: called 15 times, total time 0.0691s, avg time 0.0046s\n",
      "---------------------------------\n",
      "\n",
      "wl_depth:  700.0\n",
      "ImpactCriterion:  152.8914877489275\n",
      "CoupledCriterion:  231.87108328772632\n",
      "Touchdown distance:  2953.709451130284\n",
      "SSERR:  20.736214747029383\n",
      "skier_weight:  0.0\n",
      "skier_weight:  300.0\n",
      "skier_weight:  113.30294547357585\n",
      "skier_weight:  182.40007609064685\n",
      "skier_weight:  163.12695259264567\n",
      "skier_weight:  165.15118268935578\n",
      "skier_weight:  165.22723745687617\n",
      "skier_weight:  165.22473745687608\n",
      "--- find_minimum_force Call Statistics ---\n",
      "- rasterize_solution: called 10 times, total time 0.4414s, avg time 0.0441s\n",
      "---------------------------------\n",
      "--- evaluate_coupled_criterion Call Statistics ---\n",
      "- rasterize_solution: called 13 times, total time 0.5893s, avg time 0.0453s\n",
      "- incremental_ERR: called 14 times, total time 0.0644s, avg time 0.0046s\n",
      "---------------------------------\n",
      "\n",
      "wl_depth:  750.0\n",
      "ImpactCriterion:  165.22723745687617\n",
      "CoupledCriterion:  250.47840084379027\n",
      "Touchdown distance:  3110.0187560770137\n",
      "SSERR:  22.96078306441234\n",
      "skier_weight:  0.0\n",
      "skier_weight:  300.0\n",
      "skier_weight:  126.00520189146168\n",
      "skier_weight:  187.05597848827804\n",
      "skier_weight:  172.81955849357666\n",
      "skier_weight:  174.1133271646724\n",
      "skier_weight:  174.14658685555847\n",
      "skier_weight:  174.14408685555838\n",
      "--- find_minimum_force Call Statistics ---\n",
      "- rasterize_solution: called 10 times, total time 0.4603s, avg time 0.0460s\n",
      "---------------------------------\n",
      "--- evaluate_coupled_criterion Call Statistics ---\n",
      "- rasterize_solution: called 11 times, total time 0.4976s, avg time 0.0452s\n",
      "- incremental_ERR: called 12 times, total time 0.0571s, avg time 0.0048s\n",
      "---------------------------------\n",
      "\n",
      "wl_depth:  800.0\n",
      "ImpactCriterion:  174.14658685555847\n",
      "CoupledCriterion:  264.2121744197865\n",
      "Touchdown distance:  3233.3914378944755\n",
      "SSERR:  25.210306528540027\n",
      "skier_weight:  0.0\n",
      "skier_weight:  300.0\n",
      "skier_weight:  135.9560415732957\n",
      "skier_weight:  190.53841443646473\n",
      "skier_weight:  179.74047382164133\n",
      "skier_weight:  180.5951646488434\n",
      "skier_weight:  180.61078507456187\n",
      "skier_weight:  180.6082850745618\n",
      "--- find_minimum_force Call Statistics ---\n",
      "- rasterize_solution: called 10 times, total time 0.4471s, avg time 0.0447s\n",
      "---------------------------------\n",
      "--- evaluate_coupled_criterion Call Statistics ---\n",
      "- rasterize_solution: called 14 times, total time 0.6371s, avg time 0.0455s\n",
      "- incremental_ERR: called 15 times, total time 0.0690s, avg time 0.0046s\n",
      "---------------------------------\n",
      "\n",
      "wl_depth:  850.0\n",
      "ImpactCriterion:  180.61078507456187\n",
      "CoupledCriterion:  274.79042446331096\n",
      "Touchdown distance:  3344.277142173778\n",
      "SSERR:  27.47223023690845\n",
      "skier_weight:  0.0\n",
      "skier_weight:  300.0\n",
      "skier_weight:  143.6130155634527\n",
      "skier_weight:  192.9526371810984\n",
      "skier_weight:  184.56600115590163\n",
      "skier_weight:  185.14875785593355\n",
      "skier_weight:  185.1565700221307\n",
      "skier_weight:  185.1540700221306\n",
      "--- find_minimum_force Call Statistics ---\n",
      "- rasterize_solution: called 10 times, total time 0.4531s, avg time 0.0453s\n",
      "---------------------------------\n",
      "--- evaluate_coupled_criterion Call Statistics ---\n",
      "- rasterize_solution: called 14 times, total time 0.6385s, avg time 0.0456s\n",
      "- incremental_ERR: called 15 times, total time 0.0729s, avg time 0.0049s\n",
      "---------------------------------\n",
      "\n",
      "wl_depth:  900.0\n",
      "ImpactCriterion:  185.1565700221307\n",
      "CoupledCriterion:  282.83558854634833\n",
      "Touchdown distance:  3450.595488961356\n",
      "SSERR:  29.741408254765574\n",
      "skier_weight:  0.0\n",
      "skier_weight:  300.0\n",
      "skier_weight:  149.28126285805263\n",
      "skier_weight:  194.3437501515496\n",
      "skier_weight:  187.68596895731406\n",
      "skier_weight:  188.09556011717217\n",
      "skier_weight:  188.0996984490077\n",
      "--- find_minimum_force Call Statistics ---\n",
      "- rasterize_solution: called 9 times, total time 0.4156s, avg time 0.0462s\n",
      "---------------------------------\n",
      "--- evaluate_coupled_criterion Call Statistics ---\n",
      "- rasterize_solution: called 13 times, total time 0.6084s, avg time 0.0468s\n",
      "- incremental_ERR: called 14 times, total time 0.0687s, avg time 0.0049s\n",
      "---------------------------------\n",
      "\n",
      "wl_depth:  950.0\n",
      "ImpactCriterion:  188.0996984490077\n",
      "CoupledCriterion:  288.82235692232325\n",
      "Touchdown distance:  3555.528849113318\n",
      "SSERR:  32.01521761884004\n",
      "skier_weight:  0.0\n",
      "skier_weight:  300.0\n",
      "skier_weight:  153.1756497706597\n",
      "skier_weight:  184.1016406934165\n",
      "skier_weight:  189.72564926865047\n",
      "skier_weight:  189.63404308491474\n",
      "skier_weight:  189.63654308491482\n",
      "--- find_minimum_force Call Statistics ---\n",
      "- rasterize_solution: called 9 times, total time 0.3995s, avg time 0.0444s\n",
      "---------------------------------\n",
      "--- evaluate_coupled_criterion Call Statistics ---\n",
      "- rasterize_solution: called 13 times, total time 0.5766s, avg time 0.0444s\n",
      "- incremental_ERR: called 14 times, total time 0.0624s, avg time 0.0045s\n",
      "---------------------------------\n",
      "\n",
      "wl_depth:  1000.0\n",
      "ImpactCriterion:  189.63404308491474\n",
      "CoupledCriterion:  293.0283475844342\n",
      "Touchdown distance:  3660.2320316748664\n",
      "SSERR:  34.292092571458596\n",
      "skier_weight:  0.0\n",
      "skier_weight:  300.0\n",
      "skier_weight:  155.45889776546073\n",
      "skier_weight:  184.9184284114875\n",
      "skier_weight:  189.95833260220726\n",
      "skier_weight:  189.88825887433524\n",
      "skier_weight:  189.89075887433532\n",
      "--- find_minimum_force Call Statistics ---\n",
      "- rasterize_solution: called 9 times, total time 0.3967s, avg time 0.0441s\n",
      "---------------------------------\n",
      "--- evaluate_coupled_criterion Call Statistics ---\n",
      "- rasterize_solution: called 11 times, total time 0.4857s, avg time 0.0442s\n",
      "- incremental_ERR: called 12 times, total time 0.0535s, avg time 0.0045s\n",
      "---------------------------------\n",
      "\n",
      "wl_depth:  1050.0\n",
      "ImpactCriterion:  189.88825887433524\n",
      "CoupledCriterion:  295.50525817430787\n",
      "Touchdown distance:  3764.966834941064\n",
      "SSERR:  36.57098910916457\n",
      "skier_weight:  0.0\n",
      "skier_weight:  300.0\n",
      "skier_weight:  156.2637659751223\n",
      "skier_weight:  184.4025286749513\n",
      "skier_weight:  189.00541393485932\n",
      "skier_weight:  188.94957679461635\n",
      "skier_weight:  188.95207679461643\n",
      "--- find_minimum_force Call Statistics ---\n",
      "- rasterize_solution: called 9 times, total time 0.3963s, avg time 0.0440s\n",
      "---------------------------------\n",
      "--- evaluate_coupled_criterion Call Statistics ---\n",
      "- rasterize_solution: called 12 times, total time 0.5369s, avg time 0.0447s\n",
      "- incremental_ERR: called 13 times, total time 0.0593s, avg time 0.0046s\n",
      "---------------------------------\n",
      "\n",
      "wl_depth:  1100.0\n",
      "ImpactCriterion:  188.94957679461635\n",
      "CoupledCriterion:  296.3486823136402\n",
      "Touchdown distance:  3869.6220173396437\n",
      "SSERR:  38.85115846467169\n",
      "skier_weight:  0.0\n",
      "skier_weight:  300.0\n",
      "skier_weight:  155.70520939907843\n",
      "skier_weight:  182.65421557345664\n",
      "skier_weight:  186.93048195858822\n",
      "skier_weight:  186.8843238785505\n",
      "skier_weight:  186.8868238785506\n",
      "--- find_minimum_force Call Statistics ---\n",
      "- rasterize_solution: called 9 times, total time 0.4004s, avg time 0.0445s\n",
      "---------------------------------\n",
      "--- evaluate_coupled_criterion Call Statistics ---\n",
      "- rasterize_solution: called 13 times, total time 0.5789s, avg time 0.0445s\n",
      "- incremental_ERR: called 14 times, total time 0.0638s, avg time 0.0046s\n",
      "---------------------------------\n",
      "\n",
      "wl_depth:  1150.0\n",
      "ImpactCriterion:  186.8843238785505\n",
      "CoupledCriterion:  295.6164614517516\n",
      "Touchdown distance:  3973.958415195933\n",
      "SSERR:  41.132038679022244\n",
      "skier_weight:  0.0\n",
      "skier_weight:  300.0\n",
      "skier_weight:  153.8866353810146\n",
      "skier_weight:  179.75269603191214\n",
      "skier_weight:  183.78515230171934\n",
      "skier_weight:  183.74575354476667\n",
      "skier_weight:  183.74825354476675\n",
      "--- find_minimum_force Call Statistics ---\n",
      "- rasterize_solution: called 9 times, total time 0.4143s, avg time 0.0460s\n",
      "---------------------------------\n",
      "--- evaluate_coupled_criterion Call Statistics ---\n",
      "- rasterize_solution: called 13 times, total time 0.5793s, avg time 0.0446s\n",
      "- incremental_ERR: called 14 times, total time 0.0632s, avg time 0.0045s\n",
      "---------------------------------\n",
      "\n",
      "wl_depth:  1200.0\n",
      "ImpactCriterion:  183.74575354476667\n",
      "CoupledCriterion:  293.3407198353696\n",
      "Touchdown distance:  4077.722074766812\n",
      "SSERR:  43.41319701675088\n",
      "skier_weight:  0.0\n",
      "skier_weight:  300.0\n",
      "skier_weight:  150.90291487488216\n",
      "skier_weight:  175.76357413746305\n",
      "skier_weight:  179.6136248868279\n",
      "skier_weight:  179.57908167567288\n",
      "skier_weight:  179.58158167567296\n",
      "--- find_minimum_force Call Statistics ---\n",
      "- rasterize_solution: called 9 times, total time 0.4524s, avg time 0.0503s\n",
      "---------------------------------\n",
      "--- evaluate_coupled_criterion Call Statistics ---\n",
      "- rasterize_solution: called 12 times, total time 0.5336s, avg time 0.0445s\n",
      "- incremental_ERR: called 13 times, total time 0.0593s, avg time 0.0046s\n",
      "---------------------------------\n",
      "\n",
      "wl_depth:  1250.0\n",
      "ImpactCriterion:  179.57908167567288\n",
      "CoupledCriterion:  289.53575673714033\n",
      "Touchdown distance:  4180.6923335947195\n",
      "SSERR:  45.69429684171979\n",
      "skier_weight:  0.0\n",
      "skier_weight:  300.0\n",
      "skier_weight:  146.84174064936775\n",
      "skier_weight:  176.45475959301234\n",
      "skier_weight:  174.35589216771228\n",
      "skier_weight:  174.4242407220811\n",
      "skier_weight:  174.42674072208118\n",
      "--- find_minimum_force Call Statistics ---\n",
      "- rasterize_solution: called 9 times, total time 0.4025s, avg time 0.0447s\n",
      "---------------------------------\n",
      "--- evaluate_coupled_criterion Call Statistics ---\n",
      "- rasterize_solution: called 4 times, total time 0.1776s, avg time 0.0444s\n",
      "- incremental_ERR: called 5 times, total time 0.0227s, avg time 0.0045s\n",
      "---------------------------------\n",
      "\n",
      "wl_depth:  1300.0\n",
      "ImpactCriterion:  174.4242407220811\n",
      "CoupledCriterion:  284.2024972265409\n",
      "Touchdown distance:  4282.698071871234\n",
      "SSERR:  47.975077519291574\n",
      "skier_weight:  0.0\n",
      "skier_weight:  300.0\n",
      "skier_weight:  141.78422422496186\n",
      "skier_weight:  170.1061564329765\n",
      "skier_weight:  168.26167736627107\n",
      "skier_weight:  168.31757375372055\n",
      "skier_weight:  168.32007375372064\n",
      "--- find_minimum_force Call Statistics ---\n",
      "- rasterize_solution: called 9 times, total time 0.4018s, avg time 0.0446s\n",
      "---------------------------------\n",
      "--- evaluate_coupled_criterion Call Statistics ---\n",
      "- rasterize_solution: called 13 times, total time 0.5747s, avg time 0.0442s\n",
      "- incremental_ERR: called 14 times, total time 0.0621s, avg time 0.0044s\n",
      "---------------------------------\n",
      "\n",
      "wl_depth:  1350.0\n",
      "ImpactCriterion:  168.31757375372055\n",
      "CoupledCriterion:  277.3313515722481\n",
      "Touchdown distance:  4383.61900229558\n",
      "SSERR:  50.255341870946104\n",
      "skier_weight:  0.0\n",
      "skier_weight:  300.0\n",
      "skier_weight:  135.80519690837562\n",
      "skier_weight:  162.8666132249739\n",
      "skier_weight:  161.2467318737891\n",
      "skier_weight:  161.29242669836052\n",
      "skier_weight:  161.2949266983606\n",
      "--- find_minimum_force Call Statistics ---\n",
      "- rasterize_solution: called 9 times, total time 0.4053s, avg time 0.0450s\n",
      "---------------------------------\n",
      "--- evaluate_coupled_criterion Call Statistics ---\n",
      "- rasterize_solution: called 13 times, total time 0.5760s, avg time 0.0443s\n",
      "- incremental_ERR: called 14 times, total time 0.0620s, avg time 0.0044s\n",
      "---------------------------------\n",
      "\n",
      "wl_depth:  1400.0\n",
      "ImpactCriterion:  161.29242669836052\n",
      "CoupledCriterion:  268.90333940498766\n",
      "Touchdown distance:  4481.649636576698\n",
      "SSERR:  52.53737458999207\n",
      "skier_weight:  0.0\n",
      "skier_weight:  300.0\n",
      "skier_weight:  128.97343704416238\n",
      "skier_weight:  154.75931410728066\n",
      "skier_weight:  153.3427513297703\n",
      "skier_weight:  153.3798895202211\n",
      "skier_weight:  153.38238952022115\n",
      "--- find_minimum_force Call Statistics ---\n",
      "- rasterize_solution: called 9 times, total time 0.4015s, avg time 0.0446s\n",
      "---------------------------------\n",
      "--- evaluate_coupled_criterion Call Statistics ---\n",
      "- rasterize_solution: called 9 times, total time 0.4002s, avg time 0.0445s\n",
      "- incremental_ERR: called 10 times, total time 0.0448s, avg time 0.0045s\n",
      "---------------------------------\n",
      "\n",
      "wl_depth:  1450.0\n",
      "ImpactCriterion:  153.3798895202211\n",
      "CoupledCriterion:  258.89147328568407\n",
      "Touchdown distance:  4570.211152368454\n",
      "SSERR:  54.83080277827364\n",
      "skier_weight:  0.0\n",
      "skier_weight:  300.0\n",
      "skier_weight:  121.35191523625367\n",
      "skier_weight:  145.80792248543787\n",
      "skier_weight:  144.57919799245406\n",
      "skier_weight:  144.6090333226412\n",
      "skier_weight:  144.61153332264126\n",
      "--- find_minimum_force Call Statistics ---\n",
      "- rasterize_solution: called 9 times, total time 0.3977s, avg time 0.0442s\n",
      "---------------------------------\n",
      "--- evaluate_coupled_criterion Call Statistics ---\n",
      "- rasterize_solution: called 13 times, total time 0.5755s, avg time 0.0443s\n",
      "- incremental_ERR: called 14 times, total time 0.0622s, avg time 0.0044s\n",
      "---------------------------------\n",
      "\n",
      "wl_depth:  1500.0\n",
      "ImpactCriterion:  144.6090333226412\n",
      "CoupledCriterion:  247.43767134022542\n",
      "Touchdown distance:  4656.154437801087\n",
      "SSERR:  57.126368164103816\n",
      "skier_weight:  0.0\n",
      "skier_weight:  300.0\n",
      "skier_weight:  112.99808424415534\n",
      "skier_weight:  136.03625636297727\n",
      "skier_weight:  134.98357887246888\n",
      "skier_weight:  135.0071200534617\n",
      "skier_weight:  135.00962005346176\n",
      "--- find_minimum_force Call Statistics ---\n",
      "- rasterize_solution: called 9 times, total time 0.3971s, avg time 0.0441s\n",
      "---------------------------------\n",
      "--- evaluate_coupled_criterion Call Statistics ---\n",
      "- rasterize_solution: called 14 times, total time 0.6206s, avg time 0.0443s\n",
      "- incremental_ERR: called 15 times, total time 0.0670s, avg time 0.0045s\n",
      "---------------------------------\n",
      "\n",
      "wl_depth:  1550.0\n",
      "ImpactCriterion:  135.0071200534617\n",
      "CoupledCriterion:  234.21848327902794\n",
      "Touchdown distance:  4739.425458885241\n",
      "SSERR:  59.424195330524256\n",
      "skier_weight:  0.0\n",
      "skier_weight:  300.0\n",
      "skier_weight:  103.96421098195808\n",
      "skier_weight:  125.46805303904699\n",
      "skier_weight:  124.58164703212283\n",
      "skier_weight:  124.5997570092042\n",
      "skier_weight:  124.60225700920425\n",
      "--- find_minimum_force Call Statistics ---\n",
      "- rasterize_solution: called 9 times, total time 0.3982s, avg time 0.0442s\n",
      "---------------------------------\n",
      "--- evaluate_coupled_criterion Call Statistics ---\n",
      "- rasterize_solution: called 11 times, total time 0.4907s, avg time 0.0446s\n",
      "- incremental_ERR: called 12 times, total time 0.0535s, avg time 0.0045s\n",
      "---------------------------------\n",
      "\n",
      "wl_depth:  1600.0\n",
      "ImpactCriterion:  124.5997570092042\n",
      "CoupledCriterion:  219.4300281286751\n",
      "Touchdown distance:  4819.99017694278\n",
      "SSERR:  61.724439523313556\n",
      "skier_weight:  0.0\n",
      "skier_weight:  300.0\n",
      "skier_weight:  94.29773726641372\n",
      "skier_weight:  114.12680113648969\n",
      "skier_weight:  113.39755998772088\n",
      "skier_weight:  113.41102161619042\n",
      "skier_weight:  113.41352161619048\n",
      "--- find_minimum_force Call Statistics ---\n",
      "- rasterize_solution: called 9 times, total time 0.4009s, avg time 0.0445s\n",
      "---------------------------------\n",
      "--- evaluate_coupled_criterion Call Statistics ---\n",
      "- rasterize_solution: called 13 times, total time 0.5797s, avg time 0.0446s\n",
      "- incremental_ERR: called 14 times, total time 0.0628s, avg time 0.0045s\n",
      "---------------------------------\n",
      "\n",
      "wl_depth:  1650.0\n",
      "ImpactCriterion:  113.41102161619042\n",
      "CoupledCriterion:  202.906743243206\n",
      "Touchdown distance:  4897.829742966354\n",
      "SSERR:  64.02728751477669\n",
      "skier_weight:  0.0\n",
      "skier_weight:  300.0\n",
      "skier_weight:  84.04165405885723\n",
      "skier_weight:  102.03562139479762\n",
      "skier_weight:  101.45401327613361\n",
      "skier_weight:  101.46356949492899\n",
      "skier_weight:  101.46606949492903\n",
      "--- find_minimum_force Call Statistics ---\n",
      "- rasterize_solution: called 9 times, total time 0.3977s, avg time 0.0442s\n",
      "---------------------------------\n",
      "--- evaluate_coupled_criterion Call Statistics ---\n",
      "- rasterize_solution: called 13 times, total time 0.5771s, avg time 0.0444s\n",
      "- incremental_ERR: called 14 times, total time 0.0624s, avg time 0.0045s\n",
      "---------------------------------\n",
      "\n",
      "wl_depth:  1700.0\n",
      "ImpactCriterion:  101.46356949492899\n",
      "CoupledCriterion:  184.748290740982\n",
      "Touchdown distance:  4972.936635720554\n",
      "SSERR:  66.33295901460416\n",
      "skier_weight:  0.0\n",
      "skier_weight:  300.0\n",
      "skier_weight:  73.23487582287758\n",
      "skier_weight:  89.21718192255209\n",
      "skier_weight:  88.77235861530691\n",
      "skier_weight:  88.77873224553986\n",
      "skier_weight:  88.7812322455399\n",
      "--- find_minimum_force Call Statistics ---\n",
      "- rasterize_solution: called 9 times, total time 0.3957s, avg time 0.0440s\n",
      "---------------------------------\n",
      "--- evaluate_coupled_criterion Call Statistics ---\n",
      "- rasterize_solution: called 13 times, total time 0.5781s, avg time 0.0445s\n",
      "- incremental_ERR: called 14 times, total time 0.0628s, avg time 0.0045s\n",
      "---------------------------------\n",
      "\n",
      "wl_depth:  1750.0\n",
      "ImpactCriterion:  88.77873224553986\n",
      "CoupledCriterion:  164.68270598338637\n",
      "Touchdown distance:  5045.31160602918\n",
      "SSERR:  68.64170853158474\n",
      "skier_weight:  0.0\n",
      "skier_weight:  300.0\n",
      "skier_weight:  61.91260471343232\n",
      "skier_weight:  75.693637510735\n",
      "skier_weight:  75.37271145364909\n",
      "skier_weight:  75.37660801216252\n",
      "skier_weight:  75.37910801216256\n",
      "--- find_minimum_force Call Statistics ---\n",
      "- rasterize_solution: called 9 times, total time 0.3974s, avg time 0.0442s\n",
      "---------------------------------\n",
      "--- evaluate_coupled_criterion Call Statistics ---\n",
      "- rasterize_solution: called 13 times, total time 0.5778s, avg time 0.0444s\n",
      "- incremental_ERR: called 14 times, total time 0.0620s, avg time 0.0044s\n",
      "---------------------------------\n",
      "\n",
      "wl_depth:  1800.0\n",
      "ImpactCriterion:  75.37660801216252\n",
      "CoupledCriterion:  142.5796571054671\n",
      "Touchdown distance:  5114.961286623339\n",
      "SSERR:  70.95382761902908\n",
      "skier_weight:  0.0\n",
      "skier_weight:  300.0\n",
      "skier_weight:  50.10667743499024\n",
      "skier_weight:  61.486585763887156\n",
      "skier_weight:  61.274050263994845\n",
      "skier_weight:  61.27655026399487\n",
      "--- find_minimum_force Call Statistics ---\n",
      "- rasterize_solution: called 8 times, total time 0.3530s, avg time 0.0441s\n",
      "---------------------------------\n",
      "--- evaluate_coupled_criterion Call Statistics ---\n",
      "- rasterize_solution: called 12 times, total time 0.5338s, avg time 0.0445s\n",
      "- incremental_ERR: called 13 times, total time 0.0582s, avg time 0.0045s\n",
      "---------------------------------\n",
      "\n",
      "wl_depth:  1850.0\n",
      "ImpactCriterion:  61.27655026399487\n",
      "CoupledCriterion:  118.52389806641705\n",
      "Touchdown distance:  5181.896340041873\n",
      "SSERR:  73.26964745705763\n",
      "skier_weight:  0.0\n",
      "skier_weight:  300.0\n",
      "skier_weight:  37.84589027895937\n",
      "skier_weight:  46.617035168831706\n",
      "skier_weight:  46.494308696195354\n",
      "skier_weight:  46.49680869619537\n",
      "--- find_minimum_force Call Statistics ---\n",
      "- rasterize_solution: called 8 times, total time 0.3609s, avg time 0.0451s\n",
      "---------------------------------\n",
      "--- evaluate_coupled_criterion Call Statistics ---\n",
      "- rasterize_solution: called 14 times, total time 0.6343s, avg time 0.0453s\n",
      "- incremental_ERR: called 16 times, total time 0.0732s, avg time 0.0046s\n",
      "---------------------------------\n",
      "\n",
      "wl_depth:  1900.0\n",
      "ImpactCriterion:  46.494308696195354\n",
      "CoupledCriterion:  92.09372113705956\n",
      "Touchdown distance:  5246.1300356966185\n",
      "SSERR:  75.58954173947582\n",
      "skier_weight:  0.0\n",
      "skier_weight:  300.0\n",
      "skier_weight:  25.15629994529724\n",
      "skier_weight:  31.105381896230085\n",
      "skier_weight:  31.050461106181707\n",
      "skier_weight:  31.052961106181723\n",
      "--- find_minimum_force Call Statistics ---\n",
      "- rasterize_solution: called 8 times, total time 0.3627s, avg time 0.0453s\n",
      "---------------------------------\n",
      "--- evaluate_coupled_criterion Call Statistics ---\n",
      "- rasterize_solution: called 13 times, total time 0.5812s, avg time 0.0447s\n",
      "- incremental_ERR: called 15 times, total time 0.0684s, avg time 0.0046s\n",
      "---------------------------------\n",
      "\n",
      "wl_depth:  1950.0\n",
      "ImpactCriterion:  31.050461106181707\n",
      "CoupledCriterion:  63.12859695842287\n",
      "Touchdown distance:  5307.677166258067\n",
      "SSERR:  77.91392984336132\n",
      "skier_weight:  0.0\n",
      "skier_weight:  300.0\n",
      "skier_weight:  12.061499297411011\n",
      "skier_weight:  14.971393266485157\n",
      "skier_weight:  14.958601723872738\n",
      "skier_weight:  14.961101723872744\n",
      "--- find_minimum_force Call Statistics ---\n",
      "- rasterize_solution: called 8 times, total time 0.3545s, avg time 0.0443s\n",
      "---------------------------------\n",
      "--- evaluate_coupled_criterion Call Statistics ---\n",
      "- rasterize_solution: called 12 times, total time 0.5379s, avg time 0.0448s\n",
      "- incremental_ERR: called 15 times, total time 0.0682s, avg time 0.0045s\n",
      "---------------------------------\n",
      "\n",
      "wl_depth:  2000.0\n",
      "ImpactCriterion:  14.958601723872738\n",
      "CoupledCriterion:  31.32508688294327\n",
      "Touchdown distance:  5366.553230785291\n",
      "SSERR:  80.2432802671424\n",
      "--- min_dist_stress >= 1 in find_minimum_force Call Statistics ---\n",
      "- rasterize_solution: called 1 times, total time 0.0471s, avg time 0.0471s\n",
      "---------------------------------\n",
      "--- The entire solution is cracked ---\n",
      "--- evaluate_coupled_criterion Call Statistics ---\n",
      "- incremental_ERR: called 1 times, total time 0.0051s, avg time 0.0051s\n",
      "---------------------------------\n",
      "\n",
      "wl_depth:  2050.0\n",
      "ImpactCriterion:  0.0\n",
      "CoupledCriterion:  0\n",
      "Touchdown distance:  5422.7738267683335\n",
      "SSERR:  82.57811432850394\n",
      "--- min_dist_stress >= 1 in find_minimum_force Call Statistics ---\n",
      "- rasterize_solution: called 1 times, total time 0.0443s, avg time 0.0443s\n",
      "---------------------------------\n",
      "--- The entire solution is cracked ---\n",
      "--- evaluate_coupled_criterion Call Statistics ---\n",
      "- incremental_ERR: called 1 times, total time 0.0054s, avg time 0.0054s\n",
      "---------------------------------\n",
      "\n",
      "wl_depth:  2100.0\n",
      "ImpactCriterion:  0.0\n",
      "CoupledCriterion:  0\n",
      "Touchdown distance:  5476.354205418238\n",
      "SSERR:  84.91901011757817\n",
      "--- min_dist_stress >= 1 in find_minimum_force Call Statistics ---\n",
      "- rasterize_solution: called 1 times, total time 0.0469s, avg time 0.0469s\n",
      "---------------------------------\n",
      "--- The entire solution is cracked ---\n",
      "--- evaluate_coupled_criterion Call Statistics ---\n",
      "- incremental_ERR: called 1 times, total time 0.0051s, avg time 0.0051s\n",
      "---------------------------------\n",
      "\n",
      "wl_depth:  2150.0\n",
      "ImpactCriterion:  0.0\n",
      "CoupledCriterion:  0\n",
      "Touchdown distance:  5527.30895437002\n",
      "SSERR:  87.26660670390186\n",
      "--- min_dist_stress >= 1 in find_minimum_force Call Statistics ---\n",
      "- rasterize_solution: called 1 times, total time 0.0445s, avg time 0.0445s\n",
      "---------------------------------\n",
      "--- The entire solution is cracked ---\n",
      "--- evaluate_coupled_criterion Call Statistics ---\n",
      "- incremental_ERR: called 1 times, total time 0.0049s, avg time 0.0049s\n",
      "---------------------------------\n",
      "\n",
      "wl_depth:  2200.0\n",
      "ImpactCriterion:  0.0\n",
      "CoupledCriterion:  0\n",
      "Touchdown distance:  5575.651779802651\n",
      "SSERR:  89.62160859781417\n",
      "--- min_dist_stress >= 1 in find_minimum_force Call Statistics ---\n",
      "- rasterize_solution: called 1 times, total time 0.0478s, avg time 0.0478s\n",
      "---------------------------------\n",
      "--- The entire solution is cracked ---\n",
      "--- evaluate_coupled_criterion Call Statistics ---\n",
      "- incremental_ERR: called 1 times, total time 0.0056s, avg time 0.0056s\n",
      "---------------------------------\n",
      "\n",
      "wl_depth:  2250.0\n",
      "ImpactCriterion:  0.0\n",
      "CoupledCriterion:  0\n",
      "Touchdown distance:  5621.395366177642\n",
      "SSERR:  91.98479046852377\n",
      "--- min_dist_stress >= 1 in find_minimum_force Call Statistics ---\n",
      "- rasterize_solution: called 1 times, total time 0.0442s, avg time 0.0442s\n",
      "---------------------------------\n",
      "--- The entire solution is cracked ---\n",
      "--- evaluate_coupled_criterion Call Statistics ---\n",
      "- incremental_ERR: called 1 times, total time 0.0050s, avg time 0.0050s\n",
      "---------------------------------\n",
      "\n",
      "wl_depth:  2300.0\n",
      "ImpactCriterion:  0.0\n",
      "CoupledCriterion:  0\n",
      "Touchdown distance:  5664.551296668779\n",
      "SSERR:  94.35700212210645\n",
      "--- min_dist_stress >= 1 in find_minimum_force Call Statistics ---\n",
      "- rasterize_solution: called 1 times, total time 0.0449s, avg time 0.0449s\n",
      "---------------------------------\n",
      "--- The entire solution is cracked ---\n",
      "--- evaluate_coupled_criterion Call Statistics ---\n",
      "- incremental_ERR: called 1 times, total time 0.0050s, avg time 0.0050s\n",
      "---------------------------------\n",
      "\n",
      "wl_depth:  2350.0\n",
      "ImpactCriterion:  0.0\n",
      "CoupledCriterion:  0\n",
      "Touchdown distance:  5705.130021178245\n",
      "SSERR:  96.73917374326867\n",
      "--- min_dist_stress >= 1 in find_minimum_force Call Statistics ---\n",
      "- rasterize_solution: called 1 times, total time 0.0446s, avg time 0.0446s\n",
      "---------------------------------\n",
      "--- The entire solution is cracked ---\n",
      "--- evaluate_coupled_criterion Call Statistics ---\n",
      "- incremental_ERR: called 1 times, total time 0.0051s, avg time 0.0051s\n",
      "---------------------------------\n",
      "\n",
      "wl_depth:  2400.0\n",
      "ImpactCriterion:  0.0\n",
      "CoupledCriterion:  0\n",
      "Touchdown distance:  5743.140861818468\n",
      "SSERR:  99.13232140490703\n",
      "--- min_dist_stress >= 1 in find_minimum_force Call Statistics ---\n",
      "- rasterize_solution: called 1 times, total time 0.0452s, avg time 0.0452s\n",
      "---------------------------------\n",
      "--- The entire solution is cracked ---\n",
      "--- evaluate_coupled_criterion Call Statistics ---\n",
      "- incremental_ERR: called 1 times, total time 0.0054s, avg time 0.0054s\n",
      "---------------------------------\n",
      "\n",
      "wl_depth:  2450.0\n",
      "ImpactCriterion:  0.0\n",
      "CoupledCriterion:  0\n",
      "Touchdown distance:  5778.592048077764\n",
      "SSERR:  101.53755284925681\n",
      "--- min_dist_stress >= 1 in find_minimum_force Call Statistics ---\n",
      "- rasterize_solution: called 1 times, total time 0.0449s, avg time 0.0449s\n",
      "---------------------------------\n",
      "--- The entire solution is cracked ---\n",
      "--- evaluate_coupled_criterion Call Statistics ---\n",
      "- incremental_ERR: called 1 times, total time 0.0053s, avg time 0.0053s\n",
      "---------------------------------\n",
      "\n",
      "wl_depth:  2500.0\n",
      "ImpactCriterion:  0.0\n",
      "CoupledCriterion:  0\n",
      "Touchdown distance:  5811.490775710037\n",
      "SSERR:  103.9560735439199\n",
      "--- min_dist_stress >= 1 in find_minimum_force Call Statistics ---\n",
      "- rasterize_solution: called 1 times, total time 0.0460s, avg time 0.0460s\n",
      "---------------------------------\n",
      "--- The entire solution is cracked ---\n",
      "--- evaluate_coupled_criterion Call Statistics ---\n",
      "- incremental_ERR: called 1 times, total time 0.0051s, avg time 0.0051s\n",
      "---------------------------------\n",
      "\n",
      "wl_depth:  2550.0\n",
      "ImpactCriterion:  0.0\n",
      "CoupledCriterion:  0\n",
      "Touchdown distance:  5841.843284815003\n",
      "SSERR:  106.38919301501211\n",
      "--- min_dist_stress >= 1 in find_minimum_force Call Statistics ---\n",
      "- rasterize_solution: called 1 times, total time 0.0441s, avg time 0.0441s\n",
      "---------------------------------\n",
      "--- The entire solution is cracked ---\n",
      "--- evaluate_coupled_criterion Call Statistics ---\n",
      "- incremental_ERR: called 1 times, total time 0.0051s, avg time 0.0051s\n",
      "---------------------------------\n",
      "\n",
      "wl_depth:  2600.0\n",
      "ImpactCriterion:  0.0\n",
      "CoupledCriterion:  0\n",
      "Touchdown distance:  5869.654953689635\n",
      "SSERR:  108.83833145836749\n",
      "--- min_dist_stress >= 1 in find_minimum_force Call Statistics ---\n",
      "- rasterize_solution: called 1 times, total time 0.0476s, avg time 0.0476s\n",
      "---------------------------------\n",
      "--- The entire solution is cracked ---\n",
      "--- evaluate_coupled_criterion Call Statistics ---\n",
      "- incremental_ERR: called 1 times, total time 0.0050s, avg time 0.0050s\n",
      "---------------------------------\n",
      "\n",
      "wl_depth:  2650.0\n",
      "ImpactCriterion:  0.0\n",
      "CoupledCriterion:  0\n",
      "Touchdown distance:  5894.930405897574\n",
      "SSERR:  111.30502662791639\n",
      "--- min_dist_stress >= 1 in find_minimum_force Call Statistics ---\n",
      "- rasterize_solution: called 1 times, total time 0.0443s, avg time 0.0443s\n",
      "---------------------------------\n",
      "--- The entire solution is cracked ---\n",
      "--- evaluate_coupled_criterion Call Statistics ---\n",
      "- incremental_ERR: called 1 times, total time 0.0052s, avg time 0.0052s\n",
      "---------------------------------\n",
      "\n",
      "wl_depth:  2700.0\n",
      "ImpactCriterion:  0.0\n",
      "CoupledCriterion:  0\n",
      "Touchdown distance:  5917.6736286828345\n",
      "SSERR:  113.79094099801598\n",
      "--- min_dist_stress >= 1 in find_minimum_force Call Statistics ---\n",
      "- rasterize_solution: called 1 times, total time 0.0452s, avg time 0.0452s\n",
      "---------------------------------\n",
      "--- The entire solution is cracked ---\n",
      "--- evaluate_coupled_criterion Call Statistics ---\n",
      "- incremental_ERR: called 1 times, total time 0.0061s, avg time 0.0061s\n",
      "---------------------------------\n",
      "\n",
      "wl_depth:  2750.0\n",
      "ImpactCriterion:  0.0\n",
      "CoupledCriterion:  0\n",
      "Touchdown distance:  5937.888101378308\n",
      "SSERR:  116.29786919373453\n",
      "--- min_dist_stress >= 1 in find_minimum_force Call Statistics ---\n",
      "- rasterize_solution: called 1 times, total time 0.0443s, avg time 0.0443s\n",
      "---------------------------------\n",
      "--- The entire solution is cracked ---\n",
      "--- evaluate_coupled_criterion Call Statistics ---\n",
      "- incremental_ERR: called 1 times, total time 0.0049s, avg time 0.0049s\n",
      "---------------------------------\n",
      "\n",
      "wl_depth:  2800.0\n",
      "ImpactCriterion:  0.0\n",
      "CoupledCriterion:  0\n",
      "Touchdown distance:  5955.576932862091\n",
      "SSERR:  118.82774567965822\n",
      "--- min_dist_stress >= 1 in find_minimum_force Call Statistics ---\n",
      "- rasterize_solution: called 1 times, total time 0.0451s, avg time 0.0451s\n",
      "---------------------------------\n",
      "--- The entire solution is cracked ---\n",
      "--- evaluate_coupled_criterion Call Statistics ---\n",
      "- incremental_ERR: called 1 times, total time 0.0051s, avg time 0.0051s\n",
      "---------------------------------\n",
      "\n",
      "wl_depth:  2850.0\n",
      "ImpactCriterion:  0.0\n",
      "CoupledCriterion:  0\n",
      "Touchdown distance:  5970.74300742429\n",
      "SSERR:  121.38265269374143\n",
      "--- min_dist_stress >= 1 in find_minimum_force Call Statistics ---\n",
      "- rasterize_solution: called 1 times, total time 0.0433s, avg time 0.0433s\n",
      "---------------------------------\n",
      "--- The entire solution is cracked ---\n",
      "--- evaluate_coupled_criterion Call Statistics ---\n",
      "- incremental_ERR: called 1 times, total time 0.0050s, avg time 0.0050s\n",
      "---------------------------------\n",
      "\n",
      "wl_depth:  2900.0\n",
      "ImpactCriterion:  0.0\n",
      "CoupledCriterion:  0\n",
      "Touchdown distance:  5983.389138637562\n",
      "SSERR:  123.96482840789176\n",
      "new_layer heights:  [100.0, 170.0, 30.0, 300.0, 20.0, 2330.0]\n",
      "wl_depth:  2950.0\n",
      "new_layers:  [Layer(rho=101.0, h=100.0, nu=0.25, E=0.3963944665536936, G=0.15855778662147743, tensile_strength=1.103877672602255, tensile_strength_method='sigrist', E_method='bergfeld', grain_type='DF', grain_size=None, hand_hardness='F'), Layer(rho=173.0, h=170.0, nu=0.25, E=4.231714820461142, G=1.6926859281844568, tensile_strength=4.1040183019389715, tensile_strength_method='sigrist', E_method='bergfeld', grain_type='DF', grain_size=None, hand_hardness='1F'), Layer(rho=137.0, h=30.0, nu=0.25, E=1.515947056821604, G=0.6063788227286416, tensile_strength=2.3226029915382136, tensile_strength_method='sigrist', E_method='bergfeld', grain_type='DF', grain_size=None, hand_hardness='4F'), Layer(rho=209.0, h=300.0, nu=0.25, E=9.722035388607377, G=3.888814155442951, tensile_strength=6.509291720550219, tensile_strength_method='sigrist', E_method='bergfeld', grain_type='DF', grain_size=None, hand_hardness='P'), Layer(rho=163.7, h=20.0, nu=0.25, E=3.318392308727041, G=1.3273569234908165, tensile_strength=3.586373980194787, tensile_strength_method='sigrist', E_method='bergfeld', grain_type=None, grain_size=None, hand_hardness='4F+'), Layer(rho=292.25, h=2330.0, nu=0.25, E=42.50435458798165, G=17.00174183519266, tensile_strength=14.750876454728399, tensile_strength_method='sigrist', E_method='bergfeld', grain_type='MFcr', grain_size=None, hand_hardness='P+')]\n",
      "--- min_dist_stress >= 1 in find_minimum_force Call Statistics ---\n",
      "- rasterize_solution: called 1 times, total time 0.0457s, avg time 0.0457s\n",
      "---------------------------------\n",
      "--- The entire solution is cracked ---\n",
      "--- evaluate_coupled_criterion Call Statistics ---\n",
      "- incremental_ERR: called 1 times, total time 0.0051s, avg time 0.0051s\n",
      "---------------------------------\n",
      "\n",
      "wl_depth:  2950.0\n",
      "ImpactCriterion:  0.0\n",
      "CoupledCriterion:  0\n",
      "Touchdown distance:  5993.518230981064\n",
      "SSERR:  126.57667529159986\n",
      "new_layer heights:  [100.0, 170.0, 30.0, 300.0, 20.0, 2380.0]\n",
      "wl_depth:  3000.0\n",
      "new_layers:  [Layer(rho=101.0, h=100.0, nu=0.25, E=0.3963944665536936, G=0.15855778662147743, tensile_strength=1.103877672602255, tensile_strength_method='sigrist', E_method='bergfeld', grain_type='DF', grain_size=None, hand_hardness='F'), Layer(rho=173.0, h=170.0, nu=0.25, E=4.231714820461142, G=1.6926859281844568, tensile_strength=4.1040183019389715, tensile_strength_method='sigrist', E_method='bergfeld', grain_type='DF', grain_size=None, hand_hardness='1F'), Layer(rho=137.0, h=30.0, nu=0.25, E=1.515947056821604, G=0.6063788227286416, tensile_strength=2.3226029915382136, tensile_strength_method='sigrist', E_method='bergfeld', grain_type='DF', grain_size=None, hand_hardness='4F'), Layer(rho=209.0, h=300.0, nu=0.25, E=9.722035388607377, G=3.888814155442951, tensile_strength=6.509291720550219, tensile_strength_method='sigrist', E_method='bergfeld', grain_type='DF', grain_size=None, hand_hardness='P'), Layer(rho=163.7, h=20.0, nu=0.25, E=3.318392308727041, G=1.3273569234908165, tensile_strength=3.586373980194787, tensile_strength_method='sigrist', E_method='bergfeld', grain_type=None, grain_size=None, hand_hardness='4F+'), Layer(rho=292.25, h=2380.0, nu=0.25, E=42.50435458798165, G=17.00174183519266, tensile_strength=14.750876454728399, tensile_strength_method='sigrist', E_method='bergfeld', grain_type='MFcr', grain_size=None, hand_hardness='P+')]\n",
      "--- min_dist_stress >= 1 in find_minimum_force Call Statistics ---\n",
      "- rasterize_solution: called 1 times, total time 0.0451s, avg time 0.0451s\n",
      "---------------------------------\n",
      "--- The entire solution is cracked ---\n",
      "--- evaluate_coupled_criterion Call Statistics ---\n",
      "- incremental_ERR: called 1 times, total time 0.0052s, avg time 0.0052s\n",
      "---------------------------------\n",
      "\n",
      "wl_depth:  3000.0\n",
      "ImpactCriterion:  0.0\n",
      "CoupledCriterion:  0\n",
      "Touchdown distance:  6001.1334490856625\n",
      "SSERR:  129.2207686483591\n"
     ]
    }
   ],
   "source": [
    "from weac.tools import touchdown_distance\n",
    "\n",
    "# Collect errors\n",
    "error_paths = {}\n",
    "error_values = {}\n",
    "\n",
    "paths = paths[:1]\n",
    "parsers = parsers[:1]\n",
    "\n",
    "data_rows = []\n",
    "for i, (file_path, parser) in tqdm(\n",
    "    enumerate(zip(paths, parsers)), total=len(paths), desc=\"Processing files\"\n",
    "):    \n",
    "    # Extract layers\n",
    "    layers, density_method = parser.extract_layers()\n",
    "    print(\"layers: \", layers)\n",
    "    # # TRIAL: make whole layering 6m deep\n",
    "    # heights = np.cumsum([layer.h for layer in layers])\n",
    "    # layers[-1].h = 2500 - heights[-2]\n",
    "    heights = np.cumsum([layer.h for layer in layers])\n",
    "    # space evenly and append the last height\n",
    "    wl_depths = np.arange(wl_spacing, heights[-1], wl_spacing).tolist()\n",
    "    wl_depths.append(heights[-1])\n",
    "    \n",
    "    # # Only look at depths where weak layer is 2500mm deep\n",
    "    # wl_depths = [depth for depth in wl_depths if depth > 2000]\n",
    "    \n",
    "    layers_copy = copy.deepcopy(layers)\n",
    "    for i, wl_depth in tqdm(enumerate(wl_depths), total=len(wl_depths), desc=\"Processing weak layers\", leave=False):\n",
    "        # only keep layers above the spacing\n",
    "        mask = heights <= wl_depth\n",
    "        new_layers = [layer for layer, keep in zip(layers_copy, mask) if keep]\n",
    "        # Add truncated layer if needed\n",
    "        depth = np.sum([layer.h for layer in new_layers]) if new_layers else 0.0\n",
    "        if depth < wl_depth:\n",
    "            additional_layer = copy.deepcopy(layers_copy[len(new_layers) if new_layers else 0])\n",
    "            additional_layer.h = wl_depth - depth\n",
    "            new_layers.append(additional_layer)\n",
    "        \n",
    "        if i >= len(wl_depths) - 2:\n",
    "            print(\"new_layer heights: \", [layer.h for layer in new_layers])\n",
    "            print(\"wl_depth: \", wl_depth)\n",
    "            print(\"new_layers: \", new_layers)\n",
    "        \n",
    "        model_input = ModelInput(\n",
    "            weak_layer=standard_weak_layer,\n",
    "            layers=new_layers,\n",
    "            scenario_config=standard_scenario_config,\n",
    "            segments=standard_segments,\n",
    "        )\n",
    "        system = SystemModel(model_input=model_input)\n",
    "        \n",
    "        cc_result: CoupledCriterionResult = standard_criteria_evaluator.evaluate_coupled_criterion(system, print_call_stats=True)\n",
    "\n",
    "        # Setup the scenario with the touchdown distance\n",
    "        # TODO: Bug in Vertical SSERR\n",
    "        sserr_result: SSERRResult = standard_criteria_evaluator.evaluate_SSERR(system, vertical=False)\n",
    "\n",
    "        breakpoint()\n",
    "        \n",
    "        # # Generate old weac layers from layers\n",
    "        # layers = [\n",
    "        #     [layer.rho, layer.h] for layer in new_layers\n",
    "        # ]\n",
    "        # touchdown_distances = touchdown_distance(layers=layers, phi=phi, Ewl=1.0, t=20, vertical=False)\n",
    "        # print(\"Touchdown distance old weac: \", touchdown_distances)\n",
    "        # breakpoint()\n",
    "\n",
    "        print(\"\\nwl_depth: \", wl_depth)\n",
    "        print(\"ImpactCriterion: \", cc_result.initial_critical_skier_weight)\n",
    "        print(\"CoupledCriterion: \", cc_result.critical_skier_weight)\n",
    "        print(\"Touchdown distance: \", sserr_result.touchdown_distance)\n",
    "        print(\"SSERR: \", sserr_result.SSERR)\n",
    "        data_rows.append({\n",
    "            \"wl_depth\": wl_depth,\n",
    "            \"impact_criterion\": cc_result.initial_critical_skier_weight,\n",
    "            \"coupled_criterion\": cc_result.critical_skier_weight,\n",
    "            \"sserr_result\": sserr_result.SSERR,\n",
    "            \"touchdown_distance\": sserr_result.touchdown_distance,\n",
    "        })\n",
    "\n",
    "plot_layers = layers\n",
    "plot_weaklayer = standard_weak_layer\n"
   ]
  },
  {
   "cell_type": "code",
   "execution_count": 35,
   "id": "1d95fb2b",
   "metadata": {},
   "outputs": [],
   "source": [
    "from plotly_snow_profile import snow_profile"
   ]
  },
  {
   "cell_type": "code",
   "execution_count": 36,
   "id": "56461958",
   "metadata": {},
   "outputs": [
    {
     "data": {
      "application/vnd.plotly.v1+json": {
       "config": {
        "plotlyServerURL": "https://plot.ly"
       },
       "data": [
        {
         "line": {
          "color": "red",
          "width": 2
         },
         "marker": {
          "size": 4
         },
         "mode": "lines",
         "name": "SSERR",
         "type": "scatter",
         "x": {
          "bdata": "5XqTdOHZ778OpFzfYZD+v1o5xcwiggjAhyoaLD65EcB0iTpqcUEXwHgDQeFcTRzADOfJoD89IcCFgYMOWXgkwNg+XNU7vyfAOIvQQsELK8D8xI7hj1suwBqSIte/1jDA6xJaI0aUMsD5UtWReLw0wKAzAOH19TbA9zYOptY1OcBCtK8U5Hg7wNwzb+7MvT3A2J6jpvIBQMDc6BRKYyVBwPQdzysWSULAP720wvJsQ8CSGrik5pBEwPnfzKPjtEXAiHMKuN7YRsAINhRXz/xHwKmB3AqvIEnA0tvIsMhESsA9DtW+V2pLwG0K/tQskEzA2ttXCEy2TcDhRy5vutxOwIXjIRS/AVDAh6hTM0+VUMAfLqnAESlRwBhw/4ILvVHAxmBo50FRUsA9q0YNu+VSwNEEmdN9elPA4chl55EPVMCAkT3T/6RUwD/szw/ROlXAyImQFRDRVcCOoW1vyGdWwDfumc4G/1bAMMNtH9mWV8CnWWOfTi9YwLyoMvR3yFjAf9sQRGdiWcA87RZPMP1ZwMHT0YnomFrAXjn9OKc1W8DY02eOhdNbwNXi/caeclzA2GTzSRATXcBk4gPJ+bRdwCFWuWF9WF7AZommv7/9XsBKdXs/6KRfwOeVaYkQJ2DA",
          "dtype": "f8"
         },
         "xaxis": "x2",
         "y": {
          "bdata": "AAAAAABwp0AAAAAAAAynQAAAAAAAqKZAAAAAAABEpkAAAAAAAOClQAAAAAAAfKVAAAAAAAAYpUAAAAAAALSkQAAAAAAAUKRAAAAAAADso0AAAAAAAIijQAAAAAAAJKNAAAAAAADAokAAAAAAAFyiQAAAAAAA+KFAAAAAAACUoUAAAAAAADChQAAAAAAAzKBAAAAAAABooEAAAAAAAASgQAAAAAAAQJ9AAAAAAAB4nkAAAAAAALCdQAAAAAAA6JxAAAAAAAAgnEAAAAAAAFibQAAAAAAAkJpAAAAAAADImUAAAAAAAACZQAAAAAAAOJhAAAAAAABwl0AAAAAAAKiWQAAAAAAA4JVAAAAAAAAYlUAAAAAAAFCUQAAAAAAAiJNAAAAAAADAkkAAAAAAAPiRQAAAAAAAMJFAAAAAAABokEAAAAAAAECPQAAAAAAAsI1AAAAAAAAgjEAAAAAAAJCKQAAAAAAAAIlAAAAAAABwh0AAAAAAAOCFQAAAAAAAUIRAAAAAAADAgkAAAAAAADCBQAAAAAAAQH9AAAAAAAAgfEAAAAAAAAB5QAAAAAAA4HVAAAAAAADAckAAAAAAAEBvQAAAAAAAAGlAAAAAAADAYkAAAAAAAABZQAAAAAAAAElA",
          "dtype": "f8"
         },
         "yaxis": "y"
        },
        {
         "line": {
          "color": "red",
          "width": 2
         },
         "marker": {
          "size": 4
         },
         "mode": "lines",
         "name": "Touchdown Distance",
         "type": "scatter",
         "x": {
          "bdata": "aUAnQeG8fsCp0kWIaeaEwHXzjPF3H4/ABDR4IW4cksAEKWYhCsGUwLJyszih/pXAhtlcv8pum8AQk+3ZagqewBPw+qkJCaDABjSRXbPyoMCSOoQV786hwE3Rf2GHoaLA/Z+QB20WpcBctS09axOnwMCCZZoJTKjAYDaMashCqcBwOZTljSCqwE7c7eMw9arAcJxPxQ7Hq8BgDtvMdpiswABJ/QTvaa3AoYYOeT47rsALhWW16guvwHOpyLNx26/APkPGPLFUsMA1kda0srqwwKo373aeH7HANCuVTqaBscD85BQONtqxwO9YPIknMLLA553f6myDssB+cjx8/dOywJT4CGrUIbPAC8xbx+9ss8CRqGnFT7WzwFNR4Rb2+rPA8X2KduU9tMBK+ARKIX60wFqUxFqtu7TA92GIoI32tMDD1oIZxi61wGbPNK1aZLXAMTOiF0+XtcCUiArbpse1wOvCtzZl9bXAzUrHIY0gtsBaZBFJIUm2wJMnhQ8kb7bAqHt2kJeStsBIGHqjfbO2wKd9g+HX0bbAYIULq6fttsAWthQv7ga3wGzq7XKsHbfAXqecWuMxt8CrPt+xk0O3wAMMvDW+UrfA8PmWnmNft8ByG8mqhGm3wJoiuCkicbfA",
          "dtype": "f8"
         },
         "xaxis": "x3",
         "y": {
          "bdata": "AAAAAABwp0AAAAAAAAynQAAAAAAAqKZAAAAAAABEpkAAAAAAAOClQAAAAAAAfKVAAAAAAAAYpUAAAAAAALSkQAAAAAAAUKRAAAAAAADso0AAAAAAAIijQAAAAAAAJKNAAAAAAADAokAAAAAAAFyiQAAAAAAA+KFAAAAAAACUoUAAAAAAADChQAAAAAAAzKBAAAAAAABooEAAAAAAAASgQAAAAAAAQJ9AAAAAAAB4nkAAAAAAALCdQAAAAAAA6JxAAAAAAAAgnEAAAAAAAFibQAAAAAAAkJpAAAAAAADImUAAAAAAAACZQAAAAAAAOJhAAAAAAABwl0AAAAAAAKiWQAAAAAAA4JVAAAAAAAAYlUAAAAAAAFCUQAAAAAAAiJNAAAAAAADAkkAAAAAAAPiRQAAAAAAAMJFAAAAAAABokEAAAAAAAECPQAAAAAAAsI1AAAAAAAAgjEAAAAAAAJCKQAAAAAAAAIlAAAAAAABwh0AAAAAAAOCFQAAAAAAAUIRAAAAAAADAgkAAAAAAADCBQAAAAAAAQH9AAAAAAAAgfEAAAAAAAAB5QAAAAAAA4HVAAAAAAADAckAAAAAAAEBvQAAAAAAAAGlAAAAAAADAYkAAAAAAAABZQAAAAAAAAElA",
          "dtype": "f8"
         },
         "yaxis": "y"
        },
        {
         "line": {
          "color": "red",
          "width": 2
         },
         "marker": {
          "size": 4
         },
         "mode": "lines",
         "name": "Impact Criterion",
         "type": "scatter",
         "x": {
          "bdata": "vkEHUHJEJcCigr9m+vguwMnKHne5mELAwNJs8cKySMBS+ssZU49NwMJfujEHFlDAjW4wzYPpU8AkdxeU7L5WwPWgmhfEClnAJh+/ApH3WsAbv4DXX5pcwH3doB41/13Acw3dl77nYMC0zVARhxxjwLO2fIdFp2TAtdTq1rDEZcAaBCSNi5NmwLuSIp8CJWfAZj7NujCDZ8DXPrkUSrRnwNr0351svGfAXr3f7mKeZ8BILpdhTFxnwMS0iTbd92bAS1dL1odyZsAIX0dhk81lwIfJbpApCmXA8T08j1spZMArLhEOKCxjwGJdczN9E2LAcZjVUzrgYMALBTlrYiZfwCrfmy1OWlzAKwljH6tdWcDMu8W/1jFWwJPpfVga2FLAccfB/2WjTsDLJOKBRT9HwDrF4ATrDD/AY9hb2M3qLcAAAAAAAAAAgAAAAAAAAACAAAAAAAAAAIAAAAAAAAAAgAAAAAAAAACAAAAAAAAAAIAAAAAAAAAAgAAAAAAAAACAAAAAAAAAAIAAAAAAAAAAgAAAAAAAAACAAAAAAAAAAIAAAAAAAAAAgAAAAAAAAACAAAAAAAAAAIAAAAAAAAAAgAAAAAAAAACAAAAAAAAAAIAAAAAAAAAAgAAAAAAAAACA",
          "dtype": "f8"
         },
         "xaxis": "x4",
         "y": {
          "bdata": "AAAAAABwp0AAAAAAAAynQAAAAAAAqKZAAAAAAABEpkAAAAAAAOClQAAAAAAAfKVAAAAAAAAYpUAAAAAAALSkQAAAAAAAUKRAAAAAAADso0AAAAAAAIijQAAAAAAAJKNAAAAAAADAokAAAAAAAFyiQAAAAAAA+KFAAAAAAACUoUAAAAAAADChQAAAAAAAzKBAAAAAAABooEAAAAAAAASgQAAAAAAAQJ9AAAAAAAB4nkAAAAAAALCdQAAAAAAA6JxAAAAAAAAgnEAAAAAAAFibQAAAAAAAkJpAAAAAAADImUAAAAAAAACZQAAAAAAAOJhAAAAAAABwl0AAAAAAAKiWQAAAAAAA4JVAAAAAAAAYlUAAAAAAAFCUQAAAAAAAiJNAAAAAAADAkkAAAAAAAPiRQAAAAAAAMJFAAAAAAABokEAAAAAAAECPQAAAAAAAsI1AAAAAAAAgjEAAAAAAAJCKQAAAAAAAAIlAAAAAAABwh0AAAAAAAOCFQAAAAAAAUIRAAAAAAADAgkAAAAAAADCBQAAAAAAAQH9AAAAAAAAgfEAAAAAAAAB5QAAAAAAA4HVAAAAAAADAckAAAAAAAEBvQAAAAAAAAGlAAAAAAADAYkAAAAAAAABZQAAAAAAAAElA",
          "dtype": "f8"
         },
         "yaxis": "y"
        },
        {
         "line": {
          "color": "red",
          "width": 2
         },
         "marker": {
          "size": 4
         },
         "mode": "lines",
         "name": "Coupled Criterion",
         "type": "scatter",
         "x": {
          "bdata": "x5W18wslMcDaebjVECg4wEYM2QGRUUvAQDvaOosYUsDvjk0TZsZVwGLnUaa44lfAOlq39MajXcBDaTgs//NgwDAgoH/KuGLArhZqcUM+ZMDya7IzNJFlwCxk1J6yvGbAgT8CsYiwacAOHA/q3/tswKhOSQ9PT2/AfiABEWWDcMAQPh+UpSxxwKd3GJJerXHASHC7XygNcsAMwZgcdFBywAZrmIkVeHLAdNznM5SFcsBJ6K4G3XlywC1gpJZzVXLAEgqodZIYcsBiWLttPcNxwIpkTjdNVXHAwxkFFHTOcMBV9H15Qy5wwEWVU2cB7m7Au0Sl0P1GbcChoFnKwm1rwAruZwoEXWnAWo1s//EXZ8Cy7Te62JVkwALcDo2M0mHAumzBi4ehXcBYp/CG/wVXwElled11kE/AlZna5DhTP8AAAAAAAAAAgAAAAAAAAACAAAAAAAAAAIAAAAAAAAAAgAAAAAAAAACAAAAAAAAAAIAAAAAAAAAAgAAAAAAAAACAAAAAAAAAAIAAAAAAAAAAgAAAAAAAAACAAAAAAAAAAIAAAAAAAAAAgAAAAAAAAACAAAAAAAAAAIAAAAAAAAAAgAAAAAAAAACAAAAAAAAAAIAAAAAAAAAAgAAAAAAAAACA",
          "dtype": "f8"
         },
         "xaxis": "x4",
         "y": {
          "bdata": "AAAAAABwp0AAAAAAAAynQAAAAAAAqKZAAAAAAABEpkAAAAAAAOClQAAAAAAAfKVAAAAAAAAYpUAAAAAAALSkQAAAAAAAUKRAAAAAAADso0AAAAAAAIijQAAAAAAAJKNAAAAAAADAokAAAAAAAFyiQAAAAAAA+KFAAAAAAACUoUAAAAAAADChQAAAAAAAzKBAAAAAAABooEAAAAAAAASgQAAAAAAAQJ9AAAAAAAB4nkAAAAAAALCdQAAAAAAA6JxAAAAAAAAgnEAAAAAAAFibQAAAAAAAkJpAAAAAAADImUAAAAAAAACZQAAAAAAAOJhAAAAAAABwl0AAAAAAAKiWQAAAAAAA4JVAAAAAAAAYlUAAAAAAAFCUQAAAAAAAiJNAAAAAAADAkkAAAAAAAPiRQAAAAAAAMJFAAAAAAABokEAAAAAAAECPQAAAAAAAsI1AAAAAAAAgjEAAAAAAAJCKQAAAAAAAAIlAAAAAAABwh0AAAAAAAOCFQAAAAAAAUIRAAAAAAADAgkAAAAAAADCBQAAAAAAAQH9AAAAAAAAgfEAAAAAAAAB5QAAAAAAA4HVAAAAAAADAckAAAAAAAEBvQAAAAAAAAGlAAAAAAADAYkAAAAAAAABZQAAAAAAAAElA",
          "dtype": "f8"
         },
         "yaxis": "y"
        }
       ],
       "layout": {
        "annotations": [
         {
          "font": {
           "size": 10
          },
          "showarrow": false,
          "text": "2",
          "x": 12,
          "xanchor": "left",
          "y": 20,
          "yanchor": "middle"
         },
         {
          "font": {
           "size": 10
          },
          "showarrow": false,
          "text": "292",
          "x": 48,
          "xanchor": "center",
          "y": 62.5,
          "yanchor": "middle"
         },
         {
          "font": {
           "size": 10
          },
          "showarrow": false,
          "text": "MFcr",
          "x": 80,
          "xanchor": "center",
          "y": 62.5,
          "yanchor": "middle"
         },
         {
          "font": {
           "size": 10
          },
          "showarrow": false,
          "text": "P+",
          "x": 112,
          "xanchor": "center",
          "y": 62.5,
          "yanchor": "middle"
         },
         {
          "font": {
           "size": 10
          },
          "showarrow": false,
          "text": "240",
          "x": 12,
          "xanchor": "left",
          "y": 2400,
          "yanchor": "middle"
         },
         {
          "font": {
           "size": 10
          },
          "showarrow": false,
          "text": "164",
          "x": 48,
          "xanchor": "center",
          "y": 147.5,
          "yanchor": "middle"
         },
         {
          "font": {
           "size": 10
          },
          "showarrow": false,
          "x": 80,
          "xanchor": "center",
          "y": 147.5,
          "yanchor": "middle"
         },
         {
          "font": {
           "size": 10
          },
          "showarrow": false,
          "text": "4F+",
          "x": 112,
          "xanchor": "center",
          "y": 147.5,
          "yanchor": "middle"
         },
         {
          "font": {
           "size": 10
          },
          "showarrow": false,
          "text": "242",
          "x": 12,
          "xanchor": "left",
          "y": 2420,
          "yanchor": "middle"
         },
         {
          "font": {
           "size": 10
          },
          "showarrow": false,
          "text": "209",
          "x": 48,
          "xanchor": "center",
          "y": 232.5,
          "yanchor": "middle"
         },
         {
          "font": {
           "size": 10
          },
          "showarrow": false,
          "text": "DF",
          "x": 80,
          "xanchor": "center",
          "y": 232.5,
          "yanchor": "middle"
         },
         {
          "font": {
           "size": 10
          },
          "showarrow": false,
          "text": "P",
          "x": 112,
          "xanchor": "center",
          "y": 232.5,
          "yanchor": "middle"
         },
         {
          "font": {
           "size": 10
          },
          "showarrow": false,
          "text": "272",
          "x": 12,
          "xanchor": "left",
          "y": 2720,
          "yanchor": "middle"
         },
         {
          "font": {
           "size": 10
          },
          "showarrow": false,
          "text": "137",
          "x": 48,
          "xanchor": "center",
          "y": 317.5,
          "yanchor": "middle"
         },
         {
          "font": {
           "size": 10
          },
          "showarrow": false,
          "text": "DF",
          "x": 80,
          "xanchor": "center",
          "y": 317.5,
          "yanchor": "middle"
         },
         {
          "font": {
           "size": 10
          },
          "showarrow": false,
          "text": "4F",
          "x": 112,
          "xanchor": "center",
          "y": 317.5,
          "yanchor": "middle"
         },
         {
          "font": {
           "size": 10
          },
          "showarrow": false,
          "text": "275",
          "x": 12,
          "xanchor": "left",
          "y": 2750,
          "yanchor": "middle"
         },
         {
          "font": {
           "size": 10
          },
          "showarrow": false,
          "text": "173",
          "x": 48,
          "xanchor": "center",
          "y": 402.5,
          "yanchor": "middle"
         },
         {
          "font": {
           "size": 10
          },
          "showarrow": false,
          "text": "DF",
          "x": 80,
          "xanchor": "center",
          "y": 402.5,
          "yanchor": "middle"
         },
         {
          "font": {
           "size": 10
          },
          "showarrow": false,
          "text": "1F",
          "x": 112,
          "xanchor": "center",
          "y": 402.5,
          "yanchor": "middle"
         },
         {
          "font": {
           "size": 10
          },
          "showarrow": false,
          "text": "292",
          "x": 12,
          "xanchor": "left",
          "y": 2920,
          "yanchor": "middle"
         },
         {
          "font": {
           "size": 10
          },
          "showarrow": false,
          "text": "101",
          "x": 48,
          "xanchor": "center",
          "y": 487.5,
          "yanchor": "middle"
         },
         {
          "font": {
           "size": 10
          },
          "showarrow": false,
          "text": "DF",
          "x": 80,
          "xanchor": "center",
          "y": 487.5,
          "yanchor": "middle"
         },
         {
          "font": {
           "size": 10
          },
          "showarrow": false,
          "text": "F",
          "x": 112,
          "xanchor": "center",
          "y": 487.5,
          "yanchor": "middle"
         },
         {
          "font": {
           "size": 10
          },
          "showarrow": false,
          "text": "302",
          "x": 12,
          "xanchor": "left",
          "y": 3020,
          "yanchor": "middle"
         },
         {
          "font": {
           "size": 10
          },
          "showarrow": false,
          "text": "H",
          "x": 16,
          "xanchor": "center",
          "y": 3171,
          "yanchor": "middle"
         },
         {
          "font": {
           "size": 10
          },
          "showarrow": false,
          "text": "D",
          "x": 48,
          "xanchor": "center",
          "y": 3171,
          "yanchor": "middle"
         },
         {
          "font": {
           "size": 10
          },
          "showarrow": false,
          "text": "F",
          "x": 80,
          "xanchor": "center",
          "y": 3171,
          "yanchor": "middle"
         },
         {
          "font": {
           "size": 10
          },
          "showarrow": false,
          "text": "R",
          "x": 112,
          "xanchor": "center",
          "y": 3171,
          "yanchor": "middle"
         },
         {
          "align": "left",
          "showarrow": false,
          "text": "H – Height (cm)           D – Density (kg/m³)           F – Grain Form           R – Hand Hardness",
          "x": -400,
          "xanchor": "left",
          "y": -52,
          "yanchor": "top"
         }
        ],
        "autosize": true,
        "margin": {
         "b": 40,
         "l": 0,
         "r": 0,
         "t": 40
        },
        "shapes": [
         {
          "fillcolor": "#A5C9D4",
          "layer": "below",
          "line": {
           "color": "#A5C9D4",
           "width": 0.4
          },
          "type": "rect",
          "x0": -292.25,
          "x1": 0,
          "y0": 20,
          "y1": 2400
         },
         {
          "layer": "below",
          "line": {
           "color": "#D3EBEE",
           "width": 1.2
          },
          "type": "line",
          "x0": 0,
          "x1": -292.25,
          "y0": 20,
          "y1": 20
         },
         {
          "layer": "below",
          "line": {
           "color": "#D3EBEE",
           "width": 1.2
          },
          "type": "line",
          "x0": -292.25,
          "x1": -292.25,
          "y0": 20,
          "y1": 2400
         },
         {
          "layer": "below",
          "line": {
           "color": "#FF0000",
           "width": 0.5
          },
          "type": "line",
          "x0": 0,
          "x1": 10,
          "y0": 20,
          "y1": 20
         },
         {
          "layer": "below",
          "line": {
           "color": "lightgrey",
           "width": 0.5
          },
          "type": "line",
          "x0": 32,
          "x1": 128,
          "y0": 20,
          "y1": 20
         },
         {
          "layer": "below",
          "line": {
           "color": "lightgrey",
           "width": 0.5
          },
          "type": "line",
          "x0": 0,
          "x1": 32,
          "y0": 20,
          "y1": 20
         },
         {
          "fillcolor": "#A5C9D4",
          "layer": "below",
          "line": {
           "color": "#A5C9D4",
           "width": 0.4
          },
          "type": "rect",
          "x0": -163.7,
          "x1": 0,
          "y0": 2400,
          "y1": 2420
         },
         {
          "layer": "below",
          "line": {
           "color": "#D3EBEE",
           "width": 1.2
          },
          "type": "line",
          "x0": -292.25,
          "x1": -163.7,
          "y0": 2400,
          "y1": 2400
         },
         {
          "layer": "below",
          "line": {
           "color": "#D3EBEE",
           "width": 1.2
          },
          "type": "line",
          "x0": -163.7,
          "x1": -163.7,
          "y0": 2400,
          "y1": 2420
         },
         {
          "layer": "below",
          "line": {
           "color": "#FF0000",
           "width": 0.5
          },
          "type": "line",
          "x0": 0,
          "x1": 10,
          "y0": 2400,
          "y1": 2400
         },
         {
          "layer": "below",
          "line": {
           "color": "lightgrey",
           "width": 0.5
          },
          "type": "line",
          "x0": 32,
          "x1": 128,
          "y0": 105,
          "y1": 105
         },
         {
          "layer": "below",
          "line": {
           "color": "lightgrey",
           "width": 0.5
          },
          "type": "line",
          "x0": 0,
          "x1": 32,
          "y0": 2400,
          "y1": 105
         },
         {
          "fillcolor": "#A5C9D4",
          "layer": "below",
          "line": {
           "color": "#A5C9D4",
           "width": 0.4
          },
          "type": "rect",
          "x0": -209,
          "x1": 0,
          "y0": 2420,
          "y1": 2720
         },
         {
          "layer": "below",
          "line": {
           "color": "#D3EBEE",
           "width": 1.2
          },
          "type": "line",
          "x0": -163.7,
          "x1": -209,
          "y0": 2420,
          "y1": 2420
         },
         {
          "layer": "below",
          "line": {
           "color": "#D3EBEE",
           "width": 1.2
          },
          "type": "line",
          "x0": -209,
          "x1": -209,
          "y0": 2420,
          "y1": 2720
         },
         {
          "layer": "below",
          "line": {
           "color": "#FF0000",
           "width": 0.5
          },
          "type": "line",
          "x0": 0,
          "x1": 10,
          "y0": 2420,
          "y1": 2420
         },
         {
          "layer": "below",
          "line": {
           "color": "lightgrey",
           "width": 0.5
          },
          "type": "line",
          "x0": 32,
          "x1": 128,
          "y0": 190,
          "y1": 190
         },
         {
          "layer": "below",
          "line": {
           "color": "lightgrey",
           "width": 0.5
          },
          "type": "line",
          "x0": 0,
          "x1": 32,
          "y0": 2420,
          "y1": 190
         },
         {
          "fillcolor": "#A5C9D4",
          "layer": "below",
          "line": {
           "color": "#A5C9D4",
           "width": 0.4
          },
          "type": "rect",
          "x0": -137,
          "x1": 0,
          "y0": 2720,
          "y1": 2750
         },
         {
          "layer": "below",
          "line": {
           "color": "#D3EBEE",
           "width": 1.2
          },
          "type": "line",
          "x0": -209,
          "x1": -137,
          "y0": 2720,
          "y1": 2720
         },
         {
          "layer": "below",
          "line": {
           "color": "#D3EBEE",
           "width": 1.2
          },
          "type": "line",
          "x0": -137,
          "x1": -137,
          "y0": 2720,
          "y1": 2750
         },
         {
          "layer": "below",
          "line": {
           "color": "#FF0000",
           "width": 0.5
          },
          "type": "line",
          "x0": 0,
          "x1": 10,
          "y0": 2720,
          "y1": 2720
         },
         {
          "layer": "below",
          "line": {
           "color": "lightgrey",
           "width": 0.5
          },
          "type": "line",
          "x0": 32,
          "x1": 128,
          "y0": 275,
          "y1": 275
         },
         {
          "layer": "below",
          "line": {
           "color": "lightgrey",
           "width": 0.5
          },
          "type": "line",
          "x0": 0,
          "x1": 32,
          "y0": 2720,
          "y1": 275
         },
         {
          "fillcolor": "#A5C9D4",
          "layer": "below",
          "line": {
           "color": "#A5C9D4",
           "width": 0.4
          },
          "type": "rect",
          "x0": -173,
          "x1": 0,
          "y0": 2750,
          "y1": 2920
         },
         {
          "layer": "below",
          "line": {
           "color": "#D3EBEE",
           "width": 1.2
          },
          "type": "line",
          "x0": -137,
          "x1": -173,
          "y0": 2750,
          "y1": 2750
         },
         {
          "layer": "below",
          "line": {
           "color": "#D3EBEE",
           "width": 1.2
          },
          "type": "line",
          "x0": -173,
          "x1": -173,
          "y0": 2750,
          "y1": 2920
         },
         {
          "layer": "below",
          "line": {
           "color": "#FF0000",
           "width": 0.5
          },
          "type": "line",
          "x0": 0,
          "x1": 10,
          "y0": 2750,
          "y1": 2750
         },
         {
          "layer": "below",
          "line": {
           "color": "lightgrey",
           "width": 0.5
          },
          "type": "line",
          "x0": 32,
          "x1": 128,
          "y0": 360,
          "y1": 360
         },
         {
          "layer": "below",
          "line": {
           "color": "lightgrey",
           "width": 0.5
          },
          "type": "line",
          "x0": 0,
          "x1": 32,
          "y0": 2750,
          "y1": 360
         },
         {
          "fillcolor": "#A5C9D4",
          "layer": "below",
          "line": {
           "color": "#A5C9D4",
           "width": 0.4
          },
          "type": "rect",
          "x0": -101,
          "x1": 0,
          "y0": 2920,
          "y1": 3020
         },
         {
          "layer": "below",
          "line": {
           "color": "#D3EBEE",
           "width": 1.2
          },
          "type": "line",
          "x0": -173,
          "x1": -101,
          "y0": 2920,
          "y1": 2920
         },
         {
          "layer": "below",
          "line": {
           "color": "#D3EBEE",
           "width": 1.2
          },
          "type": "line",
          "x0": -101,
          "x1": -101,
          "y0": 2920,
          "y1": 3020
         },
         {
          "layer": "below",
          "line": {
           "color": "#FF0000",
           "width": 0.5
          },
          "type": "line",
          "x0": 0,
          "x1": 10,
          "y0": 2920,
          "y1": 2920
         },
         {
          "layer": "below",
          "line": {
           "color": "lightgrey",
           "width": 0.5
          },
          "type": "line",
          "x0": 32,
          "x1": 128,
          "y0": 445,
          "y1": 445
         },
         {
          "layer": "below",
          "line": {
           "color": "lightgrey",
           "width": 0.5
          },
          "type": "line",
          "x0": 0,
          "x1": 32,
          "y0": 2920,
          "y1": 445
         },
         {
          "layer": "below",
          "line": {
           "color": "#FF0000",
           "width": 0.5
          },
          "type": "line",
          "x0": 0,
          "x1": 10,
          "y0": 3020,
          "y1": 3020
         },
         {
          "layer": "below",
          "line": {
           "color": "#D3EBEE",
           "width": 1
          },
          "type": "line",
          "x0": -101,
          "x1": 0,
          "y0": 3020,
          "y1": 3020
         },
         {
          "layer": "below",
          "line": {
           "color": "lightgrey",
           "width": 0.5
          },
          "type": "line",
          "x0": 0,
          "x1": -400,
          "y0": 0,
          "y1": 0
         },
         {
          "layer": "below",
          "line": {
           "color": "lightgrey",
           "width": 0.5
          },
          "type": "line",
          "x0": 0,
          "x1": -400,
          "y0": 200,
          "y1": 200
         },
         {
          "layer": "below",
          "line": {
           "color": "lightgrey",
           "width": 0.5
          },
          "type": "line",
          "x0": 0,
          "x1": -400,
          "y0": 400,
          "y1": 400
         },
         {
          "layer": "below",
          "line": {
           "color": "lightgrey",
           "width": 0.5
          },
          "type": "line",
          "x0": 0,
          "x1": -400,
          "y0": 600,
          "y1": 600
         },
         {
          "layer": "below",
          "line": {
           "color": "lightgrey",
           "width": 0.5
          },
          "type": "line",
          "x0": 0,
          "x1": -400,
          "y0": 800,
          "y1": 800
         },
         {
          "layer": "below",
          "line": {
           "color": "lightgrey",
           "width": 0.5
          },
          "type": "line",
          "x0": 0,
          "x1": -400,
          "y0": 1000,
          "y1": 1000
         },
         {
          "layer": "below",
          "line": {
           "color": "lightgrey",
           "width": 0.5
          },
          "type": "line",
          "x0": 0,
          "x1": -400,
          "y0": 1200,
          "y1": 1200
         },
         {
          "layer": "below",
          "line": {
           "color": "lightgrey",
           "width": 0.5
          },
          "type": "line",
          "x0": 0,
          "x1": -400,
          "y0": 1400,
          "y1": 1400
         },
         {
          "layer": "below",
          "line": {
           "color": "lightgrey",
           "width": 0.5
          },
          "type": "line",
          "x0": 0,
          "x1": -400,
          "y0": 1600,
          "y1": 1600
         },
         {
          "layer": "below",
          "line": {
           "color": "lightgrey",
           "width": 0.5
          },
          "type": "line",
          "x0": 0,
          "x1": -400,
          "y0": 1800,
          "y1": 1800
         },
         {
          "layer": "below",
          "line": {
           "color": "lightgrey",
           "width": 0.5
          },
          "type": "line",
          "x0": 0,
          "x1": -400,
          "y0": 2000,
          "y1": 2000
         },
         {
          "layer": "below",
          "line": {
           "color": "lightgrey",
           "width": 0.5
          },
          "type": "line",
          "x0": 0,
          "x1": -400,
          "y0": 2200,
          "y1": 2200
         },
         {
          "layer": "below",
          "line": {
           "color": "lightgrey",
           "width": 0.5
          },
          "type": "line",
          "x0": 0,
          "x1": -400,
          "y0": 2400,
          "y1": 2400
         },
         {
          "layer": "below",
          "line": {
           "color": "lightgrey",
           "width": 0.5
          },
          "type": "line",
          "x0": 0,
          "x1": -400,
          "y0": 2600,
          "y1": 2600
         },
         {
          "layer": "below",
          "line": {
           "color": "lightgrey",
           "width": 0.5
          },
          "type": "line",
          "x0": 0,
          "x1": -400,
          "y0": 2800,
          "y1": 2800
         },
         {
          "layer": "below",
          "line": {
           "color": "lightgrey",
           "width": 0.5
          },
          "type": "line",
          "x0": 0,
          "x1": -400,
          "y0": 3000,
          "y1": 3000
         },
         {
          "layer": "below",
          "line": {
           "color": "#FF0000",
           "width": 1
          },
          "type": "line",
          "x0": 0,
          "x1": 0,
          "y0": 0,
          "y1": 3322.0000000000005
         },
         {
          "layer": "below",
          "line": {
           "color": "lightgrey",
           "width": 0.5
          },
          "type": "line",
          "x0": 32,
          "x1": 32,
          "y0": 20,
          "y1": 3322.0000000000005
         },
         {
          "layer": "below",
          "line": {
           "color": "lightgrey",
           "width": 0.5
          },
          "type": "line",
          "x0": 64,
          "x1": 64,
          "y0": 20,
          "y1": 3322.0000000000005
         },
         {
          "layer": "below",
          "line": {
           "color": "lightgrey",
           "width": 0.5
          },
          "type": "line",
          "x0": 96,
          "x1": 96,
          "y0": 20,
          "y1": 3322.0000000000005
         },
         {
          "layer": "below",
          "line": {
           "color": "lightgrey",
           "width": 0.5
          },
          "type": "line",
          "x0": 0,
          "x1": 128,
          "y0": 3020,
          "y1": 3020
         }
        ],
        "showlegend": false,
        "template": {
         "data": {
          "bar": [
           {
            "error_x": {
             "color": "#2a3f5f"
            },
            "error_y": {
             "color": "#2a3f5f"
            },
            "marker": {
             "line": {
              "color": "#E5ECF6",
              "width": 0.5
             },
             "pattern": {
              "fillmode": "overlay",
              "size": 10,
              "solidity": 0.2
             }
            },
            "type": "bar"
           }
          ],
          "barpolar": [
           {
            "marker": {
             "line": {
              "color": "#E5ECF6",
              "width": 0.5
             },
             "pattern": {
              "fillmode": "overlay",
              "size": 10,
              "solidity": 0.2
             }
            },
            "type": "barpolar"
           }
          ],
          "carpet": [
           {
            "aaxis": {
             "endlinecolor": "#2a3f5f",
             "gridcolor": "white",
             "linecolor": "white",
             "minorgridcolor": "white",
             "startlinecolor": "#2a3f5f"
            },
            "baxis": {
             "endlinecolor": "#2a3f5f",
             "gridcolor": "white",
             "linecolor": "white",
             "minorgridcolor": "white",
             "startlinecolor": "#2a3f5f"
            },
            "type": "carpet"
           }
          ],
          "choropleth": [
           {
            "colorbar": {
             "outlinewidth": 0,
             "ticks": ""
            },
            "type": "choropleth"
           }
          ],
          "contour": [
           {
            "colorbar": {
             "outlinewidth": 0,
             "ticks": ""
            },
            "colorscale": [
             [
              0,
              "#0d0887"
             ],
             [
              0.1111111111111111,
              "#46039f"
             ],
             [
              0.2222222222222222,
              "#7201a8"
             ],
             [
              0.3333333333333333,
              "#9c179e"
             ],
             [
              0.4444444444444444,
              "#bd3786"
             ],
             [
              0.5555555555555556,
              "#d8576b"
             ],
             [
              0.6666666666666666,
              "#ed7953"
             ],
             [
              0.7777777777777778,
              "#fb9f3a"
             ],
             [
              0.8888888888888888,
              "#fdca26"
             ],
             [
              1,
              "#f0f921"
             ]
            ],
            "type": "contour"
           }
          ],
          "contourcarpet": [
           {
            "colorbar": {
             "outlinewidth": 0,
             "ticks": ""
            },
            "type": "contourcarpet"
           }
          ],
          "heatmap": [
           {
            "colorbar": {
             "outlinewidth": 0,
             "ticks": ""
            },
            "colorscale": [
             [
              0,
              "#0d0887"
             ],
             [
              0.1111111111111111,
              "#46039f"
             ],
             [
              0.2222222222222222,
              "#7201a8"
             ],
             [
              0.3333333333333333,
              "#9c179e"
             ],
             [
              0.4444444444444444,
              "#bd3786"
             ],
             [
              0.5555555555555556,
              "#d8576b"
             ],
             [
              0.6666666666666666,
              "#ed7953"
             ],
             [
              0.7777777777777778,
              "#fb9f3a"
             ],
             [
              0.8888888888888888,
              "#fdca26"
             ],
             [
              1,
              "#f0f921"
             ]
            ],
            "type": "heatmap"
           }
          ],
          "histogram": [
           {
            "marker": {
             "pattern": {
              "fillmode": "overlay",
              "size": 10,
              "solidity": 0.2
             }
            },
            "type": "histogram"
           }
          ],
          "histogram2d": [
           {
            "colorbar": {
             "outlinewidth": 0,
             "ticks": ""
            },
            "colorscale": [
             [
              0,
              "#0d0887"
             ],
             [
              0.1111111111111111,
              "#46039f"
             ],
             [
              0.2222222222222222,
              "#7201a8"
             ],
             [
              0.3333333333333333,
              "#9c179e"
             ],
             [
              0.4444444444444444,
              "#bd3786"
             ],
             [
              0.5555555555555556,
              "#d8576b"
             ],
             [
              0.6666666666666666,
              "#ed7953"
             ],
             [
              0.7777777777777778,
              "#fb9f3a"
             ],
             [
              0.8888888888888888,
              "#fdca26"
             ],
             [
              1,
              "#f0f921"
             ]
            ],
            "type": "histogram2d"
           }
          ],
          "histogram2dcontour": [
           {
            "colorbar": {
             "outlinewidth": 0,
             "ticks": ""
            },
            "colorscale": [
             [
              0,
              "#0d0887"
             ],
             [
              0.1111111111111111,
              "#46039f"
             ],
             [
              0.2222222222222222,
              "#7201a8"
             ],
             [
              0.3333333333333333,
              "#9c179e"
             ],
             [
              0.4444444444444444,
              "#bd3786"
             ],
             [
              0.5555555555555556,
              "#d8576b"
             ],
             [
              0.6666666666666666,
              "#ed7953"
             ],
             [
              0.7777777777777778,
              "#fb9f3a"
             ],
             [
              0.8888888888888888,
              "#fdca26"
             ],
             [
              1,
              "#f0f921"
             ]
            ],
            "type": "histogram2dcontour"
           }
          ],
          "mesh3d": [
           {
            "colorbar": {
             "outlinewidth": 0,
             "ticks": ""
            },
            "type": "mesh3d"
           }
          ],
          "parcoords": [
           {
            "line": {
             "colorbar": {
              "outlinewidth": 0,
              "ticks": ""
             }
            },
            "type": "parcoords"
           }
          ],
          "pie": [
           {
            "automargin": true,
            "type": "pie"
           }
          ],
          "scatter": [
           {
            "fillpattern": {
             "fillmode": "overlay",
             "size": 10,
             "solidity": 0.2
            },
            "type": "scatter"
           }
          ],
          "scatter3d": [
           {
            "line": {
             "colorbar": {
              "outlinewidth": 0,
              "ticks": ""
             }
            },
            "marker": {
             "colorbar": {
              "outlinewidth": 0,
              "ticks": ""
             }
            },
            "type": "scatter3d"
           }
          ],
          "scattercarpet": [
           {
            "marker": {
             "colorbar": {
              "outlinewidth": 0,
              "ticks": ""
             }
            },
            "type": "scattercarpet"
           }
          ],
          "scattergeo": [
           {
            "marker": {
             "colorbar": {
              "outlinewidth": 0,
              "ticks": ""
             }
            },
            "type": "scattergeo"
           }
          ],
          "scattergl": [
           {
            "marker": {
             "colorbar": {
              "outlinewidth": 0,
              "ticks": ""
             }
            },
            "type": "scattergl"
           }
          ],
          "scattermap": [
           {
            "marker": {
             "colorbar": {
              "outlinewidth": 0,
              "ticks": ""
             }
            },
            "type": "scattermap"
           }
          ],
          "scattermapbox": [
           {
            "marker": {
             "colorbar": {
              "outlinewidth": 0,
              "ticks": ""
             }
            },
            "type": "scattermapbox"
           }
          ],
          "scatterpolar": [
           {
            "marker": {
             "colorbar": {
              "outlinewidth": 0,
              "ticks": ""
             }
            },
            "type": "scatterpolar"
           }
          ],
          "scatterpolargl": [
           {
            "marker": {
             "colorbar": {
              "outlinewidth": 0,
              "ticks": ""
             }
            },
            "type": "scatterpolargl"
           }
          ],
          "scatterternary": [
           {
            "marker": {
             "colorbar": {
              "outlinewidth": 0,
              "ticks": ""
             }
            },
            "type": "scatterternary"
           }
          ],
          "surface": [
           {
            "colorbar": {
             "outlinewidth": 0,
             "ticks": ""
            },
            "colorscale": [
             [
              0,
              "#0d0887"
             ],
             [
              0.1111111111111111,
              "#46039f"
             ],
             [
              0.2222222222222222,
              "#7201a8"
             ],
             [
              0.3333333333333333,
              "#9c179e"
             ],
             [
              0.4444444444444444,
              "#bd3786"
             ],
             [
              0.5555555555555556,
              "#d8576b"
             ],
             [
              0.6666666666666666,
              "#ed7953"
             ],
             [
              0.7777777777777778,
              "#fb9f3a"
             ],
             [
              0.8888888888888888,
              "#fdca26"
             ],
             [
              1,
              "#f0f921"
             ]
            ],
            "type": "surface"
           }
          ],
          "table": [
           {
            "cells": {
             "fill": {
              "color": "#EBF0F8"
             },
             "line": {
              "color": "white"
             }
            },
            "header": {
             "fill": {
              "color": "#C8D4E3"
             },
             "line": {
              "color": "white"
             }
            },
            "type": "table"
           }
          ]
         },
         "layout": {
          "annotationdefaults": {
           "arrowcolor": "#2a3f5f",
           "arrowhead": 0,
           "arrowwidth": 1
          },
          "autotypenumbers": "strict",
          "coloraxis": {
           "colorbar": {
            "outlinewidth": 0,
            "ticks": ""
           }
          },
          "colorscale": {
           "diverging": [
            [
             0,
             "#8e0152"
            ],
            [
             0.1,
             "#c51b7d"
            ],
            [
             0.2,
             "#de77ae"
            ],
            [
             0.3,
             "#f1b6da"
            ],
            [
             0.4,
             "#fde0ef"
            ],
            [
             0.5,
             "#f7f7f7"
            ],
            [
             0.6,
             "#e6f5d0"
            ],
            [
             0.7,
             "#b8e186"
            ],
            [
             0.8,
             "#7fbc41"
            ],
            [
             0.9,
             "#4d9221"
            ],
            [
             1,
             "#276419"
            ]
           ],
           "sequential": [
            [
             0,
             "#0d0887"
            ],
            [
             0.1111111111111111,
             "#46039f"
            ],
            [
             0.2222222222222222,
             "#7201a8"
            ],
            [
             0.3333333333333333,
             "#9c179e"
            ],
            [
             0.4444444444444444,
             "#bd3786"
            ],
            [
             0.5555555555555556,
             "#d8576b"
            ],
            [
             0.6666666666666666,
             "#ed7953"
            ],
            [
             0.7777777777777778,
             "#fb9f3a"
            ],
            [
             0.8888888888888888,
             "#fdca26"
            ],
            [
             1,
             "#f0f921"
            ]
           ],
           "sequentialminus": [
            [
             0,
             "#0d0887"
            ],
            [
             0.1111111111111111,
             "#46039f"
            ],
            [
             0.2222222222222222,
             "#7201a8"
            ],
            [
             0.3333333333333333,
             "#9c179e"
            ],
            [
             0.4444444444444444,
             "#bd3786"
            ],
            [
             0.5555555555555556,
             "#d8576b"
            ],
            [
             0.6666666666666666,
             "#ed7953"
            ],
            [
             0.7777777777777778,
             "#fb9f3a"
            ],
            [
             0.8888888888888888,
             "#fdca26"
            ],
            [
             1,
             "#f0f921"
            ]
           ]
          },
          "colorway": [
           "#636efa",
           "#EF553B",
           "#00cc96",
           "#ab63fa",
           "#FFA15A",
           "#19d3f3",
           "#FF6692",
           "#B6E880",
           "#FF97FF",
           "#FECB52"
          ],
          "font": {
           "color": "#2a3f5f"
          },
          "geo": {
           "bgcolor": "white",
           "lakecolor": "white",
           "landcolor": "#E5ECF6",
           "showlakes": true,
           "showland": true,
           "subunitcolor": "white"
          },
          "hoverlabel": {
           "align": "left"
          },
          "hovermode": "closest",
          "mapbox": {
           "style": "light"
          },
          "paper_bgcolor": "white",
          "plot_bgcolor": "#E5ECF6",
          "polar": {
           "angularaxis": {
            "gridcolor": "white",
            "linecolor": "white",
            "ticks": ""
           },
           "bgcolor": "#E5ECF6",
           "radialaxis": {
            "gridcolor": "white",
            "linecolor": "white",
            "ticks": ""
           }
          },
          "scene": {
           "xaxis": {
            "backgroundcolor": "#E5ECF6",
            "gridcolor": "white",
            "gridwidth": 2,
            "linecolor": "white",
            "showbackground": true,
            "ticks": "",
            "zerolinecolor": "white"
           },
           "yaxis": {
            "backgroundcolor": "#E5ECF6",
            "gridcolor": "white",
            "gridwidth": 2,
            "linecolor": "white",
            "showbackground": true,
            "ticks": "",
            "zerolinecolor": "white"
           },
           "zaxis": {
            "backgroundcolor": "#E5ECF6",
            "gridcolor": "white",
            "gridwidth": 2,
            "linecolor": "white",
            "showbackground": true,
            "ticks": "",
            "zerolinecolor": "white"
           }
          },
          "shapedefaults": {
           "line": {
            "color": "#2a3f5f"
           }
          },
          "ternary": {
           "aaxis": {
            "gridcolor": "white",
            "linecolor": "white",
            "ticks": ""
           },
           "baxis": {
            "gridcolor": "white",
            "linecolor": "white",
            "ticks": ""
           },
           "bgcolor": "#E5ECF6",
           "caxis": {
            "gridcolor": "white",
            "linecolor": "white",
            "ticks": ""
           }
          },
          "title": {
           "x": 0.05
          },
          "xaxis": {
           "automargin": true,
           "gridcolor": "white",
           "linecolor": "white",
           "ticks": "",
           "title": {
            "standoff": 15
           },
           "zerolinecolor": "white",
           "zerolinewidth": 2
          },
          "yaxis": {
           "automargin": true,
           "gridcolor": "white",
           "linecolor": "white",
           "ticks": "",
           "title": {
            "standoff": 15
           },
           "zerolinecolor": "white",
           "zerolinewidth": 2
          }
         }
        },
        "xaxis": {
         "autorange": false,
         "range": [
          -420,
          128
         ],
         "tickvals": []
        },
        "xaxis2": {
         "autorange": false,
         "range": [
          135.68180708077705,
          128
         ],
         "tickvals": []
        },
        "xaxis3": {
         "autorange": false,
         "range": [
          6301.190121539946,
          128
         ],
         "tickvals": []
        },
        "xaxis4": {
         "autorange": false,
         "range": [
          311.16611642932224,
          128
         ],
         "tickvals": []
        },
        "yaxis": {
         "range": [
          -52.5,
          3322.0000000000005
         ],
         "showgrid": false,
         "tickvals": [],
         "zeroline": false
        }
       }
      }
     },
     "metadata": {},
     "output_type": "display_data"
    }
   ],
   "source": [
    "import pandas as pd\n",
    "\n",
    "dataframe = pd.DataFrame(data_rows)\n",
    "snow_profile(weaklayer=plot_weaklayer, layers=plot_layers, dataframe=dataframe)"
   ]
  },
  {
   "cell_type": "code",
   "execution_count": 37,
   "id": "9d4978f5",
   "metadata": {},
   "outputs": [
    {
     "data": {
      "application/vnd.plotly.v1+json": {
       "config": {
        "plotlyServerURL": "https://plot.ly"
       },
       "data": [
        {
         "line": {
          "color": "blue",
          "width": 3
         },
         "marker": {
          "color": "blue",
          "size": 6
         },
         "mode": "lines+markers",
         "name": "SSERR",
         "type": "scatter",
         "x": {
          "bdata": "FMpwgrz8oD8H4Kj/AE2wP3GB9GJpJLo/oXGkyLnnwj/z57XXVs7IPyt7ZxJjMM4/623oEXdj0j8Web9TtNXVP5HLyBaEVNk/Kz+rrVbZ3D+X8RhF1TDgP4JGi/Yh9uE/PyVx4VvR4z89FGx5Xh7mPzNZIhLTfeg/GbKXKBjk6j9GwBAWwE3tP7eddiBjue8/otwD9iQT8T/abziCA0ryPyZTQ7cogfM/ZVJJaXq49D/Pk/fz5O/1P+fuQDdZJ/c/1RT6bste+D/mfQR/Mpb5PxtXDYOHzfo/JJUrVhoF/D+5lzh2Oz79P5aCl0mnd/4/+mEIK2Kx/z+aatTDuHUAQBZZV/PtEgFA9uYDe1SwAUBDQoHN8E0CQLOZMgPI6wJAfqvE5d+JA0AfLhj9PigEQCMFcJ3sxgRAZ/jS9vBlBUCaAZclVQUGQP/7EEQjpQZAXvlmfWZFB0CpAYYhK+YHQOXKPbp+hwhAiSWGIXApCUDDgfKYD8wJQHMrWOJubwpAzJSrWaETC0CEdBgQvLgLQEVIV+jVXgxAQk5BtAcGDUAJ86FTbK4NQAUDQtQgWA5A5sAlk0QDD0CeE/Ne+a8PQO8tuM0xLxBAe3wDM1WHEEB9LZfde+AQQMN9Tk68OhFA",
          "dtype": "f8"
         },
         "xaxis": "x",
         "y": {
          "bdata": "AAAAAAAASUAAAAAAAABZQAAAAAAAwGJAAAAAAAAAaUAAAAAAAEBvQAAAAAAAwHJAAAAAAADgdUAAAAAAAAB5QAAAAAAAIHxAAAAAAABAf0AAAAAAADCBQAAAAAAAwIJAAAAAAABQhEAAAAAAAOCFQAAAAAAAcIdAAAAAAAAAiUAAAAAAAJCKQAAAAAAAIIxAAAAAAACwjUAAAAAAAECPQAAAAAAAaJBAAAAAAAAwkUAAAAAAAPiRQAAAAAAAwJJAAAAAAACIk0AAAAAAAFCUQAAAAAAAGJVAAAAAAADglUAAAAAAAKiWQAAAAAAAcJdAAAAAAAA4mEAAAAAAAACZQAAAAAAAyJlAAAAAAACQmkAAAAAAAFibQAAAAAAAIJxAAAAAAADonEAAAAAAALCdQAAAAAAAeJ5AAAAAAABAn0AAAAAAAASgQAAAAAAAaKBAAAAAAADMoEAAAAAAADChQAAAAAAAlKFAAAAAAAD4oUAAAAAAAFyiQAAAAAAAwKJAAAAAAAAko0AAAAAAAIijQAAAAAAA7KNAAAAAAABQpEAAAAAAALSkQAAAAAAAGKVAAAAAAAB8pUAAAAAAAOClQAAAAAAARKZAAAAAAACopkAAAAAAAAynQAAAAAAAcKdA",
          "dtype": "f8"
         }
        },
        {
         "line": {
          "color": "orange",
          "width": 3
         },
         "marker": {
          "color": "orange",
          "size": 6
         },
         "mode": "lines+markers",
         "name": "Coupled Criterion",
         "type": "scatter",
         "x": {
          "bdata": "Hnf8v69UF0BZwSwDBo8QQJlLNPq3SP0/h91llL8a9j8QCUdHpF7yPzf0vbEYv/A/S49HjKP96j+32BxXMJjnP4DDIEOMXeU/BJmfEHzC4z9HZ74x84viP93WPgunl+E/GA4FIhok3z9O5kzQ/pnbP2Qj+DwVjdk/shjerBM52D8pNKmvXErXP4QAUMDDoNY/z07Y6LAo1j+AXoSWRNfVP8uty/VmqNU/vMm7XZ+Y1T+qRewHUabVP5b2w1tQ0dU/Lsedv7Ya1j8IX3hS54TWP/Zpswm8E9c/3eSATOXM1z/kf4JAhbjYPwSn5il33dk/Ltuali1T2z+BqC76nSrdP0kEoDilit8/CVv8IiRS4T9+rIkMam7jP8l4zGePceY/IiD7r6//6j948M2fpF/xPyo0DNlXWPk/qQYIEeSJCUAAAAAAAADwfwAAAAAAAPB/AAAAAAAA8H8AAAAAAADwfwAAAAAAAPB/AAAAAAAA8H8AAAAAAADwfwAAAAAAAPB/AAAAAAAA8H8AAAAAAADwfwAAAAAAAPB/AAAAAAAA8H8AAAAAAADwfwAAAAAAAPB/AAAAAAAA8H8AAAAAAADwfwAAAAAAAPB/AAAAAAAA8H8AAAAAAADwfwAAAAAAAPB/",
          "dtype": "f8"
         },
         "xaxis": "x3",
         "y": {
          "bdata": "AAAAAAAASUAAAAAAAABZQAAAAAAAwGJAAAAAAAAAaUAAAAAAAEBvQAAAAAAAwHJAAAAAAADgdUAAAAAAAAB5QAAAAAAAIHxAAAAAAABAf0AAAAAAADCBQAAAAAAAwIJAAAAAAABQhEAAAAAAAOCFQAAAAAAAcIdAAAAAAAAAiUAAAAAAAJCKQAAAAAAAIIxAAAAAAACwjUAAAAAAAECPQAAAAAAAaJBAAAAAAAAwkUAAAAAAAPiRQAAAAAAAwJJAAAAAAACIk0AAAAAAAFCUQAAAAAAAGJVAAAAAAADglUAAAAAAAKiWQAAAAAAAcJdAAAAAAAA4mEAAAAAAAACZQAAAAAAAyJlAAAAAAACQmkAAAAAAAFibQAAAAAAAIJxAAAAAAADonEAAAAAAALCdQAAAAAAAeJ5AAAAAAABAn0AAAAAAAASgQAAAAAAAaKBAAAAAAADMoEAAAAAAADChQAAAAAAAlKFAAAAAAAD4oUAAAAAAAFyiQAAAAAAAwKJAAAAAAAAko0AAAAAAAIijQAAAAAAA7KNAAAAAAABQpEAAAAAAALSkQAAAAAAAGKVAAAAAAAB8pUAAAAAAAOClQAAAAAAARKZAAAAAAACopkAAAAAAAAynQAAAAAAAcKdA",
          "dtype": "f8"
         }
        }
       ],
       "layout": {
        "annotations": [
         {
          "font": {
           "color": "black",
           "size": 14
          },
          "showarrow": false,
          "text": "Weak Layer Depth (cm)",
          "textangle": -90,
          "x": -0.05,
          "xanchor": "center",
          "xref": "paper",
          "y": 0.6,
          "yanchor": "middle",
          "yref": "paper"
         },
         {
          "font": {
           "color": "blue",
           "size": 12
          },
          "showarrow": false,
          "text": "SSERR (J/m²)",
          "x": 0.5,
          "xanchor": "center",
          "xref": "paper",
          "y": 0.2,
          "yanchor": "bottom",
          "yref": "paper"
         },
         {
          "font": {
           "color": "green",
           "size": 12
          },
          "showarrow": false,
          "text": "Critical Weight (kg)",
          "x": 0.5,
          "xanchor": "center",
          "xref": "paper",
          "y": 0.1,
          "yanchor": "bottom",
          "yref": "paper"
         }
        ],
        "height": 600,
        "legend": {
         "bgcolor": "rgba(255,255,255,0.8)",
         "bordercolor": "black",
         "borderwidth": 1,
         "x": 1.02,
         "y": 1
        },
        "paper_bgcolor": "white",
        "plot_bgcolor": "white",
        "showlegend": true,
        "template": {
         "data": {
          "bar": [
           {
            "error_x": {
             "color": "#2a3f5f"
            },
            "error_y": {
             "color": "#2a3f5f"
            },
            "marker": {
             "line": {
              "color": "#E5ECF6",
              "width": 0.5
             },
             "pattern": {
              "fillmode": "overlay",
              "size": 10,
              "solidity": 0.2
             }
            },
            "type": "bar"
           }
          ],
          "barpolar": [
           {
            "marker": {
             "line": {
              "color": "#E5ECF6",
              "width": 0.5
             },
             "pattern": {
              "fillmode": "overlay",
              "size": 10,
              "solidity": 0.2
             }
            },
            "type": "barpolar"
           }
          ],
          "carpet": [
           {
            "aaxis": {
             "endlinecolor": "#2a3f5f",
             "gridcolor": "white",
             "linecolor": "white",
             "minorgridcolor": "white",
             "startlinecolor": "#2a3f5f"
            },
            "baxis": {
             "endlinecolor": "#2a3f5f",
             "gridcolor": "white",
             "linecolor": "white",
             "minorgridcolor": "white",
             "startlinecolor": "#2a3f5f"
            },
            "type": "carpet"
           }
          ],
          "choropleth": [
           {
            "colorbar": {
             "outlinewidth": 0,
             "ticks": ""
            },
            "type": "choropleth"
           }
          ],
          "contour": [
           {
            "colorbar": {
             "outlinewidth": 0,
             "ticks": ""
            },
            "colorscale": [
             [
              0,
              "#0d0887"
             ],
             [
              0.1111111111111111,
              "#46039f"
             ],
             [
              0.2222222222222222,
              "#7201a8"
             ],
             [
              0.3333333333333333,
              "#9c179e"
             ],
             [
              0.4444444444444444,
              "#bd3786"
             ],
             [
              0.5555555555555556,
              "#d8576b"
             ],
             [
              0.6666666666666666,
              "#ed7953"
             ],
             [
              0.7777777777777778,
              "#fb9f3a"
             ],
             [
              0.8888888888888888,
              "#fdca26"
             ],
             [
              1,
              "#f0f921"
             ]
            ],
            "type": "contour"
           }
          ],
          "contourcarpet": [
           {
            "colorbar": {
             "outlinewidth": 0,
             "ticks": ""
            },
            "type": "contourcarpet"
           }
          ],
          "heatmap": [
           {
            "colorbar": {
             "outlinewidth": 0,
             "ticks": ""
            },
            "colorscale": [
             [
              0,
              "#0d0887"
             ],
             [
              0.1111111111111111,
              "#46039f"
             ],
             [
              0.2222222222222222,
              "#7201a8"
             ],
             [
              0.3333333333333333,
              "#9c179e"
             ],
             [
              0.4444444444444444,
              "#bd3786"
             ],
             [
              0.5555555555555556,
              "#d8576b"
             ],
             [
              0.6666666666666666,
              "#ed7953"
             ],
             [
              0.7777777777777778,
              "#fb9f3a"
             ],
             [
              0.8888888888888888,
              "#fdca26"
             ],
             [
              1,
              "#f0f921"
             ]
            ],
            "type": "heatmap"
           }
          ],
          "histogram": [
           {
            "marker": {
             "pattern": {
              "fillmode": "overlay",
              "size": 10,
              "solidity": 0.2
             }
            },
            "type": "histogram"
           }
          ],
          "histogram2d": [
           {
            "colorbar": {
             "outlinewidth": 0,
             "ticks": ""
            },
            "colorscale": [
             [
              0,
              "#0d0887"
             ],
             [
              0.1111111111111111,
              "#46039f"
             ],
             [
              0.2222222222222222,
              "#7201a8"
             ],
             [
              0.3333333333333333,
              "#9c179e"
             ],
             [
              0.4444444444444444,
              "#bd3786"
             ],
             [
              0.5555555555555556,
              "#d8576b"
             ],
             [
              0.6666666666666666,
              "#ed7953"
             ],
             [
              0.7777777777777778,
              "#fb9f3a"
             ],
             [
              0.8888888888888888,
              "#fdca26"
             ],
             [
              1,
              "#f0f921"
             ]
            ],
            "type": "histogram2d"
           }
          ],
          "histogram2dcontour": [
           {
            "colorbar": {
             "outlinewidth": 0,
             "ticks": ""
            },
            "colorscale": [
             [
              0,
              "#0d0887"
             ],
             [
              0.1111111111111111,
              "#46039f"
             ],
             [
              0.2222222222222222,
              "#7201a8"
             ],
             [
              0.3333333333333333,
              "#9c179e"
             ],
             [
              0.4444444444444444,
              "#bd3786"
             ],
             [
              0.5555555555555556,
              "#d8576b"
             ],
             [
              0.6666666666666666,
              "#ed7953"
             ],
             [
              0.7777777777777778,
              "#fb9f3a"
             ],
             [
              0.8888888888888888,
              "#fdca26"
             ],
             [
              1,
              "#f0f921"
             ]
            ],
            "type": "histogram2dcontour"
           }
          ],
          "mesh3d": [
           {
            "colorbar": {
             "outlinewidth": 0,
             "ticks": ""
            },
            "type": "mesh3d"
           }
          ],
          "parcoords": [
           {
            "line": {
             "colorbar": {
              "outlinewidth": 0,
              "ticks": ""
             }
            },
            "type": "parcoords"
           }
          ],
          "pie": [
           {
            "automargin": true,
            "type": "pie"
           }
          ],
          "scatter": [
           {
            "fillpattern": {
             "fillmode": "overlay",
             "size": 10,
             "solidity": 0.2
            },
            "type": "scatter"
           }
          ],
          "scatter3d": [
           {
            "line": {
             "colorbar": {
              "outlinewidth": 0,
              "ticks": ""
             }
            },
            "marker": {
             "colorbar": {
              "outlinewidth": 0,
              "ticks": ""
             }
            },
            "type": "scatter3d"
           }
          ],
          "scattercarpet": [
           {
            "marker": {
             "colorbar": {
              "outlinewidth": 0,
              "ticks": ""
             }
            },
            "type": "scattercarpet"
           }
          ],
          "scattergeo": [
           {
            "marker": {
             "colorbar": {
              "outlinewidth": 0,
              "ticks": ""
             }
            },
            "type": "scattergeo"
           }
          ],
          "scattergl": [
           {
            "marker": {
             "colorbar": {
              "outlinewidth": 0,
              "ticks": ""
             }
            },
            "type": "scattergl"
           }
          ],
          "scattermap": [
           {
            "marker": {
             "colorbar": {
              "outlinewidth": 0,
              "ticks": ""
             }
            },
            "type": "scattermap"
           }
          ],
          "scattermapbox": [
           {
            "marker": {
             "colorbar": {
              "outlinewidth": 0,
              "ticks": ""
             }
            },
            "type": "scattermapbox"
           }
          ],
          "scatterpolar": [
           {
            "marker": {
             "colorbar": {
              "outlinewidth": 0,
              "ticks": ""
             }
            },
            "type": "scatterpolar"
           }
          ],
          "scatterpolargl": [
           {
            "marker": {
             "colorbar": {
              "outlinewidth": 0,
              "ticks": ""
             }
            },
            "type": "scatterpolargl"
           }
          ],
          "scatterternary": [
           {
            "marker": {
             "colorbar": {
              "outlinewidth": 0,
              "ticks": ""
             }
            },
            "type": "scatterternary"
           }
          ],
          "surface": [
           {
            "colorbar": {
             "outlinewidth": 0,
             "ticks": ""
            },
            "colorscale": [
             [
              0,
              "#0d0887"
             ],
             [
              0.1111111111111111,
              "#46039f"
             ],
             [
              0.2222222222222222,
              "#7201a8"
             ],
             [
              0.3333333333333333,
              "#9c179e"
             ],
             [
              0.4444444444444444,
              "#bd3786"
             ],
             [
              0.5555555555555556,
              "#d8576b"
             ],
             [
              0.6666666666666666,
              "#ed7953"
             ],
             [
              0.7777777777777778,
              "#fb9f3a"
             ],
             [
              0.8888888888888888,
              "#fdca26"
             ],
             [
              1,
              "#f0f921"
             ]
            ],
            "type": "surface"
           }
          ],
          "table": [
           {
            "cells": {
             "fill": {
              "color": "#EBF0F8"
             },
             "line": {
              "color": "white"
             }
            },
            "header": {
             "fill": {
              "color": "#C8D4E3"
             },
             "line": {
              "color": "white"
             }
            },
            "type": "table"
           }
          ]
         },
         "layout": {
          "annotationdefaults": {
           "arrowcolor": "#2a3f5f",
           "arrowhead": 0,
           "arrowwidth": 1
          },
          "autotypenumbers": "strict",
          "coloraxis": {
           "colorbar": {
            "outlinewidth": 0,
            "ticks": ""
           }
          },
          "colorscale": {
           "diverging": [
            [
             0,
             "#8e0152"
            ],
            [
             0.1,
             "#c51b7d"
            ],
            [
             0.2,
             "#de77ae"
            ],
            [
             0.3,
             "#f1b6da"
            ],
            [
             0.4,
             "#fde0ef"
            ],
            [
             0.5,
             "#f7f7f7"
            ],
            [
             0.6,
             "#e6f5d0"
            ],
            [
             0.7,
             "#b8e186"
            ],
            [
             0.8,
             "#7fbc41"
            ],
            [
             0.9,
             "#4d9221"
            ],
            [
             1,
             "#276419"
            ]
           ],
           "sequential": [
            [
             0,
             "#0d0887"
            ],
            [
             0.1111111111111111,
             "#46039f"
            ],
            [
             0.2222222222222222,
             "#7201a8"
            ],
            [
             0.3333333333333333,
             "#9c179e"
            ],
            [
             0.4444444444444444,
             "#bd3786"
            ],
            [
             0.5555555555555556,
             "#d8576b"
            ],
            [
             0.6666666666666666,
             "#ed7953"
            ],
            [
             0.7777777777777778,
             "#fb9f3a"
            ],
            [
             0.8888888888888888,
             "#fdca26"
            ],
            [
             1,
             "#f0f921"
            ]
           ],
           "sequentialminus": [
            [
             0,
             "#0d0887"
            ],
            [
             0.1111111111111111,
             "#46039f"
            ],
            [
             0.2222222222222222,
             "#7201a8"
            ],
            [
             0.3333333333333333,
             "#9c179e"
            ],
            [
             0.4444444444444444,
             "#bd3786"
            ],
            [
             0.5555555555555556,
             "#d8576b"
            ],
            [
             0.6666666666666666,
             "#ed7953"
            ],
            [
             0.7777777777777778,
             "#fb9f3a"
            ],
            [
             0.8888888888888888,
             "#fdca26"
            ],
            [
             1,
             "#f0f921"
            ]
           ]
          },
          "colorway": [
           "#636efa",
           "#EF553B",
           "#00cc96",
           "#ab63fa",
           "#FFA15A",
           "#19d3f3",
           "#FF6692",
           "#B6E880",
           "#FF97FF",
           "#FECB52"
          ],
          "font": {
           "color": "#2a3f5f"
          },
          "geo": {
           "bgcolor": "white",
           "lakecolor": "white",
           "landcolor": "#E5ECF6",
           "showlakes": true,
           "showland": true,
           "subunitcolor": "white"
          },
          "hoverlabel": {
           "align": "left"
          },
          "hovermode": "closest",
          "mapbox": {
           "style": "light"
          },
          "paper_bgcolor": "white",
          "plot_bgcolor": "#E5ECF6",
          "polar": {
           "angularaxis": {
            "gridcolor": "white",
            "linecolor": "white",
            "ticks": ""
           },
           "bgcolor": "#E5ECF6",
           "radialaxis": {
            "gridcolor": "white",
            "linecolor": "white",
            "ticks": ""
           }
          },
          "scene": {
           "xaxis": {
            "backgroundcolor": "#E5ECF6",
            "gridcolor": "white",
            "gridwidth": 2,
            "linecolor": "white",
            "showbackground": true,
            "ticks": "",
            "zerolinecolor": "white"
           },
           "yaxis": {
            "backgroundcolor": "#E5ECF6",
            "gridcolor": "white",
            "gridwidth": 2,
            "linecolor": "white",
            "showbackground": true,
            "ticks": "",
            "zerolinecolor": "white"
           },
           "zaxis": {
            "backgroundcolor": "#E5ECF6",
            "gridcolor": "white",
            "gridwidth": 2,
            "linecolor": "white",
            "showbackground": true,
            "ticks": "",
            "zerolinecolor": "white"
           }
          },
          "shapedefaults": {
           "line": {
            "color": "#2a3f5f"
           }
          },
          "ternary": {
           "aaxis": {
            "gridcolor": "white",
            "linecolor": "white",
            "ticks": ""
           },
           "baxis": {
            "gridcolor": "white",
            "linecolor": "white",
            "ticks": ""
           },
           "bgcolor": "#E5ECF6",
           "caxis": {
            "gridcolor": "white",
            "linecolor": "white",
            "ticks": ""
           }
          },
          "title": {
           "x": 0.05
          },
          "xaxis": {
           "automargin": true,
           "gridcolor": "white",
           "linecolor": "white",
           "ticks": "",
           "title": {
            "standoff": 15
           },
           "zerolinecolor": "white",
           "zerolinewidth": 2
          },
          "yaxis": {
           "automargin": true,
           "gridcolor": "white",
           "linecolor": "white",
           "ticks": "",
           "title": {
            "standoff": 15
           },
           "zerolinecolor": "white",
           "zerolinewidth": 2
          }
         }
        },
        "title": {
         "font": {
          "color": "black",
          "size": 16
         },
         "text": "Snow Profile Analysis - Multiple Criteria",
         "x": 0.5
        },
        "width": 900,
        "xaxis": {
         "autorange": "reversed",
         "dtick": 25.84415372967182,
         "gridcolor": "lightblue",
         "gridwidth": 1,
         "linecolor": "blue",
         "linewidth": 2,
         "range": [
          0,
          5
         ],
         "showgrid": true,
         "side": "bottom",
         "tick0": 0,
         "tickcolor": "blue",
         "tickfont": {
          "color": "blue",
          "size": 10
         },
         "ticklen": 8,
         "tickmode": "linear",
         "tickwidth": 2,
         "title": {
          "text": ""
         }
        },
        "xaxis3": {
         "anchor": "free",
         "dtick": 37.97765177486705,
         "linecolor": "green",
         "linewidth": 2,
         "overlaying": "x",
         "position": 0.1,
         "range": [
          0,
          null
         ],
         "showgrid": false,
         "side": "bottom",
         "tick0": 0,
         "tickcolor": "green",
         "tickfont": {
          "color": "green",
          "size": 10
         },
         "ticklen": 8,
         "tickmode": "linear",
         "tickwidth": 2,
         "title": {
          "text": ""
         },
         "zeroline": true,
         "zerolinecolor": "green",
         "zerolinewidth": 2
        },
        "yaxis": {
         "autorange": "reversed",
         "domain": [
          0.2,
          1
         ],
         "dtick": 50,
         "gridcolor": "lightgray",
         "gridwidth": 1,
         "showgrid": true,
         "tick0": 0,
         "tickcolor": "black",
         "ticklen": 5,
         "tickmode": "linear",
         "tickwidth": 2,
         "title": {
          "text": ""
         },
         "zeroline": true,
         "zerolinecolor": "gray",
         "zerolinewidth": 2
        }
       }
      }
     },
     "metadata": {},
     "output_type": "display_data"
    }
   ],
   "source": [
    "from plotly_snow_profile import snow_profile_with_data\n",
    "\n",
    "snow_profile_with_data(plot_weaklayer, plot_layers, dataframe)"
   ]
  },
  {
   "cell_type": "code",
   "execution_count": 38,
   "id": "aad32184",
   "metadata": {},
   "outputs": [
    {
     "data": {
      "image/png": "[encoded data removed]",
      "text/plain": [
       "<Figure size 1000x1000 with 1 Axes>"
      ]
     },
     "metadata": {},
     "output_type": "display_data"
    },
    {
     "data": {
      "image/png": "[encoded data removed]",
      "text/plain": [
       "<Figure size 1000x1000 with 1 Axes>"
      ]
     },
     "metadata": {},
     "output_type": "display_data"
    },
    {
     "data": {
      "image/png": "[encoded data removed]",
      "text/plain": [
       "<Figure size 1000x1000 with 1 Axes>"
      ]
     },
     "metadata": {},
     "output_type": "display_data"
    }
   ],
   "source": [
    "import matplotlib.pyplot as plt\n",
    "plt.figure(figsize=(10, 10))\n",
    "plt.plot(dataframe[\"wl_depth\"], dataframe[\"impact_criterion\"], label=\"Impact Criterion\")\n",
    "plt.plot(dataframe[\"wl_depth\"], dataframe[\"coupled_criterion\"], label=\"Coupled Criterion\")\n",
    "# plot vertical lines at the end of each layer\n",
    "for i, height in enumerate(heights):\n",
    "    plt.axvline(x=height, color=\"black\", linestyle=\"--\")\n",
    "plt.legend()\n",
    "plt.show()\n",
    "\n",
    "plt.figure(figsize=(10, 10))\n",
    "plt.plot(dataframe[\"wl_depth\"], dataframe[\"sserr_result\"], label=\"SSERR\")\n",
    "plt.yscale(\"log\")\n",
    "# plt.ylim(0, 4000)\n",
    "plt.legend()\n",
    "plt.show()\n",
    "\n",
    "plt.figure(figsize=(10, 10))\n",
    "plt.plot(dataframe[\"wl_depth\"], dataframe[\"touchdown_distance\"], label=\"Touchdown Distance\")\n",
    "plt.legend()\n",
    "plt.show()"
   ]
  }
 ],
 "metadata": {
  "kernelspec": {
   "display_name": "weac",
   "language": "python",
   "name": "python3"
  },
  "language_info": {
   "codemirror_mode": {
    "name": "ipython",
    "version": 3
   },
   "file_extension": ".py",
   "mimetype": "text/x-python",
   "name": "python",
   "nbconvert_exporter": "python",
   "pygments_lexer": "ipython3",
   "version": "3.10.18"
  }
 },
 "nbformat": 4,
 "nbformat_minor": 5
}
